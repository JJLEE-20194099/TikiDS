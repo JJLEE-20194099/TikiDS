{
 "cells": [
  {
   "cell_type": "code",
   "execution_count": 1,
   "metadata": {},
   "outputs": [],
   "source": [
    "from bs4 import BeautifulSoup\n",
    "import requests\n",
    "from tqdm import tqdm\n",
    "from selenium import webdriver\n",
    "from selenium.webdriver.common.keys import Keys\n",
    "from selenium.webdriver.common.by import By\n",
    "from selenium.webdriver.chrome.service import Service\n",
    "from time import sleep\n",
    "import csv\n",
    "\n",
    "from crawler_utils import Crawler\n"
   ]
  },
  {
   "cell_type": "code",
   "execution_count": 2,
   "metadata": {},
   "outputs": [],
   "source": [
    "options = webdriver.ChromeOptions()\n",
    "options.add_experimental_option(\"detach\", True)\n",
    "options.add_experimental_option('excludeSwitches', ['enable-logging'])\n",
    "s = Service(\"D:\\Download Default\\chromedriver.exe\")\n",
    "driver = webdriver.Chrome(options=options, service=s)\n",
    "driver.maximize_window()\n",
    "crawler = Crawler(driver)\n",
    "driver.get(\"https://tiki.vn/\")"
   ]
  },
  {
   "cell_type": "code",
   "execution_count": 10,
   "metadata": {},
   "outputs": [
    {
     "name": "stdout",
     "output_type": "stream",
     "text": [
      "{'Thịt, rau củ': 'https://tiki.vn/thuc-pham-tuoi-song/c44792', 'Bách Hóa': 'https://tiki.vn/bach-hoa-online/c4384', 'Nhà Cửa': 'https://tiki.vn/nha-cua-doi-song/c1883', 'Thiết Bị Số': 'https://tiki.vn/thiet-bi-kts-phu-kien-so/c1815', 'Điện Thoại': 'https://tiki.vn/dien-thoai-may-tinh-bang/c1789', 'Mẹ & Bé': 'https://tiki.vn/do-choi-me-be/c2549', 'Làm Đẹp': 'https://tiki.vn/lam-dep-suc-khoe/c1520', 'Gia Dụng': 'https://tiki.vn/dien-gia-dung/c1882', 'Thời trang nữ': 'https://tiki.vn/thoi-trang-nu/c931', 'Thời trang nam': 'https://tiki.vn/thoi-trang-nam/c915', 'Giày nữ': 'https://tiki.vn/giay-dep-nu/c1703', 'Túi nữ': 'https://tiki.vn/tui-vi-nu/c976', 'Giày nam': 'https://tiki.vn/giay-dep-nam/c1686', 'Túi nam': 'https://tiki.vn/tui-thoi-trang-nam/c27616', 'Balo & Vali': 'https://tiki.vn/balo-va-vali/c6000', 'Phụ kiện': 'https://tiki.vn/phu-kien-thoi-trang/c27498', 'Đồng hồ': 'https://tiki.vn/dong-ho-va-trang-suc/c8371', 'Laptop': 'https://tiki.vn/laptop-may-vi-tinh-linh-kien/c1846', 'Quốc Tế': 'https://tiki.vn/hang-quoc-te/c17166', 'Voucher': 'https://tiki.vn/voucher-dich-vu/c11312', 'Xe': 'https://tiki.vn/o-to-xe-may-xe-dap/c8594', 'Sách': 'https://tiki.vn/nha-sach-tiki/c8322', 'Điện Tử': 'https://tiki.vn/dien-tu-dien-lanh/c4221', 'Thể Thao': 'https://tiki.vn/the-thao-da-ngoai/c1975', 'Máy Ảnh': 'https://tiki.vn/may-anh/c1801'}\n"
     ]
    }
   ],
   "source": [
    "print(crawler.get_categories_from_home_url(\"https://tiki.vn/\"))"
   ]
  },
  {
   "cell_type": "code",
   "execution_count": null,
   "metadata": {},
   "outputs": [],
   "source": []
  },
  {
   "cell_type": "code",
   "execution_count": 11,
   "metadata": {},
   "outputs": [
    {
     "data": {
      "text/plain": [
       "{'Thời trang nam': ['https://tiki.vn/thoi-trang-nam/c915?page=1'],\n",
       " 'Giày nữ': ['https://tiki.vn/giay-dep-nu/c1703?page=1'],\n",
       " 'Túi nữ': ['https://tiki.vn/tui-vi-nu/c976?page=1'],\n",
       " 'Giày nam': ['https://tiki.vn/giay-dep-nam/c1686?page=1'],\n",
       " 'Túi nam': ['https://tiki.vn/tui-thoi-trang-nam/c27616?page=1'],\n",
       " 'Balo & Vali': ['https://tiki.vn/balo-va-vali/c6000?page=1'],\n",
       " 'Phụ kiện': ['https://tiki.vn/phu-kien-thoi-trang/c27498?page=1'],\n",
       " 'Đồng hồ': ['https://tiki.vn/dong-ho-va-trang-suc/c8371?page=1'],\n",
       " 'Laptop': ['https://tiki.vn/laptop-may-vi-tinh-linh-kien/c1846?page=1'],\n",
       " 'Quốc Tế': ['https://tiki.vn/hang-quoc-te/c17166?page=1'],\n",
       " 'Voucher': ['https://tiki.vn/voucher-dich-vu/c11312?page=1'],\n",
       " 'Xe': ['https://tiki.vn/o-to-xe-may-xe-dap/c8594?page=1'],\n",
       " 'Sách': ['https://tiki.vn/nha-sach-tiki/c8322?page=1'],\n",
       " 'Điện Tử': ['https://tiki.vn/dien-tu-dien-lanh/c4221?page=1'],\n",
       " 'Thể Thao': ['https://tiki.vn/the-thao-da-ngoai/c1975?page=1'],\n",
       " 'Máy Ảnh': ['https://tiki.vn/may-anh/c1801?page=1']}"
      ]
     },
     "execution_count": 11,
     "metadata": {},
     "output_type": "execute_result"
    }
   ],
   "source": [
    "crawler.get_all_page_link_per_category(\"https://tiki.vn/\")"
   ]
  },
  {
   "cell_type": "code",
   "execution_count": 12,
   "metadata": {},
   "outputs": [
    {
     "ename": "KeyboardInterrupt",
     "evalue": "",
     "output_type": "error",
     "traceback": [
      "\u001b[1;31m---------------------------------------------------------------------------\u001b[0m",
      "\u001b[1;31mKeyboardInterrupt\u001b[0m                         Traceback (most recent call last)",
      "\u001b[1;32m~\\AppData\\Local\\Temp/ipykernel_18096/3579988730.py\u001b[0m in \u001b[0;36m<module>\u001b[1;34m\u001b[0m\n\u001b[1;32m----> 1\u001b[1;33m \u001b[0mcrawler\u001b[0m\u001b[1;33m.\u001b[0m\u001b[0mget_content_item_from_item_url\u001b[0m\u001b[1;33m(\u001b[0m\u001b[1;34m\"https://tiki.vn/keo-alpenliebe-huong-dau-kem-phien-ban-cau-chuc-tet-2022--goi-16-thoi--p59599652.html?spid=59599653\"\u001b[0m\u001b[1;33m)\u001b[0m\u001b[1;33m\u001b[0m\u001b[1;33m\u001b[0m\u001b[0m\n\u001b[0m",
      "\u001b[1;32md:\\long.lt20194099\\Python\\Projects\\School\\tiki_analysis\\src\\crawler_utils.py\u001b[0m in \u001b[0;36mget_content_item_from_item_url\u001b[1;34m(self, url)\u001b[0m\n\u001b[0;32m    142\u001b[0m \u001b[1;33m\u001b[0m\u001b[0m\n\u001b[0;32m    143\u001b[0m             \u001b[0mself\u001b[0m\u001b[1;33m.\u001b[0m\u001b[0mdriver\u001b[0m\u001b[1;33m.\u001b[0m\u001b[0mexecute_script\u001b[0m\u001b[1;33m(\u001b[0m\u001b[1;34m\"window.scrollTo(0, window.scrollY + 2000)\"\u001b[0m\u001b[1;33m)\u001b[0m\u001b[1;33m\u001b[0m\u001b[1;33m\u001b[0m\u001b[0m\n\u001b[1;32m--> 144\u001b[1;33m             \u001b[0msleep\u001b[0m\u001b[1;33m(\u001b[0m\u001b[1;36m1\u001b[0m\u001b[1;33m)\u001b[0m\u001b[1;33m\u001b[0m\u001b[1;33m\u001b[0m\u001b[0m\n\u001b[0m\u001b[0;32m    145\u001b[0m             \u001b[0mrating_total\u001b[0m \u001b[1;33m=\u001b[0m \u001b[0mself\u001b[0m\u001b[1;33m.\u001b[0m\u001b[0mdriver\u001b[0m\u001b[1;33m.\u001b[0m\u001b[0mfind_element\u001b[0m\u001b[1;33m(\u001b[0m\u001b[0mBy\u001b[0m\u001b[1;33m.\u001b[0m\u001b[0mCLASS_NAME\u001b[0m\u001b[1;33m,\u001b[0m \u001b[1;34m\"review-rating__total\"\u001b[0m\u001b[1;33m)\u001b[0m\u001b[1;33m.\u001b[0m\u001b[0mtext\u001b[0m\u001b[1;33m\u001b[0m\u001b[1;33m\u001b[0m\u001b[0m\n\u001b[0;32m    146\u001b[0m             \u001b[0msleep\u001b[0m\u001b[1;33m(\u001b[0m\u001b[1;36m1\u001b[0m\u001b[1;33m)\u001b[0m\u001b[1;33m\u001b[0m\u001b[1;33m\u001b[0m\u001b[0m\n",
      "\u001b[1;31mKeyboardInterrupt\u001b[0m: "
     ]
    }
   ],
   "source": [
    "crawler.get_content_item_from_item_url(\"https://tiki.vn/keo-alpenliebe-huong-dau-kem-phien-ban-cau-chuc-tet-2022--goi-16-thoi--p59599652.html?spid=59599653\")"
   ]
  },
  {
   "cell_type": "code",
   "execution_count": 3,
   "metadata": {},
   "outputs": [
    {
     "name": "stdout",
     "output_type": "stream",
     "text": [
      "The history saving thread hit an unexpected error (OperationalError('database or disk is full')).History will not be written to the database.\n",
      "['https://tiki.vn/thuc-pham-tuoi-song/c44792?page=1']\n",
      "None\n"
     ]
    }
   ],
   "source": [
    "print(crawler.raw_dataset(\"https://tiki.vn/\"))"
   ]
  }
 ],
 "metadata": {
  "interpreter": {
   "hash": "ac59ebe37160ed0dfa835113d9b8498d9f09ceb179beaac4002f036b9467c963"
  },
  "kernelspec": {
   "display_name": "Python 3.9.7 64-bit",
   "language": "python",
   "name": "python3"
  },
  "language_info": {
   "codemirror_mode": {
    "name": "ipython",
    "version": 3
   },
   "file_extension": ".py",
   "mimetype": "text/x-python",
   "name": "python",
   "nbconvert_exporter": "python",
   "pygments_lexer": "ipython3",
   "version": "3.9.7"
  },
  "orig_nbformat": 4
 },
 "nbformat": 4,
 "nbformat_minor": 2
}
