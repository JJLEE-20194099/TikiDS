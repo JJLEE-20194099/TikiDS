{
  "cells": [
    {
      "cell_type": "code",
      "execution_count": 1,
      "metadata": {
        "id": "K--ZD-x2lOYT"
      },
      "outputs": [],
      "source": [
        "import tensorflow_datasets as tfds"
      ]
    },
    {
      "cell_type": "code",
      "execution_count": 2,
      "metadata": {
        "id": "ozLvnYM5lkw9"
      },
      "outputs": [],
      "source": [
        "import numpy as np\n",
        "import pandas as pd\n",
        "from os import sep\n",
        "from scipy import sparse;\n",
        "from sklearn.metrics.pairwise import cosine_similarity\n",
        "import matplotlib.pyplot as plt\n",
        "import regex as re\n",
        "import pandas as pd\n",
        "import numpy as np"
      ]
    },
    {
      "cell_type": "code",
      "execution_count": 3,
      "metadata": {
        "id": "XlOVxn1dlyuF"
      },
      "outputs": [],
      "source": [
        "rating_contents = pd.read_csv('./drive/MyDrive/rating_list.csv', sep=',', encoding='utf-8')"
      ]
    },
    {
      "cell_type": "code",
      "execution_count": 4,
      "metadata": {
        "id": "802VxQcWmFPD"
      },
      "outputs": [],
      "source": [
        "rating_contents = rating_contents[['comment', 'rating']]"
      ]
    },
    {
      "cell_type": "code",
      "execution_count": 5,
      "metadata": {
        "colab": {
          "base_uri": "https://localhost:8080/"
        },
        "id": "IZM7w5QPmXOD",
        "outputId": "01f0679b-02cb-426e-c35b-cd20a46a7f68"
      },
      "outputs": [
        {
          "output_type": "stream",
          "name": "stdout",
          "text": [
            "<class 'pandas.core.frame.DataFrame'>\n",
            "RangeIndex: 569772 entries, 0 to 569771\n",
            "Data columns (total 2 columns):\n",
            " #   Column   Non-Null Count   Dtype \n",
            "---  ------   --------------   ----- \n",
            " 0   comment  551730 non-null  object\n",
            " 1   rating   569772 non-null  int64 \n",
            "dtypes: int64(1), object(1)\n",
            "memory usage: 8.7+ MB\n"
          ]
        }
      ],
      "source": [
        "rating_contents.info()"
      ]
    },
    {
      "cell_type": "code",
      "execution_count": 6,
      "metadata": {
        "colab": {
          "base_uri": "https://localhost:8080/"
        },
        "id": "30h9glDEpgva",
        "outputId": "17a20c92-496d-46f1-8daa-a4729b384d5e"
      },
      "outputs": [
        {
          "output_type": "stream",
          "name": "stdout",
          "text": [
            "Requirement already satisfied: pip in /usr/local/lib/python3.7/dist-packages (21.1.3)\n",
            "Collecting pip\n",
            "  Downloading pip-21.3.1-py3-none-any.whl (1.7 MB)\n",
            "\u001b[K     |████████████████████████████████| 1.7 MB 5.0 MB/s \n",
            "\u001b[?25hInstalling collected packages: pip\n",
            "  Attempting uninstall: pip\n",
            "    Found existing installation: pip 21.1.3\n",
            "    Uninstalling pip-21.1.3:\n",
            "      Successfully uninstalled pip-21.1.3\n",
            "Successfully installed pip-21.3.1\n"
          ]
        }
      ],
      "source": [
        "!pip install --upgrade pip"
      ]
    },
    {
      "cell_type": "code",
      "execution_count": 7,
      "metadata": {
        "colab": {
          "base_uri": "https://localhost:8080/"
        },
        "id": "AHmAD-YFAVKX",
        "outputId": "aba612c2-9d94-4d7e-d321-9bc91091c745"
      },
      "outputs": [
        {
          "output_type": "stream",
          "name": "stdout",
          "text": [
            "Collecting underthesea\n",
            "  Downloading underthesea-1.3.3-py3-none-any.whl (7.5 MB)\n",
            "     |████████████████████████████████| 7.5 MB 4.5 MB/s            \n",
            "\u001b[?25hCollecting transformers>=3.5.0\n",
            "  Downloading transformers-4.15.0-py3-none-any.whl (3.4 MB)\n",
            "     |████████████████████████████████| 3.4 MB 38.8 MB/s            \n",
            "\u001b[?25hCollecting unidecode\n",
            "  Downloading Unidecode-1.3.2-py3-none-any.whl (235 kB)\n",
            "     |████████████████████████████████| 235 kB 42.6 MB/s            \n",
            "\u001b[?25hRequirement already satisfied: torch>=1.1.0 in /usr/local/lib/python3.7/dist-packages (from underthesea) (1.10.0+cu111)\n",
            "Requirement already satisfied: nltk in /usr/local/lib/python3.7/dist-packages (from underthesea) (3.2.5)\n",
            "Requirement already satisfied: joblib in /usr/local/lib/python3.7/dist-packages (from underthesea) (1.1.0)\n",
            "Collecting seqeval\n",
            "  Downloading seqeval-1.2.2.tar.gz (43 kB)\n",
            "     |████████████████████████████████| 43 kB 1.0 MB/s             \n",
            "\u001b[?25h  Preparing metadata (setup.py) ... \u001b[?25l\u001b[?25hdone\n",
            "Requirement already satisfied: requests in /usr/local/lib/python3.7/dist-packages (from underthesea) (2.23.0)\n",
            "Requirement already satisfied: Click>=6.0 in /usr/local/lib/python3.7/dist-packages (from underthesea) (7.1.2)\n",
            "Requirement already satisfied: scikit-learn in /usr/local/lib/python3.7/dist-packages (from underthesea) (1.0.1)\n",
            "Requirement already satisfied: tqdm in /usr/local/lib/python3.7/dist-packages (from underthesea) (4.62.3)\n",
            "Collecting python-crfsuite>=0.9.6\n",
            "  Downloading python_crfsuite-0.9.7-cp37-cp37m-manylinux1_x86_64.whl (743 kB)\n",
            "     |████████████████████████████████| 743 kB 40.6 MB/s            \n",
            "\u001b[?25hRequirement already satisfied: PyYAML in /usr/local/lib/python3.7/dist-packages (from underthesea) (3.13)\n",
            "Requirement already satisfied: typing-extensions in /usr/local/lib/python3.7/dist-packages (from torch>=1.1.0->underthesea) (3.10.0.2)\n",
            "Collecting huggingface-hub<1.0,>=0.1.0\n",
            "  Downloading huggingface_hub-0.2.1-py3-none-any.whl (61 kB)\n",
            "     |████████████████████████████████| 61 kB 459 kB/s             \n",
            "\u001b[?25hRequirement already satisfied: regex!=2019.12.17 in /usr/local/lib/python3.7/dist-packages (from transformers>=3.5.0->underthesea) (2019.12.20)\n",
            "Collecting tokenizers<0.11,>=0.10.1\n",
            "  Downloading tokenizers-0.10.3-cp37-cp37m-manylinux_2_5_x86_64.manylinux1_x86_64.manylinux_2_12_x86_64.manylinux2010_x86_64.whl (3.3 MB)\n",
            "     |████████████████████████████████| 3.3 MB 47.8 MB/s            \n",
            "\u001b[?25hRequirement already satisfied: packaging>=20.0 in /usr/local/lib/python3.7/dist-packages (from transformers>=3.5.0->underthesea) (21.3)\n",
            "Collecting PyYAML\n",
            "  Downloading PyYAML-6.0-cp37-cp37m-manylinux_2_5_x86_64.manylinux1_x86_64.manylinux_2_12_x86_64.manylinux2010_x86_64.whl (596 kB)\n",
            "     |████████████████████████████████| 596 kB 49.0 MB/s            \n",
            "\u001b[?25hRequirement already satisfied: filelock in /usr/local/lib/python3.7/dist-packages (from transformers>=3.5.0->underthesea) (3.4.0)\n",
            "Requirement already satisfied: numpy>=1.17 in /usr/local/lib/python3.7/dist-packages (from transformers>=3.5.0->underthesea) (1.19.5)\n",
            "Collecting sacremoses\n",
            "  Downloading sacremoses-0.0.46-py3-none-any.whl (895 kB)\n",
            "     |████████████████████████████████| 895 kB 52.7 MB/s            \n",
            "\u001b[?25hRequirement already satisfied: importlib-metadata in /usr/local/lib/python3.7/dist-packages (from transformers>=3.5.0->underthesea) (4.8.2)\n",
            "Requirement already satisfied: six in /usr/local/lib/python3.7/dist-packages (from nltk->underthesea) (1.15.0)\n",
            "Requirement already satisfied: idna<3,>=2.5 in /usr/local/lib/python3.7/dist-packages (from requests->underthesea) (2.10)\n",
            "Requirement already satisfied: certifi>=2017.4.17 in /usr/local/lib/python3.7/dist-packages (from requests->underthesea) (2021.10.8)\n",
            "Requirement already satisfied: urllib3!=1.25.0,!=1.25.1,<1.26,>=1.21.1 in /usr/local/lib/python3.7/dist-packages (from requests->underthesea) (1.24.3)\n",
            "Requirement already satisfied: chardet<4,>=3.0.2 in /usr/local/lib/python3.7/dist-packages (from requests->underthesea) (3.0.4)\n",
            "Requirement already satisfied: threadpoolctl>=2.0.0 in /usr/local/lib/python3.7/dist-packages (from scikit-learn->underthesea) (3.0.0)\n",
            "Requirement already satisfied: scipy>=1.1.0 in /usr/local/lib/python3.7/dist-packages (from scikit-learn->underthesea) (1.4.1)\n",
            "Requirement already satisfied: pyparsing!=3.0.5,>=2.0.2 in /usr/local/lib/python3.7/dist-packages (from packaging>=20.0->transformers>=3.5.0->underthesea) (3.0.6)\n",
            "Requirement already satisfied: zipp>=0.5 in /usr/local/lib/python3.7/dist-packages (from importlib-metadata->transformers>=3.5.0->underthesea) (3.6.0)\n",
            "Building wheels for collected packages: seqeval\n",
            "  Building wheel for seqeval (setup.py) ... \u001b[?25l\u001b[?25hdone\n",
            "  Created wheel for seqeval: filename=seqeval-1.2.2-py3-none-any.whl size=16181 sha256=05af6175a5b99355ed20d625fbcd8fcdabd26e3f9f80c3a088e6c92b3b436179\n",
            "  Stored in directory: /root/.cache/pip/wheels/05/96/ee/7cac4e74f3b19e3158dce26a20a1c86b3533c43ec72a549fd7\n",
            "Successfully built seqeval\n",
            "Installing collected packages: PyYAML, tokenizers, sacremoses, huggingface-hub, unidecode, transformers, seqeval, python-crfsuite, underthesea\n",
            "  Attempting uninstall: PyYAML\n",
            "    Found existing installation: PyYAML 3.13\n",
            "    Uninstalling PyYAML-3.13:\n",
            "      Successfully uninstalled PyYAML-3.13\n",
            "Successfully installed PyYAML-6.0 huggingface-hub-0.2.1 python-crfsuite-0.9.7 sacremoses-0.0.46 seqeval-1.2.2 tokenizers-0.10.3 transformers-4.15.0 underthesea-1.3.3 unidecode-1.3.2\n",
            "\u001b[33mWARNING: Running pip as the 'root' user can result in broken permissions and conflicting behaviour with the system package manager. It is recommended to use a virtual environment instead: https://pip.pypa.io/warnings/venv\u001b[0m\n"
          ]
        }
      ],
      "source": [
        "!pip install underthesea"
      ]
    },
    {
      "cell_type": "code",
      "execution_count": null,
      "metadata": {
        "id": "oYMYN2jUAXRF"
      },
      "outputs": [],
      "source": [
        "from underthesea import word_tokenize"
      ]
    },
    {
      "cell_type": "code",
      "execution_count": null,
      "metadata": {
        "id": "idBv7h3JAemw"
      },
      "outputs": [],
      "source": [
        "def remove_html(txt):\n",
        "    return re.sub(r'<[^>]*>', '', txt)"
      ]
    },
    {
      "cell_type": "code",
      "execution_count": null,
      "metadata": {
        "colab": {
          "base_uri": "https://localhost:8080/"
        },
        "id": "RvD3sfdmlVEm",
        "outputId": "3cd90826-70f9-49bd-96ca-5783477079ec"
      },
      "outputs": [
        {
          "data": {
            "text/plain": [
              "0         Tiki bán hàng “treo đầu dê bán thịt chó”, đưa ...\n",
              "1         sản phẩm tuyệt với. shipper cũng tuyệt vời. ch...\n",
              "2         sáng nay nhận sữa, 2 mẹ con uống 2 hộp, ói mữa...\n",
              "3         tiki làm  việc  tắc  trách,  tôi  mua sữa  yom...\n",
              "4         Theo mình thấy dùng sưa hộp 1 lit mình thấy ng...\n",
              "                                ...                        \n",
              "569767            thái độ nhân viên vs lễ tân ko vui vẻ lắm\n",
              "569768    Thái độ nhân viên rất tệ. Lâu lâu còn đòi tiền...\n",
              "569769                                                  NaN\n",
              "569770    Mình có mua một mã kích hoạt  \"khóa học Hacker...\n",
              "569771                                                  NaN\n",
              "Name: comment, Length: 569772, dtype: object"
            ]
          },
          "execution_count": 148,
          "metadata": {},
          "output_type": "execute_result"
        }
      ],
      "source": [
        "rating_contents['comment']"
      ]
    },
    {
      "cell_type": "code",
      "execution_count": null,
      "metadata": {
        "id": "zLcaDnP3AkEb"
      },
      "outputs": [],
      "source": [
        "uniChars = \"àáảãạâầấẩẫậăằắẳẵặèéẻẽẹêềếểễệđìíỉĩịòóỏõọôồốổỗộơờớởỡợùúủũụưừứửữựỳýỷỹỵÀÁẢÃẠÂẦẤẨẪẬĂẰẮẲẴẶÈÉẺẼẸÊỀẾỂỄỆĐÌÍỈĨỊÒÓỎÕỌÔỒỐỔỖỘƠỜỚỞỠỢÙÚỦŨỤƯỪỨỬỮỰỲÝỶỸỴÂĂĐÔƠƯ\"\n",
        "unsignChars = \"aaaaaaaaaaaaaaaaaeeeeeeeeeeediiiiiooooooooooooooooouuuuuuuuuuuyyyyyAAAAAAAAAAAAAAAAAEEEEEEEEEEEDIIIOOOOOOOOOOOOOOOOOOOUUUUUUUUUUUYYYYYAADOOU\"\n",
        "def loaddicchar():\n",
        "    dic = {}\n",
        "    char1252 = 'à|á|ả|ã|ạ|ầ|ấ|ẩ|ẫ|ậ|ằ|ắ|ẳ|ẵ|ặ|è|é|ẻ|ẽ|ẹ|ề|ế|ể|ễ|ệ|ì|í|ỉ|ĩ|ị|ò|ó|ỏ|õ|ọ|ồ|ố|ổ|ỗ|ộ|ờ|ớ|ở|ỡ|ợ|ù|ú|ủ|ũ|ụ|ừ|ứ|ử|ữ|ự|ỳ|ý|ỷ|ỹ|ỵ|À|Á|Ả|Ã|Ạ|Ầ|Ấ|Ẩ|Ẫ|Ậ|Ằ|Ắ|Ẳ|Ẵ|Ặ|È|É|Ẻ|Ẽ|Ẹ|Ề|Ế|Ể|Ễ|Ệ|Ì|Í|Ỉ|Ĩ|Ị|Ò|Ó|Ỏ|Õ|Ọ|Ồ|Ố|Ổ|Ỗ|Ộ|Ờ|Ớ|Ở|Ỡ|Ợ|Ù|Ú|Ủ|Ũ|Ụ|Ừ|Ứ|Ử|Ữ|Ự|Ỳ|Ý|Ỷ|Ỹ|Ỵ'.split(\n",
        "        '|')\n",
        "    charutf8 = \"à|á|ả|ã|ạ|ầ|ấ|ẩ|ẫ|ậ|ằ|ắ|ẳ|ẵ|ặ|è|é|ẻ|ẽ|ẹ|ề|ế|ể|ễ|ệ|ì|í|ỉ|ĩ|ị|ò|ó|ỏ|õ|ọ|ồ|ố|ổ|ỗ|ộ|ờ|ớ|ở|ỡ|ợ|ù|ú|ủ|ũ|ụ|ừ|ứ|ử|ữ|ự|ỳ|ý|ỷ|ỹ|ỵ|À|Á|Ả|Ã|Ạ|Ầ|Ấ|Ẩ|Ẫ|Ậ|Ằ|Ắ|Ẳ|Ẵ|Ặ|È|É|Ẻ|Ẽ|Ẹ|Ề|Ế|Ể|Ễ|Ệ|Ì|Í|Ỉ|Ĩ|Ị|Ò|Ó|Ỏ|Õ|Ọ|Ồ|Ố|Ổ|Ỗ|Ộ|Ờ|Ớ|Ở|Ỡ|Ợ|Ù|Ú|Ủ|Ũ|Ụ|Ừ|Ứ|Ử|Ữ|Ự|Ỳ|Ý|Ỷ|Ỹ|Ỵ\".split(\n",
        "        '|')\n",
        "    for i in range(len(char1252)):\n",
        "        dic[char1252[i]] = charutf8[i]\n",
        "    return dic\n",
        "dicchar = loaddicchar()\n"
      ]
    },
    {
      "cell_type": "code",
      "execution_count": null,
      "metadata": {
        "id": "43_r5VhbAmXE"
      },
      "outputs": [],
      "source": [
        "def convert_unicode(txt):\n",
        "    return re.sub(\n",
        "        r'à|á|ả|ã|ạ|ầ|ấ|ẩ|ẫ|ậ|ằ|ắ|ẳ|ẵ|ặ|è|é|ẻ|ẽ|ẹ|ề|ế|ể|ễ|ệ|ì|í|ỉ|ĩ|ị|ò|ó|ỏ|õ|ọ|ồ|ố|ổ|ỗ|ộ|ờ|ớ|ở|ỡ|ợ|ù|ú|ủ|ũ|ụ|ừ|ứ|ử|ữ|ự|ỳ|ý|ỷ|ỹ|ỵ|À|Á|Ả|Ã|Ạ|Ầ|Ấ|Ẩ|Ẫ|Ậ|Ằ|Ắ|Ẳ|Ẵ|Ặ|È|É|Ẻ|Ẽ|Ẹ|Ề|Ế|Ể|Ễ|Ệ|Ì|Í|Ỉ|Ĩ|Ị|Ò|Ó|Ỏ|Õ|Ọ|Ồ|Ố|Ổ|Ỗ|Ộ|Ờ|Ớ|Ở|Ỡ|Ợ|Ù|Ú|Ủ|Ũ|Ụ|Ừ|Ứ|Ử|Ữ|Ự|Ỳ|Ý|Ỷ|Ỹ|Ỵ',\n",
        "        lambda x: dicchar[x.group()], txt)"
      ]
    },
    {
      "cell_type": "code",
      "execution_count": null,
      "metadata": {
        "id": "U2xmyAk4ApOE"
      },
      "outputs": [],
      "source": [
        "bang_nguyen_am = [['a', 'à', 'á', 'ả', 'ã', 'ạ', 'a'],\n",
        "                  ['ă', 'ằ', 'ắ', 'ẳ', 'ẵ', 'ặ', 'aw'],\n",
        "                  ['â', 'ầ', 'ấ', 'ẩ', 'ẫ', 'ậ', 'aa'],\n",
        "                  ['e', 'è', 'é', 'ẻ', 'ẽ', 'ẹ', 'e'],\n",
        "                  ['ê', 'ề', 'ế', 'ể', 'ễ', 'ệ', 'ee'],\n",
        "                  ['i', 'ì', 'í', 'ỉ', 'ĩ', 'ị', 'i'],\n",
        "                  ['o', 'ò', 'ó', 'ỏ', 'õ', 'ọ', 'o'],\n",
        "                  ['ô', 'ồ', 'ố', 'ổ', 'ỗ', 'ộ', 'oo'],\n",
        "                  ['ơ', 'ờ', 'ớ', 'ở', 'ỡ', 'ợ', 'ow'],\n",
        "                  ['u', 'ù', 'ú', 'ủ', 'ũ', 'ụ', 'u'],\n",
        "                  ['ư', 'ừ', 'ứ', 'ử', 'ữ', 'ự', 'uw'],\n",
        "                  ['y', 'ỳ', 'ý', 'ỷ', 'ỹ', 'ỵ', 'y']]\n",
        "bang_ky_tu_dau = ['', 'f', 's', 'r', 'x', 'j']"
      ]
    },
    {
      "cell_type": "code",
      "execution_count": null,
      "metadata": {
        "id": "M_2b_iMNArKC"
      },
      "outputs": [],
      "source": [
        "nguyen_am_to_ids = {}\n",
        "\n",
        "for i in range(len(bang_nguyen_am)):\n",
        "    for j in range(len(bang_nguyen_am[i]) - 1):\n",
        "        nguyen_am_to_ids[bang_nguyen_am[i][j]] = (i, j)\n"
      ]
    },
    {
      "cell_type": "code",
      "execution_count": null,
      "metadata": {
        "id": "P9VL_bhBAs4a"
      },
      "outputs": [],
      "source": [
        "def chuan_hoa_dau_tu_tieng_viet(word):\n",
        "    if not is_valid_vietnam_word(word):\n",
        "        return word\n",
        "\n",
        "    chars = list(word)\n",
        "    dau_cau = 0\n",
        "    nguyen_am_index = []\n",
        "    qu_or_gi = False\n",
        "    for index, char in enumerate(chars):\n",
        "        x, y = nguyen_am_to_ids.get(char, (-1, -1))\n",
        "        if x == -1:\n",
        "            continue\n",
        "        elif x == 9:  # check qu\n",
        "            if index != 0 and chars[index - 1] == 'q':\n",
        "                chars[index] = 'u'\n",
        "                qu_or_gi = True\n",
        "        elif x == 5:  # check gi\n",
        "            if index != 0 and chars[index - 1] == 'g':\n",
        "                chars[index] = 'i'\n",
        "                qu_or_gi = True\n",
        "        if y != 0:\n",
        "            dau_cau = y\n",
        "            chars[index] = bang_nguyen_am[x][0]\n",
        "        if not qu_or_gi or index != 1:\n",
        "            nguyen_am_index.append(index)\n",
        "    if len(nguyen_am_index) < 2:\n",
        "        if qu_or_gi:\n",
        "            if len(chars) == 2:\n",
        "                x, y = nguyen_am_to_ids.get(chars[1])\n",
        "                chars[1] = bang_nguyen_am[x][dau_cau]\n",
        "            else:\n",
        "                x, y = nguyen_am_to_ids.get(chars[2], (-1, -1))\n",
        "                if x != -1:\n",
        "                    chars[2] = bang_nguyen_am[x][dau_cau]\n",
        "                else:\n",
        "                    chars[1] = bang_nguyen_am[5][dau_cau] if chars[1] == 'i' else bang_nguyen_am[9][dau_cau]\n",
        "            return ''.join(chars)\n",
        "        return word\n",
        "\n",
        "    for index in nguyen_am_index:\n",
        "        x, y = nguyen_am_to_ids[chars[index]]\n",
        "        if x == 4 or x == 8:  # ê, ơ\n",
        "            chars[index] = bang_nguyen_am[x][dau_cau]\n",
        "\n",
        "            return ''.join(chars)\n",
        "\n",
        "    if len(nguyen_am_index) == 2:\n",
        "        if nguyen_am_index[-1] == len(chars) - 1:\n",
        "            x, y = nguyen_am_to_ids[chars[nguyen_am_index[0]]]\n",
        "            chars[nguyen_am_index[0]] = bang_nguyen_am[x][dau_cau]\n",
        "           \n",
        "        else:\n",
        "            \n",
        "            x, y = nguyen_am_to_ids[chars[nguyen_am_index[1]]]\n",
        "            chars[nguyen_am_index[1]] = bang_nguyen_am[x][dau_cau]\n",
        "    else:\n",
        "        \n",
        "        x, y = nguyen_am_to_ids[chars[nguyen_am_index[1]]]\n",
        "        chars[nguyen_am_index[1]] = bang_nguyen_am[x][dau_cau]\n",
        "\n",
        "    return ''.join(chars)\n",
        "\n",
        "def is_valid_vietnam_word(word):\n",
        "    chars = list(word)\n",
        "    nguyen_am_index = -1\n",
        "    for index, char in enumerate(chars):\n",
        "        x, y = nguyen_am_to_ids.get(char, (-1, -1))\n",
        "        if x != -1:\n",
        "            if nguyen_am_index == -1:\n",
        "                nguyen_am_index = index\n",
        "            else:\n",
        "                if index - nguyen_am_index != 1:\n",
        "                    return False\n",
        "                nguyen_am_index = index\n",
        "    return True\n",
        "\n",
        "def chuan_hoa_dau_cau_tieng_viet(sentence):\n",
        "    sentence = sentence.lower()\n",
        "    words = sentence.split()\n",
        "    for index, word in enumerate(words):\n",
        "        cw = re.sub(r'(^\\p{P}*)([p{L}.]*\\p{L}+)(\\p{P}*$)', r'\\1/\\2/\\3', word).split('/')\n",
        "        \n",
        "        if len(cw) == 3:\n",
        "            cw[1] = chuan_hoa_dau_tu_tieng_viet(cw[1])\n",
        "        words[index] = ''.join(cw)\n",
        "    return ' '.join(words)\n",
        "\n"
      ]
    },
    {
      "cell_type": "code",
      "execution_count": null,
      "metadata": {
        "id": "k29fLAK2AwWj"
      },
      "outputs": [],
      "source": [
        "def text_preprocess(document):\n",
        "    document = remove_html(document)\n",
        "    document = convert_unicode(document)\n",
        "    document = chuan_hoa_dau_cau_tieng_viet(document)\n",
        "    document = word_tokenize(document, format=\"text\")\n",
        "    document = document.lower()\n",
        "    document = re.sub(r'[^\\s\\wáàảãạăắằẳẵặâấầẩẫậéèẻẽẹêếềểễệóòỏõọôốồổỗộơớờởỡợíìỉĩịúùủũụưứừửữựýỳỷỹỵđ_]',' ',document)\n",
        "    document = re.sub(r'\\s+', ' ', document).strip()\n",
        "    return document"
      ]
    },
    {
      "cell_type": "code",
      "execution_count": null,
      "metadata": {
        "colab": {
          "base_uri": "https://localhost:8080/",
          "height": 35
        },
        "id": "2TQuhZE9s9Ac",
        "outputId": "c9af4476-1c6f-491c-815a-47f678a202ac"
      },
      "outputs": [
        {
          "data": {
            "application/vnd.google.colaboratory.intrinsic+json": {
              "type": "string"
            },
            "text/plain": [
              "'đại_học bách_khoa hà_nội'"
            ]
          },
          "execution_count": 170,
          "metadata": {},
          "output_type": "execute_result"
        }
      ],
      "source": [
        "text_preprocess('Đại học Bách Khoa Hà Nội.')"
      ]
    },
    {
      "cell_type": "code",
      "execution_count": null,
      "metadata": {
        "id": "3EbqICv0tFzc"
      },
      "outputs": [],
      "source": [
        "stopword = set()\n",
        "with open('./drive/MyDrive/stop_words.txt', 'r') as fp:\n",
        "      for line in fp.readlines():\n",
        "        stopword.add(line.strip())\n",
        "    "
      ]
    },
    {
      "cell_type": "code",
      "execution_count": null,
      "metadata": {
        "id": "SoZ1XIWDA5om"
      },
      "outputs": [],
      "source": [
        "def remove_stopwords(line):\n",
        "    words = []\n",
        "    for word in line.split():\n",
        "        if word not in stopword:\n",
        "            words.append(word)\n",
        "    return ' '.join(words)"
      ]
    },
    {
      "cell_type": "code",
      "execution_count": null,
      "metadata": {
        "id": "xh_3ijV5B_gc"
      },
      "outputs": [],
      "source": [
        "def other_2_str(x):\n",
        "  return str(x)"
      ]
    },
    {
      "cell_type": "code",
      "execution_count": null,
      "metadata": {
        "id": "g3eSV-TQBLDu"
      },
      "outputs": [],
      "source": [
        "rating_contents['comment'] = rating_contents['comment'].apply(other_2_str).apply(remove_stopwords)"
      ]
    },
    {
      "cell_type": "code",
      "execution_count": null,
      "metadata": {
        "colab": {
          "background_save": true
        },
        "id": "zCEd5Ev8CPeT"
      },
      "outputs": [],
      "source": [
        "rating_contents['comment'] = rating_contents['comment'].apply(text_preprocess)"
      ]
    },
    {
      "cell_type": "code",
      "execution_count": null,
      "metadata": {
        "colab": {
          "background_save": true
        },
        "id": "sOi9A-wIDGx5",
        "outputId": "8225372a-44bc-4f9d-cc63-108ec0dbc90e"
      },
      "outputs": [
        {
          "data": {
            "text/html": [
              "\n",
              "  <div id=\"df-96bb9838-cd93-4df1-bf4c-c4c6b77ee36a\">\n",
              "    <div class=\"colab-df-container\">\n",
              "      <div>\n",
              "<style scoped>\n",
              "    .dataframe tbody tr th:only-of-type {\n",
              "        vertical-align: middle;\n",
              "    }\n",
              "\n",
              "    .dataframe tbody tr th {\n",
              "        vertical-align: top;\n",
              "    }\n",
              "\n",
              "    .dataframe thead th {\n",
              "        text-align: right;\n",
              "    }\n",
              "</style>\n",
              "<table border=\"1\" class=\"dataframe\">\n",
              "  <thead>\n",
              "    <tr style=\"text-align: right;\">\n",
              "      <th></th>\n",
              "      <th>comment</th>\n",
              "      <th>rating</th>\n",
              "    </tr>\n",
              "  </thead>\n",
              "  <tbody>\n",
              "    <tr>\n",
              "      <th>0</th>\n",
              "      <td>tiki hàng treo đầu dê thịt chó hình_ảnh sản_ph...</td>\n",
              "      <td>1</td>\n",
              "    </tr>\n",
              "    <tr>\n",
              "      <th>1</th>\n",
              "      <td>sản_phẩm tuyệt với shipper tuyệt_vời bao shipp...</td>\n",
              "      <td>5</td>\n",
              "    </tr>\n",
              "    <tr>\n",
              "      <th>2</th>\n",
              "      <td>sữa 2 mẹ uống 2 hộp ói mữa ngày tiêu tức ngực ...</td>\n",
              "      <td>2</td>\n",
              "    </tr>\n",
              "    <tr>\n",
              "      <th>3</th>\n",
              "      <td>tiki tắc_trách mua sữa yomost uống bé ỉa_chảy ...</td>\n",
              "      <td>1</td>\n",
              "    </tr>\n",
              "    <tr>\n",
              "      <th>4</th>\n",
              "      <td>theo sưa hộp 1 lit ngon hơn cảm_giác hộp sữa b...</td>\n",
              "      <td>4</td>\n",
              "    </tr>\n",
              "  </tbody>\n",
              "</table>\n",
              "</div>\n",
              "      <button class=\"colab-df-convert\" onclick=\"convertToInteractive('df-96bb9838-cd93-4df1-bf4c-c4c6b77ee36a')\"\n",
              "              title=\"Convert this dataframe to an interactive table.\"\n",
              "              style=\"display:none;\">\n",
              "        \n",
              "  <svg xmlns=\"http://www.w3.org/2000/svg\" height=\"24px\"viewBox=\"0 0 24 24\"\n",
              "       width=\"24px\">\n",
              "    <path d=\"M0 0h24v24H0V0z\" fill=\"none\"/>\n",
              "    <path d=\"M18.56 5.44l.94 2.06.94-2.06 2.06-.94-2.06-.94-.94-2.06-.94 2.06-2.06.94zm-11 1L8.5 8.5l.94-2.06 2.06-.94-2.06-.94L8.5 2.5l-.94 2.06-2.06.94zm10 10l.94 2.06.94-2.06 2.06-.94-2.06-.94-.94-2.06-.94 2.06-2.06.94z\"/><path d=\"M17.41 7.96l-1.37-1.37c-.4-.4-.92-.59-1.43-.59-.52 0-1.04.2-1.43.59L10.3 9.45l-7.72 7.72c-.78.78-.78 2.05 0 2.83L4 21.41c.39.39.9.59 1.41.59.51 0 1.02-.2 1.41-.59l7.78-7.78 2.81-2.81c.8-.78.8-2.07 0-2.86zM5.41 20L4 18.59l7.72-7.72 1.47 1.35L5.41 20z\"/>\n",
              "  </svg>\n",
              "      </button>\n",
              "      \n",
              "  <style>\n",
              "    .colab-df-container {\n",
              "      display:flex;\n",
              "      flex-wrap:wrap;\n",
              "      gap: 12px;\n",
              "    }\n",
              "\n",
              "    .colab-df-convert {\n",
              "      background-color: #E8F0FE;\n",
              "      border: none;\n",
              "      border-radius: 50%;\n",
              "      cursor: pointer;\n",
              "      display: none;\n",
              "      fill: #1967D2;\n",
              "      height: 32px;\n",
              "      padding: 0 0 0 0;\n",
              "      width: 32px;\n",
              "    }\n",
              "\n",
              "    .colab-df-convert:hover {\n",
              "      background-color: #E2EBFA;\n",
              "      box-shadow: 0px 1px 2px rgba(60, 64, 67, 0.3), 0px 1px 3px 1px rgba(60, 64, 67, 0.15);\n",
              "      fill: #174EA6;\n",
              "    }\n",
              "\n",
              "    [theme=dark] .colab-df-convert {\n",
              "      background-color: #3B4455;\n",
              "      fill: #D2E3FC;\n",
              "    }\n",
              "\n",
              "    [theme=dark] .colab-df-convert:hover {\n",
              "      background-color: #434B5C;\n",
              "      box-shadow: 0px 1px 3px 1px rgba(0, 0, 0, 0.15);\n",
              "      filter: drop-shadow(0px 1px 2px rgba(0, 0, 0, 0.3));\n",
              "      fill: #FFFFFF;\n",
              "    }\n",
              "  </style>\n",
              "\n",
              "      <script>\n",
              "        const buttonEl =\n",
              "          document.querySelector('#df-96bb9838-cd93-4df1-bf4c-c4c6b77ee36a button.colab-df-convert');\n",
              "        buttonEl.style.display =\n",
              "          google.colab.kernel.accessAllowed ? 'block' : 'none';\n",
              "\n",
              "        async function convertToInteractive(key) {\n",
              "          const element = document.querySelector('#df-96bb9838-cd93-4df1-bf4c-c4c6b77ee36a');\n",
              "          const dataTable =\n",
              "            await google.colab.kernel.invokeFunction('convertToInteractive',\n",
              "                                                     [key], {});\n",
              "          if (!dataTable) return;\n",
              "\n",
              "          const docLinkHtml = 'Like what you see? Visit the ' +\n",
              "            '<a target=\"_blank\" href=https://colab.research.google.com/notebooks/data_table.ipynb>data table notebook</a>'\n",
              "            + ' to learn more about interactive tables.';\n",
              "          element.innerHTML = '';\n",
              "          dataTable['output_type'] = 'display_data';\n",
              "          await google.colab.output.renderOutput(dataTable, element);\n",
              "          const docLink = document.createElement('div');\n",
              "          docLink.innerHTML = docLinkHtml;\n",
              "          element.appendChild(docLink);\n",
              "        }\n",
              "      </script>\n",
              "    </div>\n",
              "  </div>\n",
              "  "
            ],
            "text/plain": [
              "                                             comment  rating\n",
              "0  tiki hàng treo đầu dê thịt chó hình_ảnh sản_ph...       1\n",
              "1  sản_phẩm tuyệt với shipper tuyệt_vời bao shipp...       5\n",
              "2  sữa 2 mẹ uống 2 hộp ói mữa ngày tiêu tức ngực ...       2\n",
              "3  tiki tắc_trách mua sữa yomost uống bé ỉa_chảy ...       1\n",
              "4  theo sưa hộp 1 lit ngon hơn cảm_giác hộp sữa b...       4"
            ]
          },
          "execution_count": null,
          "metadata": {},
          "output_type": "execute_result"
        }
      ],
      "source": [
        "rating_contents.head()"
      ]
    },
    {
      "cell_type": "code",
      "execution_count": null,
      "metadata": {
        "colab": {
          "background_save": true
        },
        "id": "Ak7dtM8VC7Fo"
      },
      "outputs": [],
      "source": [
        "rating_contents.to_csv('./drive/MyDrive/modified_rating_list.csv', sep=',', encoding='utf-8', index=False)"
      ]
    },
    {
      "cell_type": "code",
      "execution_count": null,
      "metadata": {
        "colab": {
          "background_save": true
        },
        "id": "4cRbW8iyDQF9"
      },
      "outputs": [],
      "source": [
        "rating_contents = pd.read_csv('./drive/MyDrive/modified_rating_list.csv', sep=',', encoding='utf-8')"
      ]
    },
    {
      "cell_type": "code",
      "execution_count": null,
      "metadata": {
        "colab": {
          "background_save": true
        },
        "id": "53LcBMeXXGc_"
      },
      "outputs": [],
      "source": [
        "def removeNumber(line):\n",
        "  res = ''.join([i for i in line if not i.isdigit()])\n",
        "  return res"
      ]
    },
    {
      "cell_type": "code",
      "execution_count": null,
      "metadata": {
        "colab": {
          "background_save": true
        },
        "id": "nUInAtJEJxCz"
      },
      "outputs": [],
      "source": [
        "rating_contents.dropna(subset=['comment'], inplace=True)"
      ]
    },
    {
      "cell_type": "code",
      "execution_count": null,
      "metadata": {
        "colab": {
          "background_save": true
        },
        "id": "Y9bec-jZXhhJ"
      },
      "outputs": [],
      "source": [
        "rating_contents['comment'] = rating_contents['comment'].apply(removeNumber)"
      ]
    },
    {
      "cell_type": "code",
      "execution_count": null,
      "metadata": {
        "colab": {
          "background_save": true
        },
        "id": "fw8YqSp4A8ni"
      },
      "outputs": [],
      "source": [
        "contents = rating_contents['comment'].tolist()"
      ]
    },
    {
      "cell_type": "code",
      "execution_count": null,
      "metadata": {
        "colab": {
          "background_save": true
        },
        "id": "rSBOiaBFJQyM"
      },
      "outputs": [],
      "source": [
        "contents = [str(content) for content in contents]"
      ]
    },
    {
      "cell_type": "code",
      "execution_count": null,
      "metadata": {
        "colab": {
          "background_save": true
        },
        "id": "1yjvGPfMi4Q4",
        "outputId": "5c10472e-5e5b-42d0-ca90-79a8d6642ff5"
      },
      "outputs": [
        {
          "data": {
            "text/plain": [
              "545689"
            ]
          },
          "execution_count": null,
          "metadata": {},
          "output_type": "execute_result"
        }
      ],
      "source": [
        "len(contents)"
      ]
    },
    {
      "cell_type": "code",
      "execution_count": null,
      "metadata": {
        "colab": {
          "background_save": true
        },
        "id": "Ivw5GmA-mVJa"
      },
      "outputs": [],
      "source": [
        "train_contents = contents[:500000]\n",
        "test_contents = contents[500000:]"
      ]
    },
    {
      "cell_type": "code",
      "execution_count": null,
      "metadata": {
        "colab": {
          "background_save": true
        },
        "id": "gM2SwUSMi3Ax"
      },
      "outputs": [],
      "source": [
        ""
      ]
    },
    {
      "cell_type": "code",
      "execution_count": null,
      "metadata": {
        "colab": {
          "background_save": true
        },
        "id": "_TFEZ4dtMcLW"
      },
      "outputs": [],
      "source": [
        "val_contents = train_contents[400000:]\n",
        "train_contents = train_contents[:400000]"
      ]
    },
    {
      "cell_type": "code",
      "execution_count": null,
      "metadata": {
        "colab": {
          "background_save": true
        },
        "id": "BK-6vQVunosP"
      },
      "outputs": [],
      "source": [
        "labels = []"
      ]
    },
    {
      "cell_type": "code",
      "execution_count": null,
      "metadata": {
        "colab": {
          "background_save": true
        },
        "id": "uQokfZvbDMOZ"
      },
      "outputs": [],
      "source": [
        "for rating in rating_contents['rating']:\n",
        "  if (int(rating) <= 3):\n",
        "    labels.append(0)\n",
        "  elif (int(rating) == 4):\n",
        "    labels.append(1)\n",
        "  else:\n",
        "    labels.append(2)\n",
        " "
      ]
    },
    {
      "cell_type": "code",
      "execution_count": null,
      "metadata": {
        "colab": {
          "background_save": true
        },
        "id": "yFc8Pru3nEBD"
      },
      "outputs": [],
      "source": [
        "ratings = rating_contents['rating'].tolist()"
      ]
    },
    {
      "cell_type": "code",
      "execution_count": null,
      "metadata": {
        "colab": {
          "background_save": true
        },
        "id": "PcSsTR2cnuwn"
      },
      "outputs": [],
      "source": [
        "train_labels = labels[:500000]\n",
        "test_labels = labels[500000:]\n"
      ]
    },
    {
      "cell_type": "code",
      "execution_count": null,
      "metadata": {
        "colab": {
          "background_save": true
        },
        "id": "v31aIOd1MvY7"
      },
      "outputs": [],
      "source": [
        "val_labels = train_labels[400000:]\n",
        "train_labels = train_labels[:400000]"
      ]
    },
    {
      "cell_type": "code",
      "execution_count": null,
      "metadata": {
        "colab": {
          "background_save": true
        },
        "id": "pKsu-eCIoA4i"
      },
      "outputs": [],
      "source": [
        "train_labels = np.array(train_labels)\n",
        "test_labels = np.array(test_labels)\n",
        "val_labels = np.array(val_labels)"
      ]
    },
    {
      "cell_type": "code",
      "execution_count": null,
      "metadata": {
        "colab": {
          "background_save": true
        },
        "id": "SrBcHlV70gSU",
        "outputId": "4452c2e0-a261-4a60-e586-531084524731"
      },
      "outputs": [
        {
          "data": {
            "text/plain": [
              "array([0, 1, 2])"
            ]
          },
          "execution_count": null,
          "metadata": {},
          "output_type": "execute_result"
        }
      ],
      "source": [
        "np.unique(train_labels)"
      ]
    },
    {
      "cell_type": "code",
      "execution_count": null,
      "metadata": {
        "colab": {
          "background_save": true
        },
        "id": "lDAgs3JH0x2F",
        "outputId": "8e28aca6-d860-42d4-f102-8bf3958de502"
      },
      "outputs": [
        {
          "data": {
            "text/plain": [
              "array([0, 1, 2])"
            ]
          },
          "execution_count": null,
          "metadata": {},
          "output_type": "execute_result"
        }
      ],
      "source": [
        "np.unique(test_labels)"
      ]
    },
    {
      "cell_type": "code",
      "execution_count": null,
      "metadata": {
        "colab": {
          "background_save": true
        },
        "id": "P2tWGqklCI3N",
        "outputId": "da2546a6-664e-40e1-ad29-aac4a9d87390"
      },
      "outputs": [
        {
          "data": {
            "text/plain": [
              "array([2, 2, 2, ..., 0, 0, 0])"
            ]
          },
          "execution_count": null,
          "metadata": {},
          "output_type": "execute_result"
        }
      ],
      "source": [
        "test_labels"
      ]
    },
    {
      "cell_type": "code",
      "execution_count": null,
      "metadata": {
        "colab": {
          "background_save": true
        },
        "id": "9AeZrz6ba4Sz",
        "outputId": "167d70a9-d3cf-4563-c86a-1f756dab66d0"
      },
      "outputs": [
        {
          "data": {
            "text/plain": [
              "['tiki hàng treo đầu dê thịt chó hình_ảnh sản_phẩm thùng sữa yomost quà tặng kèm bình nhiệt yomost hạn khuyến_mãi   hàng  hàng  khi hàng bình nhiệt gọi hotline  nhánh _viên tư_vấn nguyễn_vũ thùy anh không quà tặng sau chứng hỉnh ảnh quảng_cáo hình đính kèm dưới nhân_viên nguyễn_vũ thùy anh bộ_phận đóng_gói quyền tách quà tặng sản_phẩm phục_vụ mục_đích khác đề_nghị tiki phản_hồi bất từ bao thương_hiệu tiki nhân_viên quyền cắp quà tặng khuyến_mãi sản_xuất hàng trắng_trợn vậy từ nhân_viên tư_vấn tiki hàng thái_độ hách_dịch coi hay tiki thực treo đầu dê thịt chó sách kinh_doanh ps tôi gửi phản_hồi_trang chăm_sóc hàng tải thông mã đơn hàng tk',\n",
              " 'sản_phẩm tuyệt với shipper tuyệt_vời bao shipper tâm nghề vậy gọi  ko đc đt chế_độ im_lặng ngủ trưa shipper gửi xe_hàng chốt mượn xe_đạp kiếm nhà gọi hàng cảm_ơn shipper nhìu lam luôn dịch giao hàng dự_kiến luôn  tiki',\n",
              " 'sữa  mẹ uống  hộp ói mữa ngày tiêu tức ngực chịu uống sữa hàng ngày đợt mua tiki vậy date cũ nữa   hạn ko tiki hàng trách_nhiệm ko',\n",
              " 'tiki tắc_trách mua sữa yomost uống bé ỉa_chảy ói mửa luôn  đứa khiếu_nại im_lặng  đừng mua hàng k',\n",
              " 'theo sưa hộp  lit ngon hơn cảm_giác hộp sữa băng hộp bình thương về đóng_gói giao hàng ônn mình  thùng',\n",
              " 'hàng giao đóng_gói cẩn_thận có hàng hơi sao hàng tặng bình nhiệt vỡ sữa chảy nói tốt hứa ủng_hộ ạ ️ ️',\n",
              " 'hàng ok phù_hợp giá tiền đóng_gói cẩn_thận giao hàng nhân_viên giao hàng nhiệt_tình chu_đáo cảm_ơn tiki ủng_hộ mua tiếp theo like like',\n",
              " 'hạn sử_dụng   giá rẻ thị_trường nhiều cảm_ơn tiki nhé nên mua người mua tiki xuân đó',\n",
              " 'sau thời_gian dãn covid hàng giao nhanh chỉ chóp mắt  tí hàng tay',\n",
              " 'sữa uống vị rất ngon rất thơm date lâu_dài tiki giao hàng nhanh uy_tín lại còn được freeship tận nhà thì còn gì bằng sẽ ủng_hộ tiki dài_dài',\n",
              " 'giao hàng chất mua',\n",
              " 'hàng hình yomost thùng in mua  lốc tặng  hộp ko hàng tặng mong tiki giải giùm ko hàng ko',\n",
              " 'đến hiện bao thất_vọng tiki date tặng mấy gói ngũ_cốc',\n",
              " 'khỉ thể chấp',\n",
              " 'tiki giao hàng nhanh đúng sản_phẩm date sản_phẩm dài mùa covid hàng linh_hoạt anh giao hàng thương nè',\n",
              " 'mua thùng sale giá ổn_áp uống chua chua lạnh đá uống mát',\n",
              " 'đóng gói cẩn_thận hạn sử_dụng sữa dài cảm_ơn shop',\n",
              " 'đã sản_phẩm giao hàng dự_kiến shipper thân_thiện tiếp_tục ủng_hộ shop',\n",
              " 'đóng gói kỹ giao  ngày date',\n",
              " 'giao hàng trời rút kinh_nghiệm ko toán nữa hàng giao tiền',\n",
              " 'tiki giao hàng sữa date sx  sữa uống ngon cháu thích thanks',\n",
              " 'mình giao_long an dịch giao hài',\n",
              " 'hình_ảnh chất xu sữa tốt mua giá khuyến_mãi giao hàng nhanh',\n",
              " 'sữa uống thìngon giao hàng tặng kèm quà',\n",
              " 'giao hàng nhanh đóng_gói sản_phẩm chắn giá phù_hợp',\n",
              " 'sản_phẩm y_hình giá hợp_lý rất hài sản_phẩm',\n",
              " 'sp tốt hsd xa áp mã giá rẻ thị_trường',\n",
              " 'giá rẻ thị_trường hạn dài giao  mua',\n",
              " 'giao hàng giá khuyến_mãi tốt hạn',\n",
              " 'nội_dung chứa  ký thêm hình sản_phẩm tối_đa  hình',\n",
              " 'dịch giao nhanh giá hợp_lý kịp gái uống',\n",
              " 'giao hàng_quà đẹp nhân_viên giao hàng ok',\n",
              " 'đã mua cuảtiki yên_tâm chất',\n",
              " 'san pham giao nhanh hang hoa dung nhu hinh anh shipper nhiet tinh',\n",
              " 'giao hàng nhanh đóng_gói cẩn_thận sữa sản_xuất ',\n",
              " 'sản_phẩm tốt giá chăng tiếp_tục ủng_hộ shop',\n",
              " 'không quà khuyến_mãi ly nhiệt quảng_cáo',\n",
              " 'uống ngộ_độc  đứa con khiếu_nại im_lặng đừng tiki mua nhà',\n",
              " 'hàng_quà tặng',\n",
              " 'date xa giá sale rẻ',\n",
              " 'quá tệ tự_hủy đơn hàng giao chậm',\n",
              " 'hàng tốt giá chăng mùa dịch tiki giao hàng chậm',\n",
              " 'ngon rẻ mua đứa uống tuyệt_vời',\n",
              " 'sp mô_tả tiki gh',\n",
              " 'giao hàng nhanh chất_lượng date',\n",
              " 'giao hàng nhanh sản_phẩm chất_lượng giá phù_hợp',\n",
              " 'tặng kèm bình nhiệt quảng_cáo',\n",
              " 'sản_phẩm date xa đẹp giá tiền',\n",
              " 'chất ẩn_phẩm tuyệt_vời',\n",
              " 'sữa xong cảm an_tâm đóng_gói kĩ_lưỡng khui mệt luôn date mới good',\n",
              " 'sản_phẩm chất_lượng đóng_gói kỹ giao hàng nhannhhhhjjjjjjj',\n",
              " 'giao hàng châm  shop giao hàng',\n",
              " 'quà tặng bình nhiệt',\n",
              " 'giao hàng đóng_gói cẩn_thận',\n",
              " 'thùng ướt móp méo',\n",
              " 'giá hợp_lý mua trực_tiếp máy dutchlady',\n",
              " 'tặng quà hài lắm',\n",
              " 'tiki chê giao lắm',\n",
              " 'giao hành nhanh date',\n",
              " 'sữa ngon _shop giao hàng nhanh',\n",
              " 'sữa uống giá ok',\n",
              " 'tiki sale cắt  hộp khuyến tiêu không',\n",
              " 'giao hàng',\n",
              " 'sữa ngon giá tốt',\n",
              " 'giao hàng giá date',\n",
              " 'giao hàng nhanh sữa date mới cảm_ơn tiki',\n",
              " 'vânn  k',\n",
              " 'sữa uống ngon đóng_gói cẩn_thận',\n",
              " 'sữa rẻ date xa mua',\n",
              " 'uống sữa xong ói mửa ỉa_chảy mong hàng',\n",
              " 'chất sản_phẩm tuyệt_vời',\n",
              " 'sữa vỡ uống đc',\n",
              " 'sữa ngon giá hợp_lý date xa cám_ơn tiki',\n",
              " 'số giao hàng chậm giao chậm',\n",
              " 'thời_gian giao hàng',\n",
              " 'shop đóng_gói cẩn_thận sữa date xa',\n",
              " 'sản_xuất ',\n",
              " 'djdjdjxjdhsnxhx',\n",
              " 'hàng chuẩn',\n",
              " 'chất',\n",
              " 'hàng hình đi nắng hộp hơi mềm',\n",
              " 'thich hop tre mui vi cam',\n",
              " 'giao hang',\n",
              " 'sữa cam ngon chất_lượng cám_ơn shop tiki ️',\n",
              " 'ngon rẻ tiết_kiệm',\n",
              " 'giao hang nhanh dong goi ok',\n",
              " 'good',\n",
              " 'sản_phẩm tốt',\n",
              " 'date xa giao nhanh',\n",
              " 'giao hàng',\n",
              " 'giao hàng',\n",
              " 'tre nhieu',\n",
              " 'mô_tả',\n",
              " 'sản_phẩm tốt tiếp_tục ủng_hộ cảm_ơn',\n",
              " 'uống ngon uống mua khuyến_mãi bình uống giao sữa có ko quên bình ko j hết chút buồn',\n",
              " 'đơn hàng ghi bình nhiệt giao hàng có khi gọi quà tặng hạn đã quà bao_nhiêu cài chức_năng tồn_kho bao_nhiêu quà tặng hàng mua ta hàng_quà tặng rồi lựa hạng_mục hàng_quà tặng hành_động lập_lờ chê_trách tiki trading',\n",
              " 'hàng mùa dịch giao chậm dự_kiến bù giao hàng thương hôm giao  mưa râm ko nhà đi làm gọi hàng hẹn giao chỗ làm vui_vẻ đồng_ý hàng giao nguyên_vẹn sữa yomot bàn uống ngon đổi hương khác chồng uống cảm_ơn tiki',\n",
              " 'giao hàng chậm đặt  trời giao app giao hàng lazada vòng  tuần rồi đánglex  giao hàng thương ',\n",
              " 'lừa_đảo khach hàng khuyến_mãi thi noi k thi thôi ép hình đa giao k co đe nghi tiki đối_tác hàng đi con shop lừa_đảo nghi đi đung nữa chừa trang tịki',\n",
              " 'sữa_chua men nhiên thùng  hộp  ml mua  k mình giá rồi bé uống sữa_tươi cô gái hà lan yêu sữa_chua hãng',\n",
              " 'giao hàng lâu khui hàng hồn thùng sữa  hộp khui mẹ  hộp mấy  lốc vs  hộp chán_nản k bh mua hàng',\n",
              " 'vị này uống thay sữa_chua cất tủ_lạnh tiện_lợi vì sản_phẩm cghl tưởng chất',\n",
              " 'sữa ngon lắm nha giá rẻ nữa tuy_nhiên uống k mua nha e ngọt còn uống mua uống thử nhá',\n",
              " 'mình thùng sữa yomost thùng sữa_đậu_nành fami bé mùa dịch  hàng hơi buồn hixx',\n",
              " 'sữa hạn lâu _shop đóng_gói chắn thời_gian giao hàng lâu đợi  hàng',\n",
              " 'hôm mua đăng tặng  bình nước hôm thay k tặng nữa hơi thất_vọng cảm_giác lừa đóng_gói chắn',\n",
              " 'con uống mua bé uống giao hàng nhanh gói cẩn_thận ko móp méo shipper thân_thiện thương',\n",
              " 'huhu hàng  tháng chất bàn hy_vọng dịch mau đồ sale nha tiki',\n",
              " 'hạn sử_dụng dài mùa dịch tiki giao hàng nhanh  hàng rồi hài_lòng',\n",
              " 'yomost lựu vị ngon uống uống lạnh ngon tuyệt_cú meo ship hơi mố thùng tí ko nha shipper de thuong',\n",
              " 'tiki giao hàng nhanh tỉnh  hàng rồi tiki đóng hàng cẩn_thận mua dc giá  k',\n",
              " 'đóng gói cẩn_thận giao hàng giá sữa uống ngon hạn',\n",
              " 'ok hàng',\n",
              " 'chất sản_phẩm tuyệt_vời thời_gian giao hàng đóng_gói sản_phẩm đẹp chắn',\n",
              " 'cảm_ơn shop tiki tặng quà  gói sữa ngũ_cốc',\n",
              " 'giao hàng khuyến_mãi tặng bình nhiệt ko đâu',\n",
              " 'mua tiki đóng_gói cẩn_thận sữa yomost uống ngon',\n",
              " 'hàng giao hơi lâu đóng gói hàng cẩn_thận sữa uống ngon',\n",
              " 'hài_lòng với dịch_vụ tiki giao hàng giá ổn_định chất_lượng ưu_việt',\n",
              " 'oh yeah làng yomost mùi lựu này săn giá sale rẻ dc freeship nữa',\n",
              " 'ggiao hàng nhanh date xa hình ko liên_quan nhưngg cực hài',\n",
              " 'đóng gói cẩn_thận chất oke hài',\n",
              " 'giao kèm hàng khuyến_mãi gọi tổng_đài giải_đáp ko thỏa',\n",
              " 'giao thời_gian dự_kiến sp nguyên_vẹn ko móp hsd cám_ơn tiki',\n",
              " 'giá rẻ date xa nhân_viên giao hàng nhiệt_tình',\n",
              " 'sản_phẩm date xa giao_cảm_ơn tiki',\n",
              " 'giao hàng nhanh shipper thân_thiện đóng_gói đẹp_mắt gọn_gàng hàng hình_ảnh',\n",
              " 'shop đóng_gói chắn',\n",
              " 'shop giao hàng nhanh hôm hôm giao',\n",
              " 'gói hàng chắc_chắn vị sữa ngon giao hàng  thág mặc giãn cách',\n",
              " 'giao nhanh shipper nhiệt_tình chất sản_phẩm',\n",
              " 'soạn hàng giao hàng nhanh sữa thơm ngon date ',\n",
              " 'giá hời giao hàng sữa hạn sử_dụng đi uống ctijh',\n",
              " 'tặng bình giao ko thấy thất_vọng ghê',\n",
              " 'shop giao hàng nhanh sữa hạn sử_dụng tháng ',\n",
              " 'đóng gói kỹ giao hàng nhanh nhân_viên thân_thiện sẽ tiếp_tục ủng_hộ',\n",
              " 'tiki giao hàng nhanh mua giá giá mua ngoài',\n",
              " 'do dịch_bệnh giao hàng lâu giao hàng đủ yomost ngon sức_khỏe',\n",
              " 'vì dịch giao hang quá lâu giá rẻ với tiệm',\n",
              " 'giá khuyến_mãi tốt đóng gói chắn vận nhanh shipper lịch_sự',\n",
              " 'sữa vỡ hỏng ko đảm_bảo chất_lượng thùng bóp_méo',\n",
              " 'giao hàng chậm dự_kiến không gọi giao báo k',\n",
              " 'đơn_vị vận sữa hư nguyên thùng k uống đc',\n",
              " 'hàng ok date dài _shop uy_tín',\n",
              " 'sữa thơm uống giao hàng cẩn_thận cám_ơn tiki',\n",
              " 'sp đóng_gói cẩn_thận date mới giao hàng',\n",
              " 'giao nguy_hiểm chiều giao date sx  mua tiếp',\n",
              " 'uống ngon mua đc giá hời free ship hxd xa nói hài_lòng',\n",
              " 'sữa giá phù_hợp giao hàng nhanh bé',\n",
              " 'thích đc freeship giá ok mua ngoài sale',\n",
              " 'giao đừng giao mua ngóng_trông',\n",
              " 'giao hàng nhanh gói bọc hàng cẩn_thận',\n",
              " 'tiki đóng_gói đẹp sữa hsd xa giá rẻ',\n",
              " 'ko tặng bình nhiệt tiki cam_kết nha',\n",
              " 'giao hàng siêu nhanh sp date đc free ship mua hàng bách hóa_tiki hài nhất',\n",
              " 'sữa thơm ngon mua mã zalopay rẻ đại_lý',\n",
              " 'mua thùng sữa bình ko tặng j',\n",
              " 'hàng tặng đóng_gói móp hàng móp sẵn',\n",
              " 'sữa ngon giao nhanh quà đẹp',\n",
              " 'giao hàng nhanh shop đóng_gói kỹ hàng nguyên_vẹn giá',\n",
              " 'sản_phẩm tiki giao hàng  đ ',\n",
              " 'giao hàng đóng goi can than',\n",
              " 'sản_phẩm date ủng_hộ',\n",
              " 'tiki giao hàng sản_phẩm cận date',\n",
              " 'sản_phẩm đc giao giờ chất tốt hương_vị ngon',\n",
              " 'sữa nsx mới giao hàng nhanh nguyên_vẹn cám_ơn tiki',\n",
              " 'shop tặng kèm bình nhiệt',\n",
              " 'sản phầm uống ngon trẻ',\n",
              " 'giao hàng nhanh ok lắm shop',\n",
              " 'giao hạn sử_dụng lâu mua yên_tâm tiki trading',\n",
              " 'giao hàng nhanh săn sale đc giá tốt sữa date',\n",
              " 'tặng bunhf ko giao',\n",
              " 'giao sữa thùng hơi móp méo date',\n",
              " 'hàng giao hàng',\n",
              " 'hàng vị hơi vị',\n",
              " 'giá rẻ sản_phẩm',\n",
              " 'mua hai thùng giao khuyến_mãi',\n",
              " 'nhà vị sữa_chua này thơm ngon uống',\n",
              " 'ngon giá hợp_lý giao hàng',\n",
              " 'hài sản_phẩm',\n",
              " 'sữa ngon giao hàng mùa dịch',\n",
              " 'đóng hàng chắn shipper nhiệt_tình',\n",
              " 'giao hàng nhanh đóng_gói cẩn_thận',\n",
              " 'giao hàng chậm dự_kiến',\n",
              " 'sản_phẩm ok đóng_gói cẩn_thận',\n",
              " 'giá chất sản_phẩm',\n",
              " 'sản_phẩm tốt giao hàng cẩn_thận',\n",
              " 'chất sản_phẩm tốt đóng_gói chắn',\n",
              " 'giao hàng nhanh sữa ngon nha',\n",
              " 'dfghxbjyfdgbh',\n",
              " 'giao',\n",
              " 'gói hàng tốt giao hàng',\n",
              " 'shipper lắm',\n",
              " 'sản_phẩm tốt giá hợp_lý',\n",
              " 'sản_phẩm ghi quà kèm kèm hình_ảnh chứng_minh mua giai_đoạn khuyến_mãi ngày  mua hàng giao hàng  nhưng mua  thùng hàng bất_kỳ  sản_phẩm khuyến_mãi giao kèm quảng_cáo khi quà khuyến_mãi giao hàng bảo biết',\n",
              " 'sản_phẩm đóng_gói cẩn_thận khui hộp sản_phẩm đóng_gói k chắn trước cẩu_thả lỏng_lẻo sản_phẩm trưng_bày đem vô đóng_gói thất_vọng hy_vọng k hàng giả cám_ơn',\n",
              " 'mẹ bọn hàng láo vcl thùng  lốc t mua uống tham thèm khát  lốc được nhân_viên t tiền_vận t bo bớt dcm m nghie mẹ hàng đi',\n",
              " 'sản_phẩm ok date nhé shop trung_thực bao_bì sản_phẩm ghi mua  lốc tặng  hộp shop giao nhé nếu mua cửa_hàng tặng hết mua  thùng  lốc',\n",
              " 'sữa uống vị rất ngon rất thơm date lâu_dài tiki giao hàng nhanh uy_tín lại còn được freeship tận nhà thì còn gì bằng sẽ ủng_hộ tiki dài_dài nên mua thử nha',\n",
              " 'sữa date mới đóng_gói cẩn_thận ok chỉ buồn ghi tặng bình nhiệt hàng chẳng bình nhiệt cả',\n",
              " 'sản_phẩm chất_lượng giá phù_hợp date xa ủng_hộ shop',\n",
              " 'sữa yomost dâu uống ngon hương_vị cam mua  thùng yomost vị cam _thể uống bữa ăn uống bữa được tủ_lạnh uống ngon hơn',\n",
              " 'sữa uống vị rất ngon rất thơm date lâu_dài tiki giao hàng nhanh uy_tín lại còn được freeship tận nhà thì còn gì bằng sẽ ủng_hộ tiki dài_dài',\n",
              " 'đã sản_phẩm giao hàng dự_kiến shipper thân_thiện tiếp_tục ủng_hộ shop',\n",
              " 'giao hàng  hàng',\n",
              " 'sản_phẩm chất_lượng date lâu đóng_gói sản_phẩm cẩn_thận giao hàng chóng cám_ơn tiki',\n",
              " 'đặt gửi con đầu uống thích vc rẻ quà nữa thanks shop',\n",
              " 'sữa_chua sức_khỏe uống chua chua hong ngán nếu ngán ngưng uống thời_gian',\n",
              " 'shop đóng_gói sản_phẩm chắn sản_phẩm hạn dùng thời_gian giao hàng lâu',\n",
              " 'okkkkkkkkkk hàng lắm giao hàng hơi lâuuuuuuuuuuuuuuuuuuuuuuuuuuuuuuuuuuuuuuuuu',\n",
              " 'chất chất chất chất chất chất',\n",
              " 'hàng mới đóng_gói cẩn_thận shiper thương chu_đáo ok nhe',\n",
              " 'không tặng gì  hộp ko yaourt yogurt gì sữa_bột vị dâu',\n",
              " 'tiki tiếc blah blah  hàng may sữa date',\n",
              " 'ngon lợi khuẩn hầu_cháu thích uống liên_tục',\n",
              " 'hàng đóng_gói kĩ giao hàng hơi lâu sữa bàn',\n",
              " 'sữa date xa giao nhanh đóng_gói cẩn_thận ưng_ý mua nhìu tiki bgio thất_vọng',\n",
              " 'sữa giao nhanh uống ngon áp đc mã giá mua giá rẻ mua ngoài khá hài_lòng ủng_hộ',\n",
              " 'hầu toàn mua sữa tiki ổn duty lady yomost khui thùng duty khui thùng yomost',\n",
              " 'sữa date mới thùng nguyên_vẹn đóng_gói cẩn_thận giao hàng thân_thiện cảm_ơn',\n",
              " 'sản_phẩm uống ngon thích uống mấy hộp luôn giao hàng chuẩn',\n",
              " 'mua đc thùng sữa giá rẻ chờ giao hàng  tháng tiki dịch_vụ giao hàng',\n",
              " 'sản_phẩm đóng_gói đẹp_mắt cẩn_thận shipper giao hàng nhanh thân_thiện',\n",
              " 'nhơ dat hàng tiki giá rẻ chất',\n",
              " 'sản_phẩm tiki giao nhanh mãi iuuu',\n",
              " 'dịch giao hàng hơi lâu mua sale giá rẻ date',\n",
              " 'bsjsjsbsbs s snbababajabjwjwnwoqnw ổn bqkwnkqnqqknwjwkwkwnwwjwjnwwkw',\n",
              " 'sản_phẩm_giá giao hsd ok ok',\n",
              " 'sản_phẩm mặc dịch giao hàng hơi chút',\n",
              " 'đã mua  cafe thơm ngon giá rẻ giao hàng',\n",
              " 'sản_phẩm hình date xa mùi_vị bé thích giá tốt cảm_ơn shop',\n",
              " 'sợ date cũ date yên_tâm sử_dụng mua mấy mua cận date khiếp',\n",
              " 'tiki giao hàng ko tặng bình nhiệt quảng_cáo đơn',\n",
              " 'sản_phẩm đóng_gói cẩn_thận date giao',\n",
              " 'đã mua tiki yên_tâm chất',\n",
              " 'sản_phẩm tốt giá chăng tiếp_tục ủng_hộ shop',\n",
              " 'sữa_chua ngon mua dc giá giao hàng lâu',\n",
              " 'hàng giao nhanh đóng_gói cẩn_thận shipper nhiệt_tình ủng_hộ tiếp',\n",
              " 'k tặng bình nhiệt hả_shop',\n",
              " 'shop đóng_gói chắn sữa hạn sử_dụng xa',\n",
              " 'mua online giá mua tiệm mã gg thành rẻ',\n",
              " 'hàng chuẩn giá khuyến_mãi siêu rẻ luôn',\n",
              " 'san phẩm_chất_lượng săn dc voucher giá',\n",
              " 'hàng giao đủ hơi xíu ok',\n",
              " 'hàng date mới rẻ mua ngoài mua',\n",
              " 'đặt tỉnh giao nhanh shiper nhiệt_tình bé thích cảm_ơn tiki',\n",
              " 'sữa thơm ngon đóng_gói sản_phẩm',\n",
              " 'chất ẩn_phẩm tuyệt_vời',\n",
              " 'giao hàng nhanh shipper nhiệt_tình',\n",
              " 'hàng ok giao hàng ok giá rẻ',\n",
              " 'hàng bao_bọc cẩn_thận bé uống sữa lắm lần ủng_hộ tiếp',\n",
              " 'sữa ngon rẻ freeship hàng gói cẩn_thận',\n",
              " 'ghi tặng bình nhiệt giao k',\n",
              " 'giao hàng giá rẻ',\n",
              " 'sữa_chua thơm ngon giao hàng kịp_thời cảm_ơn tiki',\n",
              " 'ok ma giao hơi lâu thông_cảm dịch o sg giãn cách',\n",
              " 'tuy hàng giơ gửi hài',\n",
              " 'không kèm bình nhiệt quảng_cáo',\n",
              " 'sản_phẩm đóng_gói kỹ giao hàng nhanh',\n",
              " 'hạn sử_dụng dài   đóng hàng cẩn_thận cho tiki ',\n",
              " 'giao nhanh đóng bao_bì ok',\n",
              " 'không toán đơn hàng nầy',\n",
              " 'giao hang ngạn minh sua lam',\n",
              " 'uống ngon giao hàng nhanh đóng_gói kĩ hạn',\n",
              " 'hàng ok giao thùng tét',\n",
              " 'sữa ngon trẻ uống',\n",
              " 'sao k gởi quà tặng đi kèm ạh',\n",
              " 'hàng',\n",
              " 'ok',\n",
              " 'sữa ngon date tặng balo gấu to hoành_tráng',\n",
              " 'tặng bình',\n",
              " 'date xa giao hàng cực',\n",
              " 'hài sp đóng_gói cẩn_thận thanks',\n",
              " 'very good',\n",
              " 'giao hàng hẹn',\n",
              " 'uống ngon',\n",
              " 'hạn sữa uống chuẩn',\n",
              " 'sữa ngon uống bé',\n",
              " 'date xa giao nhanh đong goi can than',\n",
              " 'gói hàng cẩn_thận hàng ok ủng_hộ shop',\n",
              " 'xịn xò date giá rẻ giao',\n",
              " 'sua uot het nhan kg vua long',\n",
              " 'sữa ngon',\n",
              " 'hàng ok giá ổn',\n",
              " 'mùi vị ngon',\n",
              " 'sản_phẩm hình ship giao hàng vui_vẻ cực_kỳ hài',\n",
              " 'good good',\n",
              " 'tôi k hàng mua thùng sữa tặng lốc sữa giao hàng lốc sữa thùng sữa gọi giao hàng bảo k biết liên_hệ tiki giải_quyết rườm_rà yêu_cầu chụp hình viết mail thứ hàng vậy cụ viết mail chụp hình gửi hình nào',\n",
              " 'trời mẹ ta bé sữa mẹ bú sữa mẹ mẹ hương bạc_hà việt quất mụi ngừi đợi sữa lắm chứ chẳng giao gọi mình gặng gọi máy cạn pin tắc đi hồi chẳng nhỡ nào mà tiki gửi email bảo đã liên_hệ quý_khách thành_công ủa vại chiện sải ga vại mặt đớ ngu tầm  giây phẫn_nộ luôn thế gọi hotline chuyện giao call xong mail gửi thế giao đến hủy đi xong hôm vận gọi mình cho miệng bảo gọi bắt máy lần hễ máy off gọi hiện gọi nhỡ đằng không đã báo tiếng ta đường hôm đấy rồi mấy trời đợi mỏi_mòn đâu _dạ may rốt dòng sữa ngào ạ the end',\n",
              " 'hài mua hàng tiki bình mua sách tiki đầu_tiên mua đồ nhu_yếu_phẩm tiki vô hài_lòng chủ_nhật  giao thời_gian dự_kiến  chất đương_nhiên mua tiki hàng hãng thôi giá rẻ thị_trường freeship nữa sản_phẩm đóng_gói kỹ_lưỡng  sản_phẩm',\n",
              " 'mình đặt thùng  hộp tiki giao  vỉ hàng nguyên seal tiki đóng rồi bây khiếu_nại ntn gửi lỡ toán nản tiki',\n",
              " 'có hạng mục sữa_chua này mua gian_hàng hàng bính nhiệt giá hạng_mục khác giao bình nhiệt bảo quà tặng hạn',\n",
              " ' date đóng_gói cẩn_thận riêng vận  nha đợi  tuần hiển_thị đang chờ xác hàng giãn',\n",
              " 'hàng chính hãng date lắc giao mùa dịch mua giá rẻ mua tạp_hóa siêu_thị sẽ ủng_hộ shop tiếp',\n",
              " 'sản_phẩm giao hàng tiêos_tục ủng_hộ tks sản_phẩm giao hàng tiêos_tục ủng_hộ tks',\n",
              " 'sữa date   nhà mua tiki uống  tuần  thùng mua xuyên đợt date mới k trc cận date',\n",
              " 'giao chậm giao đơn hàng  k hông báo j ta biết ứng_dụng tiki linh_hoạt lắm',\n",
              " 'giao hàng nhanh đóng_gói cẩn_thận tuyệt nhìu ưu_đãi tiếp_tục ủng_hộ mua',\n",
              " 'sp ko móp méo hsd xa ổn nhé giao hàng quá  lun ko  thông_báo kh cả hazz',\n",
              " 'sản_phẩm tiki traiding yên_tâm chất_lượng đóng_gói thận đc hàng móp  chút giao hàng',\n",
              " 'sữa ngon bổ giá rẻ rất to tiki giá rẻ giao hàng uy_tín sẽ tiếp_tục ủng_hộ z',\n",
              " 'hàng chất_lượng sản_phẩm date xa sữa_chua ngon ngon chỉ shipper hơi cọc cằn',\n",
              " 'giao hàng nhanh đóng_gói sản_phẩm kĩ date xa sẽ ủng_hộ shop tới cảm_ơn shop',\n",
              " 'giao hàng nhanh đóng_gói chắn hộp quà tặng đẹp nói tưởng chất hàng mua tiki',\n",
              " 'bảo tặng bình nhiệt mua gửi hàng làm chán',\n",
              " 'tiki giao hàng nhanh thùng đóng_gói cẩn_thận móp méo tội  date  giá  xíu',\n",
              " 'sữa_chua ngon đợi flashsale áp mã giá rẻ rẻ mua tạp_hóa siêu_thị',\n",
              " 'ko tặng bình nhiệt',\n",
              " 'yomost thơm ngon uống ko ngán tiki giao hàng cẩn_thận ko bể vỡ sẽ tiếp_tục ủng_hộ',\n",
              " 'giao hàng kèm shipper nhiệt_tình hàng đóng_gói ổn chống shock',\n",
              " 'sữa ngon ạ lần   mua tiki ạ nhưng giá hơi chút hồi trước thanks tiki ️',\n",
              " 'giao hàng shipper nhiệt_tình giá rẻ date ',\n",
              " 'sữa date tận  giao hàng nhanh đóng_gói kĩ cực hài_lòng hương_vị sữa ngon',\n",
              " 'vị chua dịu nhẹ uống mùi thơm',\n",
              " 'hàng giao nhanh chiều đặt mai giao',\n",
              " 'nhanh mua hôm  hôm giao ngay bình nhiệt',\n",
              " 'đóng gói tốt sữa date xa yên_tâm sử_dụng nhé giá',\n",
              " 'sữa ngon sữa ngon sữa ngon sữa ngon sữa ngon',\n",
              " 'sữa ngon mua giá tốt cám_ơn tiki giao hàng thân_thiện nhiệt_tình',\n",
              " 'giao hàng dự_kiến date xa giao hàng',\n",
              " 'hàng mới date   đợt mua giá tạp_hóa nhiều rất hài_lòng',\n",
              " 'hạn sử_dụng lâu giao hư thùng đựng ngoài rất hài sản_phẩm này',\n",
              " 'giao hàng',\n",
              " 'mua tặng bình nhiệt hàng k thấy',\n",
              " 'giao đủ hàng hạn sử_dụng lâu xài ok lắm',\n",
              " 'mình là fan của yomost tiki free ship nữa tuyệt_vời mặt_trời',\n",
              " 'tốt giao hàng gói hàng cẩn_thận',\n",
              " 'hàng hình khui lây bớt  lôc sữa tôi kg đông',\n",
              " 'giao hàng ngày chất lương su dung biet',\n",
              " 'hài_lòng dfhnnnhđnnjferhehernnebbssvs',\n",
              " 'sản_phẩm ngon chất_lượng giao hàng',\n",
              " 'giao hàng nhanh tiki đóng_gói cẩn_thận',\n",
              " 'sữa ngon date lâu mua sale rẻ',\n",
              " 'sữa ngon giá hợp_lý mình mã giá   kthùng',\n",
              " 'k tặng bình_chương_trình',\n",
              " 'sản_phẩm tốt gói hàng cẩn_thận shipper chuyên_nghiệp',\n",
              " 'hạn lâu mùi_vị bé thích',\n",
              " 'hạn sử_dụng xa giao hàng hạn',\n",
              " 'giao hàng nhanh đóng_gói cẩn_thận',\n",
              " 'k hề cảm đc vị bạc_hà k sữa',\n",
              " 'ngon bổ rẻ loại thich uong nhung loai khac',\n",
              " 'sản_phẩm tiki giao hàng  đ ',\n",
              " 'giao nhanh hạn sử_dụng xa giá ổn',\n",
              " 'hàng giao nguyên_vẹn k móp méo giao',\n",
              " 'mua  tiki rồi bảo_hành bọc tốt ủng_hộ dài',\n",
              " 'sản_phẩm date xa đẹp giá tiền',\n",
              " 'buồn ghê mua giao kia hic',\n",
              " 'hàng ok tuyệttttt vowiiiiiiiiiiiiiiiiiiiiiiiii',\n",
              " 'sữa ngon bé thích cám_ơn shop nhiều',\n",
              " 'ngon date dài đúng ngày giao hàng',\n",
              " 'giao nhanh date mới giá rẻ xíu mua siêu_thị',\n",
              " 'giá tốt date xa vị uống',\n",
              " 'sản_phẩm hình ok giao hàng mùa dịch',\n",
              " 'đóng gói cẩn_thận hàng tốt giao hàng nhanh',\n",
              " 'giao nhanh đóng_gói cẩn_thận giá',\n",
              " 'săn sale giá rẻ giao hàng hơi',\n",
              " 'để quà tặng bình nhiệt ko',\n",
              " 'ghi tặng bình nhiệt',\n",
              " 'sao ko bình nhiệt',\n",
              " 'giao hàng_hàng',\n",
              " 'giao hàng sữa ko móp méo uống ngon',\n",
              " 'sữa date  nha mua',\n",
              " 'sữa ngon tuyệt giao hàng',\n",
              " 'rất ngon ok okokokokokokokokokokokokokokokokokok',\n",
              " 'sữa ngon date dài sẽ ủng_hộ tiếp',\n",
              " ' giao hàng chán ko buồn',\n",
              " 'giao quà km bình yomost',\n",
              " 'ngon tuyệt rẻ',\n",
              " 'date ',\n",
              " 'shop giao hàng khuyến_mãi',\n",
              " 'giao ngờ sản_phẩm',\n",
              " 'sản_phẩm đóng_gói kĩ',\n",
              " 'giao hàng',\n",
              " 'sữa ngon mã giá đc freeship rẻ',\n",
              " 'sản_phẩm ngon giao siêu',\n",
              " 'sản_phẩm uống ngon date',\n",
              " 'sản_phẩm_chất mô_tả',\n",
              " 'vi the mát uống lạnh siêu_ngon',\n",
              " 'sữa rata ngon đóng_gói chắn',\n",
              " 'bé uống lạnh',\n",
              " 'vị bạc_hà_cay cay ngon',\n",
              " 'ok hàng uống ngon ung hộ',\n",
              " 'thơm ngon bổ_dưỡng',\n",
              " 'mua đc giá rẻ date',\n",
              " 'quấn kỹ giao',\n",
              " 'giao nhanh hàng hãng',\n",
              " 'giá km rẻ hàng chất',\n",
              " 'đơn hàng giao dc hai thùng sữa sản_phẩm lại mà hai thùng sữa móp méo ko chất_lượng thùng dơ móp tôi mong hoàn tiền tất_sản phẩn thiếu vì e_ngại sản_phẩm dc giao ko chất hai thùng sữa này',\n",
              " 'giao hàng nhanh siêu nhanh đóng_gói kĩ_càng lớp bọc băng keo lớp bìa đỡ trong  dịch_vụ chưa uống uống nghiện lối_thoát đến_nỗi uống nữa vị chua chua ngọt nuốt cảm_giác họng chút mát_mát xông xốc tuyệt vờiiiii',\n",
              " 'nhận thùng sữa_chua mừng lắm chờ giao lắm rồi mình hơi tiếc bể  lốc lem lau sơ mua  thùng sữa tặng kèm  gói sữa ngũ_cốc hi_vọng shop khâu vận cẩn_thận hơn',\n",
              " 'sữa_chua ngon_ngọt bớt ngon hơn ngon giá rẻ  k  hộp mua tạp_hóa  k  hộp hộp hộp  tiếp_tục ủng_hộ tiki',\n",
              " 'sữa uống ngon săn giá rẻ  k thôi do dịch tận  hàng  date sữa  nói hài_lòng thùng sữa lắm luôn',\n",
              " 'hàng giao nhanh giao hàng thân_thiện nhiệt_tình sản_phẩm tốt uống ngon mát hợp trẻ lớn mua đợt sale giá rẻ mua nữa',\n",
              " 'sữa tủ mát uống ngon chê đóng_gói cẩn thẩn giao nhanh',\n",
              " 'mùa dịch_shop giao hàng nhanh giá giao hàng hợp_lý săn mã free ship hàng đóng_gói cẩn_thận sữa uống ngon tủ_lạnh uống ngon hơn tiếp_tục hàng tiệm ạ',\n",
              " 'sữa ngon mát uống cực_kỳ thích và may_mắn trình giao hàng sữa ko va_đập gì hú_hồn mà ngon uống đi đánh_giá ko ảnh hiuhiu',\n",
              " 'như mua siêu_thị đỡ nhọc công mua xếp_hàng chờ toán về date xa  thùng uống tuần lăn_tăn có hộp móp méo',\n",
              " 'giao  sản_phẩm tiền  sản_phẩm giao thùng sữa_chua hoa thùng sữa fami rách sữa chảy tùm_lum',\n",
              " 'thùng chín giao thùng giao hạn nhiên sữa đổ hình hộp mong tiki khắc_phục',\n",
              " 'ngon lắm sữa_chua uống ngon thơm mùi việt quất uống xong vị bạc_hà lưu vòm_họng hạn sử_dụng lâu tương_lai mua khuyên mua',\n",
              " 'tiki giao hàng nhanh vị sữa dutch lady vẻ đỡ yomost na_ná nhau có bạc_hà uống mát the_thé họng vui',\n",
              " 'đóng gói sản_phẩm kĩ thùng sữa nguyên_vẹn lượng hạn sử_dụng xa giao hàng hài',\n",
              " 'sữa ngon vị bạc_hà the_the cổ_họng để tủ_lạnh uống ngon hơn date uống dc hết mua tiếp',\n",
              " 'hàng giao nhanh hsd xa lần đầu mua hàng thực_phẩm tiki hài_lòng tuy_nhiên thái_độ nhân_viên giao hàng tốt cải_thiện',\n",
              " 'shop giao hàng nhanh shop giao hàng quảng_cáo đơn hàng hạn sử_dụng  giá chấp được cam on_shop va shipper',\n",
              " 'ngon mùa hè tốn tiền uống mát_mát',\n",
              " 'sữa ngon date tận  tiki giao hàng cực nhanh cám_ơn tiki hàng',\n",
              " 'hàng chính hãng date lắc giao mùa dịch mua giá rẻ mua tạp_hóa siêu_thị sẽ ủng_hộ shop tiếp',\n",
              " 'sữa_chua uống ngon nhé săn sale  k thui nè vị việt quất bạc_hà vẻ ngon vị nè ️ ️ ️ ️',\n",
              " 'sữa ngon phù_hợp gia_đình mua tiki tiện rẻ nữa shipper nhiệt_tình giao hàng dịch',\n",
              " 'hạn sử_dụng tới  uống hơi ngọt thùng sữa còn nguyên_vẹn tới mình mua sale vậy là ổn rồi',\n",
              " 'vị đầu việt quất vị bạc_hà uống xong mát họng ok săn sale tiki giá rẻ bọc hàng cẩn_thận date  lận',\n",
              " 'sữa uống được thơm mùi việt quất uống xong miệng the_the bạc_hà giao hàng nhanh mọi mua uống thử nha',\n",
              " 'sữa ngon vị chua chua kết_hợp vs vị bạc_hà uống tuyệt tiki giao hàng chóng hài',\n",
              " 'nhân_viên giao hàng thương giao hàng xuyên trưa luôn hàng gói cẩn_thận ghi chữ vỡ nữa an_tâm tiki trading',\n",
              " 'ngon giao hạn',\n",
              " 'ảnh liên_quan sữa ngon bổ rẻ tks tiki nhé giá tiki chả bao_nhiêu hihi',\n",
              " 'sữa ngon mua giá tốt dịch giao hơi chút nhưng vị việt quất ngon lắm',\n",
              " 'shop giao hàng nhanh đóng_gói cẩn_thận sữa_chua ngon mua giá khuyến_mãi ok lắm ạ cám_ơn shop',\n",
              " 'giao hàng tia chớp bọc siêu chắc trc mua  l hơi bật lắp bọc chống sốc tốt',\n",
              " 'covid mua  thây giao hang sữa ok du mua sữa shop',\n",
              " 'ok date  mới mua đầu mua  thùng',\n",
              " 'chất lương_sản_phẩm tuyệt_vời _shop đóng gói đẹp tiền ship hợp_lí',\n",
              " 'đã  thùng giao hàng nhiệt_tình trời mưa giao tg',\n",
              " 'đặt giao giờ khui kiến phù này',\n",
              " 'tiki đóng_gói cẩn_thận trải_nghiệm sản_phẩm ngon',\n",
              " 'hàng mới hạn xa thơm ngon tiki giao hàng',\n",
              " 'chất sản_phẩm tuyệt_vời tiki giao hàng nhanh đóng_gói chắn',\n",
              " 'ngon giá ổn giá gốc giao nhanh bọc kỹ shipper nhiệt_tình vui_vẻ thanks all',\n",
              " 'nhận hàng vỡ hộp sữa trong mùi hôi',\n",
              " 'sản_phẩm uống ngon giao hàng sẽ tiếp_tục mua',\n",
              " 'sữa ngon lắm người chờ mãi sale mua xong sale chán',\n",
              " 'giá mua rẻ date công   giao hàng mua',\n",
              " 'không biết ngon mà mấy đứa nhỏ khen hết nấc và muốn uống nữa vậy chắc là ngon shop giao nhanh',\n",
              " 'tiki giao hàng nhanh hàng chuẩn đủ giá tốt hài ',\n",
              " 'sữa chất_lượng date xa mua giá hài đi',\n",
              " 'sữa ngon chất_lượng date ổn vận chậm tình_hình dịch_bệnh shipper tận_tình thương',\n",
              " 'sp đóng_gói đẹp sạch_sẽ giao hàng nhanh mua giá rẻ bèo sữa ngon mát',\n",
              " 'tệ sao lại thể giao thùng sữa bóc dở ntn yêu_cầu tiki phản_hồi',\n",
              " 'sữa date giao hàng bù đc rẻ thùng k móp méo',\n",
              " 'sản_phẩm đẹp giao hàng nhanh đóng_gói cẩn_thận ủng_hộ',\n",
              " 'đóng gói kỹ giao hàng nhanh shiper nhiệt_tình sữa uống ngon ',\n",
              " 'đã mua mấy thùng tiki thành_phố hàng giao nguyên_vẹn',\n",
              " 'ngon rẻ bé thích ảnh lung_tung chất xu',\n",
              " 'chất sản_phẩm hạn sử_dụng giao hàng',\n",
              " 'giá tốt sữa ngon giá tốt sữa ngon giá tốt sữa ngon giá tốt sữa ngon',\n",
              " 'dù hcm giãn hàng hẹn uy_tín chuẩn thương_hiệu tiki',\n",
              " 'giao trễ dự_kiến  sữa ngon ủng_hộ giao hàng xíu nua',\n",
              " 'cảm_ơn tiki nhân_viên giao hàng nhanh sản_phẩm nguyên_vẹn tốt date tháng ',\n",
              " 'sữa hình chất_thơm ngon bé thích giao hàng nhanh _shop ',\n",
              " 'sữa mua mấy đứa uống lắm bố_mẹ uống',\n",
              " 'sữa ngon tuyệt_cú mèo giá rẻ hàng giao nhanh đóng_gói tốt a_giao hàng thương vui',\n",
              " 'sữa ngon giá hợp_lý đóng_gói chắn',\n",
              " 'sp giao nhanh hàng chuẩn cô gái hà lan giá ưu_đãi sản_phẩm ngon',\n",
              " 'sữa ngon đóng_gói cẩn_thận date  ủng_hộ tiếp',\n",
              " 'sữa ngon giao hàng nhanh hsd xa nguyên đai nguyên kiện mua mã giá tiki rẻ',\n",
              " 'sữa ngon mua đc giá  k chờ hoài ko nữa huhu',\n",
              " 'sữa ngon lắm uống mát_mát nhon miệng ủng_hộ thêm nhìu',\n",
              " 'sữa ngon mua giá tốt cám_ơn tiki giao hàng thân_thiện nhiệt_tình',\n",
              " 'sữa ngon date bé thích cám_ơn shop',\n",
              " 'giao hàng date tận  giá rẻ quá ưng cảm_ơn tiki',\n",
              " 'cũng uống ngấy có vị chua quá',\n",
              " 'giao hàng nhanh tối kịp ngủ zậy rồi hàng chất tiền',\n",
              " 'giao hàng nhanh sản_phẩm_chất cao giá_thành hợp_lý',\n",
              " 'sản_phẩm hãng thơm ngon sử_dụng đóng_gói cẩn thân giao hàng',\n",
              " 'giao nhanh chất tuyệt_vời uống lạnh ngon',\n",
              " 'shop giao hàng nhanh sữa hạn sử_dụng ',\n",
              " 'đã hàng nv giao hàng thân_thiện sản_phẩm ok',\n",
              " 'sữa uống ok giá tiền rẻ chẳng chờ hơi',\n",
              " 'sản_phẩm sữa ok phù_hợp mình mua giá tốt cảm_ơn tiki',\n",
              " 'sách đẹp giao hàngchuaanr đóng_gói sản_phẩm kỹ',\n",
              " 'sữa ún ok ngon dnndndmmdjdbxn',\n",
              " 'sản_phẩm giao nhanh giá sale rẻ sữa ngon chất_lượng',\n",
              " 'sữa_chua ngon nhân_viên giao hàng',\n",
              " 'rất hài_lòng thể thay sữa_chua',\n",
              " 'sữa_chua ngon uống lạnh thời_gian giao hàng',\n",
              " 'đường sữa cao  g hộp nsx đường an_toàn bé',\n",
              " 'mùi hương bạc_hà việt quất vị chua uống',\n",
              " 'sp gia tot be thich hương ci nay giao hangvnhanh chong',\n",
              " 'hàng nguyên_vẹn giao hàng ổn chất okie ủng_hộ tiki nè',\n",
              " 'giao hàng nhanh gói đồ cẩn_thận',\n",
              " 'mùa  ưng_ý ️ ️ ️',\n",
              " 'vị việt quất ok lắm nha giao',\n",
              " 'tuyệt voi nha mn ung ho_shop lan',\n",
              " 'giá ổn giáo hàng mẫu_mã',\n",
              " 'đặt     được ',\n",
              " 'nhận hàng bịch lạp_xưởng phồng to ko cắt chiên luôn ăn vẻ hơi_men đau bụng  rồi toàn luôn nhận hàng hôm toàn tp ly ko đổi gì thấy mua đóng bịch hút chân ko có lạp_xưởng tươi ko hút chân hư lắm coi xui',\n",
              " 'chất màu đỏ nhiên giao hàng tặng gói khô bò ',\n",
              " 'lạp_xưởng màu nhiên đỏ quá thơm nhẹ vặn vị nạc hơi mỡ tuy_nhiên xứng tiền',\n",
              " 'giao hàng thiếu rất thất_vọng vọng_cung tân_lộc phát sẽ mua hàng cung nữa',\n",
              " 'sản_phẩm ngon cơm k đc hạt tiêu hấp xong cắt miếng hạt_tiêu dàng nguyên hạt',\n",
              " 'lạp_xưởng bịch phồng to dầu trông vẻ hư giãn đổi',\n",
              " 'shop giao hàng nhầm m m lạp_xưởng heo tươi giao m lạp_xưởng nhân ko biết cảm ko hài',\n",
              " 'mong shop tiki hộ trợ_giúp nha lạp_xưởng hư nguyên bịch r',\n",
              " 'thử bao_bì đẹp bắt_mắt giao hàng chóng mùa dịch',\n",
              " 'bức bảo hủy hàng hoàn tiền đồng_ý giao hàng kiểu',\n",
              " 'này xong tủ đông luôn đóng_gói sạch_sẽ kín',\n",
              " 'sp chất_lượng ngon mỡ bạn kiêng quen vị ăn',\n",
              " 'sản_phẩm lẫn cát hơi ghê khâu nào chế_biến bảo_quản không mua lại',\n",
              " 'thử đánh_giá chất đóng_gói kỹ_nhiên bao_bì ko hút chân ko',\n",
              " 'lạp_xưởng tươi ngon nhiều tiêu thơm mn mua',\n",
              " 'lạp_xưởng mốc nhờ tiki xử_lý',\n",
              " 'lạp xưởng  hộp đựng hơi hở',\n",
              " 'vận lạp_xưởng an_toàn dùng',\n",
              " 'ăn ngon nhưng hơi ngọt hơi tiêu hạn sử_dụng xa',\n",
              " 'shop đóng_gói cẩn_thận ít mặn',\n",
              " 'giao hàng mua lạp_xưởng heo giao lạp_xưởng tôm cần đổi',\n",
              " 'san pham ngon giao hàng tiếp_tục ủng_hộ shop',\n",
              " 'sản_phẩm ok k hình lạp_xưởng phổ_thông á',\n",
              " 'gia hộp lí giao hàng nhanh vì ngon tiếp_tục ủng_hộ',\n",
              " 'lạp_xưởng mỡ nhiều thành thịt ghi bao_bì ',\n",
              " 'lo',\n",
              " 'ngon lạp_xưởng tươi giao lạnh',\n",
              " 'giao hàng chóng lạp_xưởng tươi mềm cơm ngon',\n",
              " 'đóng gói giao hành nhah chưa chất ntn',\n",
              " 'dãn giao hàng hơi lâu tuy_nhiên lạp_xưởng ngon',\n",
              " 'ngon lắm',\n",
              " 'lạp_xưởng cảm_giác thịt mỡ',\n",
              " 'lạp_xưởng màu sợ ko dám ah',\n",
              " 'vị lạp_xưởng tạm ổn hơi khô nha shop',\n",
              " 'sảm phẩm hôi cừa hàng',\n",
              " 'mềm ngon hơi ngọt',\n",
              " 'mẹ lạp_xưởng hôi dầu nha',\n",
              " 'chất tạm ổn không ngon mong_đợi',\n",
              " 'k mùi_vị lap xưỏng truyền_thống',\n",
              " 'lạp_xưởng ngon giao hàng nhanh',\n",
              " 'sản_phẩm ghi nạc   này phẩm màu màu đỏ tươi an_tâm',\n",
              " 'rất ngon mỡ trứng_muối ',\n",
              " 'hài gia thành',\n",
              " 'sản_phẩm tạm ngon lắm',\n",
              " 'sp ngon',\n",
              " 'lạp_xưởng ngon nhiều thịt vừa ăn',\n",
              " 'tạm ổn ít mỡ khô quá',\n",
              " 'lạp_xưởng mặn vị cá khô',\n",
              " 'không ngon thất_vọng',\n",
              " 'không ngon lắm',\n",
              " 'ngon',\n",
              " 'màu nhiều bị đắng haizzzzzzzzzzz',\n",
              " 'đang thưởng_thức lạp_xưởng',\n",
              " 'lạp_xưởng mùi tươi',\n",
              " 'ngon mỡ ăn giá',\n",
              " 'lạp_xưởng khô_cứng',\n",
              " 'lạp_xưởng ngon chà ok',\n",
              " 'chất ổn giá',\n",
              " 'ngon đóng_gói cẩn_thận',\n",
              " 'nhận khui liền',\n",
              " 'ngot nhung k co dau tam dc',\n",
              " 'sạch mẫu_mã ok',\n",
              " 'san pham ngon nhu mong doi',\n",
              " 'lạp_xưởng ngon mỡ',\n",
              " 'ok sản_phẩm hình',\n",
              " 'ok',\n",
              " 'giao hàng',\n",
              " 'ngon rẻ',\n",
              " 'giá',\n",
              " 'lạp_xưởng ngon',\n",
              " 'sản_phẩm',\n",
              " 'ngon giao',\n",
              " 'ngon lam',\n",
              " 'ngon',\n",
              " 'ngon mo',\n",
              " 'sản_phẩm ok',\n",
              " 'giáo hàng tót',\n",
              " 'bánh ngon',\n",
              " 'ngon',\n",
              " 'vị ngon',\n",
              " 'sp ngon',\n",
              " 'ok',\n",
              " 'tạm',\n",
              " 'gửi đây đã gọi tổng_đài mà chờ nửa ko gửi hàng tiền tật mang ai dám mua hàng tiki',\n",
              " 'đặt_hàng dịch_bệnh mãi hàng nấm thơm ngon hài_lòng',\n",
              " 'nam huong nam đong nấu khui mui huong ngay cảm_giác đong',\n",
              " 'sản_phẩm đóng_gói chắc giao hàng nhanh mình ưng tiếp_tục ủng_hộ shop',\n",
              " 'giá rẻ nấm bé nhưng chất ổn',\n",
              " 'giá tốt nấm thơm cg ăn gh quá dịch',\n",
              " 'nấm khô ngon bịch sạch',\n",
              " 'giao hàng đóng_gói chất',\n",
              " 'nấm nấu thơm mua nhìu',\n",
              " 'nấm nhỏ thơm hàng hình',\n",
              " 'nam nho nhung dai va thom an cuc ngon',\n",
              " 'cũng tạm đc',\n",
              " 'sản phảm',\n",
              " 'giá tốt mùi thơm',\n",
              " 'sp hình',\n",
              " 'nấm ngon',\n",
              " 'ok',\n",
              " 'ok',\n",
              " 'mua giá ok tiền đó',\n",
              " 'hàng giá',\n",
              " 'chà ngon',\n",
              " 'ngon',\n",
              " 'hàng hôm giao ko tiki báo lại gọi tôngg đài tổng_đài bảo ko giao hàng dc ảnh móp méo',\n",
              " 'trừ  vận ko thông_báo toàn chủ_động mail cskh tiki chủ_động thông_báo tình_hình đơn giao muộn vấn_đề vc tiện ng mua',\n",
              " 'giao siêu nhanh hôm hôm rồi đơn hàng om  giao đây đầu mua hàng trải_nghiệm xịn xò quá',\n",
              " 'hiếm vận giao hàng vỡ rơi nhẹ cg nổ miệng hộp sữa cảm_ơn tiki đc uống sữa thị_trường ko',\n",
              " 'mua uống thử sữa_chua chua uống dịch giao hàng hoi chậm thông_cảm ',\n",
              " 'thùng sữa mua đợt sale giá  k đc tặng bình mấy gói ngũ_cốc nữa  lun',\n",
              " 'lần đầu_tiên uống vị sữa này mình mua giá sale trog mùa dịch trời ghiền vị rồi hàng đóg gói cẩn_thận gọn_gàng nha',\n",
              " 'quảng_cáo ghi tặng kèm bình ship',\n",
              " 'mấy đứa cháu vị_dịch mấy cửa_hàng có vừa tiki giá',\n",
              " 'giao hàng kinh_dị đặt     hàng k tiki kiểu gì',\n",
              " 'sản_phẩm_chất phù_hợp giá tiền giao hàng thân_thiện tiếp_tục mua',\n",
              " 'sữa uống ngon tủ_lạnh uống giao hàng bọc hàng cẩn_thận nên mua nha mn',\n",
              " 'giao hàng nhanh vị sữa ngon rẻ ngoài nên mua ơi',\n",
              " 'hàng sản_phẩm tuyệt giao hàng cực_nhanh hôm hàng tks tiki',\n",
              " 'vừa mua xong hạn lắm chả quan_trọng  hộp ',\n",
              " 'sữa uống ngon mua thùng hơi tiền chút hjhjhj v',\n",
              " 'sữa uống ngon cả cùngvthichs ship nhiệt_tình mưa_gió dịch hôm trc hôm',\n",
              " 'giao hàng nhanh uống vị yomost vị việt quất vs mint ko chua bằng nói ngon',\n",
              " 'đóng gói cẩn_thận hạn sử_dụng xa giá tốt giao nhanh đã mua  sẽ chờ sales mua tiếp d',\n",
              " 'sản_phẩm tiki kiếm mấy trang ko có đc ưu_đãi giá rẻ siêu_thị',\n",
              " 'tiki giao hàng nhanh sữa ngon giá rẻ dùng mua tiếp',\n",
              " 'sữa_chua ngon uống hậu mùi bạc_hà mát lạnh _giá tốt đóng_gói kỹ_lưỡng chắn giao nhanh',\n",
              " 'sửa uống ngon săn giá ship tĩnh giá siêu rẻ',\n",
              " 'dịch giao hàng hẹn nguyên_vẹn hsd  ',\n",
              " 'sữa_chua uống ngon nha người mùi thơm việt quất vị the nhẹ bạc_hà',\n",
              " 'chất sản_phẩm tốt mùi_vị phù_hợp giá hợp_lý',\n",
              " 'sp ok vận trễ  dự_kiến',\n",
              " 'giá tốt giao hàng nhanh tối mai giao giao hàng tiết_kiệm',\n",
              " 'mua lần hài',\n",
              " 'huong vi ngon giao hang nhanh dot mua km ko lan truoc',\n",
              " 'rất hài',\n",
              " 'sữa ngon vận chóng mình mua hàng tiếp',\n",
              " 'ngon giao nhanh mua nữa',\n",
              " 'đóng gói kỹ giao hàng  ngày hsd  tháng',\n",
              " 'giao hàng nhanh đóng_gói chắn chất ổn',\n",
              " 'shop tiki giao hàng nhanh date xa cám_ơn shop tiki',\n",
              " 'giao hàng hẹn sữa ngon',\n",
              " 'sữa_chua uống ngon rất hài_lòng lần mua',\n",
              " 'uống ngon thàng mua  thùng uống',\n",
              " 'sản_phẩm_chất tốt sẽ ủng_hộ tiếp',\n",
              " 'sữa mùi bạc_hà việt quất',\n",
              " 'sữa_chua ngon giao',\n",
              " 'sản_phẩm ok lắm hạn sử_dụng',\n",
              " 'tiki giao hàng chậm chất sữa ổn',\n",
              " 'shipper thân_thiện gói hàng cẩn_thận nn',\n",
              " 'đóng gói cẩn cận date uống ngon',\n",
              " 'hạn sử_dụng ngắn',\n",
              " 'ngon bổ rẻ',\n",
              " 'giao hàng cẩn_thận',\n",
              " 'sp',\n",
              " 'giá ship',\n",
              " 'vị thích',\n",
              " 'giao hàng cực_kì nhanh',\n",
              " 'hạn sử_dụng',\n",
              " 'giá tốt dated',\n",
              " 'date mới vị ngon',\n",
              " 'giao hàng nhanh hsd ',\n",
              " 'sản_phẩm',\n",
              " 'ngonnnn',\n",
              " 'ngon',\n",
              " 'ngon',\n",
              " 'hàng',\n",
              " 'đóng gói cẩn_thận giao hàng chậm  ngày sản_phẩm_chất tốt giá khuyến_mãi tiếp_tục mua sản_phẩm hài dịch_vụ tiki',\n",
              " 'đặt hàng xg đi giao ng giao nhầm kêu cẩu_thả còn ng hàng ng ta săn đc hàng rẻ hờ đồ hôi _shop trách_nhiệm chút thất_vọng',\n",
              " 'sữa_chua uống ngon độ_đặc phải vị chia khiết hạn sử_dụng t tiki giao nhanh đc free ship rẻ',\n",
              " 'sữa ngon k gắt mùi_vị chuẩn sữa_chua nên mua hộp  lít hộp  ml vì tiết_kiệm giá rẻ hơn mùi_vị ngon nhiều date  uống',\n",
              " 'ngon phê giao hang đóng_gói cực luôn mua  quá sản_phẩm chất_lượng bao_bì',\n",
              " 'ngon gia_đình thích',\n",
              " 'giao hàng nhanh đóng_gói cẩn_thận nhân_viên giao hàng nhiệt_tình',\n",
              " 'sao gân  thang moi toi thang  thi het han  hop  nguoi uong het kip niu da giao tre thi ko nguoi ta date_hon di',\n",
              " 'vận nhanh đóng_gói cẩn_thận hạn sử_dụng xa uống vị ngon giá rẻ',\n",
              " 'sản_phẩm uống ngon uống mùa dịch tiki giao hàng nhanh đóng_gói cẩn_thận',\n",
              " 'tôi uống sữa_chua rất ngon nghiện còn uống',\n",
              " 'vô thất_vọng lỡ mua nguyên thùng sữa lỏng y sữa_tươi thông_thường vị quá',\n",
              " 'sữa_chua uống nc uống tuyệt ngon tuyệt_vời',\n",
              " 'chưa sản_phẩm tặng kèm ạ mong phản_hồi thanks',\n",
              " 'sữa ngon thơm chất_lượng hsd xa hàng giao',\n",
              " 'mua giá ngoài sữa uống ngon nên mua',\n",
              " 'giao nhanh freeship thùng tiết_kiệm',\n",
              " 'giao hàng nhanh ship siêu rẻ date sữa dài  thùng nguyên_vẹn ko móp méo',\n",
              " 'giao nhanh gói cẩn_thận uống tạm hơi',\n",
              " 'ngon mong_đợi tội đợi hơi lâu hii mua tiếp',\n",
              " 'sản_phẩm ok lắm hạn sử_dụng',\n",
              " 'đóng gói chắn sữa hơi lỏng',\n",
              " 'sản_phẩm ok giao',\n",
              " 'sữa ngon ủng_hộ shop tiếp_tục',\n",
              " 'sữa_chua ngon giao',\n",
              " 'giao hang nhanh giá',\n",
              " 'chất sp',\n",
              " 'giao hàng',\n",
              " 'bé uống k bón',\n",
              " 'vị sữa ngon',\n",
              " 'tốt ngon rẻ',\n",
              " 'thích',\n",
              " 'ăn ngon',\n",
              " 'ngon',\n",
              " 'ok',\n",
              " 'giao hàng',\n",
              " 'like',\n",
              " 'tốt',\n",
              " 'ok',\n",
              " 'giao cực',\n",
              " 'hơi móp hộp sữa tí ko sao sữa hơi loãng bentagen nhưng ổn',\n",
              " 'hàng gửi ko chậm củng ko nhanh hsd lâu hài_lòng tội sữa mình sữa_tươi sữa_chua ko bít_shop sữa_tươi topkid bé ko nhấn    bốn năm cảm_ơn',\n",
              " 'giao hành nói sữa vị sữa_chua không ngọt vị nhẹ_nhàng toàn uống',\n",
              " 'thùng ghi mua  tặng  ko tiki giao tặng mình mua  lần tổng  thùng  hộp tặng ko giao đi đâu',\n",
              " 'sữa ngon date đóng_gói cẩn_thận ổn',\n",
              " 'mua yogust hủ giao hộp giấy ko vui lắm  sao mùa dịch tạm',\n",
              " 'chất sản_phẩm tuyệt_vời shop phục_vụ',\n",
              " 'hài_lòng giao hàng chậm mùa dịch covid hu vọng cải_thiện',\n",
              " 'hài_lòng tiki giao hàng nhanh đóng_gói sản_phẩm chắn hàng mới hạn ',\n",
              " 'thùng ghi mua  tặng  k đc tặng a gh ko đeo kt đi gh lun',\n",
              " 'bọc cẩn_thận date xa mua giá khuyến_mãi hài',\n",
              " 'giao hàng dự_kiến date tít_tắp giao hàng thân_thiện nhiệt_tình giao hàng ủng_hộ tiki',\n",
              " 'date vị chuối uống ngon lắm bé lắm',\n",
              " 'sản_phẩm chất_lượng giao hàng nhanh cảm_ơn cung lẫn tiki',\n",
              " 'mua sale mua sữa tiki ko lo khâu đóng hàng',\n",
              " 'giao hàng nhanh sản_phẩm hình nhân_viên giao hàng thân_thiện nhiệt_tình luôn ủng_hộ tiki',\n",
              " 'bé k uống sữa đổi sữa bé uống',\n",
              " 'giao chậm cải_thiện chất',\n",
              " 'sản_phẩm ngon giao hàng lắm ạ lần dịp',\n",
              " 'sữa ngon uống bé',\n",
              " 'sp giáo nhanh bé uống date',\n",
              " 'ok hợp_tác rôi nữa u',\n",
              " 'ngon rẻ mua trúng đợt sale  k',\n",
              " 'sữa_chua vị nhẹ bé thik',\n",
              " 'giao hàng siêu lâu trễ tuần',\n",
              " 'giao hàng siêu nhanh bé sữa_chua',\n",
              " 'chuẩn hạn sử_dụng mới đóng_gói cẩn_thận giao hàng',\n",
              " 'gói hàng cẩn_thận',\n",
              " 'tiki giao hàng sp chất bao_bì đóng kĩ',\n",
              " 'sản_phẩm tuyệt_vời giao nhanh mua uống',\n",
              " 'hàng mua  tặng  ko hàng khuyến_mãi',\n",
              " 'sữa_chua th vị ngon thơm',\n",
              " 'chất',\n",
              " 'nv giao hàng lịch',\n",
              " 'giao hàng nhanh hsd xa',\n",
              " 'vị ngon',\n",
              " 'date dài sữa bé',\n",
              " 'ngon',\n",
              " 'ngon',\n",
              " 'good',\n",
              " 'hàng giao nhanh date xa cực_kỳ hài',\n",
              " 'ngon lắm',\n",
              " 'ok',\n",
              " 'ukk',\n",
              " 'hàng hãng date ',\n",
              " 'rất ngon bé',\n",
              " 'hàng hãng giao',\n",
              " 'giao nhanh đóng_gói cẩn_thận',\n",
              " 'sữa thơm ngon bé rata uống',\n",
              " 'hàng chuẩn',\n",
              " 'sữa_tươi',\n",
              " 'kkk',\n",
              " 'tốt',\n",
              " 'ok',\n",
              " 'tốt ok',\n",
              " 'ngon rẻ vissan từ hồi gia_đình mua vissan nữa vissan mỡ quá ko thơm ngon thịt',\n",
              " 'sản_phẩm tầm giá giao hàng shop khác',\n",
              " 'lạp_xưởng thơm ngon hợp khẩu_vị gia_đình mình',\n",
              " 'ưng_ý',\n",
              " 'không mong ghé sóc_trăng lắm vote ',\n",
              " 'giao hàng nhanh lạp_xưởng ngon',\n",
              " 'ưng sản_phẩm đóng_gói kỹ',\n",
              " 'rất ngon hợp khẩu_vị bữa cảm_ơn tiki',\n",
              " 'ok',\n",
              " 'ok',\n",
              " 'hải long',\n",
              " 'đã mua sản_phẩm tiki hài tiến_trình đơn đặt xử_lý giao hàng có góp nhỏ bao_bì đóng_gói kích_thước phù_hợp sản_phẩm trong lấy hộp  kg đóng  kg ko tiết_kiệm sản_phẩm lỏng_chỏng vỏ móp_mép nhiều mỹ_quan nhân_tiện  đơn hàng ngày một đơn  đơn bơ_vơ phương nào kỳ zậy',\n",
              " 'sản_phẩm quảng_cáo giao hang dong goi dep va cẩn_thận',\n",
              " 'ngon đã mua nhiên date hơi ngắn  mong_shop giao hàng date tí nha sẽ mua ủng_hộ tiếp',\n",
              " 'sp thom ngon chat luong tiki giao hang nhanh sp dung hinh tiki  sao',\n",
              " 'đánh_giá  cảm_giác gói hàng  gram',\n",
              " 'đóng gói tỉ mĩ lạp_xưởng tươi ngon tưởng tks tiki',\n",
              " 'lạp_xưởng ngon đóng_gói tốt mọi mua dùng',\n",
              " 'lạp_xưởng vị tệ',\n",
              " 'tiki giao hàng nhanh phục_vụ hàng chất ngon',\n",
              " 'ngon ăn giá hợp_lý đóng_gói cẩn_thận',\n",
              " 'mong tiki cập_nhật tikinow khu_vực khá',\n",
              " 'rất ngon đóng_gói sạch_sẽ hsd',\n",
              " 'chất ổn tầm giá',\n",
              " 'lạp_xưởng thơm ngon',\n",
              " 'giao hàng ngon',\n",
              " 'cũng dc',\n",
              " 'ngon',\n",
              " 'hàng được xác_nhận được hàng giao hàng      hình  hàng giao nhân_viên đi giao hàng    chủ_nhật   phản_ảnh hình  nhân_viên hàng  h giao  h nguy_hiểm  suy nhân_viên giao hàng sản_phẩm gì giá_trị kí xác_nhận xài dùm hàng  giá_trị đơn hàng ko ảnh_hưởng uy_tín tiki quá dám đi săn sale hàng rùi haizzz',\n",
              " 'trước_tiên chấm chất highlands  ngon phổ_biến việt nam tuy_nhiên  quảng_cáo trá_hình vầy ngày  tiki tung deal mua  tặng  hình dòng số hạn hàng tiki ko hề thay_đổi hình_ảnh khuyến_cáo mua hàng tâm_lý giá hời gài mua hơn kết  thay  không bất gói  kg  g tiki quảng_cáo mua mình hạn ko tặng vậy lỗi hàng kỹ thông_minh suy mua tiki hàng mua hàng biết vầy tiki ẵm ngàn đơn cafe tiêu bực_tức lừa không chỉ đơn_giản sản_phẩm tặng kèm hết tặng tiki biết giờ tin thể mình lựa deal hời trung_thành tiki vụ tiếp_tục mình comment tác_động  tập_đoàn tiki chắn bất đánh_giá tiki sản_phẩm tikitiki trading quảng_cáo cảm_giác lừa',\n",
              " 'trên đăng mua  tặng   khi hàng ko hàng tặng mua  g bột cafe màu nâu pha thơm vị ngon sao  kg bột cafe màu đen pha ko thơm lắm vị đắng đây cảm ntn k nha',\n",
              " 'tôi thực thất_vọng sản_phẩm cafe highlands sảm phẩm cháy_đen than cafe hạt rang sẵn xay đợt dịch mua highland sản_phẩm thương_hiệu chất trong hình gởi kèm màu nâu nhạt sản_phẩm đổ biệt  sản_phẩm màu cafe hinhland đen_thui màu mặt_kính bếp_ga hình gởi kèm tôi clip post',\n",
              " 'sản_phẩm lủng  lỗ mùi cà_phê thoát ra cộng giao hàng đảm_bảo chất cà_phê không mùa dịch giao hàng thông_cảm được chất sản_phẩm thực hài',\n",
              " 'quá tệ mua siêu sales    h  kg tặng  kg mua  kg   hàng  kg  kg tặng kèm khuyến_mãi nhắn gọi điện mấy giải_quyết gửi  kg cafe lại trải_nghiệm tệ tiki  ',\n",
              " 'mình hàng bột cà fe đen k nâu mưa siêu_thị shop hàng chất higland mình hàng giả k đi uống mong shop giair dạng hàng shop hãng',\n",
              " 'đầy cafe giả mùi_vị uống tôi uống cafe  cafe cafe ngay suốt mấy dịch tôi mua cafe gói trong sieu thị mua cafe highland này các bạn vô hộp cafe highland màu đen_thui cafe cũ màu nâu đặc_trưng',\n",
              " 'cà_phê đóng_gói chắn đẹp thườg uống hl mua pha đợt giãn cách tuy_nhiên đồng dịch_vụ ship tikinow mình  k dịch_vụ ship tikinow hôm đc nhận tiki ko_thể giao vận liền đợt dịch tắt dịch_vụ đó hiển_thị trừ tiền giao đc thỏa_đáng tiki ship đề_cập giao trễ mình',\n",
              " 'mình dân nghiện highland cafe và chuyên uống truyền_thống hl lần đầu_tiên mua gói tiki vì hl đóng cửa covid ui choi ôi cafe pha  muỗng ăn cơm gần như ko có  vị gì thử pha  nhạt_nhẽo y_chang vậy thất_vọng tràn luôn ko hàng highland ko',\n",
              " 'mình mua sale  để mua  kg tặng  kg hàng  kg cà_phê còn hàng tặng đâu nếu tặng đừng quảng_cáo gì chứ tặng hàng giao kiểu cũng tưởng tiki highland lắm ',\n",
              " 'chức_năng lưu sản_phẩm đặt quảng_cáo ảnh mua  kg tặng gói  gram xong sửa ảnh tặng _shop trung_thực mấy đơn khuyến_mãi toàn xạo  k giao gim tiền tháng  giao thiếu hàng tiki',\n",
              " 'cà_phê bóc mùi thơm cực_kỳ hấp_dẫn cà_phê vị đắng robusta uống ngon cảm_giác pha_tạp cà_phê trung_nguyên mình mua giá sale giá rẻ chất_lượng tiếc  kg muốn mua sale đành uống canh sale uống',\n",
              " 'quảng_cáo mua bịch  kg tặng bịch  g đc bịch  kg ko hàng tặng tắt chương_trình quảng_cáo đi báo kh đặt tiki quá mình đặ đầu nhận dịch thông_cảm thời_gian bảo tặng tặng chương_trình quảng_cáo tiki highland nữa',\n",
              " 'cafe giả phần bột  muỗng đầu vị mặn muối lạt_lẽo mình fan highland xuyên mua cửa_hàng pha uống tiki đồ ko kiểm_soát mua mỹ_phẩm lapo roche giả chuông xoay tây tạng mua triệu tệ cafe tưởng nổi tiki',\n",
              " 'thấy đánh_giá mua cà_phê rang khét khét lấn_át vị cà_phê nhiên đổ cà_phê cũ thương_hiệu màu_sắc biệt lớn pha phin khó cố_gắng chậm tốc_độ cà_phê nhanh',\n",
              " 'rất không hài_lòng banner ghi mua  tặng  giao  gói không hàng tặng không ràng mua nhầm_lẫn cảm thất_vọng mua hàng săn sale đợt này mua kĩ đừng lừa mình',\n",
              " 'giao   hàng giá  k nửa rồi chí highland nay hàng giá giảm nếu giao  tuần chấp chẳng sao',\n",
              " 'chất cafe ko bàn mua hàng tiki thất_vọng mình mã hàng mua  kg tặng  kg giao hàng  kg ktra đơn hàng đổi đơn hàng đồng_thời mã hàng đổi ko quà tặng kèm hình',\n",
              " ' hình_ảnh ưu_đãi ban_đầu mua lầm mua  kg tặng  kg  khi giao hàng_quà tặng kèm  liên_hệ nhân_viên tiki trao_đổi',\n",
              " 'đặt cafe giao rửa chén bao đơn hàng tiki đầu kiểu đề_nghị giải_quyết',\n",
              " 'chất cà_phê uống được đậm_đà robusta giá bình_dân phải mùa dịch việc pha cà_phê chất giá vây ổn tôi mua bịch hai',\n",
              " 'chất giá tốt cho  giao hàng chậm ko tưởng_tượng mặc dịch_bệnh sản_phẩm sàn sopi laz giao tiki',\n",
              " 'giao hơi trễ dù khăn tiếc tiki giao_hẹn do đi ly đặt đến tối ko mua đề_phòng giờ dư',\n",
              " 'tuy mua hàng online hàng chuẩn cà_phê highlands yêu nhất mùa dịch hàng tiki giao tận nơi',\n",
              " 'thương_hiệu gí thành hợp_lý thời này phục_vụ chuyên nghiêp đã mua mấy ko bàn ',\n",
              " 'đã sản_phẩm mô_tả loại truyền_thống highland chuyên_dùng giá flash sale  kg tặng kèm túi  gram rẻ mua aeon mall nhiều cảm_ơn tiki vn nhiều',\n",
              " 'bao_bì đẹp đóng_gói xịn ship nhanh đặt  kg to nghĩ bao gạo đc tặng gói nữa k  vỏ màu tối màu gì',\n",
              " 'trên bao_bì trang_chủ ảnh mua  tặng   hàng  sản_phẩm chính sản_phẩm tặng hơi thất_vọng',\n",
              " 'tệ chạy ct mua  kg tặng  gói  g mình mua  kg giao ko có gọi tổng_đài bảo ko chạy chạy ct ta chứ rút kinh_nghiệm xóa app luôn',\n",
              " 'nghiện cf thơm bao lỗ ko kiểu',\n",
              " 'thiếu được ko_thể cà_phê mùa dịch này mình khui mùi thơm hẳn gói  gr gu cà_phê thơm vị hậu ko chua',\n",
              " 'sản_phẩm_chất lương hình_ảnh chất spsksjsjskkssmnssnsbvdbđm',\n",
              " 'giao hàng lâu câc trnag thương_mại_điện_tử hàng cunzg di_dịch giao chậm hoàn_thành đơn hàng nhiều đã liên_hệ hủy đơn hàng giao',\n",
              " 'đánh_giá mua cà_phê rang thơm mùi khét màu đen vị tạm rang vị đắng xíu kiểu cà_phê việt xưa_nay',\n",
              " 'đặt chương_trình  tặng   giao  bịch  kg chương_trình vậy cứ tưởng  kg  kg thật vô_lý',\n",
              " 'đợi hơi giãn sp ko lũng lỗ đóng_gói tạm ổn bột cà_phê rơi tí_xíu hy_vọng sp ko',\n",
              " 'đóng gói đẹp giao hàng uy_tín còn ngon dở tùy khẩu_vị nỗi  giá_thành lựa chất',\n",
              " 'cà_phê đen thương_hiệu tưởng bạn mua cẩn_thận  cafe quan_trọng  trộn cafe đen đặc',\n",
              " 'dịch_bệnh giãn xã_hội tiki ship siêu cà_phê thơm_lừng chất bột nhẹ vón chất',\n",
              " 'đến hôm t  hàng báo giao thành_công cũng xác hàng phản_ánh tiki sàn tmđt khác',\n",
              " 'giao hàng khăn hàng tiki trading đóng_gói kỹ càng chất tưởng anh shipper thân_thiện nhiệt_tình',\n",
              " 'hàng tặng giao k có chơi trò treo đầu dê thịt chó rồi từ mua hàng tiki',\n",
              " 'giao hàng đủ bột cà_phê mua hộ k đánh_giá sản_phẩm bóc ra mùi cà_phê highlands thơm nha',\n",
              " 'hạt cà_phê đen than dạng bột xốp thấy pha nở thơm cà_phê thường thực nghi_ngờ hãng món hàng',\n",
              " 'mình thử cà_phê tiki giao hàng nhiên ngộ mua chương_trình  tặng  ko hàng tặng thể chủ_quan ko',\n",
              " 'mua  tặng  chương_trình flash sale ràng giao  bịch thất_vọng chưa cà_phê thể giả mọi thận lừa nhé',\n",
              " 'mua  kg cafe truyền_thống highland  túi ok  túi rách  đường  cm rơi lả_tả cafe ngoài vấn_đề mùi rất tiếc',\n",
              " 'minh mua ctrinh  tặng  gửi  gói caphe thôi không biêt shop gói lộn sao _shop giao hành nhanh phản_hồi ko_shop lời',\n",
              " 'giới_thiệu khuyến_mãi mua  tặng  mua hàng tặng đâu tiki đối_shop uy_tín',\n",
              " 'ghi mua  tặng  giao hàng  gói thông quảng_cáo nhập_nhằng toàn uống cafe mua tiki mua sản_phẩm tiki nữa',\n",
              " 'giao hàng mặc mùa dịch uống cf highland dịch fai mua pha uống hy_vọng ngon uống highland',\n",
              " 'nhận sản_phẩm đóng_gói kỹ chất miêu_tả mùa dịch giao_hẹn khuyến_mãi gói  g quá ổn',\n",
              " ' sản_phẩm  tiki mua dịp   lúc hàng deal mua  tặng   sản_phẩm',\n",
              " 'ko review vị ngon thiệt ko cà ko gu mình vẻ hơi mặn pha hơi phụ_gia rút kinh_nghiệm mua gói thử',\n",
              " 'hàng giao nhanh nhưng ghi đc tặng  gói truyền_thống hàng nhỉ',\n",
              " 'ủa chương_trình khuyến_mãi mua  tặng  sao chỉ dc gói  kg thôi hình chụp mô_tả sản_phẩm quà đi kèm nhỉ treo đầu dê thịt chó ah',\n",
              " 'hello cung_cấp đơn hàng hủy khoản tiền lại có giúp nha thanks sku ',\n",
              " 'tin_tưởng cf thương_hiệu hàng đóng_gói  kg pha màu đen_thui mùi cf nói ko cf thương_hiệu thất_vọng quá',\n",
              " 'đơn ghi quà tặng kèm bịch cafe tiền xong giao bịch  kg',\n",
              " 'túi rách  đường nhỏ cảm_ơn shop chu_đáo miếng keo dán lại dán kỹ hơn dán tâm lắm',\n",
              " 'tuyệt_vời giá chăng hạn sừ dụng mới đóng_gói giao hàng cực  h miễn_phí rất hài sản_phẩm',\n",
              " 'thùng hàng giao rách bao cf rách cf đổ_thùng hàng rất thất_vọng',\n",
              " 'hàng giao rách bao_bì rất lo_ngại chất sp',\n",
              " 'đóng gói bao_bì bảo_quản tốt có kẹp đầu bao hương cà_phê mua  tặng  tuy_nhiên ko hsd bớt  sao',\n",
              " 'lúc hộp túi cafe rách nhân_viên đóng_gói kiểm_tra cẩn_thận đóng_gói',\n",
              " 'hàng giao nhanh sản_phẩm mô_tả đóng_gói đẹp chất_lượng',\n",
              " 'hàng chất_lượng nhiên đóng_gói kỹ bao_bì rách đánh_giá  shop khâu đóng_gói cám_ơn',\n",
              " ' giao hàng nhanh thân_thiện  sp hsd  chất fan highland ko chê hihi',\n",
              " 'đặt_hàng flash sale ghi km  tặng  gói giao ko hàng tặng thất_vọng sợ',\n",
              " 'thấy mua  kg tặng  bịch  g hàng bịch  kg truyền_thống',\n",
              " 'đã cà_phê thơm luôn có dịch vận đi bưu_cục nhận',\n",
              " 'chào tiki mua sản_phẩm đợt khuyến_mãi túi  kg tặng  túi gửi hàng  túi',\n",
              " 'quảng_cáo mua  gói  kg đc tặng gói  gr m đc gói  kg thôi tiki giao hàng nhanh chiều',\n",
              " 'tiki giao hàng gói đơn hàng tặng kèm  gói  g hộp giao  gói  kg',\n",
              " 'giờ cafe hightland tiki dịch thèm cafe tiki now tuyệt vô dịch_vụ tiki now tiki',\n",
              " 'mùa dịch giao hơi chấp đc tiki thông_báo giao không anyway gói hàng đến',\n",
              " 'mua cf đợt mua  tặng  dc tặng gì thùng rách tiki gói hàng dạo chán thân cf chất nha',\n",
              " 'mình mua gói  kg ghi mua  kg tặng  gói truyền_thống  g ko nhỉ',\n",
              " 'chất sản_phẩm tốt phù_hợp giá tiền shop chuẩn hàng nhanh shipper thân_thiện giao hàng',\n",
              " 'cà_phê ngon sử_dụng nhìu cửa_hàng mua tiki rẻ hơn màu hơi nhạt cà_phê uống say',\n",
              " 'cà_phê uống say hơi nhạt uống cà_phê pha phin   muỗng tuu nhiên pha đậm uống danhg cà_phê sữa đá ngon',\n",
              " 'giao hàng  mặc tp hcm giãn cách đóng_gói cẩu_thả cà_phê ngon',\n",
              " 'giao hàng chóng nếu  lớp giấy kraft túi nilon thực_phẩm bao sản_phẩm hơn',\n",
              " 'đúng hàng giao nhanh có trừ đóng_gói cẩn thẩn khui gói cà_phê rách',\n",
              " 'café highlands coffee  rồi hợp gu tôi ctkm mua  tặng  coi giá  giao hàng nữa thank you',\n",
              " 'giá rẻ sản_phẩm hãng giao chống dịch ko lo_buồn ngủ',\n",
              " 'giao siêu lâu hàng tiki nckd  k xử_lí  đỗ lỗi giãn mặc sg bt',\n",
              " 'mua  tặng   giao gói  kg hệ_thống tiki lỗi hàng hoàn tiền rất bực',\n",
              " 'tôi mua  tặng  thực_tế giao hàng  bịch  kg cảm_giác lừa shop',\n",
              " 'đăng_ký mua hình tặng kèm gói  g tiki mua xong ko coi sản_phẩm đổi thông tặng kèm',\n",
              " 'ko cafe ko cafe đen xì mùi hắc uống ko chuản highland',\n",
              " 'giá rẻ mùi_vị ngon lắm vị cháy xém hơi nhiều thơm ammazing',\n",
              " 'mua  tặng  gói  gr hàng_quà tặng nhắn shop',\n",
              " 'khuyến_mãi hết vui đừng lứa đảo treo nhan nhãn poster hàng lầm promotion sản_phẩm',\n",
              " 'rất ngon hợp gu mình đóng_gói bao_bì đẹp gọng kim dàng đóng miệng túi',\n",
              " 'giao hàng tặng quảng_cáo hàng',\n",
              " 'đề hàng khuyến_mãi đâu giá giao hàng  h  h ship tới',\n",
              " 'cà_phê ướp bơ đi mùi_vị cà_phê ai cf bơ nhé ko fan bở',\n",
              " 'chất ổn_định giao_hẹn',\n",
              " 'vấn_đề gói hàng kỷ thùng bia băng keo dán lại trình thùng cũ nhăn_nheo ko hợp quà tặng mong shop đóng hàng kỷ',\n",
              " 'đơn toán rồi hàng trạng_thái tab giao ức_chế mục đơn hàng chuyên_nghiệp shopee đơn cập_nhật giao hàng thành_công xác tab giao thành_công ulatr khiếu_nại',\n",
              " 'đợt tiki giao hàng lắm bia bia date   giao hàng ko hủy ok lắm',\n",
              " 'tiki giao bia đóng_gói chắn lót xốp chống bể vỡ tuyệt_vời mua flashsale bia xuân giá tốt nhân_viên tiki giao hàng lịch',\n",
              " 'thùng bia nguyên_vẹn trình vận_chuyển date thùng mới sẽ tiếp_tục mua ủng_hộ shop hội thank you_shop',\n",
              " 'tiki giao nhanh hàng đẹp ko móp méo vận_chuyển bao_bì xuân săn đc giá ngoài đc freeship nữa tiếp_tục ủng_hộ',\n",
              " 'nhận hàng đỗi vui_mừng mãi giao một sản_phẩm mua sử_dụng người',\n",
              " 'khuyến_mãi đồ điểu_shop',\n",
              " 'bia tiki rẻ mua tạp_hóa mua nhậu đi đám cúng kê nha giao hàng chậm tí nhưng ạ',\n",
              " 'bia mua tiki giao nhé giá rẻ freeship nhân_viên giáo hàng nhiệt_tình bưng tận mình đóng_gói cẩn_thận',\n",
              " 'bia tết date  m mua flash sale tiki dc giá ah tốc_độ giao hàng hơi chậm thanks support tiki tiếp ah ️',\n",
              " 'hàng giao hàng đóng gói kỹ hàng hãng date xa hàng mình tiếp_tục ủng_hộ chúc_shop tốt',\n",
              " 'đóng gói cẩn_thận giao hàng nhanh sp date bao_bì đẹp ️ ️ ️',\n",
              " 'sản_phẩm đóng_gói cẩn_thận shipper giao hàng cực nhanh cảm_ơn tiki tài_trợ chúc tiki',\n",
              " 'bia tiger uống ok shop phục_vụ tốt đóng_gói kỹ_lưỡng giải_quyết giao hàng nhanh shipper nhiệt_tình vui_vẻ',\n",
              " 'giá rẻ sản_phẩm_chất tốt đóng_gói kỹ_lưỡng phúc vụ giao hàng thân_thiện mua',\n",
              " 'bia tiger  món trự sẵn  thùng dịp ko chạy đi mua',\n",
              " 'đợt tiki hàng giao giá cảm_ơn tiki ủng_hộ tiki tiếp',\n",
              " 'sản_phẩm_chất cao gia rẻ đong gói kỹ_lưỡng giáo hàng tiền mua se ủng_hộ shop',\n",
              " 'sản_phẩm_chất ok giao hàng nhanh săn giá ưu_đãi hời thanks_shop tiki hihi',\n",
              " 'giao hàng chóng đóng_gói kỹ ưng thái_độ shipper sản_phẩm chất_lượng ko bóp_méo',\n",
              " 'nhà dùm trục_trặc xíu shipper nhiệt_tình ok',\n",
              " 'j t vận móp méo trơn chán vận sợ hàng toàn quăng cành cành quá',\n",
              " 'cũng tiki trading trải_nghiệm hơn giá hợp_lý đóng_gói kỹ giao hàng  h date xa',\n",
              " 'giao hàng siêu nhanh gói hàng siêu cẩn_thận giá chăng sản_phẩm_chất hạn sử_dụng xa hài tuyệt_đối',\n",
              " 'mình mua lần giá rẻ giao hàng đáng mua săn sale áp mã nha mn',\n",
              " 'shop giao hàng nhanh mua xong mai hàng chất sản_phẩm ok ủng_hộ',\n",
              " 'san phẩm tệ hư_hỏng rach nat giao khach cực_kỳ ko hài tiki',\n",
              " ' lon xì đóng_gói góc kỹ date okei',\n",
              " 'giao chất ok date mới',\n",
              " 'mẫu đẹp hàng gói cẩn_thận giá hơi chút sẽ ủng_hộ sau mong shop giao hàng',\n",
              " 'bia mẫu tết bao_bì đẹp giá rẻ mua tạp_hóa đóng_gói cẩn_thận giao hơi tí',\n",
              " 'hàng đóng_gói cẩn_thận giao hàng hơi sao ok luôn sẽ ủng_hộ shop sau',\n",
              " 'hàng giao giá rẻ mẫu xuân ủng_hộ tiki',\n",
              " 'mua bia tuần lai_rai hợp_lý săn giá_mua tạp_hóa thanks tiki',\n",
              " 'giao hàng nhanh mua giá khuyễn mãi tặng quà nữa siêu',\n",
              " 'san phẩm ok khuyến_mãi đậm giao hàng nhanh mong_shop khuyến_mãi ae',\n",
              " 'bia date mới bao_bì xuân cảm_ơn tiki nửa giam đơn bia ck ún',\n",
              " 'bia lủng  mong tiki sách bồi',\n",
              " 'giao hơi chậm đóng_gói kĩ tại ko uống gấp bia qc nhiều hihi',\n",
              " 'giao hàng trễ  tuần dự_kiến hài_lòng về chất ok',\n",
              " 'đặt hôm sale  giao hàng bình_thường hãng yên_tâm',\n",
              " 'shop giao hàng lắm hôm hôm rồi bia bao_bì đẹp',\n",
              " 'khâu xử_lý quá chậm đặt_hàng   tiki xác đơn đc shiper nc thương',\n",
              " 'chất sản_phẩm tuyệt_vời hàng hình se ủng_hộ shop tiep cam on',\n",
              " 'chất tuyệt_vời giá rẻ giao hàng chóng cẩn_thận chắn',\n",
              " 'tiki giao hàng đóng_gói cẩn_thận hàng đẹp',\n",
              " 'giao hangd nhanh đc tặng kèm  lon bia đc hộp quà xịn xò',\n",
              " 'sản_phẩm_chất giao hàng nhanh ủng_hộ shop tiếp ạ',\n",
              " 'gia ngon ổn bia giao dat cai giao lien nen mua nha co bac chat luong ok nen mua di',\n",
              " 'bia giao_hẹn đóng hàng tốt tiếp_tục ủng_hộ tiki tương_lai',\n",
              " 'đât thùng bia hủy đơn hàng mua sĩ mua thùng bán ảo ảo đi',\n",
              " 'sản_phẩm bao_bì đẹp_mắt chất tốt phù_hợp giao hàng',\n",
              " 'shop đóng_gói sản_phẩm cẩn_thận chất sản_phẩm',\n",
              " 'sản_phẩm tốt đóng_gói kỹ càng nhân_viên giao hàng nhiệt_tình',\n",
              " 'giao hàng tệ nhắn support tổng_đài_tệ ko gọi support toàn chat',\n",
              " 'giao  dự_kiến',\n",
              " 'bia uống mát ngon đợt bốc thăm trúng bóng_vàng nữa',\n",
              " 'giao hàng hẹn bia nguyên_vẹn bia sản_xuất  ngày giá ok',\n",
              " 'giao hàng tương_đối ảnh_hưởng dịch_bệnh ủng_hộ tiki',\n",
              " 'bia giao nhanh đóng_gói cẩn_thận giá áp_dụng ưu_đãi rẻ',\n",
              " 'sản_phẩm date xa nhân_viên giao hàng nhiệt_tình',\n",
              " 'sản_phẩm chất_lượng nhân_viên giao hàng dể thương giá hợp_lý',\n",
              " 'bia mẫu xuân date giá cảm_ơn shop',\n",
              " 'hàng nhu_hình chat sản_phẩm tuyệt_vời se ủng_hộ tip',\n",
              " 'tiki giao hang san dc gia sales bao bi xuan lun se um ho tk tiepppppppp',\n",
              " 'sản_phẩm_chất tuyệt_vời thời_gian giao hàng chóng',\n",
              " 'hàng đẹp đóng_gói kỹ mua quà tết tặng chất luôn cảm_ơn shop nhiều',\n",
              " 'giao hàng gọn lẹ bia ngon giá rẻ tuyệt_vời ak',\n",
              " 'giao hàng nhanh sản_phẩm chất_lượng đóng_gói kĩ_càng',\n",
              " 'giao hàng nhanh mẫu sản_phẩm date xa gói hàng cẩn_thận',\n",
              " 'giao dan sales dc freeship ma_gia tot cam on tikki se um ho tiẻp',\n",
              " 'chất tiger ngon khuyến_mãi tốt tiếc giao hàng',\n",
              " 'ok hàng date mẫu đẹp giao hàng hơi ok',\n",
              " 'giao hàng sản_phẩm date mua khuyến_mãi giá rẻ',\n",
              " 'hàng đẹp giá giao hàng chất tuyệt_vời',\n",
              " 'đóng gói cẩn_thận giao hàng chóng shiper tận_tâm',\n",
              " 'hàng giao nhanh chất tốt bọc hàng cẩn_thận',\n",
              " 'san pham chat luong tuyet voi thoi gian giao hang chong',\n",
              " 'sản_phẩm đăng giao chậm chút sao hihi',\n",
              " 'san pham chat luong tuyet voi thoi gian giao hang chong',\n",
              " 'giao đóng_gói hàng chắn date xa ủng_hộ tiếp',\n",
              " 'bia date xa tiki giao hàng nhanh nhân_viên giao hàng vui_vẻ nhiệt_tình',\n",
              " 'rất hài thùng nguyên_vẹn giao hàng tốc_độ tuyệt_vời nha tiki',\n",
              " 'bia ngin giá bhhfswrtyhhbvczsaaadfghhjkmnvccxxdff',\n",
              " 'sp ok giao hàng nhanh',\n",
              " 'mô_tả good tiki đóng_gói cẩn_thận giao hàng chóng',\n",
              " 'bia ok luôn tuyệt văn vời ạ hihihihihihu',\n",
              " 'giao hàng nhanh đóng_gói cẩn_thận sản_phẩm mô_tả',\n",
              " 'bia uống ngon ghê thơm_phức sẽ mua tiếp',\n",
              " 'đóng gói cẩn_thận giao hàng hơi lâu giá rẻ bao_bì xuân ',\n",
              " 'đặt_hàng   tệ',\n",
              " 'tiki giao hàng siêu lâu đợi mòn_mỏi',\n",
              " 'giao nhanh phục_vụ tốt giao hàng lịch_sự lễ_phép',\n",
              " 'giao hàng chậm hề thông_báo hàng',\n",
              " 'giao hàng gọn chuẩn tikinow',\n",
              " 'bia ngon quá mẫu_mã đẹp iu',\n",
              " 'bia ngon date xa đóng_gói hàng kỹ',\n",
              " 'shop đóng_gói cẩn_thận mẫu_mã mới hsd xa hài',\n",
              " 'giao nhanh hàng đẹp chất',\n",
              " 'giao hàng siêu tâm nha tiki now  h ship cỡ  h tiki báo  thùng xì trung_tâm vận thùng mình giao trễ  xíu  h mình mua  thùng đóng_gói kĩ hình chụp',\n",
              " 'đặt đơn  trời dịch rưỡi định ko giao đồ trong đơn kho giao chạy đều toán sao khâts hẹn     gọi tổng_đài   tốn_phí k thèm giao đến khi mail đòi hủy đơn hoàn tiền thì hôm sau giao ngay quá_đáng',\n",
              " 'lon móp chảy ngoài gọi hỗ_trợ đi đổi chờ ship dịch thể thông_cảm hàng_hóa hư_hại chậm xử_lý chịu',\n",
              " 'ngày giao dự_kiến   shipper giao của ghn vì ship nội_tỉnh mua thùng hộp sẵn tiki gói lớp bong_bóng phòng_hờ trường_hợp móp méo được tặng kèm áo đen karik săn sale giá ổn đánh_giá ',\n",
              " 'pepsi đồ_uống giải_khát gas đầu_tiên sản_xuất bradham ông pha_chế uống tiêu cacbonat đường vani dầu nước uống brad  pepsi đầu_tiên sản_xuất  dược_sĩ caleb bradham chế new bern bắc carolina wikipedia',\n",
              " 'đơn khuyến_mãi ly inox nhiệt giao hàng có tiki giúp mình gửi đơn thùng ngọt mình nguyên bao_bì đây',\n",
              " 'thời_gian vận hợp_lí tôi hàng tâm hào_hứng chờ_đợi trải_nghiệm sản_phẩm hề chờ mỏi cổ có_thể vận quản_ngại thời_tiết đường xá xôi sản_phẩm thời_gian ngắn nhất',\n",
              " 'giao hàng chậm vì tình_hình dịch_bệnh đơn     ở thành_phố đóng_gói cẩn_thận giao hàng thiếu sản_phẩm hư_hỏng có ly quà tặng ống hút',\n",
              " 'tiki đóng_gói kém bên vận ẩu xì  lô hàng sẽ k bất_kì sp giải_khát tiki tuy_nhiên uống ok thử và  gỡ gạt',\n",
              " 'hàng ly dt tổng_đài hạn báo hàng được đầu mua tiki cuối',\n",
              " 'giao nhanh tuy nhiên vận hư_hỏng lon lòi lõm chảy  lon thùng ướt_nhẹp hết dc ly k',\n",
              " 'dự_kiến giao hàng  mãi  giao chờ mòn_mỏi rầu_rĩ râu_ria rậm_rạp luôn mà ship  k lận mn ạ nay giá rẻ bữa mua lại thêm ước miền trung kho giao hàng hơn',\n",
              " 'giao hàng cực lâu đổ_lỗi giao hàng giãn vận kịp còn lazada shopee giao thần_tốc lạ_kì mua tiki sân_si khiếu_nại  liên_tục hàng được',\n",
              " 'mình mua lúc khuyến_mãi được tặng ly rap việt giao hàng thì tiki tách thành  đơn hàng tiki mới giao thùng pepsi thôi còn hàng tặng thì vẫn thấy hi_vọng tiki sẽ giao đúng lịch hẹn',\n",
              " 'dù thông_cảm mùa dịch_thể giao hàng tiki ngâm đơn xác  phản_ánh giao trong sàn tmđt xếp giao hàng thể',\n",
              " 'đc tặng kèm áo phom dáng ok mặc thành style giấu quần lun hình ko mấy thik mấy màu hoa_văn hồng_hồng cơ chất sản_phẩm ok rồi uống ngon giao cẩn_thận lắm ️ ️ ️',\n",
              " 'hàng  chờ_đợi ly tặng kèm xịn xò nha m thích ly lợi_hại chỗ nhiệt tốt uống đá ko tụ thành ly đáy ly bàn khô an_toàn laptop',\n",
              " 'vị pepsi k chê đc phù_hợp uống k lo cân đặt xong giao liền  h thật quà tặng ly tách đơn_giao đc ngóng ly',\n",
              " 'trên ảnh sp tặng cốc nhiệt dưới mua tặng áo nhiệt_thể lầm tặng  nhưng hàng hơi hụt_hẫng banner sai ng mua',\n",
              " 'tiki giao hàng tỉnh  hàng tiki đóng hàng cẩn_thận thùng sản_phẩm bóp_méo hsd dài ',\n",
              " 'giao hàng thông mô_tả a shipper tâm may k móp miếc j hết vị uống cũg đc vắt chanh ngon hơn uốg lạnh k kèm vs đá nhức nách luôn',\n",
              " 'pepsi vấn_đề tiki trading giao hàng chậm chấp giải cố dịch_bệnh trang thương_mại_điện_tử giao mặt_hàng tương hơn',\n",
              " 'ok lắm may_mắn thùng hàng nguyên_vẹn lẫn móp méo hết nsx hsd',\n",
              " 'hương chanh thơm nhẹ đường nhân ngọt uống lạnh chê giải_khát tuyệt_vời mùa dịch',\n",
              " ...]"
            ]
          },
          "execution_count": null,
          "metadata": {},
          "output_type": "execute_result"
        }
      ],
      "source": [
        "contents"
      ]
    },
    {
      "cell_type": "code",
      "execution_count": null,
      "metadata": {
        "colab": {
          "background_save": true
        },
        "id": "XoPWfpetaudc",
        "outputId": "5fa57323-ac9b-4cef-8a6b-bd76d27fc600"
      },
      "outputs": [
        {
          "data": {
            "application/vnd.google.colaboratory.intrinsic+json": {
              "type": "string"
            },
            "text/plain": [
              "'mua khuyến_mãi tặng ly rap việt giao hàng tiki tách thành đơn hàng tiki giao thùng pepsi hàng tặng hi_vọng tiki giao lịch hẹn'"
            ]
          },
          "execution_count": null,
          "metadata": {},
          "output_type": "execute_result"
        }
      ],
      "source": [
        "remove_stopwords('mình mua lúc khuyến_mãi được tặng ly rap việt giao hàng thì tiki tách thành  đơn hàng tiki mới giao thùng pepsi thôi còn hàng tặng thì vẫn thấy hi_vọng tiki sẽ giao đúng lịch hẹn')"
      ]
    },
    {
      "cell_type": "code",
      "execution_count": null,
      "metadata": {
        "colab": {
          "background_save": true
        },
        "id": "v34HAgvQoHr1"
      },
      "outputs": [],
      "source": [
        "vocab_size = 10000\n",
        "embedding_dim = 64\n",
        "max_length = 500"
      ]
    },
    {
      "cell_type": "code",
      "execution_count": null,
      "metadata": {
        "colab": {
          "background_save": true
        },
        "id": "7dcZ4lGsoVer"
      },
      "outputs": [],
      "source": [
        "from tensorflow.keras.preprocessing.text import Tokenizer\n",
        "from tensorflow.keras.preprocessing.sequence import pad_sequences"
      ]
    },
    {
      "cell_type": "code",
      "execution_count": null,
      "metadata": {
        "colab": {
          "background_save": true
        },
        "id": "dYQFImpVogEP"
      },
      "outputs": [],
      "source": [
        "tokenizer = Tokenizer(num_words = vocab_size, oov_token=\"<OOV>\", filters='!\"#$%&()*+,-./:;<=>?@[\\\\]^`{|}~\\t\\n')"
      ]
    },
    {
      "cell_type": "code",
      "execution_count": null,
      "metadata": {
        "colab": {
          "background_save": true
        },
        "id": "X-PWKumdosEI"
      },
      "outputs": [],
      "source": [
        "tokenizer.fit_on_texts(train_contents)"
      ]
    },
    {
      "cell_type": "code",
      "execution_count": null,
      "metadata": {
        "colab": {
          "background_save": true
        },
        "id": "Q1HfJOapo3_9",
        "outputId": "71e1caea-21fa-4ede-fa07-8a2231732d4e"
      },
      "outputs": [
        {
          "data": {
            "text/plain": [
              "{'<OOV>': 1,\n",
              " 'hàng': 2,\n",
              " 'giao': 3,\n",
              " 'sản_phẩm': 4,\n",
              " 'mua': 5,\n",
              " 'đẹp': 6,\n",
              " 'tiki': 7,\n",
              " 'ok': 8,\n",
              " 'ko': 9,\n",
              " 'giá': 10,\n",
              " 'tốt': 11,\n",
              " 'nhanh': 12,\n",
              " 'chất': 13,\n",
              " 'đóng_gói': 14,\n",
              " 'hơi': 15,\n",
              " 'shop': 16,\n",
              " 'k': 17,\n",
              " 'mình': 18,\n",
              " 'sử_dụng': 19,\n",
              " 'cẩn_thận': 20,\n",
              " 'máy': 21,\n",
              " 'lắm': 22,\n",
              " 'ngon': 23,\n",
              " 'sp': 24,\n",
              " 'ổn': 25,\n",
              " 'gói': 26,\n",
              " 'hài': 27,\n",
              " 'hộp': 28,\n",
              " 'xài': 29,\n",
              " 'chắn': 30,\n",
              " 'hình': 31,\n",
              " 'mùi': 32,\n",
              " 'đc': 33,\n",
              " 'tặng': 34,\n",
              " 'thơm': 35,\n",
              " 'rẻ': 36,\n",
              " 'da': 37,\n",
              " 'đóng': 38,\n",
              " 'đi': 39,\n",
              " 'màu': 40,\n",
              " 'tiền': 41,\n",
              " 'được': 42,\n",
              " 'rất': 43,\n",
              " 'ủng_hộ': 44,\n",
              " 'thời_gian': 45,\n",
              " 'thử': 46,\n",
              " 'không': 47,\n",
              " 'hãng': 48,\n",
              " 'nha': 49,\n",
              " 'sách': 50,\n",
              " 'đầu': 51,\n",
              " 'cảm_ơn': 52,\n",
              " 'sữa': 53,\n",
              " 'luôn': 54,\n",
              " 'rồi': 55,\n",
              " 'kèm': 56,\n",
              " 'dùng': 57,\n",
              " '️': 58,\n",
              " 'nhẹ': 59,\n",
              " 'chất_lượng': 60,\n",
              " 'nhưng': 61,\n",
              " 'đánh_giá': 62,\n",
              " 'lắp': 63,\n",
              " 'đổi': 64,\n",
              " 'hôm': 65,\n",
              " 'hài_lòng': 66,\n",
              " 'bé': 67,\n",
              " 'êm': 68,\n",
              " 'có': 69,\n",
              " 'uống': 70,\n",
              " 'to': 71,\n",
              " 'này': 72,\n",
              " 'mặt': 73,\n",
              " 'mô_tả': 74,\n",
              " 'phù_hợp': 75,\n",
              " 'quà': 76,\n",
              " 'bình': 77,\n",
              " 'nữa': 78,\n",
              " 'nồi': 79,\n",
              " 'xong': 80,\n",
              " 'mềm': 81,\n",
              " 'tạm': 82,\n",
              " 'dây': 83,\n",
              " 'ưng': 84,\n",
              " 'tầm': 85,\n",
              " 'quảng_cáo': 86,\n",
              " 'mấy': 87,\n",
              " 'pin': 88,\n",
              " 'mới': 89,\n",
              " 'dc': 90,\n",
              " 'quá': 91,\n",
              " 'kỹ': 92,\n",
              " 'chạy': 93,\n",
              " 'đồ': 94,\n",
              " 'độ': 95,\n",
              " 'bền': 96,\n",
              " 'sạch': 97,\n",
              " 'hơn': 98,\n",
              " 'đơn': 99,\n",
              " 'chai': 100,\n",
              " 'đã': 101,\n",
              " 'túi': 102,\n",
              " 'thất_vọng': 103,\n",
              " 'sao': 104,\n",
              " 'chuẩn': 105,\n",
              " 'móp': 106,\n",
              " 'chậm': 107,\n",
              " 'nhiệt_tình': 108,\n",
              " 'lỗi': 109,\n",
              " 'dịch': 110,\n",
              " 'siêu': 111,\n",
              " 'đọc': 112,\n",
              " 'thích': 113,\n",
              " 'chân': 114,\n",
              " 'bảo_hành': 115,\n",
              " 'tuyệt_vời': 116,\n",
              " 'ạ': 117,\n",
              " 'gọn': 118,\n",
              " 'mỏng': 119,\n",
              " 'nhé': 120,\n",
              " 'sale': 121,\n",
              " 'dầu': 122,\n",
              " 'ship': 123,\n",
              " 'chống': 124,\n",
              " 'nhân_viên': 125,\n",
              " 'bàn': 126,\n",
              " 'gửi': 127,\n",
              " 'thể': 128,\n",
              " 'nhiều': 129,\n",
              " 'lâu': 130,\n",
              " 'giày': 131,\n",
              " 'rửa': 132,\n",
              " 'tiếp': 133,\n",
              " 'nhựa': 134,\n",
              " 'vận': 135,\n",
              " 'nắp': 136,\n",
              " 'tôi': 137,\n",
              " 'lần': 138,\n",
              " 'h': 139,\n",
              " 'date': 140,\n",
              " 'hợp': 141,\n",
              " 'khô': 142,\n",
              " 'vị': 143,\n",
              " 'nói': 144,\n",
              " 'mong': 145,\n",
              " 'size': 146,\n",
              " 'nóng': 147,\n",
              " 'bọc': 148,\n",
              " 'cảm_giác': 149,\n",
              " 'chưa': 150,\n",
              " 'dự_kiến': 151,\n",
              " 'nguyên': 152,\n",
              " 'tuần': 153,\n",
              " 'kem': 154,\n",
              " 'hút': 155,\n",
              " 'tiếng': 156,\n",
              " 'cảm': 157,\n",
              " 'giấy': 158,\n",
              " 'mẫu': 159,\n",
              " 'tệ': 160,\n",
              " 'gọi': 161,\n",
              " 'sẽ': 162,\n",
              " 'chút': 163,\n",
              " 'hướng': 164,\n",
              " 'sạc': 165,\n",
              " 'hợp_lý': 166,\n",
              " 'đèn': 167,\n",
              " 'dán': 168,\n",
              " 'cầm': 169,\n",
              " 'đựng': 170,\n",
              " 'tuy_nhiên': 171,\n",
              " 'nấu': 172,\n",
              " 'm': 173,\n",
              " '_shop': 174,\n",
              " 'cực': 175,\n",
              " 'thùng': 176,\n",
              " 'nhiên': 177,\n",
              " 'bao': 178,\n",
              " 'hạt': 179,\n",
              " 'hình_ảnh': 180,\n",
              " 'dính': 181,\n",
              " 'mịn': 182,\n",
              " 'tóc': 183,\n",
              " 'méo': 184,\n",
              " 'hiệu': 185,\n",
              " 'hỗ_trợ': 186,\n",
              " 'ghi': 187,\n",
              " 'mụn': 188,\n",
              " 'shipper': 189,\n",
              " 'tiếp_tục': 190,\n",
              " 'tiện_lợi': 191,\n",
              " 'hẹn': 192,\n",
              " 'kém': 193,\n",
              " 'chờ': 194,\n",
              " 'hang': 195,\n",
              " 'xịn': 196,\n",
              " 'cứng': 197,\n",
              " 'in': 198,\n",
              " 'chỗ': 199,\n",
              " 'kg': 200,\n",
              " 'thấm': 201,\n",
              " 'bao_bì': 202,\n",
              " 'vậy': 203,\n",
              " 'nào': 204,\n",
              " 'chóng': 205,\n",
              " 'sau': 206,\n",
              " 'miếng': 207,\n",
              " 'may': 208,\n",
              " 'mẫu_mã': 209,\n",
              " 'cắm': 210,\n",
              " 'giúp': 211,\n",
              " 'tưởng': 212,\n",
              " 'lau': 213,\n",
              " 'thôi': 214,\n",
              " 'kiểm_tra': 215,\n",
              " 'sài': 216,\n",
              " 'nhận': 217,\n",
              " 'nhỏ': 218,\n",
              " 'kiểu': 219,\n",
              " 'ngày': 220,\n",
              " 'đeo': 221,\n",
              " 'đường': 222,\n",
              " 'good': 223,\n",
              " 'kĩ': 224,\n",
              " 'lớp': 225,\n",
              " 'tem': 226,\n",
              " 'cũ': 227,\n",
              " 'mùa': 228,\n",
              " 'tiện': 229,\n",
              " 'đặt': 230,\n",
              " 'còn': 231,\n",
              " 'vấn_đề': 232,\n",
              " 'điện': 233,\n",
              " 'thiết_kế': 234,\n",
              " 'chịu': 235,\n",
              " 'mặc': 236,\n",
              " 'trắng': 237,\n",
              " 'ảnh': 238,\n",
              " 'hai': 239,\n",
              " 'nhiệt': 240,\n",
              " 'khác': 241,\n",
              " 'hạn': 242,\n",
              " 'đúng': 243,\n",
              " 'dày': 244,\n",
              " 'vải': 245,\n",
              " 'dịch_vụ': 246,\n",
              " 'yên_tâm': 247,\n",
              " 'lại': 248,\n",
              " 'bánh': 249,\n",
              " 'cân': 250,\n",
              " 'báo': 251,\n",
              " 'gì': 252,\n",
              " 'cài': 253,\n",
              " 'kết_nối': 254,\n",
              " 'vô': 255,\n",
              " 'thương': 256,\n",
              " 'tốc_độ': 257,\n",
              " 'nên': 258,\n",
              " 'chảo': 259,\n",
              " 'kính': 260,\n",
              " 'cám_ơn': 261,\n",
              " 'sản_phẩm_chất': 262,\n",
              " 'về': 263,\n",
              " 'xe': 264,\n",
              " 'hẳn': 265,\n",
              " 'thông': 266,\n",
              " 'tay': 267,\n",
              " 'cơm': 268,\n",
              " 'đợt': 269,\n",
              " 'mn': 270,\n",
              " 'nếu': 271,\n",
              " 'hết': 272,\n",
              " 'bắt': 273,\n",
              " 'chất_liệu': 274,\n",
              " 'yếu': 275,\n",
              " 'yêu_cầu': 276,\n",
              " 'đen': 277,\n",
              " 'thay': 278,\n",
              " 'khuyến_mãi': 279,\n",
              " 'oke': 280,\n",
              " 'mong_đợi': 281,\n",
              " 'vỡ': 282,\n",
              " 'đôi': 283,\n",
              " 'vs': 284,\n",
              " 'chỉ': 285,\n",
              " 'rách': 286,\n",
              " 'thân_thiện': 287,\n",
              " 'chỉnh': 288,\n",
              " 'gắn': 289,\n",
              " 'hoạt_động': 290,\n",
              " 'xíu': 291,\n",
              " 'vỏ': 292,\n",
              " 'wifi': 293,\n",
              " 'đề_nghị': 294,\n",
              " 'dung': 295,\n",
              " 'trước': 296,\n",
              " 'cực_kỳ': 297,\n",
              " 'mượt': 298,\n",
              " 'tối': 299,\n",
              " 'ẩm': 300,\n",
              " 'xinh': 301,\n",
              " 'đủ': 302,\n",
              " 'thoải_mái': 303,\n",
              " 'vẻ': 304,\n",
              " 'chụp': 305,\n",
              " 'nước': 306,\n",
              " 'thấy': 307,\n",
              " 'điện_thoại': 308,\n",
              " 'đỡ': 309,\n",
              " 'khăn': 310,\n",
              " 'mạng': 311,\n",
              " 'đổ': 312,\n",
              " 'mã': 313,\n",
              " 'seal': 314,\n",
              " 'xước': 315,\n",
              " 'xịt': 316,\n",
              " 'sợ': 317,\n",
              " 'uy_tín': 318,\n",
              " 'ngoài': 319,\n",
              " 'hiện': 320,\n",
              " 'đồng_hồ': 321,\n",
              " 'chiều': 322,\n",
              " 'đầu_tiên': 323,\n",
              " 'chế_độ': 324,\n",
              " 'sai': 325,\n",
              " 'đợi': 326,\n",
              " 'nhìn': 327,\n",
              " 'vừa': 328,\n",
              " 'mà': 329,\n",
              " 'tủ': 330,\n",
              " 'rộng': 331,\n",
              " 'lúc': 332,\n",
              " 'gội': 333,\n",
              " 'tot': 334,\n",
              " 'ổn_định': 335,\n",
              " 'người': 336,\n",
              " 'cực_kì': 337,\n",
              " 'liên_hệ': 338,\n",
              " 'giặt': 339,\n",
              " 'trầy': 340,\n",
              " 'ổ': 341,\n",
              " 'review': 342,\n",
              " 'hy_vọng': 343,\n",
              " 'xanh': 344,\n",
              " 'kéo': 345,\n",
              " 'keo': 346,\n",
              " 'món': 347,\n",
              " 'khi': 348,\n",
              " 'hư': 349,\n",
              " 'vì': 350,\n",
              " 'cả': 351,\n",
              " 'đây': 352,\n",
              " 'dép': 353,\n",
              " 'balo': 354,\n",
              " 'tư_vấn': 355,\n",
              " 'phản_hồi': 356,\n",
              " 'ra': 357,\n",
              " 'hương': 358,\n",
              " 'vặn': 359,\n",
              " 'y': 360,\n",
              " 'cho': 361,\n",
              " 'cắt': 362,\n",
              " 'nhà': 363,\n",
              " 'sóng': 364,\n",
              " 'bịch': 365,\n",
              " 'lỗ': 366,\n",
              " 'mẹ': 367,\n",
              " 'màn_hình': 368,\n",
              " 'vui': 369,\n",
              " 'xét': 370,\n",
              " 'và': 371,\n",
              " 'sd': 372,\n",
              " 'nét': 373,\n",
              " 'tí': 374,\n",
              " 'kệ': 375,\n",
              " 'biết': 376,\n",
              " 'trong': 377,\n",
              " 'dàng': 378,\n",
              " 'cái': 379,\n",
              " 'lạnh': 380,\n",
              " 'tuyệt': 381,\n",
              " 'bóng': 382,\n",
              " 'chấp': 383,\n",
              " 'chán': 384,\n",
              " 'trừ': 385,\n",
              " 'bảo': 386,\n",
              " 'phải': 387,\n",
              " 'thân': 388,\n",
              " 'bụi': 389,\n",
              " 'thẻ': 390,\n",
              " 'lock': 391,\n",
              " 'với': 392,\n",
              " 'xác': 393,\n",
              " 'cục': 394,\n",
              " 'nút': 395,\n",
              " 'sản_xuất': 396,\n",
              " 'việt': 397,\n",
              " 'san': 398,\n",
              " 'chắc': 399,\n",
              " 'xay': 400,\n",
              " 'giới_thiệu': 401,\n",
              " 'mát': 402,\n",
              " 'vệ_sinh': 403,\n",
              " 'ngăn': 404,\n",
              " 'bình_thường': 405,\n",
              " 'ốc': 406,\n",
              " 'cam': 407,\n",
              " 'lắp_ráp': 408,\n",
              " 'đó': 409,\n",
              " 'thành': 410,\n",
              " 'dưỡng': 411,\n",
              " 'dịu': 412,\n",
              " 'trễ': 413,\n",
              " 'đá': 414,\n",
              " 'tắm': 415,\n",
              " 'ly': 416,\n",
              " 'săn': 417,\n",
              " 'đau': 418,\n",
              " 'e': 419,\n",
              " 'xa': 420,\n",
              " 'thật': 421,\n",
              " 'nằm': 422,\n",
              " 'trà': 423,\n",
              " 'hỏng': 424,\n",
              " 'usb': 425,\n",
              " 'camera': 426,\n",
              " 'dễ': 427,\n",
              " 'các': 428,\n",
              " 'dòng': 429,\n",
              " 'mắt': 430,\n",
              " 'bạn': 431,\n",
              " 'vít': 432,\n",
              " 'bếp': 433,\n",
              " 'chảy': 434,\n",
              " 'phụ_kiện': 435,\n",
              " 'phí': 436,\n",
              " 'khá': 437,\n",
              " 'kêu': 438,\n",
              " 'cũng': 439,\n",
              " 'ồn': 440,\n",
              " 'tận': 441,\n",
              " 't': 442,\n",
              " 'mực': 443,\n",
              " 'ăn': 444,\n",
              " 'g': 445,\n",
              " 'gối': 446,\n",
              " 'thanks': 447,\n",
              " 'ưng_ý': 448,\n",
              " 'góc': 449,\n",
              " 'tẩy_trang': 450,\n",
              " 'nè': 451,\n",
              " 'ấm': 452,\n",
              " 'dày_dặn': 453,\n",
              " 'gãy': 454,\n",
              " 'cứng_cáp': 455,\n",
              " 'cao': 456,\n",
              " 'chiên': 457,\n",
              " 'toàn': 458,\n",
              " 'bể': 459,\n",
              " 'pha': 460,\n",
              " 'tiện_dụng': 461,\n",
              " 'phục_vụ': 462,\n",
              " 'gỗ': 463,\n",
              " 'treo': 464,\n",
              " 'nhu_cầu': 465,\n",
              " 'rat': 466,\n",
              " 'trời': 467,\n",
              " 'vết': 468,\n",
              " 'khóa': 469,\n",
              " 'nội_dung': 470,\n",
              " 'kích_thước': 471,\n",
              " 'dài': 472,\n",
              " 'cung': 473,\n",
              " 'chê': 474,\n",
              " 'lọ': 475,\n",
              " 'su': 476,\n",
              " 'gạo': 477,\n",
              " 'trang': 478,\n",
              " 'tác_dụng': 479,\n",
              " 'lưu': 480,\n",
              " 'bẩn': 481,\n",
              " 'hành': 482,\n",
              " 'hình_thức': 483,\n",
              " 'thực': 484,\n",
              " 'lót': 485,\n",
              " 'combo': 486,\n",
              " 'đo': 487,\n",
              " 'ml': 488,\n",
              " 'tiếc': 489,\n",
              " 'r': 490,\n",
              " 'vàng': 491,\n",
              " 'liền': 492,\n",
              " 'khẩu_trang': 493,\n",
              " 'nắng': 494,\n",
              " 'bật': 495,\n",
              " 'đặc_biệt': 496,\n",
              " 'đế': 497,\n",
              " 'pham': 498,\n",
              " 'màu_sắc': 499,\n",
              " 'đảm_bảo': 500,\n",
              " 'sáng': 501,\n",
              " 'nhẹ_nhàng': 502,\n",
              " 'an_toàn': 503,\n",
              " 'lọc': 504,\n",
              " 'để': 505,\n",
              " 'phòng': 506,\n",
              " 'gấp': 507,\n",
              " 'đăng': 508,\n",
              " 'tương_đối': 509,\n",
              " 'đắt': 510,\n",
              " 'trading': 511,\n",
              " 'ảnh_hưởng': 512,\n",
              " 'test': 513,\n",
              " 'chức_năng': 514,\n",
              " 'đừng': 515,\n",
              " 'chua': 516,\n",
              " 'làm': 517,\n",
              " 'hi_vọng': 518,\n",
              " 'giá_thành': 519,\n",
              " 'hề': 520,\n",
              " 'cà_phê': 521,\n",
              " 'nam': 522,\n",
              " 'đơn_giản': 523,\n",
              " 'ta': 524,\n",
              " 'ban_đầu': 525,\n",
              " 'thiết': 526,\n",
              " 'đâu': 527,\n",
              " 'gia_đình': 528,\n",
              " 'âm': 529,\n",
              " 'mạnh': 530,\n",
              " 'mọi': 531,\n",
              " 'đỏ': 532,\n",
              " 'nhầm': 533,\n",
              " 'trải_nghiệm': 534,\n",
              " 'giải_quyết': 535,\n",
              " 'check': 536,\n",
              " 'ngủ': 537,\n",
              " 'ngắn': 538,\n",
              " 'app': 539,\n",
              " 'thực_tế': 540,\n",
              " 'kết': 541,\n",
              " 'tã': 542,\n",
              " 'kích': 543,\n",
              " 'tẩy': 544,\n",
              " 'nướng': 545,\n",
              " 'tiết_kiệm': 546,\n",
              " 'a': 547,\n",
              " 'giòn': 548,\n",
              " 'tháo': 549,\n",
              " 'cafe': 550,\n",
              " 'bỉm': 551,\n",
              " 'bấm': 552,\n",
              " 'mãi': 553,\n",
              " 'phát': 554,\n",
              " 'sản': 555,\n",
              " 'buồn': 556,\n",
              " 'tội': 557,\n",
              " 'co': 558,\n",
              " 'laptop': 559,\n",
              " 'toán': 560,\n",
              " 'ng': 561,\n",
              " 'thương_hiệu': 562,\n",
              " 'ntn': 563,\n",
              " 'đấy': 564,\n",
              " 'nguyên_vẹn': 565,\n",
              " 'chi_tiết': 566,\n",
              " 'thịt': 567,\n",
              " 'chữ': 568,\n",
              " 'minh': 569,\n",
              " 'p': 570,\n",
              " 'trẻ': 571,\n",
              " 'phút': 572,\n",
              " 'bung': 573,\n",
              " 'đánh': 574,\n",
              " 'nổi': 575,\n",
              " 'giả': 576,\n",
              " 'quen': 577,\n",
              " 'cải_thiện': 578,\n",
              " 'ràng': 579,\n",
              " 'chat': 580,\n",
              " 'cm': 581,\n",
              " 'trưa': 582,\n",
              " 'khui': 583,\n",
              " 'giờ': 584,\n",
              " 'viết': 585,\n",
              " 'là': 586,\n",
              " 'bột': 587,\n",
              " 'hoàn_toàn': 588,\n",
              " 'xả': 589,\n",
              " 'nửa': 590,\n",
              " 'sẵn': 591,\n",
              " 'cửa_hàng': 592,\n",
              " 'tháng': 593,\n",
              " 'l': 594,\n",
              " 'tắt': 595,\n",
              " 'vòng': 596,\n",
              " 'bôi': 597,\n",
              " 'lun': 598,\n",
              " 'viên': 599,\n",
              " 'kiến': 600,\n",
              " 'lông': 601,\n",
              " 'xử_lý': 602,\n",
              " 'ghê': 603,\n",
              " 'trông': 604,\n",
              " 'lo': 605,\n",
              " 'học': 606,\n",
              " 'sốc': 607,\n",
              " 'bám': 608,\n",
              " 'dao': 609,\n",
              " 'nhau': 610,\n",
              " 'v': 611,\n",
              " 'kh': 612,\n",
              " 'dạng': 613,\n",
              " 'khâu': 614,\n",
              " 'hoàn_thiện': 615,\n",
              " 'tai': 616,\n",
              " 'sơ_sài': 617,\n",
              " 'khớp': 618,\n",
              " 's': 619,\n",
              " 'một': 620,\n",
              " 'bọt': 621,\n",
              " 'chuyên_nghiệp': 622,\n",
              " 'tất': 623,\n",
              " 'thảm': 624,\n",
              " 'hủy': 625,\n",
              " 'bóc': 626,\n",
              " 'okie': 627,\n",
              " 'yêu': 628,\n",
              " 'quyển': 629,\n",
              " 'bong': 630,\n",
              " 'dám': 631,\n",
              " 'nhất': 632,\n",
              " 'long': 633,\n",
              " 'đáng': 634,\n",
              " 'thông_báo': 635,\n",
              " 'xấu': 636,\n",
              " 'tập': 637,\n",
              " 'bị': 638,\n",
              " 'do': 639,\n",
              " 'chẳng': 640,\n",
              " 'đêm': 641,\n",
              " 'vòi': 642,\n",
              " 'thêm': 643,\n",
              " 'j': 644,\n",
              " 'mau': 645,\n",
              " 'xò': 646,\n",
              " 'trc': 647,\n",
              " 'chả': 648,\n",
              " 'lỏng': 649,\n",
              " 'coi': 650,\n",
              " 'thì': 651,\n",
              " 'mờ': 652,\n",
              " 'đem': 653,\n",
              " 'ống': 654,\n",
              " 'khỏe': 655,\n",
              " 'canh': 656,\n",
              " 'trọng': 657,\n",
              " 'ghế': 658,\n",
              " 'gia': 659,\n",
              " 'gọn_gàng': 660,\n",
              " 'thu': 661,\n",
              " 'bìa': 662,\n",
              " 'mk': 663,\n",
              " 'ngay': 664,\n",
              " 'điểm': 665,\n",
              " 'kiểu_dáng': 666,\n",
              " 'ướt': 667,\n",
              " 'hoàn': 668,\n",
              " 'bộ': 669,\n",
              " 'hôi': 670,\n",
              " 'bơm': 671,\n",
              " 'câu': 672,\n",
              " 'chu_đáo': 673,\n",
              " 'từ': 674,\n",
              " 'siêu_thị': 675,\n",
              " 'nhắn': 676,\n",
              " 'an_tâm': 677,\n",
              " 'nhung': 678,\n",
              " 'sắc': 679,\n",
              " 'cháy': 680,\n",
              " 'ráp': 681,\n",
              " 'tốn': 682,\n",
              " 'ứng': 683,\n",
              " 'rít': 684,\n",
              " 'loa': 685,\n",
              " 'tui': 686,\n",
              " 'nồng': 687,\n",
              " 'cân_nhắc': 688,\n",
              " 'xoay': 689,\n",
              " 'hiệu_quả': 690,\n",
              " 'nhờn': 691,\n",
              " 'miệng': 692,\n",
              " 'rớt': 693,\n",
              " 'vắt': 694,\n",
              " 'ngọt': 695,\n",
              " 'loại': 696,\n",
              " 'tikinow': 697,\n",
              " 'hay': 698,\n",
              " 'now': 699,\n",
              " 'km': 700,\n",
              " 'xuyên': 701,\n",
              " 'luong': 702,\n",
              " 'xốp': 703,\n",
              " 'goi': 704,\n",
              " 'mắc': 705,\n",
              " 'tường': 706,\n",
              " 'd': 707,\n",
              " 'vui_vẻ': 708,\n",
              " 'chết': 709,\n",
              " 'hồng': 710,\n",
              " 'tâm': 711,\n",
              " 'lừa_đảo': 712,\n",
              " 'bán': 713,\n",
              " 'gà': 714,\n",
              " 'công': 715,\n",
              " 'đáy': 716,\n",
              " 'lên': 717,\n",
              " 'lớn': 718,\n",
              " 'sấy': 719,\n",
              " 'định': 720,\n",
              " 'đậm': 721,\n",
              " 'tróc': 722,\n",
              " 'inox': 723,\n",
              " 'động': 724,\n",
              " 'đối': 725,\n",
              " 'phẩm': 726,\n",
              " 'quai': 727,\n",
              " 'dep': 728,\n",
              " 'vận_chuyển': 729,\n",
              " 'phiếu': 730,\n",
              " 'như': 731,\n",
              " 'khong': 732,\n",
              " 'móc': 733,\n",
              " 'tình_trạng': 734,\n",
              " 'thị_trường': 735,\n",
              " 'tả': 736,\n",
              " 'vào': 737,\n",
              " 'tổng_đài': 738,\n",
              " 'nối': 739,\n",
              " 'c': 740,\n",
              " 'ý': 741,\n",
              " 'khoan': 742,\n",
              " 'thoa': 743,\n",
              " 'thái_độ': 744,\n",
              " 'đến': 745,\n",
              " 'la': 746,\n",
              " 'lịch': 747,\n",
              " 'oki': 748,\n",
              " 'bên': 749,\n",
              " 'tầng': 750,\n",
              " 'rõ': 751,\n",
              " 'kích_hoạt': 752,\n",
              " 'kín': 753,\n",
              " 'lưng': 754,\n",
              " 'cần': 755,\n",
              " 'y_hình': 756,\n",
              " 'mũi': 757,\n",
              " 'đồng_tiền': 758,\n",
              " 'theo': 759,\n",
              " 'khuyên': 760,\n",
              " 'băng': 761,\n",
              " 'rút': 762,\n",
              " 'chuột': 763,\n",
              " 'chắc_chắn': 764,\n",
              " 'nhe': 765,\n",
              " 'bữa': 766,\n",
              " 'bảo_vệ': 767,\n",
              " 'hsd': 768,\n",
              " 'lỏng_lẻo': 769,\n",
              " 'srm': 770,\n",
              " 'sống': 771,\n",
              " 'trái': 772,\n",
              " 'chứ': 773,\n",
              " 'bớt': 774,\n",
              " 'trình': 775,\n",
              " 'nhiệt_độ': 776,\n",
              " 'nhạy_cảm': 777,\n",
              " 'bất_tiện': 778,\n",
              " 'rơi': 779,\n",
              " 'xứng': 780,\n",
              " 'tr': 781,\n",
              " 'bất_ngờ': 782,\n",
              " 'ơi': 783,\n",
              " 'tờ': 784,\n",
              " 'sàn': 785,\n",
              " 'mỗi': 786,\n",
              " 'đồng': 787,\n",
              " 'ram': 788,\n",
              " 'thay_đổi': 789,\n",
              " 'em': 790,\n",
              " 'thức': 791,\n",
              " 'nâng': 792,\n",
              " 'gb': 793,\n",
              " 'thi': 794,\n",
              " 'cổ': 795,\n",
              " 'kẹp': 796,\n",
              " 'cỡ': 797,\n",
              " 'dai': 798,\n",
              " 'cổng': 799,\n",
              " 'lựa': 800,\n",
              " 'thủy_tinh': 801,\n",
              " 'muỗi': 802,\n",
              " 'chặt': 803,\n",
              " 'sâu': 804,\n",
              " 'đang': 805,\n",
              " 'đứng': 806,\n",
              " 'va': 807,\n",
              " 'trơn': 808,\n",
              " 'cửa': 809,\n",
              " 'rụng': 810,\n",
              " 'đều': 811,\n",
              " 'anh': 812,\n",
              " 'hihi': 813,\n",
              " 'dù': 814,\n",
              " 'n': 815,\n",
              " 'tủ_lạnh': 816,\n",
              " 'liên_tục': 817,\n",
              " 'khen': 818,\n",
              " 'nhạy': 819,\n",
              " 'trên': 820,\n",
              " 'sản_phẩm_giá': 821,\n",
              " 'có_thể': 822,\n",
              " 'khả_năng': 823,\n",
              " 'sửa': 824,\n",
              " 'đông': 825,\n",
              " 'tuy': 826,\n",
              " 'bi': 827,\n",
              " 'tưởng_tượng': 828,\n",
              " 'kia': 829,\n",
              " 'chăm_sóc': 830,\n",
              " 'hợp_lí': 831,\n",
              " 'tivi': 832,\n",
              " 'điện_tử': 833,\n",
              " 'á': 834,\n",
              " 'sôi': 835,\n",
              " 'nhãn': 836,\n",
              " 'nặng': 837,\n",
              " 'căng': 838,\n",
              " 'tràn': 839,\n",
              " 'miêu_tả': 840,\n",
              " 'thuốc': 841,\n",
              " 'ép': 842,\n",
              " 'bàn_chải': 843,\n",
              " 'đặc': 844,\n",
              " 'ánh': 845,\n",
              " 'đứt': 846,\n",
              " 'khít': 847,\n",
              " 'dơ': 848,\n",
              " 'lực': 849,\n",
              " 'the': 850,\n",
              " 'kho': 851,\n",
              " 'kim': 852,\n",
              " 'khay': 853,\n",
              " 'ngờ': 854,\n",
              " 'nhật': 855,\n",
              " 'lan': 856,\n",
              " 'phần': 857,\n",
              " 'hàng_hàng': 858,\n",
              " 'dịch_bệnh': 859,\n",
              " 'tới': 860,\n",
              " 'gọn_nhẹ': 861,\n",
              " 'béo': 862,\n",
              " 'rung': 863,\n",
              " 'hở': 864,\n",
              " 'chốt': 865,\n",
              " 'vote': 866,\n",
              " 'rát': 867,\n",
              " 'giãn': 868,\n",
              " 'trực_tiếp': 869,\n",
              " 'dong': 870,\n",
              " 'bết': 871,\n",
              " 'đt': 872,\n",
              " 'vẫn': 873,\n",
              " 'bt': 874,\n",
              " 'xin': 875,\n",
              " 'nho': 876,\n",
              " 'hời': 877,\n",
              " 'thành_công': 878,\n",
              " 'duoc': 879,\n",
              " 'nay': 880,\n",
              " 'bát': 881,\n",
              " 'chăng': 882,\n",
              " 'nó': 883,\n",
              " 'đòi': 884,\n",
              " 'chi': 885,\n",
              " 'đun': 886,\n",
              " 'nứt': 887,\n",
              " 'khung': 888,\n",
              " 'cạo': 889,\n",
              " 'sức_khỏe': 890,\n",
              " 'vn': 891,\n",
              " 'giá_trị': 892,\n",
              " 'gái': 893,\n",
              " 'online': 894,\n",
              " 'mưa': 895,\n",
              " 'lưỡi': 896,\n",
              " 'tinh': 897,\n",
              " 'thoáng': 898,\n",
              " 'càng': 899,\n",
              " 'sx': 900,\n",
              " 'x': 901,\n",
              " 'mềm_mại': 902,\n",
              " 'quên': 903,\n",
              " 'can': 904,\n",
              " 'gian': 905,\n",
              " 'quyết_định': 906,\n",
              " 'à': 907,\n",
              " 'giống': 908,\n",
              " 'chia': 909,\n",
              " 'đậy': 910,\n",
              " 'chứa': 911,\n",
              " 'cong': 912,\n",
              " 'cạnh': 913,\n",
              " 'cặp': 914,\n",
              " 'ai': 915,\n",
              " 'nhạt': 916,\n",
              " 'sơn': 917,\n",
              " 'mở': 918,\n",
              " 'hoa': 919,\n",
              " 'bảo_quản': 920,\n",
              " 'năng': 921,\n",
              " 'tùy': 922,\n",
              " 'bay': 923,\n",
              " 'ôm': 924,\n",
              " 'lệch': 925,\n",
              " 'hồi': 926,\n",
              " 'mì': 927,\n",
              " 'ngứa': 928,\n",
              " 'đẹp_mắt': 929,\n",
              " 'kiện': 930,\n",
              " 'nv': 931,\n",
              " 'chó': 932,\n",
              " 'bia': 933,\n",
              " 'sát': 934,\n",
              " 'thiếu': 935,\n",
              " 'dùm': 936,\n",
              " 'nát': 937,\n",
              " 'sợi': 938,\n",
              " 'nhìu': 939,\n",
              " 'khiển': 940,\n",
              " 'ấy': 941,\n",
              " 'lắp_đặt': 942,\n",
              " 'mong_shop': 943,\n",
              " 'sức': 944,\n",
              " 'video': 945,\n",
              " 'cồn': 946,\n",
              " 'dung_tích': 947,\n",
              " 'đời': 948,\n",
              " 'đệm': 949,\n",
              " 'lạ': 950,\n",
              " 'se': 951,\n",
              " 'gốc': 952,\n",
              " 'tuýp': 953,\n",
              " 'thâm': 954,\n",
              " 'giao_hẹn': 955,\n",
              " 'ban': 956,\n",
              " 'dẻo': 957,\n",
              " 'mặt_nạ': 958,\n",
              " 'nhu': 959,\n",
              " 'shiper': 960,\n",
              " 'thời': 961,\n",
              " 'lắc': 962,\n",
              " 'ít': 963,\n",
              " 'ah': 964,\n",
              " 'gel': 965,\n",
              " 'mèo': 966,\n",
              " 'cá_nhân': 967,\n",
              " 'cộng': 968,\n",
              " 'xu': 969,\n",
              " 'dụng': 970,\n",
              " 'bao_nhiêu': 971,\n",
              " 'bổ': 972,\n",
              " 'cay': 973,\n",
              " 'túi_tiền': 974,\n",
              " 'con': 975,\n",
              " 'kỹ_lưỡng': 976,\n",
              " 'củ': 977,\n",
              " 'thông_cảm': 978,\n",
              " 'mai': 979,\n",
              " 'inch': 980,\n",
              " 'hộ': 981,\n",
              " 'khách': 982,\n",
              " 'sơ': 983,\n",
              " 'mỏi': 984,\n",
              " 'thế': 985,\n",
              " 'minh_họa': 986,\n",
              " 'quạt': 987,\n",
              " 'rỉ': 988,\n",
              " 'mũ': 989,\n",
              " 'voi': 990,\n",
              " 'màn': 991,\n",
              " 'bụng': 992,\n",
              " 'remote': 993,\n",
              " 'cốc': 994,\n",
              " 'dịp': 995,\n",
              " 'khắc_phục': 996,\n",
              " 'full': 997,\n",
              " 'serum': 998,\n",
              " 'thận': 999,\n",
              " 'năm': 1000,\n",
              " ...}"
            ]
          },
          "execution_count": null,
          "metadata": {},
          "output_type": "execute_result"
        }
      ],
      "source": [
        "word_index = tokenizer.word_index\n",
        "word_index"
      ]
    },
    {
      "cell_type": "code",
      "execution_count": null,
      "metadata": {
        "colab": {
          "background_save": true
        },
        "id": "3V_kQdpZwG3G"
      },
      "outputs": [],
      "source": [
        "train_sequences = tokenizer.texts_to_sequences(train_contents)"
      ]
    },
    {
      "cell_type": "code",
      "execution_count": null,
      "metadata": {
        "colab": {
          "background_save": true
        },
        "id": "kl0r8d-awY5Y"
      },
      "outputs": [],
      "source": [
        "padded_train_sequences = pad_sequences(train_sequences, maxlen=max_length, truncating='post', padding='post')"
      ]
    },
    {
      "cell_type": "code",
      "execution_count": null,
      "metadata": {
        "colab": {
          "background_save": true
        },
        "id": "HlqIHWaDw-eO"
      },
      "outputs": [],
      "source": [
        "test_sequences = tokenizer.texts_to_sequences(test_contents)\n",
        "val_sequences = tokenizer.texts_to_sequences(val_contents)"
      ]
    },
    {
      "cell_type": "code",
      "execution_count": null,
      "metadata": {
        "colab": {
          "background_save": true
        },
        "id": "DjYTF4lIxNOk"
      },
      "outputs": [],
      "source": [
        "padded_test_sequences = pad_sequences(test_sequences, maxlen=max_length, truncating='post', padding='post')\n",
        "padded_val_sequences = pad_sequences(val_sequences, maxlen=max_length, truncating='post', padding='post')"
      ]
    },
    {
      "cell_type": "code",
      "execution_count": null,
      "metadata": {
        "colab": {
          "background_save": true
        },
        "id": "se2CksDziojX",
        "outputId": "e7f61e3c-80e8-47a9-f791-d43915f4c65a"
      },
      "outputs": [
        {
          "data": {
            "text/plain": [
              "array([[223,   0,   0, ...,   0,   0,   0],\n",
              "       [  2,  33,  26, ...,   0,   0,   0],\n",
              "       [  2,   8, 117, ...,   0,   0,   0],\n",
              "       ...,\n",
              "       [  6,  22,   0, ...,   0,   0,   0],\n",
              "       [ 27,   0,   0, ...,   0,   0,   0],\n",
              "       [ 24, 360,  31, ...,   0,   0,   0]], dtype=int32)"
            ]
          },
          "execution_count": null,
          "metadata": {},
          "output_type": "execute_result"
        }
      ],
      "source": [
        "padded_val_sequences"
      ]
    },
    {
      "cell_type": "code",
      "execution_count": null,
      "metadata": {
        "colab": {
          "background_save": true
        },
        "id": "HHcu5S4vxvF_"
      },
      "outputs": [],
      "source": [
        "from tensorflow.keras.models import Sequential"
      ]
    },
    {
      "cell_type": "code",
      "execution_count": null,
      "metadata": {
        "colab": {
          "background_save": true
        },
        "id": "ciutDx-XxvRd"
      },
      "outputs": [],
      "source": [
        "from tensorflow.keras.layers import Embedding"
      ]
    },
    {
      "cell_type": "code",
      "execution_count": null,
      "metadata": {
        "colab": {
          "background_save": true
        },
        "id": "hUtKDGnIx8e0"
      },
      "outputs": [],
      "source": [
        "from tensorflow.keras.layers import Flatten"
      ]
    },
    {
      "cell_type": "code",
      "execution_count": null,
      "metadata": {
        "colab": {
          "background_save": true
        },
        "id": "XTsEAfOzyCs3"
      },
      "outputs": [],
      "source": [
        "from tensorflow.keras.layers import Dense"
      ]
    },
    {
      "cell_type": "code",
      "execution_count": null,
      "metadata": {
        "colab": {
          "background_save": true
        },
        "id": "sEdTuqPteItL"
      },
      "outputs": [],
      "source": [
        "from tensorflow.keras.layers import Dropout"
      ]
    },
    {
      "cell_type": "code",
      "execution_count": null,
      "metadata": {
        "colab": {
          "background_save": true
        },
        "id": "06Wt4iNEyIJ1"
      },
      "outputs": [],
      "source": [
        "model = Sequential()"
      ]
    },
    {
      "cell_type": "code",
      "execution_count": null,
      "metadata": {
        "colab": {
          "background_save": true
        },
        "id": "a2weLwzPyKnt"
      },
      "outputs": [],
      "source": [
        "model.add(Embedding(vocab_size, embedding_dim, input_length=max_length))"
      ]
    },
    {
      "cell_type": "code",
      "execution_count": null,
      "metadata": {
        "colab": {
          "background_save": true
        },
        "id": "REhFAD2DyRb-"
      },
      "outputs": [],
      "source": [
        "model.add(Flatten())"
      ]
    },
    {
      "cell_type": "code",
      "execution_count": null,
      "metadata": {
        "colab": {
          "background_save": true
        },
        "id": "xqwaE3kAyV5X"
      },
      "outputs": [],
      "source": [
        "model.add(Dense(64, activation='relu'))"
      ]
    },
    {
      "cell_type": "code",
      "execution_count": null,
      "metadata": {
        "colab": {
          "background_save": true
        },
        "id": "tFbcBg8iyarV"
      },
      "outputs": [],
      "source": [
        "model.add(Dense(3, activation='softmax'))"
      ]
    },
    {
      "cell_type": "code",
      "execution_count": null,
      "metadata": {
        "colab": {
          "background_save": true
        },
        "id": "WCEymFPWyfY9"
      },
      "outputs": [],
      "source": [
        "model.compile(loss='categorical_crossentropy', optimizer='adam', metrics=['acc'])"
      ]
    },
    {
      "cell_type": "code",
      "execution_count": null,
      "metadata": {
        "colab": {
          "background_save": true
        },
        "id": "2v8rfwpGyou5",
        "outputId": "07dc8c87-a493-4530-cec2-3300a3c67ee0"
      },
      "outputs": [
        {
          "name": "stdout",
          "output_type": "stream",
          "text": [
            "Model: \"sequential_1\"\n",
            "_________________________________________________________________\n",
            " Layer (type)                Output Shape              Param #   \n",
            "=================================================================\n",
            " embedding_1 (Embedding)     (None, 500, 64)           640000    \n",
            "                                                                 \n",
            " flatten_1 (Flatten)         (None, 32000)             0         \n",
            "                                                                 \n",
            " dense_2 (Dense)             (None, 64)                2048064   \n",
            "                                                                 \n",
            " dense_3 (Dense)             (None, 3)                 195       \n",
            "                                                                 \n",
            "=================================================================\n",
            "Total params: 2,688,259\n",
            "Trainable params: 2,688,259\n",
            "Non-trainable params: 0\n",
            "_________________________________________________________________\n"
          ]
        }
      ],
      "source": [
        "model.summary()"
      ]
    },
    {
      "cell_type": "code",
      "execution_count": null,
      "metadata": {
        "colab": {
          "background_save": true
        },
        "id": "h-QYNEfTywe-",
        "outputId": "96a4d672-d395-4e29-926b-f255b96a42f5"
      },
      "outputs": [
        {
          "data": {
            "text/plain": [
              "(45689, 500)"
            ]
          },
          "execution_count": null,
          "metadata": {},
          "output_type": "execute_result"
        }
      ],
      "source": [
        "padded_test_sequences.shape"
      ]
    },
    {
      "cell_type": "code",
      "execution_count": null,
      "metadata": {
        "colab": {
          "background_save": true
        },
        "id": "SV9MPEody0hR",
        "outputId": "4b28896b-7a41-4aab-f3aa-b6bfa83829e3"
      },
      "outputs": [
        {
          "data": {
            "text/plain": [
              "array([2, 2, 2, ..., 0, 0, 0])"
            ]
          },
          "execution_count": null,
          "metadata": {},
          "output_type": "execute_result"
        }
      ],
      "source": [
        "test_labels"
      ]
    },
    {
      "cell_type": "code",
      "execution_count": null,
      "metadata": {
        "colab": {
          "background_save": true
        },
        "id": "A7xHd9h71QXT",
        "outputId": "af8155e3-654e-4068-b0e7-2dba92d3a056"
      },
      "outputs": [
        {
          "data": {
            "text/plain": [
              "array([[ 24,   6,   0, ...,   0,   0,   0],\n",
              "       [  6,   0,   0, ...,   0,   0,   0],\n",
              "       [  8,   0,   0, ...,   0,   0,   0],\n",
              "       ...,\n",
              "       [744, 125, 284, ...,   0,   0,   0],\n",
              "       [744, 125, 160, ...,   0,   0,   0],\n",
              "       [ 18,   5, 313, ...,   0,   0,   0]], dtype=int32)"
            ]
          },
          "execution_count": null,
          "metadata": {},
          "output_type": "execute_result"
        }
      ],
      "source": [
        "padded_test_sequences"
      ]
    },
    {
      "cell_type": "code",
      "execution_count": null,
      "metadata": {
        "colab": {
          "background_save": true
        },
        "id": "2RNY_UdH20Z7"
      },
      "outputs": [],
      "source": [
        "from keras.utils import np_utils\n",
        "train_l = np_utils.to_categorical(train_labels,3)\n",
        "test_l = np_utils.to_categorical(test_labels, 3)\n",
        "val_l = np_utils.to_categorical(val_labels, 3)"
      ]
    },
    {
      "cell_type": "code",
      "execution_count": null,
      "metadata": {
        "colab": {
          "background_save": true
        },
        "id": "ygoOlzzf6jdx",
        "outputId": "11ea4597-581a-46df-f2d6-537b71a32b59"
      },
      "outputs": [
        {
          "data": {
            "text/plain": [
              "array([[1., 0., 0.],\n",
              "       [0., 0., 1.],\n",
              "       [1., 0., 0.],\n",
              "       ...,\n",
              "       [1., 0., 0.],\n",
              "       [1., 0., 0.],\n",
              "       [0., 0., 1.]], dtype=float32)"
            ]
          },
          "execution_count": null,
          "metadata": {},
          "output_type": "execute_result"
        }
      ],
      "source": [
        "train_l"
      ]
    },
    {
      "cell_type": "code",
      "execution_count": null,
      "metadata": {
        "colab": {
          "background_save": true
        },
        "id": "dNAmYEbK7IuY"
      },
      "outputs": [],
      "source": [
        "import tensorflow as tf\n",
        "tf.config.run_functions_eagerly(True)\n"
      ]
    },
    {
      "cell_type": "code",
      "execution_count": null,
      "metadata": {
        "colab": {
          "background_save": true
        },
        "id": "ezXYzC4OD1V6"
      },
      "outputs": [],
      "source": [
        "callback = tf.keras.callbacks.EarlyStopping(monitor='val_loss', mode=\"min\", patience=5)"
      ]
    },
    {
      "cell_type": "code",
      "execution_count": null,
      "metadata": {
        "colab": {
          "background_save": true
        },
        "id": "wQi_9gXRhcA9",
        "outputId": "be3f42ac-3bae-4bad-dd1f-ec302fddb148"
      },
      "outputs": [
        {
          "data": {
            "text/plain": [
              "(400000, 500)"
            ]
          },
          "execution_count": null,
          "metadata": {},
          "output_type": "execute_result"
        }
      ],
      "source": [
        "padded_train_sequences.shape"
      ]
    },
    {
      "cell_type": "code",
      "execution_count": null,
      "metadata": {
        "colab": {
          "background_save": true
        },
        "id": "5C86vMG3heAu",
        "outputId": "9151917d-8f12-47e0-faa4-c6f688e2fb4a"
      },
      "outputs": [
        {
          "data": {
            "text/plain": [
              "(400000, 3)"
            ]
          },
          "execution_count": null,
          "metadata": {},
          "output_type": "execute_result"
        }
      ],
      "source": [
        "train_l.shape"
      ]
    },
    {
      "cell_type": "code",
      "execution_count": null,
      "metadata": {
        "colab": {
          "background_save": true
        },
        "id": "eiHlCrFDiiFZ",
        "outputId": "377ec63e-fa87-4ffa-dac8-01489b6b64e5"
      },
      "outputs": [
        {
          "data": {
            "text/plain": [
              "(100000, 500)"
            ]
          },
          "execution_count": null,
          "metadata": {},
          "output_type": "execute_result"
        }
      ],
      "source": [
        "padded_val_sequences.shape"
      ]
    },
    {
      "cell_type": "code",
      "execution_count": null,
      "metadata": {
        "colab": {
          "background_save": true
        },
        "id": "nRwZgd_7zACC",
        "outputId": "6efc6acb-4919-4e66-db75-f00654506c4a"
      },
      "outputs": [
        {
          "name": "stdout",
          "output_type": "stream",
          "text": [
            "Epoch 1/100\n",
            "   1/3125 [..............................] - ETA: 7:18 - loss: 1.0864 - acc: 0.6016"
          ]
        },
        {
          "name": "stderr",
          "output_type": "stream",
          "text": [
            "/usr/local/lib/python3.7/dist-packages/tensorflow/python/data/ops/dataset_ops.py:4527: UserWarning: Even though the `tf.config.experimental_run_functions_eagerly` option is set, this option does not apply to tf.data functions. To force eager execution of tf.data functions, please use `tf.data.experimental.enable_debug_mode()`.\n",
            "  \"Even though the `tf.config.experimental_run_functions_eagerly` \"\n"
          ]
        },
        {
          "name": "stdout",
          "output_type": "stream",
          "text": [
            "3125/3125 [==============================] - 284s 91ms/step - loss: 0.6011 - acc: 0.7722 - val_loss: 0.5839 - val_acc: 0.7758\n",
            "Epoch 2/100\n",
            "3125/3125 [==============================] - 283s 91ms/step - loss: 0.5525 - acc: 0.7899 - val_loss: 0.5858 - val_acc: 0.7746\n",
            "Epoch 3/100\n",
            "3125/3125 [==============================] - 289s 92ms/step - loss: 0.5191 - acc: 0.8022 - val_loss: 0.5958 - val_acc: 0.7729\n",
            "Epoch 4/100\n",
            "3125/3125 [==============================] - 281s 90ms/step - loss: 0.4754 - acc: 0.8200 - val_loss: 0.6273 - val_acc: 0.7676\n",
            "Epoch 5/100\n",
            "3125/3125 [==============================] - 287s 92ms/step - loss: 0.4336 - acc: 0.8385 - val_loss: 0.6844 - val_acc: 0.7563\n",
            "Epoch 6/100\n",
            "3125/3125 [==============================] - 280s 90ms/step - loss: 0.4014 - acc: 0.8519 - val_loss: 0.7440 - val_acc: 0.7458\n"
          ]
        },
        {
          "data": {
            "text/plain": [
              "<keras.callbacks.History at 0x7f287b471810>"
            ]
          },
          "execution_count": null,
          "metadata": {},
          "output_type": "execute_result"
        }
      ],
      "source": [
        "model.fit(padded_train_sequences, train_l, epochs=100, batch_size=128, validation_data=(padded_val_sequences, val_l), callbacks=[callback])\n"
      ]
    },
    {
      "cell_type": "code",
      "execution_count": null,
      "metadata": {
        "colab": {
          "background_save": true
        },
        "id": "W-onn7L8OFji",
        "outputId": "c99585a9-b2ae-4d57-8571-f81eeaee74d3"
      },
      "outputs": [
        {
          "name": "stderr",
          "output_type": "stream",
          "text": [
            "/usr/local/lib/python3.7/dist-packages/tensorflow/python/data/ops/dataset_ops.py:4527: UserWarning: Even though the `tf.config.experimental_run_functions_eagerly` option is set, this option does not apply to tf.data functions. To force eager execution of tf.data functions, please use `tf.data.experimental.enable_debug_mode()`.\n",
            "  \"Even though the `tf.config.experimental_run_functions_eagerly` \"\n"
          ]
        }
      ],
      "source": [
        "test_predicted = model.predict(padded_test_sequences)"
      ]
    },
    {
      "cell_type": "code",
      "execution_count": null,
      "metadata": {
        "colab": {
          "background_save": true
        },
        "id": "s3X49Xn3pm_2",
        "outputId": "fea61c45-a0ff-4e21-fb3d-e11da0fb5009"
      },
      "outputs": [
        {
          "data": {
            "text/plain": [
              "array([[6.4147511e-03, 1.0612990e-01, 8.8745534e-01],\n",
              "       [9.0101715e-03, 1.3956369e-01, 8.5142612e-01],\n",
              "       [1.2350226e-02, 2.3779868e-01, 7.4985105e-01],\n",
              "       ...,\n",
              "       [5.5777580e-01, 3.8060048e-01, 6.1623648e-02],\n",
              "       [2.1397208e-01, 4.8019478e-01, 3.0583316e-01],\n",
              "       [1.0000000e+00, 2.3052211e-11, 2.0670197e-09]], dtype=float32)"
            ]
          },
          "execution_count": null,
          "metadata": {},
          "output_type": "execute_result"
        }
      ],
      "source": [
        "test_predicted"
      ]
    },
    {
      "cell_type": "code",
      "execution_count": null,
      "metadata": {
        "colab": {
          "background_save": true
        },
        "id": "K3jvlo7JqO4L"
      },
      "outputs": [],
      "source": [
        "predicted_labels = []"
      ]
    },
    {
      "cell_type": "code",
      "execution_count": null,
      "metadata": {
        "colab": {
          "background_save": true
        },
        "id": "1ud27uw7prJn"
      },
      "outputs": [],
      "source": [
        "\n",
        "for result_one_hot_predicted in test_predicted:\n",
        "  rating_predicted = np.argmax(result_one_hot_predicted)\n",
        "  predicted_labels.append(rating_predicted)\n"
      ]
    },
    {
      "cell_type": "code",
      "execution_count": null,
      "metadata": {
        "colab": {
          "background_save": true
        },
        "id": "8ElbfG7_qYvq",
        "outputId": "9aec7668-4a6e-4746-dfc9-0e528a21008d"
      },
      "outputs": [
        {
          "data": {
            "text/plain": [
              "[2,\n",
              " 2,\n",
              " 2,\n",
              " 2,\n",
              " 2,\n",
              " 2,\n",
              " 2,\n",
              " 0,\n",
              " 2,\n",
              " 2,\n",
              " 1,\n",
              " 2,\n",
              " 2,\n",
              " 2,\n",
              " 2,\n",
              " 2,\n",
              " 2,\n",
              " 2,\n",
              " 2,\n",
              " 1,\n",
              " 0,\n",
              " 1,\n",
              " 2,\n",
              " 2,\n",
              " 2,\n",
              " 2,\n",
              " 0,\n",
              " 2,\n",
              " 0,\n",
              " 2,\n",
              " 2,\n",
              " 2,\n",
              " 2,\n",
              " 0,\n",
              " 2,\n",
              " 2,\n",
              " 0,\n",
              " 1,\n",
              " 2,\n",
              " 2,\n",
              " 2,\n",
              " 0,\n",
              " 0,\n",
              " 2,\n",
              " 2,\n",
              " 2,\n",
              " 0,\n",
              " 2,\n",
              " 2,\n",
              " 2,\n",
              " 0,\n",
              " 2,\n",
              " 2,\n",
              " 2,\n",
              " 0,\n",
              " 2,\n",
              " 2,\n",
              " 2,\n",
              " 2,\n",
              " 2,\n",
              " 2,\n",
              " 2,\n",
              " 2,\n",
              " 2,\n",
              " 2,\n",
              " 2,\n",
              " 2,\n",
              " 2,\n",
              " 0,\n",
              " 2,\n",
              " 2,\n",
              " 2,\n",
              " 2,\n",
              " 2,\n",
              " 2,\n",
              " 2,\n",
              " 1,\n",
              " 2,\n",
              " 2,\n",
              " 2,\n",
              " 2,\n",
              " 2,\n",
              " 2,\n",
              " 2,\n",
              " 0,\n",
              " 2,\n",
              " 2,\n",
              " 2,\n",
              " 2,\n",
              " 2,\n",
              " 2,\n",
              " 2,\n",
              " 2,\n",
              " 2,\n",
              " 2,\n",
              " 2,\n",
              " 2,\n",
              " 2,\n",
              " 2,\n",
              " 2,\n",
              " 0,\n",
              " 0,\n",
              " 2,\n",
              " 2,\n",
              " 2,\n",
              " 0,\n",
              " 2,\n",
              " 2,\n",
              " 0,\n",
              " 2,\n",
              " 2,\n",
              " 2,\n",
              " 2,\n",
              " 0,\n",
              " 2,\n",
              " 0,\n",
              " 2,\n",
              " 2,\n",
              " 2,\n",
              " 2,\n",
              " 2,\n",
              " 0,\n",
              " 2,\n",
              " 0,\n",
              " 2,\n",
              " 1,\n",
              " 2,\n",
              " 0,\n",
              " 2,\n",
              " 2,\n",
              " 2,\n",
              " 2,\n",
              " 2,\n",
              " 0,\n",
              " 2,\n",
              " 2,\n",
              " 2,\n",
              " 2,\n",
              " 2,\n",
              " 2,\n",
              " 2,\n",
              " 2,\n",
              " 2,\n",
              " 2,\n",
              " 2,\n",
              " 2,\n",
              " 2,\n",
              " 1,\n",
              " 2,\n",
              " 2,\n",
              " 2,\n",
              " 2,\n",
              " 2,\n",
              " 2,\n",
              " 2,\n",
              " 2,\n",
              " 2,\n",
              " 2,\n",
              " 2,\n",
              " 2,\n",
              " 2,\n",
              " 2,\n",
              " 2,\n",
              " 2,\n",
              " 2,\n",
              " 2,\n",
              " 2,\n",
              " 2,\n",
              " 2,\n",
              " 0,\n",
              " 0,\n",
              " 2,\n",
              " 0,\n",
              " 2,\n",
              " 0,\n",
              " 2,\n",
              " 0,\n",
              " 0,\n",
              " 1,\n",
              " 0,\n",
              " 2,\n",
              " 1,\n",
              " 2,\n",
              " 0,\n",
              " 2,\n",
              " 2,\n",
              " 2,\n",
              " 2,\n",
              " 2,\n",
              " 1,\n",
              " 0,\n",
              " 2,\n",
              " 2,\n",
              " 2,\n",
              " 2,\n",
              " 2,\n",
              " 2,\n",
              " 2,\n",
              " 2,\n",
              " 2,\n",
              " 2,\n",
              " 2,\n",
              " 2,\n",
              " 2,\n",
              " 1,\n",
              " 2,\n",
              " 2,\n",
              " 2,\n",
              " 0,\n",
              " 0,\n",
              " 2,\n",
              " 0,\n",
              " 2,\n",
              " 2,\n",
              " 0,\n",
              " 0,\n",
              " 2,\n",
              " 2,\n",
              " 0,\n",
              " 0,\n",
              " 1,\n",
              " 2,\n",
              " 2,\n",
              " 2,\n",
              " 2,\n",
              " 1,\n",
              " 2,\n",
              " 2,\n",
              " 2,\n",
              " 2,\n",
              " 2,\n",
              " 2,\n",
              " 2,\n",
              " 2,\n",
              " 2,\n",
              " 2,\n",
              " 2,\n",
              " 0,\n",
              " 2,\n",
              " 2,\n",
              " 1,\n",
              " 2,\n",
              " 2,\n",
              " 2,\n",
              " 0,\n",
              " 1,\n",
              " 2,\n",
              " 2,\n",
              " 1,\n",
              " 2,\n",
              " 1,\n",
              " 0,\n",
              " 2,\n",
              " 2,\n",
              " 2,\n",
              " 2,\n",
              " 2,\n",
              " 2,\n",
              " 2,\n",
              " 2,\n",
              " 2,\n",
              " 1,\n",
              " 2,\n",
              " 2,\n",
              " 2,\n",
              " 2,\n",
              " 2,\n",
              " 2,\n",
              " 2,\n",
              " 2,\n",
              " 2,\n",
              " 2,\n",
              " 2,\n",
              " 2,\n",
              " 2,\n",
              " 2,\n",
              " 2,\n",
              " 0,\n",
              " 2,\n",
              " 2,\n",
              " 2,\n",
              " 2,\n",
              " 2,\n",
              " 2,\n",
              " 2,\n",
              " 2,\n",
              " 2,\n",
              " 2,\n",
              " 2,\n",
              " 2,\n",
              " 2,\n",
              " 2,\n",
              " 2,\n",
              " 2,\n",
              " 2,\n",
              " 2,\n",
              " 2,\n",
              " 1,\n",
              " 2,\n",
              " 2,\n",
              " 2,\n",
              " 2,\n",
              " 2,\n",
              " 2,\n",
              " 2,\n",
              " 2,\n",
              " 2,\n",
              " 2,\n",
              " 2,\n",
              " 2,\n",
              " 2,\n",
              " 2,\n",
              " 2,\n",
              " 2,\n",
              " 2,\n",
              " 2,\n",
              " 2,\n",
              " 2,\n",
              " 2,\n",
              " 2,\n",
              " 2,\n",
              " 2,\n",
              " 2,\n",
              " 2,\n",
              " 2,\n",
              " 2,\n",
              " 2,\n",
              " 2,\n",
              " 2,\n",
              " 2,\n",
              " 2,\n",
              " 2,\n",
              " 2,\n",
              " 2,\n",
              " 2,\n",
              " 2,\n",
              " 2,\n",
              " 2,\n",
              " 2,\n",
              " 2,\n",
              " 2,\n",
              " 2,\n",
              " 0,\n",
              " 2,\n",
              " 2,\n",
              " 1,\n",
              " 1,\n",
              " 0,\n",
              " 0,\n",
              " 2,\n",
              " 0,\n",
              " 0,\n",
              " 2,\n",
              " 2,\n",
              " 0,\n",
              " 0,\n",
              " 2,\n",
              " 2,\n",
              " 2,\n",
              " 2,\n",
              " 2,\n",
              " 2,\n",
              " 0,\n",
              " 1,\n",
              " 0,\n",
              " 2,\n",
              " 1,\n",
              " 2,\n",
              " 2,\n",
              " 2,\n",
              " 2,\n",
              " 2,\n",
              " 2,\n",
              " 2,\n",
              " 2,\n",
              " 2,\n",
              " 1,\n",
              " 2,\n",
              " 2,\n",
              " 2,\n",
              " 2,\n",
              " 2,\n",
              " 2,\n",
              " 2,\n",
              " 2,\n",
              " 2,\n",
              " 2,\n",
              " 2,\n",
              " 2,\n",
              " 2,\n",
              " 2,\n",
              " 2,\n",
              " 2,\n",
              " 2,\n",
              " 2,\n",
              " 2,\n",
              " 2,\n",
              " 2,\n",
              " 2,\n",
              " 2,\n",
              " 2,\n",
              " 2,\n",
              " 2,\n",
              " 2,\n",
              " 2,\n",
              " 2,\n",
              " 2,\n",
              " 2,\n",
              " 2,\n",
              " 2,\n",
              " 2,\n",
              " 2,\n",
              " 2,\n",
              " 2,\n",
              " 2,\n",
              " 2,\n",
              " 2,\n",
              " 2,\n",
              " 2,\n",
              " 2,\n",
              " 2,\n",
              " 2,\n",
              " 2,\n",
              " 2,\n",
              " 2,\n",
              " 2,\n",
              " 2,\n",
              " 2,\n",
              " 2,\n",
              " 2,\n",
              " 2,\n",
              " 2,\n",
              " 2,\n",
              " 2,\n",
              " 2,\n",
              " 2,\n",
              " 2,\n",
              " 2,\n",
              " 2,\n",
              " 2,\n",
              " 2,\n",
              " 2,\n",
              " 2,\n",
              " 2,\n",
              " 2,\n",
              " 2,\n",
              " 1,\n",
              " 2,\n",
              " 2,\n",
              " 2,\n",
              " 2,\n",
              " 2,\n",
              " 2,\n",
              " 2,\n",
              " 2,\n",
              " 2,\n",
              " 2,\n",
              " 2,\n",
              " 2,\n",
              " 0,\n",
              " 2,\n",
              " 0,\n",
              " 2,\n",
              " 2,\n",
              " 0,\n",
              " 2,\n",
              " 2,\n",
              " 2,\n",
              " 2,\n",
              " 2,\n",
              " 2,\n",
              " 2,\n",
              " 2,\n",
              " 2,\n",
              " 2,\n",
              " 0,\n",
              " 2,\n",
              " 1,\n",
              " 0,\n",
              " 2,\n",
              " 2,\n",
              " 2,\n",
              " 2,\n",
              " 2,\n",
              " 2,\n",
              " 2,\n",
              " 0,\n",
              " 2,\n",
              " 2,\n",
              " 1,\n",
              " 1,\n",
              " 0,\n",
              " 0,\n",
              " 2,\n",
              " 0,\n",
              " 2,\n",
              " 2,\n",
              " 2,\n",
              " 2,\n",
              " 2,\n",
              " 2,\n",
              " 2,\n",
              " 2,\n",
              " 2,\n",
              " 2,\n",
              " 2,\n",
              " 2,\n",
              " 2,\n",
              " 2,\n",
              " 2,\n",
              " 2,\n",
              " 2,\n",
              " 2,\n",
              " 2,\n",
              " 1,\n",
              " 2,\n",
              " 2,\n",
              " 2,\n",
              " 2,\n",
              " 2,\n",
              " 2,\n",
              " 2,\n",
              " 2,\n",
              " 2,\n",
              " 2,\n",
              " 2,\n",
              " 2,\n",
              " 0,\n",
              " 2,\n",
              " 2,\n",
              " 0,\n",
              " 2,\n",
              " 2,\n",
              " 2,\n",
              " 1,\n",
              " 2,\n",
              " 2,\n",
              " 2,\n",
              " 2,\n",
              " 2,\n",
              " 1,\n",
              " 2,\n",
              " 2,\n",
              " 2,\n",
              " 0,\n",
              " 1,\n",
              " 2,\n",
              " 2,\n",
              " 2,\n",
              " 2,\n",
              " 2,\n",
              " 2,\n",
              " 2,\n",
              " 2,\n",
              " 2,\n",
              " 2,\n",
              " 2,\n",
              " 2,\n",
              " 2,\n",
              " 2,\n",
              " 2,\n",
              " 2,\n",
              " 2,\n",
              " 2,\n",
              " 2,\n",
              " 2,\n",
              " 2,\n",
              " 2,\n",
              " 2,\n",
              " 2,\n",
              " 2,\n",
              " 2,\n",
              " 2,\n",
              " 2,\n",
              " 2,\n",
              " 2,\n",
              " 2,\n",
              " 2,\n",
              " 2,\n",
              " 2,\n",
              " 2,\n",
              " 2,\n",
              " 2,\n",
              " 2,\n",
              " 2,\n",
              " 2,\n",
              " 0,\n",
              " 0,\n",
              " 2,\n",
              " 2,\n",
              " 2,\n",
              " 2,\n",
              " 2,\n",
              " 2,\n",
              " 2,\n",
              " 2,\n",
              " 2,\n",
              " 2,\n",
              " 2,\n",
              " 0,\n",
              " 2,\n",
              " 2,\n",
              " 0,\n",
              " 2,\n",
              " 2,\n",
              " 2,\n",
              " 0,\n",
              " 0,\n",
              " 1,\n",
              " 2,\n",
              " 1,\n",
              " 2,\n",
              " 2,\n",
              " 2,\n",
              " 2,\n",
              " 2,\n",
              " 2,\n",
              " 2,\n",
              " 2,\n",
              " 2,\n",
              " 2,\n",
              " 2,\n",
              " 2,\n",
              " 2,\n",
              " 2,\n",
              " 2,\n",
              " 2,\n",
              " 2,\n",
              " 2,\n",
              " 2,\n",
              " 2,\n",
              " 2,\n",
              " 2,\n",
              " 2,\n",
              " 2,\n",
              " 2,\n",
              " 2,\n",
              " 2,\n",
              " 2,\n",
              " 2,\n",
              " 2,\n",
              " 2,\n",
              " 0,\n",
              " 2,\n",
              " 2,\n",
              " 2,\n",
              " 2,\n",
              " 2,\n",
              " 2,\n",
              " 0,\n",
              " 2,\n",
              " 2,\n",
              " 2,\n",
              " 2,\n",
              " 2,\n",
              " 0,\n",
              " 2,\n",
              " 1,\n",
              " 2,\n",
              " 2,\n",
              " 2,\n",
              " 2,\n",
              " 2,\n",
              " 2,\n",
              " 2,\n",
              " 2,\n",
              " 2,\n",
              " 2,\n",
              " 2,\n",
              " 2,\n",
              " 2,\n",
              " 0,\n",
              " 0,\n",
              " 2,\n",
              " 2,\n",
              " 0,\n",
              " 2,\n",
              " 2,\n",
              " 0,\n",
              " 1,\n",
              " 2,\n",
              " 2,\n",
              " 2,\n",
              " 2,\n",
              " 0,\n",
              " 2,\n",
              " 2,\n",
              " 0,\n",
              " 2,\n",
              " 2,\n",
              " 2,\n",
              " 2,\n",
              " 1,\n",
              " 0,\n",
              " 2,\n",
              " 2,\n",
              " 0,\n",
              " 0,\n",
              " 0,\n",
              " 0,\n",
              " 2,\n",
              " 2,\n",
              " 0,\n",
              " 2,\n",
              " 2,\n",
              " 2,\n",
              " 0,\n",
              " 2,\n",
              " 2,\n",
              " 2,\n",
              " 2,\n",
              " 2,\n",
              " 2,\n",
              " 2,\n",
              " 2,\n",
              " 0,\n",
              " 2,\n",
              " 2,\n",
              " 2,\n",
              " 0,\n",
              " 2,\n",
              " 2,\n",
              " 2,\n",
              " 0,\n",
              " 2,\n",
              " 2,\n",
              " 2,\n",
              " 2,\n",
              " 0,\n",
              " 2,\n",
              " 2,\n",
              " 2,\n",
              " 2,\n",
              " 2,\n",
              " 2,\n",
              " 2,\n",
              " 2,\n",
              " 2,\n",
              " 2,\n",
              " 2,\n",
              " 2,\n",
              " 2,\n",
              " 2,\n",
              " 2,\n",
              " 0,\n",
              " 0,\n",
              " 2,\n",
              " 0,\n",
              " 2,\n",
              " 2,\n",
              " 1,\n",
              " 1,\n",
              " 1,\n",
              " 1,\n",
              " 1,\n",
              " 2,\n",
              " 0,\n",
              " 0,\n",
              " 0,\n",
              " 0,\n",
              " 2,\n",
              " 2,\n",
              " 2,\n",
              " 1,\n",
              " 0,\n",
              " 2,\n",
              " 0,\n",
              " 0,\n",
              " 0,\n",
              " 2,\n",
              " 2,\n",
              " 2,\n",
              " 1,\n",
              " 2,\n",
              " 2,\n",
              " 0,\n",
              " 2,\n",
              " 0,\n",
              " 0,\n",
              " 0,\n",
              " 2,\n",
              " 0,\n",
              " 0,\n",
              " 2,\n",
              " 1,\n",
              " 2,\n",
              " 2,\n",
              " 1,\n",
              " 0,\n",
              " 1,\n",
              " 0,\n",
              " 0,\n",
              " 2,\n",
              " 0,\n",
              " 2,\n",
              " 0,\n",
              " 0,\n",
              " 0,\n",
              " 2,\n",
              " 0,\n",
              " 0,\n",
              " 0,\n",
              " 0,\n",
              " 1,\n",
              " 2,\n",
              " 0,\n",
              " 0,\n",
              " 2,\n",
              " 0,\n",
              " 0,\n",
              " 0,\n",
              " 2,\n",
              " 0,\n",
              " 2,\n",
              " 2,\n",
              " 2,\n",
              " 0,\n",
              " 2,\n",
              " 1,\n",
              " 2,\n",
              " 1,\n",
              " 2,\n",
              " 2,\n",
              " 0,\n",
              " 2,\n",
              " 0,\n",
              " 0,\n",
              " 2,\n",
              " 0,\n",
              " 2,\n",
              " 0,\n",
              " 0,\n",
              " 2,\n",
              " 2,\n",
              " 2,\n",
              " 2,\n",
              " 2,\n",
              " 2,\n",
              " 0,\n",
              " 2,\n",
              " 0,\n",
              " 0,\n",
              " 2,\n",
              " 2,\n",
              " 2,\n",
              " 0,\n",
              " 2,\n",
              " 2,\n",
              " 2,\n",
              " 0,\n",
              " 2,\n",
              " 2,\n",
              " 2,\n",
              " 2,\n",
              " 2,\n",
              " 2,\n",
              " 2,\n",
              " 2,\n",
              " 0,\n",
              " 2,\n",
              " 0,\n",
              " 2,\n",
              " 2,\n",
              " 2,\n",
              " 2,\n",
              " 2,\n",
              " 2,\n",
              " 2,\n",
              " 2,\n",
              " 2,\n",
              " 2,\n",
              " 2,\n",
              " 2,\n",
              " 0,\n",
              " 0,\n",
              " 0,\n",
              " 2,\n",
              " 2,\n",
              " 2,\n",
              " 2,\n",
              " 2,\n",
              " 2,\n",
              " 2,\n",
              " 2,\n",
              " 2,\n",
              " 2,\n",
              " 2,\n",
              " 2,\n",
              " 2,\n",
              " 2,\n",
              " 2,\n",
              " 2,\n",
              " 2,\n",
              " 0,\n",
              " 2,\n",
              " 2,\n",
              " 2,\n",
              " 2,\n",
              " 2,\n",
              " 2,\n",
              " 2,\n",
              " 2,\n",
              " 2,\n",
              " 1,\n",
              " 2,\n",
              " 2,\n",
              " 2,\n",
              " 2,\n",
              " 2,\n",
              " 2,\n",
              " 2,\n",
              " 2,\n",
              " 2,\n",
              " 2,\n",
              " 2,\n",
              " 2,\n",
              " 2,\n",
              " 2,\n",
              " 0,\n",
              " 2,\n",
              " 2,\n",
              " 2,\n",
              " 2,\n",
              " 2,\n",
              " 2,\n",
              " 2,\n",
              " 2,\n",
              " 2,\n",
              " 2,\n",
              " 2,\n",
              " 2,\n",
              " 2,\n",
              " 2,\n",
              " 2,\n",
              " 2,\n",
              " 2,\n",
              " 0,\n",
              " 2,\n",
              " 0,\n",
              " 2,\n",
              " 2,\n",
              " 2,\n",
              " 2,\n",
              " 2,\n",
              " 2,\n",
              " 0,\n",
              " 2,\n",
              " 2,\n",
              " 2,\n",
              " 2,\n",
              " 2,\n",
              " 2,\n",
              " 2,\n",
              " 2,\n",
              " 2,\n",
              " 2,\n",
              " 2,\n",
              " 2,\n",
              " 2,\n",
              " 2,\n",
              " 2,\n",
              " 2,\n",
              " 2,\n",
              " 2,\n",
              " 1,\n",
              " 2,\n",
              " 0,\n",
              " 2,\n",
              " 0,\n",
              " 2,\n",
              " 2,\n",
              " 0,\n",
              " 2,\n",
              " 0,\n",
              " 0,\n",
              " 2,\n",
              " 0,\n",
              " 2,\n",
              " 2,\n",
              " 2,\n",
              " 0,\n",
              " 2,\n",
              " 2,\n",
              " 2,\n",
              " 2,\n",
              " 2,\n",
              " 2,\n",
              " 2,\n",
              " 2,\n",
              " 2,\n",
              " 2,\n",
              " 2,\n",
              " 2,\n",
              " 2,\n",
              " 2,\n",
              " 2,\n",
              " 2,\n",
              " 2,\n",
              " 2,\n",
              " 2,\n",
              " ...]"
            ]
          },
          "execution_count": null,
          "metadata": {},
          "output_type": "execute_result"
        }
      ],
      "source": [
        "predicted_labels"
      ]
    },
    {
      "cell_type": "code",
      "execution_count": null,
      "metadata": {
        "colab": {
          "background_save": true
        },
        "id": "IfXuoJhtqoob",
        "outputId": "ae95507b-32d5-410d-ed20-85edefd2cfbe"
      },
      "outputs": [
        {
          "data": {
            "text/plain": [
              "array([2, 2, 2, ..., 0, 0, 0])"
            ]
          },
          "execution_count": null,
          "metadata": {},
          "output_type": "execute_result"
        }
      ],
      "source": [
        "test_labels"
      ]
    },
    {
      "cell_type": "code",
      "execution_count": null,
      "metadata": {
        "colab": {
          "background_save": true
        },
        "id": "ZTBjnzIkd_p4",
        "outputId": "ab539978-9f24-4a09-a5fe-25e7bd5b28c6"
      },
      "outputs": [
        {
          "data": {
            "text/plain": [
              "45689"
            ]
          },
          "execution_count": null,
          "metadata": {},
          "output_type": "execute_result"
        }
      ],
      "source": [
        "len(test_labels)"
      ]
    },
    {
      "cell_type": "code",
      "execution_count": null,
      "metadata": {
        "colab": {
          "background_save": true
        },
        "id": "sJ_1b3S91xQS"
      },
      "outputs": [],
      "source": [
        "import seaborn as sns"
      ]
    },
    {
      "cell_type": "code",
      "execution_count": null,
      "metadata": {
        "colab": {
          "background_save": true
        },
        "id": "sD4ozcbZ8ER2",
        "outputId": "b92826cf-f425-495a-b3a6-be29bc761cf7"
      },
      "outputs": [
        {
          "data": {
            "text/plain": [
              "<seaborn.axisgrid.FacetGrid at 0x7f2865f55dd0>"
            ]
          },
          "execution_count": null,
          "metadata": {},
          "output_type": "execute_result"
        },
        {
          "data": {
            "image/png": "[encoded data removed]",
            "text/plain": [
              "<Figure size 360x360 with 1 Axes>"
            ]
          },
          "metadata": {},
          "output_type": "display_data"
        }
      ],
      "source": [
        "sns.displot(predicted_labels, )"
      ]
    },
    {
      "cell_type": "code",
      "execution_count": null,
      "metadata": {
        "colab": {
          "background_save": true
        },
        "id": "TeTM2c338IqM",
        "outputId": "1e1317d3-faa2-430a-bcc8-099e27cd6ad6"
      },
      "outputs": [
        {
          "data": {
            "text/plain": [
              "<seaborn.axisgrid.FacetGrid at 0x7f2866349950>"
            ]
          },
          "execution_count": null,
          "metadata": {},
          "output_type": "execute_result"
        },
        {
          "data": {
            "image/png": "[encoded data removed]",
            "text/plain": [
              "<Figure size 360x360 with 1 Axes>"
            ]
          },
          "metadata": {},
          "output_type": "display_data"
        }
      ],
      "source": [
        "sns.displot(test_labels, )"
      ]
    },
    {
      "cell_type": "code",
      "execution_count": null,
      "metadata": {
        "colab": {
          "background_save": true
        },
        "id": "Imr4x6a28ab8",
        "outputId": "d6645645-c367-469c-d44c-bcb8e1240ca7"
      },
      "outputs": [
        {
          "name": "stdout",
          "output_type": "stream",
          "text": [
            "accuracy =  0.7838648252314562\n"
          ]
        }
      ],
      "source": [
        "from sklearn.metrics import accuracy_score\n",
        "print('accuracy = ',accuracy_score(test_labels, predicted_labels))"
      ]
    },
    {
      "cell_type": "code",
      "execution_count": null,
      "metadata": {
        "colab": {
          "background_save": true
        },
        "id": "5_-VnElN9LBu",
        "outputId": "9e68eaba-0da8-472f-82d0-5e4b4c25eb17"
      },
      "outputs": [
        {
          "name": "stdout",
          "output_type": "stream",
          "text": [
            "Confusion matrix:\n",
            "[[ 6584.   962.  2047.]\n",
            " [ 1008.  1033.  3223.]\n",
            " [ 1306.  1329. 28197.]]\n",
            "\n",
            "Accuracy: 0.7838648252314562\n"
          ]
        }
      ],
      "source": [
        "def my_confusion_matrix(y_true, y_pred):\n",
        "    N = np.unique(y_true).shape[0] # number of classes \n",
        "    cm = np.zeros((N, N))\n",
        "    for n in range(y_true.shape[0]):\n",
        "        cm[y_true[n], y_pred[n]] += 1\n",
        "    return cm \n",
        "cnf_matrix = my_confusion_matrix(test_labels, predicted_labels)\n",
        "print('Confusion matrix:')\n",
        "print(cnf_matrix)\n",
        "print('\\nAccuracy:', np.diagonal(cnf_matrix).sum()/cnf_matrix.sum())"
      ]
    },
    {
      "cell_type": "code",
      "execution_count": null,
      "metadata": {
        "colab": {
          "background_save": true
        },
        "id": "tBMY2oBv9mAl",
        "outputId": "021f64e5-89d9-4a66-e14d-d735c4774410"
      },
      "outputs": [
        {
          "name": "stdout",
          "output_type": "stream",
          "text": [
            "precition_0 = 0.74, recall_0 = 0.69\n",
            "precition_1 = 0.31, recall_1 = 0.20\n",
            "precition_2 = 0.84, recall_2 = 0.91\n"
          ]
        }
      ],
      "source": [
        "def cm2pr_binary(cm):\n",
        "    p0 = cm[0,0]/np.sum(cm[:,0])\n",
        "    p1 = cm[1,1]/np.sum(cm[:,1])\n",
        "    p2 = cm[2,2]/np.sum(cm[:,2])\n",
        "    r0 = cm[0,0]/np.sum(cm[0])\n",
        "    r1 = cm[1,1]/np.sum(cm[1])\n",
        "    r2 = cm[2,2]/np.sum(cm[2])\n",
        "    return (p0, p1, p2, r0, r1, r2)\n",
        "\n",
        "cm = np.array(cnf_matrix)\n",
        "p0, p1, p2, r0, r1, r2 = cm2pr_binary(cm)\n",
        "print(\"precition_0 = {0:.2f}, recall_0 = {1:.2f}\".format(p0, r0))\n",
        "print(\"precition_1 = {0:.2f}, recall_1 = {1:.2f}\".format(p1, r1))\n",
        "print(\"precition_2 = {0:.2f}, recall_2 = {1:.2f}\".format(p2, r2))"
      ]
    },
    {
      "cell_type": "code",
      "execution_count": null,
      "metadata": {
        "colab": {
          "background_save": true
        },
        "id": "wDOdMQbZ6n5h"
      },
      "outputs": [],
      "source": [
        "embedding_layer = model.layers[0]"
      ]
    },
    {
      "cell_type": "code",
      "execution_count": null,
      "metadata": {
        "colab": {
          "background_save": true
        },
        "id": "3pN0Y54j6tMd"
      },
      "outputs": [],
      "source": [
        "weights = embedding_layer.get_weights()[0]"
      ]
    },
    {
      "cell_type": "code",
      "execution_count": null,
      "metadata": {
        "colab": {
          "background_save": true
        },
        "id": "siHvOYPD6xuO",
        "outputId": "1474799e-17ec-4703-e598-6344f99a1a55"
      },
      "outputs": [
        {
          "data": {
            "text/plain": [
              "array([[ 0.00395547, -0.00172608, -0.00116967, ...,  0.02748317,\n",
              "        -0.00344449, -0.0037158 ],\n",
              "       [-0.10086219,  0.20942444, -0.02571134, ..., -0.03456049,\n",
              "         0.02664201, -0.05806713],\n",
              "       [-0.03368295,  0.03246678,  0.02083907, ..., -0.13913663,\n",
              "        -0.01371646,  0.00043594],\n",
              "       ...,\n",
              "       [-0.25529858,  0.1628487 ,  0.05936928, ...,  0.3951946 ,\n",
              "         0.13984308, -0.03693747],\n",
              "       [-0.2460008 , -0.03668511,  0.41493708, ...,  0.40042892,\n",
              "         0.25896913,  0.20725504],\n",
              "       [-0.24493563,  0.09344178,  0.14783694, ..., -0.04010542,\n",
              "        -0.01440161, -0.05968579]], dtype=float32)"
            ]
          },
          "execution_count": null,
          "metadata": {},
          "output_type": "execute_result"
        }
      ],
      "source": [
        "weights"
      ]
    },
    {
      "cell_type": "code",
      "execution_count": null,
      "metadata": {
        "colab": {
          "background_save": true
        },
        "id": "YqAwWF1x6zsV"
      },
      "outputs": [],
      "source": [
        "import io\n",
        "\n",
        "out_v = io.open('vecs.tsv', 'w', encoding='utf-8')\n",
        "out_m = io.open('meta.tsv', 'w', encoding='utf-8')\n",
        "\n",
        "for idx in range(1, vocab_size):\n",
        "  word = tokenizer.index_word[idx]\n",
        "  vector = weights[idx]\n",
        "  out_m.write(word + \"\\n\")\n",
        "  out_v.write('\\t'.join([str(vi) for vi in vector]) + \"\\n\")\n",
        "\n",
        "out_m.close()\n",
        "out_v.close()"
      ]
    },
    {
      "cell_type": "code",
      "execution_count": null,
      "metadata": {
        "colab": {
          "background_save": true
        },
        "id": "PnHIe1Sc8YLc"
      },
      "outputs": [],
      "source": [
        "model_json = model.to_json()"
      ]
    },
    {
      "cell_type": "code",
      "execution_count": null,
      "metadata": {
        "colab": {
          "background_save": true
        },
        "id": "uopqzteBOyh2"
      },
      "outputs": [],
      "source": [
        "with open(\"./drive/MyDrive/model.json\", \"w\") as json_file:\n",
        "  json_file.write(model_json)"
      ]
    },
    {
      "cell_type": "code",
      "execution_count": null,
      "metadata": {
        "colab": {
          "background_save": true
        },
        "id": "Rq16Uks1Ozqc"
      },
      "outputs": [],
      "source": [
        "model.save_weights(\"./drive/MyDrive/model.h5\")"
      ]
    },
    {
      "cell_type": "code",
      "execution_count": null,
      "metadata": {
        "colab": {
          "background_save": true
        },
        "id": "I6V4EPpoO1k3"
      },
      "outputs": [],
      "source": [
        "json_file = open('./drive/MyDrive/model.json', 'r')"
      ]
    },
    {
      "cell_type": "code",
      "execution_count": null,
      "metadata": {
        "colab": {
          "background_save": true
        },
        "id": "UBIqIlRsO228"
      },
      "outputs": [],
      "source": [
        "loaded_model_json = json_file.read()"
      ]
    },
    {
      "cell_type": "code",
      "execution_count": null,
      "metadata": {
        "colab": {
          "background_save": true
        },
        "id": "93sU7XodO3jO"
      },
      "outputs": [],
      "source": [
        "json_file.close()"
      ]
    },
    {
      "cell_type": "code",
      "execution_count": null,
      "metadata": {
        "colab": {
          "background_save": true
        },
        "id": "F6YoHxDnO5Iv"
      },
      "outputs": [],
      "source": [
        "from keras.models import model_from_json\n",
        "loaded_model = model_from_json(loaded_model_json)"
      ]
    },
    {
      "cell_type": "code",
      "execution_count": null,
      "metadata": {
        "colab": {
          "background_save": true
        },
        "id": "Z8K3iBdVO6Zn"
      },
      "outputs": [],
      "source": [
        "loaded_model.load_weights('./drive/MyDrive/model.h5')"
      ]
    },
    {
      "cell_type": "code",
      "execution_count": null,
      "metadata": {
        "colab": {
          "background_save": true
        },
        "id": "4tqAuPZIO750"
      },
      "outputs": [],
      "source": [
        "loaded_model.compile(loss='categorical_crossentropy', optimizer='adam', metrics=['acc'])"
      ]
    },
    {
      "cell_type": "code",
      "execution_count": null,
      "metadata": {
        "colab": {
          "background_save": true
        },
        "id": "3czwYTDeO8--",
        "outputId": "6b9961a6-b4a9-4b9c-e6ad-8528a497c9eb"
      },
      "outputs": [
        {
          "name": "stdout",
          "output_type": "stream",
          "text": [
            "Model: \"sequential_1\"\n",
            "_________________________________________________________________\n",
            " Layer (type)                Output Shape              Param #   \n",
            "=================================================================\n",
            " embedding_1 (Embedding)     (None, 500, 64)           640000    \n",
            "                                                                 \n",
            " flatten_1 (Flatten)         (None, 32000)             0         \n",
            "                                                                 \n",
            " dense_2 (Dense)             (None, 64)                2048064   \n",
            "                                                                 \n",
            " dense_3 (Dense)             (None, 3)                 195       \n",
            "                                                                 \n",
            "=================================================================\n",
            "Total params: 2,688,259\n",
            "Trainable params: 2,688,259\n",
            "Non-trainable params: 0\n",
            "_________________________________________________________________\n"
          ]
        }
      ],
      "source": [
        "loaded_model.summary()"
      ]
    },
    {
      "cell_type": "code",
      "execution_count": null,
      "metadata": {
        "colab": {
          "background_save": true
        },
        "id": "SggmtCmxQNTT",
        "outputId": "13ac4f6d-566e-4b2a-bccc-bad793f7dcca"
      },
      "outputs": [
        {
          "name": "stdout",
          "output_type": "stream",
          "text": [
            "0.75480163\n"
          ]
        },
        {
          "name": "stderr",
          "output_type": "stream",
          "text": [
            "/usr/local/lib/python3.7/dist-packages/tensorflow/python/data/ops/dataset_ops.py:4527: UserWarning: Even though the `tf.config.experimental_run_functions_eagerly` option is set, this option does not apply to tf.data functions. To force eager execution of tf.data functions, please use `tf.data.experimental.enable_debug_mode()`.\n",
            "  \"Even though the `tf.config.experimental_run_functions_eagerly` \"\n"
          ]
        },
        {
          "data": {
            "text/plain": [
              "0"
            ]
          },
          "execution_count": null,
          "metadata": {},
          "output_type": "execute_result"
        }
      ],
      "source": [
        "con = \"Không hài lòng\"\n",
        "con = remove_stopwords(con)\n",
        "con = text_preprocess(con)\n",
        "test_cons = [con]\n",
        "test_seq = tokenizer.texts_to_sequences(test_cons)\n",
        "padded_test_seq = pad_sequences(test_seq, maxlen=max_length, truncating='post', padding='post') \n",
        "\n",
        "result_one_hot_predicted = model.predict(padded_test_seq)\n",
        "print(np.amax(result_one_hot_predicted))\n",
        "\n",
        "rating_predicted = np.argmax(result_one_hot_predicted)\n",
        "rating_predicted"
      ]
    },
    {
      "cell_type": "code",
      "execution_count": null,
      "metadata": {
        "colab": {
          "background_save": true
        },
        "id": "XtNoiXmfO-XA"
      },
      "outputs": [],
      "source": [
        "# def suggest_movie_by_ratings(con):\n",
        "#   test_cons = [con]\n",
        "#   test_cons = [remove_stop_words(con) for con in test_cons]\n",
        "#   test_seq = tokenizer.texts_to_sequences(test_cons)\n",
        "#   padded_test_seq = pad_sequences(test_seq, maxlen=max_length, truncating='post', padding='post') \n",
        "#   result_one_hot_predicted = model.predict(padded_test_seq)\n",
        "#   rating_predicted = np.argmax(result_one_hot_predicted)\n",
        "#   if (rating_predicted >= 2):\n",
        "#     return True\n",
        "#   return False\n"
      ]
    },
    {
      "cell_type": "code",
      "execution_count": null,
      "metadata": {
        "colab": {
          "background_save": true
        },
        "id": "RFdyQOQeY3st",
        "outputId": "6a63c8c5-c470-4a68-a956-e89608469ec9"
      },
      "outputs": [
        {
          "name": "stdout",
          "output_type": "stream",
          "text": [
            "Requirement already satisfied: emot in /usr/local/lib/python3.7/dist-packages (3.1)\n",
            "\u001b[33mWARNING: Running pip as the 'root' user can result in broken permissions and conflicting behaviour with the system package manager. It is recommended to use a virtual environment instead: https://pip.pypa.io/warnings/venv\u001b[0m\n"
          ]
        }
      ],
      "source": [
        "#!pip install emot"
      ]
    },
    {
      "cell_type": "code",
      "execution_count": null,
      "metadata": {
        "colab": {
          "background_save": true
        },
        "id": "ysY9EAfGZYCR"
      },
      "outputs": [],
      "source": [
        "#import re\n",
        "#import emot"
      ]
    },
    {
      "cell_type": "code",
      "execution_count": null,
      "metadata": {
        "colab": {
          "background_save": true
        },
        "id": "lahoIRGkZkB_",
        "outputId": "7a606494-ebbc-4079-93d1-c9891ae3de88"
      },
      "outputs": [
        {
          "data": {
            "text/plain": [
              "<emot.core.emot at 0x7f2866ae7250>"
            ]
          },
          "execution_count": null,
          "metadata": {},
          "output_type": "execute_result"
        }
      ],
      "source": [
        "#emot.core.emot() "
      ]
    },
    {
      "cell_type": "code",
      "execution_count": null,
      "metadata": {
        "colab": {
          "background_save": true
        },
        "id": "U0e2kIHib27r"
      },
      "outputs": [],
      "source": [
        "# def remove_urls(text):\n",
        "#     url_pattern = re.compile(r'https?://\\S+|www\\.\\S+')\n",
        "#     return url_pattern.sub(r'', text)"
      ]
    },
    {
      "cell_type": "code",
      "execution_count": null,
      "metadata": {
        "colab": {
          "background_save": true
        },
        "id": "pf_LQP0Tb5Sk"
      },
      "outputs": [],
      "source": [
        ""
      ]
    }
  ],
  "metadata": {
    "colab": {
      "collapsed_sections": [],
      "name": "tiki_comment_analysis",
      "provenance": []
    },
    "kernelspec": {
      "display_name": "Python 3",
      "name": "python3"
    },
    "language_info": {
      "name": "python"
    }
  },
  "nbformat": 4,
  "nbformat_minor": 0
}