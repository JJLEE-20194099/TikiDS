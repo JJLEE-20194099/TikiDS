{
 "cells": [
  {
   "cell_type": "code",
   "execution_count": 15,
   "metadata": {},
   "outputs": [
    {
     "ename": "ModuleNotFoundError",
     "evalue": "No module named 'tensorflow.python.platform'",
     "output_type": "error",
     "traceback": [
      "\u001b[1;31m---------------------------------------------------------------------------\u001b[0m",
      "\u001b[1;31mModuleNotFoundError\u001b[0m                       Traceback (most recent call last)",
      "\u001b[1;32m~\\AppData\\Local\\Temp/ipykernel_14076/1992670728.py\u001b[0m in \u001b[0;36m<module>\u001b[1;34m\u001b[0m\n\u001b[0;32m      6\u001b[0m \u001b[1;32mimport\u001b[0m \u001b[0mcv2\u001b[0m\u001b[1;33m\u001b[0m\u001b[1;33m\u001b[0m\u001b[0m\n\u001b[0;32m      7\u001b[0m \u001b[1;32mimport\u001b[0m \u001b[0mmatplotlib\u001b[0m\u001b[1;33m.\u001b[0m\u001b[0mpyplot\u001b[0m \u001b[1;32mas\u001b[0m \u001b[0mplt\u001b[0m\u001b[1;33m\u001b[0m\u001b[1;33m\u001b[0m\u001b[0m\n\u001b[1;32m----> 8\u001b[1;33m \u001b[1;32mimport\u001b[0m \u001b[0mtensorflow\u001b[0m \u001b[1;32mas\u001b[0m \u001b[0mtf\u001b[0m\u001b[1;33m\u001b[0m\u001b[1;33m\u001b[0m\u001b[0m\n\u001b[0m",
      "\u001b[1;32m~\\AppData\\Roaming\\Python\\Python39\\site-packages\\tensorflow\\__init__.py\u001b[0m in \u001b[0;36m<module>\u001b[1;34m\u001b[0m\n\u001b[0;32m     39\u001b[0m \u001b[1;32mimport\u001b[0m \u001b[0msys\u001b[0m \u001b[1;32mas\u001b[0m \u001b[0m_sys\u001b[0m\u001b[1;33m\u001b[0m\u001b[1;33m\u001b[0m\u001b[0m\n\u001b[0;32m     40\u001b[0m \u001b[1;33m\u001b[0m\u001b[0m\n\u001b[1;32m---> 41\u001b[1;33m \u001b[1;32mfrom\u001b[0m \u001b[0mtensorflow\u001b[0m\u001b[1;33m.\u001b[0m\u001b[0mpython\u001b[0m\u001b[1;33m.\u001b[0m\u001b[0mtools\u001b[0m \u001b[1;32mimport\u001b[0m \u001b[0mmodule_util\u001b[0m \u001b[1;32mas\u001b[0m \u001b[0m_module_util\u001b[0m\u001b[1;33m\u001b[0m\u001b[1;33m\u001b[0m\u001b[0m\n\u001b[0m\u001b[0;32m     42\u001b[0m \u001b[1;32mfrom\u001b[0m \u001b[0mtensorflow\u001b[0m\u001b[1;33m.\u001b[0m\u001b[0mpython\u001b[0m\u001b[1;33m.\u001b[0m\u001b[0mutil\u001b[0m\u001b[1;33m.\u001b[0m\u001b[0mlazy_loader\u001b[0m \u001b[1;32mimport\u001b[0m \u001b[0mLazyLoader\u001b[0m \u001b[1;32mas\u001b[0m \u001b[0m_LazyLoader\u001b[0m\u001b[1;33m\u001b[0m\u001b[1;33m\u001b[0m\u001b[0m\n\u001b[0;32m     43\u001b[0m \u001b[1;33m\u001b[0m\u001b[0m\n",
      "\u001b[1;32m~\\AppData\\Roaming\\Python\\Python39\\site-packages\\tensorflow\\python\\__init__.py\u001b[0m in \u001b[0;36m<module>\u001b[1;34m\u001b[0m\n\u001b[0;32m     38\u001b[0m \u001b[1;31m# pylint: disable=wildcard-import,g-bad-import-order,g-import-not-at-top\u001b[0m\u001b[1;33m\u001b[0m\u001b[1;33m\u001b[0m\u001b[0m\n\u001b[0;32m     39\u001b[0m \u001b[1;33m\u001b[0m\u001b[0m\n\u001b[1;32m---> 40\u001b[1;33m \u001b[1;32mfrom\u001b[0m \u001b[0mtensorflow\u001b[0m\u001b[1;33m.\u001b[0m\u001b[0mpython\u001b[0m\u001b[1;33m.\u001b[0m\u001b[0meager\u001b[0m \u001b[1;32mimport\u001b[0m \u001b[0mcontext\u001b[0m\u001b[1;33m\u001b[0m\u001b[1;33m\u001b[0m\u001b[0m\n\u001b[0m\u001b[0;32m     41\u001b[0m \u001b[1;32mfrom\u001b[0m \u001b[0mtensorflow\u001b[0m\u001b[1;33m.\u001b[0m\u001b[0mpython\u001b[0m \u001b[1;32mimport\u001b[0m \u001b[0mpywrap_tensorflow\u001b[0m \u001b[1;32mas\u001b[0m \u001b[0m_pywrap_tensorflow\u001b[0m\u001b[1;33m\u001b[0m\u001b[1;33m\u001b[0m\u001b[0m\n\u001b[0;32m     42\u001b[0m \u001b[1;33m\u001b[0m\u001b[0m\n",
      "\u001b[1;32m~\\AppData\\Roaming\\Python\\Python39\\site-packages\\tensorflow\\python\\eager\\context.py\u001b[0m in \u001b[0;36m<module>\u001b[1;34m\u001b[0m\n\u001b[0;32m     33\u001b[0m \u001b[1;32mfrom\u001b[0m \u001b[0mtensorflow\u001b[0m\u001b[1;33m.\u001b[0m\u001b[0mcore\u001b[0m\u001b[1;33m.\u001b[0m\u001b[0mprotobuf\u001b[0m \u001b[1;32mimport\u001b[0m \u001b[0mconfig_pb2\u001b[0m\u001b[1;33m\u001b[0m\u001b[1;33m\u001b[0m\u001b[0m\n\u001b[0;32m     34\u001b[0m \u001b[1;32mfrom\u001b[0m \u001b[0mtensorflow\u001b[0m\u001b[1;33m.\u001b[0m\u001b[0mcore\u001b[0m\u001b[1;33m.\u001b[0m\u001b[0mprotobuf\u001b[0m \u001b[1;32mimport\u001b[0m \u001b[0mrewriter_config_pb2\u001b[0m\u001b[1;33m\u001b[0m\u001b[1;33m\u001b[0m\u001b[0m\n\u001b[1;32m---> 35\u001b[1;33m \u001b[1;32mfrom\u001b[0m \u001b[0mtensorflow\u001b[0m\u001b[1;33m.\u001b[0m\u001b[0mpython\u001b[0m \u001b[1;32mimport\u001b[0m \u001b[0mpywrap_tfe\u001b[0m\u001b[1;33m\u001b[0m\u001b[1;33m\u001b[0m\u001b[0m\n\u001b[0m\u001b[0;32m     36\u001b[0m \u001b[1;32mfrom\u001b[0m \u001b[0mtensorflow\u001b[0m\u001b[1;33m.\u001b[0m\u001b[0mpython\u001b[0m \u001b[1;32mimport\u001b[0m \u001b[0mtf2\u001b[0m\u001b[1;33m\u001b[0m\u001b[1;33m\u001b[0m\u001b[0m\n\u001b[0;32m     37\u001b[0m \u001b[1;32mfrom\u001b[0m \u001b[0mtensorflow\u001b[0m\u001b[1;33m.\u001b[0m\u001b[0mpython\u001b[0m\u001b[1;33m.\u001b[0m\u001b[0mclient\u001b[0m \u001b[1;32mimport\u001b[0m \u001b[0mpywrap_tf_session\u001b[0m\u001b[1;33m\u001b[0m\u001b[1;33m\u001b[0m\u001b[0m\n",
      "\u001b[1;32m~\\AppData\\Roaming\\Python\\Python39\\site-packages\\tensorflow\\python\\pywrap_tfe.py\u001b[0m in \u001b[0;36m<module>\u001b[1;34m\u001b[0m\n\u001b[0;32m     26\u001b[0m \u001b[1;33m\u001b[0m\u001b[0m\n\u001b[0;32m     27\u001b[0m \u001b[1;31m# pylint: disable=invalid-import-order,g-bad-import-order, wildcard-import, unused-import\u001b[0m\u001b[1;33m\u001b[0m\u001b[1;33m\u001b[0m\u001b[0m\n\u001b[1;32m---> 28\u001b[1;33m \u001b[1;32mfrom\u001b[0m \u001b[0mtensorflow\u001b[0m\u001b[1;33m.\u001b[0m\u001b[0mpython\u001b[0m \u001b[1;32mimport\u001b[0m \u001b[0mpywrap_tensorflow\u001b[0m\u001b[1;33m\u001b[0m\u001b[1;33m\u001b[0m\u001b[0m\n\u001b[0m\u001b[0;32m     29\u001b[0m \u001b[1;32mfrom\u001b[0m \u001b[0mtensorflow\u001b[0m\u001b[1;33m.\u001b[0m\u001b[0mpython\u001b[0m\u001b[1;33m.\u001b[0m\u001b[0m_pywrap_tfe\u001b[0m \u001b[1;32mimport\u001b[0m \u001b[1;33m*\u001b[0m\u001b[1;33m\u001b[0m\u001b[1;33m\u001b[0m\u001b[0m\n",
      "\u001b[1;32m~\\AppData\\Roaming\\Python\\Python39\\site-packages\\tensorflow\\python\\pywrap_tensorflow.py\u001b[0m in \u001b[0;36m<module>\u001b[1;34m\u001b[0m\n\u001b[0;32m     23\u001b[0m \u001b[1;32mimport\u001b[0m \u001b[0mtraceback\u001b[0m\u001b[1;33m\u001b[0m\u001b[1;33m\u001b[0m\u001b[0m\n\u001b[0;32m     24\u001b[0m \u001b[1;33m\u001b[0m\u001b[0m\n\u001b[1;32m---> 25\u001b[1;33m \u001b[1;32mfrom\u001b[0m \u001b[0mtensorflow\u001b[0m\u001b[1;33m.\u001b[0m\u001b[0mpython\u001b[0m\u001b[1;33m.\u001b[0m\u001b[0mplatform\u001b[0m \u001b[1;32mimport\u001b[0m \u001b[0mself_check\u001b[0m\u001b[1;33m\u001b[0m\u001b[1;33m\u001b[0m\u001b[0m\n\u001b[0m\u001b[0;32m     26\u001b[0m \u001b[1;33m\u001b[0m\u001b[0m\n\u001b[0;32m     27\u001b[0m \u001b[1;31m# Perform pre-load sanity checks in order to produce a more actionable error.\u001b[0m\u001b[1;33m\u001b[0m\u001b[1;33m\u001b[0m\u001b[0m\n",
      "\u001b[1;31mModuleNotFoundError\u001b[0m: No module named 'tensorflow.python.platform'"
     ]
    }
   ],
   "source": [
    "import numpy as np\n",
    "import pandas as pd\n",
    "import requests\n",
    "import os\n",
    "from sklearn.model_selection import train_test_split\n",
    "import cv2\n",
    "import matplotlib.pyplot as plt\n",
    "import tensorflow as tf"
   ]
  },
  {
   "cell_type": "code",
   "execution_count": 6,
   "metadata": {},
   "outputs": [],
   "source": [
    "df = pd.read_csv('../../data/datasets/item/detail_list.csv', sep=',', encoding='utf-8')"
   ]
  },
  {
   "cell_type": "code",
   "execution_count": 9,
   "metadata": {},
   "outputs": [],
   "source": [
    "df['product_id'] = df.index"
   ]
  },
  {
   "cell_type": "code",
   "execution_count": 10,
   "metadata": {},
   "outputs": [
    {
     "data": {
      "text/html": [
       "<div>\n",
       "<style scoped>\n",
       "    .dataframe tbody tr th:only-of-type {\n",
       "        vertical-align: middle;\n",
       "    }\n",
       "\n",
       "    .dataframe tbody tr th {\n",
       "        vertical-align: top;\n",
       "    }\n",
       "\n",
       "    .dataframe thead th {\n",
       "        text-align: right;\n",
       "    }\n",
       "</style>\n",
       "<table border=\"1\" class=\"dataframe\">\n",
       "  <thead>\n",
       "    <tr style=\"text-align: right;\">\n",
       "      <th></th>\n",
       "      <th>id</th>\n",
       "      <th>name</th>\n",
       "      <th>category</th>\n",
       "      <th>brand</th>\n",
       "      <th>price</th>\n",
       "      <th>discount</th>\n",
       "      <th>discount_rate</th>\n",
       "      <th>mota</th>\n",
       "      <th>image_url</th>\n",
       "      <th>n_sold</th>\n",
       "      <th>rank</th>\n",
       "      <th>main_category</th>\n",
       "      <th>product_id</th>\n",
       "    </tr>\n",
       "  </thead>\n",
       "  <tbody>\n",
       "    <tr>\n",
       "      <th>0</th>\n",
       "      <td>112329645</td>\n",
       "      <td>1 gói Chân Gà CHEF BIGGY Vị Cay</td>\n",
       "      <td>Bách Hóa Online/Đồ Ăn Vặt/Các Loại Đồ Ăn Vặt Khác</td>\n",
       "      <td>CHEF BIGGY</td>\n",
       "      <td>10000</td>\n",
       "      <td>0</td>\n",
       "      <td>0</td>\n",
       "      <td>* Chân Gà CHEF BIGGY Vị Cay \\n- Toàn bộ nguyê...</td>\n",
       "      <td>https://salt.tikicdn.com/cache/280x280/ts/prod...</td>\n",
       "      <td>860.0</td>\n",
       "      <td>1.0</td>\n",
       "      <td>bach-hoa-online</td>\n",
       "      <td>0</td>\n",
       "    </tr>\n",
       "    <tr>\n",
       "      <th>1</th>\n",
       "      <td>2454355</td>\n",
       "      <td>Thùng 48 Hộp Sữa Chua Lên Men Tự Nhiên Yomost ...</td>\n",
       "      <td>Bách Hóa Online/Sữa và các Sản phẩm từ sữa/Sữa...</td>\n",
       "      <td>Yomost</td>\n",
       "      <td>360000</td>\n",
       "      <td>0</td>\n",
       "      <td>0</td>\n",
       "      <td>\\n\\nThùng 48 Hộp Sữa Chua Lên Men Tự Nhiên Yom...</td>\n",
       "      <td>https://salt.tikicdn.com/cache/280x280/ts/prod...</td>\n",
       "      <td>2788.0</td>\n",
       "      <td>1.0</td>\n",
       "      <td>bach-hoa-online</td>\n",
       "      <td>1</td>\n",
       "    </tr>\n",
       "    <tr>\n",
       "      <th>2</th>\n",
       "      <td>2454359</td>\n",
       "      <td>Thùng 48 Hộp Sữa Chua Lên Men Tự Nhiên Yomost ...</td>\n",
       "      <td>Bách Hóa Online/Sữa và các Sản phẩm từ sữa/Sữa...</td>\n",
       "      <td>Yomost</td>\n",
       "      <td>360000</td>\n",
       "      <td>0</td>\n",
       "      <td>0</td>\n",
       "      <td>\\n\\nThùng 48 Hộp Sữa Chua Lên Men Tự Nhiên Yom...</td>\n",
       "      <td>https://salt.tikicdn.com/cache/280x280/ts/prod...</td>\n",
       "      <td>1591.0</td>\n",
       "      <td>9.0</td>\n",
       "      <td>bach-hoa-online</td>\n",
       "      <td>2</td>\n",
       "    </tr>\n",
       "    <tr>\n",
       "      <th>3</th>\n",
       "      <td>2454353</td>\n",
       "      <td>Thùng 48 Hộp Sữa Chua Lên Men Tự Nhiên Yomost ...</td>\n",
       "      <td>Bách Hóa Online/Sữa và các Sản phẩm từ sữa/Sữa...</td>\n",
       "      <td>Yomost</td>\n",
       "      <td>319000</td>\n",
       "      <td>41000</td>\n",
       "      <td>11</td>\n",
       "      <td>\\n\\nThùng 48 Hộp Sữa Chua Lên Men Tự Nhiên Yom...</td>\n",
       "      <td>https://salt.tikicdn.com/cache/280x280/ts/prod...</td>\n",
       "      <td>2186.0</td>\n",
       "      <td>7.0</td>\n",
       "      <td>bach-hoa-online</td>\n",
       "      <td>3</td>\n",
       "    </tr>\n",
       "    <tr>\n",
       "      <th>4</th>\n",
       "      <td>98565212</td>\n",
       "      <td>Thùng 24 Lon Nước Ngọt Có Gaz Pepsi (320ml/lon)</td>\n",
       "      <td>Bách Hóa Online/Đồ Uống Không Cồn/Đồ uống có g...</td>\n",
       "      <td>Pepsi</td>\n",
       "      <td>186000</td>\n",
       "      <td>2000</td>\n",
       "      <td>1</td>\n",
       "      <td>\\nPepsi là nhãn hiệu nước giải khát hương Cola...</td>\n",
       "      <td>https://salt.tikicdn.com/cache/280x280/media/c...</td>\n",
       "      <td>1511.0</td>\n",
       "      <td>4.0</td>\n",
       "      <td>bach-hoa-online</td>\n",
       "      <td>4</td>\n",
       "    </tr>\n",
       "  </tbody>\n",
       "</table>\n",
       "</div>"
      ],
      "text/plain": [
       "          id                                               name  \\\n",
       "0  112329645                   1 gói Chân Gà CHEF BIGGY Vị Cay    \n",
       "1    2454355  Thùng 48 Hộp Sữa Chua Lên Men Tự Nhiên Yomost ...   \n",
       "2    2454359  Thùng 48 Hộp Sữa Chua Lên Men Tự Nhiên Yomost ...   \n",
       "3    2454353  Thùng 48 Hộp Sữa Chua Lên Men Tự Nhiên Yomost ...   \n",
       "4   98565212    Thùng 24 Lon Nước Ngọt Có Gaz Pepsi (320ml/lon)   \n",
       "\n",
       "                                            category       brand   price  \\\n",
       "0  Bách Hóa Online/Đồ Ăn Vặt/Các Loại Đồ Ăn Vặt Khác  CHEF BIGGY   10000   \n",
       "1  Bách Hóa Online/Sữa và các Sản phẩm từ sữa/Sữa...      Yomost  360000   \n",
       "2  Bách Hóa Online/Sữa và các Sản phẩm từ sữa/Sữa...      Yomost  360000   \n",
       "3  Bách Hóa Online/Sữa và các Sản phẩm từ sữa/Sữa...      Yomost  319000   \n",
       "4  Bách Hóa Online/Đồ Uống Không Cồn/Đồ uống có g...       Pepsi  186000   \n",
       "\n",
       "   discount  discount_rate                                               mota  \\\n",
       "0         0              0   * Chân Gà CHEF BIGGY Vị Cay \\n- Toàn bộ nguyê...   \n",
       "1         0              0  \\n\\nThùng 48 Hộp Sữa Chua Lên Men Tự Nhiên Yom...   \n",
       "2         0              0  \\n\\nThùng 48 Hộp Sữa Chua Lên Men Tự Nhiên Yom...   \n",
       "3     41000             11  \\n\\nThùng 48 Hộp Sữa Chua Lên Men Tự Nhiên Yom...   \n",
       "4      2000              1  \\nPepsi là nhãn hiệu nước giải khát hương Cola...   \n",
       "\n",
       "                                           image_url  n_sold  rank  \\\n",
       "0  https://salt.tikicdn.com/cache/280x280/ts/prod...   860.0   1.0   \n",
       "1  https://salt.tikicdn.com/cache/280x280/ts/prod...  2788.0   1.0   \n",
       "2  https://salt.tikicdn.com/cache/280x280/ts/prod...  1591.0   9.0   \n",
       "3  https://salt.tikicdn.com/cache/280x280/ts/prod...  2186.0   7.0   \n",
       "4  https://salt.tikicdn.com/cache/280x280/media/c...  1511.0   4.0   \n",
       "\n",
       "     main_category  product_id  \n",
       "0  bach-hoa-online           0  \n",
       "1  bach-hoa-online           1  \n",
       "2  bach-hoa-online           2  \n",
       "3  bach-hoa-online           3  \n",
       "4  bach-hoa-online           4  "
      ]
     },
     "execution_count": 10,
     "metadata": {},
     "output_type": "execute_result"
    }
   ],
   "source": [
    "df.head()"
   ]
  },
  {
   "cell_type": "code",
   "execution_count": 12,
   "metadata": {},
   "outputs": [
    {
     "data": {
      "text/html": [
       "<div>\n",
       "<style scoped>\n",
       "    .dataframe tbody tr th:only-of-type {\n",
       "        vertical-align: middle;\n",
       "    }\n",
       "\n",
       "    .dataframe tbody tr th {\n",
       "        vertical-align: top;\n",
       "    }\n",
       "\n",
       "    .dataframe thead th {\n",
       "        text-align: right;\n",
       "    }\n",
       "</style>\n",
       "<table border=\"1\" class=\"dataframe\">\n",
       "  <thead>\n",
       "    <tr style=\"text-align: right;\">\n",
       "      <th></th>\n",
       "      <th>id</th>\n",
       "      <th>name</th>\n",
       "      <th>category</th>\n",
       "      <th>brand</th>\n",
       "      <th>price</th>\n",
       "      <th>discount</th>\n",
       "      <th>discount_rate</th>\n",
       "      <th>mota</th>\n",
       "      <th>image_url</th>\n",
       "      <th>n_sold</th>\n",
       "      <th>rank</th>\n",
       "      <th>main_category</th>\n",
       "      <th>product_id</th>\n",
       "    </tr>\n",
       "  </thead>\n",
       "  <tbody>\n",
       "  </tbody>\n",
       "</table>\n",
       "</div>"
      ],
      "text/plain": [
       "Empty DataFrame\n",
       "Columns: [id, name, category, brand, price, discount, discount_rate, mota, image_url, n_sold, rank, main_category, product_id]\n",
       "Index: []"
      ]
     },
     "execution_count": 12,
     "metadata": {},
     "output_type": "execute_result"
    }
   ],
   "source": [
    "df[df['image_url'] == -1]"
   ]
  },
  {
   "cell_type": "code",
   "execution_count": 13,
   "metadata": {},
   "outputs": [],
   "source": [
    "if not os.path.exists('../../data/datasets/images'):\n",
    "    os.makedirs('../../data/datasets/images')"
   ]
  },
  {
   "cell_type": "code",
   "execution_count": 14,
   "metadata": {},
   "outputs": [],
   "source": [
    "for i in range(len(df)):\n",
    "  item = df.iloc[i]\n",
    "  category = item['main_category']\n",
    "  image_url = item['image_url']\n",
    "  product_id = item['product_id']\n",
    "  if not os.path.exists(os.path.join('../../data/datasets/images', category)):\n",
    "    os.makedirs(os.path.join('../../data/datasets/images', category))\n",
    "  image = requests.get(image_url, allow_redirects=True)\n",
    "  filename = str(product_id) + '.png'\n",
    "  open(os.path.join(\"../../data/datasets/images\", category, filename), 'wb').write(image.content)"
   ]
  },
  {
   "cell_type": "code",
   "execution_count": null,
   "metadata": {},
   "outputs": [],
   "source": [
    "files_dict = {}\n",
    "for category in os.listdir('../../data/datasets/images'):\n",
    "  files_dict[category] = []\n",
    "  files_dict[category] = [os.path.join(category, filename) for filename in os.listdir(os.path.join('../../data/datasets/images', category))]"
   ]
  },
  {
   "cell_type": "code",
   "execution_count": null,
   "metadata": {},
   "outputs": [],
   "source": [
    "files_dict_train, files_dict_test, files_dict_val = {}, {}, {}"
   ]
  },
  {
   "cell_type": "code",
   "execution_count": null,
   "metadata": {},
   "outputs": [],
   "source": [
    "for category, file_list in files_dict.items():\n",
    "  file_list_train, file_list_test = train_test_split(file_list, test_size=0.2, random_state=1)\n",
    "  file_list_train, file_list_val = train_test_split(file_list_train, test_size=0.1, random_state=1)\n",
    "\n",
    "  files_dict_train[category] = file_list_train \n",
    "  files_dict_val[category] = file_list_val \n",
    "  files_dict_test[category] = file_list_test "
   ]
  },
  {
   "cell_type": "code",
   "execution_count": null,
   "metadata": {},
   "outputs": [],
   "source": [
    "with open('../../data/datasets/images/images_train.txt', \"w\") as f:\n",
    "  for category, file_list in files_dict_train.items():\n",
    "    for file in file_list:\n",
    "      f.write(file + \"\\n\")\n",
    "\n",
    "with open('../../data/datasets/images/images_val.txt', \"w\") as f:\n",
    "  for category, file_list in files_dict_val.items():\n",
    "    for file in file_list:\n",
    "      f.write(file + \"\\n\")\n",
    "\n",
    "with open('../../data/datasets/images/images_test.txt', \"w\") as f:\n",
    "  for category, file_list in files_dict_test.items():\n",
    "    for file in file_list:\n",
    "      f.write(file + \"\\n\")"
   ]
  },
  {
   "cell_type": "code",
   "execution_count": null,
   "metadata": {},
   "outputs": [],
   "source": [
    "with open('./data/images/images_train.txt', \"r\") as f:\n",
    "    train_file_list = f.read().splitlines()\n",
    "\n",
    "with open('./data/images/images_val.txt', \"r\") as f:\n",
    "  val_file_list = f.read().splitlines()\n",
    "\n",
    "with open('./data/images/images_test.txt', \"r\") as f:\n",
    "  test_file_list = f.read().splitlines()"
   ]
  },
  {
   "cell_type": "code",
   "execution_count": null,
   "metadata": {},
   "outputs": [],
   "source": [
    "#create splitted train dataset\n",
    "for file in train_file_list:\n",
    "    f = open(os.path.join('../../data/datasets/images/',file), 'rb')\n",
    "    if f:\n",
    "        category, filename = file.split(\"/\")\n",
    "\n",
    "        if not os.path.exists(os.path.join(\"./data/images_splitted/train\", category)):\n",
    "            os.makedirs(os.path.join(\"./data/images_splitted/train\", category))\n",
    "        open(os.path.join(\"./data/images_splitted/train\", file), 'wb').write(f.read()) #write to new destination\n",
    "    \n",
    "#create splitted val dataset\n",
    "for file in val_file_list:\n",
    "    f = open(os.path.join('../../data/datasets/images/',file), 'rb')\n",
    "    if f:\n",
    "        category, filename = file.split(\"/\")\n",
    "\n",
    "        if not os.path.exists(os.path.join(\"./data/images_splitted/val\", category)):\n",
    "            os.makedirs(os.path.join(\"./data/images_splitted/val\", category))\n",
    "        open(os.path.join(\"./data/images_splitted/val\", file), 'wb').write(f.read()) #write to new destination\n",
    "        \n",
    "#create splitted test dataset        \n",
    "for file in test_file_list:\n",
    "    f = open(os.path.join('../../data/datasets/images/',file), 'rb')\n",
    "    if f:\n",
    "        category, filename = file.split(\"/\")\n",
    "\n",
    "        if not os.path.exists(os.path.join(\"./data/images_splitted/test\", category)):\n",
    "            os.makedirs(os.path.join(\"./data/images_splitted/test\", category))\n",
    "        open(os.path.join(\"./data/images_splitted/test\", file), 'wb').write(f.read()) #write to new destination"
   ]
  },
  {
   "cell_type": "code",
   "execution_count": null,
   "metadata": {},
   "outputs": [],
   "source": [
    "def remove_corrupted_images(subset):\n",
    "    for category in os.listdir(f\"data/images_splitted/{subset}/\"):\n",
    "        for i in os.listdir(f\"data/images_splitted/{subset}/\"+category):\n",
    "            img_path = f\"data/images_splitted/{subset}/\"+category+'/'+i\n",
    "\n",
    "            img = cv2.imread(img_path)\n",
    "\n",
    "            if img is None:\n",
    "                print(img_path,end=' ')\n",
    "                os.remove(img_path)\n",
    "                print(\"Remove!\")"
   ]
  },
  {
   "cell_type": "code",
   "execution_count": null,
   "metadata": {},
   "outputs": [],
   "source": [
    "remove_corrupted_images(\"train\")\n",
    "remove_corrupted_images(\"val\")\n",
    "remove_corrupted_images(\"test\")"
   ]
  },
  {
   "cell_type": "code",
   "execution_count": null,
   "metadata": {},
   "outputs": [],
   "source": [
    "train_datagen = tf.kereas.preprocessing.image.ImageDataGenerator(\n",
    "    rescale = 1.0/255,\n",
    "    rotation_range=20,\n",
    "    width_shift_range=0.1,\n",
    "    height_shift_range=0.1,\n",
    "    shear_range=0.1,\n",
    "    zoom_range=0.1,\n",
    "    horizontal_flip=True,\n",
    "    fill_mode='neareast'\n",
    ")\n",
    "\n",
    "val_datagen = tf.keras.preprocessing.image.ImageDataGenerator(\n",
    "    recale=1.0/255\n",
    ")"
   ]
  },
  {
   "cell_type": "code",
   "execution_count": null,
   "metadata": {},
   "outputs": [],
   "source": [
    "backbone = tf.keras.applications.ResNet50(include_top=False, weights='imagenet', image_shape=(224, 224, 3), pooling='avg')\n",
    "x = tf.keras.layers.Dense(16, activation='softmax')(backbone.output)\n",
    "model=tf.keras.Model(inputs=backbone.input, outputs=x)"
   ]
  },
  {
   "cell_type": "code",
   "execution_count": null,
   "metadata": {},
   "outputs": [],
   "source": [
    "model.sumary()"
   ]
  },
  {
   "cell_type": "code",
   "execution_count": null,
   "metadata": {},
   "outputs": [],
   "source": [
    "train=train_datagen.flow_from_directory('./data/images_splitted/train', target_size=(224, 224), class_mode='categorical', batch_size=32)\n",
    "val = val_datagen.flow_from_directory('./data/images_splitted/train', target_size=(224, 224), class_mode='categorical', batch_size = 32)"
   ]
  },
  {
   "cell_type": "code",
   "execution_count": null,
   "metadata": {},
   "outputs": [],
   "source": [
    "model.compile(optimizer=tf.optimizers.Adam(lr=1e-4), loss='categorical_crossentropy', metrics=['acc'])"
   ]
  },
  {
   "cell_type": "code",
   "execution_count": null,
   "metadata": {},
   "outputs": [],
   "source": [
    "if not os.path.exists(\"./models\"):\n",
    "  os.makefirs(\"./models\")"
   ]
  },
  {
   "cell_type": "code",
   "execution_count": null,
   "metadata": {},
   "outputs": [],
   "source": [
    "mcp_save = tf.keras.callbacks.ModelCheckpoint(\n",
    "    filepath='./models/ResNet50_product.h5',\n",
    "    save_weights_only=True,\n",
    "    monitor='val_acc',\n",
    "    mode='max',\n",
    "    save_best_only=True\n",
    ")"
   ]
  },
  {
   "cell_type": "code",
   "execution_count": null,
   "metadata": {},
   "outputs": [],
   "source": [
    "history=model.fit(train, epochs=50, validation_data=val, callbacks=[mcp_save])"
   ]
  },
  {
   "cell_type": "code",
   "execution_count": null,
   "metadata": {},
   "outputs": [],
   "source": [
    "model.load_weights('./models/ResNet50_product.h5')"
   ]
  },
  {
   "cell_type": "code",
   "execution_count": null,
   "metadata": {},
   "outputs": [],
   "source": [
    "model.evaluate(val_datagen.flow_to_directory(\"./images_splitted/train\", target_size=(224, 224), class_mode='categorical', batch_size=32))"
   ]
  },
  {
   "cell_type": "code",
   "execution_count": null,
   "metadata": {},
   "outputs": [],
   "source": [
    "model.evaluate(val_datagen.flow_to_directory(\"./images_splitted/val\", target_size=(224, 224), class_mode='categorical', batch_size=32))"
   ]
  },
  {
   "cell_type": "code",
   "execution_count": null,
   "metadata": {},
   "outputs": [],
   "source": [
    "model.evaluate(val_datagen.flow_to_directory(\"./images_splitted/test\", target_size=(224, 224), class_mode='categorical', batch_size=32))"
   ]
  },
  {
   "cell_type": "code",
   "execution_count": null,
   "metadata": {},
   "outputs": [],
   "source": [
    "class_names = sorted(os.listdir('data/images_splitted/test'))"
   ]
  },
  {
   "cell_type": "code",
   "execution_count": null,
   "metadata": {},
   "outputs": [],
   "source": [
    "img=cv2.imread(\"test.jpg\")[:, :, ::-1]"
   ]
  },
  {
   "cell_type": "code",
   "execution_count": null,
   "metadata": {},
   "outputs": [],
   "source": [
    "plt.figure()\n",
    "plt.imshow(img)"
   ]
  },
  {
   "cell_type": "code",
   "execution_count": null,
   "metadata": {},
   "outputs": [],
   "source": [
    "scores = model.predict(val_datagen.flow(cv2.resize(img,(224,224))[None,:,:]))\n",
    "print(scores)\n",
    "class_names[int(tf.argmax(scores,axis=1).numpy())]"
   ]
  },
  {
   "cell_type": "code",
   "execution_count": null,
   "metadata": {},
   "outputs": [],
   "source": [
    "train.class_indices"
   ]
  }
 ],
 "metadata": {
  "interpreter": {
   "hash": "ac59ebe37160ed0dfa835113d9b8498d9f09ceb179beaac4002f036b9467c963"
  },
  "kernelspec": {
   "display_name": "Python 3.9.7 64-bit",
   "language": "python",
   "name": "python3"
  },
  "language_info": {
   "codemirror_mode": {
    "name": "ipython",
    "version": 3
   },
   "file_extension": ".py",
   "mimetype": "text/x-python",
   "name": "python",
   "nbconvert_exporter": "python",
   "pygments_lexer": "ipython3",
   "version": "3.9.7"
  },
  "orig_nbformat": 4
 },
 "nbformat": 4,
 "nbformat_minor": 2
}
