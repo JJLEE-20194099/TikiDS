{
  "cells": [
    {
      "cell_type": "code",
      "execution_count": 34,
      "metadata": {
        "id": "Av0z8b80RMXl"
      },
      "outputs": [],
      "source": [
        "import regex as re\n",
        "import pandas as pd\n",
        "import numpy as np\n",
        "import string"
      ]
    },
    {
      "cell_type": "code",
      "execution_count": 2,
      "metadata": {
        "colab": {
          "base_uri": "https://localhost:8080/"
        },
        "id": "rJ8Q55J9RpQD",
        "outputId": "c5bb279e-be4b-449e-ee0f-154a6c072e3c"
      },
      "outputs": [
        {
          "output_type": "stream",
          "name": "stdout",
          "text": [
            "Requirement already satisfied: pip in /usr/local/lib/python3.7/dist-packages (21.1.3)\n",
            "Collecting pip\n",
            "  Downloading pip-21.3.1-py3-none-any.whl (1.7 MB)\n",
            "\u001b[K     |████████████████████████████████| 1.7 MB 5.3 MB/s \n",
            "\u001b[?25hInstalling collected packages: pip\n",
            "  Attempting uninstall: pip\n",
            "    Found existing installation: pip 21.1.3\n",
            "    Uninstalling pip-21.1.3:\n",
            "      Successfully uninstalled pip-21.1.3\n",
            "Successfully installed pip-21.3.1\n"
          ]
        }
      ],
      "source": [
        "!pip install --upgrade pip"
      ]
    },
    {
      "cell_type": "code",
      "execution_count": 3,
      "metadata": {
        "colab": {
          "base_uri": "https://localhost:8080/"
        },
        "id": "aA0NbWdRRrYV",
        "outputId": "bb51332a-ba1c-4243-f878-09338422e0f1"
      },
      "outputs": [
        {
          "output_type": "stream",
          "name": "stdout",
          "text": [
            "Collecting underthesea\n",
            "  Downloading underthesea-1.3.3-py3-none-any.whl (7.5 MB)\n",
            "     |████████████████████████████████| 7.5 MB 5.1 MB/s            \n",
            "\u001b[?25hCollecting python-crfsuite>=0.9.6\n",
            "  Downloading python_crfsuite-0.9.7-cp37-cp37m-manylinux1_x86_64.whl (743 kB)\n",
            "     |████████████████████████████████| 743 kB 41.9 MB/s            \n",
            "\u001b[?25hRequirement already satisfied: requests in /usr/local/lib/python3.7/dist-packages (from underthesea) (2.23.0)\n",
            "Requirement already satisfied: tqdm in /usr/local/lib/python3.7/dist-packages (from underthesea) (4.62.3)\n",
            "Collecting seqeval\n",
            "  Downloading seqeval-1.2.2.tar.gz (43 kB)\n",
            "     |████████████████████████████████| 43 kB 1.8 MB/s             \n",
            "\u001b[?25h  Preparing metadata (setup.py) ... \u001b[?25l\u001b[?25hdone\n",
            "Requirement already satisfied: joblib in /usr/local/lib/python3.7/dist-packages (from underthesea) (1.1.0)\n",
            "Requirement already satisfied: torch>=1.1.0 in /usr/local/lib/python3.7/dist-packages (from underthesea) (1.10.0+cu111)\n",
            "Requirement already satisfied: nltk in /usr/local/lib/python3.7/dist-packages (from underthesea) (3.2.5)\n",
            "Requirement already satisfied: scikit-learn in /usr/local/lib/python3.7/dist-packages (from underthesea) (1.0.1)\n",
            "Collecting transformers>=3.5.0\n",
            "  Downloading transformers-4.15.0-py3-none-any.whl (3.4 MB)\n",
            "     |████████████████████████████████| 3.4 MB 34.9 MB/s            \n",
            "\u001b[?25hRequirement already satisfied: Click>=6.0 in /usr/local/lib/python3.7/dist-packages (from underthesea) (7.1.2)\n",
            "Collecting unidecode\n",
            "  Downloading Unidecode-1.3.2-py3-none-any.whl (235 kB)\n",
            "     |████████████████████████████████| 235 kB 33.0 MB/s            \n",
            "\u001b[?25hRequirement already satisfied: PyYAML in /usr/local/lib/python3.7/dist-packages (from underthesea) (3.13)\n",
            "Requirement already satisfied: typing-extensions in /usr/local/lib/python3.7/dist-packages (from torch>=1.1.0->underthesea) (3.10.0.2)\n",
            "Collecting tokenizers<0.11,>=0.10.1\n",
            "  Downloading tokenizers-0.10.3-cp37-cp37m-manylinux_2_5_x86_64.manylinux1_x86_64.manylinux_2_12_x86_64.manylinux2010_x86_64.whl (3.3 MB)\n",
            "     |████████████████████████████████| 3.3 MB 31.9 MB/s            \n",
            "\u001b[?25hCollecting PyYAML\n",
            "  Downloading PyYAML-6.0-cp37-cp37m-manylinux_2_5_x86_64.manylinux1_x86_64.manylinux_2_12_x86_64.manylinux2010_x86_64.whl (596 kB)\n",
            "     |████████████████████████████████| 596 kB 45.1 MB/s            \n",
            "\u001b[?25hRequirement already satisfied: regex!=2019.12.17 in /usr/local/lib/python3.7/dist-packages (from transformers>=3.5.0->underthesea) (2019.12.20)\n",
            "Requirement already satisfied: numpy>=1.17 in /usr/local/lib/python3.7/dist-packages (from transformers>=3.5.0->underthesea) (1.19.5)\n",
            "Collecting sacremoses\n",
            "  Downloading sacremoses-0.0.46-py3-none-any.whl (895 kB)\n",
            "     |████████████████████████████████| 895 kB 43.3 MB/s            \n",
            "\u001b[?25hRequirement already satisfied: importlib-metadata in /usr/local/lib/python3.7/dist-packages (from transformers>=3.5.0->underthesea) (4.8.2)\n",
            "Requirement already satisfied: packaging>=20.0 in /usr/local/lib/python3.7/dist-packages (from transformers>=3.5.0->underthesea) (21.3)\n",
            "Requirement already satisfied: filelock in /usr/local/lib/python3.7/dist-packages (from transformers>=3.5.0->underthesea) (3.4.0)\n",
            "Collecting huggingface-hub<1.0,>=0.1.0\n",
            "  Downloading huggingface_hub-0.2.1-py3-none-any.whl (61 kB)\n",
            "     |████████████████████████████████| 61 kB 441 kB/s             \n",
            "\u001b[?25hRequirement already satisfied: six in /usr/local/lib/python3.7/dist-packages (from nltk->underthesea) (1.15.0)\n",
            "Requirement already satisfied: certifi>=2017.4.17 in /usr/local/lib/python3.7/dist-packages (from requests->underthesea) (2021.10.8)\n",
            "Requirement already satisfied: urllib3!=1.25.0,!=1.25.1,<1.26,>=1.21.1 in /usr/local/lib/python3.7/dist-packages (from requests->underthesea) (1.24.3)\n",
            "Requirement already satisfied: chardet<4,>=3.0.2 in /usr/local/lib/python3.7/dist-packages (from requests->underthesea) (3.0.4)\n",
            "Requirement already satisfied: idna<3,>=2.5 in /usr/local/lib/python3.7/dist-packages (from requests->underthesea) (2.10)\n",
            "Requirement already satisfied: scipy>=1.1.0 in /usr/local/lib/python3.7/dist-packages (from scikit-learn->underthesea) (1.4.1)\n",
            "Requirement already satisfied: threadpoolctl>=2.0.0 in /usr/local/lib/python3.7/dist-packages (from scikit-learn->underthesea) (3.0.0)\n",
            "Requirement already satisfied: pyparsing!=3.0.5,>=2.0.2 in /usr/local/lib/python3.7/dist-packages (from packaging>=20.0->transformers>=3.5.0->underthesea) (3.0.6)\n",
            "Requirement already satisfied: zipp>=0.5 in /usr/local/lib/python3.7/dist-packages (from importlib-metadata->transformers>=3.5.0->underthesea) (3.6.0)\n",
            "Building wheels for collected packages: seqeval\n",
            "  Building wheel for seqeval (setup.py) ... \u001b[?25l\u001b[?25hdone\n",
            "  Created wheel for seqeval: filename=seqeval-1.2.2-py3-none-any.whl size=16181 sha256=2747303dbf5c9daa5470898c6f83c6adbbe016202291a68d1912d1040a6b94b8\n",
            "  Stored in directory: /root/.cache/pip/wheels/05/96/ee/7cac4e74f3b19e3158dce26a20a1c86b3533c43ec72a549fd7\n",
            "Successfully built seqeval\n",
            "Installing collected packages: PyYAML, tokenizers, sacremoses, huggingface-hub, unidecode, transformers, seqeval, python-crfsuite, underthesea\n",
            "  Attempting uninstall: PyYAML\n",
            "    Found existing installation: PyYAML 3.13\n",
            "    Uninstalling PyYAML-3.13:\n",
            "      Successfully uninstalled PyYAML-3.13\n",
            "Successfully installed PyYAML-6.0 huggingface-hub-0.2.1 python-crfsuite-0.9.7 sacremoses-0.0.46 seqeval-1.2.2 tokenizers-0.10.3 transformers-4.15.0 underthesea-1.3.3 unidecode-1.3.2\n",
            "\u001b[33mWARNING: Running pip as the 'root' user can result in broken permissions and conflicting behaviour with the system package manager. It is recommended to use a virtual environment instead: https://pip.pypa.io/warnings/venv\u001b[0m\n"
          ]
        }
      ],
      "source": [
        "!pip install underthesea"
      ]
    },
    {
      "cell_type": "code",
      "execution_count": 4,
      "metadata": {
        "id": "qu3clMD7RlDr"
      },
      "outputs": [],
      "source": [
        "from underthesea import word_tokenize"
      ]
    },
    {
      "cell_type": "code",
      "execution_count": 5,
      "metadata": {
        "id": "A2HSVzbERv5F"
      },
      "outputs": [],
      "source": [
        "def remove_html(txt):\n",
        "    return re.sub(r'<[^>]*>', '', txt)"
      ]
    },
    {
      "cell_type": "code",
      "execution_count": 6,
      "metadata": {
        "id": "IneVzVRPRyrE"
      },
      "outputs": [],
      "source": [
        "uniChars = \"àáảãạâầấẩẫậăằắẳẵặèéẻẽẹêềếểễệđìíỉĩịòóỏõọôồốổỗộơờớởỡợùúủũụưừứửữựỳýỷỹỵÀÁẢÃẠÂẦẤẨẪẬĂẰẮẲẴẶÈÉẺẼẸÊỀẾỂỄỆĐÌÍỈĨỊÒÓỎÕỌÔỒỐỔỖỘƠỜỚỞỠỢÙÚỦŨỤƯỪỨỬỮỰỲÝỶỸỴÂĂĐÔƠƯ\"\n",
        "unsignChars = \"aaaaaaaaaaaaaaaaaeeeeeeeeeeediiiiiooooooooooooooooouuuuuuuuuuuyyyyyAAAAAAAAAAAAAAAAAEEEEEEEEEEEDIIIOOOOOOOOOOOOOOOOOOOUUUUUUUUUUUYYYYYAADOOU\"\n",
        "def loaddicchar():\n",
        "    dic = {}\n",
        "    char1252 = 'à|á|ả|ã|ạ|ầ|ấ|ẩ|ẫ|ậ|ằ|ắ|ẳ|ẵ|ặ|è|é|ẻ|ẽ|ẹ|ề|ế|ể|ễ|ệ|ì|í|ỉ|ĩ|ị|ò|ó|ỏ|õ|ọ|ồ|ố|ổ|ỗ|ộ|ờ|ớ|ở|ỡ|ợ|ù|ú|ủ|ũ|ụ|ừ|ứ|ử|ữ|ự|ỳ|ý|ỷ|ỹ|ỵ|À|Á|Ả|Ã|Ạ|Ầ|Ấ|Ẩ|Ẫ|Ậ|Ằ|Ắ|Ẳ|Ẵ|Ặ|È|É|Ẻ|Ẽ|Ẹ|Ề|Ế|Ể|Ễ|Ệ|Ì|Í|Ỉ|Ĩ|Ị|Ò|Ó|Ỏ|Õ|Ọ|Ồ|Ố|Ổ|Ỗ|Ộ|Ờ|Ớ|Ở|Ỡ|Ợ|Ù|Ú|Ủ|Ũ|Ụ|Ừ|Ứ|Ử|Ữ|Ự|Ỳ|Ý|Ỷ|Ỹ|Ỵ'.split(\n",
        "        '|')\n",
        "    charutf8 = \"à|á|ả|ã|ạ|ầ|ấ|ẩ|ẫ|ậ|ằ|ắ|ẳ|ẵ|ặ|è|é|ẻ|ẽ|ẹ|ề|ế|ể|ễ|ệ|ì|í|ỉ|ĩ|ị|ò|ó|ỏ|õ|ọ|ồ|ố|ổ|ỗ|ộ|ờ|ớ|ở|ỡ|ợ|ù|ú|ủ|ũ|ụ|ừ|ứ|ử|ữ|ự|ỳ|ý|ỷ|ỹ|ỵ|À|Á|Ả|Ã|Ạ|Ầ|Ấ|Ẩ|Ẫ|Ậ|Ằ|Ắ|Ẳ|Ẵ|Ặ|È|É|Ẻ|Ẽ|Ẹ|Ề|Ế|Ể|Ễ|Ệ|Ì|Í|Ỉ|Ĩ|Ị|Ò|Ó|Ỏ|Õ|Ọ|Ồ|Ố|Ổ|Ỗ|Ộ|Ờ|Ớ|Ở|Ỡ|Ợ|Ù|Ú|Ủ|Ũ|Ụ|Ừ|Ứ|Ử|Ữ|Ự|Ỳ|Ý|Ỷ|Ỹ|Ỵ\".split(\n",
        "        '|')\n",
        "    for i in range(len(char1252)):\n",
        "        dic[char1252[i]] = charutf8[i]\n",
        "    return dic\n",
        "dicchar = loaddicchar()\n"
      ]
    },
    {
      "cell_type": "code",
      "execution_count": 7,
      "metadata": {
        "id": "yutT4TFaR0sM"
      },
      "outputs": [],
      "source": [
        "def convert_unicode(txt):\n",
        "    return re.sub(\n",
        "        r'à|á|ả|ã|ạ|ầ|ấ|ẩ|ẫ|ậ|ằ|ắ|ẳ|ẵ|ặ|è|é|ẻ|ẽ|ẹ|ề|ế|ể|ễ|ệ|ì|í|ỉ|ĩ|ị|ò|ó|ỏ|õ|ọ|ồ|ố|ổ|ỗ|ộ|ờ|ớ|ở|ỡ|ợ|ù|ú|ủ|ũ|ụ|ừ|ứ|ử|ữ|ự|ỳ|ý|ỷ|ỹ|ỵ|À|Á|Ả|Ã|Ạ|Ầ|Ấ|Ẩ|Ẫ|Ậ|Ằ|Ắ|Ẳ|Ẵ|Ặ|È|É|Ẻ|Ẽ|Ẹ|Ề|Ế|Ể|Ễ|Ệ|Ì|Í|Ỉ|Ĩ|Ị|Ò|Ó|Ỏ|Õ|Ọ|Ồ|Ố|Ổ|Ỗ|Ộ|Ờ|Ớ|Ở|Ỡ|Ợ|Ù|Ú|Ủ|Ũ|Ụ|Ừ|Ứ|Ử|Ữ|Ự|Ỳ|Ý|Ỷ|Ỹ|Ỵ',\n",
        "        lambda x: dicchar[x.group()], txt)"
      ]
    },
    {
      "cell_type": "code",
      "execution_count": 8,
      "metadata": {
        "id": "0JWVlIMJR9JU"
      },
      "outputs": [],
      "source": [
        "bang_nguyen_am = [['a', 'à', 'á', 'ả', 'ã', 'ạ', 'a'],\n",
        "                  ['ă', 'ằ', 'ắ', 'ẳ', 'ẵ', 'ặ', 'aw'],\n",
        "                  ['â', 'ầ', 'ấ', 'ẩ', 'ẫ', 'ậ', 'aa'],\n",
        "                  ['e', 'è', 'é', 'ẻ', 'ẽ', 'ẹ', 'e'],\n",
        "                  ['ê', 'ề', 'ế', 'ể', 'ễ', 'ệ', 'ee'],\n",
        "                  ['i', 'ì', 'í', 'ỉ', 'ĩ', 'ị', 'i'],\n",
        "                  ['o', 'ò', 'ó', 'ỏ', 'õ', 'ọ', 'o'],\n",
        "                  ['ô', 'ồ', 'ố', 'ổ', 'ỗ', 'ộ', 'oo'],\n",
        "                  ['ơ', 'ờ', 'ớ', 'ở', 'ỡ', 'ợ', 'ow'],\n",
        "                  ['u', 'ù', 'ú', 'ủ', 'ũ', 'ụ', 'u'],\n",
        "                  ['ư', 'ừ', 'ứ', 'ử', 'ữ', 'ự', 'uw'],\n",
        "                  ['y', 'ỳ', 'ý', 'ỷ', 'ỹ', 'ỵ', 'y']]\n",
        "bang_ky_tu_dau = ['', 'f', 's', 'r', 'x', 'j']"
      ]
    },
    {
      "cell_type": "code",
      "execution_count": 9,
      "metadata": {
        "id": "ERH6jT3AR_Id"
      },
      "outputs": [],
      "source": [
        "nguyen_am_to_ids = {}\n",
        "\n",
        "for i in range(len(bang_nguyen_am)):\n",
        "    for j in range(len(bang_nguyen_am[i]) - 1):\n",
        "        nguyen_am_to_ids[bang_nguyen_am[i][j]] = (i, j)\n"
      ]
    },
    {
      "cell_type": "code",
      "execution_count": 10,
      "metadata": {
        "id": "qhp_7JKFSA1m"
      },
      "outputs": [],
      "source": [
        "def chuan_hoa_dau_tu_tieng_viet(word):\n",
        "    if not is_valid_vietnam_word(word):\n",
        "        return word\n",
        "\n",
        "    chars = list(word)\n",
        "    dau_cau = 0\n",
        "    nguyen_am_index = []\n",
        "    qu_or_gi = False\n",
        "    for index, char in enumerate(chars):\n",
        "        x, y = nguyen_am_to_ids.get(char, (-1, -1))\n",
        "        if x == -1:\n",
        "            continue\n",
        "        elif x == 9:  # check qu\n",
        "            if index != 0 and chars[index - 1] == 'q':\n",
        "                chars[index] = 'u'\n",
        "                qu_or_gi = True\n",
        "        elif x == 5:  # check gi\n",
        "            if index != 0 and chars[index - 1] == 'g':\n",
        "                chars[index] = 'i'\n",
        "                qu_or_gi = True\n",
        "        if y != 0:\n",
        "            dau_cau = y\n",
        "            chars[index] = bang_nguyen_am[x][0]\n",
        "        if not qu_or_gi or index != 1:\n",
        "            nguyen_am_index.append(index)\n",
        "    if len(nguyen_am_index) < 2:\n",
        "        if qu_or_gi:\n",
        "            if len(chars) == 2:\n",
        "                x, y = nguyen_am_to_ids.get(chars[1])\n",
        "                chars[1] = bang_nguyen_am[x][dau_cau]\n",
        "            else:\n",
        "                x, y = nguyen_am_to_ids.get(chars[2], (-1, -1))\n",
        "                if x != -1:\n",
        "                    chars[2] = bang_nguyen_am[x][dau_cau]\n",
        "                else:\n",
        "                    chars[1] = bang_nguyen_am[5][dau_cau] if chars[1] == 'i' else bang_nguyen_am[9][dau_cau]\n",
        "            return ''.join(chars)\n",
        "        return word\n",
        "\n",
        "    for index in nguyen_am_index:\n",
        "        x, y = nguyen_am_to_ids[chars[index]]\n",
        "        if x == 4 or x == 8:  # ê, ơ\n",
        "            chars[index] = bang_nguyen_am[x][dau_cau]\n",
        "\n",
        "            return ''.join(chars)\n",
        "\n",
        "    if len(nguyen_am_index) == 2:\n",
        "        if nguyen_am_index[-1] == len(chars) - 1:\n",
        "            x, y = nguyen_am_to_ids[chars[nguyen_am_index[0]]]\n",
        "            chars[nguyen_am_index[0]] = bang_nguyen_am[x][dau_cau]\n",
        "           \n",
        "        else:\n",
        "            \n",
        "            x, y = nguyen_am_to_ids[chars[nguyen_am_index[1]]]\n",
        "            chars[nguyen_am_index[1]] = bang_nguyen_am[x][dau_cau]\n",
        "    else:\n",
        "        \n",
        "        x, y = nguyen_am_to_ids[chars[nguyen_am_index[1]]]\n",
        "        chars[nguyen_am_index[1]] = bang_nguyen_am[x][dau_cau]\n",
        "\n",
        "    return ''.join(chars)\n",
        "\n",
        "def is_valid_vietnam_word(word):\n",
        "    chars = list(word)\n",
        "    nguyen_am_index = -1\n",
        "    for index, char in enumerate(chars):\n",
        "        x, y = nguyen_am_to_ids.get(char, (-1, -1))\n",
        "        if x != -1:\n",
        "            if nguyen_am_index == -1:\n",
        "                nguyen_am_index = index\n",
        "            else:\n",
        "                if index - nguyen_am_index != 1:\n",
        "                    return False\n",
        "                nguyen_am_index = index\n",
        "    return True\n",
        "\n",
        "def chuan_hoa_dau_cau_tieng_viet(sentence):\n",
        "    sentence = sentence.lower()\n",
        "    words = sentence.split()\n",
        "    for index, word in enumerate(words):\n",
        "        cw = re.sub(r'(^\\p{P}*)([p{L}.]*\\p{L}+)(\\p{P}*$)', r'\\1/\\2/\\3', word).split('/')\n",
        "        # print(cw)\n",
        "        if len(cw) == 3:\n",
        "            cw[1] = chuan_hoa_dau_tu_tieng_viet(cw[1])\n",
        "        words[index] = ''.join(cw)\n",
        "    return ' '.join(words)\n",
        "\n"
      ]
    },
    {
      "cell_type": "code",
      "execution_count": 11,
      "metadata": {
        "id": "zyQtt-QgSDHt"
      },
      "outputs": [],
      "source": [
        "def text_preprocess(document):\n",
        "    document = remove_html(document)\n",
        "    document = convert_unicode(document)\n",
        "    document = chuan_hoa_dau_cau_tieng_viet(document)\n",
        "    document = word_tokenize(document, format=\"text\")\n",
        "    document = document.lower()\n",
        "    document = re.sub(r'[^\\s\\wáàảãạăắằẳẵặâấầẩẫậéèẻẽẹêếềểễệóòỏõọôốồổỗộơớờởỡợíìỉĩịúùủũụưứừửữựýỳỷỹỵđ_]',' ',document)\n",
        "    document = re.sub(r'\\s+', ' ', document).strip()\n",
        "    return document"
      ]
    },
    {
      "cell_type": "code",
      "source": [
        "data = pd.read_csv('./drive/MyDrive/detail_list.csv', sep=',', encoding='utf-8')"
      ],
      "metadata": {
        "id": "TeFykq5RK5Ga"
      },
      "execution_count": 12,
      "outputs": []
    },
    {
      "cell_type": "code",
      "source": [
        "data.head(10)"
      ],
      "metadata": {
        "colab": {
          "base_uri": "https://localhost:8080/",
          "height": 1000
        },
        "id": "yBLzLpW8LUPj",
        "outputId": "60063702-f334-44e2-ecff-36a4ac231cbc"
      },
      "execution_count": 13,
      "outputs": [
        {
          "output_type": "execute_result",
          "data": {
            "text/html": [
              "\n",
              "  <div id=\"df-8455a22c-a345-4e5f-8e27-c0aae2a31928\">\n",
              "    <div class=\"colab-df-container\">\n",
              "      <div>\n",
              "<style scoped>\n",
              "    .dataframe tbody tr th:only-of-type {\n",
              "        vertical-align: middle;\n",
              "    }\n",
              "\n",
              "    .dataframe tbody tr th {\n",
              "        vertical-align: top;\n",
              "    }\n",
              "\n",
              "    .dataframe thead th {\n",
              "        text-align: right;\n",
              "    }\n",
              "</style>\n",
              "<table border=\"1\" class=\"dataframe\">\n",
              "  <thead>\n",
              "    <tr style=\"text-align: right;\">\n",
              "      <th></th>\n",
              "      <th>id</th>\n",
              "      <th>name</th>\n",
              "      <th>category</th>\n",
              "      <th>brand</th>\n",
              "      <th>price</th>\n",
              "      <th>discount</th>\n",
              "      <th>discount_rate</th>\n",
              "      <th>mota</th>\n",
              "      <th>image_url</th>\n",
              "      <th>n_sold</th>\n",
              "      <th>rank</th>\n",
              "      <th>main_category</th>\n",
              "    </tr>\n",
              "  </thead>\n",
              "  <tbody>\n",
              "    <tr>\n",
              "      <th>0</th>\n",
              "      <td>112329645</td>\n",
              "      <td>1 gói Chân Gà CHEF BIGGY Vị Cay</td>\n",
              "      <td>Bách Hóa Online/Đồ Ăn Vặt/Các Loại Đồ Ăn Vặt Khác</td>\n",
              "      <td>CHEF BIGGY</td>\n",
              "      <td>10000</td>\n",
              "      <td>0</td>\n",
              "      <td>0</td>\n",
              "      <td>* Chân Gà CHEF BIGGY Vị Cay \\n- Toàn bộ nguyê...</td>\n",
              "      <td>https://salt.tikicdn.com/cache/280x280/ts/prod...</td>\n",
              "      <td>860.0</td>\n",
              "      <td>1.0</td>\n",
              "      <td>bach-hoa-online</td>\n",
              "    </tr>\n",
              "    <tr>\n",
              "      <th>1</th>\n",
              "      <td>2454355</td>\n",
              "      <td>Thùng 48 Hộp Sữa Chua Lên Men Tự Nhiên Yomost ...</td>\n",
              "      <td>Bách Hóa Online/Sữa và các Sản phẩm từ sữa/Sữa...</td>\n",
              "      <td>Yomost</td>\n",
              "      <td>360000</td>\n",
              "      <td>0</td>\n",
              "      <td>0</td>\n",
              "      <td>\\n\\nThùng 48 Hộp Sữa Chua Lên Men Tự Nhiên Yom...</td>\n",
              "      <td>https://salt.tikicdn.com/cache/280x280/ts/prod...</td>\n",
              "      <td>2788.0</td>\n",
              "      <td>1.0</td>\n",
              "      <td>bach-hoa-online</td>\n",
              "    </tr>\n",
              "    <tr>\n",
              "      <th>2</th>\n",
              "      <td>2454359</td>\n",
              "      <td>Thùng 48 Hộp Sữa Chua Lên Men Tự Nhiên Yomost ...</td>\n",
              "      <td>Bách Hóa Online/Sữa và các Sản phẩm từ sữa/Sữa...</td>\n",
              "      <td>Yomost</td>\n",
              "      <td>360000</td>\n",
              "      <td>0</td>\n",
              "      <td>0</td>\n",
              "      <td>\\n\\nThùng 48 Hộp Sữa Chua Lên Men Tự Nhiên Yom...</td>\n",
              "      <td>https://salt.tikicdn.com/cache/280x280/ts/prod...</td>\n",
              "      <td>1591.0</td>\n",
              "      <td>9.0</td>\n",
              "      <td>bach-hoa-online</td>\n",
              "    </tr>\n",
              "    <tr>\n",
              "      <th>3</th>\n",
              "      <td>2454353</td>\n",
              "      <td>Thùng 48 Hộp Sữa Chua Lên Men Tự Nhiên Yomost ...</td>\n",
              "      <td>Bách Hóa Online/Sữa và các Sản phẩm từ sữa/Sữa...</td>\n",
              "      <td>Yomost</td>\n",
              "      <td>319000</td>\n",
              "      <td>41000</td>\n",
              "      <td>11</td>\n",
              "      <td>\\n\\nThùng 48 Hộp Sữa Chua Lên Men Tự Nhiên Yom...</td>\n",
              "      <td>https://salt.tikicdn.com/cache/280x280/ts/prod...</td>\n",
              "      <td>2186.0</td>\n",
              "      <td>7.0</td>\n",
              "      <td>bach-hoa-online</td>\n",
              "    </tr>\n",
              "    <tr>\n",
              "      <th>4</th>\n",
              "      <td>98565212</td>\n",
              "      <td>Thùng 24 Lon Nước Ngọt Có Gaz Pepsi (320ml/lon)</td>\n",
              "      <td>Bách Hóa Online/Đồ Uống Không Cồn/Đồ uống có g...</td>\n",
              "      <td>Pepsi</td>\n",
              "      <td>186000</td>\n",
              "      <td>2000</td>\n",
              "      <td>1</td>\n",
              "      <td>\\nPepsi là nhãn hiệu nước giải khát hương Cola...</td>\n",
              "      <td>https://salt.tikicdn.com/cache/280x280/media/c...</td>\n",
              "      <td>1511.0</td>\n",
              "      <td>4.0</td>\n",
              "      <td>bach-hoa-online</td>\n",
              "    </tr>\n",
              "    <tr>\n",
              "      <th>5</th>\n",
              "      <td>2454357</td>\n",
              "      <td>Thùng 48 Hộp Sữa Chua Lên Men Tự Nhiên Yomost ...</td>\n",
              "      <td>Bách Hóa Online/Sữa và các Sản phẩm từ sữa/Sữa...</td>\n",
              "      <td>Yomost</td>\n",
              "      <td>360000</td>\n",
              "      <td>0</td>\n",
              "      <td>0</td>\n",
              "      <td>\\n\\nThùng 48 Hộp Sữa Chua Lên Men Tự Nhiên Yom...</td>\n",
              "      <td>https://salt.tikicdn.com/cache/280x280/ts/prod...</td>\n",
              "      <td>4535.0</td>\n",
              "      <td>8.0</td>\n",
              "      <td>bach-hoa-online</td>\n",
              "    </tr>\n",
              "    <tr>\n",
              "      <th>6</th>\n",
              "      <td>68841409</td>\n",
              "      <td>Thùng Sữa Chua Uống Lên Men Tự Nhiên Dutch Lad...</td>\n",
              "      <td>Bách Hóa Online/Sữa và các Sản phẩm từ sữa/Sữa...</td>\n",
              "      <td>Dutch Lady</td>\n",
              "      <td>380000</td>\n",
              "      <td>0</td>\n",
              "      <td>0</td>\n",
              "      <td>\\n\\n\\nSữa chua uống Cô Gái Hà Lan được làm từ ...</td>\n",
              "      <td>https://salt.tikicdn.com/cache/280x280/ts/prod...</td>\n",
              "      <td>2675.0</td>\n",
              "      <td>4.0</td>\n",
              "      <td>bach-hoa-online</td>\n",
              "    </tr>\n",
              "    <tr>\n",
              "      <th>7</th>\n",
              "      <td>99511359</td>\n",
              "      <td>LẠP XƯỞNG HEO TƯƠI THƯỢNG HẠNG SIÊU NGON - BỊC...</td>\n",
              "      <td>Bách Hóa Online/Thực phẩm Đóng hộp và Khô/Thực...</td>\n",
              "      <td>Tân Lộc Phát</td>\n",
              "      <td>71000</td>\n",
              "      <td>28000</td>\n",
              "      <td>28</td>\n",
              "      <td>ĐÂY LÀ LẠP XƯỞNG KHÔ LOẠI NGON KHÁCH Ạ!\\nCách ...</td>\n",
              "      <td>https://salt.tikicdn.com/cache/280x280/ts/prod...</td>\n",
              "      <td>901.0</td>\n",
              "      <td>23.0</td>\n",
              "      <td>bach-hoa-online</td>\n",
              "    </tr>\n",
              "    <tr>\n",
              "      <th>8</th>\n",
              "      <td>10409776</td>\n",
              "      <td>Cà Phê Rang Xay Truyền Thống Highlands Coffee ...</td>\n",
              "      <td>Bách Hóa Online/Đồ uống - Pha chế dạng bột/Cà phê</td>\n",
              "      <td>Highlands Coffee</td>\n",
              "      <td>38200</td>\n",
              "      <td>9800</td>\n",
              "      <td>20</td>\n",
              "      <td>\\nCà Phê Rang Xay Truyền Thống Highlands Coffe...</td>\n",
              "      <td>https://salt.tikicdn.com/cache/280x280/media/c...</td>\n",
              "      <td>13802.0</td>\n",
              "      <td>1.0</td>\n",
              "      <td>bach-hoa-online</td>\n",
              "    </tr>\n",
              "    <tr>\n",
              "      <th>9</th>\n",
              "      <td>98190526</td>\n",
              "      <td>Nấm Hương Khô Cao Bằng 100g</td>\n",
              "      <td>Bách Hóa Online/Thực phẩm Đóng hộp và Khô/Thực...</td>\n",
              "      <td>3S</td>\n",
              "      <td>35000</td>\n",
              "      <td>0</td>\n",
              "      <td>0</td>\n",
              "      <td>Nấm hương khô Cao Bằng loại đặc biệt, nấm hươn...</td>\n",
              "      <td>https://salt.tikicdn.com/cache/280x280/ts/prod...</td>\n",
              "      <td>375.0</td>\n",
              "      <td>NaN</td>\n",
              "      <td>bach-hoa-online</td>\n",
              "    </tr>\n",
              "  </tbody>\n",
              "</table>\n",
              "</div>\n",
              "      <button class=\"colab-df-convert\" onclick=\"convertToInteractive('df-8455a22c-a345-4e5f-8e27-c0aae2a31928')\"\n",
              "              title=\"Convert this dataframe to an interactive table.\"\n",
              "              style=\"display:none;\">\n",
              "        \n",
              "  <svg xmlns=\"http://www.w3.org/2000/svg\" height=\"24px\"viewBox=\"0 0 24 24\"\n",
              "       width=\"24px\">\n",
              "    <path d=\"M0 0h24v24H0V0z\" fill=\"none\"/>\n",
              "    <path d=\"M18.56 5.44l.94 2.06.94-2.06 2.06-.94-2.06-.94-.94-2.06-.94 2.06-2.06.94zm-11 1L8.5 8.5l.94-2.06 2.06-.94-2.06-.94L8.5 2.5l-.94 2.06-2.06.94zm10 10l.94 2.06.94-2.06 2.06-.94-2.06-.94-.94-2.06-.94 2.06-2.06.94z\"/><path d=\"M17.41 7.96l-1.37-1.37c-.4-.4-.92-.59-1.43-.59-.52 0-1.04.2-1.43.59L10.3 9.45l-7.72 7.72c-.78.78-.78 2.05 0 2.83L4 21.41c.39.39.9.59 1.41.59.51 0 1.02-.2 1.41-.59l7.78-7.78 2.81-2.81c.8-.78.8-2.07 0-2.86zM5.41 20L4 18.59l7.72-7.72 1.47 1.35L5.41 20z\"/>\n",
              "  </svg>\n",
              "      </button>\n",
              "      \n",
              "  <style>\n",
              "    .colab-df-container {\n",
              "      display:flex;\n",
              "      flex-wrap:wrap;\n",
              "      gap: 12px;\n",
              "    }\n",
              "\n",
              "    .colab-df-convert {\n",
              "      background-color: #E8F0FE;\n",
              "      border: none;\n",
              "      border-radius: 50%;\n",
              "      cursor: pointer;\n",
              "      display: none;\n",
              "      fill: #1967D2;\n",
              "      height: 32px;\n",
              "      padding: 0 0 0 0;\n",
              "      width: 32px;\n",
              "    }\n",
              "\n",
              "    .colab-df-convert:hover {\n",
              "      background-color: #E2EBFA;\n",
              "      box-shadow: 0px 1px 2px rgba(60, 64, 67, 0.3), 0px 1px 3px 1px rgba(60, 64, 67, 0.15);\n",
              "      fill: #174EA6;\n",
              "    }\n",
              "\n",
              "    [theme=dark] .colab-df-convert {\n",
              "      background-color: #3B4455;\n",
              "      fill: #D2E3FC;\n",
              "    }\n",
              "\n",
              "    [theme=dark] .colab-df-convert:hover {\n",
              "      background-color: #434B5C;\n",
              "      box-shadow: 0px 1px 3px 1px rgba(0, 0, 0, 0.15);\n",
              "      filter: drop-shadow(0px 1px 2px rgba(0, 0, 0, 0.3));\n",
              "      fill: #FFFFFF;\n",
              "    }\n",
              "  </style>\n",
              "\n",
              "      <script>\n",
              "        const buttonEl =\n",
              "          document.querySelector('#df-8455a22c-a345-4e5f-8e27-c0aae2a31928 button.colab-df-convert');\n",
              "        buttonEl.style.display =\n",
              "          google.colab.kernel.accessAllowed ? 'block' : 'none';\n",
              "\n",
              "        async function convertToInteractive(key) {\n",
              "          const element = document.querySelector('#df-8455a22c-a345-4e5f-8e27-c0aae2a31928');\n",
              "          const dataTable =\n",
              "            await google.colab.kernel.invokeFunction('convertToInteractive',\n",
              "                                                     [key], {});\n",
              "          if (!dataTable) return;\n",
              "\n",
              "          const docLinkHtml = 'Like what you see? Visit the ' +\n",
              "            '<a target=\"_blank\" href=https://colab.research.google.com/notebooks/data_table.ipynb>data table notebook</a>'\n",
              "            + ' to learn more about interactive tables.';\n",
              "          element.innerHTML = '';\n",
              "          dataTable['output_type'] = 'display_data';\n",
              "          await google.colab.output.renderOutput(dataTable, element);\n",
              "          const docLink = document.createElement('div');\n",
              "          docLink.innerHTML = docLinkHtml;\n",
              "          element.appendChild(docLink);\n",
              "        }\n",
              "      </script>\n",
              "    </div>\n",
              "  </div>\n",
              "  "
            ],
            "text/plain": [
              "          id  ...    main_category\n",
              "0  112329645  ...  bach-hoa-online\n",
              "1    2454355  ...  bach-hoa-online\n",
              "2    2454359  ...  bach-hoa-online\n",
              "3    2454353  ...  bach-hoa-online\n",
              "4   98565212  ...  bach-hoa-online\n",
              "5    2454357  ...  bach-hoa-online\n",
              "6   68841409  ...  bach-hoa-online\n",
              "7   99511359  ...  bach-hoa-online\n",
              "8   10409776  ...  bach-hoa-online\n",
              "9   98190526  ...  bach-hoa-online\n",
              "\n",
              "[10 rows x 12 columns]"
            ]
          },
          "metadata": {},
          "execution_count": 13
        }
      ]
    },
    {
      "cell_type": "code",
      "source": [
        "data.info()"
      ],
      "metadata": {
        "colab": {
          "base_uri": "https://localhost:8080/"
        },
        "id": "E0_0VN_sMiMB",
        "outputId": "0489fc89-691b-45f6-a995-08014c9aadcb"
      },
      "execution_count": 14,
      "outputs": [
        {
          "output_type": "stream",
          "name": "stdout",
          "text": [
            "<class 'pandas.core.frame.DataFrame'>\n",
            "RangeIndex: 25827 entries, 0 to 25826\n",
            "Data columns (total 12 columns):\n",
            " #   Column         Non-Null Count  Dtype  \n",
            "---  ------         --------------  -----  \n",
            " 0   id             25827 non-null  int64  \n",
            " 1   name           25827 non-null  object \n",
            " 2   category       25827 non-null  object \n",
            " 3   brand          23752 non-null  object \n",
            " 4   price          25827 non-null  int64  \n",
            " 5   discount       25827 non-null  int64  \n",
            " 6   discount_rate  25827 non-null  int64  \n",
            " 7   mota           25825 non-null  object \n",
            " 8   image_url      25827 non-null  object \n",
            " 9   n_sold         23974 non-null  float64\n",
            " 10  rank           17435 non-null  float64\n",
            " 11  main_category  25827 non-null  object \n",
            "dtypes: float64(2), int64(4), object(6)\n",
            "memory usage: 2.4+ MB\n"
          ]
        }
      ]
    },
    {
      "cell_type": "code",
      "source": [
        "data = data.dropna(subset=['mota'])"
      ],
      "metadata": {
        "id": "T8QMkY7eMc-O"
      },
      "execution_count": 15,
      "outputs": []
    },
    {
      "cell_type": "code",
      "source": [
        "data['mota'] = data['mota'].apply(text_preprocess)"
      ],
      "metadata": {
        "id": "SMFfKHEDMyVj"
      },
      "execution_count": 16,
      "outputs": []
    },
    {
      "cell_type": "code",
      "execution_count": 17,
      "metadata": {
        "id": "mx8VYQMeS0LV"
      },
      "outputs": [],
      "source": [
        "stopword = set()\n",
        "with open('./drive/MyDrive/stop_words.txt', 'r') as fp:\n",
        "      for line in fp.readlines():\n",
        "        stopword.add(line.strip())\n",
        "    "
      ]
    },
    {
      "cell_type": "code",
      "execution_count": 18,
      "metadata": {
        "id": "yJEC2EztS3GN"
      },
      "outputs": [],
      "source": [
        "def remove_stopwords(line):\n",
        "    words = []\n",
        "    for word in line.strip().split():\n",
        "        if word not in stopword:\n",
        "            words.append(word)\n",
        "    return ' '.join(words)"
      ]
    },
    {
      "cell_type": "code",
      "execution_count": 19,
      "metadata": {
        "id": "a_GrzTkiSbcE"
      },
      "outputs": [],
      "source": [
        "data['mota'] = data['mota'].apply(remove_stopwords)"
      ]
    },
    {
      "cell_type": "code",
      "execution_count": 20,
      "metadata": {
        "colab": {
          "base_uri": "https://localhost:8080/"
        },
        "id": "C6jPX8Hr2L-g",
        "outputId": "53c88e7a-5486-4355-c1d1-caf11d2e9385"
      },
      "outputs": [
        {
          "output_type": "execute_result",
          "data": {
            "text/plain": [
              "0        chân gà chef biggy vị cay toàn_bộ nguyên_liệu ...\n",
              "1        thùng 48 hộp sữa_chua lên_men tự_nhiên yomost ...\n",
              "2        thùng 48 hộp sữa_chua lên_men tự_nhiên yomost ...\n",
              "3        thùng 48 hộp sữa_chua lên_men tự_nhiên yomost ...\n",
              "4        pepsi nhãn_hiệu nước_giải_khát hương cola gas ...\n",
              "                               ...                        \n",
              "25822    đêm 01 hồ chí_minh cam_ranh 22 h 00 xe hdv jay...\n",
              "25823    1 tp hcm hà_nội sapa trưa tối 05 h30 nhân_viên...\n",
              "25824    năm_tháng phương_pháp đẹp sinh nguyên_liệu tự_...\n",
              "25825    người_yêu nắng gió chuộng vẻ đẹp hoang_sơ mũi ...\n",
              "25826    hạn sử_dụng 2022 01 31 00 00 00 buffet nướng t...\n",
              "Name: mota, Length: 25825, dtype: object"
            ]
          },
          "metadata": {},
          "execution_count": 20
        }
      ],
      "source": [
        "data['mota']"
      ]
    },
    {
      "cell_type": "code",
      "execution_count": 21,
      "metadata": {
        "id": "6E3UzujcSeIC"
      },
      "outputs": [],
      "source": [
        "from sklearn.feature_extraction.text import TfidfVectorizer\n"
      ]
    },
    {
      "cell_type": "code",
      "source": [
        ""
      ],
      "metadata": {
        "id": "KyEwYQ98P6tl"
      },
      "execution_count": 21,
      "outputs": []
    },
    {
      "cell_type": "code",
      "execution_count": 22,
      "metadata": {
        "id": "tAfTo0m1SjBE"
      },
      "outputs": [],
      "source": [
        "vect = TfidfVectorizer(min_df=1, stop_words=list(stopword))                                                                                                                                                                                                   \n"
      ]
    },
    {
      "cell_type": "code",
      "source": [
        "tfidf = vect.fit_transform(data['mota'])                                                                                                                                                                                                                       \n"
      ],
      "metadata": {
        "colab": {
          "base_uri": "https://localhost:8080/"
        },
        "id": "sDaUfmGEQ8TN",
        "outputId": "09b1b056-7085-4f69-cbd1-448feb70fcf1"
      },
      "execution_count": 23,
      "outputs": [
        {
          "output_type": "stream",
          "name": "stderr",
          "text": [
            "/usr/local/lib/python3.7/dist-packages/sklearn/feature_extraction/text.py:401: UserWarning: Your stop_words may be inconsistent with your preprocessing. Tokenizing the stop words generated tokens ['bao', 'bay', 'biến', 'biệt', 'bây', 'bõm', 'bảo', 'bất', 'bẩy', 'bập', 'bắt', 'bội', 'chao', 'chi', 'chia', 'chu', 'chui', 'chuẩn', 'chà', 'chành', 'chí', 'chót', 'chùn', 'chăn', 'chũn', 'chưng', 'chạnh', 'chả', 'chầm', 'chầy', 'chập', 'chắn', 'chẳng', 'chết', 'chốc', 'chừ', 'chừng', 'coi', 'cu', 'cá', 'câu', 'cóc', 'công', 'cạnh', 'cảm', 'cầu', 'cật', 'cắt', 'cổ', 'cụ', 'cục', 'cực', 'da', 'dà', 'dĩ', 'dưng', 'dần', 'dầu', 'dịp', 'dở', 'dụng', 'gian', 'giá', 'giác', 'giời', 'ha', 'hiện', 'hoàn', 'hèn', 'hình', 'hô', 'hầu', 'hậu', 'hẳn', 'hồ', 'hỗ', 'hội', 'hợp', 'hự', 'khói', 'khô', 'khăn', 'khắc', 'khẳng', 'kia', 'kiện', 'kê', 'kì', 'kìa', 'kỳ', 'lai', 'le', 'liên', 'liệt', 'loạt', 'luận', 'luật', 'luốt', 'lình', 'lí', 'lô', 'lý', 'lập', 'lẽ', 'lị', 'lự', 'lực', 'mày', 'mòi', 'mù', 'mạng', 'mấy', 'mẹ', 'mực', 'nghiễm', 'ngõ', 'ngăn', 'ngắt', 'ngộ', 'ngờ', 'nhiên', 'nhiêu', 'nhiệt', 'nhung', 'nhân', 'nhén', 'nhón', 'nhăng', 'nhược', 'nhỡ', 'nả', 'nỗi', 'nở', 'nức', 'oai', 'phi', 'phui', 'phàm', 'phù', 'phăn', 'phương', 'phỉ', 'quan', 'qui', 'quy', 'quyết', 'ren', 'riu', 'ríu', 'rón', 'rút', 'rốt', 'sa', 'sinh', 'song', 'sả', 'sẻ', 'sốt', 'sột', 'sở', 'sợ', 'sức', 'sử', 'ta', 'te', 'tha', 'than', 'thay', 'thi', 'thiên', 'thiết', 'thoảng', 'thành', 'thái', 'tháo', 'thân', 'thình', 'thúng', 'thương', 'thảo', 'thảy', 'thắng', 'thể', 'thỉnh', 'thị', 'thời', 'thục', 'thử', 'thực', 'tiên', 'tiếp', 'tiện', 'tiệt', 'toàn', 'toé', 'trung', 'tráo', 'trình', 'trí', 'trạng', 'trạo', 'trếu', 'trệu', 'trị', 'trọi', 'trọng', 'trời', 'trở', 'trợ', 'trừ', 'trực', 'tuyệt', 'tuần', 'tuốt', 'tuồn', 'tuồng', 'tuột', 'tà', 'tàn', 'tán', 'tâm', 'tê', 'tì', 'tình', 'tít', 'tò', 'tông', 'tù', 'tăm', 'tả', 'tất', 'tần', 'tập', 'tật', 'tế', 'tề', 'tỏ', 'tốc', 'tối', 'tục', 'tức', 'tử', 'tựu', 'vung', 'vàn', 'ví', 'vô', 'văng', 'vạn', 'vả', 'vấn', 'vẻ', 'vị', 'vốn', 'xiết', 'xon', 'xoành', 'xoạch', 'xuất', 'xón', 'xúi', 'xăm', 'xưa', 'xả', 'xảy', 'xắm', 'xềnh', 'xệch', 'xử', 'xửa', 'yêu', 'âu', 'ôi', 'đi', 'đành', 'đán', 'đánh', 'đáo', 'đùng', 'đơn', 'đạch', 'đại', 'đảm', 'đất', 'đấy', 'đầu', 'đặc', 'đề', 'địa', 'định', 'đối', 'đồ', 'đồng', 'đổi', 'ơn', 'ầu', 'ối'] not in stop_words.\n",
            "  % sorted(inconsistent)\n"
          ]
        }
      ]
    },
    {
      "cell_type": "code",
      "source": [
        "pairwise_similarity = tfidf * tfidf.T "
      ],
      "metadata": {
        "id": "NS_XZ5i_Q9tk"
      },
      "execution_count": 24,
      "outputs": []
    },
    {
      "cell_type": "code",
      "source": [
        "data.info()"
      ],
      "metadata": {
        "colab": {
          "base_uri": "https://localhost:8080/"
        },
        "id": "t9wPIfBIRWlk",
        "outputId": "1f04ed2b-7b19-4b20-9cf3-af777b292391"
      },
      "execution_count": 25,
      "outputs": [
        {
          "output_type": "stream",
          "name": "stdout",
          "text": [
            "<class 'pandas.core.frame.DataFrame'>\n",
            "Int64Index: 25825 entries, 0 to 25826\n",
            "Data columns (total 12 columns):\n",
            " #   Column         Non-Null Count  Dtype  \n",
            "---  ------         --------------  -----  \n",
            " 0   id             25825 non-null  int64  \n",
            " 1   name           25825 non-null  object \n",
            " 2   category       25825 non-null  object \n",
            " 3   brand          23750 non-null  object \n",
            " 4   price          25825 non-null  int64  \n",
            " 5   discount       25825 non-null  int64  \n",
            " 6   discount_rate  25825 non-null  int64  \n",
            " 7   mota           25825 non-null  object \n",
            " 8   image_url      25825 non-null  object \n",
            " 9   n_sold         23972 non-null  float64\n",
            " 10  rank           17433 non-null  float64\n",
            " 11  main_category  25825 non-null  object \n",
            "dtypes: float64(2), int64(4), object(6)\n",
            "memory usage: 2.6+ MB\n"
          ]
        }
      ]
    },
    {
      "cell_type": "code",
      "source": [
        "\n",
        "def get_items_simi(item_id):\n",
        "  row_idx = data[data['id'] == item_id].index[0]\n",
        "  return pairwise_similarity[row_idx, :]\n",
        "\n",
        "  "
      ],
      "metadata": {
        "id": "eD_7EcZRRabE"
      },
      "execution_count": 26,
      "outputs": []
    },
    {
      "cell_type": "code",
      "source": [
        "data.shape"
      ],
      "metadata": {
        "colab": {
          "base_uri": "https://localhost:8080/"
        },
        "id": "gVT5bY5QRS-S",
        "outputId": "5b15e37f-f260-4fbf-bb02-97a82f465315"
      },
      "execution_count": 28,
      "outputs": [
        {
          "output_type": "execute_result",
          "data": {
            "text/plain": [
              "(25825, 12)"
            ]
          },
          "metadata": {},
          "execution_count": 28
        }
      ]
    },
    {
      "cell_type": "code",
      "source": [
        "no_item = 25825\n",
        "idx = data[data['id'] == 10409776].index[0]\n",
        "res = []\n",
        "filter = set()\n",
        "for i in range(no_item):\n",
        "  if get_items_simi(10409776)[0, i] >= 0.8:\n",
        "    if data.loc[i]['mota'] not in filter:\n",
        "      res.append((i, get_items_simi(10409776)[0, i]))\n",
        "      filter.add(data.loc[i]['mota'])\n",
        "\n",
        "print(data.loc[idx])\n",
        "print()\n",
        "for r in res:\n",
        "  print(data.loc[r[0]])\n",
        "  print('----------------')\n",
        "\n"
      ],
      "metadata": {
        "colab": {
          "base_uri": "https://localhost:8080/"
        },
        "id": "ynao_Ox1Ps0b",
        "outputId": "4d36164e-c64b-418c-d367-34154af1622a"
      },
      "execution_count": 33,
      "outputs": [
        {
          "output_type": "stream",
          "name": "stdout",
          "text": [
            "id                                                        10409776\n",
            "name             Cà Phê Rang Xay Truyền Thống Highlands Coffee ...\n",
            "category         Bách Hóa Online/Đồ uống - Pha chế dạng bột/Cà phê\n",
            "brand                                             Highlands Coffee\n",
            "price                                                        38200\n",
            "discount                                                      9800\n",
            "discount_rate                                                   20\n",
            "mota             cà_phê rang xay truyền_thống highlands coffee ...\n",
            "image_url        https://salt.tikicdn.com/cache/280x280/media/c...\n",
            "n_sold                                                       13802\n",
            "rank                                                             1\n",
            "main_category                                      bach-hoa-online\n",
            "Name: 8, dtype: object\n",
            "\n",
            "id                                                        10409776\n",
            "name             Cà Phê Rang Xay Truyền Thống Highlands Coffee ...\n",
            "category         Bách Hóa Online/Đồ uống - Pha chế dạng bột/Cà phê\n",
            "brand                                             Highlands Coffee\n",
            "price                                                        38200\n",
            "discount                                                      9800\n",
            "discount_rate                                                   20\n",
            "mota             cà_phê rang xay truyền_thống highlands coffee ...\n",
            "image_url        https://salt.tikicdn.com/cache/280x280/media/c...\n",
            "n_sold                                                       13802\n",
            "rank                                                             1\n",
            "main_category                                      bach-hoa-online\n",
            "Name: 8, dtype: object\n",
            "----------------\n",
            "id                                                        10409775\n",
            "name                Cà Phê Rang Xay Di Sản Highlands Coffee (200g)\n",
            "category         Bách Hóa Online/Đồ uống - Pha chế dạng bột/Cà phê\n",
            "brand                                             Highlands Coffee\n",
            "price                                                        41300\n",
            "discount                                                      3700\n",
            "discount_rate                                                    8\n",
            "mota             cà_phê rang xay di_sản highlands coffee 200 g ...\n",
            "image_url        https://salt.tikicdn.com/cache/280x280/media/c...\n",
            "n_sold                                                        4032\n",
            "rank                                                            15\n",
            "main_category                                      bach-hoa-online\n",
            "Name: 61, dtype: object\n",
            "----------------\n"
          ]
        }
      ]
    },
    {
      "cell_type": "code",
      "source": [
        "data[data['id'] == 113340648]['mota'].tolist()"
      ],
      "metadata": {
        "colab": {
          "base_uri": "https://localhost:8080/"
        },
        "id": "i4T3oz9hRttH",
        "outputId": "ba43169d-ee37-4597-f482-f3399cf57818"
      },
      "execution_count": 32,
      "outputs": [
        {
          "output_type": "execute_result",
          "data": {
            "text/plain": [
              "['sản_phẩm tươi_sống trọng_lượng thực_tế có_thể chênh_lệch 10 tiki ngon tìm_hiểu đâychả cá thác_lác huế thượng_hạng hải thần 500 gr foodmap giá sản_phẩm tiki bao_gồm thuế luật hiện_hành cạnh tùy sản_phẩm hình_thức địa_chỉ giao hàng có_thể phát_sinh chi_phí phí vận_chuyển phụ_phí hàng cồng_kềnh thuế nhập_khẩu đối_với đơn hàng giao nước_ngoài giá_trị 1 triệu đồng']"
            ]
          },
          "metadata": {},
          "execution_count": 32
        }
      ]
    }
  ],
  "metadata": {
    "colab": {
      "name": "item similarity",
      "provenance": [],
      "collapsed_sections": []
    },
    "kernelspec": {
      "display_name": "Python 3",
      "name": "python3"
    },
    "language_info": {
      "name": "python"
    },
    "accelerator": "GPU"
  },
  "nbformat": 4,
  "nbformat_minor": 0
}