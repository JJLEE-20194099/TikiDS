{
 "cells": [
  {
   "cell_type": "code",
   "execution_count": 1,
   "metadata": {},
   "outputs": [],
   "source": [
    "import pandas as pd \n",
    "import seaborn as sns\n",
    "import numpy as np\n",
    "import os\n",
    "from tqdm import tqdm\n",
    "from sklearn.model_selection import KFold"
   ]
  },
  {
   "cell_type": "code",
   "execution_count": 2,
   "metadata": {},
   "outputs": [
    {
     "name": "stderr",
     "output_type": "stream",
     "text": [
      "100%|██████████| 2/2 [00:25<00:00, 12.64s/it]\n"
     ]
    }
   ],
   "source": [
    "for threshold in tqdm([0, 10]):\n",
    "    ratings = pd.read_csv('../../data/datasets/rating_{}/rating_list.csv'.format(threshold), sep=',', encoding='latin-1')\n",
    "    user_indexes = ratings['user index'].value_counts().index.tolist()\n",
    "    kfold = KFold(5, shuffle=True)\n",
    "    os.makedirs('../../data/datasets/rating_{}/kfold'.format(threshold), exist_ok= True)\n",
    "\n",
    "    i = 1\n",
    "    for train_pos, test_pos in kfold.split(ratings):\n",
    "        train = ratings.iloc[train_pos]\n",
    "        test = ratings.iloc[test_pos]\n",
    "        train_path = '../../data/datasets/rating_{}/kfold/'.format(threshold) + 'u' + str(i) + '.base.csv'\n",
    "        train.to_csv(train_path, sep=',', encoding='latin-1', index=False)\n",
    "        \n",
    "        test_path = '../../data/datasets/rating_{}/kfold/'.format(threshold) + 'u' + str(i) + '.test.csv'\n",
    "        test.to_csv(test_path, sep=',', encoding='latin-1', index=False)\n",
    "        i = i + 1\n",
    "    "
   ]
  }
 ],
 "metadata": {
  "interpreter": {
   "hash": "ac59ebe37160ed0dfa835113d9b8498d9f09ceb179beaac4002f036b9467c963"
  },
  "kernelspec": {
   "display_name": "Python 3.9.7 64-bit",
   "language": "python",
   "name": "python3"
  },
  "language_info": {
   "codemirror_mode": {
    "name": "ipython",
    "version": 3
   },
   "file_extension": ".py",
   "mimetype": "text/x-python",
   "name": "python",
   "nbconvert_exporter": "python",
   "pygments_lexer": "ipython3",
   "version": "3.9.7"
  },
  "orig_nbformat": 4
 },
 "nbformat": 4,
 "nbformat_minor": 2
}
