{
  "nbformat": 4,
  "nbformat_minor": 0,
  "metadata": {
    "colab": {
      "name": "User Beha Based On Item's  Features",
      "provenance": [],
      "collapsed_sections": []
    },
    "kernelspec": {
      "name": "python3",
      "display_name": "Python 3"
    },
    "language_info": {
      "name": "python"
    }
  },
  "cells": [
    {
      "cell_type": "code",
      "execution_count": null,
      "metadata": {
        "id": "RzsAfSO3s66q"
      },
      "outputs": [],
      "source": [
        "import numpy as np\n",
        "import tensorflow as tf\n",
        "import sklearn\n",
        "import pandas as pd\n",
        "import os\n",
        "from sklearn.tree import DecisionTreeRegressor\n",
        "from sklearn.model_selection import train_test_split\n",
        "from sklearn.ensemble import RandomForestRegressor\n",
        "from sklearn.preprocessing import MinMaxScaler, StandardScaler"
      ]
    },
    {
      "cell_type": "code",
      "source": [
        "overall_list = pd.read_csv('./drive/MyDrive/ds/item/overall_list.csv', sep=',', encoding='utf-8')\n",
        "detail_list = pd.read_csv('./drive/MyDrive/ds/item/detail_list.csv', sep=',', encoding='utf-8')"
      ],
      "metadata": {
        "id": "7gOSmhjqs_Jv"
      },
      "execution_count": null,
      "outputs": []
    },
    {
      "cell_type": "code",
      "source": [
        "overall_list.head()"
      ],
      "metadata": {
        "colab": {
          "base_uri": "https://localhost:8080/",
          "height": 206
        },
        "id": "rxB4YXdvtFmg",
        "outputId": "eb7d8c8e-04e7-47bf-926d-1e7f9cbb0780"
      },
      "execution_count": null,
      "outputs": [
        {
          "output_type": "execute_result",
          "data": {
            "text/html": [
              "\n",
              "  <div id=\"df-626e6479-124f-47b3-aab3-6d34ac922ded\">\n",
              "    <div class=\"colab-df-container\">\n",
              "      <div>\n",
              "<style scoped>\n",
              "    .dataframe tbody tr th:only-of-type {\n",
              "        vertical-align: middle;\n",
              "    }\n",
              "\n",
              "    .dataframe tbody tr th {\n",
              "        vertical-align: top;\n",
              "    }\n",
              "\n",
              "    .dataframe thead th {\n",
              "        text-align: right;\n",
              "    }\n",
              "</style>\n",
              "<table border=\"1\" class=\"dataframe\">\n",
              "  <thead>\n",
              "    <tr style=\"text-align: right;\">\n",
              "      <th></th>\n",
              "      <th>id</th>\n",
              "      <th>avg_rating</th>\n",
              "      <th>n_reviews</th>\n",
              "      <th>n_rate_5</th>\n",
              "      <th>n_rate_4</th>\n",
              "      <th>n_rate_3</th>\n",
              "      <th>n_rate_2</th>\n",
              "      <th>n_rate_1</th>\n",
              "      <th>rate_with_img</th>\n",
              "    </tr>\n",
              "  </thead>\n",
              "  <tbody>\n",
              "    <tr>\n",
              "      <th>0</th>\n",
              "      <td>112329645</td>\n",
              "      <td>4.5</td>\n",
              "      <td>20</td>\n",
              "      <td>14</td>\n",
              "      <td>3</td>\n",
              "      <td>2</td>\n",
              "      <td>1</td>\n",
              "      <td>0</td>\n",
              "      <td>0</td>\n",
              "    </tr>\n",
              "    <tr>\n",
              "      <th>1</th>\n",
              "      <td>2454355</td>\n",
              "      <td>4.7</td>\n",
              "      <td>365</td>\n",
              "      <td>309</td>\n",
              "      <td>38</td>\n",
              "      <td>4</td>\n",
              "      <td>4</td>\n",
              "      <td>10</td>\n",
              "      <td>60</td>\n",
              "    </tr>\n",
              "    <tr>\n",
              "      <th>2</th>\n",
              "      <td>2454359</td>\n",
              "      <td>4.8</td>\n",
              "      <td>432</td>\n",
              "      <td>383</td>\n",
              "      <td>26</td>\n",
              "      <td>11</td>\n",
              "      <td>2</td>\n",
              "      <td>10</td>\n",
              "      <td>58</td>\n",
              "    </tr>\n",
              "    <tr>\n",
              "      <th>3</th>\n",
              "      <td>2454353</td>\n",
              "      <td>4.8</td>\n",
              "      <td>367</td>\n",
              "      <td>324</td>\n",
              "      <td>25</td>\n",
              "      <td>6</td>\n",
              "      <td>2</td>\n",
              "      <td>10</td>\n",
              "      <td>60</td>\n",
              "    </tr>\n",
              "    <tr>\n",
              "      <th>4</th>\n",
              "      <td>98565212</td>\n",
              "      <td>4.7</td>\n",
              "      <td>276</td>\n",
              "      <td>240</td>\n",
              "      <td>15</td>\n",
              "      <td>5</td>\n",
              "      <td>3</td>\n",
              "      <td>13</td>\n",
              "      <td>49</td>\n",
              "    </tr>\n",
              "  </tbody>\n",
              "</table>\n",
              "</div>\n",
              "      <button class=\"colab-df-convert\" onclick=\"convertToInteractive('df-626e6479-124f-47b3-aab3-6d34ac922ded')\"\n",
              "              title=\"Convert this dataframe to an interactive table.\"\n",
              "              style=\"display:none;\">\n",
              "        \n",
              "  <svg xmlns=\"http://www.w3.org/2000/svg\" height=\"24px\"viewBox=\"0 0 24 24\"\n",
              "       width=\"24px\">\n",
              "    <path d=\"M0 0h24v24H0V0z\" fill=\"none\"/>\n",
              "    <path d=\"M18.56 5.44l.94 2.06.94-2.06 2.06-.94-2.06-.94-.94-2.06-.94 2.06-2.06.94zm-11 1L8.5 8.5l.94-2.06 2.06-.94-2.06-.94L8.5 2.5l-.94 2.06-2.06.94zm10 10l.94 2.06.94-2.06 2.06-.94-2.06-.94-.94-2.06-.94 2.06-2.06.94z\"/><path d=\"M17.41 7.96l-1.37-1.37c-.4-.4-.92-.59-1.43-.59-.52 0-1.04.2-1.43.59L10.3 9.45l-7.72 7.72c-.78.78-.78 2.05 0 2.83L4 21.41c.39.39.9.59 1.41.59.51 0 1.02-.2 1.41-.59l7.78-7.78 2.81-2.81c.8-.78.8-2.07 0-2.86zM5.41 20L4 18.59l7.72-7.72 1.47 1.35L5.41 20z\"/>\n",
              "  </svg>\n",
              "      </button>\n",
              "      \n",
              "  <style>\n",
              "    .colab-df-container {\n",
              "      display:flex;\n",
              "      flex-wrap:wrap;\n",
              "      gap: 12px;\n",
              "    }\n",
              "\n",
              "    .colab-df-convert {\n",
              "      background-color: #E8F0FE;\n",
              "      border: none;\n",
              "      border-radius: 50%;\n",
              "      cursor: pointer;\n",
              "      display: none;\n",
              "      fill: #1967D2;\n",
              "      height: 32px;\n",
              "      padding: 0 0 0 0;\n",
              "      width: 32px;\n",
              "    }\n",
              "\n",
              "    .colab-df-convert:hover {\n",
              "      background-color: #E2EBFA;\n",
              "      box-shadow: 0px 1px 2px rgba(60, 64, 67, 0.3), 0px 1px 3px 1px rgba(60, 64, 67, 0.15);\n",
              "      fill: #174EA6;\n",
              "    }\n",
              "\n",
              "    [theme=dark] .colab-df-convert {\n",
              "      background-color: #3B4455;\n",
              "      fill: #D2E3FC;\n",
              "    }\n",
              "\n",
              "    [theme=dark] .colab-df-convert:hover {\n",
              "      background-color: #434B5C;\n",
              "      box-shadow: 0px 1px 3px 1px rgba(0, 0, 0, 0.15);\n",
              "      filter: drop-shadow(0px 1px 2px rgba(0, 0, 0, 0.3));\n",
              "      fill: #FFFFFF;\n",
              "    }\n",
              "  </style>\n",
              "\n",
              "      <script>\n",
              "        const buttonEl =\n",
              "          document.querySelector('#df-626e6479-124f-47b3-aab3-6d34ac922ded button.colab-df-convert');\n",
              "        buttonEl.style.display =\n",
              "          google.colab.kernel.accessAllowed ? 'block' : 'none';\n",
              "\n",
              "        async function convertToInteractive(key) {\n",
              "          const element = document.querySelector('#df-626e6479-124f-47b3-aab3-6d34ac922ded');\n",
              "          const dataTable =\n",
              "            await google.colab.kernel.invokeFunction('convertToInteractive',\n",
              "                                                     [key], {});\n",
              "          if (!dataTable) return;\n",
              "\n",
              "          const docLinkHtml = 'Like what you see? Visit the ' +\n",
              "            '<a target=\"_blank\" href=https://colab.research.google.com/notebooks/data_table.ipynb>data table notebook</a>'\n",
              "            + ' to learn more about interactive tables.';\n",
              "          element.innerHTML = '';\n",
              "          dataTable['output_type'] = 'display_data';\n",
              "          await google.colab.output.renderOutput(dataTable, element);\n",
              "          const docLink = document.createElement('div');\n",
              "          docLink.innerHTML = docLinkHtml;\n",
              "          element.appendChild(docLink);\n",
              "        }\n",
              "      </script>\n",
              "    </div>\n",
              "  </div>\n",
              "  "
            ],
            "text/plain": [
              "          id  avg_rating  n_reviews  ...  n_rate_2  n_rate_1  rate_with_img\n",
              "0  112329645         4.5         20  ...         1         0              0\n",
              "1    2454355         4.7        365  ...         4        10             60\n",
              "2    2454359         4.8        432  ...         2        10             58\n",
              "3    2454353         4.8        367  ...         2        10             60\n",
              "4   98565212         4.7        276  ...         3        13             49\n",
              "\n",
              "[5 rows x 9 columns]"
            ]
          },
          "metadata": {},
          "execution_count": 132
        }
      ]
    },
    {
      "cell_type": "code",
      "source": [
        "detail_list.head()"
      ],
      "metadata": {
        "colab": {
          "base_uri": "https://localhost:8080/",
          "height": 424
        },
        "id": "LpSSLuJEtHUG",
        "outputId": "2ac1d3a9-4566-4f60-a87b-de6e796a3ed6"
      },
      "execution_count": null,
      "outputs": [
        {
          "output_type": "execute_result",
          "data": {
            "text/html": [
              "\n",
              "  <div id=\"df-2c8bc818-ac85-41f5-8dae-91a0666bb206\">\n",
              "    <div class=\"colab-df-container\">\n",
              "      <div>\n",
              "<style scoped>\n",
              "    .dataframe tbody tr th:only-of-type {\n",
              "        vertical-align: middle;\n",
              "    }\n",
              "\n",
              "    .dataframe tbody tr th {\n",
              "        vertical-align: top;\n",
              "    }\n",
              "\n",
              "    .dataframe thead th {\n",
              "        text-align: right;\n",
              "    }\n",
              "</style>\n",
              "<table border=\"1\" class=\"dataframe\">\n",
              "  <thead>\n",
              "    <tr style=\"text-align: right;\">\n",
              "      <th></th>\n",
              "      <th>id</th>\n",
              "      <th>name</th>\n",
              "      <th>category</th>\n",
              "      <th>brand</th>\n",
              "      <th>price</th>\n",
              "      <th>discount</th>\n",
              "      <th>discount_rate</th>\n",
              "      <th>mota</th>\n",
              "      <th>image_url</th>\n",
              "      <th>n_sold</th>\n",
              "      <th>rank</th>\n",
              "      <th>main_category</th>\n",
              "    </tr>\n",
              "  </thead>\n",
              "  <tbody>\n",
              "    <tr>\n",
              "      <th>0</th>\n",
              "      <td>112329645</td>\n",
              "      <td>1 gói Chân Gà CHEF BIGGY Vị Cay</td>\n",
              "      <td>Bách Hóa Online/Đồ Ăn Vặt/Các Loại Đồ Ăn Vặt Khác</td>\n",
              "      <td>CHEF BIGGY</td>\n",
              "      <td>10000</td>\n",
              "      <td>0</td>\n",
              "      <td>0</td>\n",
              "      <td>* Chân Gà CHEF BIGGY Vị Cay \\n- Toàn bộ nguyê...</td>\n",
              "      <td>https://salt.tikicdn.com/cache/280x280/ts/prod...</td>\n",
              "      <td>860.0</td>\n",
              "      <td>1.0</td>\n",
              "      <td>bach-hoa-online</td>\n",
              "    </tr>\n",
              "    <tr>\n",
              "      <th>1</th>\n",
              "      <td>2454355</td>\n",
              "      <td>Thùng 48 Hộp Sữa Chua Lên Men Tự Nhiên Yomost ...</td>\n",
              "      <td>Bách Hóa Online/Sữa và các Sản phẩm từ sữa/Sữa...</td>\n",
              "      <td>Yomost</td>\n",
              "      <td>360000</td>\n",
              "      <td>0</td>\n",
              "      <td>0</td>\n",
              "      <td>\\n\\nThùng 48 Hộp Sữa Chua Lên Men Tự Nhiên Yom...</td>\n",
              "      <td>https://salt.tikicdn.com/cache/280x280/ts/prod...</td>\n",
              "      <td>2788.0</td>\n",
              "      <td>1.0</td>\n",
              "      <td>bach-hoa-online</td>\n",
              "    </tr>\n",
              "    <tr>\n",
              "      <th>2</th>\n",
              "      <td>2454359</td>\n",
              "      <td>Thùng 48 Hộp Sữa Chua Lên Men Tự Nhiên Yomost ...</td>\n",
              "      <td>Bách Hóa Online/Sữa và các Sản phẩm từ sữa/Sữa...</td>\n",
              "      <td>Yomost</td>\n",
              "      <td>360000</td>\n",
              "      <td>0</td>\n",
              "      <td>0</td>\n",
              "      <td>\\n\\nThùng 48 Hộp Sữa Chua Lên Men Tự Nhiên Yom...</td>\n",
              "      <td>https://salt.tikicdn.com/cache/280x280/ts/prod...</td>\n",
              "      <td>1591.0</td>\n",
              "      <td>9.0</td>\n",
              "      <td>bach-hoa-online</td>\n",
              "    </tr>\n",
              "    <tr>\n",
              "      <th>3</th>\n",
              "      <td>2454353</td>\n",
              "      <td>Thùng 48 Hộp Sữa Chua Lên Men Tự Nhiên Yomost ...</td>\n",
              "      <td>Bách Hóa Online/Sữa và các Sản phẩm từ sữa/Sữa...</td>\n",
              "      <td>Yomost</td>\n",
              "      <td>319000</td>\n",
              "      <td>41000</td>\n",
              "      <td>11</td>\n",
              "      <td>\\n\\nThùng 48 Hộp Sữa Chua Lên Men Tự Nhiên Yom...</td>\n",
              "      <td>https://salt.tikicdn.com/cache/280x280/ts/prod...</td>\n",
              "      <td>2186.0</td>\n",
              "      <td>7.0</td>\n",
              "      <td>bach-hoa-online</td>\n",
              "    </tr>\n",
              "    <tr>\n",
              "      <th>4</th>\n",
              "      <td>98565212</td>\n",
              "      <td>Thùng 24 Lon Nước Ngọt Có Gaz Pepsi (320ml/lon)</td>\n",
              "      <td>Bách Hóa Online/Đồ Uống Không Cồn/Đồ uống có g...</td>\n",
              "      <td>Pepsi</td>\n",
              "      <td>186000</td>\n",
              "      <td>2000</td>\n",
              "      <td>1</td>\n",
              "      <td>\\nPepsi là nhãn hiệu nước giải khát hương Cola...</td>\n",
              "      <td>https://salt.tikicdn.com/cache/280x280/media/c...</td>\n",
              "      <td>1511.0</td>\n",
              "      <td>4.0</td>\n",
              "      <td>bach-hoa-online</td>\n",
              "    </tr>\n",
              "  </tbody>\n",
              "</table>\n",
              "</div>\n",
              "      <button class=\"colab-df-convert\" onclick=\"convertToInteractive('df-2c8bc818-ac85-41f5-8dae-91a0666bb206')\"\n",
              "              title=\"Convert this dataframe to an interactive table.\"\n",
              "              style=\"display:none;\">\n",
              "        \n",
              "  <svg xmlns=\"http://www.w3.org/2000/svg\" height=\"24px\"viewBox=\"0 0 24 24\"\n",
              "       width=\"24px\">\n",
              "    <path d=\"M0 0h24v24H0V0z\" fill=\"none\"/>\n",
              "    <path d=\"M18.56 5.44l.94 2.06.94-2.06 2.06-.94-2.06-.94-.94-2.06-.94 2.06-2.06.94zm-11 1L8.5 8.5l.94-2.06 2.06-.94-2.06-.94L8.5 2.5l-.94 2.06-2.06.94zm10 10l.94 2.06.94-2.06 2.06-.94-2.06-.94-.94-2.06-.94 2.06-2.06.94z\"/><path d=\"M17.41 7.96l-1.37-1.37c-.4-.4-.92-.59-1.43-.59-.52 0-1.04.2-1.43.59L10.3 9.45l-7.72 7.72c-.78.78-.78 2.05 0 2.83L4 21.41c.39.39.9.59 1.41.59.51 0 1.02-.2 1.41-.59l7.78-7.78 2.81-2.81c.8-.78.8-2.07 0-2.86zM5.41 20L4 18.59l7.72-7.72 1.47 1.35L5.41 20z\"/>\n",
              "  </svg>\n",
              "      </button>\n",
              "      \n",
              "  <style>\n",
              "    .colab-df-container {\n",
              "      display:flex;\n",
              "      flex-wrap:wrap;\n",
              "      gap: 12px;\n",
              "    }\n",
              "\n",
              "    .colab-df-convert {\n",
              "      background-color: #E8F0FE;\n",
              "      border: none;\n",
              "      border-radius: 50%;\n",
              "      cursor: pointer;\n",
              "      display: none;\n",
              "      fill: #1967D2;\n",
              "      height: 32px;\n",
              "      padding: 0 0 0 0;\n",
              "      width: 32px;\n",
              "    }\n",
              "\n",
              "    .colab-df-convert:hover {\n",
              "      background-color: #E2EBFA;\n",
              "      box-shadow: 0px 1px 2px rgba(60, 64, 67, 0.3), 0px 1px 3px 1px rgba(60, 64, 67, 0.15);\n",
              "      fill: #174EA6;\n",
              "    }\n",
              "\n",
              "    [theme=dark] .colab-df-convert {\n",
              "      background-color: #3B4455;\n",
              "      fill: #D2E3FC;\n",
              "    }\n",
              "\n",
              "    [theme=dark] .colab-df-convert:hover {\n",
              "      background-color: #434B5C;\n",
              "      box-shadow: 0px 1px 3px 1px rgba(0, 0, 0, 0.15);\n",
              "      filter: drop-shadow(0px 1px 2px rgba(0, 0, 0, 0.3));\n",
              "      fill: #FFFFFF;\n",
              "    }\n",
              "  </style>\n",
              "\n",
              "      <script>\n",
              "        const buttonEl =\n",
              "          document.querySelector('#df-2c8bc818-ac85-41f5-8dae-91a0666bb206 button.colab-df-convert');\n",
              "        buttonEl.style.display =\n",
              "          google.colab.kernel.accessAllowed ? 'block' : 'none';\n",
              "\n",
              "        async function convertToInteractive(key) {\n",
              "          const element = document.querySelector('#df-2c8bc818-ac85-41f5-8dae-91a0666bb206');\n",
              "          const dataTable =\n",
              "            await google.colab.kernel.invokeFunction('convertToInteractive',\n",
              "                                                     [key], {});\n",
              "          if (!dataTable) return;\n",
              "\n",
              "          const docLinkHtml = 'Like what you see? Visit the ' +\n",
              "            '<a target=\"_blank\" href=https://colab.research.google.com/notebooks/data_table.ipynb>data table notebook</a>'\n",
              "            + ' to learn more about interactive tables.';\n",
              "          element.innerHTML = '';\n",
              "          dataTable['output_type'] = 'display_data';\n",
              "          await google.colab.output.renderOutput(dataTable, element);\n",
              "          const docLink = document.createElement('div');\n",
              "          docLink.innerHTML = docLinkHtml;\n",
              "          element.appendChild(docLink);\n",
              "        }\n",
              "      </script>\n",
              "    </div>\n",
              "  </div>\n",
              "  "
            ],
            "text/plain": [
              "          id  ...    main_category\n",
              "0  112329645  ...  bach-hoa-online\n",
              "1    2454355  ...  bach-hoa-online\n",
              "2    2454359  ...  bach-hoa-online\n",
              "3    2454353  ...  bach-hoa-online\n",
              "4   98565212  ...  bach-hoa-online\n",
              "\n",
              "[5 rows x 12 columns]"
            ]
          },
          "metadata": {},
          "execution_count": 133
        }
      ]
    },
    {
      "cell_type": "code",
      "source": [
        "full_df = pd.merge(detail_list, overall_list, how='inner', on='id')\n",
        "full_df.head(3)"
      ],
      "metadata": {
        "colab": {
          "base_uri": "https://localhost:8080/",
          "height": 607
        },
        "id": "IFbNqLw4tJ8e",
        "outputId": "9e4a7580-f8d0-4abf-af31-e64e15d5eb23"
      },
      "execution_count": null,
      "outputs": [
        {
          "output_type": "execute_result",
          "data": {
            "text/html": [
              "\n",
              "  <div id=\"df-1e8c5baf-882c-4c7d-bb0d-8ef138dc8968\">\n",
              "    <div class=\"colab-df-container\">\n",
              "      <div>\n",
              "<style scoped>\n",
              "    .dataframe tbody tr th:only-of-type {\n",
              "        vertical-align: middle;\n",
              "    }\n",
              "\n",
              "    .dataframe tbody tr th {\n",
              "        vertical-align: top;\n",
              "    }\n",
              "\n",
              "    .dataframe thead th {\n",
              "        text-align: right;\n",
              "    }\n",
              "</style>\n",
              "<table border=\"1\" class=\"dataframe\">\n",
              "  <thead>\n",
              "    <tr style=\"text-align: right;\">\n",
              "      <th></th>\n",
              "      <th>id</th>\n",
              "      <th>name</th>\n",
              "      <th>category</th>\n",
              "      <th>brand</th>\n",
              "      <th>price</th>\n",
              "      <th>discount</th>\n",
              "      <th>discount_rate</th>\n",
              "      <th>mota</th>\n",
              "      <th>image_url</th>\n",
              "      <th>n_sold</th>\n",
              "      <th>rank</th>\n",
              "      <th>main_category</th>\n",
              "      <th>avg_rating</th>\n",
              "      <th>n_reviews</th>\n",
              "      <th>n_rate_5</th>\n",
              "      <th>n_rate_4</th>\n",
              "      <th>n_rate_3</th>\n",
              "      <th>n_rate_2</th>\n",
              "      <th>n_rate_1</th>\n",
              "      <th>rate_with_img</th>\n",
              "    </tr>\n",
              "  </thead>\n",
              "  <tbody>\n",
              "    <tr>\n",
              "      <th>0</th>\n",
              "      <td>112329645</td>\n",
              "      <td>1 gói Chân Gà CHEF BIGGY Vị Cay</td>\n",
              "      <td>Bách Hóa Online/Đồ Ăn Vặt/Các Loại Đồ Ăn Vặt Khác</td>\n",
              "      <td>CHEF BIGGY</td>\n",
              "      <td>10000</td>\n",
              "      <td>0</td>\n",
              "      <td>0</td>\n",
              "      <td>* Chân Gà CHEF BIGGY Vị Cay \\n- Toàn bộ nguyê...</td>\n",
              "      <td>https://salt.tikicdn.com/cache/280x280/ts/prod...</td>\n",
              "      <td>860.0</td>\n",
              "      <td>1.0</td>\n",
              "      <td>bach-hoa-online</td>\n",
              "      <td>4.5</td>\n",
              "      <td>20</td>\n",
              "      <td>14</td>\n",
              "      <td>3</td>\n",
              "      <td>2</td>\n",
              "      <td>1</td>\n",
              "      <td>0</td>\n",
              "      <td>0</td>\n",
              "    </tr>\n",
              "    <tr>\n",
              "      <th>1</th>\n",
              "      <td>2454355</td>\n",
              "      <td>Thùng 48 Hộp Sữa Chua Lên Men Tự Nhiên Yomost ...</td>\n",
              "      <td>Bách Hóa Online/Sữa và các Sản phẩm từ sữa/Sữa...</td>\n",
              "      <td>Yomost</td>\n",
              "      <td>360000</td>\n",
              "      <td>0</td>\n",
              "      <td>0</td>\n",
              "      <td>\\n\\nThùng 48 Hộp Sữa Chua Lên Men Tự Nhiên Yom...</td>\n",
              "      <td>https://salt.tikicdn.com/cache/280x280/ts/prod...</td>\n",
              "      <td>2788.0</td>\n",
              "      <td>1.0</td>\n",
              "      <td>bach-hoa-online</td>\n",
              "      <td>4.7</td>\n",
              "      <td>365</td>\n",
              "      <td>309</td>\n",
              "      <td>38</td>\n",
              "      <td>4</td>\n",
              "      <td>4</td>\n",
              "      <td>10</td>\n",
              "      <td>60</td>\n",
              "    </tr>\n",
              "    <tr>\n",
              "      <th>2</th>\n",
              "      <td>2454359</td>\n",
              "      <td>Thùng 48 Hộp Sữa Chua Lên Men Tự Nhiên Yomost ...</td>\n",
              "      <td>Bách Hóa Online/Sữa và các Sản phẩm từ sữa/Sữa...</td>\n",
              "      <td>Yomost</td>\n",
              "      <td>360000</td>\n",
              "      <td>0</td>\n",
              "      <td>0</td>\n",
              "      <td>\\n\\nThùng 48 Hộp Sữa Chua Lên Men Tự Nhiên Yom...</td>\n",
              "      <td>https://salt.tikicdn.com/cache/280x280/ts/prod...</td>\n",
              "      <td>1591.0</td>\n",
              "      <td>9.0</td>\n",
              "      <td>bach-hoa-online</td>\n",
              "      <td>4.8</td>\n",
              "      <td>432</td>\n",
              "      <td>383</td>\n",
              "      <td>26</td>\n",
              "      <td>11</td>\n",
              "      <td>2</td>\n",
              "      <td>10</td>\n",
              "      <td>58</td>\n",
              "    </tr>\n",
              "  </tbody>\n",
              "</table>\n",
              "</div>\n",
              "      <button class=\"colab-df-convert\" onclick=\"convertToInteractive('df-1e8c5baf-882c-4c7d-bb0d-8ef138dc8968')\"\n",
              "              title=\"Convert this dataframe to an interactive table.\"\n",
              "              style=\"display:none;\">\n",
              "        \n",
              "  <svg xmlns=\"http://www.w3.org/2000/svg\" height=\"24px\"viewBox=\"0 0 24 24\"\n",
              "       width=\"24px\">\n",
              "    <path d=\"M0 0h24v24H0V0z\" fill=\"none\"/>\n",
              "    <path d=\"M18.56 5.44l.94 2.06.94-2.06 2.06-.94-2.06-.94-.94-2.06-.94 2.06-2.06.94zm-11 1L8.5 8.5l.94-2.06 2.06-.94-2.06-.94L8.5 2.5l-.94 2.06-2.06.94zm10 10l.94 2.06.94-2.06 2.06-.94-2.06-.94-.94-2.06-.94 2.06-2.06.94z\"/><path d=\"M17.41 7.96l-1.37-1.37c-.4-.4-.92-.59-1.43-.59-.52 0-1.04.2-1.43.59L10.3 9.45l-7.72 7.72c-.78.78-.78 2.05 0 2.83L4 21.41c.39.39.9.59 1.41.59.51 0 1.02-.2 1.41-.59l7.78-7.78 2.81-2.81c.8-.78.8-2.07 0-2.86zM5.41 20L4 18.59l7.72-7.72 1.47 1.35L5.41 20z\"/>\n",
              "  </svg>\n",
              "      </button>\n",
              "      \n",
              "  <style>\n",
              "    .colab-df-container {\n",
              "      display:flex;\n",
              "      flex-wrap:wrap;\n",
              "      gap: 12px;\n",
              "    }\n",
              "\n",
              "    .colab-df-convert {\n",
              "      background-color: #E8F0FE;\n",
              "      border: none;\n",
              "      border-radius: 50%;\n",
              "      cursor: pointer;\n",
              "      display: none;\n",
              "      fill: #1967D2;\n",
              "      height: 32px;\n",
              "      padding: 0 0 0 0;\n",
              "      width: 32px;\n",
              "    }\n",
              "\n",
              "    .colab-df-convert:hover {\n",
              "      background-color: #E2EBFA;\n",
              "      box-shadow: 0px 1px 2px rgba(60, 64, 67, 0.3), 0px 1px 3px 1px rgba(60, 64, 67, 0.15);\n",
              "      fill: #174EA6;\n",
              "    }\n",
              "\n",
              "    [theme=dark] .colab-df-convert {\n",
              "      background-color: #3B4455;\n",
              "      fill: #D2E3FC;\n",
              "    }\n",
              "\n",
              "    [theme=dark] .colab-df-convert:hover {\n",
              "      background-color: #434B5C;\n",
              "      box-shadow: 0px 1px 3px 1px rgba(0, 0, 0, 0.15);\n",
              "      filter: drop-shadow(0px 1px 2px rgba(0, 0, 0, 0.3));\n",
              "      fill: #FFFFFF;\n",
              "    }\n",
              "  </style>\n",
              "\n",
              "      <script>\n",
              "        const buttonEl =\n",
              "          document.querySelector('#df-1e8c5baf-882c-4c7d-bb0d-8ef138dc8968 button.colab-df-convert');\n",
              "        buttonEl.style.display =\n",
              "          google.colab.kernel.accessAllowed ? 'block' : 'none';\n",
              "\n",
              "        async function convertToInteractive(key) {\n",
              "          const element = document.querySelector('#df-1e8c5baf-882c-4c7d-bb0d-8ef138dc8968');\n",
              "          const dataTable =\n",
              "            await google.colab.kernel.invokeFunction('convertToInteractive',\n",
              "                                                     [key], {});\n",
              "          if (!dataTable) return;\n",
              "\n",
              "          const docLinkHtml = 'Like what you see? Visit the ' +\n",
              "            '<a target=\"_blank\" href=https://colab.research.google.com/notebooks/data_table.ipynb>data table notebook</a>'\n",
              "            + ' to learn more about interactive tables.';\n",
              "          element.innerHTML = '';\n",
              "          dataTable['output_type'] = 'display_data';\n",
              "          await google.colab.output.renderOutput(dataTable, element);\n",
              "          const docLink = document.createElement('div');\n",
              "          docLink.innerHTML = docLinkHtml;\n",
              "          element.appendChild(docLink);\n",
              "        }\n",
              "      </script>\n",
              "    </div>\n",
              "  </div>\n",
              "  "
            ],
            "text/plain": [
              "          id  ... rate_with_img\n",
              "0  112329645  ...             0\n",
              "1    2454355  ...            60\n",
              "2    2454359  ...            58\n",
              "\n",
              "[3 rows x 20 columns]"
            ]
          },
          "metadata": {},
          "execution_count": 134
        }
      ]
    },
    {
      "cell_type": "code",
      "source": [
        "full_df.dropna(subset=['n_sold'], inplace=True)"
      ],
      "metadata": {
        "id": "V0R7a4vnvSl-"
      },
      "execution_count": null,
      "outputs": []
    },
    {
      "cell_type": "code",
      "source": [
        "full_df.info()"
      ],
      "metadata": {
        "colab": {
          "base_uri": "https://localhost:8080/"
        },
        "id": "cRCWjtqltK11",
        "outputId": "583766bf-72ba-4757-ff15-3c11ad674de4"
      },
      "execution_count": null,
      "outputs": [
        {
          "output_type": "stream",
          "name": "stdout",
          "text": [
            "<class 'pandas.core.frame.DataFrame'>\n",
            "Int64Index: 22958 entries, 0 to 24778\n",
            "Data columns (total 20 columns):\n",
            " #   Column         Non-Null Count  Dtype  \n",
            "---  ------         --------------  -----  \n",
            " 0   id             22958 non-null  int64  \n",
            " 1   name           22958 non-null  object \n",
            " 2   category       22958 non-null  object \n",
            " 3   brand          21270 non-null  object \n",
            " 4   price          22958 non-null  int64  \n",
            " 5   discount       22958 non-null  int64  \n",
            " 6   discount_rate  22958 non-null  int64  \n",
            " 7   mota           22956 non-null  object \n",
            " 8   image_url      22958 non-null  object \n",
            " 9   n_sold         22958 non-null  float64\n",
            " 10  rank           15592 non-null  float64\n",
            " 11  main_category  22958 non-null  object \n",
            " 12  avg_rating     22958 non-null  float64\n",
            " 13  n_reviews      22958 non-null  int64  \n",
            " 14  n_rate_5       22958 non-null  int64  \n",
            " 15  n_rate_4       22958 non-null  int64  \n",
            " 16  n_rate_3       22958 non-null  int64  \n",
            " 17  n_rate_2       22958 non-null  int64  \n",
            " 18  n_rate_1       22958 non-null  int64  \n",
            " 19  rate_with_img  22958 non-null  int64  \n",
            "dtypes: float64(3), int64(11), object(6)\n",
            "memory usage: 3.7+ MB\n"
          ]
        }
      ]
    },
    {
      "cell_type": "code",
      "source": [
        "full_df.loc[full_df['price'].isnull()]"
      ],
      "metadata": {
        "colab": {
          "base_uri": "https://localhost:8080/",
          "height": 93
        },
        "id": "CqYPrNVZtN8G",
        "outputId": "56b0d297-21ce-478b-9b73-a611e11ad347"
      },
      "execution_count": null,
      "outputs": [
        {
          "output_type": "execute_result",
          "data": {
            "text/html": [
              "\n",
              "  <div id=\"df-73cb703b-ced2-463b-aed4-35b3233b73db\">\n",
              "    <div class=\"colab-df-container\">\n",
              "      <div>\n",
              "<style scoped>\n",
              "    .dataframe tbody tr th:only-of-type {\n",
              "        vertical-align: middle;\n",
              "    }\n",
              "\n",
              "    .dataframe tbody tr th {\n",
              "        vertical-align: top;\n",
              "    }\n",
              "\n",
              "    .dataframe thead th {\n",
              "        text-align: right;\n",
              "    }\n",
              "</style>\n",
              "<table border=\"1\" class=\"dataframe\">\n",
              "  <thead>\n",
              "    <tr style=\"text-align: right;\">\n",
              "      <th></th>\n",
              "      <th>id</th>\n",
              "      <th>name</th>\n",
              "      <th>category</th>\n",
              "      <th>brand</th>\n",
              "      <th>price</th>\n",
              "      <th>discount</th>\n",
              "      <th>discount_rate</th>\n",
              "      <th>mota</th>\n",
              "      <th>image_url</th>\n",
              "      <th>n_sold</th>\n",
              "      <th>rank</th>\n",
              "      <th>main_category</th>\n",
              "      <th>avg_rating</th>\n",
              "      <th>n_reviews</th>\n",
              "      <th>n_rate_5</th>\n",
              "      <th>n_rate_4</th>\n",
              "      <th>n_rate_3</th>\n",
              "      <th>n_rate_2</th>\n",
              "      <th>n_rate_1</th>\n",
              "      <th>rate_with_img</th>\n",
              "    </tr>\n",
              "  </thead>\n",
              "  <tbody>\n",
              "  </tbody>\n",
              "</table>\n",
              "</div>\n",
              "      <button class=\"colab-df-convert\" onclick=\"convertToInteractive('df-73cb703b-ced2-463b-aed4-35b3233b73db')\"\n",
              "              title=\"Convert this dataframe to an interactive table.\"\n",
              "              style=\"display:none;\">\n",
              "        \n",
              "  <svg xmlns=\"http://www.w3.org/2000/svg\" height=\"24px\"viewBox=\"0 0 24 24\"\n",
              "       width=\"24px\">\n",
              "    <path d=\"M0 0h24v24H0V0z\" fill=\"none\"/>\n",
              "    <path d=\"M18.56 5.44l.94 2.06.94-2.06 2.06-.94-2.06-.94-.94-2.06-.94 2.06-2.06.94zm-11 1L8.5 8.5l.94-2.06 2.06-.94-2.06-.94L8.5 2.5l-.94 2.06-2.06.94zm10 10l.94 2.06.94-2.06 2.06-.94-2.06-.94-.94-2.06-.94 2.06-2.06.94z\"/><path d=\"M17.41 7.96l-1.37-1.37c-.4-.4-.92-.59-1.43-.59-.52 0-1.04.2-1.43.59L10.3 9.45l-7.72 7.72c-.78.78-.78 2.05 0 2.83L4 21.41c.39.39.9.59 1.41.59.51 0 1.02-.2 1.41-.59l7.78-7.78 2.81-2.81c.8-.78.8-2.07 0-2.86zM5.41 20L4 18.59l7.72-7.72 1.47 1.35L5.41 20z\"/>\n",
              "  </svg>\n",
              "      </button>\n",
              "      \n",
              "  <style>\n",
              "    .colab-df-container {\n",
              "      display:flex;\n",
              "      flex-wrap:wrap;\n",
              "      gap: 12px;\n",
              "    }\n",
              "\n",
              "    .colab-df-convert {\n",
              "      background-color: #E8F0FE;\n",
              "      border: none;\n",
              "      border-radius: 50%;\n",
              "      cursor: pointer;\n",
              "      display: none;\n",
              "      fill: #1967D2;\n",
              "      height: 32px;\n",
              "      padding: 0 0 0 0;\n",
              "      width: 32px;\n",
              "    }\n",
              "\n",
              "    .colab-df-convert:hover {\n",
              "      background-color: #E2EBFA;\n",
              "      box-shadow: 0px 1px 2px rgba(60, 64, 67, 0.3), 0px 1px 3px 1px rgba(60, 64, 67, 0.15);\n",
              "      fill: #174EA6;\n",
              "    }\n",
              "\n",
              "    [theme=dark] .colab-df-convert {\n",
              "      background-color: #3B4455;\n",
              "      fill: #D2E3FC;\n",
              "    }\n",
              "\n",
              "    [theme=dark] .colab-df-convert:hover {\n",
              "      background-color: #434B5C;\n",
              "      box-shadow: 0px 1px 3px 1px rgba(0, 0, 0, 0.15);\n",
              "      filter: drop-shadow(0px 1px 2px rgba(0, 0, 0, 0.3));\n",
              "      fill: #FFFFFF;\n",
              "    }\n",
              "  </style>\n",
              "\n",
              "      <script>\n",
              "        const buttonEl =\n",
              "          document.querySelector('#df-73cb703b-ced2-463b-aed4-35b3233b73db button.colab-df-convert');\n",
              "        buttonEl.style.display =\n",
              "          google.colab.kernel.accessAllowed ? 'block' : 'none';\n",
              "\n",
              "        async function convertToInteractive(key) {\n",
              "          const element = document.querySelector('#df-73cb703b-ced2-463b-aed4-35b3233b73db');\n",
              "          const dataTable =\n",
              "            await google.colab.kernel.invokeFunction('convertToInteractive',\n",
              "                                                     [key], {});\n",
              "          if (!dataTable) return;\n",
              "\n",
              "          const docLinkHtml = 'Like what you see? Visit the ' +\n",
              "            '<a target=\"_blank\" href=https://colab.research.google.com/notebooks/data_table.ipynb>data table notebook</a>'\n",
              "            + ' to learn more about interactive tables.';\n",
              "          element.innerHTML = '';\n",
              "          dataTable['output_type'] = 'display_data';\n",
              "          await google.colab.output.renderOutput(dataTable, element);\n",
              "          const docLink = document.createElement('div');\n",
              "          docLink.innerHTML = docLinkHtml;\n",
              "          element.appendChild(docLink);\n",
              "        }\n",
              "      </script>\n",
              "    </div>\n",
              "  </div>\n",
              "  "
            ],
            "text/plain": [
              "Empty DataFrame\n",
              "Columns: [id, name, category, brand, price, discount, discount_rate, mota, image_url, n_sold, rank, main_category, avg_rating, n_reviews, n_rate_5, n_rate_4, n_rate_3, n_rate_2, n_rate_1, rate_with_img]\n",
              "Index: []"
            ]
          },
          "metadata": {},
          "execution_count": 137
        }
      ]
    },
    {
      "cell_type": "code",
      "source": [
        "full_df.loc[full_df['avg_rating'].isnull()]"
      ],
      "metadata": {
        "colab": {
          "base_uri": "https://localhost:8080/",
          "height": 93
        },
        "id": "Xb14fXbctPGn",
        "outputId": "d9656863-f7e7-4619-b5e7-bffeff0a8819"
      },
      "execution_count": null,
      "outputs": [
        {
          "output_type": "execute_result",
          "data": {
            "text/html": [
              "\n",
              "  <div id=\"df-b1aa95db-d19a-41cf-bf4c-fc0b91d2f697\">\n",
              "    <div class=\"colab-df-container\">\n",
              "      <div>\n",
              "<style scoped>\n",
              "    .dataframe tbody tr th:only-of-type {\n",
              "        vertical-align: middle;\n",
              "    }\n",
              "\n",
              "    .dataframe tbody tr th {\n",
              "        vertical-align: top;\n",
              "    }\n",
              "\n",
              "    .dataframe thead th {\n",
              "        text-align: right;\n",
              "    }\n",
              "</style>\n",
              "<table border=\"1\" class=\"dataframe\">\n",
              "  <thead>\n",
              "    <tr style=\"text-align: right;\">\n",
              "      <th></th>\n",
              "      <th>id</th>\n",
              "      <th>name</th>\n",
              "      <th>category</th>\n",
              "      <th>brand</th>\n",
              "      <th>price</th>\n",
              "      <th>discount</th>\n",
              "      <th>discount_rate</th>\n",
              "      <th>mota</th>\n",
              "      <th>image_url</th>\n",
              "      <th>n_sold</th>\n",
              "      <th>rank</th>\n",
              "      <th>main_category</th>\n",
              "      <th>avg_rating</th>\n",
              "      <th>n_reviews</th>\n",
              "      <th>n_rate_5</th>\n",
              "      <th>n_rate_4</th>\n",
              "      <th>n_rate_3</th>\n",
              "      <th>n_rate_2</th>\n",
              "      <th>n_rate_1</th>\n",
              "      <th>rate_with_img</th>\n",
              "    </tr>\n",
              "  </thead>\n",
              "  <tbody>\n",
              "  </tbody>\n",
              "</table>\n",
              "</div>\n",
              "      <button class=\"colab-df-convert\" onclick=\"convertToInteractive('df-b1aa95db-d19a-41cf-bf4c-fc0b91d2f697')\"\n",
              "              title=\"Convert this dataframe to an interactive table.\"\n",
              "              style=\"display:none;\">\n",
              "        \n",
              "  <svg xmlns=\"http://www.w3.org/2000/svg\" height=\"24px\"viewBox=\"0 0 24 24\"\n",
              "       width=\"24px\">\n",
              "    <path d=\"M0 0h24v24H0V0z\" fill=\"none\"/>\n",
              "    <path d=\"M18.56 5.44l.94 2.06.94-2.06 2.06-.94-2.06-.94-.94-2.06-.94 2.06-2.06.94zm-11 1L8.5 8.5l.94-2.06 2.06-.94-2.06-.94L8.5 2.5l-.94 2.06-2.06.94zm10 10l.94 2.06.94-2.06 2.06-.94-2.06-.94-.94-2.06-.94 2.06-2.06.94z\"/><path d=\"M17.41 7.96l-1.37-1.37c-.4-.4-.92-.59-1.43-.59-.52 0-1.04.2-1.43.59L10.3 9.45l-7.72 7.72c-.78.78-.78 2.05 0 2.83L4 21.41c.39.39.9.59 1.41.59.51 0 1.02-.2 1.41-.59l7.78-7.78 2.81-2.81c.8-.78.8-2.07 0-2.86zM5.41 20L4 18.59l7.72-7.72 1.47 1.35L5.41 20z\"/>\n",
              "  </svg>\n",
              "      </button>\n",
              "      \n",
              "  <style>\n",
              "    .colab-df-container {\n",
              "      display:flex;\n",
              "      flex-wrap:wrap;\n",
              "      gap: 12px;\n",
              "    }\n",
              "\n",
              "    .colab-df-convert {\n",
              "      background-color: #E8F0FE;\n",
              "      border: none;\n",
              "      border-radius: 50%;\n",
              "      cursor: pointer;\n",
              "      display: none;\n",
              "      fill: #1967D2;\n",
              "      height: 32px;\n",
              "      padding: 0 0 0 0;\n",
              "      width: 32px;\n",
              "    }\n",
              "\n",
              "    .colab-df-convert:hover {\n",
              "      background-color: #E2EBFA;\n",
              "      box-shadow: 0px 1px 2px rgba(60, 64, 67, 0.3), 0px 1px 3px 1px rgba(60, 64, 67, 0.15);\n",
              "      fill: #174EA6;\n",
              "    }\n",
              "\n",
              "    [theme=dark] .colab-df-convert {\n",
              "      background-color: #3B4455;\n",
              "      fill: #D2E3FC;\n",
              "    }\n",
              "\n",
              "    [theme=dark] .colab-df-convert:hover {\n",
              "      background-color: #434B5C;\n",
              "      box-shadow: 0px 1px 3px 1px rgba(0, 0, 0, 0.15);\n",
              "      filter: drop-shadow(0px 1px 2px rgba(0, 0, 0, 0.3));\n",
              "      fill: #FFFFFF;\n",
              "    }\n",
              "  </style>\n",
              "\n",
              "      <script>\n",
              "        const buttonEl =\n",
              "          document.querySelector('#df-b1aa95db-d19a-41cf-bf4c-fc0b91d2f697 button.colab-df-convert');\n",
              "        buttonEl.style.display =\n",
              "          google.colab.kernel.accessAllowed ? 'block' : 'none';\n",
              "\n",
              "        async function convertToInteractive(key) {\n",
              "          const element = document.querySelector('#df-b1aa95db-d19a-41cf-bf4c-fc0b91d2f697');\n",
              "          const dataTable =\n",
              "            await google.colab.kernel.invokeFunction('convertToInteractive',\n",
              "                                                     [key], {});\n",
              "          if (!dataTable) return;\n",
              "\n",
              "          const docLinkHtml = 'Like what you see? Visit the ' +\n",
              "            '<a target=\"_blank\" href=https://colab.research.google.com/notebooks/data_table.ipynb>data table notebook</a>'\n",
              "            + ' to learn more about interactive tables.';\n",
              "          element.innerHTML = '';\n",
              "          dataTable['output_type'] = 'display_data';\n",
              "          await google.colab.output.renderOutput(dataTable, element);\n",
              "          const docLink = document.createElement('div');\n",
              "          docLink.innerHTML = docLinkHtml;\n",
              "          element.appendChild(docLink);\n",
              "        }\n",
              "      </script>\n",
              "    </div>\n",
              "  </div>\n",
              "  "
            ],
            "text/plain": [
              "Empty DataFrame\n",
              "Columns: [id, name, category, brand, price, discount, discount_rate, mota, image_url, n_sold, rank, main_category, avg_rating, n_reviews, n_rate_5, n_rate_4, n_rate_3, n_rate_2, n_rate_1, rate_with_img]\n",
              "Index: []"
            ]
          },
          "metadata": {},
          "execution_count": 138
        }
      ]
    },
    {
      "cell_type": "code",
      "source": [
        ""
      ],
      "metadata": {
        "id": "tOfLUSD-vGCC"
      },
      "execution_count": null,
      "outputs": []
    },
    {
      "cell_type": "code",
      "source": [
        "full_df.loc[full_df['n_reviews'].isnull()]"
      ],
      "metadata": {
        "colab": {
          "base_uri": "https://localhost:8080/",
          "height": 93
        },
        "id": "3aLs3kp5tRpG",
        "outputId": "e1ea39c7-3f92-4c62-cfb5-49e956517203"
      },
      "execution_count": null,
      "outputs": [
        {
          "output_type": "execute_result",
          "data": {
            "text/html": [
              "\n",
              "  <div id=\"df-7706e7e5-5cfb-49ad-93c7-ffaac7c74142\">\n",
              "    <div class=\"colab-df-container\">\n",
              "      <div>\n",
              "<style scoped>\n",
              "    .dataframe tbody tr th:only-of-type {\n",
              "        vertical-align: middle;\n",
              "    }\n",
              "\n",
              "    .dataframe tbody tr th {\n",
              "        vertical-align: top;\n",
              "    }\n",
              "\n",
              "    .dataframe thead th {\n",
              "        text-align: right;\n",
              "    }\n",
              "</style>\n",
              "<table border=\"1\" class=\"dataframe\">\n",
              "  <thead>\n",
              "    <tr style=\"text-align: right;\">\n",
              "      <th></th>\n",
              "      <th>id</th>\n",
              "      <th>name</th>\n",
              "      <th>category</th>\n",
              "      <th>brand</th>\n",
              "      <th>price</th>\n",
              "      <th>discount</th>\n",
              "      <th>discount_rate</th>\n",
              "      <th>mota</th>\n",
              "      <th>image_url</th>\n",
              "      <th>n_sold</th>\n",
              "      <th>rank</th>\n",
              "      <th>main_category</th>\n",
              "      <th>avg_rating</th>\n",
              "      <th>n_reviews</th>\n",
              "      <th>n_rate_5</th>\n",
              "      <th>n_rate_4</th>\n",
              "      <th>n_rate_3</th>\n",
              "      <th>n_rate_2</th>\n",
              "      <th>n_rate_1</th>\n",
              "      <th>rate_with_img</th>\n",
              "    </tr>\n",
              "  </thead>\n",
              "  <tbody>\n",
              "  </tbody>\n",
              "</table>\n",
              "</div>\n",
              "      <button class=\"colab-df-convert\" onclick=\"convertToInteractive('df-7706e7e5-5cfb-49ad-93c7-ffaac7c74142')\"\n",
              "              title=\"Convert this dataframe to an interactive table.\"\n",
              "              style=\"display:none;\">\n",
              "        \n",
              "  <svg xmlns=\"http://www.w3.org/2000/svg\" height=\"24px\"viewBox=\"0 0 24 24\"\n",
              "       width=\"24px\">\n",
              "    <path d=\"M0 0h24v24H0V0z\" fill=\"none\"/>\n",
              "    <path d=\"M18.56 5.44l.94 2.06.94-2.06 2.06-.94-2.06-.94-.94-2.06-.94 2.06-2.06.94zm-11 1L8.5 8.5l.94-2.06 2.06-.94-2.06-.94L8.5 2.5l-.94 2.06-2.06.94zm10 10l.94 2.06.94-2.06 2.06-.94-2.06-.94-.94-2.06-.94 2.06-2.06.94z\"/><path d=\"M17.41 7.96l-1.37-1.37c-.4-.4-.92-.59-1.43-.59-.52 0-1.04.2-1.43.59L10.3 9.45l-7.72 7.72c-.78.78-.78 2.05 0 2.83L4 21.41c.39.39.9.59 1.41.59.51 0 1.02-.2 1.41-.59l7.78-7.78 2.81-2.81c.8-.78.8-2.07 0-2.86zM5.41 20L4 18.59l7.72-7.72 1.47 1.35L5.41 20z\"/>\n",
              "  </svg>\n",
              "      </button>\n",
              "      \n",
              "  <style>\n",
              "    .colab-df-container {\n",
              "      display:flex;\n",
              "      flex-wrap:wrap;\n",
              "      gap: 12px;\n",
              "    }\n",
              "\n",
              "    .colab-df-convert {\n",
              "      background-color: #E8F0FE;\n",
              "      border: none;\n",
              "      border-radius: 50%;\n",
              "      cursor: pointer;\n",
              "      display: none;\n",
              "      fill: #1967D2;\n",
              "      height: 32px;\n",
              "      padding: 0 0 0 0;\n",
              "      width: 32px;\n",
              "    }\n",
              "\n",
              "    .colab-df-convert:hover {\n",
              "      background-color: #E2EBFA;\n",
              "      box-shadow: 0px 1px 2px rgba(60, 64, 67, 0.3), 0px 1px 3px 1px rgba(60, 64, 67, 0.15);\n",
              "      fill: #174EA6;\n",
              "    }\n",
              "\n",
              "    [theme=dark] .colab-df-convert {\n",
              "      background-color: #3B4455;\n",
              "      fill: #D2E3FC;\n",
              "    }\n",
              "\n",
              "    [theme=dark] .colab-df-convert:hover {\n",
              "      background-color: #434B5C;\n",
              "      box-shadow: 0px 1px 3px 1px rgba(0, 0, 0, 0.15);\n",
              "      filter: drop-shadow(0px 1px 2px rgba(0, 0, 0, 0.3));\n",
              "      fill: #FFFFFF;\n",
              "    }\n",
              "  </style>\n",
              "\n",
              "      <script>\n",
              "        const buttonEl =\n",
              "          document.querySelector('#df-7706e7e5-5cfb-49ad-93c7-ffaac7c74142 button.colab-df-convert');\n",
              "        buttonEl.style.display =\n",
              "          google.colab.kernel.accessAllowed ? 'block' : 'none';\n",
              "\n",
              "        async function convertToInteractive(key) {\n",
              "          const element = document.querySelector('#df-7706e7e5-5cfb-49ad-93c7-ffaac7c74142');\n",
              "          const dataTable =\n",
              "            await google.colab.kernel.invokeFunction('convertToInteractive',\n",
              "                                                     [key], {});\n",
              "          if (!dataTable) return;\n",
              "\n",
              "          const docLinkHtml = 'Like what you see? Visit the ' +\n",
              "            '<a target=\"_blank\" href=https://colab.research.google.com/notebooks/data_table.ipynb>data table notebook</a>'\n",
              "            + ' to learn more about interactive tables.';\n",
              "          element.innerHTML = '';\n",
              "          dataTable['output_type'] = 'display_data';\n",
              "          await google.colab.output.renderOutput(dataTable, element);\n",
              "          const docLink = document.createElement('div');\n",
              "          docLink.innerHTML = docLinkHtml;\n",
              "          element.appendChild(docLink);\n",
              "        }\n",
              "      </script>\n",
              "    </div>\n",
              "  </div>\n",
              "  "
            ],
            "text/plain": [
              "Empty DataFrame\n",
              "Columns: [id, name, category, brand, price, discount, discount_rate, mota, image_url, n_sold, rank, main_category, avg_rating, n_reviews, n_rate_5, n_rate_4, n_rate_3, n_rate_2, n_rate_1, rate_with_img]\n",
              "Index: []"
            ]
          },
          "metadata": {},
          "execution_count": 139
        }
      ]
    },
    {
      "cell_type": "code",
      "source": [
        "full_df.loc[full_df['rank'].isnull()]"
      ],
      "metadata": {
        "colab": {
          "base_uri": "https://localhost:8080/",
          "height": 1000
        },
        "id": "mTeAGD6ZtTM-",
        "outputId": "8bf0ea2c-03f8-4141-e1ad-96d446e1effb"
      },
      "execution_count": null,
      "outputs": [
        {
          "output_type": "execute_result",
          "data": {
            "text/html": [
              "\n",
              "  <div id=\"df-f780d0e7-4562-48fd-907d-424323fd5871\">\n",
              "    <div class=\"colab-df-container\">\n",
              "      <div>\n",
              "<style scoped>\n",
              "    .dataframe tbody tr th:only-of-type {\n",
              "        vertical-align: middle;\n",
              "    }\n",
              "\n",
              "    .dataframe tbody tr th {\n",
              "        vertical-align: top;\n",
              "    }\n",
              "\n",
              "    .dataframe thead th {\n",
              "        text-align: right;\n",
              "    }\n",
              "</style>\n",
              "<table border=\"1\" class=\"dataframe\">\n",
              "  <thead>\n",
              "    <tr style=\"text-align: right;\">\n",
              "      <th></th>\n",
              "      <th>id</th>\n",
              "      <th>name</th>\n",
              "      <th>category</th>\n",
              "      <th>brand</th>\n",
              "      <th>price</th>\n",
              "      <th>discount</th>\n",
              "      <th>discount_rate</th>\n",
              "      <th>mota</th>\n",
              "      <th>image_url</th>\n",
              "      <th>n_sold</th>\n",
              "      <th>rank</th>\n",
              "      <th>main_category</th>\n",
              "      <th>avg_rating</th>\n",
              "      <th>n_reviews</th>\n",
              "      <th>n_rate_5</th>\n",
              "      <th>n_rate_4</th>\n",
              "      <th>n_rate_3</th>\n",
              "      <th>n_rate_2</th>\n",
              "      <th>n_rate_1</th>\n",
              "      <th>rate_with_img</th>\n",
              "    </tr>\n",
              "  </thead>\n",
              "  <tbody>\n",
              "    <tr>\n",
              "      <th>9</th>\n",
              "      <td>98190526</td>\n",
              "      <td>Nấm Hương Khô Cao Bằng 100g</td>\n",
              "      <td>Bách Hóa Online/Thực phẩm Đóng hộp và Khô/Thực...</td>\n",
              "      <td>3S</td>\n",
              "      <td>35000</td>\n",
              "      <td>0</td>\n",
              "      <td>0</td>\n",
              "      <td>Nấm hương khô Cao Bằng loại đặc biệt, nấm hươn...</td>\n",
              "      <td>https://salt.tikicdn.com/cache/280x280/ts/prod...</td>\n",
              "      <td>375.0</td>\n",
              "      <td>NaN</td>\n",
              "      <td>bach-hoa-online</td>\n",
              "      <td>4.5</td>\n",
              "      <td>34</td>\n",
              "      <td>23</td>\n",
              "      <td>9</td>\n",
              "      <td>0</td>\n",
              "      <td>1</td>\n",
              "      <td>1</td>\n",
              "      <td>3</td>\n",
              "    </tr>\n",
              "    <tr>\n",
              "      <th>28</th>\n",
              "      <td>54076939</td>\n",
              "      <td>Nhà Gỗ Gác Mái Hiện Đại Và Sang Trọng Dành Cho...</td>\n",
              "      <td>Bách Hóa Online/Chăm sóc thú cưng/Phụ kiện thú...</td>\n",
              "      <td>OEM</td>\n",
              "      <td>900000</td>\n",
              "      <td>0</td>\n",
              "      <td>0</td>\n",
              "      <td>Nhà Gỗ Chó Mèo Gác Mái DH001\\nNhà gỗ cho chó D...</td>\n",
              "      <td>https://salt.tikicdn.com/cache/280x280/ts/prod...</td>\n",
              "      <td>7.0</td>\n",
              "      <td>NaN</td>\n",
              "      <td>bach-hoa-online</td>\n",
              "      <td>4.8</td>\n",
              "      <td>4</td>\n",
              "      <td>3</td>\n",
              "      <td>1</td>\n",
              "      <td>0</td>\n",
              "      <td>0</td>\n",
              "      <td>0</td>\n",
              "      <td>0</td>\n",
              "    </tr>\n",
              "    <tr>\n",
              "      <th>56</th>\n",
              "      <td>2287771</td>\n",
              "      <td>Lốc 6 Chai Nước Giải Khát Mirinda Cam (390ml/c...</td>\n",
              "      <td>Bách Hóa Online/Đồ Uống Không Cồn/Đồ uống có g...</td>\n",
              "      <td>Mirinda</td>\n",
              "      <td>35000</td>\n",
              "      <td>15000</td>\n",
              "      <td>30</td>\n",
              "      <td>Được sản xuất trên dây chuyền hiện đại, không ...</td>\n",
              "      <td>https://salt.tikicdn.com/cache/280x280/media/c...</td>\n",
              "      <td>189.0</td>\n",
              "      <td>NaN</td>\n",
              "      <td>bach-hoa-online</td>\n",
              "      <td>4.9</td>\n",
              "      <td>9</td>\n",
              "      <td>8</td>\n",
              "      <td>1</td>\n",
              "      <td>0</td>\n",
              "      <td>0</td>\n",
              "      <td>0</td>\n",
              "      <td>1</td>\n",
              "    </tr>\n",
              "    <tr>\n",
              "      <th>71</th>\n",
              "      <td>114684809</td>\n",
              "      <td>[Lốc (06) chai 350ml] Bibabibo Sữa Cam, sữa tr...</td>\n",
              "      <td>Bách Hóa Online/Sữa và các Sản phẩm từ sữa/Sữa...</td>\n",
              "      <td>BibaBibo</td>\n",
              "      <td>66000</td>\n",
              "      <td>0</td>\n",
              "      <td>0</td>\n",
              "      <td>Sữa trái cây Bibabibô cam kết về chất lượng sả...</td>\n",
              "      <td>https://salt.tikicdn.com/cache/280x280/ts/prod...</td>\n",
              "      <td>2.0</td>\n",
              "      <td>NaN</td>\n",
              "      <td>bach-hoa-online</td>\n",
              "      <td>5.0</td>\n",
              "      <td>1</td>\n",
              "      <td>1</td>\n",
              "      <td>0</td>\n",
              "      <td>0</td>\n",
              "      <td>0</td>\n",
              "      <td>0</td>\n",
              "      <td>0</td>\n",
              "    </tr>\n",
              "    <tr>\n",
              "      <th>78</th>\n",
              "      <td>21224416</td>\n",
              "      <td>Lưới Khử Mùi Bồn Tiểu Nam &amp; Ống Cống - Wave Fr...</td>\n",
              "      <td>Bách Hóa Online/Chăm sóc nhà cửa/Vệ sinh nhà c...</td>\n",
              "      <td>Fresh</td>\n",
              "      <td>74000</td>\n",
              "      <td>0</td>\n",
              "      <td>0</td>\n",
              "      <td>Sản phẩm có 2 thành phần quan trọng: hoạt tính...</td>\n",
              "      <td>https://salt.tikicdn.com/cache/280x280/ts/prod...</td>\n",
              "      <td>394.0</td>\n",
              "      <td>NaN</td>\n",
              "      <td>bach-hoa-online</td>\n",
              "      <td>4.6</td>\n",
              "      <td>38</td>\n",
              "      <td>30</td>\n",
              "      <td>4</td>\n",
              "      <td>2</td>\n",
              "      <td>0</td>\n",
              "      <td>2</td>\n",
              "      <td>3</td>\n",
              "    </tr>\n",
              "    <tr>\n",
              "      <th>...</th>\n",
              "      <td>...</td>\n",
              "      <td>...</td>\n",
              "      <td>...</td>\n",
              "      <td>...</td>\n",
              "      <td>...</td>\n",
              "      <td>...</td>\n",
              "      <td>...</td>\n",
              "      <td>...</td>\n",
              "      <td>...</td>\n",
              "      <td>...</td>\n",
              "      <td>...</td>\n",
              "      <td>...</td>\n",
              "      <td>...</td>\n",
              "      <td>...</td>\n",
              "      <td>...</td>\n",
              "      <td>...</td>\n",
              "      <td>...</td>\n",
              "      <td>...</td>\n",
              "      <td>...</td>\n",
              "      <td>...</td>\n",
              "    </tr>\n",
              "    <tr>\n",
              "      <th>24768</th>\n",
              "      <td>10640271</td>\n",
              "      <td>Gà Lên Mâm Nguyên Con Tại Cô Quyên Xứ Quảng Tạ...</td>\n",
              "      <td>Voucher - Dịch vụ/Nhà hàng - Ăn uống/Nhà hàng</td>\n",
              "      <td>NaN</td>\n",
              "      <td>289000</td>\n",
              "      <td>0</td>\n",
              "      <td>0</td>\n",
              "      <td>Ngày nay, muốn thưởng thức những món ăn mang h...</td>\n",
              "      <td>https://salt.tikicdn.com/cache/280x280/ts/prod...</td>\n",
              "      <td>16.0</td>\n",
              "      <td>NaN</td>\n",
              "      <td>voucher-dich-vu</td>\n",
              "      <td>0.0</td>\n",
              "      <td>0</td>\n",
              "      <td>0</td>\n",
              "      <td>0</td>\n",
              "      <td>0</td>\n",
              "      <td>0</td>\n",
              "      <td>0</td>\n",
              "      <td>-1</td>\n",
              "    </tr>\n",
              "    <tr>\n",
              "      <th>24771</th>\n",
              "      <td>111782274</td>\n",
              "      <td>Ốp Điện Thoại Mềm Trong Suốt Chống Sốc Có Nắp ...</td>\n",
              "      <td>Voucher - Dịch vụ/Dịch vụ khác</td>\n",
              "      <td>NaN</td>\n",
              "      <td>46600</td>\n",
              "      <td>0</td>\n",
              "      <td>0</td>\n",
              "      <td>\\n\\n\\n\\nFeatures: Clear Phone Back Cover\\nComp...</td>\n",
              "      <td>https://salt.tikicdn.com/cache/280x280/ts/prod...</td>\n",
              "      <td>1.0</td>\n",
              "      <td>NaN</td>\n",
              "      <td>voucher-dich-vu</td>\n",
              "      <td>0.0</td>\n",
              "      <td>0</td>\n",
              "      <td>0</td>\n",
              "      <td>0</td>\n",
              "      <td>0</td>\n",
              "      <td>0</td>\n",
              "      <td>0</td>\n",
              "      <td>-1</td>\n",
              "    </tr>\n",
              "    <tr>\n",
              "      <th>24772</th>\n",
              "      <td>10075988</td>\n",
              "      <td>Combo Massage Body Nhật + Thái  Kết Hợp Chạy C...</td>\n",
              "      <td>Voucher - Dịch vụ/Spa &amp; Làm đẹp/Massage Body -...</td>\n",
              "      <td>NaN</td>\n",
              "      <td>89000</td>\n",
              "      <td>0</td>\n",
              "      <td>0</td>\n",
              "      <td>Nếu thường xuyên cảm thấy mệt mỏi, đau nhức, u...</td>\n",
              "      <td>https://salt.tikicdn.com/cache/280x280/ts/prod...</td>\n",
              "      <td>66.0</td>\n",
              "      <td>NaN</td>\n",
              "      <td>voucher-dich-vu</td>\n",
              "      <td>2.8</td>\n",
              "      <td>5</td>\n",
              "      <td>2</td>\n",
              "      <td>0</td>\n",
              "      <td>0</td>\n",
              "      <td>1</td>\n",
              "      <td>2</td>\n",
              "      <td>0</td>\n",
              "    </tr>\n",
              "    <tr>\n",
              "      <th>24777</th>\n",
              "      <td>119438252</td>\n",
              "      <td>[E-BOOK] i-Learn Smart Start 2 Truyện đọc - Wh...</td>\n",
              "      <td>Voucher - Dịch vụ/Khóa học/Khóa học ngoại ngữ</td>\n",
              "      <td>NaN</td>\n",
              "      <td>5000</td>\n",
              "      <td>0</td>\n",
              "      <td>0</td>\n",
              "      <td>Hạn sử dụng: 2026-12-31 00:00:00\\nĐây là sản p...</td>\n",
              "      <td>https://salt.tikicdn.com/cache/280x280/ts/prod...</td>\n",
              "      <td>3.0</td>\n",
              "      <td>NaN</td>\n",
              "      <td>voucher-dich-vu</td>\n",
              "      <td>0.0</td>\n",
              "      <td>0</td>\n",
              "      <td>0</td>\n",
              "      <td>0</td>\n",
              "      <td>0</td>\n",
              "      <td>0</td>\n",
              "      <td>0</td>\n",
              "      <td>-1</td>\n",
              "    </tr>\n",
              "    <tr>\n",
              "      <th>24778</th>\n",
              "      <td>1705613</td>\n",
              "      <td>Khóa Học Hacker Mũ Trắng AEH</td>\n",
              "      <td>Voucher - Dịch vụ/Khóa học/Khóa học IT và lập ...</td>\n",
              "      <td>NaN</td>\n",
              "      <td>499000</td>\n",
              "      <td>0</td>\n",
              "      <td>0</td>\n",
              "      <td>\\nKhóa Học Hacker Mũ Trắng AEH\\nĐối tượng đào ...</td>\n",
              "      <td>https://salt.tikicdn.com/cache/280x280/ts/prod...</td>\n",
              "      <td>30.0</td>\n",
              "      <td>NaN</td>\n",
              "      <td>voucher-dich-vu</td>\n",
              "      <td>3.7</td>\n",
              "      <td>3</td>\n",
              "      <td>2</td>\n",
              "      <td>0</td>\n",
              "      <td>0</td>\n",
              "      <td>0</td>\n",
              "      <td>1</td>\n",
              "      <td>0</td>\n",
              "    </tr>\n",
              "  </tbody>\n",
              "</table>\n",
              "<p>7366 rows × 20 columns</p>\n",
              "</div>\n",
              "      <button class=\"colab-df-convert\" onclick=\"convertToInteractive('df-f780d0e7-4562-48fd-907d-424323fd5871')\"\n",
              "              title=\"Convert this dataframe to an interactive table.\"\n",
              "              style=\"display:none;\">\n",
              "        \n",
              "  <svg xmlns=\"http://www.w3.org/2000/svg\" height=\"24px\"viewBox=\"0 0 24 24\"\n",
              "       width=\"24px\">\n",
              "    <path d=\"M0 0h24v24H0V0z\" fill=\"none\"/>\n",
              "    <path d=\"M18.56 5.44l.94 2.06.94-2.06 2.06-.94-2.06-.94-.94-2.06-.94 2.06-2.06.94zm-11 1L8.5 8.5l.94-2.06 2.06-.94-2.06-.94L8.5 2.5l-.94 2.06-2.06.94zm10 10l.94 2.06.94-2.06 2.06-.94-2.06-.94-.94-2.06-.94 2.06-2.06.94z\"/><path d=\"M17.41 7.96l-1.37-1.37c-.4-.4-.92-.59-1.43-.59-.52 0-1.04.2-1.43.59L10.3 9.45l-7.72 7.72c-.78.78-.78 2.05 0 2.83L4 21.41c.39.39.9.59 1.41.59.51 0 1.02-.2 1.41-.59l7.78-7.78 2.81-2.81c.8-.78.8-2.07 0-2.86zM5.41 20L4 18.59l7.72-7.72 1.47 1.35L5.41 20z\"/>\n",
              "  </svg>\n",
              "      </button>\n",
              "      \n",
              "  <style>\n",
              "    .colab-df-container {\n",
              "      display:flex;\n",
              "      flex-wrap:wrap;\n",
              "      gap: 12px;\n",
              "    }\n",
              "\n",
              "    .colab-df-convert {\n",
              "      background-color: #E8F0FE;\n",
              "      border: none;\n",
              "      border-radius: 50%;\n",
              "      cursor: pointer;\n",
              "      display: none;\n",
              "      fill: #1967D2;\n",
              "      height: 32px;\n",
              "      padding: 0 0 0 0;\n",
              "      width: 32px;\n",
              "    }\n",
              "\n",
              "    .colab-df-convert:hover {\n",
              "      background-color: #E2EBFA;\n",
              "      box-shadow: 0px 1px 2px rgba(60, 64, 67, 0.3), 0px 1px 3px 1px rgba(60, 64, 67, 0.15);\n",
              "      fill: #174EA6;\n",
              "    }\n",
              "\n",
              "    [theme=dark] .colab-df-convert {\n",
              "      background-color: #3B4455;\n",
              "      fill: #D2E3FC;\n",
              "    }\n",
              "\n",
              "    [theme=dark] .colab-df-convert:hover {\n",
              "      background-color: #434B5C;\n",
              "      box-shadow: 0px 1px 3px 1px rgba(0, 0, 0, 0.15);\n",
              "      filter: drop-shadow(0px 1px 2px rgba(0, 0, 0, 0.3));\n",
              "      fill: #FFFFFF;\n",
              "    }\n",
              "  </style>\n",
              "\n",
              "      <script>\n",
              "        const buttonEl =\n",
              "          document.querySelector('#df-f780d0e7-4562-48fd-907d-424323fd5871 button.colab-df-convert');\n",
              "        buttonEl.style.display =\n",
              "          google.colab.kernel.accessAllowed ? 'block' : 'none';\n",
              "\n",
              "        async function convertToInteractive(key) {\n",
              "          const element = document.querySelector('#df-f780d0e7-4562-48fd-907d-424323fd5871');\n",
              "          const dataTable =\n",
              "            await google.colab.kernel.invokeFunction('convertToInteractive',\n",
              "                                                     [key], {});\n",
              "          if (!dataTable) return;\n",
              "\n",
              "          const docLinkHtml = 'Like what you see? Visit the ' +\n",
              "            '<a target=\"_blank\" href=https://colab.research.google.com/notebooks/data_table.ipynb>data table notebook</a>'\n",
              "            + ' to learn more about interactive tables.';\n",
              "          element.innerHTML = '';\n",
              "          dataTable['output_type'] = 'display_data';\n",
              "          await google.colab.output.renderOutput(dataTable, element);\n",
              "          const docLink = document.createElement('div');\n",
              "          docLink.innerHTML = docLinkHtml;\n",
              "          element.appendChild(docLink);\n",
              "        }\n",
              "      </script>\n",
              "    </div>\n",
              "  </div>\n",
              "  "
            ],
            "text/plain": [
              "              id  ... rate_with_img\n",
              "9       98190526  ...             3\n",
              "28      54076939  ...             0\n",
              "56       2287771  ...             1\n",
              "71     114684809  ...             0\n",
              "78      21224416  ...             3\n",
              "...          ...  ...           ...\n",
              "24768   10640271  ...            -1\n",
              "24771  111782274  ...            -1\n",
              "24772   10075988  ...             0\n",
              "24777  119438252  ...            -1\n",
              "24778    1705613  ...             0\n",
              "\n",
              "[7366 rows x 20 columns]"
            ]
          },
          "metadata": {},
          "execution_count": 140
        }
      ]
    },
    {
      "cell_type": "code",
      "source": [
        ""
      ],
      "metadata": {
        "id": "nHsu9LAUI-oU"
      },
      "execution_count": null,
      "outputs": []
    },
    {
      "cell_type": "code",
      "source": [
        "full_df['rank'] = full_df['rank'].replace(np.nan, 0)"
      ],
      "metadata": {
        "id": "xIvPkUbdtT8Z"
      },
      "execution_count": null,
      "outputs": []
    },
    {
      "cell_type": "code",
      "source": [
        "full_df['rate_with_img'] = full_df['rate_with_img'].replace(-1, 0)"
      ],
      "metadata": {
        "id": "w2BYXFcX5OuD"
      },
      "execution_count": null,
      "outputs": []
    },
    {
      "cell_type": "code",
      "source": [
        "full_df.loc[full_df['rank'].isnull()]"
      ],
      "metadata": {
        "colab": {
          "base_uri": "https://localhost:8080/",
          "height": 93
        },
        "id": "kX34x8dptdPO",
        "outputId": "faf68a7e-f115-4b21-a597-42dfbe51665d"
      },
      "execution_count": null,
      "outputs": [
        {
          "output_type": "execute_result",
          "data": {
            "text/html": [
              "\n",
              "  <div id=\"df-49017f3c-fd13-4654-9897-b301aacb38e5\">\n",
              "    <div class=\"colab-df-container\">\n",
              "      <div>\n",
              "<style scoped>\n",
              "    .dataframe tbody tr th:only-of-type {\n",
              "        vertical-align: middle;\n",
              "    }\n",
              "\n",
              "    .dataframe tbody tr th {\n",
              "        vertical-align: top;\n",
              "    }\n",
              "\n",
              "    .dataframe thead th {\n",
              "        text-align: right;\n",
              "    }\n",
              "</style>\n",
              "<table border=\"1\" class=\"dataframe\">\n",
              "  <thead>\n",
              "    <tr style=\"text-align: right;\">\n",
              "      <th></th>\n",
              "      <th>id</th>\n",
              "      <th>name</th>\n",
              "      <th>category</th>\n",
              "      <th>brand</th>\n",
              "      <th>price</th>\n",
              "      <th>discount</th>\n",
              "      <th>discount_rate</th>\n",
              "      <th>mota</th>\n",
              "      <th>image_url</th>\n",
              "      <th>n_sold</th>\n",
              "      <th>rank</th>\n",
              "      <th>main_category</th>\n",
              "      <th>avg_rating</th>\n",
              "      <th>n_reviews</th>\n",
              "      <th>n_rate_5</th>\n",
              "      <th>n_rate_4</th>\n",
              "      <th>n_rate_3</th>\n",
              "      <th>n_rate_2</th>\n",
              "      <th>n_rate_1</th>\n",
              "      <th>rate_with_img</th>\n",
              "    </tr>\n",
              "  </thead>\n",
              "  <tbody>\n",
              "  </tbody>\n",
              "</table>\n",
              "</div>\n",
              "      <button class=\"colab-df-convert\" onclick=\"convertToInteractive('df-49017f3c-fd13-4654-9897-b301aacb38e5')\"\n",
              "              title=\"Convert this dataframe to an interactive table.\"\n",
              "              style=\"display:none;\">\n",
              "        \n",
              "  <svg xmlns=\"http://www.w3.org/2000/svg\" height=\"24px\"viewBox=\"0 0 24 24\"\n",
              "       width=\"24px\">\n",
              "    <path d=\"M0 0h24v24H0V0z\" fill=\"none\"/>\n",
              "    <path d=\"M18.56 5.44l.94 2.06.94-2.06 2.06-.94-2.06-.94-.94-2.06-.94 2.06-2.06.94zm-11 1L8.5 8.5l.94-2.06 2.06-.94-2.06-.94L8.5 2.5l-.94 2.06-2.06.94zm10 10l.94 2.06.94-2.06 2.06-.94-2.06-.94-.94-2.06-.94 2.06-2.06.94z\"/><path d=\"M17.41 7.96l-1.37-1.37c-.4-.4-.92-.59-1.43-.59-.52 0-1.04.2-1.43.59L10.3 9.45l-7.72 7.72c-.78.78-.78 2.05 0 2.83L4 21.41c.39.39.9.59 1.41.59.51 0 1.02-.2 1.41-.59l7.78-7.78 2.81-2.81c.8-.78.8-2.07 0-2.86zM5.41 20L4 18.59l7.72-7.72 1.47 1.35L5.41 20z\"/>\n",
              "  </svg>\n",
              "      </button>\n",
              "      \n",
              "  <style>\n",
              "    .colab-df-container {\n",
              "      display:flex;\n",
              "      flex-wrap:wrap;\n",
              "      gap: 12px;\n",
              "    }\n",
              "\n",
              "    .colab-df-convert {\n",
              "      background-color: #E8F0FE;\n",
              "      border: none;\n",
              "      border-radius: 50%;\n",
              "      cursor: pointer;\n",
              "      display: none;\n",
              "      fill: #1967D2;\n",
              "      height: 32px;\n",
              "      padding: 0 0 0 0;\n",
              "      width: 32px;\n",
              "    }\n",
              "\n",
              "    .colab-df-convert:hover {\n",
              "      background-color: #E2EBFA;\n",
              "      box-shadow: 0px 1px 2px rgba(60, 64, 67, 0.3), 0px 1px 3px 1px rgba(60, 64, 67, 0.15);\n",
              "      fill: #174EA6;\n",
              "    }\n",
              "\n",
              "    [theme=dark] .colab-df-convert {\n",
              "      background-color: #3B4455;\n",
              "      fill: #D2E3FC;\n",
              "    }\n",
              "\n",
              "    [theme=dark] .colab-df-convert:hover {\n",
              "      background-color: #434B5C;\n",
              "      box-shadow: 0px 1px 3px 1px rgba(0, 0, 0, 0.15);\n",
              "      filter: drop-shadow(0px 1px 2px rgba(0, 0, 0, 0.3));\n",
              "      fill: #FFFFFF;\n",
              "    }\n",
              "  </style>\n",
              "\n",
              "      <script>\n",
              "        const buttonEl =\n",
              "          document.querySelector('#df-49017f3c-fd13-4654-9897-b301aacb38e5 button.colab-df-convert');\n",
              "        buttonEl.style.display =\n",
              "          google.colab.kernel.accessAllowed ? 'block' : 'none';\n",
              "\n",
              "        async function convertToInteractive(key) {\n",
              "          const element = document.querySelector('#df-49017f3c-fd13-4654-9897-b301aacb38e5');\n",
              "          const dataTable =\n",
              "            await google.colab.kernel.invokeFunction('convertToInteractive',\n",
              "                                                     [key], {});\n",
              "          if (!dataTable) return;\n",
              "\n",
              "          const docLinkHtml = 'Like what you see? Visit the ' +\n",
              "            '<a target=\"_blank\" href=https://colab.research.google.com/notebooks/data_table.ipynb>data table notebook</a>'\n",
              "            + ' to learn more about interactive tables.';\n",
              "          element.innerHTML = '';\n",
              "          dataTable['output_type'] = 'display_data';\n",
              "          await google.colab.output.renderOutput(dataTable, element);\n",
              "          const docLink = document.createElement('div');\n",
              "          docLink.innerHTML = docLinkHtml;\n",
              "          element.appendChild(docLink);\n",
              "        }\n",
              "      </script>\n",
              "    </div>\n",
              "  </div>\n",
              "  "
            ],
            "text/plain": [
              "Empty DataFrame\n",
              "Columns: [id, name, category, brand, price, discount, discount_rate, mota, image_url, n_sold, rank, main_category, avg_rating, n_reviews, n_rate_5, n_rate_4, n_rate_3, n_rate_2, n_rate_1, rate_with_img]\n",
              "Index: []"
            ]
          },
          "metadata": {},
          "execution_count": 271
        }
      ]
    },
    {
      "cell_type": "code",
      "source": [
        "full_df.loc[full_df['rate_with_img'].isnull()]"
      ],
      "metadata": {
        "colab": {
          "base_uri": "https://localhost:8080/",
          "height": 93
        },
        "id": "oke6V-pj5VL9",
        "outputId": "c3e82354-a3ad-419d-c75b-2aec5dbe6281"
      },
      "execution_count": null,
      "outputs": [
        {
          "output_type": "execute_result",
          "data": {
            "text/html": [
              "\n",
              "  <div id=\"df-30f56cd5-6b93-4d3c-80f2-661d278f200c\">\n",
              "    <div class=\"colab-df-container\">\n",
              "      <div>\n",
              "<style scoped>\n",
              "    .dataframe tbody tr th:only-of-type {\n",
              "        vertical-align: middle;\n",
              "    }\n",
              "\n",
              "    .dataframe tbody tr th {\n",
              "        vertical-align: top;\n",
              "    }\n",
              "\n",
              "    .dataframe thead th {\n",
              "        text-align: right;\n",
              "    }\n",
              "</style>\n",
              "<table border=\"1\" class=\"dataframe\">\n",
              "  <thead>\n",
              "    <tr style=\"text-align: right;\">\n",
              "      <th></th>\n",
              "      <th>id</th>\n",
              "      <th>name</th>\n",
              "      <th>category</th>\n",
              "      <th>brand</th>\n",
              "      <th>price</th>\n",
              "      <th>discount</th>\n",
              "      <th>discount_rate</th>\n",
              "      <th>mota</th>\n",
              "      <th>image_url</th>\n",
              "      <th>n_sold</th>\n",
              "      <th>rank</th>\n",
              "      <th>main_category</th>\n",
              "      <th>avg_rating</th>\n",
              "      <th>n_reviews</th>\n",
              "      <th>n_rate_5</th>\n",
              "      <th>n_rate_4</th>\n",
              "      <th>n_rate_3</th>\n",
              "      <th>n_rate_2</th>\n",
              "      <th>n_rate_1</th>\n",
              "      <th>rate_with_img</th>\n",
              "    </tr>\n",
              "  </thead>\n",
              "  <tbody>\n",
              "  </tbody>\n",
              "</table>\n",
              "</div>\n",
              "      <button class=\"colab-df-convert\" onclick=\"convertToInteractive('df-30f56cd5-6b93-4d3c-80f2-661d278f200c')\"\n",
              "              title=\"Convert this dataframe to an interactive table.\"\n",
              "              style=\"display:none;\">\n",
              "        \n",
              "  <svg xmlns=\"http://www.w3.org/2000/svg\" height=\"24px\"viewBox=\"0 0 24 24\"\n",
              "       width=\"24px\">\n",
              "    <path d=\"M0 0h24v24H0V0z\" fill=\"none\"/>\n",
              "    <path d=\"M18.56 5.44l.94 2.06.94-2.06 2.06-.94-2.06-.94-.94-2.06-.94 2.06-2.06.94zm-11 1L8.5 8.5l.94-2.06 2.06-.94-2.06-.94L8.5 2.5l-.94 2.06-2.06.94zm10 10l.94 2.06.94-2.06 2.06-.94-2.06-.94-.94-2.06-.94 2.06-2.06.94z\"/><path d=\"M17.41 7.96l-1.37-1.37c-.4-.4-.92-.59-1.43-.59-.52 0-1.04.2-1.43.59L10.3 9.45l-7.72 7.72c-.78.78-.78 2.05 0 2.83L4 21.41c.39.39.9.59 1.41.59.51 0 1.02-.2 1.41-.59l7.78-7.78 2.81-2.81c.8-.78.8-2.07 0-2.86zM5.41 20L4 18.59l7.72-7.72 1.47 1.35L5.41 20z\"/>\n",
              "  </svg>\n",
              "      </button>\n",
              "      \n",
              "  <style>\n",
              "    .colab-df-container {\n",
              "      display:flex;\n",
              "      flex-wrap:wrap;\n",
              "      gap: 12px;\n",
              "    }\n",
              "\n",
              "    .colab-df-convert {\n",
              "      background-color: #E8F0FE;\n",
              "      border: none;\n",
              "      border-radius: 50%;\n",
              "      cursor: pointer;\n",
              "      display: none;\n",
              "      fill: #1967D2;\n",
              "      height: 32px;\n",
              "      padding: 0 0 0 0;\n",
              "      width: 32px;\n",
              "    }\n",
              "\n",
              "    .colab-df-convert:hover {\n",
              "      background-color: #E2EBFA;\n",
              "      box-shadow: 0px 1px 2px rgba(60, 64, 67, 0.3), 0px 1px 3px 1px rgba(60, 64, 67, 0.15);\n",
              "      fill: #174EA6;\n",
              "    }\n",
              "\n",
              "    [theme=dark] .colab-df-convert {\n",
              "      background-color: #3B4455;\n",
              "      fill: #D2E3FC;\n",
              "    }\n",
              "\n",
              "    [theme=dark] .colab-df-convert:hover {\n",
              "      background-color: #434B5C;\n",
              "      box-shadow: 0px 1px 3px 1px rgba(0, 0, 0, 0.15);\n",
              "      filter: drop-shadow(0px 1px 2px rgba(0, 0, 0, 0.3));\n",
              "      fill: #FFFFFF;\n",
              "    }\n",
              "  </style>\n",
              "\n",
              "      <script>\n",
              "        const buttonEl =\n",
              "          document.querySelector('#df-30f56cd5-6b93-4d3c-80f2-661d278f200c button.colab-df-convert');\n",
              "        buttonEl.style.display =\n",
              "          google.colab.kernel.accessAllowed ? 'block' : 'none';\n",
              "\n",
              "        async function convertToInteractive(key) {\n",
              "          const element = document.querySelector('#df-30f56cd5-6b93-4d3c-80f2-661d278f200c');\n",
              "          const dataTable =\n",
              "            await google.colab.kernel.invokeFunction('convertToInteractive',\n",
              "                                                     [key], {});\n",
              "          if (!dataTable) return;\n",
              "\n",
              "          const docLinkHtml = 'Like what you see? Visit the ' +\n",
              "            '<a target=\"_blank\" href=https://colab.research.google.com/notebooks/data_table.ipynb>data table notebook</a>'\n",
              "            + ' to learn more about interactive tables.';\n",
              "          element.innerHTML = '';\n",
              "          dataTable['output_type'] = 'display_data';\n",
              "          await google.colab.output.renderOutput(dataTable, element);\n",
              "          const docLink = document.createElement('div');\n",
              "          docLink.innerHTML = docLinkHtml;\n",
              "          element.appendChild(docLink);\n",
              "        }\n",
              "      </script>\n",
              "    </div>\n",
              "  </div>\n",
              "  "
            ],
            "text/plain": [
              "Empty DataFrame\n",
              "Columns: [id, name, category, brand, price, discount, discount_rate, mota, image_url, n_sold, rank, main_category, avg_rating, n_reviews, n_rate_5, n_rate_4, n_rate_3, n_rate_2, n_rate_1, rate_with_img]\n",
              "Index: []"
            ]
          },
          "metadata": {},
          "execution_count": 272
        }
      ]
    },
    {
      "cell_type": "code",
      "source": [
        "full_df.loc[full_df['n_rate_5'].isnull()]"
      ],
      "metadata": {
        "colab": {
          "base_uri": "https://localhost:8080/",
          "height": 93
        },
        "id": "gFjsJheE5avP",
        "outputId": "cc7bec6c-c578-40e8-a303-13ca71a64aa3"
      },
      "execution_count": null,
      "outputs": [
        {
          "output_type": "execute_result",
          "data": {
            "text/html": [
              "\n",
              "  <div id=\"df-7940b4c6-90dc-4d5d-a748-664a9f2edd3f\">\n",
              "    <div class=\"colab-df-container\">\n",
              "      <div>\n",
              "<style scoped>\n",
              "    .dataframe tbody tr th:only-of-type {\n",
              "        vertical-align: middle;\n",
              "    }\n",
              "\n",
              "    .dataframe tbody tr th {\n",
              "        vertical-align: top;\n",
              "    }\n",
              "\n",
              "    .dataframe thead th {\n",
              "        text-align: right;\n",
              "    }\n",
              "</style>\n",
              "<table border=\"1\" class=\"dataframe\">\n",
              "  <thead>\n",
              "    <tr style=\"text-align: right;\">\n",
              "      <th></th>\n",
              "      <th>id</th>\n",
              "      <th>name</th>\n",
              "      <th>category</th>\n",
              "      <th>brand</th>\n",
              "      <th>price</th>\n",
              "      <th>discount</th>\n",
              "      <th>discount_rate</th>\n",
              "      <th>mota</th>\n",
              "      <th>image_url</th>\n",
              "      <th>n_sold</th>\n",
              "      <th>rank</th>\n",
              "      <th>main_category</th>\n",
              "      <th>avg_rating</th>\n",
              "      <th>n_reviews</th>\n",
              "      <th>n_rate_5</th>\n",
              "      <th>n_rate_4</th>\n",
              "      <th>n_rate_3</th>\n",
              "      <th>n_rate_2</th>\n",
              "      <th>n_rate_1</th>\n",
              "      <th>rate_with_img</th>\n",
              "    </tr>\n",
              "  </thead>\n",
              "  <tbody>\n",
              "  </tbody>\n",
              "</table>\n",
              "</div>\n",
              "      <button class=\"colab-df-convert\" onclick=\"convertToInteractive('df-7940b4c6-90dc-4d5d-a748-664a9f2edd3f')\"\n",
              "              title=\"Convert this dataframe to an interactive table.\"\n",
              "              style=\"display:none;\">\n",
              "        \n",
              "  <svg xmlns=\"http://www.w3.org/2000/svg\" height=\"24px\"viewBox=\"0 0 24 24\"\n",
              "       width=\"24px\">\n",
              "    <path d=\"M0 0h24v24H0V0z\" fill=\"none\"/>\n",
              "    <path d=\"M18.56 5.44l.94 2.06.94-2.06 2.06-.94-2.06-.94-.94-2.06-.94 2.06-2.06.94zm-11 1L8.5 8.5l.94-2.06 2.06-.94-2.06-.94L8.5 2.5l-.94 2.06-2.06.94zm10 10l.94 2.06.94-2.06 2.06-.94-2.06-.94-.94-2.06-.94 2.06-2.06.94z\"/><path d=\"M17.41 7.96l-1.37-1.37c-.4-.4-.92-.59-1.43-.59-.52 0-1.04.2-1.43.59L10.3 9.45l-7.72 7.72c-.78.78-.78 2.05 0 2.83L4 21.41c.39.39.9.59 1.41.59.51 0 1.02-.2 1.41-.59l7.78-7.78 2.81-2.81c.8-.78.8-2.07 0-2.86zM5.41 20L4 18.59l7.72-7.72 1.47 1.35L5.41 20z\"/>\n",
              "  </svg>\n",
              "      </button>\n",
              "      \n",
              "  <style>\n",
              "    .colab-df-container {\n",
              "      display:flex;\n",
              "      flex-wrap:wrap;\n",
              "      gap: 12px;\n",
              "    }\n",
              "\n",
              "    .colab-df-convert {\n",
              "      background-color: #E8F0FE;\n",
              "      border: none;\n",
              "      border-radius: 50%;\n",
              "      cursor: pointer;\n",
              "      display: none;\n",
              "      fill: #1967D2;\n",
              "      height: 32px;\n",
              "      padding: 0 0 0 0;\n",
              "      width: 32px;\n",
              "    }\n",
              "\n",
              "    .colab-df-convert:hover {\n",
              "      background-color: #E2EBFA;\n",
              "      box-shadow: 0px 1px 2px rgba(60, 64, 67, 0.3), 0px 1px 3px 1px rgba(60, 64, 67, 0.15);\n",
              "      fill: #174EA6;\n",
              "    }\n",
              "\n",
              "    [theme=dark] .colab-df-convert {\n",
              "      background-color: #3B4455;\n",
              "      fill: #D2E3FC;\n",
              "    }\n",
              "\n",
              "    [theme=dark] .colab-df-convert:hover {\n",
              "      background-color: #434B5C;\n",
              "      box-shadow: 0px 1px 3px 1px rgba(0, 0, 0, 0.15);\n",
              "      filter: drop-shadow(0px 1px 2px rgba(0, 0, 0, 0.3));\n",
              "      fill: #FFFFFF;\n",
              "    }\n",
              "  </style>\n",
              "\n",
              "      <script>\n",
              "        const buttonEl =\n",
              "          document.querySelector('#df-7940b4c6-90dc-4d5d-a748-664a9f2edd3f button.colab-df-convert');\n",
              "        buttonEl.style.display =\n",
              "          google.colab.kernel.accessAllowed ? 'block' : 'none';\n",
              "\n",
              "        async function convertToInteractive(key) {\n",
              "          const element = document.querySelector('#df-7940b4c6-90dc-4d5d-a748-664a9f2edd3f');\n",
              "          const dataTable =\n",
              "            await google.colab.kernel.invokeFunction('convertToInteractive',\n",
              "                                                     [key], {});\n",
              "          if (!dataTable) return;\n",
              "\n",
              "          const docLinkHtml = 'Like what you see? Visit the ' +\n",
              "            '<a target=\"_blank\" href=https://colab.research.google.com/notebooks/data_table.ipynb>data table notebook</a>'\n",
              "            + ' to learn more about interactive tables.';\n",
              "          element.innerHTML = '';\n",
              "          dataTable['output_type'] = 'display_data';\n",
              "          await google.colab.output.renderOutput(dataTable, element);\n",
              "          const docLink = document.createElement('div');\n",
              "          docLink.innerHTML = docLinkHtml;\n",
              "          element.appendChild(docLink);\n",
              "        }\n",
              "      </script>\n",
              "    </div>\n",
              "  </div>\n",
              "  "
            ],
            "text/plain": [
              "Empty DataFrame\n",
              "Columns: [id, name, category, brand, price, discount, discount_rate, mota, image_url, n_sold, rank, main_category, avg_rating, n_reviews, n_rate_5, n_rate_4, n_rate_3, n_rate_2, n_rate_1, rate_with_img]\n",
              "Index: []"
            ]
          },
          "metadata": {},
          "execution_count": 273
        }
      ]
    },
    {
      "cell_type": "code",
      "source": [
        "full_df.loc[full_df['n_rate_4'].isnull()]"
      ],
      "metadata": {
        "colab": {
          "base_uri": "https://localhost:8080/",
          "height": 93
        },
        "id": "mHnua5_L5do2",
        "outputId": "f73784d6-83b7-4180-8a88-8bedc5cbe326"
      },
      "execution_count": null,
      "outputs": [
        {
          "output_type": "execute_result",
          "data": {
            "text/html": [
              "\n",
              "  <div id=\"df-586606be-213e-4fc4-a1ed-1ad81121ccea\">\n",
              "    <div class=\"colab-df-container\">\n",
              "      <div>\n",
              "<style scoped>\n",
              "    .dataframe tbody tr th:only-of-type {\n",
              "        vertical-align: middle;\n",
              "    }\n",
              "\n",
              "    .dataframe tbody tr th {\n",
              "        vertical-align: top;\n",
              "    }\n",
              "\n",
              "    .dataframe thead th {\n",
              "        text-align: right;\n",
              "    }\n",
              "</style>\n",
              "<table border=\"1\" class=\"dataframe\">\n",
              "  <thead>\n",
              "    <tr style=\"text-align: right;\">\n",
              "      <th></th>\n",
              "      <th>id</th>\n",
              "      <th>name</th>\n",
              "      <th>category</th>\n",
              "      <th>brand</th>\n",
              "      <th>price</th>\n",
              "      <th>discount</th>\n",
              "      <th>discount_rate</th>\n",
              "      <th>mota</th>\n",
              "      <th>image_url</th>\n",
              "      <th>n_sold</th>\n",
              "      <th>rank</th>\n",
              "      <th>main_category</th>\n",
              "      <th>avg_rating</th>\n",
              "      <th>n_reviews</th>\n",
              "      <th>n_rate_5</th>\n",
              "      <th>n_rate_4</th>\n",
              "      <th>n_rate_3</th>\n",
              "      <th>n_rate_2</th>\n",
              "      <th>n_rate_1</th>\n",
              "      <th>rate_with_img</th>\n",
              "    </tr>\n",
              "  </thead>\n",
              "  <tbody>\n",
              "  </tbody>\n",
              "</table>\n",
              "</div>\n",
              "      <button class=\"colab-df-convert\" onclick=\"convertToInteractive('df-586606be-213e-4fc4-a1ed-1ad81121ccea')\"\n",
              "              title=\"Convert this dataframe to an interactive table.\"\n",
              "              style=\"display:none;\">\n",
              "        \n",
              "  <svg xmlns=\"http://www.w3.org/2000/svg\" height=\"24px\"viewBox=\"0 0 24 24\"\n",
              "       width=\"24px\">\n",
              "    <path d=\"M0 0h24v24H0V0z\" fill=\"none\"/>\n",
              "    <path d=\"M18.56 5.44l.94 2.06.94-2.06 2.06-.94-2.06-.94-.94-2.06-.94 2.06-2.06.94zm-11 1L8.5 8.5l.94-2.06 2.06-.94-2.06-.94L8.5 2.5l-.94 2.06-2.06.94zm10 10l.94 2.06.94-2.06 2.06-.94-2.06-.94-.94-2.06-.94 2.06-2.06.94z\"/><path d=\"M17.41 7.96l-1.37-1.37c-.4-.4-.92-.59-1.43-.59-.52 0-1.04.2-1.43.59L10.3 9.45l-7.72 7.72c-.78.78-.78 2.05 0 2.83L4 21.41c.39.39.9.59 1.41.59.51 0 1.02-.2 1.41-.59l7.78-7.78 2.81-2.81c.8-.78.8-2.07 0-2.86zM5.41 20L4 18.59l7.72-7.72 1.47 1.35L5.41 20z\"/>\n",
              "  </svg>\n",
              "      </button>\n",
              "      \n",
              "  <style>\n",
              "    .colab-df-container {\n",
              "      display:flex;\n",
              "      flex-wrap:wrap;\n",
              "      gap: 12px;\n",
              "    }\n",
              "\n",
              "    .colab-df-convert {\n",
              "      background-color: #E8F0FE;\n",
              "      border: none;\n",
              "      border-radius: 50%;\n",
              "      cursor: pointer;\n",
              "      display: none;\n",
              "      fill: #1967D2;\n",
              "      height: 32px;\n",
              "      padding: 0 0 0 0;\n",
              "      width: 32px;\n",
              "    }\n",
              "\n",
              "    .colab-df-convert:hover {\n",
              "      background-color: #E2EBFA;\n",
              "      box-shadow: 0px 1px 2px rgba(60, 64, 67, 0.3), 0px 1px 3px 1px rgba(60, 64, 67, 0.15);\n",
              "      fill: #174EA6;\n",
              "    }\n",
              "\n",
              "    [theme=dark] .colab-df-convert {\n",
              "      background-color: #3B4455;\n",
              "      fill: #D2E3FC;\n",
              "    }\n",
              "\n",
              "    [theme=dark] .colab-df-convert:hover {\n",
              "      background-color: #434B5C;\n",
              "      box-shadow: 0px 1px 3px 1px rgba(0, 0, 0, 0.15);\n",
              "      filter: drop-shadow(0px 1px 2px rgba(0, 0, 0, 0.3));\n",
              "      fill: #FFFFFF;\n",
              "    }\n",
              "  </style>\n",
              "\n",
              "      <script>\n",
              "        const buttonEl =\n",
              "          document.querySelector('#df-586606be-213e-4fc4-a1ed-1ad81121ccea button.colab-df-convert');\n",
              "        buttonEl.style.display =\n",
              "          google.colab.kernel.accessAllowed ? 'block' : 'none';\n",
              "\n",
              "        async function convertToInteractive(key) {\n",
              "          const element = document.querySelector('#df-586606be-213e-4fc4-a1ed-1ad81121ccea');\n",
              "          const dataTable =\n",
              "            await google.colab.kernel.invokeFunction('convertToInteractive',\n",
              "                                                     [key], {});\n",
              "          if (!dataTable) return;\n",
              "\n",
              "          const docLinkHtml = 'Like what you see? Visit the ' +\n",
              "            '<a target=\"_blank\" href=https://colab.research.google.com/notebooks/data_table.ipynb>data table notebook</a>'\n",
              "            + ' to learn more about interactive tables.';\n",
              "          element.innerHTML = '';\n",
              "          dataTable['output_type'] = 'display_data';\n",
              "          await google.colab.output.renderOutput(dataTable, element);\n",
              "          const docLink = document.createElement('div');\n",
              "          docLink.innerHTML = docLinkHtml;\n",
              "          element.appendChild(docLink);\n",
              "        }\n",
              "      </script>\n",
              "    </div>\n",
              "  </div>\n",
              "  "
            ],
            "text/plain": [
              "Empty DataFrame\n",
              "Columns: [id, name, category, brand, price, discount, discount_rate, mota, image_url, n_sold, rank, main_category, avg_rating, n_reviews, n_rate_5, n_rate_4, n_rate_3, n_rate_2, n_rate_1, rate_with_img]\n",
              "Index: []"
            ]
          },
          "metadata": {},
          "execution_count": 274
        }
      ]
    },
    {
      "cell_type": "code",
      "source": [
        "full_df.loc[full_df['n_rate_3'].isnull()]"
      ],
      "metadata": {
        "colab": {
          "base_uri": "https://localhost:8080/",
          "height": 93
        },
        "id": "dU9iYqR65exI",
        "outputId": "28885114-eec2-4c5a-d6c6-0e758c7e3408"
      },
      "execution_count": null,
      "outputs": [
        {
          "output_type": "execute_result",
          "data": {
            "text/html": [
              "\n",
              "  <div id=\"df-15a736bc-09eb-427a-ab93-f4a4729d9031\">\n",
              "    <div class=\"colab-df-container\">\n",
              "      <div>\n",
              "<style scoped>\n",
              "    .dataframe tbody tr th:only-of-type {\n",
              "        vertical-align: middle;\n",
              "    }\n",
              "\n",
              "    .dataframe tbody tr th {\n",
              "        vertical-align: top;\n",
              "    }\n",
              "\n",
              "    .dataframe thead th {\n",
              "        text-align: right;\n",
              "    }\n",
              "</style>\n",
              "<table border=\"1\" class=\"dataframe\">\n",
              "  <thead>\n",
              "    <tr style=\"text-align: right;\">\n",
              "      <th></th>\n",
              "      <th>id</th>\n",
              "      <th>name</th>\n",
              "      <th>category</th>\n",
              "      <th>brand</th>\n",
              "      <th>price</th>\n",
              "      <th>discount</th>\n",
              "      <th>discount_rate</th>\n",
              "      <th>mota</th>\n",
              "      <th>image_url</th>\n",
              "      <th>n_sold</th>\n",
              "      <th>rank</th>\n",
              "      <th>main_category</th>\n",
              "      <th>avg_rating</th>\n",
              "      <th>n_reviews</th>\n",
              "      <th>n_rate_5</th>\n",
              "      <th>n_rate_4</th>\n",
              "      <th>n_rate_3</th>\n",
              "      <th>n_rate_2</th>\n",
              "      <th>n_rate_1</th>\n",
              "      <th>rate_with_img</th>\n",
              "    </tr>\n",
              "  </thead>\n",
              "  <tbody>\n",
              "  </tbody>\n",
              "</table>\n",
              "</div>\n",
              "      <button class=\"colab-df-convert\" onclick=\"convertToInteractive('df-15a736bc-09eb-427a-ab93-f4a4729d9031')\"\n",
              "              title=\"Convert this dataframe to an interactive table.\"\n",
              "              style=\"display:none;\">\n",
              "        \n",
              "  <svg xmlns=\"http://www.w3.org/2000/svg\" height=\"24px\"viewBox=\"0 0 24 24\"\n",
              "       width=\"24px\">\n",
              "    <path d=\"M0 0h24v24H0V0z\" fill=\"none\"/>\n",
              "    <path d=\"M18.56 5.44l.94 2.06.94-2.06 2.06-.94-2.06-.94-.94-2.06-.94 2.06-2.06.94zm-11 1L8.5 8.5l.94-2.06 2.06-.94-2.06-.94L8.5 2.5l-.94 2.06-2.06.94zm10 10l.94 2.06.94-2.06 2.06-.94-2.06-.94-.94-2.06-.94 2.06-2.06.94z\"/><path d=\"M17.41 7.96l-1.37-1.37c-.4-.4-.92-.59-1.43-.59-.52 0-1.04.2-1.43.59L10.3 9.45l-7.72 7.72c-.78.78-.78 2.05 0 2.83L4 21.41c.39.39.9.59 1.41.59.51 0 1.02-.2 1.41-.59l7.78-7.78 2.81-2.81c.8-.78.8-2.07 0-2.86zM5.41 20L4 18.59l7.72-7.72 1.47 1.35L5.41 20z\"/>\n",
              "  </svg>\n",
              "      </button>\n",
              "      \n",
              "  <style>\n",
              "    .colab-df-container {\n",
              "      display:flex;\n",
              "      flex-wrap:wrap;\n",
              "      gap: 12px;\n",
              "    }\n",
              "\n",
              "    .colab-df-convert {\n",
              "      background-color: #E8F0FE;\n",
              "      border: none;\n",
              "      border-radius: 50%;\n",
              "      cursor: pointer;\n",
              "      display: none;\n",
              "      fill: #1967D2;\n",
              "      height: 32px;\n",
              "      padding: 0 0 0 0;\n",
              "      width: 32px;\n",
              "    }\n",
              "\n",
              "    .colab-df-convert:hover {\n",
              "      background-color: #E2EBFA;\n",
              "      box-shadow: 0px 1px 2px rgba(60, 64, 67, 0.3), 0px 1px 3px 1px rgba(60, 64, 67, 0.15);\n",
              "      fill: #174EA6;\n",
              "    }\n",
              "\n",
              "    [theme=dark] .colab-df-convert {\n",
              "      background-color: #3B4455;\n",
              "      fill: #D2E3FC;\n",
              "    }\n",
              "\n",
              "    [theme=dark] .colab-df-convert:hover {\n",
              "      background-color: #434B5C;\n",
              "      box-shadow: 0px 1px 3px 1px rgba(0, 0, 0, 0.15);\n",
              "      filter: drop-shadow(0px 1px 2px rgba(0, 0, 0, 0.3));\n",
              "      fill: #FFFFFF;\n",
              "    }\n",
              "  </style>\n",
              "\n",
              "      <script>\n",
              "        const buttonEl =\n",
              "          document.querySelector('#df-15a736bc-09eb-427a-ab93-f4a4729d9031 button.colab-df-convert');\n",
              "        buttonEl.style.display =\n",
              "          google.colab.kernel.accessAllowed ? 'block' : 'none';\n",
              "\n",
              "        async function convertToInteractive(key) {\n",
              "          const element = document.querySelector('#df-15a736bc-09eb-427a-ab93-f4a4729d9031');\n",
              "          const dataTable =\n",
              "            await google.colab.kernel.invokeFunction('convertToInteractive',\n",
              "                                                     [key], {});\n",
              "          if (!dataTable) return;\n",
              "\n",
              "          const docLinkHtml = 'Like what you see? Visit the ' +\n",
              "            '<a target=\"_blank\" href=https://colab.research.google.com/notebooks/data_table.ipynb>data table notebook</a>'\n",
              "            + ' to learn more about interactive tables.';\n",
              "          element.innerHTML = '';\n",
              "          dataTable['output_type'] = 'display_data';\n",
              "          await google.colab.output.renderOutput(dataTable, element);\n",
              "          const docLink = document.createElement('div');\n",
              "          docLink.innerHTML = docLinkHtml;\n",
              "          element.appendChild(docLink);\n",
              "        }\n",
              "      </script>\n",
              "    </div>\n",
              "  </div>\n",
              "  "
            ],
            "text/plain": [
              "Empty DataFrame\n",
              "Columns: [id, name, category, brand, price, discount, discount_rate, mota, image_url, n_sold, rank, main_category, avg_rating, n_reviews, n_rate_5, n_rate_4, n_rate_3, n_rate_2, n_rate_1, rate_with_img]\n",
              "Index: []"
            ]
          },
          "metadata": {},
          "execution_count": 275
        }
      ]
    },
    {
      "cell_type": "code",
      "source": [
        "full_df.loc[full_df['n_rate_2'].isnull()]"
      ],
      "metadata": {
        "colab": {
          "base_uri": "https://localhost:8080/",
          "height": 93
        },
        "id": "CXQ2TrcV5g46",
        "outputId": "db2011c0-d852-4d20-901b-e907cd1fa337"
      },
      "execution_count": null,
      "outputs": [
        {
          "output_type": "execute_result",
          "data": {
            "text/html": [
              "\n",
              "  <div id=\"df-18e91a6a-207e-4cfb-8590-96c7d59a1bfa\">\n",
              "    <div class=\"colab-df-container\">\n",
              "      <div>\n",
              "<style scoped>\n",
              "    .dataframe tbody tr th:only-of-type {\n",
              "        vertical-align: middle;\n",
              "    }\n",
              "\n",
              "    .dataframe tbody tr th {\n",
              "        vertical-align: top;\n",
              "    }\n",
              "\n",
              "    .dataframe thead th {\n",
              "        text-align: right;\n",
              "    }\n",
              "</style>\n",
              "<table border=\"1\" class=\"dataframe\">\n",
              "  <thead>\n",
              "    <tr style=\"text-align: right;\">\n",
              "      <th></th>\n",
              "      <th>id</th>\n",
              "      <th>name</th>\n",
              "      <th>category</th>\n",
              "      <th>brand</th>\n",
              "      <th>price</th>\n",
              "      <th>discount</th>\n",
              "      <th>discount_rate</th>\n",
              "      <th>mota</th>\n",
              "      <th>image_url</th>\n",
              "      <th>n_sold</th>\n",
              "      <th>rank</th>\n",
              "      <th>main_category</th>\n",
              "      <th>avg_rating</th>\n",
              "      <th>n_reviews</th>\n",
              "      <th>n_rate_5</th>\n",
              "      <th>n_rate_4</th>\n",
              "      <th>n_rate_3</th>\n",
              "      <th>n_rate_2</th>\n",
              "      <th>n_rate_1</th>\n",
              "      <th>rate_with_img</th>\n",
              "    </tr>\n",
              "  </thead>\n",
              "  <tbody>\n",
              "  </tbody>\n",
              "</table>\n",
              "</div>\n",
              "      <button class=\"colab-df-convert\" onclick=\"convertToInteractive('df-18e91a6a-207e-4cfb-8590-96c7d59a1bfa')\"\n",
              "              title=\"Convert this dataframe to an interactive table.\"\n",
              "              style=\"display:none;\">\n",
              "        \n",
              "  <svg xmlns=\"http://www.w3.org/2000/svg\" height=\"24px\"viewBox=\"0 0 24 24\"\n",
              "       width=\"24px\">\n",
              "    <path d=\"M0 0h24v24H0V0z\" fill=\"none\"/>\n",
              "    <path d=\"M18.56 5.44l.94 2.06.94-2.06 2.06-.94-2.06-.94-.94-2.06-.94 2.06-2.06.94zm-11 1L8.5 8.5l.94-2.06 2.06-.94-2.06-.94L8.5 2.5l-.94 2.06-2.06.94zm10 10l.94 2.06.94-2.06 2.06-.94-2.06-.94-.94-2.06-.94 2.06-2.06.94z\"/><path d=\"M17.41 7.96l-1.37-1.37c-.4-.4-.92-.59-1.43-.59-.52 0-1.04.2-1.43.59L10.3 9.45l-7.72 7.72c-.78.78-.78 2.05 0 2.83L4 21.41c.39.39.9.59 1.41.59.51 0 1.02-.2 1.41-.59l7.78-7.78 2.81-2.81c.8-.78.8-2.07 0-2.86zM5.41 20L4 18.59l7.72-7.72 1.47 1.35L5.41 20z\"/>\n",
              "  </svg>\n",
              "      </button>\n",
              "      \n",
              "  <style>\n",
              "    .colab-df-container {\n",
              "      display:flex;\n",
              "      flex-wrap:wrap;\n",
              "      gap: 12px;\n",
              "    }\n",
              "\n",
              "    .colab-df-convert {\n",
              "      background-color: #E8F0FE;\n",
              "      border: none;\n",
              "      border-radius: 50%;\n",
              "      cursor: pointer;\n",
              "      display: none;\n",
              "      fill: #1967D2;\n",
              "      height: 32px;\n",
              "      padding: 0 0 0 0;\n",
              "      width: 32px;\n",
              "    }\n",
              "\n",
              "    .colab-df-convert:hover {\n",
              "      background-color: #E2EBFA;\n",
              "      box-shadow: 0px 1px 2px rgba(60, 64, 67, 0.3), 0px 1px 3px 1px rgba(60, 64, 67, 0.15);\n",
              "      fill: #174EA6;\n",
              "    }\n",
              "\n",
              "    [theme=dark] .colab-df-convert {\n",
              "      background-color: #3B4455;\n",
              "      fill: #D2E3FC;\n",
              "    }\n",
              "\n",
              "    [theme=dark] .colab-df-convert:hover {\n",
              "      background-color: #434B5C;\n",
              "      box-shadow: 0px 1px 3px 1px rgba(0, 0, 0, 0.15);\n",
              "      filter: drop-shadow(0px 1px 2px rgba(0, 0, 0, 0.3));\n",
              "      fill: #FFFFFF;\n",
              "    }\n",
              "  </style>\n",
              "\n",
              "      <script>\n",
              "        const buttonEl =\n",
              "          document.querySelector('#df-18e91a6a-207e-4cfb-8590-96c7d59a1bfa button.colab-df-convert');\n",
              "        buttonEl.style.display =\n",
              "          google.colab.kernel.accessAllowed ? 'block' : 'none';\n",
              "\n",
              "        async function convertToInteractive(key) {\n",
              "          const element = document.querySelector('#df-18e91a6a-207e-4cfb-8590-96c7d59a1bfa');\n",
              "          const dataTable =\n",
              "            await google.colab.kernel.invokeFunction('convertToInteractive',\n",
              "                                                     [key], {});\n",
              "          if (!dataTable) return;\n",
              "\n",
              "          const docLinkHtml = 'Like what you see? Visit the ' +\n",
              "            '<a target=\"_blank\" href=https://colab.research.google.com/notebooks/data_table.ipynb>data table notebook</a>'\n",
              "            + ' to learn more about interactive tables.';\n",
              "          element.innerHTML = '';\n",
              "          dataTable['output_type'] = 'display_data';\n",
              "          await google.colab.output.renderOutput(dataTable, element);\n",
              "          const docLink = document.createElement('div');\n",
              "          docLink.innerHTML = docLinkHtml;\n",
              "          element.appendChild(docLink);\n",
              "        }\n",
              "      </script>\n",
              "    </div>\n",
              "  </div>\n",
              "  "
            ],
            "text/plain": [
              "Empty DataFrame\n",
              "Columns: [id, name, category, brand, price, discount, discount_rate, mota, image_url, n_sold, rank, main_category, avg_rating, n_reviews, n_rate_5, n_rate_4, n_rate_3, n_rate_2, n_rate_1, rate_with_img]\n",
              "Index: []"
            ]
          },
          "metadata": {},
          "execution_count": 276
        }
      ]
    },
    {
      "cell_type": "code",
      "source": [
        "full_df.loc[full_df['n_rate_1'].isnull()]"
      ],
      "metadata": {
        "colab": {
          "base_uri": "https://localhost:8080/",
          "height": 93
        },
        "id": "RIfkjFzM5ggf",
        "outputId": "108eb28e-0678-4647-9c20-2c43439a825e"
      },
      "execution_count": null,
      "outputs": [
        {
          "output_type": "execute_result",
          "data": {
            "text/html": [
              "\n",
              "  <div id=\"df-b327d73c-7c7d-4200-9560-fa1b87b6381c\">\n",
              "    <div class=\"colab-df-container\">\n",
              "      <div>\n",
              "<style scoped>\n",
              "    .dataframe tbody tr th:only-of-type {\n",
              "        vertical-align: middle;\n",
              "    }\n",
              "\n",
              "    .dataframe tbody tr th {\n",
              "        vertical-align: top;\n",
              "    }\n",
              "\n",
              "    .dataframe thead th {\n",
              "        text-align: right;\n",
              "    }\n",
              "</style>\n",
              "<table border=\"1\" class=\"dataframe\">\n",
              "  <thead>\n",
              "    <tr style=\"text-align: right;\">\n",
              "      <th></th>\n",
              "      <th>id</th>\n",
              "      <th>name</th>\n",
              "      <th>category</th>\n",
              "      <th>brand</th>\n",
              "      <th>price</th>\n",
              "      <th>discount</th>\n",
              "      <th>discount_rate</th>\n",
              "      <th>mota</th>\n",
              "      <th>image_url</th>\n",
              "      <th>n_sold</th>\n",
              "      <th>rank</th>\n",
              "      <th>main_category</th>\n",
              "      <th>avg_rating</th>\n",
              "      <th>n_reviews</th>\n",
              "      <th>n_rate_5</th>\n",
              "      <th>n_rate_4</th>\n",
              "      <th>n_rate_3</th>\n",
              "      <th>n_rate_2</th>\n",
              "      <th>n_rate_1</th>\n",
              "      <th>rate_with_img</th>\n",
              "    </tr>\n",
              "  </thead>\n",
              "  <tbody>\n",
              "  </tbody>\n",
              "</table>\n",
              "</div>\n",
              "      <button class=\"colab-df-convert\" onclick=\"convertToInteractive('df-b327d73c-7c7d-4200-9560-fa1b87b6381c')\"\n",
              "              title=\"Convert this dataframe to an interactive table.\"\n",
              "              style=\"display:none;\">\n",
              "        \n",
              "  <svg xmlns=\"http://www.w3.org/2000/svg\" height=\"24px\"viewBox=\"0 0 24 24\"\n",
              "       width=\"24px\">\n",
              "    <path d=\"M0 0h24v24H0V0z\" fill=\"none\"/>\n",
              "    <path d=\"M18.56 5.44l.94 2.06.94-2.06 2.06-.94-2.06-.94-.94-2.06-.94 2.06-2.06.94zm-11 1L8.5 8.5l.94-2.06 2.06-.94-2.06-.94L8.5 2.5l-.94 2.06-2.06.94zm10 10l.94 2.06.94-2.06 2.06-.94-2.06-.94-.94-2.06-.94 2.06-2.06.94z\"/><path d=\"M17.41 7.96l-1.37-1.37c-.4-.4-.92-.59-1.43-.59-.52 0-1.04.2-1.43.59L10.3 9.45l-7.72 7.72c-.78.78-.78 2.05 0 2.83L4 21.41c.39.39.9.59 1.41.59.51 0 1.02-.2 1.41-.59l7.78-7.78 2.81-2.81c.8-.78.8-2.07 0-2.86zM5.41 20L4 18.59l7.72-7.72 1.47 1.35L5.41 20z\"/>\n",
              "  </svg>\n",
              "      </button>\n",
              "      \n",
              "  <style>\n",
              "    .colab-df-container {\n",
              "      display:flex;\n",
              "      flex-wrap:wrap;\n",
              "      gap: 12px;\n",
              "    }\n",
              "\n",
              "    .colab-df-convert {\n",
              "      background-color: #E8F0FE;\n",
              "      border: none;\n",
              "      border-radius: 50%;\n",
              "      cursor: pointer;\n",
              "      display: none;\n",
              "      fill: #1967D2;\n",
              "      height: 32px;\n",
              "      padding: 0 0 0 0;\n",
              "      width: 32px;\n",
              "    }\n",
              "\n",
              "    .colab-df-convert:hover {\n",
              "      background-color: #E2EBFA;\n",
              "      box-shadow: 0px 1px 2px rgba(60, 64, 67, 0.3), 0px 1px 3px 1px rgba(60, 64, 67, 0.15);\n",
              "      fill: #174EA6;\n",
              "    }\n",
              "\n",
              "    [theme=dark] .colab-df-convert {\n",
              "      background-color: #3B4455;\n",
              "      fill: #D2E3FC;\n",
              "    }\n",
              "\n",
              "    [theme=dark] .colab-df-convert:hover {\n",
              "      background-color: #434B5C;\n",
              "      box-shadow: 0px 1px 3px 1px rgba(0, 0, 0, 0.15);\n",
              "      filter: drop-shadow(0px 1px 2px rgba(0, 0, 0, 0.3));\n",
              "      fill: #FFFFFF;\n",
              "    }\n",
              "  </style>\n",
              "\n",
              "      <script>\n",
              "        const buttonEl =\n",
              "          document.querySelector('#df-b327d73c-7c7d-4200-9560-fa1b87b6381c button.colab-df-convert');\n",
              "        buttonEl.style.display =\n",
              "          google.colab.kernel.accessAllowed ? 'block' : 'none';\n",
              "\n",
              "        async function convertToInteractive(key) {\n",
              "          const element = document.querySelector('#df-b327d73c-7c7d-4200-9560-fa1b87b6381c');\n",
              "          const dataTable =\n",
              "            await google.colab.kernel.invokeFunction('convertToInteractive',\n",
              "                                                     [key], {});\n",
              "          if (!dataTable) return;\n",
              "\n",
              "          const docLinkHtml = 'Like what you see? Visit the ' +\n",
              "            '<a target=\"_blank\" href=https://colab.research.google.com/notebooks/data_table.ipynb>data table notebook</a>'\n",
              "            + ' to learn more about interactive tables.';\n",
              "          element.innerHTML = '';\n",
              "          dataTable['output_type'] = 'display_data';\n",
              "          await google.colab.output.renderOutput(dataTable, element);\n",
              "          const docLink = document.createElement('div');\n",
              "          docLink.innerHTML = docLinkHtml;\n",
              "          element.appendChild(docLink);\n",
              "        }\n",
              "      </script>\n",
              "    </div>\n",
              "  </div>\n",
              "  "
            ],
            "text/plain": [
              "Empty DataFrame\n",
              "Columns: [id, name, category, brand, price, discount, discount_rate, mota, image_url, n_sold, rank, main_category, avg_rating, n_reviews, n_rate_5, n_rate_4, n_rate_3, n_rate_2, n_rate_1, rate_with_img]\n",
              "Index: []"
            ]
          },
          "metadata": {},
          "execution_count": 277
        }
      ]
    },
    {
      "cell_type": "code",
      "source": [
        "full_df.loc[full_df['main_category'].isnull()]"
      ],
      "metadata": {
        "colab": {
          "base_uri": "https://localhost:8080/",
          "height": 93
        },
        "id": "ChpN3JA1ugHO",
        "outputId": "5f46084b-f7c8-4af1-e016-0d8ea76e7fb4"
      },
      "execution_count": null,
      "outputs": [
        {
          "output_type": "execute_result",
          "data": {
            "text/html": [
              "\n",
              "  <div id=\"df-b56fc995-6be2-4cc0-8a30-5d684ab35612\">\n",
              "    <div class=\"colab-df-container\">\n",
              "      <div>\n",
              "<style scoped>\n",
              "    .dataframe tbody tr th:only-of-type {\n",
              "        vertical-align: middle;\n",
              "    }\n",
              "\n",
              "    .dataframe tbody tr th {\n",
              "        vertical-align: top;\n",
              "    }\n",
              "\n",
              "    .dataframe thead th {\n",
              "        text-align: right;\n",
              "    }\n",
              "</style>\n",
              "<table border=\"1\" class=\"dataframe\">\n",
              "  <thead>\n",
              "    <tr style=\"text-align: right;\">\n",
              "      <th></th>\n",
              "      <th>id</th>\n",
              "      <th>name</th>\n",
              "      <th>category</th>\n",
              "      <th>brand</th>\n",
              "      <th>price</th>\n",
              "      <th>discount</th>\n",
              "      <th>discount_rate</th>\n",
              "      <th>mota</th>\n",
              "      <th>image_url</th>\n",
              "      <th>n_sold</th>\n",
              "      <th>rank</th>\n",
              "      <th>main_category</th>\n",
              "      <th>avg_rating</th>\n",
              "      <th>n_reviews</th>\n",
              "      <th>n_rate_5</th>\n",
              "      <th>n_rate_4</th>\n",
              "      <th>n_rate_3</th>\n",
              "      <th>n_rate_2</th>\n",
              "      <th>n_rate_1</th>\n",
              "      <th>rate_with_img</th>\n",
              "    </tr>\n",
              "  </thead>\n",
              "  <tbody>\n",
              "  </tbody>\n",
              "</table>\n",
              "</div>\n",
              "      <button class=\"colab-df-convert\" onclick=\"convertToInteractive('df-b56fc995-6be2-4cc0-8a30-5d684ab35612')\"\n",
              "              title=\"Convert this dataframe to an interactive table.\"\n",
              "              style=\"display:none;\">\n",
              "        \n",
              "  <svg xmlns=\"http://www.w3.org/2000/svg\" height=\"24px\"viewBox=\"0 0 24 24\"\n",
              "       width=\"24px\">\n",
              "    <path d=\"M0 0h24v24H0V0z\" fill=\"none\"/>\n",
              "    <path d=\"M18.56 5.44l.94 2.06.94-2.06 2.06-.94-2.06-.94-.94-2.06-.94 2.06-2.06.94zm-11 1L8.5 8.5l.94-2.06 2.06-.94-2.06-.94L8.5 2.5l-.94 2.06-2.06.94zm10 10l.94 2.06.94-2.06 2.06-.94-2.06-.94-.94-2.06-.94 2.06-2.06.94z\"/><path d=\"M17.41 7.96l-1.37-1.37c-.4-.4-.92-.59-1.43-.59-.52 0-1.04.2-1.43.59L10.3 9.45l-7.72 7.72c-.78.78-.78 2.05 0 2.83L4 21.41c.39.39.9.59 1.41.59.51 0 1.02-.2 1.41-.59l7.78-7.78 2.81-2.81c.8-.78.8-2.07 0-2.86zM5.41 20L4 18.59l7.72-7.72 1.47 1.35L5.41 20z\"/>\n",
              "  </svg>\n",
              "      </button>\n",
              "      \n",
              "  <style>\n",
              "    .colab-df-container {\n",
              "      display:flex;\n",
              "      flex-wrap:wrap;\n",
              "      gap: 12px;\n",
              "    }\n",
              "\n",
              "    .colab-df-convert {\n",
              "      background-color: #E8F0FE;\n",
              "      border: none;\n",
              "      border-radius: 50%;\n",
              "      cursor: pointer;\n",
              "      display: none;\n",
              "      fill: #1967D2;\n",
              "      height: 32px;\n",
              "      padding: 0 0 0 0;\n",
              "      width: 32px;\n",
              "    }\n",
              "\n",
              "    .colab-df-convert:hover {\n",
              "      background-color: #E2EBFA;\n",
              "      box-shadow: 0px 1px 2px rgba(60, 64, 67, 0.3), 0px 1px 3px 1px rgba(60, 64, 67, 0.15);\n",
              "      fill: #174EA6;\n",
              "    }\n",
              "\n",
              "    [theme=dark] .colab-df-convert {\n",
              "      background-color: #3B4455;\n",
              "      fill: #D2E3FC;\n",
              "    }\n",
              "\n",
              "    [theme=dark] .colab-df-convert:hover {\n",
              "      background-color: #434B5C;\n",
              "      box-shadow: 0px 1px 3px 1px rgba(0, 0, 0, 0.15);\n",
              "      filter: drop-shadow(0px 1px 2px rgba(0, 0, 0, 0.3));\n",
              "      fill: #FFFFFF;\n",
              "    }\n",
              "  </style>\n",
              "\n",
              "      <script>\n",
              "        const buttonEl =\n",
              "          document.querySelector('#df-b56fc995-6be2-4cc0-8a30-5d684ab35612 button.colab-df-convert');\n",
              "        buttonEl.style.display =\n",
              "          google.colab.kernel.accessAllowed ? 'block' : 'none';\n",
              "\n",
              "        async function convertToInteractive(key) {\n",
              "          const element = document.querySelector('#df-b56fc995-6be2-4cc0-8a30-5d684ab35612');\n",
              "          const dataTable =\n",
              "            await google.colab.kernel.invokeFunction('convertToInteractive',\n",
              "                                                     [key], {});\n",
              "          if (!dataTable) return;\n",
              "\n",
              "          const docLinkHtml = 'Like what you see? Visit the ' +\n",
              "            '<a target=\"_blank\" href=https://colab.research.google.com/notebooks/data_table.ipynb>data table notebook</a>'\n",
              "            + ' to learn more about interactive tables.';\n",
              "          element.innerHTML = '';\n",
              "          dataTable['output_type'] = 'display_data';\n",
              "          await google.colab.output.renderOutput(dataTable, element);\n",
              "          const docLink = document.createElement('div');\n",
              "          docLink.innerHTML = docLinkHtml;\n",
              "          element.appendChild(docLink);\n",
              "        }\n",
              "      </script>\n",
              "    </div>\n",
              "  </div>\n",
              "  "
            ],
            "text/plain": [
              "Empty DataFrame\n",
              "Columns: [id, name, category, brand, price, discount, discount_rate, mota, image_url, n_sold, rank, main_category, avg_rating, n_reviews, n_rate_5, n_rate_4, n_rate_3, n_rate_2, n_rate_1, rate_with_img]\n",
              "Index: []"
            ]
          },
          "metadata": {},
          "execution_count": 143
        }
      ]
    },
    {
      "cell_type": "code",
      "source": [
        "full_df.loc[full_df['discount'].isnull()]"
      ],
      "metadata": {
        "colab": {
          "base_uri": "https://localhost:8080/",
          "height": 93
        },
        "id": "TooBuJChumpW",
        "outputId": "0e1a133f-4bbd-4dc6-c62f-9c38cf20a52c"
      },
      "execution_count": null,
      "outputs": [
        {
          "output_type": "execute_result",
          "data": {
            "text/html": [
              "\n",
              "  <div id=\"df-4be4a860-e08b-45f6-8e1e-0add712a4ef8\">\n",
              "    <div class=\"colab-df-container\">\n",
              "      <div>\n",
              "<style scoped>\n",
              "    .dataframe tbody tr th:only-of-type {\n",
              "        vertical-align: middle;\n",
              "    }\n",
              "\n",
              "    .dataframe tbody tr th {\n",
              "        vertical-align: top;\n",
              "    }\n",
              "\n",
              "    .dataframe thead th {\n",
              "        text-align: right;\n",
              "    }\n",
              "</style>\n",
              "<table border=\"1\" class=\"dataframe\">\n",
              "  <thead>\n",
              "    <tr style=\"text-align: right;\">\n",
              "      <th></th>\n",
              "      <th>id</th>\n",
              "      <th>name</th>\n",
              "      <th>category</th>\n",
              "      <th>brand</th>\n",
              "      <th>price</th>\n",
              "      <th>discount</th>\n",
              "      <th>discount_rate</th>\n",
              "      <th>mota</th>\n",
              "      <th>image_url</th>\n",
              "      <th>n_sold</th>\n",
              "      <th>rank</th>\n",
              "      <th>main_category</th>\n",
              "      <th>avg_rating</th>\n",
              "      <th>n_reviews</th>\n",
              "      <th>n_rate_5</th>\n",
              "      <th>n_rate_4</th>\n",
              "      <th>n_rate_3</th>\n",
              "      <th>n_rate_2</th>\n",
              "      <th>n_rate_1</th>\n",
              "      <th>rate_with_img</th>\n",
              "    </tr>\n",
              "  </thead>\n",
              "  <tbody>\n",
              "  </tbody>\n",
              "</table>\n",
              "</div>\n",
              "      <button class=\"colab-df-convert\" onclick=\"convertToInteractive('df-4be4a860-e08b-45f6-8e1e-0add712a4ef8')\"\n",
              "              title=\"Convert this dataframe to an interactive table.\"\n",
              "              style=\"display:none;\">\n",
              "        \n",
              "  <svg xmlns=\"http://www.w3.org/2000/svg\" height=\"24px\"viewBox=\"0 0 24 24\"\n",
              "       width=\"24px\">\n",
              "    <path d=\"M0 0h24v24H0V0z\" fill=\"none\"/>\n",
              "    <path d=\"M18.56 5.44l.94 2.06.94-2.06 2.06-.94-2.06-.94-.94-2.06-.94 2.06-2.06.94zm-11 1L8.5 8.5l.94-2.06 2.06-.94-2.06-.94L8.5 2.5l-.94 2.06-2.06.94zm10 10l.94 2.06.94-2.06 2.06-.94-2.06-.94-.94-2.06-.94 2.06-2.06.94z\"/><path d=\"M17.41 7.96l-1.37-1.37c-.4-.4-.92-.59-1.43-.59-.52 0-1.04.2-1.43.59L10.3 9.45l-7.72 7.72c-.78.78-.78 2.05 0 2.83L4 21.41c.39.39.9.59 1.41.59.51 0 1.02-.2 1.41-.59l7.78-7.78 2.81-2.81c.8-.78.8-2.07 0-2.86zM5.41 20L4 18.59l7.72-7.72 1.47 1.35L5.41 20z\"/>\n",
              "  </svg>\n",
              "      </button>\n",
              "      \n",
              "  <style>\n",
              "    .colab-df-container {\n",
              "      display:flex;\n",
              "      flex-wrap:wrap;\n",
              "      gap: 12px;\n",
              "    }\n",
              "\n",
              "    .colab-df-convert {\n",
              "      background-color: #E8F0FE;\n",
              "      border: none;\n",
              "      border-radius: 50%;\n",
              "      cursor: pointer;\n",
              "      display: none;\n",
              "      fill: #1967D2;\n",
              "      height: 32px;\n",
              "      padding: 0 0 0 0;\n",
              "      width: 32px;\n",
              "    }\n",
              "\n",
              "    .colab-df-convert:hover {\n",
              "      background-color: #E2EBFA;\n",
              "      box-shadow: 0px 1px 2px rgba(60, 64, 67, 0.3), 0px 1px 3px 1px rgba(60, 64, 67, 0.15);\n",
              "      fill: #174EA6;\n",
              "    }\n",
              "\n",
              "    [theme=dark] .colab-df-convert {\n",
              "      background-color: #3B4455;\n",
              "      fill: #D2E3FC;\n",
              "    }\n",
              "\n",
              "    [theme=dark] .colab-df-convert:hover {\n",
              "      background-color: #434B5C;\n",
              "      box-shadow: 0px 1px 3px 1px rgba(0, 0, 0, 0.15);\n",
              "      filter: drop-shadow(0px 1px 2px rgba(0, 0, 0, 0.3));\n",
              "      fill: #FFFFFF;\n",
              "    }\n",
              "  </style>\n",
              "\n",
              "      <script>\n",
              "        const buttonEl =\n",
              "          document.querySelector('#df-4be4a860-e08b-45f6-8e1e-0add712a4ef8 button.colab-df-convert');\n",
              "        buttonEl.style.display =\n",
              "          google.colab.kernel.accessAllowed ? 'block' : 'none';\n",
              "\n",
              "        async function convertToInteractive(key) {\n",
              "          const element = document.querySelector('#df-4be4a860-e08b-45f6-8e1e-0add712a4ef8');\n",
              "          const dataTable =\n",
              "            await google.colab.kernel.invokeFunction('convertToInteractive',\n",
              "                                                     [key], {});\n",
              "          if (!dataTable) return;\n",
              "\n",
              "          const docLinkHtml = 'Like what you see? Visit the ' +\n",
              "            '<a target=\"_blank\" href=https://colab.research.google.com/notebooks/data_table.ipynb>data table notebook</a>'\n",
              "            + ' to learn more about interactive tables.';\n",
              "          element.innerHTML = '';\n",
              "          dataTable['output_type'] = 'display_data';\n",
              "          await google.colab.output.renderOutput(dataTable, element);\n",
              "          const docLink = document.createElement('div');\n",
              "          docLink.innerHTML = docLinkHtml;\n",
              "          element.appendChild(docLink);\n",
              "        }\n",
              "      </script>\n",
              "    </div>\n",
              "  </div>\n",
              "  "
            ],
            "text/plain": [
              "Empty DataFrame\n",
              "Columns: [id, name, category, brand, price, discount, discount_rate, mota, image_url, n_sold, rank, main_category, avg_rating, n_reviews, n_rate_5, n_rate_4, n_rate_3, n_rate_2, n_rate_1, rate_with_img]\n",
              "Index: []"
            ]
          },
          "metadata": {},
          "execution_count": 144
        }
      ]
    },
    {
      "cell_type": "code",
      "source": [
        "full_df.loc[full_df['discount_rate'].isnull()]"
      ],
      "metadata": {
        "colab": {
          "base_uri": "https://localhost:8080/",
          "height": 93
        },
        "id": "dLNd2ZH3uobO",
        "outputId": "98723954-db58-4a0b-d574-e567111550e8"
      },
      "execution_count": null,
      "outputs": [
        {
          "output_type": "execute_result",
          "data": {
            "text/html": [
              "\n",
              "  <div id=\"df-e26015b2-308d-4559-bc29-208e0591a4da\">\n",
              "    <div class=\"colab-df-container\">\n",
              "      <div>\n",
              "<style scoped>\n",
              "    .dataframe tbody tr th:only-of-type {\n",
              "        vertical-align: middle;\n",
              "    }\n",
              "\n",
              "    .dataframe tbody tr th {\n",
              "        vertical-align: top;\n",
              "    }\n",
              "\n",
              "    .dataframe thead th {\n",
              "        text-align: right;\n",
              "    }\n",
              "</style>\n",
              "<table border=\"1\" class=\"dataframe\">\n",
              "  <thead>\n",
              "    <tr style=\"text-align: right;\">\n",
              "      <th></th>\n",
              "      <th>id</th>\n",
              "      <th>name</th>\n",
              "      <th>category</th>\n",
              "      <th>brand</th>\n",
              "      <th>price</th>\n",
              "      <th>discount</th>\n",
              "      <th>discount_rate</th>\n",
              "      <th>mota</th>\n",
              "      <th>image_url</th>\n",
              "      <th>n_sold</th>\n",
              "      <th>rank</th>\n",
              "      <th>main_category</th>\n",
              "      <th>avg_rating</th>\n",
              "      <th>n_reviews</th>\n",
              "      <th>n_rate_5</th>\n",
              "      <th>n_rate_4</th>\n",
              "      <th>n_rate_3</th>\n",
              "      <th>n_rate_2</th>\n",
              "      <th>n_rate_1</th>\n",
              "      <th>rate_with_img</th>\n",
              "    </tr>\n",
              "  </thead>\n",
              "  <tbody>\n",
              "  </tbody>\n",
              "</table>\n",
              "</div>\n",
              "      <button class=\"colab-df-convert\" onclick=\"convertToInteractive('df-e26015b2-308d-4559-bc29-208e0591a4da')\"\n",
              "              title=\"Convert this dataframe to an interactive table.\"\n",
              "              style=\"display:none;\">\n",
              "        \n",
              "  <svg xmlns=\"http://www.w3.org/2000/svg\" height=\"24px\"viewBox=\"0 0 24 24\"\n",
              "       width=\"24px\">\n",
              "    <path d=\"M0 0h24v24H0V0z\" fill=\"none\"/>\n",
              "    <path d=\"M18.56 5.44l.94 2.06.94-2.06 2.06-.94-2.06-.94-.94-2.06-.94 2.06-2.06.94zm-11 1L8.5 8.5l.94-2.06 2.06-.94-2.06-.94L8.5 2.5l-.94 2.06-2.06.94zm10 10l.94 2.06.94-2.06 2.06-.94-2.06-.94-.94-2.06-.94 2.06-2.06.94z\"/><path d=\"M17.41 7.96l-1.37-1.37c-.4-.4-.92-.59-1.43-.59-.52 0-1.04.2-1.43.59L10.3 9.45l-7.72 7.72c-.78.78-.78 2.05 0 2.83L4 21.41c.39.39.9.59 1.41.59.51 0 1.02-.2 1.41-.59l7.78-7.78 2.81-2.81c.8-.78.8-2.07 0-2.86zM5.41 20L4 18.59l7.72-7.72 1.47 1.35L5.41 20z\"/>\n",
              "  </svg>\n",
              "      </button>\n",
              "      \n",
              "  <style>\n",
              "    .colab-df-container {\n",
              "      display:flex;\n",
              "      flex-wrap:wrap;\n",
              "      gap: 12px;\n",
              "    }\n",
              "\n",
              "    .colab-df-convert {\n",
              "      background-color: #E8F0FE;\n",
              "      border: none;\n",
              "      border-radius: 50%;\n",
              "      cursor: pointer;\n",
              "      display: none;\n",
              "      fill: #1967D2;\n",
              "      height: 32px;\n",
              "      padding: 0 0 0 0;\n",
              "      width: 32px;\n",
              "    }\n",
              "\n",
              "    .colab-df-convert:hover {\n",
              "      background-color: #E2EBFA;\n",
              "      box-shadow: 0px 1px 2px rgba(60, 64, 67, 0.3), 0px 1px 3px 1px rgba(60, 64, 67, 0.15);\n",
              "      fill: #174EA6;\n",
              "    }\n",
              "\n",
              "    [theme=dark] .colab-df-convert {\n",
              "      background-color: #3B4455;\n",
              "      fill: #D2E3FC;\n",
              "    }\n",
              "\n",
              "    [theme=dark] .colab-df-convert:hover {\n",
              "      background-color: #434B5C;\n",
              "      box-shadow: 0px 1px 3px 1px rgba(0, 0, 0, 0.15);\n",
              "      filter: drop-shadow(0px 1px 2px rgba(0, 0, 0, 0.3));\n",
              "      fill: #FFFFFF;\n",
              "    }\n",
              "  </style>\n",
              "\n",
              "      <script>\n",
              "        const buttonEl =\n",
              "          document.querySelector('#df-e26015b2-308d-4559-bc29-208e0591a4da button.colab-df-convert');\n",
              "        buttonEl.style.display =\n",
              "          google.colab.kernel.accessAllowed ? 'block' : 'none';\n",
              "\n",
              "        async function convertToInteractive(key) {\n",
              "          const element = document.querySelector('#df-e26015b2-308d-4559-bc29-208e0591a4da');\n",
              "          const dataTable =\n",
              "            await google.colab.kernel.invokeFunction('convertToInteractive',\n",
              "                                                     [key], {});\n",
              "          if (!dataTable) return;\n",
              "\n",
              "          const docLinkHtml = 'Like what you see? Visit the ' +\n",
              "            '<a target=\"_blank\" href=https://colab.research.google.com/notebooks/data_table.ipynb>data table notebook</a>'\n",
              "            + ' to learn more about interactive tables.';\n",
              "          element.innerHTML = '';\n",
              "          dataTable['output_type'] = 'display_data';\n",
              "          await google.colab.output.renderOutput(dataTable, element);\n",
              "          const docLink = document.createElement('div');\n",
              "          docLink.innerHTML = docLinkHtml;\n",
              "          element.appendChild(docLink);\n",
              "        }\n",
              "      </script>\n",
              "    </div>\n",
              "  </div>\n",
              "  "
            ],
            "text/plain": [
              "Empty DataFrame\n",
              "Columns: [id, name, category, brand, price, discount, discount_rate, mota, image_url, n_sold, rank, main_category, avg_rating, n_reviews, n_rate_5, n_rate_4, n_rate_3, n_rate_2, n_rate_1, rate_with_img]\n",
              "Index: []"
            ]
          },
          "metadata": {},
          "execution_count": 145
        }
      ]
    },
    {
      "cell_type": "code",
      "source": [
        "y = full_df['n_sold']\n",
        "print(y.shape)"
      ],
      "metadata": {
        "colab": {
          "base_uri": "https://localhost:8080/"
        },
        "id": "CEgLzkBYtiCu",
        "outputId": "0f3c9d40-f704-42af-852f-dfb2b419c7ac"
      },
      "execution_count": null,
      "outputs": [
        {
          "output_type": "stream",
          "name": "stdout",
          "text": [
            "(22958,)\n"
          ]
        }
      ]
    },
    {
      "cell_type": "code",
      "source": [
        "category = pd.get_dummies(full_df['main_category'], drop_first=True)"
      ],
      "metadata": {
        "id": "sgjfbuCgtl04"
      },
      "execution_count": null,
      "outputs": []
    },
    {
      "cell_type": "code",
      "source": [
        "price=full_df[['price']]\n",
        "avg_rating = full_df[['avg_rating']]\n",
        "n_reviews=full_df[['n_reviews']]\n",
        "discount = full_df[['discount']]\n",
        "discount_rate = full_df[['discount_rate']]\n",
        "rank = full_df[['rank']]\n",
        "n_rate_5 = full_df[['n_rate_5']]\n",
        "n_rate_4 = full_df[['n_rate_4']]\n",
        "n_rate_3 = full_df[['n_rate_3']]\n",
        "n_rate_2 = full_df[['n_rate_2']]\n",
        "n_rate_1 = full_df[['n_rate_1']]\n",
        "rate_with_img = full_df[['rate_with_img']]"
      ],
      "metadata": {
        "id": "AnBS57LTtnoH"
      },
      "execution_count": null,
      "outputs": []
    },
    {
      "cell_type": "code",
      "source": [
        "class Metrics():\n",
        "    def computeMSE(y_true, y_pred):\n",
        "        return np.mean((y_true-y_pred)**2)\n",
        "\n",
        "    def computeMAE(y_true, y_pred):\n",
        "        return np.mean(np.abs(y_true-y_pred))\n",
        "\n",
        "    def computeSIA(y_true, y_pred, eps=500): \n",
        "        error = np.abs(y_true - y_pred)\n",
        "        res = np.mean(((error - eps) < 0 ) & (y_pred >= 0))\n",
        "        return res"
      ],
      "metadata": {
        "id": "PxiQr9SMto1Y"
      },
      "execution_count": null,
      "outputs": []
    },
    {
      "cell_type": "code",
      "source": [
        "feature_list = [category, \n",
        "                price,\n",
        "                avg_rating, \n",
        "                n_reviews, \n",
        "                discount,\n",
        "                discount_rate,\n",
        "                # n_rate_5,\n",
        "                # n_rate_4,\n",
        "                # n_rate_3,\n",
        "                # n_rate_2,\n",
        "                # n_rate_1,\n",
        "                # rate_with_img\n",
        "\n",
        "                ]"
      ],
      "metadata": {
        "id": "0-FTT8bctpl5"
      },
      "execution_count": null,
      "outputs": []
    },
    {
      "cell_type": "code",
      "source": [
        "X = np.hstack(feature_list)\n",
        "X"
      ],
      "metadata": {
        "colab": {
          "base_uri": "https://localhost:8080/"
        },
        "id": "4eQCmz-JuFuo",
        "outputId": "62e46c1a-54ad-479a-878e-ce8bf02514b9"
      },
      "execution_count": null,
      "outputs": [
        {
          "output_type": "execute_result",
          "data": {
            "text/plain": [
              "array([[     0,      0,      0, ...,  10000,      0,      0],\n",
              "       [     0,      0,      0, ..., 360000,      0,      0],\n",
              "       [     0,      0,      0, ..., 360000,      0,      0],\n",
              "       ...,\n",
              "       [     0,      0,      0, ...,  89000,      0,      0],\n",
              "       [     0,      0,      0, ...,   5000,      0,      0],\n",
              "       [     0,      0,      0, ..., 499000,      0,      0]])"
            ]
          },
          "metadata": {},
          "execution_count": 448
        }
      ]
    },
    {
      "cell_type": "code",
      "source": [
        "X_train, X_test, y_train, y_test = train_test_split(X, y, test_size=0.2, random_state=1)\n",
        "X_train, X_val, y_train, y_val = train_test_split(X_train, y_train, test_size=0.2, random_state=1)\n",
        "print(X_train.shape, y_train.shape)\n",
        "print(X_val.shape, y_val.shape)\n",
        "print(X_test.shape, y_test.shape)"
      ],
      "metadata": {
        "colab": {
          "base_uri": "https://localhost:8080/"
        },
        "id": "ncWFGd6kuHng",
        "outputId": "966c26ac-5e8f-4c52-cb5b-224f6d40d4b3"
      },
      "execution_count": null,
      "outputs": [
        {
          "output_type": "stream",
          "name": "stdout",
          "text": [
            "(14692, 27) (14692,)\n",
            "(3674, 27) (3674,)\n",
            "(4592, 27) (4592,)\n"
          ]
        }
      ]
    },
    {
      "cell_type": "markdown",
      "source": [
        "<h1>Random Forest Regression</h1>"
      ],
      "metadata": {
        "id": "TfHGGLAqwzQp"
      }
    },
    {
      "cell_type": "code",
      "source": [
        "model = RandomForestRegressor()\n",
        "model = model.fit(X_train, y_train)"
      ],
      "metadata": {
        "id": "9zwcyWb9uKtI"
      },
      "execution_count": null,
      "outputs": []
    },
    {
      "cell_type": "code",
      "source": [
        "#Compute MAE metrics\n",
        "mae_train = Metrics.computeMAE(y_train, model.predict(X_train))\n",
        "mae_val = Metrics.computeMAE(y_val, model.predict(X_val))\n",
        "mae_test = Metrics.computeMAE(y_test, model.predict(X_test))\n",
        "\n",
        "print(mae_train)\n",
        "print(mae_val)\n",
        "print(mae_test)"
      ],
      "metadata": {
        "colab": {
          "base_uri": "https://localhost:8080/"
        },
        "id": "68Tap4gqvmWm",
        "outputId": "dc4469c3-c34b-4193-f0e2-779ce28bba04"
      },
      "execution_count": null,
      "outputs": [
        {
          "output_type": "stream",
          "name": "stdout",
          "text": [
            "490.3853639524255\n",
            "731.0752183481665\n",
            "677.0451009977015\n"
          ]
        }
      ]
    },
    {
      "cell_type": "code",
      "source": [
        "#Compute SIA_1000 metrics\n",
        "SIA_train = Metrics.computeSIA(y_train, model.predict(X_train), 1000)\n",
        "SIA_val = Metrics.computeSIA(y_val, model.predict(X_val), 1000)\n",
        "SIA_test = Metrics.computeSIA(y_test, model.predict(X_test), 1000)\n",
        "\n",
        "print(SIA_train)\n",
        "print(SIA_val)\n",
        "print(SIA_test)"
      ],
      "metadata": {
        "colab": {
          "base_uri": "https://localhost:8080/"
        },
        "id": "u-Nf7Hmvvox2",
        "outputId": "d61c69b6-3717-4468-8a73-24f43015b722"
      },
      "execution_count": null,
      "outputs": [
        {
          "output_type": "stream",
          "name": "stdout",
          "text": [
            "0.9704601143479444\n",
            "0.9246053347849755\n",
            "0.9355400696864111\n"
          ]
        }
      ]
    },
    {
      "cell_type": "code",
      "source": [
        "#Compute SIA_500 metrics\n",
        "SIA_train = Metrics.computeSIA(y_train, model.predict(X_train), 500)\n",
        "SIA_val = Metrics.computeSIA(y_val, model.predict(X_val), 500)\n",
        "SIA_test = Metrics.computeSIA(y_test, model.predict(X_test), 500)\n",
        "\n",
        "print(SIA_train)\n",
        "print(SIA_val)\n",
        "print(SIA_test)"
      ],
      "metadata": {
        "colab": {
          "base_uri": "https://localhost:8080/"
        },
        "id": "r0J9LueXv2Ne",
        "outputId": "aa864039-4fba-43ee-d0ec-f88c7adaa5d8"
      },
      "execution_count": null,
      "outputs": [
        {
          "output_type": "stream",
          "name": "stdout",
          "text": [
            "0.9433024775387966\n",
            "0.8794229722373434\n",
            "0.8791376306620209\n"
          ]
        }
      ]
    },
    {
      "cell_type": "code",
      "source": [
        "#Compute SIA_200 metrics\n",
        "SIA_train = Metrics.computeSIA(y_train, model.predict(X_train), 200)\n",
        "SIA_val = Metrics.computeSIA(y_val, model.predict(X_val), 200)\n",
        "SIA_test = Metrics.computeSIA(y_test, model.predict(X_test), 200)\n",
        "\n",
        "print(SIA_train)\n",
        "print(SIA_val)\n",
        "print(SIA_test)"
      ],
      "metadata": {
        "colab": {
          "base_uri": "https://localhost:8080/"
        },
        "id": "c_gHlItdwcSr",
        "outputId": "ac373f5e-7fc3-4984-ef4c-2b50cde8d15f"
      },
      "execution_count": null,
      "outputs": [
        {
          "output_type": "stream",
          "name": "stdout",
          "text": [
            "0.8855159270351212\n",
            "0.7808927599346761\n",
            "0.7783101045296167\n"
          ]
        }
      ]
    },
    {
      "cell_type": "markdown",
      "source": [
        "<h1>Linear Regression</h1>"
      ],
      "metadata": {
        "id": "3BtGagBrwskA"
      }
    },
    {
      "cell_type": "code",
      "source": [
        "feature_list = [#category, \n",
        "                price,\n",
        "                avg_rating, \n",
        "                n_reviews, \n",
        "                discount,\n",
        "                discount_rate,\n",
        "\n",
        "                # n_rate_5,\n",
        "                # n_rate_4,\n",
        "                # n_rate_3,\n",
        "                # n_rate_2,\n",
        "                # n_rate_1,\n",
        "\n",
        "                ]"
      ],
      "metadata": {
        "id": "T7N-UZD8wpz3"
      },
      "execution_count": null,
      "outputs": []
    },
    {
      "cell_type": "code",
      "source": [
        "X = np.hstack(feature_list)"
      ],
      "metadata": {
        "id": "i-kLGp0JxEZv"
      },
      "execution_count": null,
      "outputs": []
    },
    {
      "cell_type": "code",
      "source": [
        "X_train, X_test, y_train, y_test = train_test_split(X, y, test_size=0.2, random_state=1)\n",
        "X_train, X_val, y_train, y_val = train_test_split(X_train, y_train, test_size=0.2, random_state=1)\n",
        "print(X_train.shape, y_train.shape)\n",
        "print(X_val.shape, y_val.shape)\n",
        "print(X_test.shape, y_test.shape)"
      ],
      "metadata": {
        "colab": {
          "base_uri": "https://localhost:8080/"
        },
        "id": "-SfLuK0pxHSX",
        "outputId": "ea7fa374-5ef8-4688-b078-27710fbaa557"
      },
      "execution_count": null,
      "outputs": [
        {
          "output_type": "stream",
          "name": "stdout",
          "text": [
            "(14692, 10) (14692,)\n",
            "(3674, 10) (3674,)\n",
            "(4592, 10) (4592,)\n"
          ]
        }
      ]
    },
    {
      "cell_type": "code",
      "source": [
        "normalizer = StandardScaler()\n",
        "X_train = normalizer.fit_transform(X_train)"
      ],
      "metadata": {
        "id": "y0zlrokRxJIY"
      },
      "execution_count": null,
      "outputs": []
    },
    {
      "cell_type": "code",
      "source": [
        "X_val = normalizer.transform(X_val)\n",
        "X_test = normalizer.transform(X_test)"
      ],
      "metadata": {
        "id": "04dEdxZvxMD6"
      },
      "execution_count": null,
      "outputs": []
    },
    {
      "cell_type": "code",
      "source": [
        "from sklearn.linear_model import LinearRegression\n",
        "model = LinearRegression()\n",
        "model.fit(X_train ,y_train)"
      ],
      "metadata": {
        "colab": {
          "base_uri": "https://localhost:8080/"
        },
        "id": "kyDkRIm2xPQ3",
        "outputId": "cbfa447e-6665-4efb-fcef-68dc440b8f08"
      },
      "execution_count": null,
      "outputs": [
        {
          "output_type": "execute_result",
          "data": {
            "text/plain": [
              "LinearRegression()"
            ]
          },
          "metadata": {},
          "execution_count": 378
        }
      ]
    },
    {
      "cell_type": "code",
      "source": [
        "model.coef_"
      ],
      "metadata": {
        "colab": {
          "base_uri": "https://localhost:8080/"
        },
        "id": "oYvCSuUWxQ2P",
        "outputId": "eb656a8b-18c1-4d70-cb92-7b1e31fdac94"
      },
      "execution_count": null,
      "outputs": [
        {
          "output_type": "execute_result",
          "data": {
            "text/plain": [
              "array([  -86.18312108,    67.44878877,  1173.77229876,     3.22779997,\n",
              "         -22.80756928,  1834.66919537, -2755.55217972,  1174.06818094,\n",
              "        -419.38787617,   539.9321603 ])"
            ]
          },
          "metadata": {},
          "execution_count": 379
        }
      ]
    },
    {
      "cell_type": "code",
      "source": [
        "print(np.where(model.coef_>1e4))\n",
        "print(np.where(model.coef_>1e3))\n",
        "print(np.where(model.coef_>1e2))"
      ],
      "metadata": {
        "colab": {
          "base_uri": "https://localhost:8080/"
        },
        "id": "VFBczqzMxSvx",
        "outputId": "abc06612-c79b-4bec-fc3b-e5db713864d2"
      },
      "execution_count": null,
      "outputs": [
        {
          "output_type": "stream",
          "name": "stdout",
          "text": [
            "(array([], dtype=int64),)\n",
            "(array([2, 5, 7]),)\n",
            "(array([2, 5, 7, 9]),)\n"
          ]
        }
      ]
    },
    {
      "cell_type": "code",
      "source": [
        "#Compute MAE metrics\n",
        "mae_train = Metrics.computeMAE(y_train, model.predict(X_train))\n",
        "mae_val = Metrics.computeMAE(y_val, model.predict(X_val))\n",
        "mae_test = Metrics.computeMAE(y_test, model.predict(X_test))\n",
        "\n",
        "print(mae_train)\n",
        "print(mae_val)\n",
        "print(mae_test)"
      ],
      "metadata": {
        "colab": {
          "base_uri": "https://localhost:8080/"
        },
        "id": "o-lhwaDfxbq3",
        "outputId": "76652a63-ef41-44cb-ed89-fa13c4a32e04"
      },
      "execution_count": null,
      "outputs": [
        {
          "output_type": "stream",
          "name": "stdout",
          "text": [
            "694.1867283028328\n",
            "615.256029143018\n",
            "558.5591237085193\n"
          ]
        }
      ]
    },
    {
      "cell_type": "code",
      "source": [
        "#Compute SIA metrics\n",
        "SIA_train = Metrics.computeSIA(y_train, np.clip(model.predict(X_train), 0,np.inf), 1000)\n",
        "SIA_val = Metrics.computeSIA(y_val, np.clip(model.predict(X_val), 0,np.inf), 1000)\n",
        "SIA_test = Metrics.computeSIA(y_test, np.clip(model.predict(X_test), 0,np.inf), 1000)\n",
        "\n",
        "print(SIA_train)\n",
        "print(SIA_val)\n",
        "print(SIA_test)"
      ],
      "metadata": {
        "colab": {
          "base_uri": "https://localhost:8080/"
        },
        "id": "drTLoWwl4r8l",
        "outputId": "da851900-9999-4027-e0a3-3f948db37416"
      },
      "execution_count": null,
      "outputs": [
        {
          "output_type": "stream",
          "name": "stdout",
          "text": [
            "0.8959978219439151\n",
            "0.8922155688622755\n",
            "0.9002613240418118\n"
          ]
        }
      ]
    },
    {
      "cell_type": "code",
      "source": [
        "#Compute SIA metrics\n",
        "SIA_train = Metrics.computeSIA(y_train, np.clip(model.predict(X_train), 0,np.inf), 500)\n",
        "SIA_val = Metrics.computeSIA(y_val, np.clip(model.predict(X_val), 0,np.inf), 500)\n",
        "SIA_test = Metrics.computeSIA(y_test, np.clip(model.predict(X_test), 0,np.inf), 500)\n",
        "\n",
        "print(SIA_train)\n",
        "print(SIA_val)\n",
        "print(SIA_test)"
      ],
      "metadata": {
        "colab": {
          "base_uri": "https://localhost:8080/"
        },
        "id": "lZgTbS145FJa",
        "outputId": "e254cdd2-16c1-459a-83f4-61c1c2024b49"
      },
      "execution_count": null,
      "outputs": [
        {
          "output_type": "stream",
          "name": "stdout",
          "text": [
            "0.7893411380343044\n",
            "0.7920522591181274\n",
            "0.7948606271777003\n"
          ]
        }
      ]
    },
    {
      "cell_type": "code",
      "source": [
        "#Compute SIA metrics\n",
        "SIA_train = Metrics.computeSIA(y_train, np.clip(model.predict(X_train), 0,np.inf), 200)\n",
        "SIA_val = Metrics.computeSIA(y_val, np.clip(model.predict(X_val), 0,np.inf), 200)\n",
        "SIA_test = Metrics.computeSIA(y_test, np.clip(model.predict(X_test), 0,np.inf), 200)\n",
        "\n",
        "print(SIA_train)\n",
        "print(SIA_val)\n",
        "print(SIA_test)"
      ],
      "metadata": {
        "colab": {
          "base_uri": "https://localhost:8080/"
        },
        "id": "AzyydK4gxdne",
        "outputId": "9b1c9caf-0c6a-4d79-ec78-1a464f276fe0"
      },
      "execution_count": null,
      "outputs": [
        {
          "output_type": "stream",
          "name": "stdout",
          "text": [
            "0.5068064252654506\n",
            "0.5059880239520959\n",
            "0.5067508710801394\n"
          ]
        }
      ]
    },
    {
      "cell_type": "code",
      "source": [
        "from sklearn.linear_model import Ridge\n",
        "\n",
        "alphas = np.linspace(0.001, 10, num=100)\n",
        "best_val = np.inf\n",
        "best_alpha = -1\n",
        "model = None\n",
        "for alpha in alphas:\n",
        "    tmp_model = Ridge(alpha)\n",
        "    tmp_model.fit(X_train ,y_train)\n",
        "    mae_val = Metrics.computeMAE(y_val, tmp_model.predict(X_val))\n",
        "    if mae_val < best_val:\n",
        "        best_val = mae_val\n",
        "        model = tmp_model\n",
        "        best_alpha = alpha\n",
        "\n",
        "print(\"Best cross-validation MAE: {} with alpha: {}\".format(best_val, best_alpha))"
      ],
      "metadata": {
        "colab": {
          "base_uri": "https://localhost:8080/"
        },
        "id": "2ilCyWrAxkz_",
        "outputId": "a61adc43-803e-4ff2-cc6f-394213fedaf9"
      },
      "execution_count": null,
      "outputs": [
        {
          "output_type": "stream",
          "name": "stdout",
          "text": [
            "Best cross-validation MAE: 611.7890488551732 with alpha: 10.0\n"
          ]
        }
      ]
    },
    {
      "cell_type": "code",
      "source": [
        "mae_train = Metrics.computeMAE(y_train, model.predict(X_train))\n",
        "mae_val = Metrics.computeMAE(y_val, model.predict(X_val))\n",
        "mae_test = Metrics.computeMAE(y_test, model.predict(X_test))\n",
        "\n",
        "print(mae_train)\n",
        "print(mae_val)\n",
        "print(mae_test)"
      ],
      "metadata": {
        "colab": {
          "base_uri": "https://localhost:8080/"
        },
        "id": "_f-MxlDixp_w",
        "outputId": "f1f17fd8-8b47-40bc-c742-27157fdc15d9"
      },
      "execution_count": null,
      "outputs": [
        {
          "output_type": "stream",
          "name": "stdout",
          "text": [
            "690.9897883916354\n",
            "611.7890488551732\n",
            "555.1870671166039\n"
          ]
        }
      ]
    },
    {
      "cell_type": "code",
      "source": [
        "print(model.coef_)"
      ],
      "metadata": {
        "colab": {
          "base_uri": "https://localhost:8080/"
        },
        "id": "ogYlFTUBx2zg",
        "outputId": "1b209690-ef51-4df9-a137-0e7a5c9f9ff7"
      },
      "execution_count": null,
      "outputs": [
        {
          "output_type": "stream",
          "name": "stdout",
          "text": [
            "[  -85.54513799    67.38190779  1164.118237       2.95244223\n",
            "   -22.57500996  1815.14884101 -2701.56100175  1144.01614339\n",
            "  -414.98631283   537.6191186 ]\n"
          ]
        }
      ]
    },
    {
      "cell_type": "code",
      "source": [
        "SIA_train = Metrics.computeSIA(y_train, np.clip(model.predict(X_train), 0,np.inf), 1000)\n",
        "SIA_val = Metrics.computeSIA(y_val, np.clip(model.predict(X_val), 0,np.inf), 1000)\n",
        "SIA_test = Metrics.computeSIA(y_test, np.clip(model.predict(X_test), 0,np.inf), 1000)\n",
        "\n",
        "print(SIA_train)\n",
        "print(SIA_val)\n",
        "print(SIA_test)"
      ],
      "metadata": {
        "colab": {
          "base_uri": "https://localhost:8080/"
        },
        "id": "mQypUnQ-inE_",
        "outputId": "17120eb6-392b-4e64-f90a-bef9f75c771c"
      },
      "execution_count": null,
      "outputs": [
        {
          "output_type": "stream",
          "name": "stdout",
          "text": [
            "0.8969507214810781\n",
            "0.8924877517691889\n",
            "0.9011324041811847\n"
          ]
        }
      ]
    },
    {
      "cell_type": "code",
      "source": [
        "SIA_train = Metrics.computeSIA(y_train, np.clip(model.predict(X_train), 0,np.inf), 500)\n",
        "SIA_val = Metrics.computeSIA(y_val, np.clip(model.predict(X_val), 0,np.inf), 500)\n",
        "SIA_test = Metrics.computeSIA(y_test, np.clip(model.predict(X_test), 0,np.inf), 500)\n",
        "\n",
        "print(SIA_train)\n",
        "print(SIA_val)\n",
        "print(SIA_test)"
      ],
      "metadata": {
        "colab": {
          "base_uri": "https://localhost:8080/"
        },
        "id": "Ksdn_kFqinb_",
        "outputId": "17741fa0-26a6-4fd9-c785-9ea2381d1f5b"
      },
      "execution_count": null,
      "outputs": [
        {
          "output_type": "stream",
          "name": "stdout",
          "text": [
            "0.7908385515927036\n",
            "0.7931409907457811\n",
            "0.7957317073170732\n"
          ]
        }
      ]
    },
    {
      "cell_type": "code",
      "source": [
        "SIA_train = Metrics.computeSIA(y_train, np.clip(model.predict(X_train), 0,np.inf), 200)\n",
        "SIA_val = Metrics.computeSIA(y_val, np.clip(model.predict(X_val), 0,np.inf), 200)\n",
        "SIA_test = Metrics.computeSIA(y_test, np.clip(model.predict(X_test), 0,np.inf), 200)\n",
        "\n",
        "print(SIA_train)\n",
        "print(SIA_val)\n",
        "print(SIA_test)"
      ],
      "metadata": {
        "colab": {
          "base_uri": "https://localhost:8080/"
        },
        "id": "uQYS2xTWx40p",
        "outputId": "c35e2ce6-0bf2-49f2-9de9-c80e46820100"
      },
      "execution_count": null,
      "outputs": [
        {
          "output_type": "stream",
          "name": "stdout",
          "text": [
            "0.5085760958344677\n",
            "0.5073489384866631\n",
            "0.508493031358885\n"
          ]
        }
      ]
    },
    {
      "cell_type": "markdown",
      "source": [
        "<h1>Mean Encoding</h1>"
      ],
      "metadata": {
        "id": "N3feXyLtyQTn"
      }
    },
    {
      "cell_type": "code",
      "source": [
        "df_train, df_test = train_test_split(full_df, test_size=0.2, random_state=1)\n",
        "df_train, df_val = train_test_split(df_train, test_size=0.2, random_state=1)\n",
        "print(df_train.shape)\n",
        "print(df_val.shape)\n",
        "print(df_test.shape)"
      ],
      "metadata": {
        "colab": {
          "base_uri": "https://localhost:8080/"
        },
        "id": "mcBuIzjryL-T",
        "outputId": "56fbd789-3c61-4036-c3f0-de7e33f44c80"
      },
      "execution_count": null,
      "outputs": [
        {
          "output_type": "stream",
          "name": "stdout",
          "text": [
            "(14692, 20)\n",
            "(3674, 20)\n",
            "(4592, 20)\n"
          ]
        }
      ]
    },
    {
      "cell_type": "code",
      "source": [
        "category_dict = df_train.groupby(\"main_category\").agg([\"mean\"])[\"n_sold\"].to_dict()['mean']\n",
        "category_dict"
      ],
      "metadata": {
        "colab": {
          "base_uri": "https://localhost:8080/"
        },
        "id": "C4GxdD_FyVW_",
        "outputId": "bb5b9cd8-8d57-40d3-af18-2fd4735de98e"
      },
      "execution_count": null,
      "outputs": [
        {
          "output_type": "execute_result",
          "data": {
            "text/plain": [
              "{'bach-hoa-online': 1560.9675324675325,\n",
              " 'balo-va-vali': 110.20461538461538,\n",
              " 'dien-gia-dung': 522.2282430213464,\n",
              " 'dien-thoai-may-tinh-bang': 256.2821782178218,\n",
              " 'dien-tu-dien-lanh': 89.35604770017036,\n",
              " 'do-choi-me-be': 1587.7282442748092,\n",
              " 'dong-ho-va-trang-suc': 53.70625,\n",
              " 'giay-dep-nam': 70.8250773993808,\n",
              " 'giay-dep-nu': 70.74963396778917,\n",
              " 'hang-quoc-te': 116.38679245283019,\n",
              " 'lam-dep-suc-khoe': 7003.153846153846,\n",
              " 'laptop-may-vi-tinh-linh-kien': 275.5338461538461,\n",
              " 'may-anh': 86.37781629116118,\n",
              " 'nha-cua-doi-song': 888.5884146341464,\n",
              " 'nha-sach-tiki': 3432.973988439306,\n",
              " 'o-to-xe-may-xe-dap': 138.35616438356163,\n",
              " 'phu-kien-thoi-trang': 147.30756843800322,\n",
              " 'the-thao-da-ngoai': 206.6294498381877,\n",
              " 'thiet-bi-kts-phu-kien-so': 513.6534954407294,\n",
              " 'thoi-trang-nam': 251.0316742081448,\n",
              " 'thoi-trang-nu': 116.02875399361022,\n",
              " 'thuc-pham-tuoi-song': 416.70814132104454,\n",
              " 'tui-thoi-trang-nam': 145.18870967741935,\n",
              " 'tui-vi-nu': 41.661417322834644,\n",
              " 'voucher-dich-vu': 4482.320185614849}"
            ]
          },
          "metadata": {},
          "execution_count": 393
        }
      ]
    },
    {
      "cell_type": "code",
      "source": [
        "category = full_df['main_category'].map(category_dict).fillna(0)\n",
        "category.unique()"
      ],
      "metadata": {
        "colab": {
          "base_uri": "https://localhost:8080/"
        },
        "id": "zZ3SHveEyanH",
        "outputId": "7dd51898-39e9-49fb-b11e-a3caf6c61786"
      },
      "execution_count": null,
      "outputs": [
        {
          "output_type": "execute_result",
          "data": {
            "text/plain": [
              "array([1560.96753247,  110.20461538,  522.22824302,  256.28217822,\n",
              "         89.3560477 , 1587.72824427,   53.70625   ,   70.8250774 ,\n",
              "         70.74963397,  116.38679245, 7003.15384615,  275.53384615,\n",
              "         86.37781629,  888.58841463, 3432.97398844,  138.35616438,\n",
              "        147.30756844,  206.62944984,  513.65349544,  251.03167421,\n",
              "        116.02875399,  416.70814132,  145.18870968,   41.66141732,\n",
              "       4482.32018561])"
            ]
          },
          "metadata": {},
          "execution_count": 394
        }
      ]
    },
    {
      "cell_type": "code",
      "source": [
        "price=full_df[['price']]\n",
        "avg_rating = full_df[['avg_rating']]\n",
        "n_reviews=full_df[['n_reviews']]\n",
        "discount = full_df[['discount']]\n",
        "discount_rate = full_df[['discount_rate']]\n",
        "rank = full_df[['rank']]"
      ],
      "metadata": {
        "id": "PprfFHOjyvDJ"
      },
      "execution_count": null,
      "outputs": []
    },
    {
      "cell_type": "code",
      "source": [
        "feature_list = [category[:, None], \n",
        "                price,\n",
        "                avg_rating, \n",
        "                n_reviews, \n",
        "                discount,\n",
        "                discount_rate,\n",
        "\n",
        "                # n_rate_5,\n",
        "                # n_rate_4,\n",
        "                # n_rate_3,\n",
        "                # n_rate_2,\n",
        "                # n_rate_1,\n",
        "\n",
        "                ]"
      ],
      "metadata": {
        "colab": {
          "base_uri": "https://localhost:8080/"
        },
        "id": "BwP7DCk9y-8w",
        "outputId": "f8a25e7e-86ca-401f-a1d0-29c1f956d015"
      },
      "execution_count": null,
      "outputs": [
        {
          "output_type": "stream",
          "name": "stderr",
          "text": [
            "/usr/local/lib/python3.7/dist-packages/ipykernel_launcher.py:1: FutureWarning: Support for multi-dimensional indexing (e.g. `obj[:, None]`) is deprecated and will be removed in a future version.  Convert to a numpy array before indexing instead.\n",
            "  \"\"\"Entry point for launching an IPython kernel.\n"
          ]
        }
      ]
    },
    {
      "cell_type": "code",
      "source": [
        "X = np.hstack(feature_list)"
      ],
      "metadata": {
        "id": "WIeDw8GYzG2w"
      },
      "execution_count": null,
      "outputs": []
    },
    {
      "cell_type": "code",
      "source": [
        "X_train, X_test, y_train, y_test = train_test_split(X, y, test_size=0.2, random_state=1)\n",
        "X_train, X_val, y_train, y_val = train_test_split(X_train, y_train, test_size=0.2, random_state=1)\n",
        "print(X_train.shape, y_train.shape)\n",
        "print(X_val.shape, y_val.shape)\n",
        "print(X_test.shape, y_test.shape)"
      ],
      "metadata": {
        "colab": {
          "base_uri": "https://localhost:8080/"
        },
        "id": "5kF3urcTzJmo",
        "outputId": "2ff0f02b-24e2-4ff2-b1ff-8921ec156874"
      },
      "execution_count": null,
      "outputs": [
        {
          "output_type": "stream",
          "name": "stdout",
          "text": [
            "(14692, 6) (14692,)\n",
            "(3674, 6) (3674,)\n",
            "(4592, 6) (4592,)\n"
          ]
        }
      ]
    },
    {
      "cell_type": "code",
      "source": [
        "y_train == df_train['n_sold'].to_numpy()"
      ],
      "metadata": {
        "colab": {
          "base_uri": "https://localhost:8080/"
        },
        "id": "OP_CAyLPzMOi",
        "outputId": "18b6a0b1-dbc4-45e5-8198-50d66f2440f9"
      },
      "execution_count": null,
      "outputs": [
        {
          "output_type": "execute_result",
          "data": {
            "text/plain": [
              "22389    True\n",
              "12264    True\n",
              "13537    True\n",
              "23360    True\n",
              "2743     True\n",
              "         ... \n",
              "17573    True\n",
              "16810    True\n",
              "18842    True\n",
              "7276     True\n",
              "6133     True\n",
              "Name: n_sold, Length: 14692, dtype: bool"
            ]
          },
          "metadata": {},
          "execution_count": 399
        }
      ]
    },
    {
      "cell_type": "code",
      "source": [
        "normalizer = StandardScaler()\n",
        "X_train = normalizer.fit_transform(X_train)\n",
        "X_val = normalizer.transform(X_val)\n",
        "X_test = normalizer.transform(X_test)"
      ],
      "metadata": {
        "id": "sLeJKBF0zPSn"
      },
      "execution_count": null,
      "outputs": []
    },
    {
      "cell_type": "code",
      "source": [
        "from sklearn.linear_model import LinearRegression\n",
        "model = LinearRegression()\n",
        "model.fit(X_train ,y_train)"
      ],
      "metadata": {
        "colab": {
          "base_uri": "https://localhost:8080/"
        },
        "id": "1lly_pCuzQw_",
        "outputId": "e9d5474a-959f-40eb-8bec-26f56173d6ef"
      },
      "execution_count": null,
      "outputs": [
        {
          "output_type": "execute_result",
          "data": {
            "text/plain": [
              "LinearRegression()"
            ]
          },
          "metadata": {},
          "execution_count": 401
        }
      ]
    },
    {
      "cell_type": "code",
      "source": [
        "model.coef_"
      ],
      "metadata": {
        "colab": {
          "base_uri": "https://localhost:8080/"
        },
        "id": "KTMpblJSzTIb",
        "outputId": "7d6e2f99-47c4-457f-c954-7aa841e0885c"
      },
      "execution_count": null,
      "outputs": [
        {
          "output_type": "execute_result",
          "data": {
            "text/plain": [
              "array([ 761.35817824,  -31.78893901,  210.79108268, 1177.51529756,\n",
              "         18.55661086,  -73.9814233 ])"
            ]
          },
          "metadata": {},
          "execution_count": 402
        }
      ]
    },
    {
      "cell_type": "code",
      "source": [
        "#Compute MAE metrics\n",
        "mae_train = Metrics.computeMAE(y_train, model.predict(X_train))\n",
        "mae_val = Metrics.computeMAE(y_val, model.predict(X_val))\n",
        "mae_test = Metrics.computeMAE(y_test, model.predict(X_test))\n",
        "\n",
        "print(mae_train)\n",
        "print(mae_val)\n",
        "print(mae_test)"
      ],
      "metadata": {
        "colab": {
          "base_uri": "https://localhost:8080/"
        },
        "id": "tjaEwfFOzVrL",
        "outputId": "67c73123-5460-484b-dc57-d281d4848242"
      },
      "execution_count": null,
      "outputs": [
        {
          "output_type": "stream",
          "name": "stdout",
          "text": [
            "744.998501975427\n",
            "649.0983449701644\n",
            "602.8182904364868\n"
          ]
        }
      ]
    },
    {
      "cell_type": "code",
      "source": [
        "#Compute SIA metrics\n",
        "SIA_train = Metrics.computeSIA(y_train, np.clip(model.predict(X_train), 0,np.inf), 1000)\n",
        "SIA_val = Metrics.computeSIA(y_val, np.clip(model.predict(X_val), 0,np.inf), 1000)\n",
        "SIA_test = Metrics.computeSIA(y_test, np.clip(model.predict(X_test), 0,np.inf), 1000)\n",
        "\n",
        "print(SIA_train)\n",
        "print(SIA_val)\n",
        "print(SIA_test)"
      ],
      "metadata": {
        "colab": {
          "base_uri": "https://localhost:8080/"
        },
        "id": "4UG4j-92k75q",
        "outputId": "b25746e8-5ec6-483d-c68f-9bd754f271a6"
      },
      "execution_count": null,
      "outputs": [
        {
          "output_type": "stream",
          "name": "stdout",
          "text": [
            "0.8569970051728832\n",
            "0.8538377789874796\n",
            "0.8660714285714286\n"
          ]
        }
      ]
    },
    {
      "cell_type": "code",
      "source": [
        "#Compute SIA metrics\n",
        "SIA_train = Metrics.computeSIA(y_train, np.clip(model.predict(X_train), 0,np.inf), 500)\n",
        "SIA_val = Metrics.computeSIA(y_val, np.clip(model.predict(X_val), 0,np.inf), 500)\n",
        "SIA_test = Metrics.computeSIA(y_test, np.clip(model.predict(X_test), 0,np.inf), 500)\n",
        "\n",
        "print(SIA_train)\n",
        "print(SIA_val)\n",
        "print(SIA_test)"
      ],
      "metadata": {
        "colab": {
          "base_uri": "https://localhost:8080/"
        },
        "id": "9AR-czq5k7UA",
        "outputId": "8e6c018b-be39-4420-b162-a8db47ba6590"
      },
      "execution_count": null,
      "outputs": [
        {
          "output_type": "stream",
          "name": "stdout",
          "text": [
            "0.7630683365096651\n",
            "0.7610234077299945\n",
            "0.764808362369338\n"
          ]
        }
      ]
    },
    {
      "cell_type": "code",
      "source": [
        "#Compute SIA metrics\n",
        "SIA_train = Metrics.computeSIA(y_train, np.clip(model.predict(X_train), 0,np.inf), 200)\n",
        "SIA_val = Metrics.computeSIA(y_val, np.clip(model.predict(X_val), 0,np.inf), 200)\n",
        "SIA_test = Metrics.computeSIA(y_test, np.clip(model.predict(X_test), 0,np.inf), 200)\n",
        "\n",
        "print(SIA_train)\n",
        "print(SIA_val)\n",
        "print(SIA_test)"
      ],
      "metadata": {
        "colab": {
          "base_uri": "https://localhost:8080/"
        },
        "id": "MpH7UDzSzcb_",
        "outputId": "78b4f2eb-74f1-4920-cba3-a5f53fd0875d"
      },
      "execution_count": null,
      "outputs": [
        {
          "output_type": "stream",
          "name": "stdout",
          "text": [
            "0.6542335965151103\n",
            "0.6545998911268373\n",
            "0.6607142857142857\n"
          ]
        }
      ]
    },
    {
      "cell_type": "code",
      "source": [
        "df_train, df_test = train_test_split(full_df, test_size=0.2, random_state=1)\n",
        "df_train, df_val = train_test_split(df_train, test_size=0.2, random_state=1)\n",
        "print(df_train.shape)\n",
        "print(df_val.shape)\n",
        "print(df_test.shape)"
      ],
      "metadata": {
        "colab": {
          "base_uri": "https://localhost:8080/"
        },
        "id": "MFX_pQRilpeb",
        "outputId": "f9afc7db-5286-464b-9bb9-bea41f575ad2"
      },
      "execution_count": null,
      "outputs": [
        {
          "output_type": "stream",
          "name": "stdout",
          "text": [
            "(14692, 20)\n",
            "(3674, 20)\n",
            "(4592, 20)\n"
          ]
        }
      ]
    },
    {
      "cell_type": "code",
      "source": [
        "category_dict = df_train.groupby(\"main_category\").agg([\"mean\"])[\"n_sold\"].to_dict()['mean']\n",
        "category_dict"
      ],
      "metadata": {
        "colab": {
          "base_uri": "https://localhost:8080/"
        },
        "id": "8ly2Ly-JlyBU",
        "outputId": "9e8123b7-79e9-4805-ca42-890d587d3d6a"
      },
      "execution_count": null,
      "outputs": [
        {
          "output_type": "execute_result",
          "data": {
            "text/plain": [
              "{'bach-hoa-online': 1560.9675324675325,\n",
              " 'balo-va-vali': 110.20461538461538,\n",
              " 'dien-gia-dung': 522.2282430213464,\n",
              " 'dien-thoai-may-tinh-bang': 256.2821782178218,\n",
              " 'dien-tu-dien-lanh': 89.35604770017036,\n",
              " 'do-choi-me-be': 1587.7282442748092,\n",
              " 'dong-ho-va-trang-suc': 53.70625,\n",
              " 'giay-dep-nam': 70.8250773993808,\n",
              " 'giay-dep-nu': 70.74963396778917,\n",
              " 'hang-quoc-te': 116.38679245283019,\n",
              " 'lam-dep-suc-khoe': 7003.153846153846,\n",
              " 'laptop-may-vi-tinh-linh-kien': 275.5338461538461,\n",
              " 'may-anh': 86.37781629116118,\n",
              " 'nha-cua-doi-song': 888.5884146341464,\n",
              " 'nha-sach-tiki': 3432.973988439306,\n",
              " 'o-to-xe-may-xe-dap': 138.35616438356163,\n",
              " 'phu-kien-thoi-trang': 147.30756843800322,\n",
              " 'the-thao-da-ngoai': 206.6294498381877,\n",
              " 'thiet-bi-kts-phu-kien-so': 513.6534954407294,\n",
              " 'thoi-trang-nam': 251.0316742081448,\n",
              " 'thoi-trang-nu': 116.02875399361022,\n",
              " 'thuc-pham-tuoi-song': 416.70814132104454,\n",
              " 'tui-thoi-trang-nam': 145.18870967741935,\n",
              " 'tui-vi-nu': 41.661417322834644,\n",
              " 'voucher-dich-vu': 4482.320185614849}"
            ]
          },
          "metadata": {},
          "execution_count": 408
        }
      ]
    },
    {
      "cell_type": "code",
      "source": [
        "category = full_df['main_category'].map(category_dict).fillna(0)\n",
        "category.unique()"
      ],
      "metadata": {
        "colab": {
          "base_uri": "https://localhost:8080/"
        },
        "id": "L7JBzWUjl45n",
        "outputId": "33bf436a-5003-4ac9-944d-e7e07dd2d0bb"
      },
      "execution_count": null,
      "outputs": [
        {
          "output_type": "execute_result",
          "data": {
            "text/plain": [
              "array([1560.96753247,  110.20461538,  522.22824302,  256.28217822,\n",
              "         89.3560477 , 1587.72824427,   53.70625   ,   70.8250774 ,\n",
              "         70.74963397,  116.38679245, 7003.15384615,  275.53384615,\n",
              "         86.37781629,  888.58841463, 3432.97398844,  138.35616438,\n",
              "        147.30756844,  206.62944984,  513.65349544,  251.03167421,\n",
              "        116.02875399,  416.70814132,  145.18870968,   41.66141732,\n",
              "       4482.32018561])"
            ]
          },
          "metadata": {},
          "execution_count": 409
        }
      ]
    },
    {
      "cell_type": "code",
      "source": [
        "price=full_df[['price']]\n",
        "avg_rating = full_df[['avg_rating']]\n",
        "n_reviews=full_df[['n_reviews']]\n",
        "discount = full_df[['discount']]\n",
        "discount_rate = full_df[['discount_rate']]\n",
        "rank = full_df[['rank']]"
      ],
      "metadata": {
        "id": "Vhj6vz_Hl8n1"
      },
      "execution_count": null,
      "outputs": []
    },
    {
      "cell_type": "code",
      "source": [
        "feature_list = [#category[:, None], \n",
        "                price,\n",
        "                avg_rating, \n",
        "                n_reviews, \n",
        "                discount,\n",
        "                discount_rate,\n",
        "\n",
        "                # n_rate_5,\n",
        "                # n_rate_4,\n",
        "                # n_rate_3,\n",
        "                # n_rate_2,\n",
        "                # n_rate_1,\n",
        "\n",
        "                ]"
      ],
      "metadata": {
        "id": "BG22t9aMl_Up"
      },
      "execution_count": null,
      "outputs": []
    },
    {
      "cell_type": "code",
      "source": [
        "X = np.hstack(feature_list)"
      ],
      "metadata": {
        "id": "2iJx8_VZmFEe"
      },
      "execution_count": null,
      "outputs": []
    },
    {
      "cell_type": "code",
      "source": [
        "X_train, X_test, y_train, y_test = train_test_split(X, y, test_size=0.2, random_state=1)\n",
        "X_train, X_val, y_train, y_val = train_test_split(X_train, y_train, test_size=0.2, random_state=1)\n",
        "print(X_train.shape, y_train.shape)\n",
        "print(X_val.shape, y_val.shape)\n",
        "print(X_test.shape, y_test.shape)"
      ],
      "metadata": {
        "colab": {
          "base_uri": "https://localhost:8080/"
        },
        "id": "o1yhTvjymHmt",
        "outputId": "7f37f9be-b79e-4ebd-9b50-9dcaa66559a2"
      },
      "execution_count": null,
      "outputs": [
        {
          "output_type": "stream",
          "name": "stdout",
          "text": [
            "(14692, 5) (14692,)\n",
            "(3674, 5) (3674,)\n",
            "(4592, 5) (4592,)\n"
          ]
        }
      ]
    },
    {
      "cell_type": "code",
      "source": [
        "y_train == df_train['n_sold'].to_numpy()"
      ],
      "metadata": {
        "colab": {
          "base_uri": "https://localhost:8080/"
        },
        "id": "KswzzlhUmLLg",
        "outputId": "d46d8580-5400-4c61-8ca3-22987ffa2fcd"
      },
      "execution_count": null,
      "outputs": [
        {
          "output_type": "execute_result",
          "data": {
            "text/plain": [
              "22389    True\n",
              "12264    True\n",
              "13537    True\n",
              "23360    True\n",
              "2743     True\n",
              "         ... \n",
              "17573    True\n",
              "16810    True\n",
              "18842    True\n",
              "7276     True\n",
              "6133     True\n",
              "Name: n_sold, Length: 14692, dtype: bool"
            ]
          },
          "metadata": {},
          "execution_count": 414
        }
      ]
    },
    {
      "cell_type": "code",
      "source": [
        "normalizer = StandardScaler()\n",
        "X_train = normalizer.fit_transform(X_train)\n",
        "X_val = normalizer.transform(X_val)\n",
        "X_test = normalizer.transform(X_test)"
      ],
      "metadata": {
        "id": "Bz7ab8sdmN49"
      },
      "execution_count": null,
      "outputs": []
    },
    {
      "cell_type": "code",
      "source": [
        "from sklearn.linear_model import LinearRegression\n",
        "model = LinearRegression()\n",
        "model.fit(X_train ,y_train)"
      ],
      "metadata": {
        "colab": {
          "base_uri": "https://localhost:8080/"
        },
        "id": "zUTF7Rf8mUTI",
        "outputId": "a12bfd41-98d7-4b4e-b873-3c93b9cce737"
      },
      "execution_count": null,
      "outputs": [
        {
          "output_type": "execute_result",
          "data": {
            "text/plain": [
              "LinearRegression()"
            ]
          },
          "metadata": {},
          "execution_count": 416
        }
      ]
    },
    {
      "cell_type": "code",
      "source": [
        "model.coef_"
      ],
      "metadata": {
        "colab": {
          "base_uri": "https://localhost:8080/"
        },
        "id": "GkpaKxgxmXWf",
        "outputId": "c1f782af-3a8f-4c29-e0e0-20a8e20d4f38"
      },
      "execution_count": null,
      "outputs": [
        {
          "output_type": "execute_result",
          "data": {
            "text/plain": [
              "array([ -48.93053255,   63.97676582, 1391.0808008 ,   -8.93329152,\n",
              "        -18.84029337])"
            ]
          },
          "metadata": {},
          "execution_count": 417
        }
      ]
    },
    {
      "cell_type": "code",
      "source": [
        "#Compute MAE metrics\n",
        "mae_train = Metrics.computeMAE(y_train, model.predict(X_train))\n",
        "mae_val = Metrics.computeMAE(y_val, model.predict(X_val))\n",
        "mae_test = Metrics.computeMAE(y_test, model.predict(X_test))\n",
        "\n",
        "print(mae_train)\n",
        "print(mae_val)\n",
        "print(mae_test)"
      ],
      "metadata": {
        "colab": {
          "base_uri": "https://localhost:8080/"
        },
        "id": "CiBjqn1Rmbno",
        "outputId": "93819c25-be12-4340-b3f5-83b0fa4e4fce"
      },
      "execution_count": null,
      "outputs": [
        {
          "output_type": "stream",
          "name": "stdout",
          "text": [
            "601.720766481603\n",
            "505.34609654128735\n",
            "474.32458792470084\n"
          ]
        }
      ]
    },
    {
      "cell_type": "code",
      "source": [
        "#Compute SIA metrics\n",
        "SIA_train = Metrics.computeSIA(y_train, np.clip(model.predict(X_train), 0,np.inf), 1000)\n",
        "SIA_val = Metrics.computeSIA(y_val, np.clip(model.predict(X_val), 0,np.inf), 1000)\n",
        "SIA_test = Metrics.computeSIA(y_test, np.clip(model.predict(X_test), 0,np.inf), 1000)\n",
        "\n",
        "print(SIA_train)\n",
        "print(SIA_val)\n",
        "print(SIA_test)"
      ],
      "metadata": {
        "colab": {
          "base_uri": "https://localhost:8080/"
        },
        "id": "1XerwCu3mepA",
        "outputId": "e9f7e7ae-321e-4c07-caa7-717f1325b53e"
      },
      "execution_count": null,
      "outputs": [
        {
          "output_type": "stream",
          "name": "stdout",
          "text": [
            "0.9166212904982304\n",
            "0.9164398475775721\n",
            "0.9213850174216028\n"
          ]
        }
      ]
    },
    {
      "cell_type": "code",
      "source": [
        "#Compute SIA metrics\n",
        "SIA_train = Metrics.computeSIA(y_train, np.clip(model.predict(X_train), 0,np.inf), 500)\n",
        "SIA_val = Metrics.computeSIA(y_val, np.clip(model.predict(X_val), 0,np.inf), 500)\n",
        "SIA_test = Metrics.computeSIA(y_test, np.clip(model.predict(X_test), 0,np.inf), 500)\n",
        "\n",
        "print(SIA_train)\n",
        "print(SIA_val)\n",
        "print(SIA_test)"
      ],
      "metadata": {
        "colab": {
          "base_uri": "https://localhost:8080/"
        },
        "id": "DZj3U-cjmfYw",
        "outputId": "f3b3eff7-c0f2-4a61-8767-835ce47b9dac"
      },
      "execution_count": null,
      "outputs": [
        {
          "output_type": "stream",
          "name": "stdout",
          "text": [
            "0.8416825483256194\n",
            "0.8415895481763745\n",
            "0.8484320557491289\n"
          ]
        }
      ]
    },
    {
      "cell_type": "code",
      "source": [
        "#Compute SIA metrics\n",
        "SIA_train = Metrics.computeSIA(y_train, np.clip(model.predict(X_train), 0,np.inf), 200)\n",
        "SIA_val = Metrics.computeSIA(y_val, np.clip(model.predict(X_val), 0,np.inf), 200)\n",
        "SIA_test = Metrics.computeSIA(y_test, np.clip(model.predict(X_test), 0,np.inf), 200)\n",
        "\n",
        "print(SIA_train)\n",
        "print(SIA_val)\n",
        "print(SIA_test)"
      ],
      "metadata": {
        "colab": {
          "base_uri": "https://localhost:8080/"
        },
        "id": "RhJme3oNmfv3",
        "outputId": "a88a8769-73ab-4070-8264-91218060154a"
      },
      "execution_count": null,
      "outputs": [
        {
          "output_type": "stream",
          "name": "stdout",
          "text": [
            "0.6429349305744623\n",
            "0.6347305389221557\n",
            "0.6361062717770035\n"
          ]
        }
      ]
    },
    {
      "cell_type": "markdown",
      "source": [
        "<h1>Neural Network</h1>"
      ],
      "metadata": {
        "id": "JKAScF0Ez7Cg"
      }
    },
    {
      "cell_type": "code",
      "source": [
        "df_train, df_test = train_test_split(full_df, test_size=0.2, random_state=1)\n",
        "df_train, df_val = train_test_split(df_train, test_size=0.2, random_state=1)\n",
        "print(df_train.shape)\n",
        "print(df_val.shape)\n",
        "print(df_test.shape)"
      ],
      "metadata": {
        "colab": {
          "base_uri": "https://localhost:8080/"
        },
        "id": "KErKiJEez90w",
        "outputId": "cc9ba5e0-15bf-455c-ba47-2a083a2c226f"
      },
      "execution_count": null,
      "outputs": [
        {
          "output_type": "stream",
          "name": "stdout",
          "text": [
            "(14692, 20)\n",
            "(3674, 20)\n",
            "(4592, 20)\n"
          ]
        }
      ]
    },
    {
      "cell_type": "code",
      "source": [
        "category_dict = df_train.groupby(\"main_category\").agg([\"mean\"])[\"n_sold\"].to_dict()['mean']\n",
        "category = full_df['main_category'].map(category_dict).fillna(0)[:,None]"
      ],
      "metadata": {
        "colab": {
          "base_uri": "https://localhost:8080/"
        },
        "id": "LZ_tnQGD0HOS",
        "outputId": "b5e3711e-a091-494d-a7df-fcdff72cbe64"
      },
      "execution_count": null,
      "outputs": [
        {
          "output_type": "stream",
          "name": "stderr",
          "text": [
            "/usr/local/lib/python3.7/dist-packages/ipykernel_launcher.py:2: FutureWarning: Support for multi-dimensional indexing (e.g. `obj[:, None]`) is deprecated and will be removed in a future version.  Convert to a numpy array before indexing instead.\n",
            "  \n"
          ]
        }
      ]
    },
    {
      "cell_type": "code",
      "source": [
        "feature_list = [category, \n",
        "                price,\n",
        "                avg_rating, \n",
        "                n_reviews, \n",
        "                discount,\n",
        "                discount_rate,\n",
        "\n",
        "                # n_rate_5,\n",
        "                # n_rate_4,\n",
        "                # n_rate_3,\n",
        "                # n_rate_2,\n",
        "                # n_rate_1,\n",
        "\n",
        "                ]"
      ],
      "metadata": {
        "id": "XfbVG5bnywm_"
      },
      "execution_count": null,
      "outputs": []
    },
    {
      "cell_type": "code",
      "source": [
        "X = np.hstack(feature_list)"
      ],
      "metadata": {
        "id": "9f2PdFz6yyr0"
      },
      "execution_count": null,
      "outputs": []
    },
    {
      "cell_type": "code",
      "source": [
        "X_train, X_test, y_train, y_test = train_test_split(X, y, test_size=0.2, random_state=1)\n",
        "X_train, X_val, y_train, y_val = train_test_split(X_train, y_train, test_size=0.2, random_state=1)\n",
        "print(X_train.shape, y_train.shape)\n",
        "print(X_val.shape, y_val.shape)\n",
        "print(X_test.shape, y_test.shape)"
      ],
      "metadata": {
        "colab": {
          "base_uri": "https://localhost:8080/"
        },
        "id": "ZPRyjUJ4y0gl",
        "outputId": "16a936f0-21dc-4bf2-b26f-75f69418bc78"
      },
      "execution_count": null,
      "outputs": [
        {
          "output_type": "stream",
          "name": "stdout",
          "text": [
            "(14692, 6) (14692,)\n",
            "(3674, 6) (3674,)\n",
            "(4592, 6) (4592,)\n"
          ]
        }
      ]
    },
    {
      "cell_type": "code",
      "source": [
        "normalizer = StandardScaler()\n",
        "\n",
        "X_train = normalizer.fit_transform(X_train)\n",
        "X_val = normalizer.transform(X_val)\n",
        "X_test = normalizer.transform(X_test)"
      ],
      "metadata": {
        "id": "FZrRLis6y3We"
      },
      "execution_count": null,
      "outputs": []
    },
    {
      "cell_type": "code",
      "source": [
        "model = tf.keras.models.Sequential([\n",
        "    tf.keras.layers.Dense(units=32,activation='relu', kernel_regularizer=tf.keras.regularizers.L2(0.01)),\n",
        "    tf.keras.layers.Dense(units=64, activation ='relu', kernel_regularizer=tf.keras.regularizers.L2(0.01)),\n",
        "    tf.keras.layers.Dense(units=1, activation='relu', kernel_regularizer=tf.keras.regularizers.L2(0.01))\n",
        "])\n",
        "\n",
        "model.compile(optimizer=tf.keras.optimizers.Adam(1e-3),\n",
        "              loss = tf.keras.losses.mean_absolute_error,\n",
        "              metrics=['mae'])"
      ],
      "metadata": {
        "id": "y5K3O6oMy6IM"
      },
      "execution_count": null,
      "outputs": []
    },
    {
      "cell_type": "code",
      "source": [
        "if not os.path.exists(\"./drive/MyDrive/ds/item/models\"):\n",
        "    os.makedirs(\"./drive/MyDrive/ds/item/models\")\n",
        "mcp_save = tf.keras.callbacks.ModelCheckpoint(\n",
        "    filepath=\"./drive/MyDrive/ds/item/models/sold_prediction_nn_model_mean.h5\",\n",
        "    save_weights_only=True,\n",
        "    monitor='val_mae',\n",
        "    mode='min',\n",
        "    save_best_only=True) \n",
        "\n",
        "model.fit(X_train, y_train,\n",
        "          epochs=300,\n",
        "          batch_size=128,\n",
        "          validation_data=(X_val, y_val),\n",
        "          callbacks=[mcp_save])"
      ],
      "metadata": {
        "colab": {
          "base_uri": "https://localhost:8080/"
        },
        "id": "2TCTShXty8b-",
        "outputId": "36592746-eba0-47f1-949b-e96bcaefccfc"
      },
      "execution_count": null,
      "outputs": [
        {
          "output_type": "stream",
          "name": "stdout",
          "text": [
            "Epoch 1/300\n",
            "115/115 [==============================] - 1s 8ms/step - loss: 622.6734 - mae: 622.1814 - val_loss: 567.7770 - val_mae: 567.1725\n",
            "Epoch 2/300\n",
            "115/115 [==============================] - 0s 3ms/step - loss: 608.5609 - mae: 607.6512 - val_loss: 547.3037 - val_mae: 546.0588\n",
            "Epoch 3/300\n",
            "115/115 [==============================] - 0s 2ms/step - loss: 584.2719 - mae: 582.5701 - val_loss: 516.5666 - val_mae: 514.3723\n",
            "Epoch 4/300\n",
            "115/115 [==============================] - 0s 3ms/step - loss: 555.6902 - mae: 552.8761 - val_loss: 485.7423 - val_mae: 482.2747\n",
            "Epoch 5/300\n",
            "115/115 [==============================] - 0s 3ms/step - loss: 529.4366 - mae: 525.2916 - val_loss: 456.7911 - val_mae: 451.9896\n",
            "Epoch 6/300\n",
            "115/115 [==============================] - 0s 3ms/step - loss: 506.8376 - mae: 501.3775 - val_loss: 430.4622 - val_mae: 424.4178\n",
            "Epoch 7/300\n",
            "115/115 [==============================] - 0s 3ms/step - loss: 489.5298 - mae: 482.9365 - val_loss: 411.2242 - val_mae: 404.2844\n",
            "Epoch 8/300\n",
            "115/115 [==============================] - 0s 3ms/step - loss: 479.5751 - mae: 472.3017 - val_loss: 400.5729 - val_mae: 393.0610\n",
            "Epoch 9/300\n",
            "115/115 [==============================] - 0s 3ms/step - loss: 474.8386 - mae: 467.1154 - val_loss: 394.2754 - val_mae: 386.3491\n",
            "Epoch 10/300\n",
            "115/115 [==============================] - 0s 3ms/step - loss: 472.6151 - mae: 464.5795 - val_loss: 392.2776 - val_mae: 384.2704\n",
            "Epoch 11/300\n",
            "115/115 [==============================] - 0s 3ms/step - loss: 471.6202 - mae: 463.6102 - val_loss: 390.0470 - val_mae: 381.9241\n",
            "Epoch 12/300\n",
            "115/115 [==============================] - 0s 3ms/step - loss: 470.7431 - mae: 462.6169 - val_loss: 389.2350 - val_mae: 381.1691\n",
            "Epoch 13/300\n",
            "115/115 [==============================] - 0s 3ms/step - loss: 470.0366 - mae: 461.9648 - val_loss: 388.1200 - val_mae: 380.0568\n",
            "Epoch 14/300\n",
            "115/115 [==============================] - 1s 5ms/step - loss: 469.3542 - mae: 461.3092 - val_loss: 387.2266 - val_mae: 379.1780\n",
            "Epoch 15/300\n",
            "115/115 [==============================] - 0s 4ms/step - loss: 468.6927 - mae: 460.7401 - val_loss: 385.9680 - val_mae: 377.8591\n",
            "Epoch 16/300\n",
            "115/115 [==============================] - 0s 3ms/step - loss: 468.3938 - mae: 460.2562 - val_loss: 385.2244 - val_mae: 377.1581\n",
            "Epoch 17/300\n",
            "115/115 [==============================] - 0s 3ms/step - loss: 467.5576 - mae: 459.5249 - val_loss: 384.6248 - val_mae: 376.5928\n",
            "Epoch 18/300\n",
            "115/115 [==============================] - 0s 3ms/step - loss: 466.9834 - mae: 458.9780 - val_loss: 383.8175 - val_mae: 375.7705\n",
            "Epoch 19/300\n",
            "115/115 [==============================] - 0s 3ms/step - loss: 466.5981 - mae: 458.5274 - val_loss: 383.2186 - val_mae: 375.1766\n",
            "Epoch 20/300\n",
            "115/115 [==============================] - 0s 3ms/step - loss: 465.9828 - mae: 457.9351 - val_loss: 382.4522 - val_mae: 374.4055\n",
            "Epoch 21/300\n",
            "115/115 [==============================] - 0s 3ms/step - loss: 465.5611 - mae: 457.5122 - val_loss: 382.1879 - val_mae: 374.1824\n",
            "Epoch 22/300\n",
            "115/115 [==============================] - 0s 3ms/step - loss: 465.1582 - mae: 457.1801 - val_loss: 381.2669 - val_mae: 373.2221\n",
            "Epoch 23/300\n",
            "115/115 [==============================] - 0s 2ms/step - loss: 464.6163 - mae: 456.5726 - val_loss: 380.6327 - val_mae: 372.5755\n",
            "Epoch 24/300\n",
            "115/115 [==============================] - 0s 3ms/step - loss: 464.2513 - mae: 456.1947 - val_loss: 380.3918 - val_mae: 372.3412\n",
            "Epoch 25/300\n",
            "115/115 [==============================] - 0s 3ms/step - loss: 463.7963 - mae: 455.7259 - val_loss: 379.7978 - val_mae: 371.7651\n",
            "Epoch 26/300\n",
            "115/115 [==============================] - 0s 3ms/step - loss: 463.3417 - mae: 455.3037 - val_loss: 379.0798 - val_mae: 371.0020\n",
            "Epoch 27/300\n",
            "115/115 [==============================] - 0s 3ms/step - loss: 462.9568 - mae: 454.9453 - val_loss: 378.6504 - val_mae: 370.5775\n",
            "Epoch 28/300\n",
            "115/115 [==============================] - 0s 3ms/step - loss: 462.6254 - mae: 454.5232 - val_loss: 378.2103 - val_mae: 370.1306\n",
            "Epoch 29/300\n",
            "115/115 [==============================] - 0s 3ms/step - loss: 462.2453 - mae: 454.0790 - val_loss: 377.3053 - val_mae: 369.1512\n",
            "Epoch 30/300\n",
            "115/115 [==============================] - 0s 3ms/step - loss: 461.8154 - mae: 453.6740 - val_loss: 376.6334 - val_mae: 368.4469\n",
            "Epoch 31/300\n",
            "115/115 [==============================] - 0s 3ms/step - loss: 461.4314 - mae: 453.2986 - val_loss: 376.7087 - val_mae: 368.5712\n",
            "Epoch 32/300\n",
            "115/115 [==============================] - 0s 3ms/step - loss: 461.1704 - mae: 452.9875 - val_loss: 376.4914 - val_mae: 368.3411\n",
            "Epoch 33/300\n",
            "115/115 [==============================] - 0s 2ms/step - loss: 460.8482 - mae: 452.7141 - val_loss: 375.4977 - val_mae: 367.2751\n",
            "Epoch 34/300\n",
            "115/115 [==============================] - 0s 3ms/step - loss: 460.7290 - mae: 452.5569 - val_loss: 375.3860 - val_mae: 367.1297\n",
            "Epoch 35/300\n",
            "115/115 [==============================] - 0s 3ms/step - loss: 460.2064 - mae: 451.9680 - val_loss: 374.7118 - val_mae: 366.4692\n",
            "Epoch 36/300\n",
            "115/115 [==============================] - 0s 2ms/step - loss: 460.0053 - mae: 451.7817 - val_loss: 374.2396 - val_mae: 365.9891\n",
            "Epoch 37/300\n",
            "115/115 [==============================] - 0s 3ms/step - loss: 459.6906 - mae: 451.4557 - val_loss: 374.1963 - val_mae: 365.9304\n",
            "Epoch 38/300\n",
            "115/115 [==============================] - 0s 3ms/step - loss: 459.4250 - mae: 451.1500 - val_loss: 374.7942 - val_mae: 366.6000\n",
            "Epoch 39/300\n",
            "115/115 [==============================] - 0s 3ms/step - loss: 459.3399 - mae: 451.1036 - val_loss: 373.8427 - val_mae: 365.5908\n",
            "Epoch 40/300\n",
            "115/115 [==============================] - 0s 3ms/step - loss: 458.9283 - mae: 450.6427 - val_loss: 373.2248 - val_mae: 364.9453\n",
            "Epoch 41/300\n",
            "115/115 [==============================] - 0s 3ms/step - loss: 458.8612 - mae: 450.6216 - val_loss: 372.9677 - val_mae: 364.6552\n",
            "Epoch 42/300\n",
            "115/115 [==============================] - 0s 3ms/step - loss: 458.5597 - mae: 450.2650 - val_loss: 372.6748 - val_mae: 364.3872\n",
            "Epoch 43/300\n",
            "115/115 [==============================] - 0s 3ms/step - loss: 458.2935 - mae: 449.9795 - val_loss: 372.3474 - val_mae: 364.0447\n",
            "Epoch 44/300\n",
            "115/115 [==============================] - 0s 3ms/step - loss: 458.1260 - mae: 449.7753 - val_loss: 371.8679 - val_mae: 363.5154\n",
            "Epoch 45/300\n",
            "115/115 [==============================] - 0s 2ms/step - loss: 457.8980 - mae: 449.5652 - val_loss: 371.6545 - val_mae: 363.3043\n",
            "Epoch 46/300\n",
            "115/115 [==============================] - 0s 3ms/step - loss: 457.8333 - mae: 449.5081 - val_loss: 371.4792 - val_mae: 363.1078\n",
            "Epoch 47/300\n",
            "115/115 [==============================] - 0s 3ms/step - loss: 457.4749 - mae: 449.0920 - val_loss: 371.3152 - val_mae: 362.9269\n",
            "Epoch 48/300\n",
            "115/115 [==============================] - 0s 3ms/step - loss: 457.2888 - mae: 448.9075 - val_loss: 370.5556 - val_mae: 362.1354\n",
            "Epoch 49/300\n",
            "115/115 [==============================] - 0s 3ms/step - loss: 457.1028 - mae: 448.6533 - val_loss: 370.4654 - val_mae: 362.0558\n",
            "Epoch 50/300\n",
            "115/115 [==============================] - 0s 2ms/step - loss: 456.9226 - mae: 448.4903 - val_loss: 369.9454 - val_mae: 361.4843\n",
            "Epoch 51/300\n",
            "115/115 [==============================] - 0s 3ms/step - loss: 456.7644 - mae: 448.3028 - val_loss: 370.0297 - val_mae: 361.5431\n",
            "Epoch 52/300\n",
            "115/115 [==============================] - 0s 3ms/step - loss: 456.5406 - mae: 448.0666 - val_loss: 369.6152 - val_mae: 361.0972\n",
            "Epoch 53/300\n",
            "115/115 [==============================] - 0s 3ms/step - loss: 456.3866 - mae: 447.8842 - val_loss: 369.3055 - val_mae: 360.7815\n",
            "Epoch 54/300\n",
            "115/115 [==============================] - 0s 3ms/step - loss: 456.3345 - mae: 447.8583 - val_loss: 368.7496 - val_mae: 360.1811\n",
            "Epoch 55/300\n",
            "115/115 [==============================] - 0s 3ms/step - loss: 456.1568 - mae: 447.6044 - val_loss: 368.3956 - val_mae: 359.7847\n",
            "Epoch 56/300\n",
            "115/115 [==============================] - 0s 2ms/step - loss: 456.0760 - mae: 447.4840 - val_loss: 368.2881 - val_mae: 359.6880\n",
            "Epoch 57/300\n",
            "115/115 [==============================] - 0s 2ms/step - loss: 455.7792 - mae: 447.1327 - val_loss: 368.6115 - val_mae: 360.0163\n",
            "Epoch 58/300\n",
            "115/115 [==============================] - 1s 5ms/step - loss: 455.5759 - mae: 446.9790 - val_loss: 368.1413 - val_mae: 359.4908\n",
            "Epoch 59/300\n",
            "115/115 [==============================] - 1s 6ms/step - loss: 455.5038 - mae: 446.8556 - val_loss: 368.1986 - val_mae: 359.5781\n",
            "Epoch 60/300\n",
            "115/115 [==============================] - 1s 5ms/step - loss: 455.4016 - mae: 446.7375 - val_loss: 367.8294 - val_mae: 359.1966\n",
            "Epoch 61/300\n",
            "115/115 [==============================] - 1s 6ms/step - loss: 455.2744 - mae: 446.6052 - val_loss: 367.6455 - val_mae: 358.9785\n",
            "Epoch 62/300\n",
            "115/115 [==============================] - 1s 5ms/step - loss: 455.0580 - mae: 446.3594 - val_loss: 367.7220 - val_mae: 359.0222\n",
            "Epoch 63/300\n",
            "115/115 [==============================] - 1s 5ms/step - loss: 455.0216 - mae: 446.3310 - val_loss: 367.1653 - val_mae: 358.4490\n",
            "Epoch 64/300\n",
            "115/115 [==============================] - 1s 4ms/step - loss: 454.8094 - mae: 446.0656 - val_loss: 367.5352 - val_mae: 358.8078\n",
            "Epoch 65/300\n",
            "115/115 [==============================] - 1s 5ms/step - loss: 454.7778 - mae: 446.0101 - val_loss: 366.9795 - val_mae: 358.2289\n",
            "Epoch 66/300\n",
            "115/115 [==============================] - 0s 4ms/step - loss: 454.6776 - mae: 445.9092 - val_loss: 367.4793 - val_mae: 358.7459\n",
            "Epoch 67/300\n",
            "115/115 [==============================] - 0s 4ms/step - loss: 454.6773 - mae: 445.9477 - val_loss: 366.2136 - val_mae: 357.3976\n",
            "Epoch 68/300\n",
            "115/115 [==============================] - 0s 4ms/step - loss: 454.4894 - mae: 445.7026 - val_loss: 366.6373 - val_mae: 357.8745\n",
            "Epoch 69/300\n",
            "115/115 [==============================] - 0s 4ms/step - loss: 454.3265 - mae: 445.5550 - val_loss: 366.3631 - val_mae: 357.5850\n",
            "Epoch 70/300\n",
            "115/115 [==============================] - 1s 4ms/step - loss: 454.1765 - mae: 445.3766 - val_loss: 365.8190 - val_mae: 356.9738\n",
            "Epoch 71/300\n",
            "115/115 [==============================] - 0s 4ms/step - loss: 454.2485 - mae: 445.4211 - val_loss: 366.1141 - val_mae: 357.2897\n",
            "Epoch 72/300\n",
            "115/115 [==============================] - 1s 5ms/step - loss: 454.0887 - mae: 445.2154 - val_loss: 365.8492 - val_mae: 357.0103\n",
            "Epoch 73/300\n",
            "115/115 [==============================] - 0s 4ms/step - loss: 454.0289 - mae: 445.1600 - val_loss: 365.8395 - val_mae: 356.9829\n",
            "Epoch 74/300\n",
            "115/115 [==============================] - 0s 4ms/step - loss: 453.9003 - mae: 445.0888 - val_loss: 365.7784 - val_mae: 356.9170\n",
            "Epoch 75/300\n",
            "115/115 [==============================] - 0s 4ms/step - loss: 453.8600 - mae: 444.9546 - val_loss: 365.2168 - val_mae: 356.2671\n",
            "Epoch 76/300\n",
            "115/115 [==============================] - 1s 6ms/step - loss: 453.9772 - mae: 445.0769 - val_loss: 365.1658 - val_mae: 356.2589\n",
            "Epoch 77/300\n",
            "115/115 [==============================] - 1s 6ms/step - loss: 453.6154 - mae: 444.6893 - val_loss: 365.1655 - val_mae: 356.2465\n",
            "Epoch 78/300\n",
            "115/115 [==============================] - 1s 4ms/step - loss: 453.6687 - mae: 444.7372 - val_loss: 365.4663 - val_mae: 356.5448\n",
            "Epoch 79/300\n",
            "115/115 [==============================] - 0s 3ms/step - loss: 453.3731 - mae: 444.4677 - val_loss: 365.4204 - val_mae: 356.5124\n",
            "Epoch 80/300\n",
            "115/115 [==============================] - 0s 3ms/step - loss: 453.4671 - mae: 444.5369 - val_loss: 364.9032 - val_mae: 355.9676\n",
            "Epoch 81/300\n",
            "115/115 [==============================] - 0s 3ms/step - loss: 453.3827 - mae: 444.4748 - val_loss: 365.2189 - val_mae: 356.3060\n",
            "Epoch 82/300\n",
            "115/115 [==============================] - 0s 2ms/step - loss: 453.3326 - mae: 444.3840 - val_loss: 365.0421 - val_mae: 356.0671\n",
            "Epoch 83/300\n",
            "115/115 [==============================] - 0s 3ms/step - loss: 453.1418 - mae: 444.1886 - val_loss: 364.7541 - val_mae: 355.7863\n",
            "Epoch 84/300\n",
            "115/115 [==============================] - 0s 3ms/step - loss: 453.1151 - mae: 444.1343 - val_loss: 364.7213 - val_mae: 355.7530\n",
            "Epoch 85/300\n",
            "115/115 [==============================] - 0s 3ms/step - loss: 453.0616 - mae: 444.0942 - val_loss: 364.8213 - val_mae: 355.8525\n",
            "Epoch 86/300\n",
            "115/115 [==============================] - 0s 3ms/step - loss: 453.0851 - mae: 444.1257 - val_loss: 364.5316 - val_mae: 355.5415\n",
            "Epoch 87/300\n",
            "115/115 [==============================] - 0s 2ms/step - loss: 452.9410 - mae: 443.9447 - val_loss: 364.7939 - val_mae: 355.8004\n",
            "Epoch 88/300\n",
            "115/115 [==============================] - 0s 3ms/step - loss: 452.8859 - mae: 443.8895 - val_loss: 364.8240 - val_mae: 355.8097\n",
            "Epoch 89/300\n",
            "115/115 [==============================] - 0s 3ms/step - loss: 452.8507 - mae: 443.8101 - val_loss: 364.2918 - val_mae: 355.2598\n",
            "Epoch 90/300\n",
            "115/115 [==============================] - 0s 3ms/step - loss: 452.8287 - mae: 443.8114 - val_loss: 364.2320 - val_mae: 355.2023\n",
            "Epoch 91/300\n",
            "115/115 [==============================] - 0s 2ms/step - loss: 452.7093 - mae: 443.6832 - val_loss: 364.3752 - val_mae: 355.3354\n",
            "Epoch 92/300\n",
            "115/115 [==============================] - 0s 3ms/step - loss: 452.6315 - mae: 443.5846 - val_loss: 363.9480 - val_mae: 354.8586\n",
            "Epoch 93/300\n",
            "115/115 [==============================] - 0s 3ms/step - loss: 452.6358 - mae: 443.5510 - val_loss: 364.0975 - val_mae: 355.0223\n",
            "Epoch 94/300\n",
            "115/115 [==============================] - 0s 3ms/step - loss: 452.5591 - mae: 443.4831 - val_loss: 363.9700 - val_mae: 354.8896\n",
            "Epoch 95/300\n",
            "115/115 [==============================] - 0s 3ms/step - loss: 452.4163 - mae: 443.3041 - val_loss: 364.4364 - val_mae: 355.3204\n",
            "Epoch 96/300\n",
            "115/115 [==============================] - 0s 3ms/step - loss: 452.4084 - mae: 443.2911 - val_loss: 363.5008 - val_mae: 354.3825\n",
            "Epoch 97/300\n",
            "115/115 [==============================] - 0s 3ms/step - loss: 452.4675 - mae: 443.3330 - val_loss: 364.2990 - val_mae: 355.1515\n",
            "Epoch 98/300\n",
            "115/115 [==============================] - 0s 3ms/step - loss: 452.4066 - mae: 443.2857 - val_loss: 363.5448 - val_mae: 354.3920\n",
            "Epoch 99/300\n",
            "115/115 [==============================] - 0s 3ms/step - loss: 452.3038 - mae: 443.1292 - val_loss: 363.6035 - val_mae: 354.4471\n",
            "Epoch 100/300\n",
            "115/115 [==============================] - 0s 3ms/step - loss: 452.1683 - mae: 443.0233 - val_loss: 363.0244 - val_mae: 353.8379\n",
            "Epoch 101/300\n",
            "115/115 [==============================] - 0s 2ms/step - loss: 452.0999 - mae: 442.9283 - val_loss: 363.0831 - val_mae: 353.8697\n",
            "Epoch 102/300\n",
            "115/115 [==============================] - 0s 3ms/step - loss: 452.0029 - mae: 442.7932 - val_loss: 362.9953 - val_mae: 353.7771\n",
            "Epoch 103/300\n",
            "115/115 [==============================] - 0s 3ms/step - loss: 451.9717 - mae: 442.7397 - val_loss: 362.6314 - val_mae: 353.3712\n",
            "Epoch 104/300\n",
            "115/115 [==============================] - 0s 3ms/step - loss: 452.0270 - mae: 442.7790 - val_loss: 362.9818 - val_mae: 353.7530\n",
            "Epoch 105/300\n",
            "115/115 [==============================] - 0s 3ms/step - loss: 451.8902 - mae: 442.6647 - val_loss: 363.1638 - val_mae: 353.9204\n",
            "Epoch 106/300\n",
            "115/115 [==============================] - 0s 3ms/step - loss: 451.8222 - mae: 442.5725 - val_loss: 362.8614 - val_mae: 353.6150\n",
            "Epoch 107/300\n",
            "115/115 [==============================] - 0s 3ms/step - loss: 451.8326 - mae: 442.5474 - val_loss: 362.8583 - val_mae: 353.5906\n",
            "Epoch 108/300\n",
            "115/115 [==============================] - 0s 3ms/step - loss: 451.7585 - mae: 442.5216 - val_loss: 362.9323 - val_mae: 353.6676\n",
            "Epoch 109/300\n",
            "115/115 [==============================] - 0s 2ms/step - loss: 451.6067 - mae: 442.3340 - val_loss: 363.4404 - val_mae: 354.1711\n",
            "Epoch 110/300\n",
            "115/115 [==============================] - 0s 3ms/step - loss: 451.7175 - mae: 442.4255 - val_loss: 362.9816 - val_mae: 353.6916\n",
            "Epoch 111/300\n",
            "115/115 [==============================] - 0s 3ms/step - loss: 451.6117 - mae: 442.3249 - val_loss: 362.5895 - val_mae: 353.2815\n",
            "Epoch 112/300\n",
            "115/115 [==============================] - 0s 3ms/step - loss: 451.6529 - mae: 442.3300 - val_loss: 362.5065 - val_mae: 353.1730\n",
            "Epoch 113/300\n",
            "115/115 [==============================] - 0s 3ms/step - loss: 451.4618 - mae: 442.1373 - val_loss: 362.5566 - val_mae: 353.2124\n",
            "Epoch 114/300\n",
            "115/115 [==============================] - 0s 3ms/step - loss: 451.4556 - mae: 442.1623 - val_loss: 362.7993 - val_mae: 353.4861\n",
            "Epoch 115/300\n",
            "115/115 [==============================] - 0s 3ms/step - loss: 451.3524 - mae: 441.9909 - val_loss: 362.5787 - val_mae: 353.1972\n",
            "Epoch 116/300\n",
            "115/115 [==============================] - 0s 3ms/step - loss: 451.3924 - mae: 442.0558 - val_loss: 362.5438 - val_mae: 353.1687\n",
            "Epoch 117/300\n",
            "115/115 [==============================] - 0s 3ms/step - loss: 451.4051 - mae: 442.0472 - val_loss: 362.6861 - val_mae: 353.3321\n",
            "Epoch 118/300\n",
            "115/115 [==============================] - 0s 2ms/step - loss: 451.3173 - mae: 441.9101 - val_loss: 363.2056 - val_mae: 353.8445\n",
            "Epoch 119/300\n",
            "115/115 [==============================] - 0s 3ms/step - loss: 451.3619 - mae: 441.9934 - val_loss: 362.7049 - val_mae: 353.3324\n",
            "Epoch 120/300\n",
            "115/115 [==============================] - 0s 3ms/step - loss: 451.2146 - mae: 441.8386 - val_loss: 362.1884 - val_mae: 352.7668\n",
            "Epoch 121/300\n",
            "115/115 [==============================] - 0s 2ms/step - loss: 451.0716 - mae: 441.6779 - val_loss: 362.4715 - val_mae: 353.0376\n",
            "Epoch 122/300\n",
            "115/115 [==============================] - 0s 3ms/step - loss: 451.0042 - mae: 441.5613 - val_loss: 362.0069 - val_mae: 352.5515\n",
            "Epoch 123/300\n",
            "115/115 [==============================] - 0s 3ms/step - loss: 451.2759 - mae: 441.8260 - val_loss: 362.4117 - val_mae: 352.9864\n",
            "Epoch 124/300\n",
            "115/115 [==============================] - 0s 3ms/step - loss: 451.0120 - mae: 441.5641 - val_loss: 362.7343 - val_mae: 353.2953\n",
            "Epoch 125/300\n",
            "115/115 [==============================] - 0s 3ms/step - loss: 450.9422 - mae: 441.4914 - val_loss: 362.1699 - val_mae: 352.7082\n",
            "Epoch 126/300\n",
            "115/115 [==============================] - 0s 2ms/step - loss: 450.9339 - mae: 441.4413 - val_loss: 362.6234 - val_mae: 353.1384\n",
            "Epoch 127/300\n",
            "115/115 [==============================] - 0s 3ms/step - loss: 450.9474 - mae: 441.4513 - val_loss: 362.1481 - val_mae: 352.6671\n",
            "Epoch 128/300\n",
            "115/115 [==============================] - 0s 3ms/step - loss: 450.8376 - mae: 441.3576 - val_loss: 361.8581 - val_mae: 352.3450\n",
            "Epoch 129/300\n",
            "115/115 [==============================] - 0s 3ms/step - loss: 450.9545 - mae: 441.4286 - val_loss: 362.8593 - val_mae: 353.3501\n",
            "Epoch 130/300\n",
            "115/115 [==============================] - 0s 3ms/step - loss: 450.8662 - mae: 441.3495 - val_loss: 362.6469 - val_mae: 353.1413\n",
            "Epoch 131/300\n",
            "115/115 [==============================] - 0s 3ms/step - loss: 450.8431 - mae: 441.3233 - val_loss: 362.4191 - val_mae: 352.9161\n",
            "Epoch 132/300\n",
            "115/115 [==============================] - 0s 3ms/step - loss: 450.6835 - mae: 441.1541 - val_loss: 362.3081 - val_mae: 352.7785\n",
            "Epoch 133/300\n",
            "115/115 [==============================] - 0s 2ms/step - loss: 450.6790 - mae: 441.1302 - val_loss: 362.4340 - val_mae: 352.9001\n",
            "Epoch 134/300\n",
            "115/115 [==============================] - 0s 2ms/step - loss: 450.6549 - mae: 441.0837 - val_loss: 362.4889 - val_mae: 352.9566\n",
            "Epoch 135/300\n",
            "115/115 [==============================] - 0s 3ms/step - loss: 450.5538 - mae: 440.9921 - val_loss: 362.2998 - val_mae: 352.7574\n",
            "Epoch 136/300\n",
            "115/115 [==============================] - 0s 2ms/step - loss: 450.5553 - mae: 440.9825 - val_loss: 362.9843 - val_mae: 353.4179\n",
            "Epoch 137/300\n",
            "115/115 [==============================] - 0s 3ms/step - loss: 450.7512 - mae: 441.1441 - val_loss: 362.2375 - val_mae: 352.6456\n",
            "Epoch 138/300\n",
            "115/115 [==============================] - 0s 3ms/step - loss: 450.4537 - mae: 440.8670 - val_loss: 362.3884 - val_mae: 352.8200\n",
            "Epoch 139/300\n",
            "115/115 [==============================] - 0s 3ms/step - loss: 450.4643 - mae: 440.9072 - val_loss: 361.6824 - val_mae: 352.0677\n",
            "Epoch 140/300\n",
            "115/115 [==============================] - 0s 3ms/step - loss: 450.4843 - mae: 440.8603 - val_loss: 361.7263 - val_mae: 352.0919\n",
            "Epoch 141/300\n",
            "115/115 [==============================] - 0s 3ms/step - loss: 450.3900 - mae: 440.7784 - val_loss: 361.6836 - val_mae: 352.0363\n",
            "Epoch 142/300\n",
            "115/115 [==============================] - 0s 3ms/step - loss: 450.5658 - mae: 440.8945 - val_loss: 361.8129 - val_mae: 352.1692\n",
            "Epoch 143/300\n",
            "115/115 [==============================] - 0s 3ms/step - loss: 450.2476 - mae: 440.6027 - val_loss: 361.2954 - val_mae: 351.6075\n",
            "Epoch 144/300\n",
            "115/115 [==============================] - 0s 2ms/step - loss: 450.4339 - mae: 440.7015 - val_loss: 361.6738 - val_mae: 352.0042\n",
            "Epoch 145/300\n",
            "115/115 [==============================] - 0s 3ms/step - loss: 450.3408 - mae: 440.6721 - val_loss: 362.1300 - val_mae: 352.4663\n",
            "Epoch 146/300\n",
            "115/115 [==============================] - 0s 2ms/step - loss: 450.1717 - mae: 440.4681 - val_loss: 361.6233 - val_mae: 351.9260\n",
            "Epoch 147/300\n",
            "115/115 [==============================] - 0s 3ms/step - loss: 450.1782 - mae: 440.4793 - val_loss: 361.8567 - val_mae: 352.1771\n",
            "Epoch 148/300\n",
            "115/115 [==============================] - 0s 3ms/step - loss: 450.1570 - mae: 440.4714 - val_loss: 361.7955 - val_mae: 352.0950\n",
            "Epoch 149/300\n",
            "115/115 [==============================] - 0s 2ms/step - loss: 450.0733 - mae: 440.3539 - val_loss: 361.5330 - val_mae: 351.8126\n",
            "Epoch 150/300\n",
            "115/115 [==============================] - 0s 2ms/step - loss: 450.0652 - mae: 440.3477 - val_loss: 361.4394 - val_mae: 351.7068\n",
            "Epoch 151/300\n",
            "115/115 [==============================] - 0s 2ms/step - loss: 450.0529 - mae: 440.2814 - val_loss: 362.1632 - val_mae: 352.4521\n",
            "Epoch 152/300\n",
            "115/115 [==============================] - 0s 3ms/step - loss: 450.1372 - mae: 440.3949 - val_loss: 361.7139 - val_mae: 351.9713\n",
            "Epoch 153/300\n",
            "115/115 [==============================] - 0s 3ms/step - loss: 450.1204 - mae: 440.3609 - val_loss: 361.6722 - val_mae: 351.8927\n",
            "Epoch 154/300\n",
            "115/115 [==============================] - 0s 2ms/step - loss: 450.0089 - mae: 440.2278 - val_loss: 361.1997 - val_mae: 351.4077\n",
            "Epoch 155/300\n",
            "115/115 [==============================] - 0s 3ms/step - loss: 450.0427 - mae: 440.2784 - val_loss: 361.4475 - val_mae: 351.6577\n",
            "Epoch 156/300\n",
            "115/115 [==============================] - 0s 3ms/step - loss: 449.9227 - mae: 440.0910 - val_loss: 361.2719 - val_mae: 351.4510\n",
            "Epoch 157/300\n",
            "115/115 [==============================] - 0s 3ms/step - loss: 449.8574 - mae: 440.0286 - val_loss: 361.4007 - val_mae: 351.5837\n",
            "Epoch 158/300\n",
            "115/115 [==============================] - 0s 3ms/step - loss: 449.9952 - mae: 440.1481 - val_loss: 361.2100 - val_mae: 351.3661\n",
            "Epoch 159/300\n",
            "115/115 [==============================] - 0s 2ms/step - loss: 449.8730 - mae: 440.0551 - val_loss: 361.4114 - val_mae: 351.5705\n",
            "Epoch 160/300\n",
            "115/115 [==============================] - 0s 3ms/step - loss: 449.9084 - mae: 440.0429 - val_loss: 361.5051 - val_mae: 351.6372\n",
            "Epoch 161/300\n",
            "115/115 [==============================] - 0s 3ms/step - loss: 449.7703 - mae: 439.8623 - val_loss: 361.2893 - val_mae: 351.4160\n",
            "Epoch 162/300\n",
            "115/115 [==============================] - 0s 3ms/step - loss: 449.7928 - mae: 439.9107 - val_loss: 361.4858 - val_mae: 351.6282\n",
            "Epoch 163/300\n",
            "115/115 [==============================] - 0s 3ms/step - loss: 449.6936 - mae: 439.8304 - val_loss: 361.1633 - val_mae: 351.2596\n",
            "Epoch 164/300\n",
            "115/115 [==============================] - 0s 3ms/step - loss: 449.7512 - mae: 439.8223 - val_loss: 360.9260 - val_mae: 351.0260\n",
            "Epoch 165/300\n",
            "115/115 [==============================] - 0s 3ms/step - loss: 449.8192 - mae: 439.9168 - val_loss: 361.9460 - val_mae: 352.0196\n",
            "Epoch 166/300\n",
            "115/115 [==============================] - 0s 3ms/step - loss: 449.7453 - mae: 439.7833 - val_loss: 360.7817 - val_mae: 350.8423\n",
            "Epoch 167/300\n",
            "115/115 [==============================] - 0s 3ms/step - loss: 449.7204 - mae: 439.7446 - val_loss: 361.5344 - val_mae: 351.5435\n",
            "Epoch 168/300\n",
            "115/115 [==============================] - 0s 3ms/step - loss: 449.7304 - mae: 439.7680 - val_loss: 360.9141 - val_mae: 350.9322\n",
            "Epoch 169/300\n",
            "115/115 [==============================] - 0s 3ms/step - loss: 449.5816 - mae: 439.5970 - val_loss: 361.3336 - val_mae: 351.3412\n",
            "Epoch 170/300\n",
            "115/115 [==============================] - 0s 3ms/step - loss: 449.6773 - mae: 439.6655 - val_loss: 360.5552 - val_mae: 350.5547\n",
            "Epoch 171/300\n",
            "115/115 [==============================] - 0s 3ms/step - loss: 449.5313 - mae: 439.5133 - val_loss: 360.6677 - val_mae: 350.6641\n",
            "Epoch 172/300\n",
            "115/115 [==============================] - 0s 2ms/step - loss: 449.6156 - mae: 439.6006 - val_loss: 361.2422 - val_mae: 351.2309\n",
            "Epoch 173/300\n",
            "115/115 [==============================] - 0s 3ms/step - loss: 449.5664 - mae: 439.5458 - val_loss: 360.2724 - val_mae: 350.2280\n",
            "Epoch 174/300\n",
            "115/115 [==============================] - 0s 3ms/step - loss: 449.4900 - mae: 439.4451 - val_loss: 360.0875 - val_mae: 350.0186\n",
            "Epoch 175/300\n",
            "115/115 [==============================] - 0s 3ms/step - loss: 449.4319 - mae: 439.3749 - val_loss: 360.1801 - val_mae: 350.0952\n",
            "Epoch 176/300\n",
            "115/115 [==============================] - 0s 2ms/step - loss: 449.3402 - mae: 439.2490 - val_loss: 360.5085 - val_mae: 350.4349\n",
            "Epoch 177/300\n",
            "115/115 [==============================] - 0s 3ms/step - loss: 449.3531 - mae: 439.2934 - val_loss: 360.3949 - val_mae: 350.3005\n",
            "Epoch 178/300\n",
            "115/115 [==============================] - 0s 3ms/step - loss: 449.4587 - mae: 439.3611 - val_loss: 360.0772 - val_mae: 349.9681\n",
            "Epoch 179/300\n",
            "115/115 [==============================] - 0s 3ms/step - loss: 449.2555 - mae: 439.1444 - val_loss: 361.0240 - val_mae: 350.9071\n",
            "Epoch 180/300\n",
            "115/115 [==============================] - 0s 3ms/step - loss: 449.3928 - mae: 439.2842 - val_loss: 359.9382 - val_mae: 349.8015\n",
            "Epoch 181/300\n",
            "115/115 [==============================] - 0s 3ms/step - loss: 449.2863 - mae: 439.0913 - val_loss: 360.1532 - val_mae: 350.0072\n",
            "Epoch 182/300\n",
            "115/115 [==============================] - 0s 3ms/step - loss: 449.2549 - mae: 439.1119 - val_loss: 360.2169 - val_mae: 350.0815\n",
            "Epoch 183/300\n",
            "115/115 [==============================] - 0s 3ms/step - loss: 449.3032 - mae: 439.1602 - val_loss: 359.9743 - val_mae: 349.8246\n",
            "Epoch 184/300\n",
            "115/115 [==============================] - 0s 3ms/step - loss: 449.2205 - mae: 439.0659 - val_loss: 359.8328 - val_mae: 349.6573\n",
            "Epoch 185/300\n",
            "115/115 [==============================] - 0s 3ms/step - loss: 449.1766 - mae: 439.0082 - val_loss: 359.4617 - val_mae: 349.2585\n",
            "Epoch 186/300\n",
            "115/115 [==============================] - 0s 3ms/step - loss: 449.2520 - mae: 439.0837 - val_loss: 359.8395 - val_mae: 349.6436\n",
            "Epoch 187/300\n",
            "115/115 [==============================] - 0s 3ms/step - loss: 449.1288 - mae: 438.9255 - val_loss: 359.7845 - val_mae: 349.5824\n",
            "Epoch 188/300\n",
            "115/115 [==============================] - 0s 2ms/step - loss: 449.3440 - mae: 439.1391 - val_loss: 360.2202 - val_mae: 350.0089\n",
            "Epoch 189/300\n",
            "115/115 [==============================] - 0s 3ms/step - loss: 449.2574 - mae: 439.0366 - val_loss: 359.7924 - val_mae: 349.5602\n",
            "Epoch 190/300\n",
            "115/115 [==============================] - 0s 2ms/step - loss: 449.1244 - mae: 438.8691 - val_loss: 359.7269 - val_mae: 349.4825\n",
            "Epoch 191/300\n",
            "115/115 [==============================] - 0s 3ms/step - loss: 449.1558 - mae: 438.9032 - val_loss: 359.5414 - val_mae: 349.2881\n",
            "Epoch 192/300\n",
            "115/115 [==============================] - 0s 3ms/step - loss: 449.0440 - mae: 438.7894 - val_loss: 359.3761 - val_mae: 349.0960\n",
            "Epoch 193/300\n",
            "115/115 [==============================] - 0s 3ms/step - loss: 449.0641 - mae: 438.7881 - val_loss: 359.4553 - val_mae: 349.1733\n",
            "Epoch 194/300\n",
            "115/115 [==============================] - 0s 3ms/step - loss: 449.3694 - mae: 439.1238 - val_loss: 359.4460 - val_mae: 349.1536\n",
            "Epoch 195/300\n",
            "115/115 [==============================] - 0s 3ms/step - loss: 449.0859 - mae: 438.7830 - val_loss: 359.2429 - val_mae: 348.9414\n",
            "Epoch 196/300\n",
            "115/115 [==============================] - 0s 3ms/step - loss: 448.8916 - mae: 438.6040 - val_loss: 360.0269 - val_mae: 349.7172\n",
            "Epoch 197/300\n",
            "115/115 [==============================] - 0s 3ms/step - loss: 449.1087 - mae: 438.7883 - val_loss: 359.5863 - val_mae: 349.2637\n",
            "Epoch 198/300\n",
            "115/115 [==============================] - 0s 3ms/step - loss: 449.0183 - mae: 438.6808 - val_loss: 359.5414 - val_mae: 349.2189\n",
            "Epoch 199/300\n",
            "115/115 [==============================] - 0s 3ms/step - loss: 448.8466 - mae: 438.5022 - val_loss: 359.1543 - val_mae: 348.8123\n",
            "Epoch 200/300\n",
            "115/115 [==============================] - 0s 3ms/step - loss: 449.1480 - mae: 438.8044 - val_loss: 359.6259 - val_mae: 349.2781\n",
            "Epoch 201/300\n",
            "115/115 [==============================] - 0s 3ms/step - loss: 449.0327 - mae: 438.6513 - val_loss: 359.5778 - val_mae: 349.2240\n",
            "Epoch 202/300\n",
            "115/115 [==============================] - 0s 3ms/step - loss: 449.0507 - mae: 438.6832 - val_loss: 359.3275 - val_mae: 348.9556\n",
            "Epoch 203/300\n",
            "115/115 [==============================] - 0s 3ms/step - loss: 448.8368 - mae: 438.4391 - val_loss: 359.0308 - val_mae: 348.6382\n",
            "Epoch 204/300\n",
            "115/115 [==============================] - 0s 3ms/step - loss: 448.7624 - mae: 438.4029 - val_loss: 359.1363 - val_mae: 348.7530\n",
            "Epoch 205/300\n",
            "115/115 [==============================] - 0s 3ms/step - loss: 448.8263 - mae: 438.4122 - val_loss: 358.9915 - val_mae: 348.5993\n",
            "Epoch 206/300\n",
            "115/115 [==============================] - 0s 3ms/step - loss: 448.8977 - mae: 438.4964 - val_loss: 359.0562 - val_mae: 348.6402\n",
            "Epoch 207/300\n",
            "115/115 [==============================] - 0s 3ms/step - loss: 448.7691 - mae: 438.3871 - val_loss: 359.1005 - val_mae: 348.6843\n",
            "Epoch 208/300\n",
            "115/115 [==============================] - 0s 3ms/step - loss: 448.8658 - mae: 438.4543 - val_loss: 359.1306 - val_mae: 348.6870\n",
            "Epoch 209/300\n",
            "115/115 [==============================] - 0s 3ms/step - loss: 448.8561 - mae: 438.3889 - val_loss: 359.0358 - val_mae: 348.5928\n",
            "Epoch 210/300\n",
            "115/115 [==============================] - 0s 3ms/step - loss: 448.8349 - mae: 438.4010 - val_loss: 359.0428 - val_mae: 348.5768\n",
            "Epoch 211/300\n",
            "115/115 [==============================] - 0s 3ms/step - loss: 448.7357 - mae: 438.2786 - val_loss: 358.7411 - val_mae: 348.2724\n",
            "Epoch 212/300\n",
            "115/115 [==============================] - 0s 3ms/step - loss: 448.6560 - mae: 438.1888 - val_loss: 358.6950 - val_mae: 348.2100\n",
            "Epoch 213/300\n",
            "115/115 [==============================] - 0s 3ms/step - loss: 448.7212 - mae: 438.2617 - val_loss: 358.4030 - val_mae: 347.8818\n",
            "Epoch 214/300\n",
            "115/115 [==============================] - 0s 3ms/step - loss: 448.7172 - mae: 438.1989 - val_loss: 358.6105 - val_mae: 348.1058\n",
            "Epoch 215/300\n",
            "115/115 [==============================] - 0s 3ms/step - loss: 448.6277 - mae: 438.1004 - val_loss: 358.7099 - val_mae: 348.2058\n",
            "Epoch 216/300\n",
            "115/115 [==============================] - 0s 3ms/step - loss: 448.6331 - mae: 438.1126 - val_loss: 358.9663 - val_mae: 348.4685\n",
            "Epoch 217/300\n",
            "115/115 [==============================] - 0s 3ms/step - loss: 448.7231 - mae: 438.2068 - val_loss: 358.9485 - val_mae: 348.4183\n",
            "Epoch 218/300\n",
            "115/115 [==============================] - 0s 3ms/step - loss: 448.6788 - mae: 438.1286 - val_loss: 358.9204 - val_mae: 348.3747\n",
            "Epoch 219/300\n",
            "115/115 [==============================] - 0s 3ms/step - loss: 448.6873 - mae: 438.1609 - val_loss: 358.6058 - val_mae: 348.0753\n",
            "Epoch 220/300\n",
            "115/115 [==============================] - 0s 3ms/step - loss: 448.5686 - mae: 438.0044 - val_loss: 359.3622 - val_mae: 348.8154\n",
            "Epoch 221/300\n",
            "115/115 [==============================] - 0s 2ms/step - loss: 448.6169 - mae: 438.0585 - val_loss: 358.5979 - val_mae: 348.0443\n",
            "Epoch 222/300\n",
            "115/115 [==============================] - 0s 3ms/step - loss: 448.4972 - mae: 437.9436 - val_loss: 358.6744 - val_mae: 348.1054\n",
            "Epoch 223/300\n",
            "115/115 [==============================] - 0s 3ms/step - loss: 448.5123 - mae: 437.9364 - val_loss: 358.5148 - val_mae: 347.9309\n",
            "Epoch 224/300\n",
            "115/115 [==============================] - 0s 3ms/step - loss: 448.5119 - mae: 437.9335 - val_loss: 358.4646 - val_mae: 347.8601\n",
            "Epoch 225/300\n",
            "115/115 [==============================] - 0s 3ms/step - loss: 448.4731 - mae: 437.8534 - val_loss: 358.4378 - val_mae: 347.8266\n",
            "Epoch 226/300\n",
            "115/115 [==============================] - 0s 3ms/step - loss: 448.5031 - mae: 437.9079 - val_loss: 358.4620 - val_mae: 347.8591\n",
            "Epoch 227/300\n",
            "115/115 [==============================] - 0s 2ms/step - loss: 448.4603 - mae: 437.8586 - val_loss: 358.5307 - val_mae: 347.9165\n",
            "Epoch 228/300\n",
            "115/115 [==============================] - 0s 3ms/step - loss: 448.5628 - mae: 437.9549 - val_loss: 357.8614 - val_mae: 347.2029\n",
            "Epoch 229/300\n",
            "115/115 [==============================] - 0s 3ms/step - loss: 448.5022 - mae: 437.8230 - val_loss: 358.2658 - val_mae: 347.6128\n",
            "Epoch 230/300\n",
            "115/115 [==============================] - 0s 3ms/step - loss: 448.5394 - mae: 437.8462 - val_loss: 358.6440 - val_mae: 347.9953\n",
            "Epoch 231/300\n",
            "115/115 [==============================] - 0s 2ms/step - loss: 448.4338 - mae: 437.7550 - val_loss: 358.4339 - val_mae: 347.7851\n",
            "Epoch 232/300\n",
            "115/115 [==============================] - 0s 2ms/step - loss: 448.4397 - mae: 437.7837 - val_loss: 358.7769 - val_mae: 348.1055\n",
            "Epoch 233/300\n",
            "115/115 [==============================] - 0s 3ms/step - loss: 448.3662 - mae: 437.7072 - val_loss: 358.3043 - val_mae: 347.6344\n",
            "Epoch 234/300\n",
            "115/115 [==============================] - 0s 3ms/step - loss: 448.3295 - mae: 437.6513 - val_loss: 358.0020 - val_mae: 347.3075\n",
            "Epoch 235/300\n",
            "115/115 [==============================] - 0s 3ms/step - loss: 448.3581 - mae: 437.6550 - val_loss: 358.6367 - val_mae: 347.9472\n",
            "Epoch 236/300\n",
            "115/115 [==============================] - 0s 3ms/step - loss: 448.3004 - mae: 437.6119 - val_loss: 358.1752 - val_mae: 347.4659\n",
            "Epoch 237/300\n",
            "115/115 [==============================] - 0s 2ms/step - loss: 448.3386 - mae: 437.6310 - val_loss: 358.3351 - val_mae: 347.6297\n",
            "Epoch 238/300\n",
            "115/115 [==============================] - 0s 3ms/step - loss: 448.3298 - mae: 437.6187 - val_loss: 358.1958 - val_mae: 347.4577\n",
            "Epoch 239/300\n",
            "115/115 [==============================] - 0s 3ms/step - loss: 448.4730 - mae: 437.7659 - val_loss: 358.1635 - val_mae: 347.4315\n",
            "Epoch 240/300\n",
            "115/115 [==============================] - 0s 3ms/step - loss: 448.3521 - mae: 437.6290 - val_loss: 357.7836 - val_mae: 347.0308\n",
            "Epoch 241/300\n",
            "115/115 [==============================] - 0s 3ms/step - loss: 448.4069 - mae: 437.6698 - val_loss: 357.8686 - val_mae: 347.1208\n",
            "Epoch 242/300\n",
            "115/115 [==============================] - 0s 3ms/step - loss: 448.2641 - mae: 437.5139 - val_loss: 358.0893 - val_mae: 347.3465\n",
            "Epoch 243/300\n",
            "115/115 [==============================] - 0s 2ms/step - loss: 448.2561 - mae: 437.5044 - val_loss: 357.9427 - val_mae: 347.1773\n",
            "Epoch 244/300\n",
            "115/115 [==============================] - 0s 3ms/step - loss: 448.2536 - mae: 437.5044 - val_loss: 358.2743 - val_mae: 347.5211\n",
            "Epoch 245/300\n",
            "115/115 [==============================] - 0s 3ms/step - loss: 448.3068 - mae: 437.5290 - val_loss: 357.9926 - val_mae: 347.2204\n",
            "Epoch 246/300\n",
            "115/115 [==============================] - 0s 2ms/step - loss: 448.2604 - mae: 437.4999 - val_loss: 357.9008 - val_mae: 347.1234\n",
            "Epoch 247/300\n",
            "115/115 [==============================] - 0s 3ms/step - loss: 448.2229 - mae: 437.4363 - val_loss: 357.7348 - val_mae: 346.9415\n",
            "Epoch 248/300\n",
            "115/115 [==============================] - 0s 3ms/step - loss: 448.1803 - mae: 437.3664 - val_loss: 358.0413 - val_mae: 347.2446\n",
            "Epoch 249/300\n",
            "115/115 [==============================] - 0s 3ms/step - loss: 448.5716 - mae: 437.7716 - val_loss: 358.2405 - val_mae: 347.4636\n",
            "Epoch 250/300\n",
            "115/115 [==============================] - 0s 3ms/step - loss: 448.3188 - mae: 437.5289 - val_loss: 358.1094 - val_mae: 347.3137\n",
            "Epoch 251/300\n",
            "115/115 [==============================] - 0s 3ms/step - loss: 448.1340 - mae: 437.3300 - val_loss: 357.8770 - val_mae: 347.0661\n",
            "Epoch 252/300\n",
            "115/115 [==============================] - 0s 3ms/step - loss: 448.0438 - mae: 437.2152 - val_loss: 357.9361 - val_mae: 347.1177\n",
            "Epoch 253/300\n",
            "115/115 [==============================] - 0s 3ms/step - loss: 448.1235 - mae: 437.3094 - val_loss: 357.6123 - val_mae: 346.7717\n",
            "Epoch 254/300\n",
            "115/115 [==============================] - 0s 3ms/step - loss: 448.2836 - mae: 437.4133 - val_loss: 358.0435 - val_mae: 347.2296\n",
            "Epoch 255/300\n",
            "115/115 [==============================] - 0s 3ms/step - loss: 448.0086 - mae: 437.1739 - val_loss: 358.3087 - val_mae: 347.5033\n",
            "Epoch 256/300\n",
            "115/115 [==============================] - 0s 3ms/step - loss: 448.1248 - mae: 437.2960 - val_loss: 357.9705 - val_mae: 347.1407\n",
            "Epoch 257/300\n",
            "115/115 [==============================] - 0s 2ms/step - loss: 447.9821 - mae: 437.1513 - val_loss: 357.7693 - val_mae: 346.9237\n",
            "Epoch 258/300\n",
            "115/115 [==============================] - 0s 3ms/step - loss: 448.1010 - mae: 437.2608 - val_loss: 357.8435 - val_mae: 346.9855\n",
            "Epoch 259/300\n",
            "115/115 [==============================] - 0s 3ms/step - loss: 448.0712 - mae: 437.2462 - val_loss: 357.6813 - val_mae: 346.8101\n",
            "Epoch 260/300\n",
            "115/115 [==============================] - 0s 3ms/step - loss: 448.1791 - mae: 437.3231 - val_loss: 357.7499 - val_mae: 346.8909\n",
            "Epoch 261/300\n",
            "115/115 [==============================] - 0s 3ms/step - loss: 448.0657 - mae: 437.1926 - val_loss: 357.9446 - val_mae: 347.0882\n",
            "Epoch 262/300\n",
            "115/115 [==============================] - 0s 3ms/step - loss: 447.9832 - mae: 437.1003 - val_loss: 358.1043 - val_mae: 347.2245\n",
            "Epoch 263/300\n",
            "115/115 [==============================] - 0s 3ms/step - loss: 447.9900 - mae: 437.1112 - val_loss: 358.2137 - val_mae: 347.3609\n",
            "Epoch 264/300\n",
            "115/115 [==============================] - 0s 4ms/step - loss: 448.1066 - mae: 437.2437 - val_loss: 357.8993 - val_mae: 347.0105\n",
            "Epoch 265/300\n",
            "115/115 [==============================] - 0s 3ms/step - loss: 447.9324 - mae: 437.0352 - val_loss: 358.7419 - val_mae: 347.8591\n",
            "Epoch 266/300\n",
            "115/115 [==============================] - 0s 4ms/step - loss: 448.0096 - mae: 437.1192 - val_loss: 357.6602 - val_mae: 346.7584\n",
            "Epoch 267/300\n",
            "115/115 [==============================] - 0s 3ms/step - loss: 448.0041 - mae: 437.0898 - val_loss: 357.8241 - val_mae: 346.9334\n",
            "Epoch 268/300\n",
            "115/115 [==============================] - 0s 3ms/step - loss: 448.0465 - mae: 437.1650 - val_loss: 358.0195 - val_mae: 347.1310\n",
            "Epoch 269/300\n",
            "115/115 [==============================] - 0s 3ms/step - loss: 448.1765 - mae: 437.2790 - val_loss: 358.0664 - val_mae: 347.1703\n",
            "Epoch 270/300\n",
            "115/115 [==============================] - 0s 3ms/step - loss: 447.9759 - mae: 437.0647 - val_loss: 358.0737 - val_mae: 347.1845\n",
            "Epoch 271/300\n",
            "115/115 [==============================] - 0s 3ms/step - loss: 448.0503 - mae: 437.1380 - val_loss: 358.1402 - val_mae: 347.2489\n",
            "Epoch 272/300\n",
            "115/115 [==============================] - 0s 3ms/step - loss: 447.9924 - mae: 437.0777 - val_loss: 357.7534 - val_mae: 346.8471\n",
            "Epoch 273/300\n",
            "115/115 [==============================] - 0s 3ms/step - loss: 448.0911 - mae: 437.1880 - val_loss: 357.8219 - val_mae: 346.9108\n",
            "Epoch 274/300\n",
            "115/115 [==============================] - 0s 3ms/step - loss: 447.9882 - mae: 437.0730 - val_loss: 357.7695 - val_mae: 346.8552\n",
            "Epoch 275/300\n",
            "115/115 [==============================] - 0s 3ms/step - loss: 448.0801 - mae: 437.1549 - val_loss: 357.8413 - val_mae: 346.9207\n",
            "Epoch 276/300\n",
            "115/115 [==============================] - 0s 3ms/step - loss: 447.8443 - mae: 436.9131 - val_loss: 358.1227 - val_mae: 347.1864\n",
            "Epoch 277/300\n",
            "115/115 [==============================] - 0s 3ms/step - loss: 447.9559 - mae: 437.0235 - val_loss: 357.7245 - val_mae: 346.7925\n",
            "Epoch 278/300\n",
            "115/115 [==============================] - 0s 3ms/step - loss: 447.9272 - mae: 436.9799 - val_loss: 357.8992 - val_mae: 346.9861\n",
            "Epoch 279/300\n",
            "115/115 [==============================] - 0s 3ms/step - loss: 448.0093 - mae: 437.1005 - val_loss: 357.5099 - val_mae: 346.5714\n",
            "Epoch 280/300\n",
            "115/115 [==============================] - 0s 3ms/step - loss: 447.9990 - mae: 437.0697 - val_loss: 358.6282 - val_mae: 347.6835\n",
            "Epoch 281/300\n",
            "115/115 [==============================] - 0s 3ms/step - loss: 448.0020 - mae: 437.0471 - val_loss: 357.6480 - val_mae: 346.6847\n",
            "Epoch 282/300\n",
            "115/115 [==============================] - 0s 3ms/step - loss: 447.8570 - mae: 436.9143 - val_loss: 357.6768 - val_mae: 346.7196\n",
            "Epoch 283/300\n",
            "115/115 [==============================] - 0s 3ms/step - loss: 447.8080 - mae: 436.8543 - val_loss: 357.3596 - val_mae: 346.3945\n",
            "Epoch 284/300\n",
            "115/115 [==============================] - 0s 3ms/step - loss: 447.9255 - mae: 436.9689 - val_loss: 357.5269 - val_mae: 346.5556\n",
            "Epoch 285/300\n",
            "115/115 [==============================] - 0s 3ms/step - loss: 447.9403 - mae: 436.9466 - val_loss: 357.6448 - val_mae: 346.6809\n",
            "Epoch 286/300\n",
            "115/115 [==============================] - 0s 3ms/step - loss: 447.9213 - mae: 436.9444 - val_loss: 357.8619 - val_mae: 346.9127\n",
            "Epoch 287/300\n",
            "115/115 [==============================] - 0s 3ms/step - loss: 447.8616 - mae: 436.9001 - val_loss: 357.6461 - val_mae: 346.6675\n",
            "Epoch 288/300\n",
            "115/115 [==============================] - 0s 3ms/step - loss: 447.9443 - mae: 436.9669 - val_loss: 357.8271 - val_mae: 346.8767\n",
            "Epoch 289/300\n",
            "115/115 [==============================] - 0s 3ms/step - loss: 447.8433 - mae: 436.8480 - val_loss: 359.3909 - val_mae: 348.4099\n",
            "Epoch 290/300\n",
            "115/115 [==============================] - 0s 3ms/step - loss: 447.9006 - mae: 436.9243 - val_loss: 357.7897 - val_mae: 346.8203\n",
            "Epoch 291/300\n",
            "115/115 [==============================] - 0s 3ms/step - loss: 447.8937 - mae: 436.9078 - val_loss: 357.9140 - val_mae: 346.9301\n",
            "Epoch 292/300\n",
            "115/115 [==============================] - 0s 3ms/step - loss: 447.8695 - mae: 436.8828 - val_loss: 358.1555 - val_mae: 347.1895\n",
            "Epoch 293/300\n",
            "115/115 [==============================] - 0s 3ms/step - loss: 447.9055 - mae: 436.9317 - val_loss: 357.6727 - val_mae: 346.6862\n",
            "Epoch 294/300\n",
            "115/115 [==============================] - 0s 3ms/step - loss: 447.9392 - mae: 436.9430 - val_loss: 357.4272 - val_mae: 346.4272\n",
            "Epoch 295/300\n",
            "115/115 [==============================] - 0s 3ms/step - loss: 447.7296 - mae: 436.7279 - val_loss: 357.5689 - val_mae: 346.5695\n",
            "Epoch 296/300\n",
            "115/115 [==============================] - 0s 3ms/step - loss: 447.8482 - mae: 436.8705 - val_loss: 357.5669 - val_mae: 346.5768\n",
            "Epoch 297/300\n",
            "115/115 [==============================] - 0s 3ms/step - loss: 447.8081 - mae: 436.8180 - val_loss: 357.3607 - val_mae: 346.3489\n",
            "Epoch 298/300\n",
            "115/115 [==============================] - 0s 3ms/step - loss: 447.7713 - mae: 436.7763 - val_loss: 357.7451 - val_mae: 346.7437\n",
            "Epoch 299/300\n",
            "115/115 [==============================] - 0s 3ms/step - loss: 447.7176 - mae: 436.7059 - val_loss: 357.9644 - val_mae: 346.9743\n",
            "Epoch 300/300\n",
            "115/115 [==============================] - 0s 3ms/step - loss: 447.7092 - mae: 436.7033 - val_loss: 357.7493 - val_mae: 346.7505\n"
          ]
        },
        {
          "output_type": "execute_result",
          "data": {
            "text/plain": [
              "<keras.callbacks.History at 0x7fdfdc363250>"
            ]
          },
          "metadata": {},
          "execution_count": 429
        }
      ]
    },
    {
      "cell_type": "code",
      "source": [
        "model.load_weights(\"./drive/MyDrive/ds/item/models/sold_prediction_nn_model_mean.h5\")"
      ],
      "metadata": {
        "id": "Vv7VXgaczBOV"
      },
      "execution_count": null,
      "outputs": []
    },
    {
      "cell_type": "code",
      "source": [
        "#Compute MAE metrics\n",
        "mae_train = Metrics.computeMAE(y_train, model.predict(X_train).squeeze())\n",
        "mae_val = Metrics.computeMAE(y_val, model.predict(X_val).squeeze())\n",
        "mae_test = Metrics.computeMAE(y_test, model.predict(X_test).squeeze())\n",
        "\n",
        "print(mae_train)\n",
        "print(mae_val)\n",
        "print(mae_test)"
      ],
      "metadata": {
        "colab": {
          "base_uri": "https://localhost:8080/"
        },
        "id": "C0EIt4k8zC7v",
        "outputId": "71f0c9a5-f457-4d91-8ded-d16ccd9376a8"
      },
      "execution_count": null,
      "outputs": [
        {
          "output_type": "stream",
          "name": "stdout",
          "text": [
            "436.503766418331\n",
            "346.3489487530034\n",
            "310.8278100167106\n"
          ]
        }
      ]
    },
    {
      "cell_type": "code",
      "source": [
        "#Compute SIA metrics\n",
        "SIA_train = Metrics.computeSIA(y_train, np.clip(model.predict(X_train), 0,np.inf).squeeze(), 1000)\n",
        "SIA_val = Metrics.computeSIA(y_val, np.clip(model.predict(X_val).squeeze(), 0,np.inf), 1000)\n",
        "SIA_test = Metrics.computeSIA(y_test, np.clip(model.predict(X_test).squeeze(), 0,np.inf), 1000)\n",
        "\n",
        "print(SIA_train)\n",
        "print(SIA_val)\n",
        "print(SIA_test)"
      ],
      "metadata": {
        "colab": {
          "base_uri": "https://localhost:8080/"
        },
        "id": "GJXqY0IX1tZ3",
        "outputId": "12e69403-f10f-4c27-ee8f-39589fc5983d"
      },
      "execution_count": null,
      "outputs": [
        {
          "output_type": "stream",
          "name": "stdout",
          "text": [
            "0.9437108630547236\n",
            "0.9425694066412629\n",
            "0.9433797909407665\n"
          ]
        }
      ]
    },
    {
      "cell_type": "code",
      "source": [
        "#Compute SIA metrics\n",
        "SIA_train = Metrics.computeSIA(y_train, np.clip(model.predict(X_train), 0,np.inf).squeeze(), 500)\n",
        "SIA_val = Metrics.computeSIA(y_val, np.clip(model.predict(X_val).squeeze(), 0,np.inf), 500)\n",
        "SIA_test = Metrics.computeSIA(y_test, np.clip(model.predict(X_test).squeeze(), 0,np.inf), 500)\n",
        "\n",
        "print(SIA_train)\n",
        "print(SIA_val)\n",
        "print(SIA_test)"
      ],
      "metadata": {
        "colab": {
          "base_uri": "https://localhost:8080/"
        },
        "id": "aHjWa6zn1s8w",
        "outputId": "b5b51970-0af9-43a6-eca1-8ceb0de0de05"
      },
      "execution_count": null,
      "outputs": [
        {
          "output_type": "stream",
          "name": "stdout",
          "text": [
            "0.9027361829567111\n",
            "0.9003810560696788\n",
            "0.8980836236933798\n"
          ]
        }
      ]
    },
    {
      "cell_type": "code",
      "source": [
        "#Compute SIA metrics\n",
        "SIA_train = Metrics.computeSIA(y_train, np.clip(model.predict(X_train), 0,np.inf).squeeze(), 200)\n",
        "SIA_val = Metrics.computeSIA(y_val, np.clip(model.predict(X_val).squeeze(), 0,np.inf), 200)\n",
        "SIA_test = Metrics.computeSIA(y_test, np.clip(model.predict(X_test).squeeze(), 0,np.inf), 200)\n",
        "\n",
        "print(SIA_train)\n",
        "print(SIA_val)\n",
        "print(SIA_test)"
      ],
      "metadata": {
        "colab": {
          "base_uri": "https://localhost:8080/"
        },
        "id": "kSDWZRUUzEMX",
        "outputId": "026a01e5-6d35-4de0-bcfd-7affc3106c92"
      },
      "execution_count": null,
      "outputs": [
        {
          "output_type": "stream",
          "name": "stdout",
          "text": [
            "0.814592975769126\n",
            "0.8127381600435493\n",
            "0.8081445993031359\n"
          ]
        }
      ]
    },
    {
      "cell_type": "code",
      "source": [
        "category = pd.get_dummies(full_df['main_category'], drop_first=True)"
      ],
      "metadata": {
        "id": "SLx04DFD0OJK"
      },
      "execution_count": null,
      "outputs": []
    },
    {
      "cell_type": "code",
      "source": [
        "feature_list = [category, \n",
        "                price,\n",
        "                avg_rating, \n",
        "                n_reviews, \n",
        "                discount,\n",
        "                discount_rate,\n",
        "\n",
        "                # n_rate_5,\n",
        "                # n_rate_4,\n",
        "                # n_rate_3,\n",
        "                # n_rate_2,\n",
        "                # n_rate_1,\n",
        "\n",
        "                ]"
      ],
      "metadata": {
        "id": "4KHSxODJ0WqL"
      },
      "execution_count": null,
      "outputs": []
    },
    {
      "cell_type": "code",
      "source": [
        "X = np.hstack(feature_list)"
      ],
      "metadata": {
        "id": "UKTgvkoK0Y7H"
      },
      "execution_count": null,
      "outputs": []
    },
    {
      "cell_type": "code",
      "source": [
        "X_train, X_test, y_train, y_test = train_test_split(X, y, test_size=0.2, random_state=1)\n",
        "X_train, X_val, y_train, y_val = train_test_split(X_train, y_train, test_size=0.2, random_state=1)\n",
        "print(X_train.shape, y_train.shape)\n",
        "print(X_val.shape, y_val.shape)\n",
        "print(X_test.shape, y_test.shape)"
      ],
      "metadata": {
        "colab": {
          "base_uri": "https://localhost:8080/"
        },
        "id": "pZNJ65Tf0ZAq",
        "outputId": "48d5f3e6-8d45-4c36-bf56-6e7fffb611aa"
      },
      "execution_count": null,
      "outputs": [
        {
          "output_type": "stream",
          "name": "stdout",
          "text": [
            "(14692, 29) (14692,)\n",
            "(3674, 29) (3674,)\n",
            "(4592, 29) (4592,)\n"
          ]
        }
      ]
    },
    {
      "cell_type": "code",
      "source": [
        "normalizer = StandardScaler()\n",
        "\n",
        "X_train = normalizer.fit_transform(X_train)\n",
        "X_val = normalizer.transform(X_val)\n",
        "X_test = normalizer.transform(X_test)"
      ],
      "metadata": {
        "id": "H9iPBmd00dSZ"
      },
      "execution_count": null,
      "outputs": []
    },
    {
      "cell_type": "code",
      "source": [
        "model = tf.keras.models.Sequential([\n",
        "    tf.keras.layers.Dense(units=32,activation='relu', kernel_regularizer=tf.keras.regularizers.L2(0.01)),\n",
        "    tf.keras.layers.Dense(units=64, activation ='relu', kernel_regularizer=tf.keras.regularizers.L2(0.01)),\n",
        "    tf.keras.layers.Dense(units=1, activation='relu', kernel_regularizer=tf.keras.regularizers.L2(0.01))\n",
        "])\n",
        "\n",
        "model.compile(optimizer=tf.keras.optimizers.Adam(1e-3),\n",
        "              loss = tf.keras.losses.mean_absolute_error,\n",
        "              metrics=['mae'])"
      ],
      "metadata": {
        "id": "r_z5ipGH0fN3"
      },
      "execution_count": null,
      "outputs": []
    },
    {
      "cell_type": "code",
      "source": [
        "if not os.path.exists(\"./drive/MyDrive/ds/item/models\"):\n",
        "    os.makedirs(\"./drive/MyDrive/ds/item/models\")\n",
        "mcp_save = tf.keras.callbacks.ModelCheckpoint(\n",
        "    filepath=\"./drive/MyDrive/ds/item/models/sold_prediction_nn_model_onehot.h5\",\n",
        "    save_weights_only=True,\n",
        "    monitor='val_mae',\n",
        "    mode='min',\n",
        "    save_best_only=True)  #save model's weights with highest validation performance\n",
        "\n",
        "model.fit(X_train, y_train,\n",
        "          epochs=300,\n",
        "          batch_size=128,\n",
        "          validation_data=(X_val, y_val),\n",
        "          callbacks=[mcp_save])"
      ],
      "metadata": {
        "colab": {
          "base_uri": "https://localhost:8080/"
        },
        "id": "ncNDyNBm0gaY",
        "outputId": "f266ce42-795b-412f-9094-57e1f9f1ab59"
      },
      "execution_count": null,
      "outputs": [
        {
          "output_type": "stream",
          "name": "stdout",
          "text": [
            "Epoch 1/300\n",
            "115/115 [==============================] - 1s 5ms/step - loss: 620.7272 - mae: 619.9804 - val_loss: 562.9474 - val_mae: 561.9979\n",
            "Epoch 2/300\n",
            "115/115 [==============================] - 0s 3ms/step - loss: 600.8910 - mae: 599.5870 - val_loss: 537.8864 - val_mae: 536.2459\n",
            "Epoch 3/300\n",
            "115/115 [==============================] - 0s 3ms/step - loss: 577.2390 - mae: 575.3463 - val_loss: 513.2921 - val_mae: 511.0677\n",
            "Epoch 4/300\n",
            "115/115 [==============================] - 0s 3ms/step - loss: 555.8559 - mae: 553.3810 - val_loss: 492.1199 - val_mae: 489.3695\n",
            "Epoch 5/300\n",
            "115/115 [==============================] - 0s 3ms/step - loss: 538.0525 - mae: 535.0479 - val_loss: 471.2836 - val_mae: 467.9500\n",
            "Epoch 6/300\n",
            "115/115 [==============================] - 0s 3ms/step - loss: 521.6779 - mae: 518.0389 - val_loss: 451.2631 - val_mae: 447.3191\n",
            "Epoch 7/300\n",
            "115/115 [==============================] - 0s 3ms/step - loss: 507.3076 - mae: 503.0084 - val_loss: 431.3919 - val_mae: 426.7642\n",
            "Epoch 8/300\n",
            "115/115 [==============================] - 0s 3ms/step - loss: 493.6109 - mae: 488.6749 - val_loss: 412.7907 - val_mae: 407.4754\n",
            "Epoch 9/300\n",
            "115/115 [==============================] - 0s 3ms/step - loss: 481.8112 - mae: 476.1373 - val_loss: 398.9269 - val_mae: 393.0663\n",
            "Epoch 10/300\n",
            "115/115 [==============================] - 0s 3ms/step - loss: 473.6489 - mae: 467.6031 - val_loss: 390.2785 - val_mae: 384.0130\n",
            "Epoch 11/300\n",
            "115/115 [==============================] - 0s 3ms/step - loss: 468.8475 - mae: 462.4889 - val_loss: 386.3907 - val_mae: 379.9748\n",
            "Epoch 12/300\n",
            "115/115 [==============================] - 0s 3ms/step - loss: 465.6206 - mae: 459.1241 - val_loss: 382.1668 - val_mae: 375.5133\n",
            "Epoch 13/300\n",
            "115/115 [==============================] - 0s 3ms/step - loss: 463.4054 - mae: 456.6922 - val_loss: 380.4801 - val_mae: 373.8046\n",
            "Epoch 14/300\n",
            "115/115 [==============================] - 0s 3ms/step - loss: 461.8038 - mae: 455.1064 - val_loss: 377.9630 - val_mae: 371.1640\n",
            "Epoch 15/300\n",
            "115/115 [==============================] - 0s 3ms/step - loss: 460.4849 - mae: 453.6748 - val_loss: 376.3083 - val_mae: 369.4909\n",
            "Epoch 16/300\n",
            "115/115 [==============================] - 0s 3ms/step - loss: 459.2541 - mae: 452.4739 - val_loss: 375.6884 - val_mae: 368.8944\n",
            "Epoch 17/300\n",
            "115/115 [==============================] - 0s 3ms/step - loss: 458.3341 - mae: 451.4763 - val_loss: 373.7414 - val_mae: 366.8687\n",
            "Epoch 18/300\n",
            "115/115 [==============================] - 0s 3ms/step - loss: 457.6443 - mae: 450.7476 - val_loss: 373.4060 - val_mae: 366.5677\n",
            "Epoch 19/300\n",
            "115/115 [==============================] - 0s 3ms/step - loss: 456.8997 - mae: 450.0394 - val_loss: 372.2662 - val_mae: 365.3716\n",
            "Epoch 20/300\n",
            "115/115 [==============================] - 0s 3ms/step - loss: 456.4383 - mae: 449.5066 - val_loss: 371.1384 - val_mae: 364.2056\n",
            "Epoch 21/300\n",
            "115/115 [==============================] - 0s 3ms/step - loss: 455.8531 - mae: 448.9042 - val_loss: 370.9632 - val_mae: 364.0051\n",
            "Epoch 22/300\n",
            "115/115 [==============================] - 0s 3ms/step - loss: 455.5339 - mae: 448.5670 - val_loss: 369.7059 - val_mae: 362.6931\n",
            "Epoch 23/300\n",
            "115/115 [==============================] - 0s 2ms/step - loss: 455.1678 - mae: 448.1551 - val_loss: 368.7027 - val_mae: 361.6329\n",
            "Epoch 24/300\n",
            "115/115 [==============================] - 0s 3ms/step - loss: 454.4699 - mae: 447.4283 - val_loss: 368.7178 - val_mae: 361.6870\n",
            "Epoch 25/300\n",
            "115/115 [==============================] - 0s 3ms/step - loss: 454.1770 - mae: 447.1307 - val_loss: 368.5397 - val_mae: 361.4856\n",
            "Epoch 26/300\n",
            "115/115 [==============================] - 0s 3ms/step - loss: 453.7585 - mae: 446.6838 - val_loss: 368.0241 - val_mae: 360.9686\n",
            "Epoch 27/300\n",
            "115/115 [==============================] - 0s 3ms/step - loss: 453.4366 - mae: 446.3775 - val_loss: 367.9064 - val_mae: 360.8380\n",
            "Epoch 28/300\n",
            "115/115 [==============================] - 0s 3ms/step - loss: 452.9076 - mae: 445.8252 - val_loss: 366.6650 - val_mae: 359.5003\n",
            "Epoch 29/300\n",
            "115/115 [==============================] - 0s 3ms/step - loss: 452.6669 - mae: 445.5217 - val_loss: 367.0768 - val_mae: 359.9518\n",
            "Epoch 30/300\n",
            "115/115 [==============================] - 0s 3ms/step - loss: 452.3998 - mae: 445.2452 - val_loss: 367.0865 - val_mae: 359.9724\n",
            "Epoch 31/300\n",
            "115/115 [==============================] - 0s 3ms/step - loss: 452.1035 - mae: 444.9530 - val_loss: 366.1674 - val_mae: 359.0193\n",
            "Epoch 32/300\n",
            "115/115 [==============================] - 0s 3ms/step - loss: 451.7103 - mae: 444.4839 - val_loss: 366.9128 - val_mae: 359.7869\n",
            "Epoch 33/300\n",
            "115/115 [==============================] - 0s 3ms/step - loss: 451.4932 - mae: 444.3722 - val_loss: 365.8886 - val_mae: 358.7337\n",
            "Epoch 34/300\n",
            "115/115 [==============================] - 0s 3ms/step - loss: 451.2183 - mae: 444.0490 - val_loss: 365.5883 - val_mae: 358.4109\n",
            "Epoch 35/300\n",
            "115/115 [==============================] - 0s 3ms/step - loss: 450.8427 - mae: 443.6439 - val_loss: 364.9770 - val_mae: 357.7328\n",
            "Epoch 36/300\n",
            "115/115 [==============================] - 0s 3ms/step - loss: 450.5367 - mae: 443.3279 - val_loss: 364.0510 - val_mae: 356.7541\n",
            "Epoch 37/300\n",
            "115/115 [==============================] - 0s 3ms/step - loss: 450.4114 - mae: 443.1073 - val_loss: 364.3931 - val_mae: 357.1137\n",
            "Epoch 38/300\n",
            "115/115 [==============================] - 0s 3ms/step - loss: 450.2039 - mae: 442.9011 - val_loss: 364.3612 - val_mae: 357.1159\n",
            "Epoch 39/300\n",
            "115/115 [==============================] - 0s 3ms/step - loss: 449.8356 - mae: 442.5844 - val_loss: 363.6265 - val_mae: 356.3134\n",
            "Epoch 40/300\n",
            "115/115 [==============================] - 0s 3ms/step - loss: 449.6632 - mae: 442.3530 - val_loss: 363.5220 - val_mae: 356.1907\n",
            "Epoch 41/300\n",
            "115/115 [==============================] - 0s 3ms/step - loss: 449.4945 - mae: 442.1689 - val_loss: 363.2536 - val_mae: 355.9346\n",
            "Epoch 42/300\n",
            "115/115 [==============================] - 0s 3ms/step - loss: 449.2119 - mae: 441.9203 - val_loss: 362.7821 - val_mae: 355.3893\n",
            "Epoch 43/300\n",
            "115/115 [==============================] - 0s 3ms/step - loss: 449.0684 - mae: 441.6514 - val_loss: 362.5704 - val_mae: 355.1918\n",
            "Epoch 44/300\n",
            "115/115 [==============================] - 0s 3ms/step - loss: 448.8426 - mae: 441.4595 - val_loss: 362.5192 - val_mae: 355.1259\n",
            "Epoch 45/300\n",
            "115/115 [==============================] - 0s 3ms/step - loss: 448.6522 - mae: 441.2518 - val_loss: 362.1836 - val_mae: 354.7809\n",
            "Epoch 46/300\n",
            "115/115 [==============================] - 0s 3ms/step - loss: 448.4122 - mae: 440.9991 - val_loss: 361.9401 - val_mae: 354.4745\n",
            "Epoch 47/300\n",
            "115/115 [==============================] - 0s 3ms/step - loss: 448.3167 - mae: 440.8829 - val_loss: 361.5391 - val_mae: 354.0458\n",
            "Epoch 48/300\n",
            "115/115 [==============================] - 0s 3ms/step - loss: 448.1133 - mae: 440.6250 - val_loss: 362.0652 - val_mae: 354.5717\n",
            "Epoch 49/300\n",
            "115/115 [==============================] - 0s 2ms/step - loss: 448.2367 - mae: 440.7612 - val_loss: 361.5366 - val_mae: 354.0525\n",
            "Epoch 50/300\n",
            "115/115 [==============================] - 0s 2ms/step - loss: 447.8242 - mae: 440.3260 - val_loss: 361.5967 - val_mae: 354.1176\n",
            "Epoch 51/300\n",
            "115/115 [==============================] - 0s 3ms/step - loss: 447.6432 - mae: 440.1361 - val_loss: 362.3342 - val_mae: 354.9060\n",
            "Epoch 52/300\n",
            "115/115 [==============================] - 0s 3ms/step - loss: 447.4233 - mae: 439.9706 - val_loss: 361.4842 - val_mae: 353.9754\n",
            "Epoch 53/300\n",
            "115/115 [==============================] - 0s 3ms/step - loss: 447.3367 - mae: 439.8154 - val_loss: 361.3474 - val_mae: 353.8229\n",
            "Epoch 54/300\n",
            "115/115 [==============================] - 0s 3ms/step - loss: 447.2164 - mae: 439.6725 - val_loss: 360.7387 - val_mae: 353.1693\n",
            "Epoch 55/300\n",
            "115/115 [==============================] - 0s 3ms/step - loss: 447.0223 - mae: 439.4608 - val_loss: 360.7852 - val_mae: 353.2242\n",
            "Epoch 56/300\n",
            "115/115 [==============================] - 0s 3ms/step - loss: 446.9188 - mae: 439.3690 - val_loss: 360.7247 - val_mae: 353.1557\n",
            "Epoch 57/300\n",
            "115/115 [==============================] - 0s 3ms/step - loss: 446.7871 - mae: 439.1862 - val_loss: 360.1626 - val_mae: 352.5239\n",
            "Epoch 58/300\n",
            "115/115 [==============================] - 0s 2ms/step - loss: 446.5733 - mae: 438.9886 - val_loss: 360.8123 - val_mae: 353.2245\n",
            "Epoch 59/300\n",
            "115/115 [==============================] - 0s 3ms/step - loss: 446.4718 - mae: 438.8721 - val_loss: 360.5460 - val_mae: 352.9179\n",
            "Epoch 60/300\n",
            "115/115 [==============================] - 0s 3ms/step - loss: 446.3332 - mae: 438.7159 - val_loss: 360.4489 - val_mae: 352.7879\n",
            "Epoch 61/300\n",
            "115/115 [==============================] - 0s 3ms/step - loss: 446.4107 - mae: 438.7630 - val_loss: 359.8008 - val_mae: 352.0883\n",
            "Epoch 62/300\n",
            "115/115 [==============================] - 0s 3ms/step - loss: 446.1424 - mae: 438.4707 - val_loss: 360.3150 - val_mae: 352.6626\n",
            "Epoch 63/300\n",
            "115/115 [==============================] - 0s 2ms/step - loss: 446.0769 - mae: 438.3961 - val_loss: 360.3265 - val_mae: 352.6583\n",
            "Epoch 64/300\n",
            "115/115 [==============================] - 0s 3ms/step - loss: 445.9533 - mae: 438.2981 - val_loss: 360.2117 - val_mae: 352.5207\n",
            "Epoch 65/300\n",
            "115/115 [==============================] - 0s 2ms/step - loss: 445.9302 - mae: 438.2477 - val_loss: 360.0392 - val_mae: 352.3335\n",
            "Epoch 66/300\n",
            "115/115 [==============================] - 0s 2ms/step - loss: 445.9521 - mae: 438.1945 - val_loss: 360.0851 - val_mae: 352.3781\n",
            "Epoch 67/300\n",
            "115/115 [==============================] - 0s 2ms/step - loss: 445.7471 - mae: 438.0181 - val_loss: 360.1564 - val_mae: 352.4460\n",
            "Epoch 68/300\n",
            "115/115 [==============================] - 0s 3ms/step - loss: 445.6234 - mae: 437.9211 - val_loss: 359.7754 - val_mae: 352.0243\n",
            "Epoch 69/300\n",
            "115/115 [==============================] - 0s 3ms/step - loss: 445.4362 - mae: 437.6786 - val_loss: 359.9216 - val_mae: 352.1462\n",
            "Epoch 70/300\n",
            "115/115 [==============================] - 0s 3ms/step - loss: 445.5314 - mae: 437.7435 - val_loss: 359.9488 - val_mae: 352.1780\n",
            "Epoch 71/300\n",
            "115/115 [==============================] - 0s 3ms/step - loss: 445.3385 - mae: 437.5505 - val_loss: 359.6732 - val_mae: 351.8864\n",
            "Epoch 72/300\n",
            "115/115 [==============================] - 0s 3ms/step - loss: 445.2110 - mae: 437.4116 - val_loss: 359.7899 - val_mae: 351.9843\n",
            "Epoch 73/300\n",
            "115/115 [==============================] - 0s 3ms/step - loss: 445.0494 - mae: 437.2091 - val_loss: 359.9385 - val_mae: 352.1381\n",
            "Epoch 74/300\n",
            "115/115 [==============================] - 0s 3ms/step - loss: 445.2266 - mae: 437.4186 - val_loss: 359.6414 - val_mae: 351.8091\n",
            "Epoch 75/300\n",
            "115/115 [==============================] - 0s 3ms/step - loss: 445.1326 - mae: 437.3208 - val_loss: 360.0598 - val_mae: 352.2725\n",
            "Epoch 76/300\n",
            "115/115 [==============================] - 0s 3ms/step - loss: 445.0154 - mae: 437.2024 - val_loss: 359.5353 - val_mae: 351.6790\n",
            "Epoch 77/300\n",
            "115/115 [==============================] - 0s 3ms/step - loss: 444.9051 - mae: 437.0674 - val_loss: 359.5442 - val_mae: 351.6910\n",
            "Epoch 78/300\n",
            "115/115 [==============================] - 0s 3ms/step - loss: 444.8825 - mae: 436.9716 - val_loss: 359.6494 - val_mae: 351.7849\n",
            "Epoch 79/300\n",
            "115/115 [==============================] - 0s 2ms/step - loss: 444.8393 - mae: 436.9861 - val_loss: 359.6902 - val_mae: 351.8142\n",
            "Epoch 80/300\n",
            "115/115 [==============================] - 0s 3ms/step - loss: 444.8013 - mae: 436.8824 - val_loss: 359.7903 - val_mae: 351.9123\n",
            "Epoch 81/300\n",
            "115/115 [==============================] - 0s 2ms/step - loss: 444.5408 - mae: 436.6655 - val_loss: 359.8716 - val_mae: 351.9730\n",
            "Epoch 82/300\n",
            "115/115 [==============================] - 0s 2ms/step - loss: 444.5636 - mae: 436.6266 - val_loss: 359.2953 - val_mae: 351.3372\n",
            "Epoch 83/300\n",
            "115/115 [==============================] - 0s 3ms/step - loss: 444.5343 - mae: 436.6115 - val_loss: 359.0905 - val_mae: 351.1678\n",
            "Epoch 84/300\n",
            "115/115 [==============================] - 0s 2ms/step - loss: 444.3455 - mae: 436.4257 - val_loss: 359.4147 - val_mae: 351.4888\n",
            "Epoch 85/300\n",
            "115/115 [==============================] - 0s 3ms/step - loss: 444.3947 - mae: 436.4445 - val_loss: 359.0066 - val_mae: 351.0369\n",
            "Epoch 86/300\n",
            "115/115 [==============================] - 0s 3ms/step - loss: 444.2365 - mae: 436.2874 - val_loss: 358.6472 - val_mae: 350.6597\n",
            "Epoch 87/300\n",
            "115/115 [==============================] - 0s 2ms/step - loss: 444.3015 - mae: 436.2818 - val_loss: 359.4614 - val_mae: 351.4974\n",
            "Epoch 88/300\n",
            "115/115 [==============================] - 0s 3ms/step - loss: 444.1955 - mae: 436.1847 - val_loss: 359.6081 - val_mae: 351.6634\n",
            "Epoch 89/300\n",
            "115/115 [==============================] - 0s 3ms/step - loss: 444.0195 - mae: 436.0230 - val_loss: 358.9874 - val_mae: 351.0076\n",
            "Epoch 90/300\n",
            "115/115 [==============================] - 0s 3ms/step - loss: 444.1168 - mae: 436.1237 - val_loss: 359.1195 - val_mae: 351.1156\n",
            "Epoch 91/300\n",
            "115/115 [==============================] - 0s 3ms/step - loss: 443.9992 - mae: 435.9697 - val_loss: 358.9055 - val_mae: 350.9012\n",
            "Epoch 92/300\n",
            "115/115 [==============================] - 0s 3ms/step - loss: 444.0405 - mae: 436.0226 - val_loss: 358.9760 - val_mae: 350.9591\n",
            "Epoch 93/300\n",
            "115/115 [==============================] - 0s 3ms/step - loss: 443.9780 - mae: 435.9496 - val_loss: 358.7581 - val_mae: 350.7148\n",
            "Epoch 94/300\n",
            "115/115 [==============================] - 0s 2ms/step - loss: 443.8849 - mae: 435.8299 - val_loss: 358.7401 - val_mae: 350.7041\n",
            "Epoch 95/300\n",
            "115/115 [==============================] - 0s 3ms/step - loss: 443.8082 - mae: 435.7392 - val_loss: 358.8057 - val_mae: 350.7570\n",
            "Epoch 96/300\n",
            "115/115 [==============================] - 0s 3ms/step - loss: 443.8199 - mae: 435.7218 - val_loss: 359.1501 - val_mae: 351.0820\n",
            "Epoch 97/300\n",
            "115/115 [==============================] - 0s 3ms/step - loss: 443.6889 - mae: 435.5636 - val_loss: 358.9242 - val_mae: 350.8459\n",
            "Epoch 98/300\n",
            "115/115 [==============================] - 0s 3ms/step - loss: 443.7423 - mae: 435.6676 - val_loss: 358.4698 - val_mae: 350.3632\n",
            "Epoch 99/300\n",
            "115/115 [==============================] - 0s 3ms/step - loss: 443.5546 - mae: 435.4385 - val_loss: 358.8611 - val_mae: 350.7667\n",
            "Epoch 100/300\n",
            "115/115 [==============================] - 0s 3ms/step - loss: 443.5697 - mae: 435.4095 - val_loss: 359.2138 - val_mae: 351.1063\n",
            "Epoch 101/300\n",
            "115/115 [==============================] - 0s 3ms/step - loss: 443.5343 - mae: 435.4298 - val_loss: 358.6389 - val_mae: 350.5213\n",
            "Epoch 102/300\n",
            "115/115 [==============================] - 0s 3ms/step - loss: 443.4380 - mae: 435.2892 - val_loss: 358.4928 - val_mae: 350.3462\n",
            "Epoch 103/300\n",
            "115/115 [==============================] - 0s 3ms/step - loss: 443.4962 - mae: 435.3122 - val_loss: 358.0987 - val_mae: 349.9153\n",
            "Epoch 104/300\n",
            "115/115 [==============================] - 0s 3ms/step - loss: 443.5851 - mae: 435.4205 - val_loss: 358.2529 - val_mae: 350.0368\n",
            "Epoch 105/300\n",
            "115/115 [==============================] - 0s 3ms/step - loss: 443.3848 - mae: 435.1824 - val_loss: 358.1233 - val_mae: 349.9161\n",
            "Epoch 106/300\n",
            "115/115 [==============================] - 0s 3ms/step - loss: 443.4349 - mae: 435.2549 - val_loss: 358.2979 - val_mae: 350.1036\n",
            "Epoch 107/300\n",
            "115/115 [==============================] - 0s 3ms/step - loss: 443.2189 - mae: 434.9934 - val_loss: 357.8277 - val_mae: 349.5694\n",
            "Epoch 108/300\n",
            "115/115 [==============================] - 0s 3ms/step - loss: 443.1617 - mae: 434.9291 - val_loss: 357.8433 - val_mae: 349.6289\n",
            "Epoch 109/300\n",
            "115/115 [==============================] - 0s 3ms/step - loss: 443.1409 - mae: 434.8929 - val_loss: 357.6556 - val_mae: 349.4057\n",
            "Epoch 110/300\n",
            "115/115 [==============================] - 0s 3ms/step - loss: 443.1893 - mae: 434.9293 - val_loss: 357.7248 - val_mae: 349.4740\n",
            "Epoch 111/300\n",
            "115/115 [==============================] - 0s 3ms/step - loss: 443.1353 - mae: 434.8740 - val_loss: 357.8594 - val_mae: 349.6138\n",
            "Epoch 112/300\n",
            "115/115 [==============================] - 0s 3ms/step - loss: 443.0827 - mae: 434.8424 - val_loss: 357.2095 - val_mae: 348.8964\n",
            "Epoch 113/300\n",
            "115/115 [==============================] - 0s 2ms/step - loss: 443.0736 - mae: 434.7899 - val_loss: 357.4212 - val_mae: 349.0778\n",
            "Epoch 114/300\n",
            "115/115 [==============================] - 0s 3ms/step - loss: 443.0817 - mae: 434.7412 - val_loss: 357.6399 - val_mae: 349.3520\n",
            "Epoch 115/300\n",
            "115/115 [==============================] - 0s 3ms/step - loss: 442.9223 - mae: 434.6137 - val_loss: 357.3705 - val_mae: 349.0487\n",
            "Epoch 116/300\n",
            "115/115 [==============================] - 0s 3ms/step - loss: 443.0025 - mae: 434.6673 - val_loss: 357.1730 - val_mae: 348.8206\n",
            "Epoch 117/300\n",
            "115/115 [==============================] - 0s 3ms/step - loss: 442.8138 - mae: 434.4695 - val_loss: 357.3728 - val_mae: 349.0225\n",
            "Epoch 118/300\n",
            "115/115 [==============================] - 0s 3ms/step - loss: 442.8824 - mae: 434.5418 - val_loss: 357.3228 - val_mae: 348.9708\n",
            "Epoch 119/300\n",
            "115/115 [==============================] - 0s 3ms/step - loss: 442.8204 - mae: 434.4619 - val_loss: 357.3676 - val_mae: 348.9767\n",
            "Epoch 120/300\n",
            "115/115 [==============================] - 0s 2ms/step - loss: 442.8013 - mae: 434.4524 - val_loss: 357.5467 - val_mae: 349.1634\n",
            "Epoch 121/300\n",
            "115/115 [==============================] - 0s 3ms/step - loss: 442.6469 - mae: 434.2666 - val_loss: 356.8887 - val_mae: 348.4650\n",
            "Epoch 122/300\n",
            "115/115 [==============================] - 0s 3ms/step - loss: 442.7418 - mae: 434.3304 - val_loss: 356.9282 - val_mae: 348.5100\n",
            "Epoch 123/300\n",
            "115/115 [==============================] - 0s 3ms/step - loss: 442.6498 - mae: 434.2212 - val_loss: 356.6774 - val_mae: 348.2298\n",
            "Epoch 124/300\n",
            "115/115 [==============================] - 0s 3ms/step - loss: 442.6532 - mae: 434.2204 - val_loss: 357.3827 - val_mae: 348.9517\n",
            "Epoch 125/300\n",
            "115/115 [==============================] - 0s 3ms/step - loss: 442.4039 - mae: 433.9899 - val_loss: 356.8161 - val_mae: 348.3667\n",
            "Epoch 126/300\n",
            "115/115 [==============================] - 0s 3ms/step - loss: 442.3899 - mae: 433.9251 - val_loss: 357.1717 - val_mae: 348.7135\n",
            "Epoch 127/300\n",
            "115/115 [==============================] - 0s 3ms/step - loss: 442.5390 - mae: 434.0952 - val_loss: 356.3575 - val_mae: 347.8510\n",
            "Epoch 128/300\n",
            "115/115 [==============================] - 0s 2ms/step - loss: 442.3742 - mae: 433.8959 - val_loss: 357.0867 - val_mae: 348.6248\n",
            "Epoch 129/300\n",
            "115/115 [==============================] - 0s 3ms/step - loss: 442.4417 - mae: 433.9616 - val_loss: 356.7211 - val_mae: 348.1659\n",
            "Epoch 130/300\n",
            "115/115 [==============================] - 0s 3ms/step - loss: 442.3210 - mae: 433.7924 - val_loss: 356.3372 - val_mae: 347.7939\n",
            "Epoch 131/300\n",
            "115/115 [==============================] - 0s 3ms/step - loss: 442.2369 - mae: 433.6497 - val_loss: 356.8241 - val_mae: 348.2964\n",
            "Epoch 132/300\n",
            "115/115 [==============================] - 0s 3ms/step - loss: 442.1939 - mae: 433.6553 - val_loss: 356.5913 - val_mae: 348.0279\n",
            "Epoch 133/300\n",
            "115/115 [==============================] - 0s 3ms/step - loss: 442.1438 - mae: 433.6241 - val_loss: 356.3726 - val_mae: 347.8017\n",
            "Epoch 134/300\n",
            "115/115 [==============================] - 0s 3ms/step - loss: 442.0796 - mae: 433.4900 - val_loss: 356.5264 - val_mae: 347.9296\n",
            "Epoch 135/300\n",
            "115/115 [==============================] - 0s 3ms/step - loss: 441.9374 - mae: 433.3312 - val_loss: 356.0584 - val_mae: 347.4500\n",
            "Epoch 136/300\n",
            "115/115 [==============================] - 0s 3ms/step - loss: 441.9446 - mae: 433.3274 - val_loss: 356.4084 - val_mae: 347.8016\n",
            "Epoch 137/300\n",
            "115/115 [==============================] - 0s 3ms/step - loss: 441.8619 - mae: 433.2250 - val_loss: 355.8519 - val_mae: 347.2003\n",
            "Epoch 138/300\n",
            "115/115 [==============================] - 0s 3ms/step - loss: 441.7805 - mae: 433.1464 - val_loss: 355.9277 - val_mae: 347.2699\n",
            "Epoch 139/300\n",
            "115/115 [==============================] - 0s 3ms/step - loss: 441.7224 - mae: 433.0534 - val_loss: 356.1274 - val_mae: 347.4359\n",
            "Epoch 140/300\n",
            "115/115 [==============================] - 0s 3ms/step - loss: 441.6533 - mae: 432.9596 - val_loss: 355.8730 - val_mae: 347.1602\n",
            "Epoch 141/300\n",
            "115/115 [==============================] - 0s 3ms/step - loss: 441.5788 - mae: 432.8495 - val_loss: 356.3385 - val_mae: 347.6348\n",
            "Epoch 142/300\n",
            "115/115 [==============================] - 0s 3ms/step - loss: 441.5913 - mae: 432.8669 - val_loss: 356.3765 - val_mae: 347.6572\n",
            "Epoch 143/300\n",
            "115/115 [==============================] - 0s 3ms/step - loss: 441.5940 - mae: 432.8596 - val_loss: 355.8280 - val_mae: 347.0572\n",
            "Epoch 144/300\n",
            "115/115 [==============================] - 0s 2ms/step - loss: 441.6190 - mae: 432.8722 - val_loss: 355.9247 - val_mae: 347.1614\n",
            "Epoch 145/300\n",
            "115/115 [==============================] - 0s 3ms/step - loss: 441.3924 - mae: 432.6167 - val_loss: 355.8026 - val_mae: 347.0000\n",
            "Epoch 146/300\n",
            "115/115 [==============================] - 0s 3ms/step - loss: 441.6017 - mae: 432.7766 - val_loss: 355.8801 - val_mae: 347.0539\n",
            "Epoch 147/300\n",
            "115/115 [==============================] - 0s 3ms/step - loss: 441.4121 - mae: 432.6200 - val_loss: 355.9727 - val_mae: 347.1711\n",
            "Epoch 148/300\n",
            "115/115 [==============================] - 0s 3ms/step - loss: 441.3659 - mae: 432.5407 - val_loss: 356.0937 - val_mae: 347.2803\n",
            "Epoch 149/300\n",
            "115/115 [==============================] - 0s 3ms/step - loss: 441.3381 - mae: 432.5138 - val_loss: 355.8154 - val_mae: 346.9555\n",
            "Epoch 150/300\n",
            "115/115 [==============================] - 0s 3ms/step - loss: 441.3895 - mae: 432.5112 - val_loss: 356.3707 - val_mae: 347.5475\n",
            "Epoch 151/300\n",
            "115/115 [==============================] - 0s 3ms/step - loss: 441.3391 - mae: 432.5042 - val_loss: 355.6565 - val_mae: 346.7552\n",
            "Epoch 152/300\n",
            "115/115 [==============================] - 0s 3ms/step - loss: 441.3003 - mae: 432.3844 - val_loss: 355.8759 - val_mae: 346.9926\n",
            "Epoch 153/300\n",
            "115/115 [==============================] - 0s 3ms/step - loss: 441.1209 - mae: 432.2390 - val_loss: 355.5405 - val_mae: 346.5941\n",
            "Epoch 154/300\n",
            "115/115 [==============================] - 0s 3ms/step - loss: 441.0715 - mae: 432.1386 - val_loss: 355.5149 - val_mae: 346.5411\n",
            "Epoch 155/300\n",
            "115/115 [==============================] - 0s 3ms/step - loss: 441.1923 - mae: 432.2254 - val_loss: 355.7109 - val_mae: 346.7727\n",
            "Epoch 156/300\n",
            "115/115 [==============================] - 0s 3ms/step - loss: 441.0208 - mae: 432.0900 - val_loss: 355.5912 - val_mae: 346.6214\n",
            "Epoch 157/300\n",
            "115/115 [==============================] - 0s 3ms/step - loss: 441.0192 - mae: 432.0574 - val_loss: 355.1996 - val_mae: 346.2057\n",
            "Epoch 158/300\n",
            "115/115 [==============================] - 0s 3ms/step - loss: 441.0889 - mae: 432.0774 - val_loss: 355.5497 - val_mae: 346.5629\n",
            "Epoch 159/300\n",
            "115/115 [==============================] - 0s 2ms/step - loss: 440.9676 - mae: 431.9840 - val_loss: 355.3788 - val_mae: 346.3766\n",
            "Epoch 160/300\n",
            "115/115 [==============================] - 0s 3ms/step - loss: 440.8058 - mae: 431.8166 - val_loss: 355.3506 - val_mae: 346.3098\n",
            "Epoch 161/300\n",
            "115/115 [==============================] - 0s 3ms/step - loss: 440.6608 - mae: 431.5907 - val_loss: 356.8864 - val_mae: 347.8724\n",
            "Epoch 162/300\n",
            "115/115 [==============================] - 0s 3ms/step - loss: 440.7447 - mae: 431.7100 - val_loss: 355.6502 - val_mae: 346.6139\n",
            "Epoch 163/300\n",
            "115/115 [==============================] - 0s 3ms/step - loss: 440.7834 - mae: 431.7365 - val_loss: 355.6660 - val_mae: 346.5869\n",
            "Epoch 164/300\n",
            "115/115 [==============================] - 0s 3ms/step - loss: 440.6469 - mae: 431.5528 - val_loss: 355.5321 - val_mae: 346.4485\n",
            "Epoch 165/300\n",
            "115/115 [==============================] - 0s 3ms/step - loss: 440.7539 - mae: 431.6471 - val_loss: 355.6540 - val_mae: 346.5648\n",
            "Epoch 166/300\n",
            "115/115 [==============================] - 0s 3ms/step - loss: 440.6324 - mae: 431.5259 - val_loss: 355.3521 - val_mae: 346.2123\n",
            "Epoch 167/300\n",
            "115/115 [==============================] - 0s 3ms/step - loss: 440.5890 - mae: 431.4505 - val_loss: 355.2917 - val_mae: 346.1276\n",
            "Epoch 168/300\n",
            "115/115 [==============================] - 0s 3ms/step - loss: 440.8658 - mae: 431.7048 - val_loss: 355.3453 - val_mae: 346.1770\n",
            "Epoch 169/300\n",
            "115/115 [==============================] - 0s 3ms/step - loss: 440.5021 - mae: 431.2955 - val_loss: 356.0211 - val_mae: 346.8541\n",
            "Epoch 170/300\n",
            "115/115 [==============================] - 0s 3ms/step - loss: 440.6193 - mae: 431.4466 - val_loss: 355.3363 - val_mae: 346.1505\n",
            "Epoch 171/300\n",
            "115/115 [==============================] - 0s 3ms/step - loss: 440.5526 - mae: 431.3686 - val_loss: 355.4455 - val_mae: 346.2469\n",
            "Epoch 172/300\n",
            "115/115 [==============================] - 0s 3ms/step - loss: 440.4546 - mae: 431.2492 - val_loss: 354.9662 - val_mae: 345.7090\n",
            "Epoch 173/300\n",
            "115/115 [==============================] - 0s 3ms/step - loss: 440.3201 - mae: 431.0977 - val_loss: 355.1618 - val_mae: 345.8683\n",
            "Epoch 174/300\n",
            "115/115 [==============================] - 0s 3ms/step - loss: 440.5096 - mae: 431.2079 - val_loss: 355.2284 - val_mae: 345.9834\n",
            "Epoch 175/300\n",
            "115/115 [==============================] - 0s 3ms/step - loss: 440.2467 - mae: 431.0157 - val_loss: 355.0874 - val_mae: 345.7908\n",
            "Epoch 176/300\n",
            "115/115 [==============================] - 0s 3ms/step - loss: 440.1767 - mae: 430.8794 - val_loss: 355.0739 - val_mae: 345.7858\n",
            "Epoch 177/300\n",
            "115/115 [==============================] - 0s 3ms/step - loss: 440.1595 - mae: 430.8399 - val_loss: 355.0807 - val_mae: 345.7671\n",
            "Epoch 178/300\n",
            "115/115 [==============================] - 0s 3ms/step - loss: 440.2055 - mae: 430.8853 - val_loss: 355.2307 - val_mae: 345.9093\n",
            "Epoch 179/300\n",
            "115/115 [==============================] - 0s 3ms/step - loss: 440.1223 - mae: 430.7825 - val_loss: 355.6691 - val_mae: 346.3508\n",
            "Epoch 180/300\n",
            "115/115 [==============================] - 0s 3ms/step - loss: 440.2358 - mae: 430.9028 - val_loss: 354.8445 - val_mae: 345.4679\n",
            "Epoch 181/300\n",
            "115/115 [==============================] - 0s 3ms/step - loss: 440.1492 - mae: 430.7712 - val_loss: 354.8103 - val_mae: 345.4217\n",
            "Epoch 182/300\n",
            "115/115 [==============================] - 0s 2ms/step - loss: 439.9952 - mae: 430.5891 - val_loss: 355.1078 - val_mae: 345.7155\n",
            "Epoch 183/300\n",
            "115/115 [==============================] - 0s 3ms/step - loss: 439.9824 - mae: 430.5620 - val_loss: 355.2852 - val_mae: 345.8824\n",
            "Epoch 184/300\n",
            "115/115 [==============================] - 0s 3ms/step - loss: 440.1363 - mae: 430.7269 - val_loss: 354.8927 - val_mae: 345.4673\n",
            "Epoch 185/300\n",
            "115/115 [==============================] - 0s 3ms/step - loss: 439.9933 - mae: 430.5493 - val_loss: 355.2463 - val_mae: 345.8053\n",
            "Epoch 186/300\n",
            "115/115 [==============================] - 0s 3ms/step - loss: 439.9239 - mae: 430.4751 - val_loss: 355.5019 - val_mae: 346.0623\n",
            "Epoch 187/300\n",
            "115/115 [==============================] - 0s 3ms/step - loss: 439.9019 - mae: 430.4388 - val_loss: 355.7341 - val_mae: 346.2927\n",
            "Epoch 188/300\n",
            "115/115 [==============================] - 0s 3ms/step - loss: 439.8023 - mae: 430.3043 - val_loss: 355.1736 - val_mae: 345.6877\n",
            "Epoch 189/300\n",
            "115/115 [==============================] - 0s 2ms/step - loss: 439.7761 - mae: 430.2799 - val_loss: 355.2106 - val_mae: 345.7229\n",
            "Epoch 190/300\n",
            "115/115 [==============================] - 0s 3ms/step - loss: 439.9123 - mae: 430.3942 - val_loss: 355.2542 - val_mae: 345.7588\n",
            "Epoch 191/300\n",
            "115/115 [==============================] - 0s 3ms/step - loss: 439.8384 - mae: 430.3083 - val_loss: 354.8836 - val_mae: 345.3415\n",
            "Epoch 192/300\n",
            "115/115 [==============================] - 0s 3ms/step - loss: 439.7990 - mae: 430.2638 - val_loss: 354.9321 - val_mae: 345.3652\n",
            "Epoch 193/300\n",
            "115/115 [==============================] - 0s 3ms/step - loss: 439.6870 - mae: 430.1214 - val_loss: 354.7067 - val_mae: 345.1051\n",
            "Epoch 194/300\n",
            "115/115 [==============================] - 0s 3ms/step - loss: 439.7922 - mae: 430.2253 - val_loss: 354.6154 - val_mae: 344.9944\n",
            "Epoch 195/300\n",
            "115/115 [==============================] - 0s 3ms/step - loss: 439.7406 - mae: 430.1038 - val_loss: 354.8918 - val_mae: 345.2997\n",
            "Epoch 196/300\n",
            "115/115 [==============================] - 0s 3ms/step - loss: 439.6843 - mae: 430.1046 - val_loss: 354.9232 - val_mae: 345.2766\n",
            "Epoch 197/300\n",
            "115/115 [==============================] - 0s 3ms/step - loss: 439.7018 - mae: 430.0536 - val_loss: 355.2567 - val_mae: 345.6321\n",
            "Epoch 198/300\n",
            "115/115 [==============================] - 0s 2ms/step - loss: 439.5425 - mae: 429.8856 - val_loss: 354.9855 - val_mae: 345.3439\n",
            "Epoch 199/300\n",
            "115/115 [==============================] - 0s 3ms/step - loss: 439.5939 - mae: 429.9471 - val_loss: 354.6786 - val_mae: 345.0040\n",
            "Epoch 200/300\n",
            "115/115 [==============================] - 0s 3ms/step - loss: 439.4469 - mae: 429.7740 - val_loss: 354.8334 - val_mae: 345.1387\n",
            "Epoch 201/300\n",
            "115/115 [==============================] - 0s 3ms/step - loss: 439.4465 - mae: 429.7375 - val_loss: 354.7322 - val_mae: 345.0373\n",
            "Epoch 202/300\n",
            "115/115 [==============================] - 0s 3ms/step - loss: 439.5030 - mae: 429.7935 - val_loss: 354.5807 - val_mae: 344.8561\n",
            "Epoch 203/300\n",
            "115/115 [==============================] - 0s 3ms/step - loss: 439.4664 - mae: 429.7318 - val_loss: 354.4559 - val_mae: 344.7176\n",
            "Epoch 204/300\n",
            "115/115 [==============================] - 0s 3ms/step - loss: 439.4534 - mae: 429.7594 - val_loss: 354.6941 - val_mae: 344.9567\n",
            "Epoch 205/300\n",
            "115/115 [==============================] - 0s 3ms/step - loss: 439.4210 - mae: 429.6417 - val_loss: 355.2971 - val_mae: 345.5383\n",
            "Epoch 206/300\n",
            "115/115 [==============================] - 0s 3ms/step - loss: 439.4099 - mae: 429.6221 - val_loss: 354.8095 - val_mae: 345.0448\n",
            "Epoch 207/300\n",
            "115/115 [==============================] - 0s 3ms/step - loss: 439.3156 - mae: 429.5569 - val_loss: 354.3944 - val_mae: 344.6046\n",
            "Epoch 208/300\n",
            "115/115 [==============================] - 0s 3ms/step - loss: 439.2394 - mae: 429.4466 - val_loss: 354.3523 - val_mae: 344.5423\n",
            "Epoch 209/300\n",
            "115/115 [==============================] - 0s 3ms/step - loss: 439.4377 - mae: 429.6215 - val_loss: 354.8651 - val_mae: 345.0758\n",
            "Epoch 210/300\n",
            "115/115 [==============================] - 0s 3ms/step - loss: 439.2148 - mae: 429.4136 - val_loss: 354.4727 - val_mae: 344.6302\n",
            "Epoch 211/300\n",
            "115/115 [==============================] - 0s 3ms/step - loss: 439.2390 - mae: 429.4039 - val_loss: 354.4551 - val_mae: 344.5788\n",
            "Epoch 212/300\n",
            "115/115 [==============================] - 0s 4ms/step - loss: 439.2601 - mae: 429.3818 - val_loss: 354.9612 - val_mae: 345.0910\n",
            "Epoch 213/300\n",
            "115/115 [==============================] - 0s 3ms/step - loss: 439.2111 - mae: 429.3306 - val_loss: 354.4449 - val_mae: 344.5490\n",
            "Epoch 214/300\n",
            "115/115 [==============================] - 0s 3ms/step - loss: 439.3661 - mae: 429.5114 - val_loss: 354.5894 - val_mae: 344.6966\n",
            "Epoch 215/300\n",
            "115/115 [==============================] - 0s 3ms/step - loss: 439.2042 - mae: 429.3000 - val_loss: 354.5138 - val_mae: 344.6122\n",
            "Epoch 216/300\n",
            "115/115 [==============================] - 0s 3ms/step - loss: 439.1020 - mae: 429.2021 - val_loss: 354.4726 - val_mae: 344.5531\n",
            "Epoch 217/300\n",
            "115/115 [==============================] - 0s 3ms/step - loss: 439.1112 - mae: 429.1829 - val_loss: 354.5110 - val_mae: 344.5998\n",
            "Epoch 218/300\n",
            "115/115 [==============================] - 0s 3ms/step - loss: 439.0136 - mae: 429.0972 - val_loss: 354.5854 - val_mae: 344.6445\n",
            "Epoch 219/300\n",
            "115/115 [==============================] - 0s 3ms/step - loss: 439.1786 - mae: 429.2110 - val_loss: 354.7406 - val_mae: 344.7953\n",
            "Epoch 220/300\n",
            "115/115 [==============================] - 0s 3ms/step - loss: 438.9193 - mae: 428.9510 - val_loss: 354.8883 - val_mae: 344.9454\n",
            "Epoch 221/300\n",
            "115/115 [==============================] - 0s 3ms/step - loss: 439.0518 - mae: 429.0888 - val_loss: 355.1129 - val_mae: 345.1613\n",
            "Epoch 222/300\n",
            "115/115 [==============================] - 0s 3ms/step - loss: 439.0976 - mae: 429.1155 - val_loss: 354.8436 - val_mae: 344.8546\n",
            "Epoch 223/300\n",
            "115/115 [==============================] - 0s 3ms/step - loss: 438.9690 - mae: 428.9836 - val_loss: 354.2302 - val_mae: 344.1952\n",
            "Epoch 224/300\n",
            "115/115 [==============================] - 0s 3ms/step - loss: 439.1463 - mae: 429.1354 - val_loss: 354.2627 - val_mae: 344.2168\n",
            "Epoch 225/300\n",
            "115/115 [==============================] - 0s 3ms/step - loss: 438.9121 - mae: 428.8921 - val_loss: 354.1638 - val_mae: 344.1147\n",
            "Epoch 226/300\n",
            "115/115 [==============================] - 0s 3ms/step - loss: 438.8220 - mae: 428.7888 - val_loss: 354.5966 - val_mae: 344.5374\n",
            "Epoch 227/300\n",
            "115/115 [==============================] - 0s 3ms/step - loss: 438.9058 - mae: 428.8445 - val_loss: 354.8830 - val_mae: 344.8474\n",
            "Epoch 228/300\n",
            "115/115 [==============================] - 0s 3ms/step - loss: 438.8616 - mae: 428.8028 - val_loss: 354.9883 - val_mae: 344.9253\n",
            "Epoch 229/300\n",
            "115/115 [==============================] - 0s 3ms/step - loss: 439.0489 - mae: 428.9723 - val_loss: 354.4340 - val_mae: 344.3559\n",
            "Epoch 230/300\n",
            "115/115 [==============================] - 0s 3ms/step - loss: 438.7023 - mae: 428.6202 - val_loss: 354.3350 - val_mae: 344.2078\n",
            "Epoch 231/300\n",
            "115/115 [==============================] - 0s 3ms/step - loss: 438.8955 - mae: 428.7884 - val_loss: 354.6534 - val_mae: 344.5365\n",
            "Epoch 232/300\n",
            "115/115 [==============================] - 0s 3ms/step - loss: 438.8549 - mae: 428.7326 - val_loss: 354.3418 - val_mae: 344.2065\n",
            "Epoch 233/300\n",
            "115/115 [==============================] - 0s 3ms/step - loss: 438.8656 - mae: 428.7462 - val_loss: 354.4588 - val_mae: 344.3227\n",
            "Epoch 234/300\n",
            "115/115 [==============================] - 0s 3ms/step - loss: 438.7094 - mae: 428.5635 - val_loss: 354.0666 - val_mae: 343.9019\n",
            "Epoch 235/300\n",
            "115/115 [==============================] - 0s 3ms/step - loss: 438.6299 - mae: 428.4644 - val_loss: 354.2670 - val_mae: 344.1046\n",
            "Epoch 236/300\n",
            "115/115 [==============================] - 0s 3ms/step - loss: 438.6986 - mae: 428.5078 - val_loss: 354.9404 - val_mae: 344.8087\n",
            "Epoch 237/300\n",
            "115/115 [==============================] - 0s 3ms/step - loss: 438.7107 - mae: 428.5378 - val_loss: 354.3312 - val_mae: 344.1448\n",
            "Epoch 238/300\n",
            "115/115 [==============================] - 0s 3ms/step - loss: 438.8755 - mae: 428.6913 - val_loss: 354.2857 - val_mae: 344.1101\n",
            "Epoch 239/300\n",
            "115/115 [==============================] - 0s 3ms/step - loss: 438.6016 - mae: 428.4108 - val_loss: 353.8786 - val_mae: 343.6551\n",
            "Epoch 240/300\n",
            "115/115 [==============================] - 0s 3ms/step - loss: 438.6673 - mae: 428.4575 - val_loss: 354.4325 - val_mae: 344.1907\n",
            "Epoch 241/300\n",
            "115/115 [==============================] - 0s 3ms/step - loss: 438.5599 - mae: 428.3073 - val_loss: 353.8590 - val_mae: 343.6290\n",
            "Epoch 242/300\n",
            "115/115 [==============================] - 0s 3ms/step - loss: 438.4799 - mae: 428.2450 - val_loss: 354.0592 - val_mae: 343.8226\n",
            "Epoch 243/300\n",
            "115/115 [==============================] - 0s 3ms/step - loss: 438.5751 - mae: 428.3480 - val_loss: 354.1667 - val_mae: 343.9207\n",
            "Epoch 244/300\n",
            "115/115 [==============================] - 0s 3ms/step - loss: 438.7344 - mae: 428.4667 - val_loss: 354.1418 - val_mae: 343.8914\n",
            "Epoch 245/300\n",
            "115/115 [==============================] - 0s 3ms/step - loss: 438.3746 - mae: 428.1070 - val_loss: 354.0921 - val_mae: 343.8005\n",
            "Epoch 246/300\n",
            "115/115 [==============================] - 0s 3ms/step - loss: 438.6735 - mae: 428.3785 - val_loss: 354.0933 - val_mae: 343.8140\n",
            "Epoch 247/300\n",
            "115/115 [==============================] - 0s 3ms/step - loss: 438.3681 - mae: 428.0698 - val_loss: 354.2240 - val_mae: 343.9235\n",
            "Epoch 248/300\n",
            "115/115 [==============================] - 0s 3ms/step - loss: 438.5008 - mae: 428.1914 - val_loss: 354.2389 - val_mae: 343.9244\n",
            "Epoch 249/300\n",
            "115/115 [==============================] - 0s 3ms/step - loss: 438.4786 - mae: 428.1624 - val_loss: 353.8180 - val_mae: 343.4759\n",
            "Epoch 250/300\n",
            "115/115 [==============================] - 0s 3ms/step - loss: 438.4690 - mae: 428.1602 - val_loss: 354.2603 - val_mae: 343.9037\n",
            "Epoch 251/300\n",
            "115/115 [==============================] - 0s 3ms/step - loss: 438.4645 - mae: 428.0985 - val_loss: 353.9923 - val_mae: 343.6572\n",
            "Epoch 252/300\n",
            "115/115 [==============================] - 0s 3ms/step - loss: 438.3487 - mae: 428.0269 - val_loss: 353.5568 - val_mae: 343.1660\n",
            "Epoch 253/300\n",
            "115/115 [==============================] - 0s 3ms/step - loss: 438.4997 - mae: 428.1365 - val_loss: 353.9244 - val_mae: 343.5489\n",
            "Epoch 254/300\n",
            "115/115 [==============================] - 0s 3ms/step - loss: 438.3137 - mae: 427.9427 - val_loss: 354.2376 - val_mae: 343.8907\n",
            "Epoch 255/300\n",
            "115/115 [==============================] - 0s 3ms/step - loss: 438.4688 - mae: 428.1145 - val_loss: 354.0020 - val_mae: 343.6356\n",
            "Epoch 256/300\n",
            "115/115 [==============================] - 0s 3ms/step - loss: 438.4432 - mae: 428.0711 - val_loss: 353.8224 - val_mae: 343.4242\n",
            "Epoch 257/300\n",
            "115/115 [==============================] - 0s 3ms/step - loss: 438.3932 - mae: 427.9962 - val_loss: 354.3285 - val_mae: 343.9504\n",
            "Epoch 258/300\n",
            "115/115 [==============================] - 0s 3ms/step - loss: 438.4596 - mae: 428.0931 - val_loss: 354.6306 - val_mae: 344.2459\n",
            "Epoch 259/300\n",
            "115/115 [==============================] - 0s 3ms/step - loss: 438.3671 - mae: 427.9652 - val_loss: 354.1884 - val_mae: 343.7812\n",
            "Epoch 260/300\n",
            "115/115 [==============================] - 0s 3ms/step - loss: 438.2751 - mae: 427.8638 - val_loss: 353.9001 - val_mae: 343.4681\n",
            "Epoch 261/300\n",
            "115/115 [==============================] - 0s 3ms/step - loss: 438.3062 - mae: 427.8789 - val_loss: 353.9978 - val_mae: 343.5407\n",
            "Epoch 262/300\n",
            "115/115 [==============================] - 0s 3ms/step - loss: 438.2986 - mae: 427.8753 - val_loss: 353.6071 - val_mae: 343.1388\n",
            "Epoch 263/300\n",
            "115/115 [==============================] - 0s 3ms/step - loss: 438.3077 - mae: 427.8822 - val_loss: 353.9912 - val_mae: 343.5029\n",
            "Epoch 264/300\n",
            "115/115 [==============================] - 0s 3ms/step - loss: 438.3378 - mae: 427.8540 - val_loss: 354.3454 - val_mae: 343.8872\n",
            "Epoch 265/300\n",
            "115/115 [==============================] - 0s 3ms/step - loss: 438.1653 - mae: 427.6947 - val_loss: 354.4645 - val_mae: 344.0189\n",
            "Epoch 266/300\n",
            "115/115 [==============================] - 0s 3ms/step - loss: 438.2196 - mae: 427.7672 - val_loss: 353.8342 - val_mae: 343.3430\n",
            "Epoch 267/300\n",
            "115/115 [==============================] - 0s 3ms/step - loss: 438.2294 - mae: 427.7507 - val_loss: 353.8724 - val_mae: 343.4151\n",
            "Epoch 268/300\n",
            "115/115 [==============================] - 0s 3ms/step - loss: 438.2713 - mae: 427.8079 - val_loss: 353.7000 - val_mae: 343.1761\n",
            "Epoch 269/300\n",
            "115/115 [==============================] - 0s 3ms/step - loss: 438.1483 - mae: 427.6348 - val_loss: 354.1642 - val_mae: 343.6772\n",
            "Epoch 270/300\n",
            "115/115 [==============================] - 0s 3ms/step - loss: 438.1531 - mae: 427.6460 - val_loss: 354.2760 - val_mae: 343.7755\n",
            "Epoch 271/300\n",
            "115/115 [==============================] - 0s 3ms/step - loss: 438.2124 - mae: 427.6845 - val_loss: 354.9608 - val_mae: 344.4863\n",
            "Epoch 272/300\n",
            "115/115 [==============================] - 0s 3ms/step - loss: 438.1476 - mae: 427.6546 - val_loss: 354.5426 - val_mae: 344.0585\n",
            "Epoch 273/300\n",
            "115/115 [==============================] - 0s 3ms/step - loss: 438.0742 - mae: 427.5949 - val_loss: 354.1903 - val_mae: 343.6732\n",
            "Epoch 274/300\n",
            "115/115 [==============================] - 0s 3ms/step - loss: 438.3353 - mae: 427.8038 - val_loss: 354.3437 - val_mae: 343.8271\n",
            "Epoch 275/300\n",
            "115/115 [==============================] - 0s 3ms/step - loss: 438.1953 - mae: 427.6660 - val_loss: 354.1386 - val_mae: 343.5918\n",
            "Epoch 276/300\n",
            "115/115 [==============================] - 0s 3ms/step - loss: 438.0942 - mae: 427.5524 - val_loss: 354.1233 - val_mae: 343.5847\n",
            "Epoch 277/300\n",
            "115/115 [==============================] - 0s 3ms/step - loss: 438.0579 - mae: 427.5180 - val_loss: 354.6745 - val_mae: 344.1057\n",
            "Epoch 278/300\n",
            "115/115 [==============================] - 0s 3ms/step - loss: 438.1069 - mae: 427.5467 - val_loss: 354.1636 - val_mae: 343.5933\n",
            "Epoch 279/300\n",
            "115/115 [==============================] - 0s 3ms/step - loss: 438.1717 - mae: 427.6140 - val_loss: 354.5366 - val_mae: 343.9730\n",
            "Epoch 280/300\n",
            "115/115 [==============================] - 0s 3ms/step - loss: 438.0448 - mae: 427.4758 - val_loss: 353.9873 - val_mae: 343.3916\n",
            "Epoch 281/300\n",
            "115/115 [==============================] - 0s 3ms/step - loss: 438.0021 - mae: 427.4115 - val_loss: 354.0157 - val_mae: 343.4455\n",
            "Epoch 282/300\n",
            "115/115 [==============================] - 0s 3ms/step - loss: 438.1151 - mae: 427.5154 - val_loss: 353.5340 - val_mae: 342.9167\n",
            "Epoch 283/300\n",
            "115/115 [==============================] - 0s 3ms/step - loss: 438.1057 - mae: 427.5291 - val_loss: 354.5332 - val_mae: 343.9648\n",
            "Epoch 284/300\n",
            "115/115 [==============================] - 0s 3ms/step - loss: 438.0828 - mae: 427.4901 - val_loss: 353.6966 - val_mae: 343.0876\n",
            "Epoch 285/300\n",
            "115/115 [==============================] - 0s 3ms/step - loss: 437.9758 - mae: 427.3727 - val_loss: 354.2338 - val_mae: 343.6430\n",
            "Epoch 286/300\n",
            "115/115 [==============================] - 0s 3ms/step - loss: 437.9825 - mae: 427.3819 - val_loss: 354.0377 - val_mae: 343.4350\n",
            "Epoch 287/300\n",
            "115/115 [==============================] - 0s 3ms/step - loss: 437.9820 - mae: 427.3481 - val_loss: 354.5274 - val_mae: 343.9154\n",
            "Epoch 288/300\n",
            "115/115 [==============================] - 0s 3ms/step - loss: 437.9514 - mae: 427.3316 - val_loss: 354.0340 - val_mae: 343.3973\n",
            "Epoch 289/300\n",
            "115/115 [==============================] - 0s 3ms/step - loss: 437.9588 - mae: 427.3134 - val_loss: 353.7715 - val_mae: 343.0995\n",
            "Epoch 290/300\n",
            "115/115 [==============================] - 1s 7ms/step - loss: 438.0171 - mae: 427.3560 - val_loss: 354.0094 - val_mae: 343.3499\n",
            "Epoch 291/300\n",
            "115/115 [==============================] - 0s 3ms/step - loss: 437.9953 - mae: 427.3326 - val_loss: 354.0550 - val_mae: 343.3779\n",
            "Epoch 292/300\n",
            "115/115 [==============================] - 0s 3ms/step - loss: 438.1674 - mae: 427.4748 - val_loss: 354.7472 - val_mae: 344.0933\n",
            "Epoch 293/300\n",
            "115/115 [==============================] - 0s 3ms/step - loss: 437.8048 - mae: 427.1324 - val_loss: 353.9378 - val_mae: 343.2389\n",
            "Epoch 294/300\n",
            "115/115 [==============================] - 0s 3ms/step - loss: 437.9321 - mae: 427.2347 - val_loss: 354.4052 - val_mae: 343.7235\n",
            "Epoch 295/300\n",
            "115/115 [==============================] - 0s 3ms/step - loss: 437.9821 - mae: 427.2867 - val_loss: 354.5745 - val_mae: 343.8903\n",
            "Epoch 296/300\n",
            "115/115 [==============================] - 0s 3ms/step - loss: 437.9144 - mae: 427.2232 - val_loss: 354.4053 - val_mae: 343.6815\n",
            "Epoch 297/300\n",
            "115/115 [==============================] - 0s 3ms/step - loss: 437.8142 - mae: 427.0731 - val_loss: 354.8863 - val_mae: 344.2142\n",
            "Epoch 298/300\n",
            "115/115 [==============================] - 0s 3ms/step - loss: 437.8741 - mae: 427.1841 - val_loss: 353.8323 - val_mae: 343.0941\n",
            "Epoch 299/300\n",
            "115/115 [==============================] - 0s 3ms/step - loss: 437.9270 - mae: 427.1957 - val_loss: 354.2057 - val_mae: 343.4840\n",
            "Epoch 300/300\n",
            "115/115 [==============================] - 0s 3ms/step - loss: 437.9046 - mae: 427.1732 - val_loss: 354.3900 - val_mae: 343.6689\n"
          ]
        },
        {
          "output_type": "execute_result",
          "data": {
            "text/plain": [
              "<keras.callbacks.History at 0x7fdfeae8df50>"
            ]
          },
          "metadata": {},
          "execution_count": 441
        }
      ]
    },
    {
      "cell_type": "code",
      "source": [
        "model.load_weights(\"./drive/MyDrive/ds/item/models/sold_prediction_nn_model_onehot.h5\")"
      ],
      "metadata": {
        "id": "XtPXcgvG0xeL"
      },
      "execution_count": null,
      "outputs": []
    },
    {
      "cell_type": "code",
      "source": [
        "mae_train = Metrics.computeMAE(y_train, model.predict(X_train).squeeze())\n",
        "mae_val = Metrics.computeMAE(y_val, model.predict(X_val).squeeze())\n",
        "mae_test = Metrics.computeMAE(y_test, model.predict(X_test).squeeze())\n",
        "\n",
        "print(mae_train)\n",
        "print(mae_val)\n",
        "print(mae_test)"
      ],
      "metadata": {
        "colab": {
          "base_uri": "https://localhost:8080/"
        },
        "id": "6-ojyGgx03uE",
        "outputId": "21adbadf-b150-4a7b-af3c-a9ebb2f314c0"
      },
      "execution_count": null,
      "outputs": [
        {
          "output_type": "stream",
          "name": "stdout",
          "text": [
            "426.979545314083\n",
            "342.91673481852933\n",
            "305.61968279661096\n"
          ]
        }
      ]
    },
    {
      "cell_type": "code",
      "source": [
        "SIA_train = Metrics.computeSIA(y_train, np.clip(model.predict(X_train), 0,np.inf).squeeze(), 1000)\n",
        "SIA_val = Metrics.computeSIA(y_val, np.clip(model.predict(X_val).squeeze(), 0,np.inf), 1000)\n",
        "SIA_test = Metrics.computeSIA(y_test, np.clip(model.predict(X_test).squeeze(), 0,np.inf), 1000)\n",
        "\n",
        "print(SIA_train)\n",
        "print(SIA_val)\n",
        "print(SIA_test)"
      ],
      "metadata": {
        "colab": {
          "base_uri": "https://localhost:8080/"
        },
        "id": "qXyr4wYUpCGz",
        "outputId": "812b2795-7b84-44e3-d38e-21776aa933ee"
      },
      "execution_count": null,
      "outputs": [
        {
          "output_type": "stream",
          "name": "stdout",
          "text": [
            "0.9453444051184318\n",
            "0.9417528579205225\n",
            "0.944904181184669\n"
          ]
        }
      ]
    },
    {
      "cell_type": "code",
      "source": [
        "SIA_train = Metrics.computeSIA(y_train, np.clip(model.predict(X_train), 0,np.inf).squeeze(), 500)\n",
        "SIA_val = Metrics.computeSIA(y_val, np.clip(model.predict(X_val).squeeze(), 0,np.inf), 500)\n",
        "SIA_test = Metrics.computeSIA(y_test, np.clip(model.predict(X_test).squeeze(), 0,np.inf), 500)\n",
        "\n",
        "print(SIA_train)\n",
        "print(SIA_val)\n",
        "print(SIA_test)"
      ],
      "metadata": {
        "colab": {
          "base_uri": "https://localhost:8080/"
        },
        "id": "T4VSpiaPpFB4",
        "outputId": "0dc66ec1-271e-4caf-fb57-a6501658ff3f"
      },
      "execution_count": null,
      "outputs": [
        {
          "output_type": "stream",
          "name": "stdout",
          "text": [
            "0.907024230873945\n",
            "0.9014697876973327\n",
            "0.9039634146341463\n"
          ]
        }
      ]
    },
    {
      "cell_type": "code",
      "source": [
        "SIA_train = Metrics.computeSIA(y_train, np.clip(model.predict(X_train), 0,np.inf).squeeze(), 200)\n",
        "SIA_val = Metrics.computeSIA(y_val, np.clip(model.predict(X_val).squeeze(), 0,np.inf), 200)\n",
        "SIA_test = Metrics.computeSIA(y_test, np.clip(model.predict(X_test).squeeze(), 0,np.inf), 200)\n",
        "\n",
        "print(SIA_train)\n",
        "print(SIA_val)\n",
        "print(SIA_test)"
      ],
      "metadata": {
        "colab": {
          "base_uri": "https://localhost:8080/"
        },
        "id": "SPq9OA_W05qq",
        "outputId": "cee4b19f-7f22-48fc-a5e0-aee471dbffd6"
      },
      "execution_count": null,
      "outputs": [
        {
          "output_type": "stream",
          "name": "stdout",
          "text": [
            "0.8226926218350122\n",
            "0.8143712574850299\n",
            "0.8118466898954704\n"
          ]
        }
      ]
    },
    {
      "cell_type": "markdown",
      "source": [
        "<H3>Affection Analysis By n_reviews And avg_rating Features</H3>"
      ],
      "metadata": {
        "id": "X3o9aOYnBJfy"
      }
    },
    {
      "cell_type": "code",
      "source": [
        "feature_list = [category, \n",
        "                price,\n",
        "                #avg_rating, \n",
        "                #n_reviews, \n",
        "                discount,\n",
        "                discount_rate,\n",
        "                # n_rate_5,\n",
        "                # n_rate_4,\n",
        "                # n_rate_3,\n",
        "                # n_rate_2,\n",
        "                # n_rate_1,\n",
        "                # rate_with_img\n",
        "\n",
        "                ]"
      ],
      "metadata": {
        "id": "4NSDGAWyBqBK"
      },
      "execution_count": null,
      "outputs": []
    },
    {
      "cell_type": "code",
      "source": [
        "X = np.hstack(feature_list)\n",
        "X"
      ],
      "metadata": {
        "colab": {
          "base_uri": "https://localhost:8080/"
        },
        "id": "8LCApb2sB9ZY",
        "outputId": "9ed22746-0882-42e8-8ef0-0e2f1eb8e735"
      },
      "execution_count": null,
      "outputs": [
        {
          "output_type": "execute_result",
          "data": {
            "text/plain": [
              "array([[     0,      0,      0, ...,  10000,      0,      0],\n",
              "       [     0,      0,      0, ..., 360000,      0,      0],\n",
              "       [     0,      0,      0, ..., 360000,      0,      0],\n",
              "       ...,\n",
              "       [     0,      0,      0, ...,  89000,      0,      0],\n",
              "       [     0,      0,      0, ...,   5000,      0,      0],\n",
              "       [     0,      0,      0, ..., 499000,      0,      0]])"
            ]
          },
          "metadata": {},
          "execution_count": 455
        }
      ]
    },
    {
      "cell_type": "code",
      "source": [
        "X_train, X_test, y_train, y_test = train_test_split(X, y, test_size=0.2, random_state=1)\n",
        "X_train, X_val, y_train, y_val = train_test_split(X_train, y_train, test_size=0.2, random_state=1)\n",
        "print(X_train.shape, y_train.shape)\n",
        "print(X_val.shape, y_val.shape)\n",
        "print(X_test.shape, y_test.shape)"
      ],
      "metadata": {
        "colab": {
          "base_uri": "https://localhost:8080/"
        },
        "id": "oud_wCatB_KS",
        "outputId": "4eebe60e-f3fc-435f-ad60-af9a12feed61"
      },
      "execution_count": null,
      "outputs": [
        {
          "output_type": "stream",
          "name": "stdout",
          "text": [
            "(14692, 27) (14692,)\n",
            "(3674, 27) (3674,)\n",
            "(4592, 27) (4592,)\n"
          ]
        }
      ]
    },
    {
      "cell_type": "code",
      "source": [
        "model = RandomForestRegressor()\n",
        "model = model.fit(X_train, y_train)"
      ],
      "metadata": {
        "id": "1qL1bNBrCAXi"
      },
      "execution_count": null,
      "outputs": []
    },
    {
      "cell_type": "code",
      "source": [
        "#Compute MAE metrics\n",
        "mae_train = Metrics.computeMAE(y_train, model.predict(X_train))\n",
        "mae_val = Metrics.computeMAE(y_val, model.predict(X_val))\n",
        "mae_test = Metrics.computeMAE(y_test, model.predict(X_test))\n",
        "\n",
        "print(mae_train)\n",
        "print(mae_val)\n",
        "print(mae_test)"
      ],
      "metadata": {
        "colab": {
          "base_uri": "https://localhost:8080/"
        },
        "id": "tHIpiSVmCCRS",
        "outputId": "db3c05d7-ac2e-4380-a920-cf304bc266ea"
      },
      "execution_count": null,
      "outputs": [
        {
          "output_type": "stream",
          "name": "stdout",
          "text": [
            "490.4844755633252\n",
            "736.4874976147349\n",
            "688.279906949656\n"
          ]
        }
      ]
    },
    {
      "cell_type": "code",
      "source": [
        "#Compute SIA_1000 metrics\n",
        "SIA_train = Metrics.computeSIA(y_train, model.predict(X_train), 1000)\n",
        "SIA_val = Metrics.computeSIA(y_val, model.predict(X_val), 1000)\n",
        "SIA_test = Metrics.computeSIA(y_test, model.predict(X_test), 1000)\n",
        "\n",
        "print(SIA_train)\n",
        "print(SIA_val)\n",
        "print(SIA_test)"
      ],
      "metadata": {
        "colab": {
          "base_uri": "https://localhost:8080/"
        },
        "id": "uUKA-TcvCcDA",
        "outputId": "66519b7b-14de-4d4f-85d3-859be3e7115e"
      },
      "execution_count": null,
      "outputs": [
        {
          "output_type": "stream",
          "name": "stdout",
          "text": [
            "0.9384699156003267\n",
            "0.8832335329341318\n",
            "0.8815331010452961\n"
          ]
        }
      ]
    },
    {
      "cell_type": "code",
      "source": [
        "#Compute SIA_500 metrics\n",
        "SIA_train = Metrics.computeSIA(y_train, model.predict(X_train), 500)\n",
        "SIA_val = Metrics.computeSIA(y_val, model.predict(X_val), 500)\n",
        "SIA_test = Metrics.computeSIA(y_test, model.predict(X_test), 500)\n",
        "\n",
        "print(SIA_train)\n",
        "print(SIA_val)\n",
        "print(SIA_test)"
      ],
      "metadata": {
        "colab": {
          "base_uri": "https://localhost:8080/"
        },
        "id": "1td1AX9hCgDt",
        "outputId": "bee80c6e-7145-464c-89f7-f77b00d2e76b"
      },
      "execution_count": null,
      "outputs": [
        {
          "output_type": "stream",
          "name": "stdout",
          "text": [
            "0.8879662401306834\n",
            "0.8032117583015786\n",
            "0.7998693379790941\n"
          ]
        }
      ]
    },
    {
      "cell_type": "code",
      "source": [
        "#Compute SIA_200 metrics\n",
        "SIA_train = Metrics.computeSIA(y_train, model.predict(X_train), 200)\n",
        "SIA_val = Metrics.computeSIA(y_val, model.predict(X_val), 200)\n",
        "SIA_test = Metrics.computeSIA(y_test, model.predict(X_test), 200)\n",
        "\n",
        "print(SIA_train)\n",
        "print(SIA_val)\n",
        "print(SIA_test)"
      ],
      "metadata": {
        "colab": {
          "base_uri": "https://localhost:8080/"
        },
        "id": "PBhhy90lCiWO",
        "outputId": "5d0ea2c4-1672-419b-8a2c-5c639460ecce"
      },
      "execution_count": null,
      "outputs": [
        {
          "output_type": "stream",
          "name": "stdout",
          "text": [
            "0.7732099101551865\n",
            "0.6317365269461078\n",
            "0.6319686411149826\n"
          ]
        }
      ]
    },
    {
      "cell_type": "code",
      "source": [
        "feature_list = [#category, \n",
        "                price,\n",
        "                #avg_rating, \n",
        "                #n_reviews, \n",
        "                discount,\n",
        "                discount_rate,\n",
        "\n",
        "                # n_rate_5,\n",
        "                # n_rate_4,\n",
        "                # n_rate_3,\n",
        "                # n_rate_2,\n",
        "                # n_rate_1,\n",
        "\n",
        "                ]"
      ],
      "metadata": {
        "id": "J08qVcfcCk4S"
      },
      "execution_count": null,
      "outputs": []
    },
    {
      "cell_type": "code",
      "source": [
        "X = np.hstack(feature_list)"
      ],
      "metadata": {
        "id": "MXUykfVZCoEj"
      },
      "execution_count": null,
      "outputs": []
    },
    {
      "cell_type": "code",
      "source": [
        "X_train, X_test, y_train, y_test = train_test_split(X, y, test_size=0.2, random_state=1)\n",
        "X_train, X_val, y_train, y_val = train_test_split(X_train, y_train, test_size=0.2, random_state=1)\n",
        "print(X_train.shape, y_train.shape)\n",
        "print(X_val.shape, y_val.shape)\n",
        "print(X_test.shape, y_test.shape)"
      ],
      "metadata": {
        "colab": {
          "base_uri": "https://localhost:8080/"
        },
        "id": "U88_0IQfCpGE",
        "outputId": "62daa093-5a62-490b-9375-4ceb25442f5d"
      },
      "execution_count": null,
      "outputs": [
        {
          "output_type": "stream",
          "name": "stdout",
          "text": [
            "(14692, 3) (14692,)\n",
            "(3674, 3) (3674,)\n",
            "(4592, 3) (4592,)\n"
          ]
        }
      ]
    },
    {
      "cell_type": "code",
      "source": [
        "normalizer = StandardScaler()\n",
        "X_train = normalizer.fit_transform(X_train)"
      ],
      "metadata": {
        "id": "dDOMlRxkCqjj"
      },
      "execution_count": null,
      "outputs": []
    },
    {
      "cell_type": "code",
      "source": [
        "X_val = normalizer.transform(X_val)\n",
        "X_test = normalizer.transform(X_test)"
      ],
      "metadata": {
        "id": "o5UnzaOWCq4N"
      },
      "execution_count": null,
      "outputs": []
    },
    {
      "cell_type": "code",
      "source": [
        "from sklearn.linear_model import LinearRegression\n",
        "model = LinearRegression()\n",
        "model.fit(X_train ,y_train)"
      ],
      "metadata": {
        "colab": {
          "base_uri": "https://localhost:8080/"
        },
        "id": "vFW97nlUCt6V",
        "outputId": "f13d0691-f21b-4b6e-9544-f7f9dc4fbef2"
      },
      "execution_count": null,
      "outputs": [
        {
          "output_type": "execute_result",
          "data": {
            "text/plain": [
              "LinearRegression()"
            ]
          },
          "metadata": {},
          "execution_count": 467
        }
      ]
    },
    {
      "cell_type": "code",
      "source": [
        "model.coef_"
      ],
      "metadata": {
        "colab": {
          "base_uri": "https://localhost:8080/"
        },
        "id": "SmBVxiCTCvD1",
        "outputId": "622caf79-01e0-40bd-eefe-5af40fd94355"
      },
      "execution_count": null,
      "outputs": [
        {
          "output_type": "execute_result",
          "data": {
            "text/plain": [
              "array([-60.87842076, -44.11495952, 161.86857141])"
            ]
          },
          "metadata": {},
          "execution_count": 468
        }
      ]
    },
    {
      "cell_type": "code",
      "source": [
        "print(np.where(model.coef_>1e4))\n",
        "print(np.where(model.coef_>1e3))\n",
        "print(np.where(model.coef_>1e2))"
      ],
      "metadata": {
        "colab": {
          "base_uri": "https://localhost:8080/"
        },
        "id": "dHx8x_55Cw7p",
        "outputId": "18f2038d-56db-4616-83ab-a0f40f473aa9"
      },
      "execution_count": null,
      "outputs": [
        {
          "output_type": "stream",
          "name": "stdout",
          "text": [
            "(array([], dtype=int64),)\n",
            "(array([], dtype=int64),)\n",
            "(array([2]),)\n"
          ]
        }
      ]
    },
    {
      "cell_type": "code",
      "source": [
        "#Compute MAE metrics\n",
        "mae_train = Metrics.computeMAE(y_train, model.predict(X_train))\n",
        "mae_val = Metrics.computeMAE(y_val, model.predict(X_val))\n",
        "mae_test = Metrics.computeMAE(y_test, model.predict(X_test))\n",
        "\n",
        "print(mae_train)\n",
        "print(mae_val)\n",
        "print(mae_test)"
      ],
      "metadata": {
        "colab": {
          "base_uri": "https://localhost:8080/"
        },
        "id": "pzXGNhQtC0Rz",
        "outputId": "f1ba5e66-bda4-4840-dcfb-112e5605ab08"
      },
      "execution_count": null,
      "outputs": [
        {
          "output_type": "stream",
          "name": "stdout",
          "text": [
            "906.1155889328231\n",
            "856.6267012729319\n",
            "778.1888049766019\n"
          ]
        }
      ]
    },
    {
      "cell_type": "code",
      "source": [
        "#Compute SIA metrics\n",
        "SIA_train = Metrics.computeSIA(y_train, np.clip(model.predict(X_train), 0,np.inf), 1000)\n",
        "SIA_val = Metrics.computeSIA(y_val, np.clip(model.predict(X_val), 0,np.inf), 1000)\n",
        "SIA_test = Metrics.computeSIA(y_test, np.clip(model.predict(X_test), 0,np.inf), 1000)\n",
        "\n",
        "print(SIA_train)\n",
        "print(SIA_val)\n",
        "print(SIA_test)"
      ],
      "metadata": {
        "colab": {
          "base_uri": "https://localhost:8080/"
        },
        "id": "OPIXziX6C19x",
        "outputId": "4d385aa5-3ab3-4002-c054-e9f1291952b2"
      },
      "execution_count": null,
      "outputs": [
        {
          "output_type": "stream",
          "name": "stdout",
          "text": [
            "0.9273754424176422\n",
            "0.9281437125748503\n",
            "0.9287891986062717\n"
          ]
        }
      ]
    },
    {
      "cell_type": "code",
      "source": [
        "#Compute SIA metrics\n",
        "SIA_train = Metrics.computeSIA(y_train, np.clip(model.predict(X_train), 0,np.inf), 500)\n",
        "SIA_val = Metrics.computeSIA(y_val, np.clip(model.predict(X_val), 0,np.inf), 500)\n",
        "SIA_test = Metrics.computeSIA(y_test, np.clip(model.predict(X_test), 0,np.inf), 500)\n",
        "\n",
        "print(SIA_train)\n",
        "print(SIA_val)\n",
        "print(SIA_test)"
      ],
      "metadata": {
        "colab": {
          "base_uri": "https://localhost:8080/"
        },
        "id": "ZItmrq5ZC5xu",
        "outputId": "b33a1fe9-3842-44f8-af08-591c2aee1d7b"
      },
      "execution_count": null,
      "outputs": [
        {
          "output_type": "stream",
          "name": "stdout",
          "text": [
            "0.39293493057446227\n",
            "0.39439303211758303\n",
            "0.40135017421602787\n"
          ]
        }
      ]
    },
    {
      "cell_type": "code",
      "source": [
        "#Compute SIA metrics\n",
        "SIA_train = Metrics.computeSIA(y_train, np.clip(model.predict(X_train), 0,np.inf), 200)\n",
        "SIA_val = Metrics.computeSIA(y_val, np.clip(model.predict(X_val), 0,np.inf), 200)\n",
        "SIA_test = Metrics.computeSIA(y_test, np.clip(model.predict(X_test), 0,np.inf), 200)\n",
        "\n",
        "print(SIA_train)\n",
        "print(SIA_val)\n",
        "print(SIA_test)"
      ],
      "metadata": {
        "colab": {
          "base_uri": "https://localhost:8080/"
        },
        "id": "dv58ls5vC86G",
        "outputId": "33c0bc6f-192a-43e4-dcc3-3cd8e04ff25a"
      },
      "execution_count": null,
      "outputs": [
        {
          "output_type": "stream",
          "name": "stdout",
          "text": [
            "0.07806969779471822\n",
            "0.07947740881872618\n",
            "0.07992160278745644\n"
          ]
        }
      ]
    },
    {
      "cell_type": "code",
      "source": [
        "from sklearn.linear_model import Ridge\n",
        "\n",
        "alphas = np.linspace(0.001, 10, num=100)\n",
        "best_val = np.inf\n",
        "best_alpha = -1\n",
        "model = None\n",
        "for alpha in alphas:\n",
        "    tmp_model = Ridge(alpha)\n",
        "    tmp_model.fit(X_train ,y_train)\n",
        "    mae_val = Metrics.computeMAE(y_val, tmp_model.predict(X_val))\n",
        "    if mae_val < best_val:\n",
        "        best_val = mae_val\n",
        "        model = tmp_model\n",
        "        best_alpha = alpha\n",
        "\n",
        "print(\"Best cross-validation MAE: {} with alpha: {}\".format(best_val, best_alpha))"
      ],
      "metadata": {
        "colab": {
          "base_uri": "https://localhost:8080/"
        },
        "id": "XWer04NRC_Dy",
        "outputId": "e6c4f070-6f4f-4cfb-f5a6-5dd14ba088c2"
      },
      "execution_count": null,
      "outputs": [
        {
          "output_type": "stream",
          "name": "stdout",
          "text": [
            "Best cross-validation MAE: 856.6267015760864 with alpha: 0.001\n"
          ]
        }
      ]
    },
    {
      "cell_type": "code",
      "source": [
        "mae_train = Metrics.computeMAE(y_train, model.predict(X_train))\n",
        "mae_val = Metrics.computeMAE(y_val, model.predict(X_val))\n",
        "mae_test = Metrics.computeMAE(y_test, model.predict(X_test))\n",
        "\n",
        "print(mae_train)\n",
        "print(mae_val)\n",
        "print(mae_test)"
      ],
      "metadata": {
        "colab": {
          "base_uri": "https://localhost:8080/"
        },
        "id": "6m1bI_5dDB56",
        "outputId": "4fbfcd8a-be35-46c4-bbc6-0bc262f43578"
      },
      "execution_count": null,
      "outputs": [
        {
          "output_type": "stream",
          "name": "stdout",
          "text": [
            "906.1155892251361\n",
            "856.6267015760864\n",
            "778.1888053211018\n"
          ]
        }
      ]
    },
    {
      "cell_type": "code",
      "source": [
        "print(model.coef_)"
      ],
      "metadata": {
        "colab": {
          "base_uri": "https://localhost:8080/"
        },
        "id": "wil0KyclDD4T",
        "outputId": "83c1a6e2-7138-4483-bf8c-e38127216a89"
      },
      "execution_count": null,
      "outputs": [
        {
          "output_type": "stream",
          "name": "stdout",
          "text": [
            "[-60.8784186  -44.11495498 161.86855951]\n"
          ]
        }
      ]
    },
    {
      "cell_type": "code",
      "source": [
        "SIA_train = Metrics.computeSIA(y_train, np.clip(model.predict(X_train), 0,np.inf), 1000)\n",
        "SIA_val = Metrics.computeSIA(y_val, np.clip(model.predict(X_val), 0,np.inf), 1000)\n",
        "SIA_test = Metrics.computeSIA(y_test, np.clip(model.predict(X_test), 0,np.inf), 1000)\n",
        "\n",
        "print(SIA_train)\n",
        "print(SIA_val)\n",
        "print(SIA_test)"
      ],
      "metadata": {
        "colab": {
          "base_uri": "https://localhost:8080/"
        },
        "id": "g4uZl_xsDHWE",
        "outputId": "9103bd42-0bd5-45f3-8410-aa36204ccd53"
      },
      "execution_count": null,
      "outputs": [
        {
          "output_type": "stream",
          "name": "stdout",
          "text": [
            "0.9273754424176422\n",
            "0.9281437125748503\n",
            "0.9287891986062717\n"
          ]
        }
      ]
    },
    {
      "cell_type": "code",
      "source": [
        "SIA_train = Metrics.computeSIA(y_train, np.clip(model.predict(X_train), 0,np.inf), 500)\n",
        "SIA_val = Metrics.computeSIA(y_val, np.clip(model.predict(X_val), 0,np.inf), 500)\n",
        "SIA_test = Metrics.computeSIA(y_test, np.clip(model.predict(X_test), 0,np.inf), 500)\n",
        "\n",
        "print(SIA_train)\n",
        "print(SIA_val)\n",
        "print(SIA_test)"
      ],
      "metadata": {
        "colab": {
          "base_uri": "https://localhost:8080/"
        },
        "id": "8ku4gJoJDJMl",
        "outputId": "adf4adea-6709-4e79-e444-02a6d092e865"
      },
      "execution_count": null,
      "outputs": [
        {
          "output_type": "stream",
          "name": "stdout",
          "text": [
            "0.39293493057446227\n",
            "0.39439303211758303\n",
            "0.40135017421602787\n"
          ]
        }
      ]
    },
    {
      "cell_type": "code",
      "source": [
        "SIA_train = Metrics.computeSIA(y_train, np.clip(model.predict(X_train), 0,np.inf), 200)\n",
        "SIA_val = Metrics.computeSIA(y_val, np.clip(model.predict(X_val), 0,np.inf), 200)\n",
        "SIA_test = Metrics.computeSIA(y_test, np.clip(model.predict(X_test), 0,np.inf), 200)\n",
        "\n",
        "print(SIA_train)\n",
        "print(SIA_val)\n",
        "print(SIA_test)"
      ],
      "metadata": {
        "colab": {
          "base_uri": "https://localhost:8080/"
        },
        "id": "o1lYSyMqDKpL",
        "outputId": "70491fc1-f893-42c8-fa12-5360cb126bf7"
      },
      "execution_count": null,
      "outputs": [
        {
          "output_type": "stream",
          "name": "stdout",
          "text": [
            "0.07806969779471822\n",
            "0.07947740881872618\n",
            "0.07992160278745644\n"
          ]
        }
      ]
    },
    {
      "cell_type": "code",
      "source": [
        "df_train, df_test = train_test_split(full_df, test_size=0.2, random_state=1)\n",
        "df_train, df_val = train_test_split(df_train, test_size=0.2, random_state=1)\n",
        "print(df_train.shape)\n",
        "print(df_val.shape)\n",
        "print(df_test.shape)"
      ],
      "metadata": {
        "colab": {
          "base_uri": "https://localhost:8080/"
        },
        "id": "clAu6DGyDNsS",
        "outputId": "4faeb94a-374b-4856-bcc3-b50220223898"
      },
      "execution_count": null,
      "outputs": [
        {
          "output_type": "stream",
          "name": "stdout",
          "text": [
            "(14692, 20)\n",
            "(3674, 20)\n",
            "(4592, 20)\n"
          ]
        }
      ]
    },
    {
      "cell_type": "code",
      "source": [
        "category_dict = df_train.groupby(\"main_category\").agg([\"mean\"])[\"n_sold\"].to_dict()['mean']\n",
        "category_dict"
      ],
      "metadata": {
        "colab": {
          "base_uri": "https://localhost:8080/"
        },
        "id": "GIOK_8sqDQDU",
        "outputId": "bd21dd44-6f39-4485-88aa-f6096bf2450d"
      },
      "execution_count": null,
      "outputs": [
        {
          "output_type": "execute_result",
          "data": {
            "text/plain": [
              "{'bach-hoa-online': 1560.9675324675325,\n",
              " 'balo-va-vali': 110.20461538461538,\n",
              " 'dien-gia-dung': 522.2282430213464,\n",
              " 'dien-thoai-may-tinh-bang': 256.2821782178218,\n",
              " 'dien-tu-dien-lanh': 89.35604770017036,\n",
              " 'do-choi-me-be': 1587.7282442748092,\n",
              " 'dong-ho-va-trang-suc': 53.70625,\n",
              " 'giay-dep-nam': 70.8250773993808,\n",
              " 'giay-dep-nu': 70.74963396778917,\n",
              " 'hang-quoc-te': 116.38679245283019,\n",
              " 'lam-dep-suc-khoe': 7003.153846153846,\n",
              " 'laptop-may-vi-tinh-linh-kien': 275.5338461538461,\n",
              " 'may-anh': 86.37781629116118,\n",
              " 'nha-cua-doi-song': 888.5884146341464,\n",
              " 'nha-sach-tiki': 3432.973988439306,\n",
              " 'o-to-xe-may-xe-dap': 138.35616438356163,\n",
              " 'phu-kien-thoi-trang': 147.30756843800322,\n",
              " 'the-thao-da-ngoai': 206.6294498381877,\n",
              " 'thiet-bi-kts-phu-kien-so': 513.6534954407294,\n",
              " 'thoi-trang-nam': 251.0316742081448,\n",
              " 'thoi-trang-nu': 116.02875399361022,\n",
              " 'thuc-pham-tuoi-song': 416.70814132104454,\n",
              " 'tui-thoi-trang-nam': 145.18870967741935,\n",
              " 'tui-vi-nu': 41.661417322834644,\n",
              " 'voucher-dich-vu': 4482.320185614849}"
            ]
          },
          "metadata": {},
          "execution_count": 481
        }
      ]
    },
    {
      "cell_type": "code",
      "source": [
        "category = full_df['main_category'].map(category_dict).fillna(0)\n",
        "category.unique()"
      ],
      "metadata": {
        "colab": {
          "base_uri": "https://localhost:8080/"
        },
        "id": "ZNG-jl0lDRgq",
        "outputId": "e5d03af7-c51c-4aa0-f9b0-479dd231d999"
      },
      "execution_count": null,
      "outputs": [
        {
          "output_type": "execute_result",
          "data": {
            "text/plain": [
              "array([1560.96753247,  110.20461538,  522.22824302,  256.28217822,\n",
              "         89.3560477 , 1587.72824427,   53.70625   ,   70.8250774 ,\n",
              "         70.74963397,  116.38679245, 7003.15384615,  275.53384615,\n",
              "         86.37781629,  888.58841463, 3432.97398844,  138.35616438,\n",
              "        147.30756844,  206.62944984,  513.65349544,  251.03167421,\n",
              "        116.02875399,  416.70814132,  145.18870968,   41.66141732,\n",
              "       4482.32018561])"
            ]
          },
          "metadata": {},
          "execution_count": 482
        }
      ]
    },
    {
      "cell_type": "code",
      "source": [
        "price=full_df[['price']]\n",
        "avg_rating = full_df[['avg_rating']]\n",
        "n_reviews=full_df[['n_reviews']]\n",
        "discount = full_df[['discount']]\n",
        "discount_rate = full_df[['discount_rate']]\n",
        "rank = full_df[['rank']]"
      ],
      "metadata": {
        "id": "H7eLUTLiDSVa"
      },
      "execution_count": null,
      "outputs": []
    },
    {
      "cell_type": "code",
      "source": [
        "feature_list = [category[:, None], \n",
        "                price,\n",
        "                #avg_rating, \n",
        "                #n_reviews, \n",
        "                discount,\n",
        "                discount_rate,\n",
        "\n",
        "                # n_rate_5,\n",
        "                # n_rate_4,\n",
        "                # n_rate_3,\n",
        "                # n_rate_2,\n",
        "                # n_rate_1,\n",
        "\n",
        "                ]"
      ],
      "metadata": {
        "colab": {
          "base_uri": "https://localhost:8080/"
        },
        "id": "Lo4mBfYGDTX7",
        "outputId": "3f49bd56-c637-41b3-ebcb-447bbc089b5a"
      },
      "execution_count": null,
      "outputs": [
        {
          "output_type": "stream",
          "name": "stderr",
          "text": [
            "/usr/local/lib/python3.7/dist-packages/ipykernel_launcher.py:1: FutureWarning: Support for multi-dimensional indexing (e.g. `obj[:, None]`) is deprecated and will be removed in a future version.  Convert to a numpy array before indexing instead.\n",
            "  \"\"\"Entry point for launching an IPython kernel.\n"
          ]
        }
      ]
    },
    {
      "cell_type": "code",
      "source": [
        "X = np.hstack(feature_list)"
      ],
      "metadata": {
        "id": "jqZdcHLkDVk4"
      },
      "execution_count": null,
      "outputs": []
    },
    {
      "cell_type": "code",
      "source": [
        "X_train, X_test, y_train, y_test = train_test_split(X, y, test_size=0.2, random_state=1)\n",
        "X_train, X_val, y_train, y_val = train_test_split(X_train, y_train, test_size=0.2, random_state=1)\n",
        "print(X_train.shape, y_train.shape)\n",
        "print(X_val.shape, y_val.shape)\n",
        "print(X_test.shape, y_test.shape)"
      ],
      "metadata": {
        "colab": {
          "base_uri": "https://localhost:8080/"
        },
        "id": "x7r-ZHIODXj_",
        "outputId": "831b63dd-3fe7-4a08-88b2-2e3b0f0ae8d8"
      },
      "execution_count": null,
      "outputs": [
        {
          "output_type": "stream",
          "name": "stdout",
          "text": [
            "(14692, 4) (14692,)\n",
            "(3674, 4) (3674,)\n",
            "(4592, 4) (4592,)\n"
          ]
        }
      ]
    },
    {
      "cell_type": "code",
      "source": [
        "y_train == df_train['n_sold'].to_numpy()"
      ],
      "metadata": {
        "colab": {
          "base_uri": "https://localhost:8080/"
        },
        "id": "y2DthgMgDYzb",
        "outputId": "3136d977-5747-409b-fd58-c20891232b1e"
      },
      "execution_count": null,
      "outputs": [
        {
          "output_type": "execute_result",
          "data": {
            "text/plain": [
              "22389    True\n",
              "12264    True\n",
              "13537    True\n",
              "23360    True\n",
              "2743     True\n",
              "         ... \n",
              "17573    True\n",
              "16810    True\n",
              "18842    True\n",
              "7276     True\n",
              "6133     True\n",
              "Name: n_sold, Length: 14692, dtype: bool"
            ]
          },
          "metadata": {},
          "execution_count": 487
        }
      ]
    },
    {
      "cell_type": "code",
      "source": [
        "normalizer = StandardScaler()\n",
        "X_train = normalizer.fit_transform(X_train)\n",
        "X_val = normalizer.transform(X_val)\n",
        "X_test = normalizer.transform(X_test)"
      ],
      "metadata": {
        "id": "UmCq9W56DaaL"
      },
      "execution_count": null,
      "outputs": []
    },
    {
      "cell_type": "code",
      "source": [
        "from sklearn.linear_model import LinearRegression\n",
        "model = LinearRegression()\n",
        "model.fit(X_train ,y_train)"
      ],
      "metadata": {
        "colab": {
          "base_uri": "https://localhost:8080/"
        },
        "id": "3MLU-7CZDbvA",
        "outputId": "0f1c0997-bd5e-44c4-d75f-cda195ff4576"
      },
      "execution_count": null,
      "outputs": [
        {
          "output_type": "execute_result",
          "data": {
            "text/plain": [
              "LinearRegression()"
            ]
          },
          "metadata": {},
          "execution_count": 489
        }
      ]
    },
    {
      "cell_type": "code",
      "source": [
        "model.coef_"
      ],
      "metadata": {
        "colab": {
          "base_uri": "https://localhost:8080/"
        },
        "id": "z82GppH8Dcp8",
        "outputId": "2bd4fe24-5650-47f5-e7c4-12b8eb5468e5"
      },
      "execution_count": null,
      "outputs": [
        {
          "output_type": "execute_result",
          "data": {
            "text/plain": [
              "array([1037.95891916,  -28.77220149,   -2.9159493 ,   73.63172562])"
            ]
          },
          "metadata": {},
          "execution_count": 490
        }
      ]
    },
    {
      "cell_type": "code",
      "source": [
        "#Compute MAE metrics\n",
        "mae_train = Metrics.computeMAE(y_train, model.predict(X_train))\n",
        "mae_val = Metrics.computeMAE(y_val, model.predict(X_val))\n",
        "mae_test = Metrics.computeMAE(y_test, model.predict(X_test))\n",
        "\n",
        "print(mae_train)\n",
        "print(mae_val)\n",
        "print(mae_test)"
      ],
      "metadata": {
        "colab": {
          "base_uri": "https://localhost:8080/"
        },
        "id": "gsOrw75wDdtM",
        "outputId": "72a3dcb7-50b3-4d0a-b68c-46e9a64cb999"
      },
      "execution_count": null,
      "outputs": [
        {
          "output_type": "stream",
          "name": "stdout",
          "text": [
            "794.788409641142\n",
            "735.7410120978144\n",
            "649.1302433846175\n"
          ]
        }
      ]
    },
    {
      "cell_type": "code",
      "source": [
        "#Compute SIA metrics\n",
        "SIA_train = Metrics.computeSIA(y_train, np.clip(model.predict(X_train), 0,np.inf), 1000)\n",
        "SIA_val = Metrics.computeSIA(y_val, np.clip(model.predict(X_val), 0,np.inf), 1000)\n",
        "SIA_test = Metrics.computeSIA(y_test, np.clip(model.predict(X_test), 0,np.inf), 1000)\n",
        "\n",
        "print(SIA_train)\n",
        "print(SIA_val)\n",
        "print(SIA_test)"
      ],
      "metadata": {
        "colab": {
          "base_uri": "https://localhost:8080/"
        },
        "id": "pcKjNStPDfor",
        "outputId": "455417e6-1135-472e-d73c-7190d48861c1"
      },
      "execution_count": null,
      "outputs": [
        {
          "output_type": "stream",
          "name": "stdout",
          "text": [
            "0.8448815682003812\n",
            "0.8451279259662493\n",
            "0.850609756097561\n"
          ]
        }
      ]
    },
    {
      "cell_type": "code",
      "source": [
        "#Compute SIA metrics\n",
        "SIA_train = Metrics.computeSIA(y_train, np.clip(model.predict(X_train), 0,np.inf), 500)\n",
        "SIA_val = Metrics.computeSIA(y_val, np.clip(model.predict(X_val), 0,np.inf), 500)\n",
        "SIA_test = Metrics.computeSIA(y_test, np.clip(model.predict(X_test), 0,np.inf), 500)\n",
        "\n",
        "print(SIA_train)\n",
        "print(SIA_val)\n",
        "print(SIA_test)"
      ],
      "metadata": {
        "colab": {
          "base_uri": "https://localhost:8080/"
        },
        "id": "HXM6FQxbDhHl",
        "outputId": "572e0f44-2e8b-40e8-cefa-bb76292abd64"
      },
      "execution_count": null,
      "outputs": [
        {
          "output_type": "stream",
          "name": "stdout",
          "text": [
            "0.772733460386605\n",
            "0.7670114316820904\n",
            "0.7722125435540069\n"
          ]
        }
      ]
    },
    {
      "cell_type": "code",
      "source": [
        "#Compute SIA metrics\n",
        "SIA_train = Metrics.computeSIA(y_train, np.clip(model.predict(X_train), 0,np.inf), 200)\n",
        "SIA_val = Metrics.computeSIA(y_val, np.clip(model.predict(X_val), 0,np.inf), 200)\n",
        "SIA_test = Metrics.computeSIA(y_test, np.clip(model.predict(X_test), 0,np.inf), 200)\n",
        "\n",
        "print(SIA_train)\n",
        "print(SIA_val)\n",
        "print(SIA_test)"
      ],
      "metadata": {
        "colab": {
          "base_uri": "https://localhost:8080/"
        },
        "id": "ZODYlZJODjzF",
        "outputId": "35698e28-b55d-46de-d27a-e2beb9e4815d"
      },
      "execution_count": null,
      "outputs": [
        {
          "output_type": "stream",
          "name": "stdout",
          "text": [
            "0.5668390961067248\n",
            "0.5642351660315732\n",
            "0.5692508710801394\n"
          ]
        }
      ]
    },
    {
      "cell_type": "code",
      "source": [
        "df_train, df_test = train_test_split(full_df, test_size=0.2, random_state=1)\n",
        "df_train, df_val = train_test_split(df_train, test_size=0.2, random_state=1)\n",
        "print(df_train.shape)\n",
        "print(df_val.shape)\n",
        "print(df_test.shape)"
      ],
      "metadata": {
        "colab": {
          "base_uri": "https://localhost:8080/"
        },
        "id": "fsrIRTWWDmYj",
        "outputId": "726c06da-d814-4170-e352-2444c529989a"
      },
      "execution_count": null,
      "outputs": [
        {
          "output_type": "stream",
          "name": "stdout",
          "text": [
            "(14692, 20)\n",
            "(3674, 20)\n",
            "(4592, 20)\n"
          ]
        }
      ]
    },
    {
      "cell_type": "code",
      "source": [
        "category_dict = df_train.groupby(\"main_category\").agg([\"mean\"])[\"n_sold\"].to_dict()['mean']\n",
        "category_dict"
      ],
      "metadata": {
        "colab": {
          "base_uri": "https://localhost:8080/"
        },
        "id": "DzBsPIU3Dnng",
        "outputId": "af4cbb52-b00b-46ee-8f60-7a0616d6f317"
      },
      "execution_count": null,
      "outputs": [
        {
          "output_type": "execute_result",
          "data": {
            "text/plain": [
              "{'bach-hoa-online': 1560.9675324675325,\n",
              " 'balo-va-vali': 110.20461538461538,\n",
              " 'dien-gia-dung': 522.2282430213464,\n",
              " 'dien-thoai-may-tinh-bang': 256.2821782178218,\n",
              " 'dien-tu-dien-lanh': 89.35604770017036,\n",
              " 'do-choi-me-be': 1587.7282442748092,\n",
              " 'dong-ho-va-trang-suc': 53.70625,\n",
              " 'giay-dep-nam': 70.8250773993808,\n",
              " 'giay-dep-nu': 70.74963396778917,\n",
              " 'hang-quoc-te': 116.38679245283019,\n",
              " 'lam-dep-suc-khoe': 7003.153846153846,\n",
              " 'laptop-may-vi-tinh-linh-kien': 275.5338461538461,\n",
              " 'may-anh': 86.37781629116118,\n",
              " 'nha-cua-doi-song': 888.5884146341464,\n",
              " 'nha-sach-tiki': 3432.973988439306,\n",
              " 'o-to-xe-may-xe-dap': 138.35616438356163,\n",
              " 'phu-kien-thoi-trang': 147.30756843800322,\n",
              " 'the-thao-da-ngoai': 206.6294498381877,\n",
              " 'thiet-bi-kts-phu-kien-so': 513.6534954407294,\n",
              " 'thoi-trang-nam': 251.0316742081448,\n",
              " 'thoi-trang-nu': 116.02875399361022,\n",
              " 'thuc-pham-tuoi-song': 416.70814132104454,\n",
              " 'tui-thoi-trang-nam': 145.18870967741935,\n",
              " 'tui-vi-nu': 41.661417322834644,\n",
              " 'voucher-dich-vu': 4482.320185614849}"
            ]
          },
          "metadata": {},
          "execution_count": 496
        }
      ]
    },
    {
      "cell_type": "code",
      "source": [
        "category = full_df['main_category'].map(category_dict).fillna(0)\n",
        "category.unique()"
      ],
      "metadata": {
        "colab": {
          "base_uri": "https://localhost:8080/"
        },
        "id": "3HuzBXoMDpa-",
        "outputId": "e041b960-545c-48fe-9b29-cf0e3acbfb07"
      },
      "execution_count": null,
      "outputs": [
        {
          "output_type": "execute_result",
          "data": {
            "text/plain": [
              "array([1560.96753247,  110.20461538,  522.22824302,  256.28217822,\n",
              "         89.3560477 , 1587.72824427,   53.70625   ,   70.8250774 ,\n",
              "         70.74963397,  116.38679245, 7003.15384615,  275.53384615,\n",
              "         86.37781629,  888.58841463, 3432.97398844,  138.35616438,\n",
              "        147.30756844,  206.62944984,  513.65349544,  251.03167421,\n",
              "        116.02875399,  416.70814132,  145.18870968,   41.66141732,\n",
              "       4482.32018561])"
            ]
          },
          "metadata": {},
          "execution_count": 497
        }
      ]
    },
    {
      "cell_type": "code",
      "source": [
        "price=full_df[['price']]\n",
        "avg_rating = full_df[['avg_rating']]\n",
        "n_reviews=full_df[['n_reviews']]\n",
        "discount = full_df[['discount']]\n",
        "discount_rate = full_df[['discount_rate']]\n",
        "rank = full_df[['rank']]"
      ],
      "metadata": {
        "id": "rpvAvfscDqJX"
      },
      "execution_count": null,
      "outputs": []
    },
    {
      "cell_type": "code",
      "source": [
        "feature_list = [#category[:, None], \n",
        "                price,\n",
        "                #avg_rating, \n",
        "                #n_reviews, \n",
        "                discount,\n",
        "                discount_rate,\n",
        "\n",
        "                # n_rate_5,\n",
        "                # n_rate_4,\n",
        "                # n_rate_3,\n",
        "                # n_rate_2,\n",
        "                # n_rate_1,\n",
        "\n",
        "                ]"
      ],
      "metadata": {
        "id": "beK7L6SoDrrT"
      },
      "execution_count": null,
      "outputs": []
    },
    {
      "cell_type": "code",
      "source": [
        "X = np.hstack(feature_list)"
      ],
      "metadata": {
        "id": "TN8xsfvkDtAC"
      },
      "execution_count": null,
      "outputs": []
    },
    {
      "cell_type": "code",
      "source": [
        "X_train, X_test, y_train, y_test = train_test_split(X, y, test_size=0.2, random_state=1)\n",
        "X_train, X_val, y_train, y_val = train_test_split(X_train, y_train, test_size=0.2, random_state=1)\n",
        "print(X_train.shape, y_train.shape)\n",
        "print(X_val.shape, y_val.shape)\n",
        "print(X_test.shape, y_test.shape)"
      ],
      "metadata": {
        "colab": {
          "base_uri": "https://localhost:8080/"
        },
        "id": "egTX5m47Du2-",
        "outputId": "b02ccac5-d0d3-438d-abcb-7f1aad3ae9af"
      },
      "execution_count": null,
      "outputs": [
        {
          "output_type": "stream",
          "name": "stdout",
          "text": [
            "(14692, 3) (14692,)\n",
            "(3674, 3) (3674,)\n",
            "(4592, 3) (4592,)\n"
          ]
        }
      ]
    },
    {
      "cell_type": "code",
      "source": [
        "y_train == df_train['n_sold'].to_numpy()"
      ],
      "metadata": {
        "colab": {
          "base_uri": "https://localhost:8080/"
        },
        "id": "Y-XkR11gDwGM",
        "outputId": "b0dc80ff-dd69-4508-f1f0-231fdabb2f7a"
      },
      "execution_count": null,
      "outputs": [
        {
          "output_type": "execute_result",
          "data": {
            "text/plain": [
              "22389    True\n",
              "12264    True\n",
              "13537    True\n",
              "23360    True\n",
              "2743     True\n",
              "         ... \n",
              "17573    True\n",
              "16810    True\n",
              "18842    True\n",
              "7276     True\n",
              "6133     True\n",
              "Name: n_sold, Length: 14692, dtype: bool"
            ]
          },
          "metadata": {},
          "execution_count": 510
        }
      ]
    },
    {
      "cell_type": "code",
      "source": [
        "normalizer = StandardScaler()\n",
        "X_train = normalizer.fit_transform(X_train)\n",
        "X_val = normalizer.transform(X_val)\n",
        "X_test = normalizer.transform(X_test)"
      ],
      "metadata": {
        "id": "r8BwKIgjDyUf"
      },
      "execution_count": null,
      "outputs": []
    },
    {
      "cell_type": "code",
      "source": [
        "from sklearn.linear_model import LinearRegression\n",
        "model = LinearRegression()\n",
        "model.fit(X_train ,y_train)"
      ],
      "metadata": {
        "colab": {
          "base_uri": "https://localhost:8080/"
        },
        "id": "lVYFBeLHDz0I",
        "outputId": "9b17b9b4-3807-4cf6-88b3-da1a9a88b1d5"
      },
      "execution_count": null,
      "outputs": [
        {
          "output_type": "execute_result",
          "data": {
            "text/plain": [
              "LinearRegression()"
            ]
          },
          "metadata": {},
          "execution_count": 512
        }
      ]
    },
    {
      "cell_type": "code",
      "source": [
        "model.coef_"
      ],
      "metadata": {
        "colab": {
          "base_uri": "https://localhost:8080/"
        },
        "id": "uGLKOoWXD1Fj",
        "outputId": "2e790d11-e10b-43c3-d431-67b9e17a7e63"
      },
      "execution_count": null,
      "outputs": [
        {
          "output_type": "execute_result",
          "data": {
            "text/plain": [
              "array([-60.87842076, -44.11495952, 161.86857141])"
            ]
          },
          "metadata": {},
          "execution_count": 513
        }
      ]
    },
    {
      "cell_type": "code",
      "source": [
        "#Compute MAE metrics\n",
        "mae_train = Metrics.computeMAE(y_train, model.predict(X_train))\n",
        "mae_val = Metrics.computeMAE(y_val, model.predict(X_val))\n",
        "mae_test = Metrics.computeMAE(y_test, model.predict(X_test))\n",
        "\n",
        "print(mae_train)\n",
        "print(mae_val)\n",
        "print(mae_test)"
      ],
      "metadata": {
        "colab": {
          "base_uri": "https://localhost:8080/"
        },
        "id": "OuZhVqpPD2Re",
        "outputId": "3cac58d8-4800-45a1-8285-e1fdce71fbd7"
      },
      "execution_count": null,
      "outputs": [
        {
          "output_type": "stream",
          "name": "stdout",
          "text": [
            "906.1155889328231\n",
            "856.6267012729319\n",
            "778.1888049766019\n"
          ]
        }
      ]
    },
    {
      "cell_type": "code",
      "source": [
        "#Compute SIA metrics\n",
        "SIA_train = Metrics.computeSIA(y_train, np.clip(model.predict(X_train), 0,np.inf), 1000)\n",
        "SIA_val = Metrics.computeSIA(y_val, np.clip(model.predict(X_val), 0,np.inf), 1000)\n",
        "SIA_test = Metrics.computeSIA(y_test, np.clip(model.predict(X_test), 0,np.inf), 1000)\n",
        "\n",
        "print(SIA_train)\n",
        "print(SIA_val)\n",
        "print(SIA_test)"
      ],
      "metadata": {
        "colab": {
          "base_uri": "https://localhost:8080/"
        },
        "id": "Go-DCqG6D8tX",
        "outputId": "6ec3694b-eafa-44e3-e69b-8570ac86de4b"
      },
      "execution_count": null,
      "outputs": [
        {
          "output_type": "stream",
          "name": "stdout",
          "text": [
            "0.9273754424176422\n",
            "0.9281437125748503\n",
            "0.9287891986062717\n"
          ]
        }
      ]
    },
    {
      "cell_type": "code",
      "source": [
        "#Compute SIA metrics\n",
        "SIA_train = Metrics.computeSIA(y_train, np.clip(model.predict(X_train), 0,np.inf), 500)\n",
        "SIA_val = Metrics.computeSIA(y_val, np.clip(model.predict(X_val), 0,np.inf), 500)\n",
        "SIA_test = Metrics.computeSIA(y_test, np.clip(model.predict(X_test), 0,np.inf), 500)\n",
        "\n",
        "print(SIA_train)\n",
        "print(SIA_val)\n",
        "print(SIA_test)"
      ],
      "metadata": {
        "colab": {
          "base_uri": "https://localhost:8080/"
        },
        "id": "0xvw5KZqD-QG",
        "outputId": "e40dec23-2a68-47c2-a929-3adf7ab08117"
      },
      "execution_count": null,
      "outputs": [
        {
          "output_type": "stream",
          "name": "stdout",
          "text": [
            "0.39293493057446227\n",
            "0.39439303211758303\n",
            "0.40135017421602787\n"
          ]
        }
      ]
    },
    {
      "cell_type": "code",
      "source": [
        "#Compute SIA metrics\n",
        "SIA_train = Metrics.computeSIA(y_train, np.clip(model.predict(X_train), 0,np.inf), 200)\n",
        "SIA_val = Metrics.computeSIA(y_val, np.clip(model.predict(X_val), 0,np.inf), 200)\n",
        "SIA_test = Metrics.computeSIA(y_test, np.clip(model.predict(X_test), 0,np.inf), 200)\n",
        "\n",
        "print(SIA_train)\n",
        "print(SIA_val)\n",
        "print(SIA_test)"
      ],
      "metadata": {
        "colab": {
          "base_uri": "https://localhost:8080/"
        },
        "id": "reQ4SR_iD_Md",
        "outputId": "822eec3a-da03-4a68-cb88-d2255ff8a0d3"
      },
      "execution_count": null,
      "outputs": [
        {
          "output_type": "stream",
          "name": "stdout",
          "text": [
            "0.07806969779471822\n",
            "0.07947740881872618\n",
            "0.07992160278745644\n"
          ]
        }
      ]
    },
    {
      "cell_type": "code",
      "source": [
        "df_train, df_test = train_test_split(full_df, test_size=0.2, random_state=1)\n",
        "df_train, df_val = train_test_split(df_train, test_size=0.2, random_state=1)\n",
        "print(df_train.shape)\n",
        "print(df_val.shape)\n",
        "print(df_test.shape)"
      ],
      "metadata": {
        "colab": {
          "base_uri": "https://localhost:8080/"
        },
        "id": "P28A15QvECEU",
        "outputId": "7d703ee2-0ad4-4235-b137-0e7a4e3a9b94"
      },
      "execution_count": null,
      "outputs": [
        {
          "output_type": "stream",
          "name": "stdout",
          "text": [
            "(14692, 20)\n",
            "(3674, 20)\n",
            "(4592, 20)\n"
          ]
        }
      ]
    },
    {
      "cell_type": "code",
      "source": [
        "category_dict = df_train.groupby(\"main_category\").agg([\"mean\"])[\"n_sold\"].to_dict()['mean']\n",
        "category = full_df['main_category'].map(category_dict).fillna(0)[:,None]"
      ],
      "metadata": {
        "colab": {
          "base_uri": "https://localhost:8080/"
        },
        "id": "Qs09BzRUEDe1",
        "outputId": "5894b0ba-1f98-4575-b567-beb2e1a0b7ca"
      },
      "execution_count": null,
      "outputs": [
        {
          "output_type": "stream",
          "name": "stderr",
          "text": [
            "/usr/local/lib/python3.7/dist-packages/ipykernel_launcher.py:2: FutureWarning: Support for multi-dimensional indexing (e.g. `obj[:, None]`) is deprecated and will be removed in a future version.  Convert to a numpy array before indexing instead.\n",
            "  \n"
          ]
        }
      ]
    },
    {
      "cell_type": "code",
      "source": [
        "feature_list = [category, \n",
        "                price,\n",
        "                #avg_rating, \n",
        "                #n_reviews, \n",
        "                discount,\n",
        "                discount_rate,\n",
        "\n",
        "                # n_rate_5,\n",
        "                # n_rate_4,\n",
        "                # n_rate_3,\n",
        "                # n_rate_2,\n",
        "                # n_rate_1,\n",
        "\n",
        "                ]"
      ],
      "metadata": {
        "id": "JLJy3fuBEEpl"
      },
      "execution_count": null,
      "outputs": []
    },
    {
      "cell_type": "code",
      "source": [
        "X = np.hstack(feature_list)"
      ],
      "metadata": {
        "id": "7b2nMx-4EHIX"
      },
      "execution_count": null,
      "outputs": []
    },
    {
      "cell_type": "code",
      "source": [
        "X_train, X_test, y_train, y_test = train_test_split(X, y, test_size=0.2, random_state=1)\n",
        "X_train, X_val, y_train, y_val = train_test_split(X_train, y_train, test_size=0.2, random_state=1)\n",
        "print(X_train.shape, y_train.shape)\n",
        "print(X_val.shape, y_val.shape)\n",
        "print(X_test.shape, y_test.shape)"
      ],
      "metadata": {
        "colab": {
          "base_uri": "https://localhost:8080/"
        },
        "id": "cS4YfeBOEJJ_",
        "outputId": "a24dc904-055c-471e-e472-aee859c98b46"
      },
      "execution_count": null,
      "outputs": [
        {
          "output_type": "stream",
          "name": "stdout",
          "text": [
            "(14692, 4) (14692,)\n",
            "(3674, 4) (3674,)\n",
            "(4592, 4) (4592,)\n"
          ]
        }
      ]
    },
    {
      "cell_type": "code",
      "source": [
        "normalizer = StandardScaler()\n",
        "\n",
        "X_train = normalizer.fit_transform(X_train)\n",
        "X_val = normalizer.transform(X_val)\n",
        "X_test = normalizer.transform(X_test)"
      ],
      "metadata": {
        "id": "Y1Gb7DFeEKpG"
      },
      "execution_count": null,
      "outputs": []
    },
    {
      "cell_type": "code",
      "source": [
        "model = tf.keras.models.Sequential([\n",
        "    tf.keras.layers.Dense(units=32,activation='relu', kernel_regularizer=tf.keras.regularizers.L2(0.01)),\n",
        "    tf.keras.layers.Dense(units=64, activation ='relu', kernel_regularizer=tf.keras.regularizers.L2(0.01)),\n",
        "    tf.keras.layers.Dense(units=1, activation='relu', kernel_regularizer=tf.keras.regularizers.L2(0.01))\n",
        "])\n",
        "\n",
        "model.compile(optimizer=tf.keras.optimizers.Adam(1e-3),\n",
        "              loss = tf.keras.losses.mean_absolute_error,\n",
        "              metrics=['mae'])"
      ],
      "metadata": {
        "id": "XjmzP5thEZ4F"
      },
      "execution_count": null,
      "outputs": []
    },
    {
      "cell_type": "code",
      "source": [
        "if not os.path.exists(\"./drive/MyDrive/ds/item/models\"):\n",
        "    os.makedirs(\"./drive/MyDrive/ds/item/models\")\n",
        "mcp_save = tf.keras.callbacks.ModelCheckpoint(\n",
        "    filepath=\"./drive/MyDrive/ds/item/models/no_rating_reviews_sold_prediction_nn_model_mean.h5\",\n",
        "    save_weights_only=True,\n",
        "    monitor='val_mae',\n",
        "    mode='min',\n",
        "    save_best_only=True) \n",
        "\n",
        "model.fit(X_train, y_train,\n",
        "          epochs=300,\n",
        "          batch_size=128,\n",
        "          validation_data=(X_val, y_val),\n",
        "          callbacks=[mcp_save])"
      ],
      "metadata": {
        "colab": {
          "base_uri": "https://localhost:8080/"
        },
        "id": "hSpf2UEpEMNe",
        "outputId": "2f5ff9f2-6cd5-4ba5-b749-00ad3f91b9a4"
      },
      "execution_count": null,
      "outputs": [
        {
          "output_type": "stream",
          "name": "stdout",
          "text": [
            "Epoch 1/300\n",
            "115/115 [==============================] - 1s 6ms/step - loss: 622.2410 - mae: 621.7612 - val_loss: 567.1868 - val_mae: 566.5792\n",
            "Epoch 2/300\n",
            "115/115 [==============================] - 0s 4ms/step - loss: 610.5894 - mae: 609.7093 - val_loss: 555.9199 - val_mae: 554.8015\n",
            "Epoch 3/300\n",
            "115/115 [==============================] - 0s 4ms/step - loss: 601.1974 - mae: 599.9011 - val_loss: 547.9181 - val_mae: 546.4354\n",
            "Epoch 4/300\n",
            "115/115 [==============================] - 1s 4ms/step - loss: 594.8399 - mae: 593.2064 - val_loss: 543.0566 - val_mae: 541.2550\n",
            "Epoch 5/300\n",
            "115/115 [==============================] - 1s 5ms/step - loss: 591.2558 - mae: 589.3097 - val_loss: 540.7202 - val_mae: 538.6079\n",
            "Epoch 6/300\n",
            "115/115 [==============================] - 0s 4ms/step - loss: 589.5242 - mae: 587.3225 - val_loss: 539.7886 - val_mae: 537.5050\n",
            "Epoch 7/300\n",
            "115/115 [==============================] - 1s 5ms/step - loss: 588.5969 - mae: 586.2681 - val_loss: 539.0517 - val_mae: 536.6438\n",
            "Epoch 8/300\n",
            "115/115 [==============================] - 0s 4ms/step - loss: 587.8937 - mae: 585.4348 - val_loss: 538.3607 - val_mae: 535.8659\n",
            "Epoch 9/300\n",
            "115/115 [==============================] - 0s 4ms/step - loss: 587.2867 - mae: 584.7499 - val_loss: 537.7077 - val_mae: 535.2133\n",
            "Epoch 10/300\n",
            "115/115 [==============================] - 1s 4ms/step - loss: 586.5844 - mae: 584.0615 - val_loss: 536.8513 - val_mae: 534.2384\n",
            "Epoch 11/300\n",
            "115/115 [==============================] - 1s 5ms/step - loss: 585.9187 - mae: 583.2655 - val_loss: 536.1049 - val_mae: 533.3992\n",
            "Epoch 12/300\n",
            "115/115 [==============================] - 0s 4ms/step - loss: 585.1902 - mae: 582.4510 - val_loss: 535.2742 - val_mae: 532.4666\n",
            "Epoch 13/300\n",
            "115/115 [==============================] - 1s 5ms/step - loss: 584.4181 - mae: 581.5483 - val_loss: 534.3960 - val_mae: 531.4881\n",
            "Epoch 14/300\n",
            "115/115 [==============================] - 0s 4ms/step - loss: 583.6372 - mae: 580.6512 - val_loss: 533.5066 - val_mae: 530.4835\n",
            "Epoch 15/300\n",
            "115/115 [==============================] - 0s 4ms/step - loss: 582.8148 - mae: 579.7430 - val_loss: 532.5463 - val_mae: 529.3626\n",
            "Epoch 16/300\n",
            "115/115 [==============================] - 0s 4ms/step - loss: 581.9774 - mae: 578.7246 - val_loss: 531.5317 - val_mae: 528.2054\n",
            "Epoch 17/300\n",
            "115/115 [==============================] - 0s 4ms/step - loss: 581.0455 - mae: 577.6456 - val_loss: 530.5139 - val_mae: 527.0199\n",
            "Epoch 18/300\n",
            "115/115 [==============================] - 0s 4ms/step - loss: 580.1594 - mae: 576.5670 - val_loss: 529.3810 - val_mae: 525.7390\n",
            "Epoch 19/300\n",
            "115/115 [==============================] - 1s 4ms/step - loss: 579.2188 - mae: 575.5001 - val_loss: 528.2303 - val_mae: 524.4098\n",
            "Epoch 20/300\n",
            "115/115 [==============================] - 1s 4ms/step - loss: 578.2183 - mae: 574.3101 - val_loss: 526.9848 - val_mae: 522.9909\n",
            "Epoch 21/300\n",
            "115/115 [==============================] - 1s 5ms/step - loss: 577.2405 - mae: 573.1609 - val_loss: 525.6801 - val_mae: 521.4893\n",
            "Epoch 22/300\n",
            "115/115 [==============================] - 0s 4ms/step - loss: 576.1084 - mae: 571.8198 - val_loss: 524.4314 - val_mae: 520.0591\n",
            "Epoch 23/300\n",
            "115/115 [==============================] - 0s 4ms/step - loss: 575.0500 - mae: 570.5737 - val_loss: 523.2940 - val_mae: 518.7261\n",
            "Epoch 24/300\n",
            "115/115 [==============================] - 0s 4ms/step - loss: 573.9886 - mae: 569.3194 - val_loss: 521.6415 - val_mae: 516.8679\n",
            "Epoch 25/300\n",
            "115/115 [==============================] - 0s 4ms/step - loss: 573.0035 - mae: 568.0819 - val_loss: 520.3615 - val_mae: 515.3728\n",
            "Epoch 26/300\n",
            "115/115 [==============================] - 0s 4ms/step - loss: 572.1097 - mae: 567.0364 - val_loss: 519.3182 - val_mae: 514.1129\n",
            "Epoch 27/300\n",
            "115/115 [==============================] - 1s 5ms/step - loss: 571.3316 - mae: 566.0273 - val_loss: 518.1733 - val_mae: 512.7899\n",
            "Epoch 28/300\n",
            "115/115 [==============================] - 0s 4ms/step - loss: 570.6579 - mae: 565.1890 - val_loss: 517.5320 - val_mae: 511.9933\n",
            "Epoch 29/300\n",
            "115/115 [==============================] - 1s 4ms/step - loss: 570.1930 - mae: 564.5895 - val_loss: 516.5624 - val_mae: 510.8972\n",
            "Epoch 30/300\n",
            "115/115 [==============================] - 0s 4ms/step - loss: 569.6581 - mae: 563.9313 - val_loss: 515.7524 - val_mae: 509.9634\n",
            "Epoch 31/300\n",
            "115/115 [==============================] - 0s 4ms/step - loss: 569.2016 - mae: 563.3755 - val_loss: 515.4680 - val_mae: 509.5833\n",
            "Epoch 32/300\n",
            "115/115 [==============================] - 1s 7ms/step - loss: 568.9592 - mae: 563.0303 - val_loss: 514.7307 - val_mae: 508.7578\n",
            "Epoch 33/300\n",
            "115/115 [==============================] - 0s 3ms/step - loss: 568.6416 - mae: 562.6388 - val_loss: 514.4940 - val_mae: 508.4591\n",
            "Epoch 34/300\n",
            "115/115 [==============================] - 0s 3ms/step - loss: 568.4659 - mae: 562.3893 - val_loss: 514.1743 - val_mae: 508.0808\n",
            "Epoch 35/300\n",
            "115/115 [==============================] - 0s 3ms/step - loss: 568.3001 - mae: 562.2054 - val_loss: 513.8020 - val_mae: 507.6652\n",
            "Epoch 36/300\n",
            "115/115 [==============================] - 1s 5ms/step - loss: 568.0818 - mae: 561.9111 - val_loss: 513.8060 - val_mae: 507.6205\n",
            "Epoch 37/300\n",
            "115/115 [==============================] - 1s 4ms/step - loss: 567.9449 - mae: 561.7699 - val_loss: 513.3317 - val_mae: 507.1218\n",
            "Epoch 38/300\n",
            "115/115 [==============================] - 1s 6ms/step - loss: 567.8008 - mae: 561.5876 - val_loss: 513.2220 - val_mae: 506.9941\n",
            "Epoch 39/300\n",
            "115/115 [==============================] - 1s 5ms/step - loss: 567.7192 - mae: 561.4652 - val_loss: 513.2048 - val_mae: 506.9626\n",
            "Epoch 40/300\n",
            "115/115 [==============================] - 1s 4ms/step - loss: 567.5578 - mae: 561.2963 - val_loss: 512.8568 - val_mae: 506.5976\n",
            "Epoch 41/300\n",
            "115/115 [==============================] - 0s 4ms/step - loss: 567.4393 - mae: 561.1544 - val_loss: 512.7248 - val_mae: 506.4404\n",
            "Epoch 42/300\n",
            "115/115 [==============================] - 0s 4ms/step - loss: 567.3439 - mae: 561.0793 - val_loss: 512.8521 - val_mae: 506.5674\n",
            "Epoch 43/300\n",
            "115/115 [==============================] - 1s 5ms/step - loss: 567.2652 - mae: 560.9911 - val_loss: 512.4112 - val_mae: 506.1148\n",
            "Epoch 44/300\n",
            "115/115 [==============================] - 0s 4ms/step - loss: 567.2675 - mae: 560.9742 - val_loss: 512.2998 - val_mae: 505.9973\n",
            "Epoch 45/300\n",
            "115/115 [==============================] - 0s 4ms/step - loss: 567.0721 - mae: 560.8030 - val_loss: 512.4420 - val_mae: 506.1657\n",
            "Epoch 46/300\n",
            "115/115 [==============================] - 0s 4ms/step - loss: 567.0944 - mae: 560.8317 - val_loss: 512.2137 - val_mae: 505.9507\n",
            "Epoch 47/300\n",
            "115/115 [==============================] - 1s 5ms/step - loss: 566.9863 - mae: 560.7280 - val_loss: 512.0297 - val_mae: 505.7541\n",
            "Epoch 48/300\n",
            "115/115 [==============================] - 1s 5ms/step - loss: 566.9084 - mae: 560.6351 - val_loss: 512.0814 - val_mae: 505.8225\n",
            "Epoch 49/300\n",
            "115/115 [==============================] - 0s 4ms/step - loss: 566.8079 - mae: 560.5513 - val_loss: 512.0192 - val_mae: 505.7681\n",
            "Epoch 50/300\n",
            "115/115 [==============================] - 1s 5ms/step - loss: 566.7527 - mae: 560.5138 - val_loss: 512.0256 - val_mae: 505.7811\n",
            "Epoch 51/300\n",
            "115/115 [==============================] - 1s 5ms/step - loss: 566.7883 - mae: 560.5444 - val_loss: 511.7516 - val_mae: 505.5271\n",
            "Epoch 52/300\n",
            "115/115 [==============================] - 1s 4ms/step - loss: 566.6556 - mae: 560.4200 - val_loss: 511.6756 - val_mae: 505.4447\n",
            "Epoch 53/300\n",
            "115/115 [==============================] - 0s 4ms/step - loss: 566.6387 - mae: 560.4186 - val_loss: 511.5977 - val_mae: 505.3882\n",
            "Epoch 54/300\n",
            "115/115 [==============================] - 0s 3ms/step - loss: 566.5688 - mae: 560.3531 - val_loss: 511.6348 - val_mae: 505.4438\n",
            "Epoch 55/300\n",
            "115/115 [==============================] - 0s 3ms/step - loss: 566.4932 - mae: 560.3245 - val_loss: 511.5782 - val_mae: 505.4063\n",
            "Epoch 56/300\n",
            "115/115 [==============================] - 0s 4ms/step - loss: 566.5204 - mae: 560.3367 - val_loss: 511.3881 - val_mae: 505.2311\n",
            "Epoch 57/300\n",
            "115/115 [==============================] - 0s 4ms/step - loss: 566.4701 - mae: 560.3151 - val_loss: 511.5240 - val_mae: 505.3805\n",
            "Epoch 58/300\n",
            "115/115 [==============================] - 0s 4ms/step - loss: 566.4268 - mae: 560.2886 - val_loss: 511.4505 - val_mae: 505.3046\n",
            "Epoch 59/300\n",
            "115/115 [==============================] - 0s 4ms/step - loss: 566.4169 - mae: 560.2754 - val_loss: 511.4043 - val_mae: 505.2805\n",
            "Epoch 60/300\n",
            "115/115 [==============================] - 0s 4ms/step - loss: 566.3168 - mae: 560.2010 - val_loss: 511.1712 - val_mae: 505.0553\n",
            "Epoch 61/300\n",
            "115/115 [==============================] - 0s 3ms/step - loss: 566.3078 - mae: 560.2236 - val_loss: 511.2002 - val_mae: 505.1007\n",
            "Epoch 62/300\n",
            "115/115 [==============================] - 0s 3ms/step - loss: 566.2433 - mae: 560.1382 - val_loss: 511.1888 - val_mae: 505.0851\n",
            "Epoch 63/300\n",
            "115/115 [==============================] - 0s 4ms/step - loss: 566.2499 - mae: 560.1707 - val_loss: 511.0477 - val_mae: 504.9669\n",
            "Epoch 64/300\n",
            "115/115 [==============================] - 1s 5ms/step - loss: 566.1375 - mae: 560.0573 - val_loss: 511.1888 - val_mae: 505.1215\n",
            "Epoch 65/300\n",
            "115/115 [==============================] - 1s 5ms/step - loss: 566.1335 - mae: 560.0547 - val_loss: 510.9490 - val_mae: 504.8792\n",
            "Epoch 66/300\n",
            "115/115 [==============================] - 0s 4ms/step - loss: 566.0663 - mae: 560.0240 - val_loss: 510.9760 - val_mae: 504.9290\n",
            "Epoch 67/300\n",
            "115/115 [==============================] - 1s 5ms/step - loss: 566.1369 - mae: 560.0948 - val_loss: 510.9126 - val_mae: 504.8779\n",
            "Epoch 68/300\n",
            "115/115 [==============================] - 1s 5ms/step - loss: 566.0617 - mae: 560.0334 - val_loss: 510.9051 - val_mae: 504.8853\n",
            "Epoch 69/300\n",
            "115/115 [==============================] - 1s 5ms/step - loss: 565.9249 - mae: 559.8980 - val_loss: 510.8582 - val_mae: 504.8441\n",
            "Epoch 70/300\n",
            "115/115 [==============================] - 1s 5ms/step - loss: 565.9334 - mae: 559.9274 - val_loss: 510.9884 - val_mae: 504.9995\n",
            "Epoch 71/300\n",
            "115/115 [==============================] - 1s 5ms/step - loss: 565.9403 - mae: 559.9560 - val_loss: 510.8370 - val_mae: 504.8623\n",
            "Epoch 72/300\n",
            "115/115 [==============================] - 1s 5ms/step - loss: 565.9155 - mae: 559.9665 - val_loss: 510.8855 - val_mae: 504.9344\n",
            "Epoch 73/300\n",
            "115/115 [==============================] - 0s 4ms/step - loss: 565.9165 - mae: 559.9603 - val_loss: 510.8073 - val_mae: 504.8559\n",
            "Epoch 74/300\n",
            "115/115 [==============================] - 1s 5ms/step - loss: 565.9355 - mae: 560.0020 - val_loss: 510.7065 - val_mae: 504.7684\n",
            "Epoch 75/300\n",
            "115/115 [==============================] - 1s 5ms/step - loss: 565.8633 - mae: 559.9379 - val_loss: 510.6107 - val_mae: 504.6773\n",
            "Epoch 76/300\n",
            "115/115 [==============================] - 1s 5ms/step - loss: 565.8339 - mae: 559.9276 - val_loss: 510.4925 - val_mae: 504.5665\n",
            "Epoch 77/300\n",
            "115/115 [==============================] - 0s 4ms/step - loss: 565.8376 - mae: 559.9293 - val_loss: 510.5388 - val_mae: 504.6319\n",
            "Epoch 78/300\n",
            "115/115 [==============================] - 1s 5ms/step - loss: 565.8195 - mae: 559.9223 - val_loss: 510.5015 - val_mae: 504.6019\n",
            "Epoch 79/300\n",
            "115/115 [==============================] - 0s 4ms/step - loss: 565.7746 - mae: 559.8843 - val_loss: 510.7686 - val_mae: 504.8801\n",
            "Epoch 80/300\n",
            "115/115 [==============================] - 1s 5ms/step - loss: 565.8104 - mae: 559.9413 - val_loss: 510.5693 - val_mae: 504.7001\n",
            "Epoch 81/300\n",
            "115/115 [==============================] - 1s 5ms/step - loss: 565.6892 - mae: 559.8131 - val_loss: 510.4841 - val_mae: 504.6186\n",
            "Epoch 82/300\n",
            "115/115 [==============================] - 1s 4ms/step - loss: 565.7253 - mae: 559.8593 - val_loss: 510.4458 - val_mae: 504.6002\n",
            "Epoch 83/300\n",
            "115/115 [==============================] - 0s 4ms/step - loss: 565.6722 - mae: 559.8376 - val_loss: 510.5912 - val_mae: 504.7439\n",
            "Epoch 84/300\n",
            "115/115 [==============================] - 0s 4ms/step - loss: 565.7007 - mae: 559.8662 - val_loss: 510.6646 - val_mae: 504.8377\n",
            "Epoch 85/300\n",
            "115/115 [==============================] - 0s 4ms/step - loss: 565.6740 - mae: 559.8619 - val_loss: 510.6119 - val_mae: 504.8008\n",
            "Epoch 86/300\n",
            "115/115 [==============================] - 1s 4ms/step - loss: 565.6879 - mae: 559.8613 - val_loss: 510.3368 - val_mae: 504.5256\n",
            "Epoch 87/300\n",
            "115/115 [==============================] - 0s 4ms/step - loss: 565.6249 - mae: 559.8257 - val_loss: 510.3327 - val_mae: 504.5360\n",
            "Epoch 88/300\n",
            "115/115 [==============================] - 0s 4ms/step - loss: 565.6452 - mae: 559.8521 - val_loss: 510.5139 - val_mae: 504.7237\n",
            "Epoch 89/300\n",
            "115/115 [==============================] - 1s 4ms/step - loss: 565.5601 - mae: 559.7695 - val_loss: 510.3201 - val_mae: 504.5349\n",
            "Epoch 90/300\n",
            "115/115 [==============================] - 1s 5ms/step - loss: 565.5842 - mae: 559.8151 - val_loss: 510.2422 - val_mae: 504.4627\n",
            "Epoch 91/300\n",
            "115/115 [==============================] - 0s 4ms/step - loss: 565.5620 - mae: 559.7978 - val_loss: 510.3830 - val_mae: 504.6274\n",
            "Epoch 92/300\n",
            "115/115 [==============================] - 0s 4ms/step - loss: 565.5786 - mae: 559.8232 - val_loss: 510.2308 - val_mae: 504.4731\n",
            "Epoch 93/300\n",
            "115/115 [==============================] - 1s 7ms/step - loss: 565.5211 - mae: 559.7650 - val_loss: 510.4227 - val_mae: 504.6808\n",
            "Epoch 94/300\n",
            "115/115 [==============================] - 0s 3ms/step - loss: 565.5018 - mae: 559.7731 - val_loss: 510.1440 - val_mae: 504.4028\n",
            "Epoch 95/300\n",
            "115/115 [==============================] - 0s 3ms/step - loss: 565.5065 - mae: 559.7642 - val_loss: 510.1754 - val_mae: 504.4432\n",
            "Epoch 96/300\n",
            "115/115 [==============================] - 0s 3ms/step - loss: 565.4990 - mae: 559.7669 - val_loss: 510.3255 - val_mae: 504.5927\n",
            "Epoch 97/300\n",
            "115/115 [==============================] - 0s 3ms/step - loss: 565.4766 - mae: 559.7591 - val_loss: 510.1533 - val_mae: 504.4338\n",
            "Epoch 98/300\n",
            "115/115 [==============================] - 0s 3ms/step - loss: 565.4362 - mae: 559.7392 - val_loss: 510.0561 - val_mae: 504.3456\n",
            "Epoch 99/300\n",
            "115/115 [==============================] - 0s 3ms/step - loss: 565.4203 - mae: 559.6983 - val_loss: 510.1464 - val_mae: 504.4296\n",
            "Epoch 100/300\n",
            "115/115 [==============================] - 0s 3ms/step - loss: 565.4510 - mae: 559.7377 - val_loss: 510.0897 - val_mae: 504.3828\n",
            "Epoch 101/300\n",
            "115/115 [==============================] - 0s 3ms/step - loss: 565.3906 - mae: 559.6928 - val_loss: 510.1434 - val_mae: 504.4540\n",
            "Epoch 102/300\n",
            "115/115 [==============================] - 0s 3ms/step - loss: 565.3997 - mae: 559.7162 - val_loss: 510.2098 - val_mae: 504.5269\n",
            "Epoch 103/300\n",
            "115/115 [==============================] - 0s 3ms/step - loss: 565.4343 - mae: 559.7628 - val_loss: 510.2172 - val_mae: 504.5473\n",
            "Epoch 104/300\n",
            "115/115 [==============================] - 0s 4ms/step - loss: 565.4150 - mae: 559.7389 - val_loss: 509.9921 - val_mae: 504.3208\n",
            "Epoch 105/300\n",
            "115/115 [==============================] - 0s 3ms/step - loss: 565.3580 - mae: 559.6882 - val_loss: 510.1644 - val_mae: 504.5053\n",
            "Epoch 106/300\n",
            "115/115 [==============================] - 0s 3ms/step - loss: 565.3808 - mae: 559.7158 - val_loss: 509.9953 - val_mae: 504.3334\n",
            "Epoch 107/300\n",
            "115/115 [==============================] - 0s 3ms/step - loss: 565.3285 - mae: 559.6620 - val_loss: 510.0271 - val_mae: 504.3771\n",
            "Epoch 108/300\n",
            "115/115 [==============================] - 1s 7ms/step - loss: 565.4085 - mae: 559.7576 - val_loss: 509.9016 - val_mae: 504.2542\n",
            "Epoch 109/300\n",
            "115/115 [==============================] - 1s 5ms/step - loss: 565.3190 - mae: 559.6923 - val_loss: 509.9635 - val_mae: 504.3333\n",
            "Epoch 110/300\n",
            "115/115 [==============================] - 1s 5ms/step - loss: 565.3024 - mae: 559.6701 - val_loss: 509.9572 - val_mae: 504.3194\n",
            "Epoch 111/300\n",
            "115/115 [==============================] - 1s 5ms/step - loss: 565.3454 - mae: 559.6978 - val_loss: 509.9976 - val_mae: 504.3639\n",
            "Epoch 112/300\n",
            "115/115 [==============================] - 1s 6ms/step - loss: 565.2911 - mae: 559.6728 - val_loss: 509.8685 - val_mae: 504.2480\n",
            "Epoch 113/300\n",
            "115/115 [==============================] - 0s 4ms/step - loss: 565.3655 - mae: 559.7396 - val_loss: 509.8411 - val_mae: 504.2129\n",
            "Epoch 114/300\n",
            "115/115 [==============================] - 1s 6ms/step - loss: 565.3127 - mae: 559.6995 - val_loss: 509.9505 - val_mae: 504.3271\n",
            "Epoch 115/300\n",
            "115/115 [==============================] - 0s 4ms/step - loss: 565.2827 - mae: 559.6587 - val_loss: 510.0360 - val_mae: 504.4296\n",
            "Epoch 116/300\n",
            "115/115 [==============================] - 1s 5ms/step - loss: 565.2829 - mae: 559.6840 - val_loss: 509.8140 - val_mae: 504.2033\n",
            "Epoch 117/300\n",
            "115/115 [==============================] - 1s 6ms/step - loss: 565.3340 - mae: 559.7327 - val_loss: 509.8101 - val_mae: 504.2072\n",
            "Epoch 118/300\n",
            "115/115 [==============================] - 1s 5ms/step - loss: 565.2546 - mae: 559.6419 - val_loss: 509.8940 - val_mae: 504.2868\n",
            "Epoch 119/300\n",
            "115/115 [==============================] - 1s 6ms/step - loss: 565.2904 - mae: 559.6932 - val_loss: 509.7826 - val_mae: 504.1952\n",
            "Epoch 120/300\n",
            "115/115 [==============================] - 1s 10ms/step - loss: 565.2437 - mae: 559.6553 - val_loss: 509.9543 - val_mae: 504.3723\n",
            "Epoch 121/300\n",
            "115/115 [==============================] - 2s 14ms/step - loss: 565.2305 - mae: 559.6508 - val_loss: 509.9032 - val_mae: 504.3282\n",
            "Epoch 122/300\n",
            "115/115 [==============================] - 1s 8ms/step - loss: 565.2687 - mae: 559.7061 - val_loss: 509.6967 - val_mae: 504.1239\n",
            "Epoch 123/300\n",
            "115/115 [==============================] - 1s 7ms/step - loss: 565.2368 - mae: 559.6566 - val_loss: 509.7394 - val_mae: 504.1692\n",
            "Epoch 124/300\n",
            "115/115 [==============================] - 1s 10ms/step - loss: 565.1978 - mae: 559.6199 - val_loss: 509.7194 - val_mae: 504.1596\n",
            "Epoch 125/300\n",
            "115/115 [==============================] - 1s 12ms/step - loss: 565.1605 - mae: 559.6058 - val_loss: 509.6473 - val_mae: 504.0809\n",
            "Epoch 126/300\n",
            "115/115 [==============================] - 1s 7ms/step - loss: 565.3099 - mae: 559.7571 - val_loss: 509.8409 - val_mae: 504.2715\n",
            "Epoch 127/300\n",
            "115/115 [==============================] - 1s 8ms/step - loss: 565.2466 - mae: 559.6725 - val_loss: 509.6407 - val_mae: 504.0719\n",
            "Epoch 128/300\n",
            "115/115 [==============================] - 1s 9ms/step - loss: 565.1763 - mae: 559.6081 - val_loss: 509.6940 - val_mae: 504.1366\n",
            "Epoch 129/300\n",
            "115/115 [==============================] - 1s 8ms/step - loss: 565.1577 - mae: 559.5944 - val_loss: 509.8297 - val_mae: 504.2856\n",
            "Epoch 130/300\n",
            "115/115 [==============================] - 1s 7ms/step - loss: 565.1636 - mae: 559.6339 - val_loss: 509.6976 - val_mae: 504.1586\n",
            "Epoch 131/300\n",
            "115/115 [==============================] - 1s 11ms/step - loss: 565.1614 - mae: 559.6131 - val_loss: 509.7877 - val_mae: 504.2535\n",
            "Epoch 132/300\n",
            "115/115 [==============================] - 1s 8ms/step - loss: 565.1432 - mae: 559.6121 - val_loss: 509.6768 - val_mae: 504.1518\n",
            "Epoch 133/300\n",
            "115/115 [==============================] - 1s 8ms/step - loss: 565.1044 - mae: 559.5741 - val_loss: 509.7037 - val_mae: 504.1762\n",
            "Epoch 134/300\n",
            "115/115 [==============================] - 1s 7ms/step - loss: 565.1600 - mae: 559.6432 - val_loss: 509.5953 - val_mae: 504.0693\n",
            "Epoch 135/300\n",
            "115/115 [==============================] - 1s 7ms/step - loss: 565.1192 - mae: 559.5948 - val_loss: 509.7141 - val_mae: 504.1927\n",
            "Epoch 136/300\n",
            "115/115 [==============================] - 1s 8ms/step - loss: 565.1033 - mae: 559.5778 - val_loss: 509.8159 - val_mae: 504.2991\n",
            "Epoch 137/300\n",
            "115/115 [==============================] - 1s 6ms/step - loss: 565.1381 - mae: 559.6245 - val_loss: 509.5807 - val_mae: 504.0605\n",
            "Epoch 138/300\n",
            "115/115 [==============================] - 1s 6ms/step - loss: 565.0561 - mae: 559.5463 - val_loss: 509.5347 - val_mae: 504.0209\n",
            "Epoch 139/300\n",
            "115/115 [==============================] - 1s 8ms/step - loss: 565.0655 - mae: 559.5558 - val_loss: 509.5141 - val_mae: 503.9980\n",
            "Epoch 140/300\n",
            "115/115 [==============================] - 1s 7ms/step - loss: 565.1136 - mae: 559.5901 - val_loss: 509.5937 - val_mae: 504.0812\n",
            "Epoch 141/300\n",
            "115/115 [==============================] - 1s 6ms/step - loss: 565.0882 - mae: 559.5782 - val_loss: 509.5563 - val_mae: 504.0460\n",
            "Epoch 142/300\n",
            "115/115 [==============================] - 1s 6ms/step - loss: 565.0472 - mae: 559.5256 - val_loss: 509.5257 - val_mae: 504.0182\n",
            "Epoch 143/300\n",
            "115/115 [==============================] - 1s 5ms/step - loss: 565.0688 - mae: 559.5500 - val_loss: 509.5518 - val_mae: 504.0367\n",
            "Epoch 144/300\n",
            "115/115 [==============================] - 1s 5ms/step - loss: 565.0887 - mae: 559.5861 - val_loss: 509.5482 - val_mae: 504.0564\n",
            "Epoch 145/300\n",
            "115/115 [==============================] - 1s 5ms/step - loss: 565.0587 - mae: 559.5703 - val_loss: 509.6344 - val_mae: 504.1533\n",
            "Epoch 146/300\n",
            "115/115 [==============================] - 1s 5ms/step - loss: 565.0455 - mae: 559.5587 - val_loss: 510.0196 - val_mae: 504.5311\n",
            "Epoch 147/300\n",
            "115/115 [==============================] - 0s 4ms/step - loss: 565.0567 - mae: 559.5801 - val_loss: 509.5740 - val_mae: 504.0946\n",
            "Epoch 148/300\n",
            "115/115 [==============================] - 1s 5ms/step - loss: 565.1346 - mae: 559.6271 - val_loss: 509.6596 - val_mae: 504.1801\n",
            "Epoch 149/300\n",
            "115/115 [==============================] - 1s 5ms/step - loss: 565.0412 - mae: 559.5839 - val_loss: 509.5118 - val_mae: 504.0424\n",
            "Epoch 150/300\n",
            "115/115 [==============================] - 0s 4ms/step - loss: 565.0180 - mae: 559.5312 - val_loss: 509.4897 - val_mae: 504.0086\n",
            "Epoch 151/300\n",
            "115/115 [==============================] - 1s 5ms/step - loss: 565.0082 - mae: 559.5359 - val_loss: 509.4627 - val_mae: 503.9862\n",
            "Epoch 152/300\n",
            "115/115 [==============================] - 0s 4ms/step - loss: 565.0444 - mae: 559.5797 - val_loss: 509.5649 - val_mae: 504.1020\n",
            "Epoch 153/300\n",
            "115/115 [==============================] - 1s 5ms/step - loss: 565.0240 - mae: 559.5739 - val_loss: 509.5578 - val_mae: 504.1027\n",
            "Epoch 154/300\n",
            "115/115 [==============================] - 1s 6ms/step - loss: 565.0819 - mae: 559.6229 - val_loss: 509.4272 - val_mae: 503.9583\n",
            "Epoch 155/300\n",
            "115/115 [==============================] - 1s 6ms/step - loss: 565.0146 - mae: 559.5531 - val_loss: 509.5173 - val_mae: 504.0593\n",
            "Epoch 156/300\n",
            "115/115 [==============================] - 1s 5ms/step - loss: 565.0140 - mae: 559.5710 - val_loss: 509.4142 - val_mae: 503.9615\n",
            "Epoch 157/300\n",
            "115/115 [==============================] - 1s 5ms/step - loss: 565.0004 - mae: 559.5502 - val_loss: 509.5384 - val_mae: 504.0836\n",
            "Epoch 158/300\n",
            "115/115 [==============================] - 1s 5ms/step - loss: 565.0007 - mae: 559.5428 - val_loss: 509.5449 - val_mae: 504.1063\n",
            "Epoch 159/300\n",
            "115/115 [==============================] - 1s 5ms/step - loss: 565.0494 - mae: 559.6059 - val_loss: 509.3853 - val_mae: 503.9395\n",
            "Epoch 160/300\n",
            "115/115 [==============================] - 1s 5ms/step - loss: 564.9935 - mae: 559.5571 - val_loss: 509.3887 - val_mae: 503.9416\n",
            "Epoch 161/300\n",
            "115/115 [==============================] - 1s 4ms/step - loss: 564.9722 - mae: 559.5211 - val_loss: 509.4889 - val_mae: 504.0470\n",
            "Epoch 162/300\n",
            "115/115 [==============================] - 0s 4ms/step - loss: 565.0714 - mae: 559.6404 - val_loss: 509.7042 - val_mae: 504.2693\n",
            "Epoch 163/300\n",
            "115/115 [==============================] - 0s 4ms/step - loss: 564.9816 - mae: 559.5450 - val_loss: 509.6288 - val_mae: 504.1960\n",
            "Epoch 164/300\n",
            "115/115 [==============================] - 1s 5ms/step - loss: 565.0112 - mae: 559.5807 - val_loss: 509.4879 - val_mae: 504.0685\n",
            "Epoch 165/300\n",
            "115/115 [==============================] - 1s 5ms/step - loss: 564.9852 - mae: 559.5743 - val_loss: 509.5948 - val_mae: 504.1734\n",
            "Epoch 166/300\n",
            "115/115 [==============================] - 1s 4ms/step - loss: 564.9730 - mae: 559.5506 - val_loss: 509.4247 - val_mae: 504.0027\n",
            "Epoch 167/300\n",
            "115/115 [==============================] - 0s 4ms/step - loss: 565.0134 - mae: 559.5994 - val_loss: 509.3878 - val_mae: 503.9783\n",
            "Epoch 168/300\n",
            "115/115 [==============================] - 1s 4ms/step - loss: 564.9567 - mae: 559.5549 - val_loss: 509.7367 - val_mae: 504.3202\n",
            "Epoch 169/300\n",
            "115/115 [==============================] - 1s 4ms/step - loss: 564.9583 - mae: 559.5502 - val_loss: 509.3771 - val_mae: 503.9521\n",
            "Epoch 170/300\n",
            "115/115 [==============================] - 1s 5ms/step - loss: 564.9199 - mae: 559.5043 - val_loss: 509.3540 - val_mae: 503.9356\n",
            "Epoch 171/300\n",
            "115/115 [==============================] - 1s 4ms/step - loss: 564.9479 - mae: 559.5283 - val_loss: 509.6237 - val_mae: 504.2133\n",
            "Epoch 172/300\n",
            "115/115 [==============================] - 1s 8ms/step - loss: 564.9720 - mae: 559.5628 - val_loss: 509.5124 - val_mae: 504.1081\n",
            "Epoch 173/300\n",
            "115/115 [==============================] - 1s 7ms/step - loss: 564.9030 - mae: 559.5043 - val_loss: 509.3748 - val_mae: 503.9754\n",
            "Epoch 174/300\n",
            "115/115 [==============================] - 1s 8ms/step - loss: 564.9113 - mae: 559.5129 - val_loss: 509.3024 - val_mae: 503.8962\n",
            "Epoch 175/300\n",
            "115/115 [==============================] - 1s 7ms/step - loss: 564.9197 - mae: 559.5218 - val_loss: 509.3570 - val_mae: 503.9594\n",
            "Epoch 176/300\n",
            "115/115 [==============================] - 1s 5ms/step - loss: 564.9357 - mae: 559.5376 - val_loss: 509.5539 - val_mae: 504.1592\n",
            "Epoch 177/300\n",
            "115/115 [==============================] - 1s 6ms/step - loss: 564.9523 - mae: 559.5682 - val_loss: 509.3552 - val_mae: 503.9689\n",
            "Epoch 178/300\n",
            "115/115 [==============================] - 1s 6ms/step - loss: 564.9916 - mae: 559.6065 - val_loss: 509.6979 - val_mae: 504.3123\n",
            "Epoch 179/300\n",
            "115/115 [==============================] - 1s 6ms/step - loss: 564.9581 - mae: 559.5791 - val_loss: 509.3079 - val_mae: 503.9250\n",
            "Epoch 180/300\n",
            "115/115 [==============================] - 1s 6ms/step - loss: 564.9284 - mae: 559.5346 - val_loss: 509.3365 - val_mae: 503.9527\n",
            "Epoch 181/300\n",
            "115/115 [==============================] - 1s 6ms/step - loss: 564.9413 - mae: 559.5540 - val_loss: 509.6085 - val_mae: 504.2302\n",
            "Epoch 182/300\n",
            "115/115 [==============================] - 1s 5ms/step - loss: 564.9315 - mae: 559.5535 - val_loss: 509.3947 - val_mae: 504.0227\n",
            "Epoch 183/300\n",
            "115/115 [==============================] - 1s 5ms/step - loss: 564.8837 - mae: 559.4905 - val_loss: 509.3636 - val_mae: 503.9867\n",
            "Epoch 184/300\n",
            "115/115 [==============================] - 1s 5ms/step - loss: 564.9035 - mae: 559.5302 - val_loss: 509.3167 - val_mae: 503.9394\n",
            "Epoch 185/300\n",
            "115/115 [==============================] - 1s 4ms/step - loss: 564.8808 - mae: 559.5182 - val_loss: 509.3237 - val_mae: 503.9630\n",
            "Epoch 186/300\n",
            "115/115 [==============================] - 1s 4ms/step - loss: 564.8945 - mae: 559.5317 - val_loss: 509.3041 - val_mae: 503.9369\n",
            "Epoch 187/300\n",
            "115/115 [==============================] - 1s 5ms/step - loss: 564.8923 - mae: 559.5433 - val_loss: 509.4536 - val_mae: 504.1003\n",
            "Epoch 188/300\n",
            "115/115 [==============================] - 1s 5ms/step - loss: 564.8831 - mae: 559.5294 - val_loss: 509.2923 - val_mae: 503.9409\n",
            "Epoch 189/300\n",
            "115/115 [==============================] - 0s 4ms/step - loss: 564.9133 - mae: 559.5455 - val_loss: 509.3442 - val_mae: 503.9877\n",
            "Epoch 190/300\n",
            "115/115 [==============================] - 0s 3ms/step - loss: 564.8495 - mae: 559.5016 - val_loss: 509.2884 - val_mae: 503.9409\n",
            "Epoch 191/300\n",
            "115/115 [==============================] - 0s 4ms/step - loss: 564.8787 - mae: 559.5119 - val_loss: 509.3828 - val_mae: 504.0223\n",
            "Epoch 192/300\n",
            "115/115 [==============================] - 1s 5ms/step - loss: 564.9774 - mae: 559.6270 - val_loss: 509.4571 - val_mae: 504.1148\n",
            "Epoch 193/300\n",
            "115/115 [==============================] - 1s 5ms/step - loss: 564.9809 - mae: 559.6375 - val_loss: 509.2595 - val_mae: 503.9103\n",
            "Epoch 194/300\n",
            "115/115 [==============================] - 1s 4ms/step - loss: 564.8369 - mae: 559.4979 - val_loss: 509.3570 - val_mae: 504.0080\n",
            "Epoch 195/300\n",
            "115/115 [==============================] - 0s 4ms/step - loss: 564.9308 - mae: 559.5961 - val_loss: 509.4676 - val_mae: 504.1336\n",
            "Epoch 196/300\n",
            "115/115 [==============================] - 1s 6ms/step - loss: 564.8822 - mae: 559.5453 - val_loss: 509.2310 - val_mae: 503.8842\n",
            "Epoch 197/300\n",
            "115/115 [==============================] - 0s 3ms/step - loss: 564.9623 - mae: 559.6370 - val_loss: 509.5991 - val_mae: 504.2667\n",
            "Epoch 198/300\n",
            "115/115 [==============================] - 1s 4ms/step - loss: 564.8535 - mae: 559.5112 - val_loss: 509.2484 - val_mae: 503.9091\n",
            "Epoch 199/300\n",
            "115/115 [==============================] - 0s 4ms/step - loss: 564.7926 - mae: 559.4572 - val_loss: 509.3057 - val_mae: 503.9698\n",
            "Epoch 200/300\n",
            "115/115 [==============================] - 1s 5ms/step - loss: 564.8340 - mae: 559.5069 - val_loss: 509.1895 - val_mae: 503.8554\n",
            "Epoch 201/300\n",
            "115/115 [==============================] - 0s 4ms/step - loss: 564.7758 - mae: 559.4169 - val_loss: 509.2403 - val_mae: 503.9007\n",
            "Epoch 202/300\n",
            "115/115 [==============================] - 1s 5ms/step - loss: 564.8015 - mae: 559.4647 - val_loss: 509.3062 - val_mae: 503.9783\n",
            "Epoch 203/300\n",
            "115/115 [==============================] - 1s 4ms/step - loss: 564.8333 - mae: 559.5061 - val_loss: 509.3114 - val_mae: 503.9845\n",
            "Epoch 204/300\n",
            "115/115 [==============================] - 1s 4ms/step - loss: 564.8471 - mae: 559.5131 - val_loss: 509.4503 - val_mae: 504.1204\n",
            "Epoch 205/300\n",
            "115/115 [==============================] - 0s 4ms/step - loss: 564.9122 - mae: 559.5838 - val_loss: 509.4015 - val_mae: 504.0844\n",
            "Epoch 206/300\n",
            "115/115 [==============================] - 1s 9ms/step - loss: 564.8333 - mae: 559.5247 - val_loss: 509.1836 - val_mae: 503.8600\n",
            "Epoch 207/300\n",
            "115/115 [==============================] - 1s 5ms/step - loss: 564.8051 - mae: 559.4918 - val_loss: 509.2768 - val_mae: 503.9631\n",
            "Epoch 208/300\n",
            "115/115 [==============================] - 1s 5ms/step - loss: 564.8319 - mae: 559.5056 - val_loss: 509.3495 - val_mae: 504.0410\n",
            "Epoch 209/300\n",
            "115/115 [==============================] - 1s 5ms/step - loss: 564.8480 - mae: 559.5350 - val_loss: 509.2551 - val_mae: 503.9467\n",
            "Epoch 210/300\n",
            "115/115 [==============================] - 1s 5ms/step - loss: 564.8142 - mae: 559.4952 - val_loss: 509.3255 - val_mae: 504.0205\n",
            "Epoch 211/300\n",
            "115/115 [==============================] - 0s 4ms/step - loss: 564.8267 - mae: 559.5092 - val_loss: 509.2015 - val_mae: 503.8865\n",
            "Epoch 212/300\n",
            "115/115 [==============================] - 1s 5ms/step - loss: 564.7939 - mae: 559.4778 - val_loss: 509.4979 - val_mae: 504.1901\n",
            "Epoch 213/300\n",
            "115/115 [==============================] - 0s 4ms/step - loss: 564.9067 - mae: 559.5882 - val_loss: 509.3734 - val_mae: 504.0741\n",
            "Epoch 214/300\n",
            "115/115 [==============================] - 0s 4ms/step - loss: 564.8043 - mae: 559.5091 - val_loss: 509.1617 - val_mae: 503.8647\n",
            "Epoch 215/300\n",
            "115/115 [==============================] - 0s 4ms/step - loss: 564.8301 - mae: 559.5362 - val_loss: 509.2593 - val_mae: 503.9605\n",
            "Epoch 216/300\n",
            "115/115 [==============================] - 0s 4ms/step - loss: 564.8345 - mae: 559.5338 - val_loss: 509.1880 - val_mae: 503.8905\n",
            "Epoch 217/300\n",
            "115/115 [==============================] - 0s 3ms/step - loss: 564.8470 - mae: 559.5370 - val_loss: 509.3325 - val_mae: 504.0390\n",
            "Epoch 218/300\n",
            "115/115 [==============================] - 0s 4ms/step - loss: 564.9063 - mae: 559.5937 - val_loss: 509.5388 - val_mae: 504.2440\n",
            "Epoch 219/300\n",
            "115/115 [==============================] - 1s 5ms/step - loss: 564.8712 - mae: 559.5903 - val_loss: 509.2406 - val_mae: 503.9586\n",
            "Epoch 220/300\n",
            "115/115 [==============================] - 1s 7ms/step - loss: 564.8162 - mae: 559.5377 - val_loss: 509.1238 - val_mae: 503.8378\n",
            "Epoch 221/300\n",
            "115/115 [==============================] - 0s 4ms/step - loss: 564.8406 - mae: 559.5559 - val_loss: 509.2504 - val_mae: 503.9678\n",
            "Epoch 222/300\n",
            "115/115 [==============================] - 0s 4ms/step - loss: 564.7906 - mae: 559.4963 - val_loss: 509.4696 - val_mae: 504.1813\n",
            "Epoch 223/300\n",
            "115/115 [==============================] - 0s 4ms/step - loss: 564.8271 - mae: 559.5438 - val_loss: 509.3492 - val_mae: 504.0693\n",
            "Epoch 224/300\n",
            "115/115 [==============================] - 0s 4ms/step - loss: 564.8224 - mae: 559.5333 - val_loss: 509.1159 - val_mae: 503.8284\n",
            "Epoch 225/300\n",
            "115/115 [==============================] - 0s 3ms/step - loss: 564.7520 - mae: 559.4615 - val_loss: 509.2340 - val_mae: 503.9547\n",
            "Epoch 226/300\n",
            "115/115 [==============================] - 0s 3ms/step - loss: 564.7887 - mae: 559.4928 - val_loss: 509.2845 - val_mae: 504.0034\n",
            "Epoch 227/300\n",
            "115/115 [==============================] - 0s 4ms/step - loss: 564.8098 - mae: 559.5426 - val_loss: 509.1898 - val_mae: 503.9153\n",
            "Epoch 228/300\n",
            "115/115 [==============================] - 1s 5ms/step - loss: 564.7747 - mae: 559.4948 - val_loss: 509.1407 - val_mae: 503.8607\n",
            "Epoch 229/300\n",
            "115/115 [==============================] - 0s 3ms/step - loss: 564.8459 - mae: 559.5758 - val_loss: 509.4282 - val_mae: 504.1463\n",
            "Epoch 230/300\n",
            "115/115 [==============================] - 0s 4ms/step - loss: 564.7586 - mae: 559.4680 - val_loss: 509.1795 - val_mae: 503.9001\n",
            "Epoch 231/300\n",
            "115/115 [==============================] - 0s 3ms/step - loss: 564.8017 - mae: 559.5161 - val_loss: 509.2141 - val_mae: 503.9329\n",
            "Epoch 232/300\n",
            "115/115 [==============================] - 0s 4ms/step - loss: 564.7693 - mae: 559.4807 - val_loss: 509.1550 - val_mae: 503.8746\n",
            "Epoch 233/300\n",
            "115/115 [==============================] - 0s 4ms/step - loss: 564.7559 - mae: 559.4798 - val_loss: 509.0786 - val_mae: 503.7978\n",
            "Epoch 234/300\n",
            "115/115 [==============================] - 0s 3ms/step - loss: 564.7891 - mae: 559.5271 - val_loss: 509.1378 - val_mae: 503.8660\n",
            "Epoch 235/300\n",
            "115/115 [==============================] - 1s 5ms/step - loss: 564.7631 - mae: 559.4837 - val_loss: 509.2469 - val_mae: 503.9702\n",
            "Epoch 236/300\n",
            "115/115 [==============================] - 1s 7ms/step - loss: 564.7195 - mae: 559.4501 - val_loss: 509.1708 - val_mae: 503.9017\n",
            "Epoch 237/300\n",
            "115/115 [==============================] - 1s 6ms/step - loss: 564.7667 - mae: 559.4798 - val_loss: 509.4688 - val_mae: 504.1928\n",
            "Epoch 238/300\n",
            "115/115 [==============================] - 0s 4ms/step - loss: 564.7484 - mae: 559.4785 - val_loss: 509.1280 - val_mae: 503.8618\n",
            "Epoch 239/300\n",
            "115/115 [==============================] - 1s 5ms/step - loss: 564.8027 - mae: 559.5414 - val_loss: 509.1026 - val_mae: 503.8426\n",
            "Epoch 240/300\n",
            "115/115 [==============================] - 0s 4ms/step - loss: 564.6957 - mae: 559.4256 - val_loss: 509.2197 - val_mae: 503.9544\n",
            "Epoch 241/300\n",
            "115/115 [==============================] - 1s 5ms/step - loss: 564.8535 - mae: 559.5755 - val_loss: 509.4004 - val_mae: 504.1534\n",
            "Epoch 242/300\n",
            "115/115 [==============================] - 0s 4ms/step - loss: 564.7857 - mae: 559.5325 - val_loss: 509.1848 - val_mae: 503.9360\n",
            "Epoch 243/300\n",
            "115/115 [==============================] - 0s 4ms/step - loss: 564.8127 - mae: 559.5575 - val_loss: 509.2689 - val_mae: 504.0191\n",
            "Epoch 244/300\n",
            "115/115 [==============================] - 1s 4ms/step - loss: 564.7753 - mae: 559.5344 - val_loss: 509.0996 - val_mae: 503.8477\n",
            "Epoch 245/300\n",
            "115/115 [==============================] - 1s 5ms/step - loss: 564.7242 - mae: 559.4641 - val_loss: 509.3240 - val_mae: 504.0737\n",
            "Epoch 246/300\n",
            "115/115 [==============================] - 0s 4ms/step - loss: 564.7607 - mae: 559.5131 - val_loss: 509.3726 - val_mae: 504.1275\n",
            "Epoch 247/300\n",
            "115/115 [==============================] - 0s 4ms/step - loss: 564.7245 - mae: 559.4833 - val_loss: 509.3765 - val_mae: 504.1362\n",
            "Epoch 248/300\n",
            "115/115 [==============================] - 1s 5ms/step - loss: 564.7525 - mae: 559.4996 - val_loss: 509.1264 - val_mae: 503.8759\n",
            "Epoch 249/300\n",
            "115/115 [==============================] - 1s 5ms/step - loss: 564.7276 - mae: 559.4972 - val_loss: 509.1587 - val_mae: 503.9099\n",
            "Epoch 250/300\n",
            "115/115 [==============================] - 0s 4ms/step - loss: 564.7325 - mae: 559.4833 - val_loss: 509.0527 - val_mae: 503.8042\n",
            "Epoch 251/300\n",
            "115/115 [==============================] - 0s 4ms/step - loss: 564.7336 - mae: 559.4898 - val_loss: 509.1716 - val_mae: 503.9341\n",
            "Epoch 252/300\n",
            "115/115 [==============================] - 1s 5ms/step - loss: 564.7487 - mae: 559.4916 - val_loss: 509.0277 - val_mae: 503.7847\n",
            "Epoch 253/300\n",
            "115/115 [==============================] - 1s 4ms/step - loss: 564.7289 - mae: 559.4881 - val_loss: 509.0236 - val_mae: 503.7765\n",
            "Epoch 254/300\n",
            "115/115 [==============================] - 1s 4ms/step - loss: 564.7064 - mae: 559.4485 - val_loss: 508.9966 - val_mae: 503.7535\n",
            "Epoch 255/300\n",
            "115/115 [==============================] - 0s 4ms/step - loss: 564.7697 - mae: 559.5197 - val_loss: 509.1513 - val_mae: 503.9040\n",
            "Epoch 256/300\n",
            "115/115 [==============================] - 0s 4ms/step - loss: 564.8055 - mae: 559.5638 - val_loss: 509.0424 - val_mae: 503.8107\n",
            "Epoch 257/300\n",
            "115/115 [==============================] - 1s 5ms/step - loss: 564.7036 - mae: 559.4712 - val_loss: 508.9939 - val_mae: 503.7425\n",
            "Epoch 258/300\n",
            "115/115 [==============================] - 1s 4ms/step - loss: 564.7280 - mae: 559.4944 - val_loss: 508.9936 - val_mae: 503.7467\n",
            "Epoch 259/300\n",
            "115/115 [==============================] - 0s 4ms/step - loss: 564.7113 - mae: 559.4675 - val_loss: 509.0439 - val_mae: 503.8106\n",
            "Epoch 260/300\n",
            "115/115 [==============================] - 0s 4ms/step - loss: 564.6886 - mae: 559.4496 - val_loss: 509.1493 - val_mae: 503.9217\n",
            "Epoch 261/300\n",
            "115/115 [==============================] - 0s 4ms/step - loss: 564.6519 - mae: 559.4191 - val_loss: 509.0004 - val_mae: 503.7657\n",
            "Epoch 262/300\n",
            "115/115 [==============================] - 0s 3ms/step - loss: 564.6879 - mae: 559.4512 - val_loss: 508.9641 - val_mae: 503.7284\n",
            "Epoch 263/300\n",
            "115/115 [==============================] - 0s 4ms/step - loss: 564.7539 - mae: 559.5107 - val_loss: 509.1570 - val_mae: 503.9214\n",
            "Epoch 264/300\n",
            "115/115 [==============================] - 1s 5ms/step - loss: 564.6913 - mae: 559.4715 - val_loss: 508.9677 - val_mae: 503.7268\n",
            "Epoch 265/300\n",
            "115/115 [==============================] - 1s 5ms/step - loss: 564.6381 - mae: 559.3794 - val_loss: 509.0640 - val_mae: 503.8239\n",
            "Epoch 266/300\n",
            "115/115 [==============================] - 1s 5ms/step - loss: 564.6689 - mae: 559.4289 - val_loss: 509.0315 - val_mae: 503.7886\n",
            "Epoch 267/300\n",
            "115/115 [==============================] - 0s 4ms/step - loss: 564.6438 - mae: 559.4053 - val_loss: 509.3144 - val_mae: 504.0703\n",
            "Epoch 268/300\n",
            "115/115 [==============================] - 1s 4ms/step - loss: 564.7179 - mae: 559.4775 - val_loss: 508.9881 - val_mae: 503.7654\n",
            "Epoch 269/300\n",
            "115/115 [==============================] - 0s 4ms/step - loss: 564.6127 - mae: 559.3961 - val_loss: 508.9675 - val_mae: 503.7406\n",
            "Epoch 270/300\n",
            "115/115 [==============================] - 1s 6ms/step - loss: 564.7424 - mae: 559.5073 - val_loss: 508.9254 - val_mae: 503.6942\n",
            "Epoch 271/300\n",
            "115/115 [==============================] - 1s 5ms/step - loss: 564.6494 - mae: 559.4259 - val_loss: 508.8768 - val_mae: 503.6465\n",
            "Epoch 272/300\n",
            "115/115 [==============================] - 1s 5ms/step - loss: 564.6498 - mae: 559.4397 - val_loss: 508.9610 - val_mae: 503.7350\n",
            "Epoch 273/300\n",
            "115/115 [==============================] - 1s 5ms/step - loss: 564.6749 - mae: 559.4324 - val_loss: 509.0778 - val_mae: 503.8462\n",
            "Epoch 274/300\n",
            "115/115 [==============================] - 1s 5ms/step - loss: 564.6080 - mae: 559.3834 - val_loss: 508.9171 - val_mae: 503.6921\n",
            "Epoch 275/300\n",
            "115/115 [==============================] - 1s 5ms/step - loss: 564.6709 - mae: 559.4536 - val_loss: 509.0466 - val_mae: 503.8311\n",
            "Epoch 276/300\n",
            "115/115 [==============================] - 0s 4ms/step - loss: 564.7377 - mae: 559.5108 - val_loss: 508.8911 - val_mae: 503.6619\n",
            "Epoch 277/300\n",
            "115/115 [==============================] - 0s 4ms/step - loss: 564.6935 - mae: 559.4796 - val_loss: 509.1232 - val_mae: 503.9077\n",
            "Epoch 278/300\n",
            "115/115 [==============================] - 1s 5ms/step - loss: 564.6149 - mae: 559.3842 - val_loss: 508.8848 - val_mae: 503.6670\n",
            "Epoch 279/300\n",
            "115/115 [==============================] - 1s 7ms/step - loss: 564.6663 - mae: 559.4641 - val_loss: 508.8895 - val_mae: 503.6754\n",
            "Epoch 280/300\n",
            "115/115 [==============================] - 1s 7ms/step - loss: 564.6766 - mae: 559.4714 - val_loss: 508.9040 - val_mae: 503.6911\n",
            "Epoch 281/300\n",
            "115/115 [==============================] - 1s 7ms/step - loss: 564.6870 - mae: 559.4619 - val_loss: 509.0246 - val_mae: 503.8092\n",
            "Epoch 282/300\n",
            "115/115 [==============================] - 1s 7ms/step - loss: 564.6844 - mae: 559.4748 - val_loss: 509.0507 - val_mae: 503.8406\n",
            "Epoch 283/300\n",
            "115/115 [==============================] - 1s 8ms/step - loss: 564.6645 - mae: 559.4387 - val_loss: 508.9426 - val_mae: 503.7319\n",
            "Epoch 284/300\n",
            "115/115 [==============================] - 1s 7ms/step - loss: 564.5828 - mae: 559.3793 - val_loss: 508.8977 - val_mae: 503.6776\n",
            "Epoch 285/300\n",
            "115/115 [==============================] - 1s 8ms/step - loss: 564.5711 - mae: 559.3616 - val_loss: 508.8901 - val_mae: 503.6734\n",
            "Epoch 286/300\n",
            "115/115 [==============================] - 1s 6ms/step - loss: 564.6793 - mae: 559.4628 - val_loss: 508.9250 - val_mae: 503.7097\n",
            "Epoch 287/300\n",
            "115/115 [==============================] - 1s 6ms/step - loss: 564.6127 - mae: 559.3902 - val_loss: 508.8918 - val_mae: 503.6727\n",
            "Epoch 288/300\n",
            "115/115 [==============================] - 1s 7ms/step - loss: 564.5974 - mae: 559.3717 - val_loss: 509.8339 - val_mae: 504.6190\n",
            "Epoch 289/300\n",
            "115/115 [==============================] - 1s 7ms/step - loss: 564.7944 - mae: 559.5745 - val_loss: 508.9243 - val_mae: 503.6963\n",
            "Epoch 290/300\n",
            "115/115 [==============================] - 1s 8ms/step - loss: 564.6127 - mae: 559.3874 - val_loss: 509.1398 - val_mae: 503.9313\n",
            "Epoch 291/300\n",
            "115/115 [==============================] - 1s 8ms/step - loss: 564.6276 - mae: 559.4023 - val_loss: 509.1822 - val_mae: 503.9848\n",
            "Epoch 292/300\n",
            "115/115 [==============================] - 1s 5ms/step - loss: 564.6592 - mae: 559.4625 - val_loss: 509.0776 - val_mae: 503.8805\n",
            "Epoch 293/300\n",
            "115/115 [==============================] - 1s 6ms/step - loss: 564.5724 - mae: 559.3582 - val_loss: 508.9424 - val_mae: 503.7298\n",
            "Epoch 294/300\n",
            "115/115 [==============================] - 1s 5ms/step - loss: 564.6431 - mae: 559.4337 - val_loss: 509.0245 - val_mae: 503.8193\n",
            "Epoch 295/300\n",
            "115/115 [==============================] - 1s 7ms/step - loss: 564.6177 - mae: 559.4161 - val_loss: 508.8042 - val_mae: 503.5966\n",
            "Epoch 296/300\n",
            "115/115 [==============================] - 1s 6ms/step - loss: 564.5793 - mae: 559.3756 - val_loss: 508.9534 - val_mae: 503.7536\n",
            "Epoch 297/300\n",
            "115/115 [==============================] - 0s 4ms/step - loss: 564.6285 - mae: 559.4296 - val_loss: 508.8606 - val_mae: 503.6631\n",
            "Epoch 298/300\n",
            "115/115 [==============================] - 1s 5ms/step - loss: 564.6075 - mae: 559.3997 - val_loss: 508.9499 - val_mae: 503.7523\n",
            "Epoch 299/300\n",
            "115/115 [==============================] - 1s 4ms/step - loss: 564.6849 - mae: 559.4940 - val_loss: 509.2682 - val_mae: 504.0614\n",
            "Epoch 300/300\n",
            "115/115 [==============================] - 1s 5ms/step - loss: 564.6152 - mae: 559.4061 - val_loss: 508.8626 - val_mae: 503.6670\n"
          ]
        },
        {
          "output_type": "execute_result",
          "data": {
            "text/plain": [
              "<keras.callbacks.History at 0x7fdfe2f45d50>"
            ]
          },
          "metadata": {},
          "execution_count": 526
        }
      ]
    },
    {
      "cell_type": "code",
      "source": [
        "model.load_weights(\"./drive/MyDrive/ds/item/models/no_rating_reviews_sold_prediction_nn_model_mean.h5\")"
      ],
      "metadata": {
        "id": "8kjfSAfuEbZO"
      },
      "execution_count": null,
      "outputs": []
    },
    {
      "cell_type": "code",
      "source": [
        "#Compute MAE metrics\n",
        "mae_train = Metrics.computeMAE(y_train, model.predict(X_train).squeeze())\n",
        "mae_val = Metrics.computeMAE(y_val, model.predict(X_val).squeeze())\n",
        "mae_test = Metrics.computeMAE(y_test, model.predict(X_test).squeeze())\n",
        "\n",
        "print(mae_train)\n",
        "print(mae_val)\n",
        "print(mae_test)"
      ],
      "metadata": {
        "colab": {
          "base_uri": "https://localhost:8080/"
        },
        "id": "7qjC6McFEn12",
        "outputId": "5dce7b17-ac54-4df5-b474-5e00278188ba"
      },
      "execution_count": null,
      "outputs": [
        {
          "output_type": "stream",
          "name": "stdout",
          "text": [
            "559.311007583984\n",
            "503.596648943395\n",
            "428.76404714452605\n"
          ]
        }
      ]
    },
    {
      "cell_type": "code",
      "source": [
        "#Compute SIA metrics\n",
        "SIA_train = Metrics.computeSIA(y_train, np.clip(model.predict(X_train), 0,np.inf).squeeze(), 1000)\n",
        "SIA_val = Metrics.computeSIA(y_val, np.clip(model.predict(X_val).squeeze(), 0,np.inf), 1000)\n",
        "SIA_test = Metrics.computeSIA(y_test, np.clip(model.predict(X_test).squeeze(), 0,np.inf), 1000)\n",
        "\n",
        "print(SIA_train)\n",
        "print(SIA_val)\n",
        "print(SIA_test)"
      ],
      "metadata": {
        "colab": {
          "base_uri": "https://localhost:8080/"
        },
        "id": "zv9H0KQKEplU",
        "outputId": "1b09255b-18a8-4a56-a755-0a06f819da9c"
      },
      "execution_count": null,
      "outputs": [
        {
          "output_type": "stream",
          "name": "stdout",
          "text": [
            "0.9248570650694256\n",
            "0.9262384322264562\n",
            "0.9259581881533101\n"
          ]
        }
      ]
    },
    {
      "cell_type": "code",
      "source": [
        "#Compute SIA metrics\n",
        "SIA_train = Metrics.computeSIA(y_train, np.clip(model.predict(X_train), 0,np.inf).squeeze(), 500)\n",
        "SIA_val = Metrics.computeSIA(y_val, np.clip(model.predict(X_val).squeeze(), 0,np.inf), 500)\n",
        "SIA_test = Metrics.computeSIA(y_test, np.clip(model.predict(X_test).squeeze(), 0,np.inf), 500)\n",
        "\n",
        "print(SIA_train)\n",
        "print(SIA_val)\n",
        "print(SIA_test)"
      ],
      "metadata": {
        "colab": {
          "base_uri": "https://localhost:8080/"
        },
        "id": "W4qKzvhvErOy",
        "outputId": "a73ecfbf-3777-4d18-d0ed-61a66193882d"
      },
      "execution_count": null,
      "outputs": [
        {
          "output_type": "stream",
          "name": "stdout",
          "text": [
            "0.8718350122515655\n",
            "0.8715296679368536\n",
            "0.8754355400696864\n"
          ]
        }
      ]
    },
    {
      "cell_type": "code",
      "source": [
        "#Compute SIA metrics\n",
        "SIA_train = Metrics.computeSIA(y_train, np.clip(model.predict(X_train), 0,np.inf).squeeze(), 200)\n",
        "SIA_val = Metrics.computeSIA(y_val, np.clip(model.predict(X_val).squeeze(), 0,np.inf), 200)\n",
        "SIA_test = Metrics.computeSIA(y_test, np.clip(model.predict(X_test).squeeze(), 0,np.inf), 200)\n",
        "\n",
        "print(SIA_train)\n",
        "print(SIA_val)\n",
        "print(SIA_test)"
      ],
      "metadata": {
        "colab": {
          "base_uri": "https://localhost:8080/"
        },
        "id": "AzR9jjLREsZu",
        "outputId": "ae524360-7ed2-4499-ccd2-1c23c48ba86d"
      },
      "execution_count": null,
      "outputs": [
        {
          "output_type": "stream",
          "name": "stdout",
          "text": [
            "0.755649332970324\n",
            "0.7544910179640718\n",
            "0.7578397212543554\n"
          ]
        }
      ]
    },
    {
      "cell_type": "code",
      "source": [
        "category = pd.get_dummies(full_df['main_category'], drop_first=True)"
      ],
      "metadata": {
        "id": "aHRx3o9zEtm1"
      },
      "execution_count": null,
      "outputs": []
    },
    {
      "cell_type": "code",
      "source": [
        "feature_list = [category, \n",
        "                price,\n",
        "                #avg_rating, \n",
        "                #n_reviews, \n",
        "                discount,\n",
        "                discount_rate,\n",
        "\n",
        "                # n_rate_5,\n",
        "                # n_rate_4,\n",
        "                # n_rate_3,\n",
        "                # n_rate_2,\n",
        "                # n_rate_1,\n",
        "\n",
        "                ]"
      ],
      "metadata": {
        "id": "peG5l25CEzky"
      },
      "execution_count": null,
      "outputs": []
    },
    {
      "cell_type": "code",
      "source": [
        "X = np.hstack(feature_list)"
      ],
      "metadata": {
        "id": "v6JmGa-OE0jF"
      },
      "execution_count": null,
      "outputs": []
    },
    {
      "cell_type": "code",
      "source": [
        "X_train, X_test, y_train, y_test = train_test_split(X, y, test_size=0.2, random_state=1)\n",
        "X_train, X_val, y_train, y_val = train_test_split(X_train, y_train, test_size=0.2, random_state=1)\n",
        "print(X_train.shape, y_train.shape)\n",
        "print(X_val.shape, y_val.shape)\n",
        "print(X_test.shape, y_test.shape)"
      ],
      "metadata": {
        "colab": {
          "base_uri": "https://localhost:8080/"
        },
        "id": "tFlkyTX7E1zf",
        "outputId": "806327c0-72b6-42a7-8046-aa7129ef7815"
      },
      "execution_count": null,
      "outputs": [
        {
          "output_type": "stream",
          "name": "stdout",
          "text": [
            "(14692, 27) (14692,)\n",
            "(3674, 27) (3674,)\n",
            "(4592, 27) (4592,)\n"
          ]
        }
      ]
    },
    {
      "cell_type": "code",
      "source": [
        "normalizer = StandardScaler()\n",
        "\n",
        "X_train = normalizer.fit_transform(X_train)\n",
        "X_val = normalizer.transform(X_val)\n",
        "X_test = normalizer.transform(X_test)"
      ],
      "metadata": {
        "id": "YnyQBe8FE2sk"
      },
      "execution_count": null,
      "outputs": []
    },
    {
      "cell_type": "code",
      "source": [
        "model = tf.keras.models.Sequential([\n",
        "    tf.keras.layers.Dense(units=32,activation='relu', kernel_regularizer=tf.keras.regularizers.L2(0.01)),\n",
        "    tf.keras.layers.Dense(units=64, activation ='relu', kernel_regularizer=tf.keras.regularizers.L2(0.01)),\n",
        "    tf.keras.layers.Dense(units=1, activation='relu', kernel_regularizer=tf.keras.regularizers.L2(0.01))\n",
        "])\n",
        "\n",
        "model.compile(optimizer=tf.keras.optimizers.Adam(1e-3),\n",
        "              loss = tf.keras.losses.mean_absolute_error,\n",
        "              metrics=['mae'])"
      ],
      "metadata": {
        "id": "YM9vhhCuE3yu"
      },
      "execution_count": null,
      "outputs": []
    },
    {
      "cell_type": "code",
      "source": [
        "if not os.path.exists(\"./drive/MyDrive/ds/item/models\"):\n",
        "    os.makedirs(\"./drive/MyDrive/ds/item/models\")\n",
        "mcp_save = tf.keras.callbacks.ModelCheckpoint(\n",
        "    filepath=\"./drive/MyDrive/ds/item/models/no_rating_reviews_sold_prediction_nn_model_onehot.h5\",\n",
        "    save_weights_only=True,\n",
        "    monitor='val_mae',\n",
        "    mode='min',\n",
        "    save_best_only=True)  #save model's weights with highest validation performance\n",
        "\n",
        "model.fit(X_train, y_train,\n",
        "          epochs=300,\n",
        "          batch_size=128,\n",
        "          validation_data=(X_val, y_val),\n",
        "          callbacks=[mcp_save])"
      ],
      "metadata": {
        "colab": {
          "base_uri": "https://localhost:8080/"
        },
        "id": "6I3cMG6DE5Jn",
        "outputId": "9096ac06-bac1-45db-ef2c-9c9b85d9a260"
      },
      "execution_count": null,
      "outputs": [
        {
          "output_type": "stream",
          "name": "stdout",
          "text": [
            "Epoch 1/300\n",
            "115/115 [==============================] - 2s 9ms/step - loss: 618.7347 - mae: 617.9016 - val_loss: 560.4152 - val_mae: 559.3277\n",
            "Epoch 2/300\n",
            "115/115 [==============================] - 1s 6ms/step - loss: 600.2860 - mae: 598.8976 - val_loss: 541.9304 - val_mae: 540.2864\n",
            "Epoch 3/300\n",
            "115/115 [==============================] - 1s 5ms/step - loss: 585.1804 - mae: 583.3521 - val_loss: 529.9133 - val_mae: 527.9378\n",
            "Epoch 4/300\n",
            "115/115 [==============================] - 1s 5ms/step - loss: 575.2760 - mae: 573.1056 - val_loss: 521.8296 - val_mae: 519.5170\n",
            "Epoch 5/300\n",
            "115/115 [==============================] - 1s 5ms/step - loss: 569.2255 - mae: 566.7811 - val_loss: 516.6868 - val_mae: 514.1390\n",
            "Epoch 6/300\n",
            "115/115 [==============================] - 1s 5ms/step - loss: 565.4651 - mae: 562.7933 - val_loss: 512.7280 - val_mae: 509.9464\n",
            "Epoch 7/300\n",
            "115/115 [==============================] - 1s 5ms/step - loss: 563.1432 - mae: 560.2698 - val_loss: 510.0147 - val_mae: 507.0398\n",
            "Epoch 8/300\n",
            "115/115 [==============================] - 1s 5ms/step - loss: 561.7189 - mae: 558.6896 - val_loss: 508.4317 - val_mae: 505.3583\n",
            "Epoch 9/300\n",
            "115/115 [==============================] - 1s 5ms/step - loss: 560.9221 - mae: 557.8352 - val_loss: 507.3839 - val_mae: 504.2333\n",
            "Epoch 10/300\n",
            "115/115 [==============================] - 0s 4ms/step - loss: 560.4659 - mae: 557.3036 - val_loss: 506.6120 - val_mae: 503.4262\n",
            "Epoch 11/300\n",
            "115/115 [==============================] - 1s 5ms/step - loss: 560.0873 - mae: 556.8935 - val_loss: 506.1344 - val_mae: 502.9503\n",
            "Epoch 12/300\n",
            "115/115 [==============================] - 1s 5ms/step - loss: 559.7722 - mae: 556.5787 - val_loss: 505.7016 - val_mae: 502.4789\n",
            "Epoch 13/300\n",
            "115/115 [==============================] - 0s 4ms/step - loss: 559.5493 - mae: 556.3507 - val_loss: 505.5905 - val_mae: 502.3914\n",
            "Epoch 14/300\n",
            "115/115 [==============================] - 1s 4ms/step - loss: 559.2827 - mae: 556.0937 - val_loss: 505.2519 - val_mae: 502.0467\n",
            "Epoch 15/300\n",
            "115/115 [==============================] - 1s 5ms/step - loss: 559.1023 - mae: 555.9034 - val_loss: 505.2381 - val_mae: 502.0743\n",
            "Epoch 16/300\n",
            "115/115 [==============================] - 1s 5ms/step - loss: 558.8447 - mae: 555.6701 - val_loss: 505.0244 - val_mae: 501.8438\n",
            "Epoch 17/300\n",
            "115/115 [==============================] - 1s 5ms/step - loss: 558.6813 - mae: 555.4609 - val_loss: 505.0041 - val_mae: 501.8344\n",
            "Epoch 18/300\n",
            "115/115 [==============================] - 1s 5ms/step - loss: 558.5049 - mae: 555.3558 - val_loss: 504.8504 - val_mae: 501.6989\n",
            "Epoch 19/300\n",
            "115/115 [==============================] - 1s 5ms/step - loss: 558.3649 - mae: 555.2119 - val_loss: 504.6361 - val_mae: 501.4792\n",
            "Epoch 20/300\n",
            "115/115 [==============================] - 1s 7ms/step - loss: 558.2365 - mae: 555.0894 - val_loss: 504.6852 - val_mae: 501.5393\n",
            "Epoch 21/300\n",
            "115/115 [==============================] - 0s 4ms/step - loss: 558.0660 - mae: 554.9108 - val_loss: 504.5856 - val_mae: 501.4616\n",
            "Epoch 22/300\n",
            "115/115 [==============================] - 0s 3ms/step - loss: 558.0272 - mae: 554.8353 - val_loss: 504.7108 - val_mae: 501.6019\n",
            "Epoch 23/300\n",
            "115/115 [==============================] - 0s 3ms/step - loss: 557.8910 - mae: 554.8050 - val_loss: 504.5284 - val_mae: 501.4171\n",
            "Epoch 24/300\n",
            "115/115 [==============================] - 0s 3ms/step - loss: 557.6855 - mae: 554.5679 - val_loss: 504.5128 - val_mae: 501.4052\n",
            "Epoch 25/300\n",
            "115/115 [==============================] - 0s 3ms/step - loss: 557.6606 - mae: 554.5657 - val_loss: 504.4281 - val_mae: 501.3211\n",
            "Epoch 26/300\n",
            "115/115 [==============================] - 0s 3ms/step - loss: 557.4724 - mae: 554.3505 - val_loss: 504.2165 - val_mae: 501.0758\n",
            "Epoch 27/300\n",
            "115/115 [==============================] - 0s 3ms/step - loss: 557.3854 - mae: 554.2730 - val_loss: 504.3095 - val_mae: 501.1876\n",
            "Epoch 28/300\n",
            "115/115 [==============================] - 0s 3ms/step - loss: 557.3598 - mae: 554.2507 - val_loss: 504.0557 - val_mae: 500.9288\n",
            "Epoch 29/300\n",
            "115/115 [==============================] - 0s 3ms/step - loss: 557.3004 - mae: 554.1939 - val_loss: 504.2224 - val_mae: 501.1280\n",
            "Epoch 30/300\n",
            "115/115 [==============================] - 0s 3ms/step - loss: 557.1801 - mae: 554.0809 - val_loss: 504.0095 - val_mae: 500.9001\n",
            "Epoch 31/300\n",
            "115/115 [==============================] - 0s 3ms/step - loss: 557.1259 - mae: 554.0014 - val_loss: 504.0271 - val_mae: 500.9349\n",
            "Epoch 32/300\n",
            "115/115 [==============================] - 0s 3ms/step - loss: 557.0496 - mae: 553.9816 - val_loss: 503.9348 - val_mae: 500.8533\n",
            "Epoch 33/300\n",
            "115/115 [==============================] - 0s 3ms/step - loss: 557.0215 - mae: 553.9550 - val_loss: 504.0503 - val_mae: 500.9746\n",
            "Epoch 34/300\n",
            "115/115 [==============================] - 0s 3ms/step - loss: 556.9561 - mae: 553.8820 - val_loss: 503.9655 - val_mae: 500.9083\n",
            "Epoch 35/300\n",
            "115/115 [==============================] - 0s 3ms/step - loss: 556.8974 - mae: 553.8762 - val_loss: 503.9899 - val_mae: 500.9281\n",
            "Epoch 36/300\n",
            "115/115 [==============================] - 0s 3ms/step - loss: 556.8688 - mae: 553.7832 - val_loss: 503.9326 - val_mae: 500.8865\n",
            "Epoch 37/300\n",
            "115/115 [==============================] - 0s 3ms/step - loss: 556.8863 - mae: 553.8174 - val_loss: 503.8517 - val_mae: 500.7947\n",
            "Epoch 38/300\n",
            "115/115 [==============================] - 0s 3ms/step - loss: 556.7926 - mae: 553.7700 - val_loss: 503.8890 - val_mae: 500.8510\n",
            "Epoch 39/300\n",
            "115/115 [==============================] - 0s 3ms/step - loss: 556.7896 - mae: 553.7477 - val_loss: 503.9082 - val_mae: 500.8747\n",
            "Epoch 40/300\n",
            "115/115 [==============================] - 0s 3ms/step - loss: 556.6942 - mae: 553.6695 - val_loss: 503.8085 - val_mae: 500.7753\n",
            "Epoch 41/300\n",
            "115/115 [==============================] - 0s 3ms/step - loss: 556.6604 - mae: 553.6228 - val_loss: 503.7321 - val_mae: 500.7053\n",
            "Epoch 42/300\n",
            "115/115 [==============================] - 0s 3ms/step - loss: 556.6614 - mae: 553.6232 - val_loss: 503.7024 - val_mae: 500.6667\n",
            "Epoch 43/300\n",
            "115/115 [==============================] - 0s 3ms/step - loss: 556.5898 - mae: 553.5657 - val_loss: 503.7207 - val_mae: 500.7065\n",
            "Epoch 44/300\n",
            "115/115 [==============================] - 0s 3ms/step - loss: 556.6062 - mae: 553.5894 - val_loss: 503.7394 - val_mae: 500.7258\n",
            "Epoch 45/300\n",
            "115/115 [==============================] - 0s 3ms/step - loss: 556.5596 - mae: 553.5332 - val_loss: 503.5956 - val_mae: 500.5775\n",
            "Epoch 46/300\n",
            "115/115 [==============================] - 0s 3ms/step - loss: 556.5192 - mae: 553.5073 - val_loss: 503.5590 - val_mae: 500.5415\n",
            "Epoch 47/300\n",
            "115/115 [==============================] - 0s 3ms/step - loss: 556.4966 - mae: 553.4646 - val_loss: 503.5930 - val_mae: 500.5752\n",
            "Epoch 48/300\n",
            "115/115 [==============================] - 0s 3ms/step - loss: 556.5031 - mae: 553.4989 - val_loss: 503.5460 - val_mae: 500.5414\n",
            "Epoch 49/300\n",
            "115/115 [==============================] - 0s 3ms/step - loss: 556.4630 - mae: 553.4404 - val_loss: 503.4994 - val_mae: 500.4827\n",
            "Epoch 50/300\n",
            "115/115 [==============================] - 0s 3ms/step - loss: 556.4351 - mae: 553.4201 - val_loss: 503.5614 - val_mae: 500.5479\n",
            "Epoch 51/300\n",
            "115/115 [==============================] - 0s 3ms/step - loss: 556.4417 - mae: 553.4256 - val_loss: 503.6528 - val_mae: 500.6702\n",
            "Epoch 52/300\n",
            "115/115 [==============================] - 0s 3ms/step - loss: 556.4210 - mae: 553.4597 - val_loss: 503.8069 - val_mae: 500.8244\n",
            "Epoch 53/300\n",
            "115/115 [==============================] - 0s 3ms/step - loss: 556.3898 - mae: 553.3960 - val_loss: 503.5192 - val_mae: 500.5261\n",
            "Epoch 54/300\n",
            "115/115 [==============================] - 0s 3ms/step - loss: 556.2806 - mae: 553.2804 - val_loss: 503.6300 - val_mae: 500.6464\n",
            "Epoch 55/300\n",
            "115/115 [==============================] - 0s 3ms/step - loss: 556.2741 - mae: 553.2759 - val_loss: 503.4481 - val_mae: 500.4580\n",
            "Epoch 56/300\n",
            "115/115 [==============================] - 0s 2ms/step - loss: 556.2067 - mae: 553.2145 - val_loss: 503.6647 - val_mae: 500.6833\n",
            "Epoch 57/300\n",
            "115/115 [==============================] - 0s 2ms/step - loss: 556.2217 - mae: 553.2716 - val_loss: 503.6985 - val_mae: 500.7003\n",
            "Epoch 58/300\n",
            "115/115 [==============================] - 0s 3ms/step - loss: 556.2274 - mae: 553.2198 - val_loss: 503.5886 - val_mae: 500.5876\n",
            "Epoch 59/300\n",
            "115/115 [==============================] - 0s 3ms/step - loss: 556.1276 - mae: 553.1313 - val_loss: 503.6978 - val_mae: 500.7172\n",
            "Epoch 60/300\n",
            "115/115 [==============================] - 0s 3ms/step - loss: 556.1631 - mae: 553.1599 - val_loss: 503.5724 - val_mae: 500.6058\n",
            "Epoch 61/300\n",
            "115/115 [==============================] - 0s 3ms/step - loss: 556.1155 - mae: 553.1216 - val_loss: 503.6364 - val_mae: 500.6544\n",
            "Epoch 62/300\n",
            "115/115 [==============================] - 0s 3ms/step - loss: 556.0439 - mae: 553.0671 - val_loss: 503.5811 - val_mae: 500.5943\n",
            "Epoch 63/300\n",
            "115/115 [==============================] - 1s 7ms/step - loss: 556.0353 - mae: 553.0623 - val_loss: 503.6053 - val_mae: 500.6009\n",
            "Epoch 64/300\n",
            "115/115 [==============================] - 0s 3ms/step - loss: 556.0804 - mae: 553.0753 - val_loss: 503.5625 - val_mae: 500.5743\n",
            "Epoch 65/300\n",
            "115/115 [==============================] - 1s 7ms/step - loss: 556.0365 - mae: 553.0311 - val_loss: 503.5921 - val_mae: 500.6131\n",
            "Epoch 66/300\n",
            "115/115 [==============================] - 0s 3ms/step - loss: 555.9642 - mae: 552.9816 - val_loss: 503.6195 - val_mae: 500.6345\n",
            "Epoch 67/300\n",
            "115/115 [==============================] - 0s 3ms/step - loss: 555.9518 - mae: 552.9581 - val_loss: 503.6688 - val_mae: 500.6750\n",
            "Epoch 68/300\n",
            "115/115 [==============================] - 0s 3ms/step - loss: 555.9460 - mae: 552.9551 - val_loss: 503.6169 - val_mae: 500.6291\n",
            "Epoch 69/300\n",
            "115/115 [==============================] - 0s 3ms/step - loss: 555.8821 - mae: 552.8794 - val_loss: 503.6019 - val_mae: 500.6051\n",
            "Epoch 70/300\n",
            "115/115 [==============================] - 0s 3ms/step - loss: 555.8868 - mae: 552.8798 - val_loss: 503.6434 - val_mae: 500.6562\n",
            "Epoch 71/300\n",
            "115/115 [==============================] - 0s 3ms/step - loss: 555.8662 - mae: 552.8770 - val_loss: 503.6367 - val_mae: 500.6594\n",
            "Epoch 72/300\n",
            "115/115 [==============================] - 0s 3ms/step - loss: 555.8340 - mae: 552.8219 - val_loss: 503.6916 - val_mae: 500.7093\n",
            "Epoch 73/300\n",
            "115/115 [==============================] - 0s 3ms/step - loss: 555.8054 - mae: 552.8282 - val_loss: 503.7957 - val_mae: 500.8092\n",
            "Epoch 74/300\n",
            "115/115 [==============================] - 0s 3ms/step - loss: 555.8702 - mae: 552.8872 - val_loss: 503.5184 - val_mae: 500.5204\n",
            "Epoch 75/300\n",
            "115/115 [==============================] - 0s 3ms/step - loss: 555.7005 - mae: 552.7106 - val_loss: 503.5803 - val_mae: 500.5867\n",
            "Epoch 76/300\n",
            "115/115 [==============================] - 0s 3ms/step - loss: 555.7288 - mae: 552.7410 - val_loss: 503.5659 - val_mae: 500.5668\n",
            "Epoch 77/300\n",
            "115/115 [==============================] - 0s 3ms/step - loss: 555.7579 - mae: 552.7786 - val_loss: 503.4956 - val_mae: 500.4705\n",
            "Epoch 78/300\n",
            "115/115 [==============================] - 0s 2ms/step - loss: 555.7047 - mae: 552.6838 - val_loss: 503.5269 - val_mae: 500.5058\n",
            "Epoch 79/300\n",
            "115/115 [==============================] - 0s 3ms/step - loss: 555.6849 - mae: 552.6641 - val_loss: 503.5338 - val_mae: 500.5311\n",
            "Epoch 80/300\n",
            "115/115 [==============================] - 0s 3ms/step - loss: 555.6747 - mae: 552.6790 - val_loss: 503.5341 - val_mae: 500.5446\n",
            "Epoch 81/300\n",
            "115/115 [==============================] - 0s 3ms/step - loss: 555.6360 - mae: 552.6240 - val_loss: 503.6679 - val_mae: 500.6600\n",
            "Epoch 82/300\n",
            "115/115 [==============================] - 0s 3ms/step - loss: 555.6833 - mae: 552.6533 - val_loss: 503.4877 - val_mae: 500.4856\n",
            "Epoch 83/300\n",
            "115/115 [==============================] - 0s 3ms/step - loss: 555.6735 - mae: 552.6782 - val_loss: 503.6647 - val_mae: 500.6670\n",
            "Epoch 84/300\n",
            "115/115 [==============================] - 0s 3ms/step - loss: 555.6579 - mae: 552.6533 - val_loss: 503.5794 - val_mae: 500.5868\n",
            "Epoch 85/300\n",
            "115/115 [==============================] - 0s 3ms/step - loss: 555.5926 - mae: 552.6160 - val_loss: 503.6276 - val_mae: 500.6292\n",
            "Epoch 86/300\n",
            "115/115 [==============================] - 0s 3ms/step - loss: 555.5965 - mae: 552.5894 - val_loss: 503.7005 - val_mae: 500.7006\n",
            "Epoch 87/300\n",
            "115/115 [==============================] - 0s 3ms/step - loss: 555.4969 - mae: 552.4872 - val_loss: 503.6337 - val_mae: 500.6172\n",
            "Epoch 88/300\n",
            "115/115 [==============================] - 0s 3ms/step - loss: 555.4907 - mae: 552.4908 - val_loss: 503.6255 - val_mae: 500.6223\n",
            "Epoch 89/300\n",
            "115/115 [==============================] - 0s 2ms/step - loss: 555.5061 - mae: 552.4904 - val_loss: 503.6736 - val_mae: 500.6696\n",
            "Epoch 90/300\n",
            "115/115 [==============================] - 0s 3ms/step - loss: 555.5161 - mae: 552.5043 - val_loss: 503.6751 - val_mae: 500.6707\n",
            "Epoch 91/300\n",
            "115/115 [==============================] - 0s 3ms/step - loss: 555.4363 - mae: 552.4192 - val_loss: 503.6469 - val_mae: 500.6433\n",
            "Epoch 92/300\n",
            "115/115 [==============================] - 0s 3ms/step - loss: 555.4933 - mae: 552.4822 - val_loss: 503.6528 - val_mae: 500.6284\n",
            "Epoch 93/300\n",
            "115/115 [==============================] - 0s 2ms/step - loss: 555.4332 - mae: 552.4202 - val_loss: 503.7823 - val_mae: 500.7760\n",
            "Epoch 94/300\n",
            "115/115 [==============================] - 0s 3ms/step - loss: 555.3589 - mae: 552.3444 - val_loss: 503.6592 - val_mae: 500.6412\n",
            "Epoch 95/300\n",
            "115/115 [==============================] - 0s 2ms/step - loss: 555.4902 - mae: 552.4927 - val_loss: 503.7512 - val_mae: 500.7378\n",
            "Epoch 96/300\n",
            "115/115 [==============================] - 0s 3ms/step - loss: 555.3646 - mae: 552.3708 - val_loss: 503.6527 - val_mae: 500.6181\n",
            "Epoch 97/300\n",
            "115/115 [==============================] - 0s 2ms/step - loss: 555.3603 - mae: 552.3331 - val_loss: 503.6053 - val_mae: 500.5793\n",
            "Epoch 98/300\n",
            "115/115 [==============================] - 0s 3ms/step - loss: 555.3895 - mae: 552.3908 - val_loss: 503.6299 - val_mae: 500.6131\n",
            "Epoch 99/300\n",
            "115/115 [==============================] - 0s 3ms/step - loss: 555.2764 - mae: 552.2821 - val_loss: 503.8051 - val_mae: 500.7623\n",
            "Epoch 100/300\n",
            "115/115 [==============================] - 0s 2ms/step - loss: 555.3245 - mae: 552.2613 - val_loss: 503.6789 - val_mae: 500.6309\n",
            "Epoch 101/300\n",
            "115/115 [==============================] - 0s 2ms/step - loss: 555.2208 - mae: 552.1783 - val_loss: 503.7756 - val_mae: 500.7280\n",
            "Epoch 102/300\n",
            "115/115 [==============================] - 0s 3ms/step - loss: 555.2314 - mae: 552.1614 - val_loss: 503.7675 - val_mae: 500.7234\n",
            "Epoch 103/300\n",
            "115/115 [==============================] - 0s 3ms/step - loss: 555.2507 - mae: 552.2086 - val_loss: 503.8340 - val_mae: 500.7977\n",
            "Epoch 104/300\n",
            "115/115 [==============================] - 0s 3ms/step - loss: 555.1896 - mae: 552.1474 - val_loss: 503.8958 - val_mae: 500.8441\n",
            "Epoch 105/300\n",
            "115/115 [==============================] - 0s 2ms/step - loss: 555.2100 - mae: 552.1766 - val_loss: 503.8866 - val_mae: 500.8425\n",
            "Epoch 106/300\n",
            "115/115 [==============================] - 0s 3ms/step - loss: 555.1999 - mae: 552.1533 - val_loss: 503.8686 - val_mae: 500.8255\n",
            "Epoch 107/300\n",
            "115/115 [==============================] - 0s 3ms/step - loss: 555.1830 - mae: 552.1386 - val_loss: 504.0412 - val_mae: 500.9918\n",
            "Epoch 108/300\n",
            "115/115 [==============================] - 0s 3ms/step - loss: 555.1409 - mae: 552.0961 - val_loss: 504.0010 - val_mae: 500.9352\n",
            "Epoch 109/300\n",
            "115/115 [==============================] - 0s 3ms/step - loss: 555.1144 - mae: 552.0371 - val_loss: 504.0211 - val_mae: 500.9667\n",
            "Epoch 110/300\n",
            "115/115 [==============================] - 0s 3ms/step - loss: 555.1087 - mae: 552.0572 - val_loss: 504.0565 - val_mae: 501.0043\n",
            "Epoch 111/300\n",
            "115/115 [==============================] - 0s 3ms/step - loss: 555.1291 - mae: 552.0779 - val_loss: 504.0707 - val_mae: 500.9934\n",
            "Epoch 112/300\n",
            "115/115 [==============================] - 0s 4ms/step - loss: 555.1268 - mae: 552.0631 - val_loss: 504.0083 - val_mae: 500.9291\n",
            "Epoch 113/300\n",
            "115/115 [==============================] - 0s 3ms/step - loss: 555.0956 - mae: 552.0090 - val_loss: 504.2197 - val_mae: 501.1422\n",
            "Epoch 114/300\n",
            "115/115 [==============================] - 0s 3ms/step - loss: 555.0353 - mae: 551.9576 - val_loss: 504.1481 - val_mae: 501.0758\n",
            "Epoch 115/300\n",
            "115/115 [==============================] - 0s 3ms/step - loss: 555.0265 - mae: 551.9460 - val_loss: 504.4352 - val_mae: 501.3584\n",
            "Epoch 116/300\n",
            "115/115 [==============================] - 0s 3ms/step - loss: 555.0455 - mae: 551.9641 - val_loss: 504.2943 - val_mae: 501.2302\n",
            "Epoch 117/300\n",
            "115/115 [==============================] - 0s 3ms/step - loss: 555.0007 - mae: 551.9240 - val_loss: 504.3093 - val_mae: 501.2296\n",
            "Epoch 118/300\n",
            "115/115 [==============================] - 0s 3ms/step - loss: 555.0204 - mae: 551.9185 - val_loss: 504.2894 - val_mae: 501.2002\n",
            "Epoch 119/300\n",
            "115/115 [==============================] - 0s 3ms/step - loss: 554.9952 - mae: 551.9269 - val_loss: 504.4958 - val_mae: 501.4148\n",
            "Epoch 120/300\n",
            "115/115 [==============================] - 0s 3ms/step - loss: 555.0127 - mae: 551.9222 - val_loss: 504.4049 - val_mae: 501.3189\n",
            "Epoch 121/300\n",
            "115/115 [==============================] - 0s 3ms/step - loss: 554.9516 - mae: 551.8915 - val_loss: 504.3788 - val_mae: 501.2751\n",
            "Epoch 122/300\n",
            "115/115 [==============================] - 0s 3ms/step - loss: 555.0195 - mae: 551.9172 - val_loss: 504.4861 - val_mae: 501.3896\n",
            "Epoch 123/300\n",
            "115/115 [==============================] - 0s 3ms/step - loss: 554.8976 - mae: 551.8008 - val_loss: 504.4406 - val_mae: 501.3129\n",
            "Epoch 124/300\n",
            "115/115 [==============================] - 0s 3ms/step - loss: 554.8887 - mae: 551.7946 - val_loss: 504.3093 - val_mae: 501.1990\n",
            "Epoch 125/300\n",
            "115/115 [==============================] - 0s 3ms/step - loss: 554.8861 - mae: 551.7867 - val_loss: 504.4697 - val_mae: 501.3436\n",
            "Epoch 126/300\n",
            "115/115 [==============================] - 0s 3ms/step - loss: 554.8761 - mae: 551.7596 - val_loss: 504.5737 - val_mae: 501.4422\n",
            "Epoch 127/300\n",
            "115/115 [==============================] - 0s 3ms/step - loss: 554.8525 - mae: 551.7399 - val_loss: 504.6656 - val_mae: 501.5247\n",
            "Epoch 128/300\n",
            "115/115 [==============================] - 0s 3ms/step - loss: 554.8301 - mae: 551.6940 - val_loss: 504.5457 - val_mae: 501.4336\n",
            "Epoch 129/300\n",
            "115/115 [==============================] - 0s 3ms/step - loss: 554.8361 - mae: 551.7109 - val_loss: 504.7728 - val_mae: 501.6462\n",
            "Epoch 130/300\n",
            "115/115 [==============================] - 0s 3ms/step - loss: 554.7801 - mae: 551.6573 - val_loss: 504.6491 - val_mae: 501.5097\n",
            "Epoch 131/300\n",
            "115/115 [==============================] - 0s 3ms/step - loss: 554.7430 - mae: 551.5990 - val_loss: 504.8277 - val_mae: 501.6915\n",
            "Epoch 132/300\n",
            "115/115 [==============================] - 0s 3ms/step - loss: 554.7542 - mae: 551.6326 - val_loss: 504.8059 - val_mae: 501.6776\n",
            "Epoch 133/300\n",
            "115/115 [==============================] - 0s 3ms/step - loss: 554.8209 - mae: 551.6904 - val_loss: 504.8053 - val_mae: 501.6638\n",
            "Epoch 134/300\n",
            "115/115 [==============================] - 0s 3ms/step - loss: 554.7252 - mae: 551.5798 - val_loss: 504.9490 - val_mae: 501.8249\n",
            "Epoch 135/300\n",
            "115/115 [==============================] - 0s 3ms/step - loss: 554.7001 - mae: 551.5522 - val_loss: 504.9711 - val_mae: 501.8417\n",
            "Epoch 136/300\n",
            "115/115 [==============================] - 0s 3ms/step - loss: 554.7291 - mae: 551.5787 - val_loss: 504.9995 - val_mae: 501.8689\n",
            "Epoch 137/300\n",
            "115/115 [==============================] - 0s 3ms/step - loss: 554.8157 - mae: 551.6672 - val_loss: 504.8188 - val_mae: 501.6895\n",
            "Epoch 138/300\n",
            "115/115 [==============================] - 0s 3ms/step - loss: 554.6913 - mae: 551.5643 - val_loss: 504.8297 - val_mae: 501.6768\n",
            "Epoch 139/300\n",
            "115/115 [==============================] - 0s 3ms/step - loss: 554.6969 - mae: 551.5378 - val_loss: 504.8736 - val_mae: 501.7461\n",
            "Epoch 140/300\n",
            "115/115 [==============================] - 0s 3ms/step - loss: 554.6979 - mae: 551.5763 - val_loss: 504.8609 - val_mae: 501.7217\n",
            "Epoch 141/300\n",
            "115/115 [==============================] - 0s 3ms/step - loss: 554.6964 - mae: 551.5498 - val_loss: 504.8807 - val_mae: 501.7358\n",
            "Epoch 142/300\n",
            "115/115 [==============================] - 0s 3ms/step - loss: 554.6779 - mae: 551.5246 - val_loss: 504.9761 - val_mae: 501.8202\n",
            "Epoch 143/300\n",
            "115/115 [==============================] - 0s 3ms/step - loss: 554.6661 - mae: 551.5040 - val_loss: 504.8516 - val_mae: 501.6957\n",
            "Epoch 144/300\n",
            "115/115 [==============================] - 0s 3ms/step - loss: 554.6559 - mae: 551.5114 - val_loss: 504.7651 - val_mae: 501.6181\n",
            "Epoch 145/300\n",
            "115/115 [==============================] - 0s 3ms/step - loss: 554.5940 - mae: 551.4372 - val_loss: 504.8056 - val_mae: 501.6602\n",
            "Epoch 146/300\n",
            "115/115 [==============================] - 0s 3ms/step - loss: 554.6169 - mae: 551.4682 - val_loss: 504.8054 - val_mae: 501.6544\n",
            "Epoch 147/300\n",
            "115/115 [==============================] - 0s 3ms/step - loss: 554.6247 - mae: 551.4491 - val_loss: 504.9404 - val_mae: 501.7680\n",
            "Epoch 148/300\n",
            "115/115 [==============================] - 0s 3ms/step - loss: 554.6113 - mae: 551.4349 - val_loss: 504.7119 - val_mae: 501.5717\n",
            "Epoch 149/300\n",
            "115/115 [==============================] - 0s 3ms/step - loss: 554.6287 - mae: 551.4647 - val_loss: 504.8696 - val_mae: 501.7067\n",
            "Epoch 150/300\n",
            "115/115 [==============================] - 0s 3ms/step - loss: 554.6229 - mae: 551.4609 - val_loss: 505.0190 - val_mae: 501.8429\n",
            "Epoch 151/300\n",
            "115/115 [==============================] - 0s 3ms/step - loss: 554.5757 - mae: 551.3989 - val_loss: 504.7793 - val_mae: 501.6096\n",
            "Epoch 152/300\n",
            "115/115 [==============================] - 0s 3ms/step - loss: 554.5463 - mae: 551.3801 - val_loss: 504.8570 - val_mae: 501.6938\n",
            "Epoch 153/300\n",
            "115/115 [==============================] - 0s 3ms/step - loss: 554.5862 - mae: 551.4302 - val_loss: 504.9280 - val_mae: 501.7408\n",
            "Epoch 154/300\n",
            "115/115 [==============================] - 0s 3ms/step - loss: 554.5297 - mae: 551.3630 - val_loss: 504.8816 - val_mae: 501.7022\n",
            "Epoch 155/300\n",
            "115/115 [==============================] - 0s 3ms/step - loss: 554.5674 - mae: 551.3875 - val_loss: 504.9193 - val_mae: 501.7591\n",
            "Epoch 156/300\n",
            "115/115 [==============================] - 0s 3ms/step - loss: 554.5094 - mae: 551.3276 - val_loss: 504.7716 - val_mae: 501.5847\n",
            "Epoch 157/300\n",
            "115/115 [==============================] - 0s 3ms/step - loss: 554.5123 - mae: 551.3595 - val_loss: 504.8410 - val_mae: 501.6561\n",
            "Epoch 158/300\n",
            "115/115 [==============================] - 0s 3ms/step - loss: 554.5058 - mae: 551.3005 - val_loss: 504.7713 - val_mae: 501.5907\n",
            "Epoch 159/300\n",
            "115/115 [==============================] - 0s 3ms/step - loss: 554.4819 - mae: 551.3027 - val_loss: 504.8264 - val_mae: 501.6472\n",
            "Epoch 160/300\n",
            "115/115 [==============================] - 0s 3ms/step - loss: 554.5099 - mae: 551.3028 - val_loss: 504.8172 - val_mae: 501.6507\n",
            "Epoch 161/300\n",
            "115/115 [==============================] - 0s 3ms/step - loss: 554.4824 - mae: 551.2950 - val_loss: 504.7526 - val_mae: 501.5675\n",
            "Epoch 162/300\n",
            "115/115 [==============================] - 0s 3ms/step - loss: 554.4565 - mae: 551.2577 - val_loss: 504.7595 - val_mae: 501.5655\n",
            "Epoch 163/300\n",
            "115/115 [==============================] - 0s 3ms/step - loss: 554.4603 - mae: 551.2623 - val_loss: 504.8711 - val_mae: 501.6680\n",
            "Epoch 164/300\n",
            "115/115 [==============================] - 0s 3ms/step - loss: 554.4083 - mae: 551.2080 - val_loss: 504.8261 - val_mae: 501.6179\n",
            "Epoch 165/300\n",
            "115/115 [==============================] - 0s 3ms/step - loss: 554.4218 - mae: 551.2220 - val_loss: 505.0459 - val_mae: 501.8370\n",
            "Epoch 166/300\n",
            "115/115 [==============================] - 0s 3ms/step - loss: 554.4324 - mae: 551.2247 - val_loss: 504.9832 - val_mae: 501.7638\n",
            "Epoch 167/300\n",
            "115/115 [==============================] - 0s 3ms/step - loss: 554.5363 - mae: 551.3000 - val_loss: 504.8776 - val_mae: 501.6783\n",
            "Epoch 168/300\n",
            "115/115 [==============================] - 0s 3ms/step - loss: 554.4368 - mae: 551.2269 - val_loss: 504.6558 - val_mae: 501.4641\n",
            "Epoch 169/300\n",
            "115/115 [==============================] - 0s 3ms/step - loss: 554.3806 - mae: 551.1835 - val_loss: 504.6707 - val_mae: 501.4665\n",
            "Epoch 170/300\n",
            "115/115 [==============================] - 0s 3ms/step - loss: 554.4167 - mae: 551.2103 - val_loss: 504.8073 - val_mae: 501.6011\n",
            "Epoch 171/300\n",
            "115/115 [==============================] - 0s 3ms/step - loss: 554.3651 - mae: 551.1451 - val_loss: 504.7094 - val_mae: 501.4991\n",
            "Epoch 172/300\n",
            "115/115 [==============================] - 0s 3ms/step - loss: 554.3956 - mae: 551.1901 - val_loss: 504.8713 - val_mae: 501.6681\n",
            "Epoch 173/300\n",
            "115/115 [==============================] - 0s 3ms/step - loss: 554.3995 - mae: 551.1643 - val_loss: 504.8041 - val_mae: 501.5752\n",
            "Epoch 174/300\n",
            "115/115 [==============================] - 0s 3ms/step - loss: 554.3837 - mae: 551.1398 - val_loss: 504.7975 - val_mae: 501.5851\n",
            "Epoch 175/300\n",
            "115/115 [==============================] - 0s 3ms/step - loss: 554.3882 - mae: 551.1904 - val_loss: 504.7457 - val_mae: 501.5308\n",
            "Epoch 176/300\n",
            "115/115 [==============================] - 0s 3ms/step - loss: 554.4181 - mae: 551.1810 - val_loss: 504.7932 - val_mae: 501.5663\n",
            "Epoch 177/300\n",
            "115/115 [==============================] - 0s 3ms/step - loss: 554.4589 - mae: 551.2285 - val_loss: 504.6941 - val_mae: 501.4831\n",
            "Epoch 178/300\n",
            "115/115 [==============================] - 0s 3ms/step - loss: 554.3868 - mae: 551.1549 - val_loss: 504.7264 - val_mae: 501.5143\n",
            "Epoch 179/300\n",
            "115/115 [==============================] - 0s 3ms/step - loss: 554.3565 - mae: 551.1219 - val_loss: 504.6272 - val_mae: 501.4139\n",
            "Epoch 180/300\n",
            "115/115 [==============================] - 0s 3ms/step - loss: 554.3362 - mae: 551.1171 - val_loss: 504.5382 - val_mae: 501.3178\n",
            "Epoch 181/300\n",
            "115/115 [==============================] - 0s 3ms/step - loss: 554.3489 - mae: 551.1283 - val_loss: 504.6710 - val_mae: 501.4045\n",
            "Epoch 182/300\n",
            "115/115 [==============================] - 0s 3ms/step - loss: 554.2776 - mae: 551.0266 - val_loss: 504.5089 - val_mae: 501.2820\n",
            "Epoch 183/300\n",
            "115/115 [==============================] - 0s 3ms/step - loss: 554.3169 - mae: 551.0688 - val_loss: 504.5962 - val_mae: 501.3628\n",
            "Epoch 184/300\n",
            "115/115 [==============================] - 0s 3ms/step - loss: 554.2985 - mae: 551.0588 - val_loss: 504.5048 - val_mae: 501.2424\n",
            "Epoch 185/300\n",
            "115/115 [==============================] - 0s 3ms/step - loss: 554.3162 - mae: 551.0674 - val_loss: 504.6730 - val_mae: 501.4063\n",
            "Epoch 186/300\n",
            "115/115 [==============================] - 0s 3ms/step - loss: 554.2695 - mae: 551.0065 - val_loss: 504.7504 - val_mae: 501.4834\n",
            "Epoch 187/300\n",
            "115/115 [==============================] - 0s 3ms/step - loss: 554.3154 - mae: 551.0567 - val_loss: 504.7814 - val_mae: 501.4977\n",
            "Epoch 188/300\n",
            "115/115 [==============================] - 0s 3ms/step - loss: 554.2822 - mae: 551.0209 - val_loss: 504.5291 - val_mae: 501.2652\n",
            "Epoch 189/300\n",
            "115/115 [==============================] - 0s 3ms/step - loss: 554.3089 - mae: 551.0289 - val_loss: 504.6045 - val_mae: 501.3409\n",
            "Epoch 190/300\n",
            "115/115 [==============================] - 0s 3ms/step - loss: 554.3082 - mae: 551.0364 - val_loss: 504.7555 - val_mae: 501.4872\n",
            "Epoch 191/300\n",
            "115/115 [==============================] - 0s 3ms/step - loss: 554.2842 - mae: 551.0120 - val_loss: 504.4597 - val_mae: 501.2063\n",
            "Epoch 192/300\n",
            "115/115 [==============================] - 0s 3ms/step - loss: 554.2083 - mae: 550.9410 - val_loss: 504.5788 - val_mae: 501.3099\n",
            "Epoch 193/300\n",
            "115/115 [==============================] - 0s 3ms/step - loss: 554.2709 - mae: 550.9982 - val_loss: 504.5582 - val_mae: 501.2938\n",
            "Epoch 194/300\n",
            "115/115 [==============================] - 0s 3ms/step - loss: 554.2565 - mae: 550.9864 - val_loss: 504.5039 - val_mae: 501.2417\n",
            "Epoch 195/300\n",
            "115/115 [==============================] - 0s 3ms/step - loss: 554.2256 - mae: 550.9562 - val_loss: 504.5198 - val_mae: 501.2483\n",
            "Epoch 196/300\n",
            "115/115 [==============================] - 0s 3ms/step - loss: 554.1541 - mae: 550.8644 - val_loss: 504.5553 - val_mae: 501.2901\n",
            "Epoch 197/300\n",
            "115/115 [==============================] - 0s 3ms/step - loss: 554.2824 - mae: 551.0130 - val_loss: 504.6007 - val_mae: 501.3252\n",
            "Epoch 198/300\n",
            "115/115 [==============================] - 0s 3ms/step - loss: 554.2148 - mae: 550.9385 - val_loss: 504.6573 - val_mae: 501.3731\n",
            "Epoch 199/300\n",
            "115/115 [==============================] - 0s 3ms/step - loss: 554.2934 - mae: 551.0131 - val_loss: 504.5916 - val_mae: 501.2939\n",
            "Epoch 200/300\n",
            "115/115 [==============================] - 0s 3ms/step - loss: 554.2067 - mae: 550.9144 - val_loss: 504.6878 - val_mae: 501.3764\n",
            "Epoch 201/300\n",
            "115/115 [==============================] - 0s 3ms/step - loss: 554.1145 - mae: 550.7993 - val_loss: 504.7419 - val_mae: 501.4540\n",
            "Epoch 202/300\n",
            "115/115 [==============================] - 0s 3ms/step - loss: 554.2451 - mae: 550.9609 - val_loss: 504.6893 - val_mae: 501.3915\n",
            "Epoch 203/300\n",
            "115/115 [==============================] - 0s 3ms/step - loss: 554.1655 - mae: 550.8604 - val_loss: 504.5228 - val_mae: 501.2266\n",
            "Epoch 204/300\n",
            "115/115 [==============================] - 0s 3ms/step - loss: 554.2224 - mae: 550.9069 - val_loss: 504.6648 - val_mae: 501.3578\n",
            "Epoch 205/300\n",
            "115/115 [==============================] - 0s 3ms/step - loss: 554.1526 - mae: 550.8476 - val_loss: 504.5557 - val_mae: 501.2698\n",
            "Epoch 206/300\n",
            "115/115 [==============================] - 0s 3ms/step - loss: 554.1415 - mae: 550.8477 - val_loss: 504.5030 - val_mae: 501.2054\n",
            "Epoch 207/300\n",
            "115/115 [==============================] - 0s 3ms/step - loss: 554.1523 - mae: 550.8536 - val_loss: 504.3367 - val_mae: 501.0274\n",
            "Epoch 208/300\n",
            "115/115 [==============================] - 0s 3ms/step - loss: 554.1904 - mae: 550.9002 - val_loss: 504.5797 - val_mae: 501.2690\n",
            "Epoch 209/300\n",
            "115/115 [==============================] - 0s 3ms/step - loss: 554.1631 - mae: 550.8701 - val_loss: 504.5223 - val_mae: 501.2106\n",
            "Epoch 210/300\n",
            "115/115 [==============================] - 0s 3ms/step - loss: 554.1520 - mae: 550.8406 - val_loss: 504.5059 - val_mae: 501.1893\n",
            "Epoch 211/300\n",
            "115/115 [==============================] - 0s 3ms/step - loss: 554.1310 - mae: 550.8095 - val_loss: 504.6749 - val_mae: 501.3753\n",
            "Epoch 212/300\n",
            "115/115 [==============================] - 0s 3ms/step - loss: 554.1644 - mae: 550.8560 - val_loss: 504.5107 - val_mae: 501.1870\n",
            "Epoch 213/300\n",
            "115/115 [==============================] - 0s 3ms/step - loss: 554.1435 - mae: 550.8400 - val_loss: 504.4567 - val_mae: 501.1291\n",
            "Epoch 214/300\n",
            "115/115 [==============================] - 0s 3ms/step - loss: 554.1599 - mae: 550.8209 - val_loss: 504.4307 - val_mae: 501.1158\n",
            "Epoch 215/300\n",
            "115/115 [==============================] - 0s 3ms/step - loss: 554.0579 - mae: 550.7271 - val_loss: 504.5110 - val_mae: 501.2105\n",
            "Epoch 216/300\n",
            "115/115 [==============================] - 0s 3ms/step - loss: 554.1240 - mae: 550.8378 - val_loss: 504.4530 - val_mae: 501.1123\n",
            "Epoch 217/300\n",
            "115/115 [==============================] - 0s 3ms/step - loss: 554.1210 - mae: 550.7870 - val_loss: 504.3939 - val_mae: 501.0550\n",
            "Epoch 218/300\n",
            "115/115 [==============================] - 0s 3ms/step - loss: 554.1283 - mae: 550.7896 - val_loss: 504.2891 - val_mae: 500.9322\n",
            "Epoch 219/300\n",
            "115/115 [==============================] - 0s 3ms/step - loss: 554.0992 - mae: 550.7618 - val_loss: 504.5089 - val_mae: 501.1736\n",
            "Epoch 220/300\n",
            "115/115 [==============================] - 0s 3ms/step - loss: 554.1044 - mae: 550.7778 - val_loss: 504.4636 - val_mae: 501.1406\n",
            "Epoch 221/300\n",
            "115/115 [==============================] - 0s 3ms/step - loss: 554.0598 - mae: 550.7266 - val_loss: 504.4751 - val_mae: 501.1407\n",
            "Epoch 222/300\n",
            "115/115 [==============================] - 0s 3ms/step - loss: 554.0697 - mae: 550.7279 - val_loss: 504.4692 - val_mae: 501.1481\n",
            "Epoch 223/300\n",
            "115/115 [==============================] - 0s 3ms/step - loss: 554.0579 - mae: 550.7136 - val_loss: 504.3749 - val_mae: 501.0392\n",
            "Epoch 224/300\n",
            "115/115 [==============================] - 0s 3ms/step - loss: 554.0351 - mae: 550.7004 - val_loss: 504.3732 - val_mae: 501.0265\n",
            "Epoch 225/300\n",
            "115/115 [==============================] - 0s 3ms/step - loss: 554.0377 - mae: 550.6899 - val_loss: 504.3609 - val_mae: 501.0027\n",
            "Epoch 226/300\n",
            "115/115 [==============================] - 0s 3ms/step - loss: 554.0616 - mae: 550.7027 - val_loss: 504.3405 - val_mae: 500.9730\n",
            "Epoch 227/300\n",
            "115/115 [==============================] - 0s 3ms/step - loss: 554.1085 - mae: 550.7485 - val_loss: 504.5454 - val_mae: 501.2041\n",
            "Epoch 228/300\n",
            "115/115 [==============================] - 0s 3ms/step - loss: 554.0394 - mae: 550.6971 - val_loss: 504.4413 - val_mae: 501.0824\n",
            "Epoch 229/300\n",
            "115/115 [==============================] - 0s 3ms/step - loss: 554.0623 - mae: 550.6918 - val_loss: 504.4752 - val_mae: 501.1089\n",
            "Epoch 230/300\n",
            "115/115 [==============================] - 0s 3ms/step - loss: 553.9980 - mae: 550.6323 - val_loss: 504.3202 - val_mae: 500.9533\n",
            "Epoch 231/300\n",
            "115/115 [==============================] - 0s 3ms/step - loss: 554.0502 - mae: 550.6989 - val_loss: 504.4116 - val_mae: 501.0458\n",
            "Epoch 232/300\n",
            "115/115 [==============================] - 0s 3ms/step - loss: 554.0647 - mae: 550.6689 - val_loss: 504.3791 - val_mae: 501.0233\n",
            "Epoch 233/300\n",
            "115/115 [==============================] - 0s 3ms/step - loss: 554.0317 - mae: 550.6716 - val_loss: 504.2675 - val_mae: 500.9013\n",
            "Epoch 234/300\n",
            "115/115 [==============================] - 0s 3ms/step - loss: 553.9987 - mae: 550.6432 - val_loss: 504.3783 - val_mae: 500.9752\n",
            "Epoch 235/300\n",
            "115/115 [==============================] - 0s 3ms/step - loss: 553.9946 - mae: 550.6059 - val_loss: 504.2757 - val_mae: 500.9001\n",
            "Epoch 236/300\n",
            "115/115 [==============================] - 0s 3ms/step - loss: 554.0490 - mae: 550.6619 - val_loss: 504.3179 - val_mae: 500.9358\n",
            "Epoch 237/300\n",
            "115/115 [==============================] - 0s 3ms/step - loss: 553.9956 - mae: 550.6072 - val_loss: 504.3304 - val_mae: 500.9607\n",
            "Epoch 238/300\n",
            "115/115 [==============================] - 0s 3ms/step - loss: 553.9745 - mae: 550.6047 - val_loss: 504.2504 - val_mae: 500.8724\n",
            "Epoch 239/300\n",
            "115/115 [==============================] - 0s 3ms/step - loss: 554.0323 - mae: 550.6480 - val_loss: 504.3367 - val_mae: 500.9397\n",
            "Epoch 240/300\n",
            "115/115 [==============================] - 0s 3ms/step - loss: 553.9726 - mae: 550.5856 - val_loss: 504.5289 - val_mae: 501.1234\n",
            "Epoch 241/300\n",
            "115/115 [==============================] - 0s 3ms/step - loss: 553.9664 - mae: 550.5446 - val_loss: 504.4153 - val_mae: 501.0287\n",
            "Epoch 242/300\n",
            "115/115 [==============================] - 0s 3ms/step - loss: 553.9894 - mae: 550.5843 - val_loss: 504.3462 - val_mae: 500.9546\n",
            "Epoch 243/300\n",
            "115/115 [==============================] - 0s 3ms/step - loss: 553.9763 - mae: 550.5873 - val_loss: 504.3666 - val_mae: 500.9572\n",
            "Epoch 244/300\n",
            "115/115 [==============================] - 0s 3ms/step - loss: 553.9573 - mae: 550.5316 - val_loss: 504.1784 - val_mae: 500.7797\n",
            "Epoch 245/300\n",
            "115/115 [==============================] - 0s 3ms/step - loss: 553.9491 - mae: 550.5498 - val_loss: 504.1257 - val_mae: 500.7262\n",
            "Epoch 246/300\n",
            "115/115 [==============================] - 0s 3ms/step - loss: 553.9667 - mae: 550.5518 - val_loss: 504.2064 - val_mae: 500.7978\n",
            "Epoch 247/300\n",
            "115/115 [==============================] - 0s 3ms/step - loss: 554.0912 - mae: 550.6962 - val_loss: 504.2461 - val_mae: 500.8230\n",
            "Epoch 248/300\n",
            "115/115 [==============================] - 0s 3ms/step - loss: 554.0276 - mae: 550.6142 - val_loss: 504.2837 - val_mae: 500.8496\n",
            "Epoch 249/300\n",
            "115/115 [==============================] - 0s 3ms/step - loss: 553.9750 - mae: 550.5471 - val_loss: 504.2218 - val_mae: 500.7982\n",
            "Epoch 250/300\n",
            "115/115 [==============================] - 0s 3ms/step - loss: 553.9550 - mae: 550.5461 - val_loss: 504.1518 - val_mae: 500.7288\n",
            "Epoch 251/300\n",
            "115/115 [==============================] - 0s 3ms/step - loss: 553.9822 - mae: 550.5287 - val_loss: 504.3483 - val_mae: 500.9158\n",
            "Epoch 252/300\n",
            "115/115 [==============================] - 0s 3ms/step - loss: 553.9348 - mae: 550.5109 - val_loss: 504.2485 - val_mae: 500.8205\n",
            "Epoch 253/300\n",
            "115/115 [==============================] - 0s 3ms/step - loss: 553.8958 - mae: 550.4641 - val_loss: 504.2764 - val_mae: 500.8327\n",
            "Epoch 254/300\n",
            "115/115 [==============================] - 0s 3ms/step - loss: 553.8744 - mae: 550.4357 - val_loss: 504.0562 - val_mae: 500.6266\n",
            "Epoch 255/300\n",
            "115/115 [==============================] - 0s 3ms/step - loss: 553.9229 - mae: 550.4751 - val_loss: 504.2375 - val_mae: 500.7882\n",
            "Epoch 256/300\n",
            "115/115 [==============================] - 0s 3ms/step - loss: 553.8710 - mae: 550.4280 - val_loss: 504.2705 - val_mae: 500.8392\n",
            "Epoch 257/300\n",
            "115/115 [==============================] - 0s 3ms/step - loss: 553.9590 - mae: 550.5049 - val_loss: 504.1498 - val_mae: 500.7027\n",
            "Epoch 258/300\n",
            "115/115 [==============================] - 0s 3ms/step - loss: 553.8944 - mae: 550.4583 - val_loss: 504.2713 - val_mae: 500.8141\n",
            "Epoch 259/300\n",
            "115/115 [==============================] - 0s 3ms/step - loss: 553.8890 - mae: 550.4329 - val_loss: 504.1989 - val_mae: 500.7349\n",
            "Epoch 260/300\n",
            "115/115 [==============================] - 0s 3ms/step - loss: 553.8973 - mae: 550.4348 - val_loss: 504.1336 - val_mae: 500.6747\n",
            "Epoch 261/300\n",
            "115/115 [==============================] - 0s 3ms/step - loss: 553.8797 - mae: 550.4114 - val_loss: 504.0258 - val_mae: 500.5457\n",
            "Epoch 262/300\n",
            "115/115 [==============================] - 0s 3ms/step - loss: 553.8660 - mae: 550.4005 - val_loss: 504.1099 - val_mae: 500.6425\n",
            "Epoch 263/300\n",
            "115/115 [==============================] - 0s 3ms/step - loss: 553.8521 - mae: 550.3829 - val_loss: 504.1707 - val_mae: 500.7050\n",
            "Epoch 264/300\n",
            "115/115 [==============================] - 0s 3ms/step - loss: 553.8152 - mae: 550.3509 - val_loss: 504.0952 - val_mae: 500.6169\n",
            "Epoch 265/300\n",
            "115/115 [==============================] - 0s 3ms/step - loss: 553.8249 - mae: 550.3482 - val_loss: 504.2581 - val_mae: 500.7547\n",
            "Epoch 266/300\n",
            "115/115 [==============================] - 0s 3ms/step - loss: 553.8637 - mae: 550.3443 - val_loss: 504.1296 - val_mae: 500.6354\n",
            "Epoch 267/300\n",
            "115/115 [==============================] - 0s 3ms/step - loss: 553.8877 - mae: 550.3837 - val_loss: 504.2507 - val_mae: 500.7584\n",
            "Epoch 268/300\n",
            "115/115 [==============================] - 0s 3ms/step - loss: 553.8226 - mae: 550.3405 - val_loss: 504.0619 - val_mae: 500.5936\n",
            "Epoch 269/300\n",
            "115/115 [==============================] - 0s 3ms/step - loss: 553.8768 - mae: 550.3948 - val_loss: 503.9546 - val_mae: 500.4742\n",
            "Epoch 270/300\n",
            "115/115 [==============================] - 0s 3ms/step - loss: 553.7712 - mae: 550.2939 - val_loss: 504.0124 - val_mae: 500.5111\n",
            "Epoch 271/300\n",
            "115/115 [==============================] - 0s 3ms/step - loss: 553.8220 - mae: 550.3010 - val_loss: 504.1834 - val_mae: 500.6936\n",
            "Epoch 272/300\n",
            "115/115 [==============================] - 0s 3ms/step - loss: 553.8535 - mae: 550.3613 - val_loss: 504.2459 - val_mae: 500.7232\n",
            "Epoch 273/300\n",
            "115/115 [==============================] - 0s 3ms/step - loss: 553.8167 - mae: 550.2999 - val_loss: 503.9905 - val_mae: 500.4873\n",
            "Epoch 274/300\n",
            "115/115 [==============================] - 0s 3ms/step - loss: 553.7773 - mae: 550.2664 - val_loss: 504.0221 - val_mae: 500.5104\n",
            "Epoch 275/300\n",
            "115/115 [==============================] - 0s 3ms/step - loss: 553.7953 - mae: 550.2844 - val_loss: 504.0223 - val_mae: 500.4909\n",
            "Epoch 276/300\n",
            "115/115 [==============================] - 0s 3ms/step - loss: 553.7466 - mae: 550.2211 - val_loss: 504.1858 - val_mae: 500.6730\n",
            "Epoch 277/300\n",
            "115/115 [==============================] - 0s 4ms/step - loss: 553.8116 - mae: 550.2685 - val_loss: 503.9671 - val_mae: 500.4467\n",
            "Epoch 278/300\n",
            "115/115 [==============================] - 0s 3ms/step - loss: 553.8216 - mae: 550.2946 - val_loss: 503.9232 - val_mae: 500.4012\n",
            "Epoch 279/300\n",
            "115/115 [==============================] - 0s 3ms/step - loss: 553.7776 - mae: 550.2520 - val_loss: 504.1906 - val_mae: 500.6593\n",
            "Epoch 280/300\n",
            "115/115 [==============================] - 0s 3ms/step - loss: 553.7163 - mae: 550.1711 - val_loss: 504.1381 - val_mae: 500.5983\n",
            "Epoch 281/300\n",
            "115/115 [==============================] - 0s 3ms/step - loss: 553.7528 - mae: 550.1993 - val_loss: 504.1179 - val_mae: 500.5766\n",
            "Epoch 282/300\n",
            "115/115 [==============================] - 0s 3ms/step - loss: 553.7528 - mae: 550.2297 - val_loss: 503.9485 - val_mae: 500.3896\n",
            "Epoch 283/300\n",
            "115/115 [==============================] - 0s 3ms/step - loss: 553.8105 - mae: 550.2523 - val_loss: 504.0592 - val_mae: 500.5054\n",
            "Epoch 284/300\n",
            "115/115 [==============================] - 0s 3ms/step - loss: 553.7242 - mae: 550.1638 - val_loss: 503.9651 - val_mae: 500.4044\n",
            "Epoch 285/300\n",
            "115/115 [==============================] - 0s 3ms/step - loss: 553.6954 - mae: 550.1396 - val_loss: 503.9641 - val_mae: 500.4184\n",
            "Epoch 286/300\n",
            "115/115 [==============================] - 0s 3ms/step - loss: 553.6853 - mae: 550.1304 - val_loss: 504.0447 - val_mae: 500.4682\n",
            "Epoch 287/300\n",
            "115/115 [==============================] - 0s 3ms/step - loss: 553.6824 - mae: 550.0925 - val_loss: 504.0121 - val_mae: 500.4472\n",
            "Epoch 288/300\n",
            "115/115 [==============================] - 0s 3ms/step - loss: 553.7188 - mae: 550.1583 - val_loss: 504.0855 - val_mae: 500.4992\n",
            "Epoch 289/300\n",
            "115/115 [==============================] - 0s 3ms/step - loss: 553.7123 - mae: 550.1307 - val_loss: 504.0058 - val_mae: 500.4322\n",
            "Epoch 290/300\n",
            "115/115 [==============================] - 0s 3ms/step - loss: 553.7125 - mae: 550.1334 - val_loss: 504.1187 - val_mae: 500.5528\n",
            "Epoch 291/300\n",
            "115/115 [==============================] - 0s 3ms/step - loss: 553.7050 - mae: 550.1226 - val_loss: 504.1556 - val_mae: 500.5505\n",
            "Epoch 292/300\n",
            "115/115 [==============================] - 0s 3ms/step - loss: 553.7303 - mae: 550.1544 - val_loss: 504.0291 - val_mae: 500.4377\n",
            "Epoch 293/300\n",
            "115/115 [==============================] - 0s 3ms/step - loss: 553.6878 - mae: 550.1057 - val_loss: 503.9609 - val_mae: 500.3686\n",
            "Epoch 294/300\n",
            "115/115 [==============================] - 0s 4ms/step - loss: 553.6733 - mae: 550.0734 - val_loss: 503.9336 - val_mae: 500.3409\n",
            "Epoch 295/300\n",
            "115/115 [==============================] - 0s 3ms/step - loss: 553.6765 - mae: 550.0861 - val_loss: 503.9280 - val_mae: 500.3214\n",
            "Epoch 296/300\n",
            "115/115 [==============================] - 0s 3ms/step - loss: 553.7319 - mae: 550.1320 - val_loss: 503.8057 - val_mae: 500.1951\n",
            "Epoch 297/300\n",
            "115/115 [==============================] - 0s 3ms/step - loss: 553.6970 - mae: 550.0687 - val_loss: 503.8241 - val_mae: 500.2199\n",
            "Epoch 298/300\n",
            "115/115 [==============================] - 0s 3ms/step - loss: 553.7124 - mae: 550.0873 - val_loss: 503.8057 - val_mae: 500.1929\n",
            "Epoch 299/300\n",
            "115/115 [==============================] - 0s 3ms/step - loss: 553.7270 - mae: 550.1299 - val_loss: 503.9103 - val_mae: 500.2976\n",
            "Epoch 300/300\n",
            "115/115 [==============================] - 0s 3ms/step - loss: 553.6599 - mae: 550.0245 - val_loss: 503.6037 - val_mae: 499.9807\n"
          ]
        },
        {
          "output_type": "execute_result",
          "data": {
            "text/plain": [
              "<keras.callbacks.History at 0x7fdfe0dd28d0>"
            ]
          },
          "metadata": {},
          "execution_count": 544
        }
      ]
    },
    {
      "cell_type": "code",
      "source": [
        "model.load_weights(\"./drive/MyDrive/ds/item/models/no_rating_reviews_sold_prediction_nn_model_onehot.h5\")"
      ],
      "metadata": {
        "id": "134j2QSSE-2y"
      },
      "execution_count": null,
      "outputs": []
    },
    {
      "cell_type": "code",
      "source": [
        "mae_train = Metrics.computeMAE(y_train, model.predict(X_train).squeeze())\n",
        "mae_val = Metrics.computeMAE(y_val, model.predict(X_val).squeeze())\n",
        "mae_test = Metrics.computeMAE(y_test, model.predict(X_test).squeeze())\n",
        "\n",
        "print(mae_train)\n",
        "print(mae_val)\n",
        "print(mae_test)"
      ],
      "metadata": {
        "colab": {
          "base_uri": "https://localhost:8080/"
        },
        "id": "SCluz53GFAxX",
        "outputId": "baa45fe3-ead2-469d-e08a-191336ffefab"
      },
      "execution_count": null,
      "outputs": [
        {
          "output_type": "stream",
          "name": "stdout",
          "text": [
            "549.7517588061032\n",
            "499.98076884901974\n",
            "422.4294120524961\n"
          ]
        }
      ]
    },
    {
      "cell_type": "code",
      "source": [
        "SIA_train = Metrics.computeSIA(y_train, np.clip(model.predict(X_train), 0,np.inf).squeeze(), 1000)\n",
        "SIA_val = Metrics.computeSIA(y_val, np.clip(model.predict(X_val).squeeze(), 0,np.inf), 1000)\n",
        "SIA_test = Metrics.computeSIA(y_test, np.clip(model.predict(X_test).squeeze(), 0,np.inf), 1000)\n",
        "\n",
        "print(SIA_train)\n",
        "print(SIA_val)\n",
        "print(SIA_test)"
      ],
      "metadata": {
        "colab": {
          "base_uri": "https://localhost:8080/"
        },
        "id": "6qfejtskFCEO",
        "outputId": "d08680ce-a4d5-49a7-dd47-803d710cda51"
      },
      "execution_count": null,
      "outputs": [
        {
          "output_type": "stream",
          "name": "stdout",
          "text": [
            "0.9258099646065886\n",
            "0.9254218835057159\n",
            "0.9261759581881533\n"
          ]
        }
      ]
    },
    {
      "cell_type": "code",
      "source": [
        "SIA_train = Metrics.computeSIA(y_train, np.clip(model.predict(X_train), 0,np.inf).squeeze(), 500)\n",
        "SIA_val = Metrics.computeSIA(y_val, np.clip(model.predict(X_val).squeeze(), 0,np.inf), 500)\n",
        "SIA_test = Metrics.computeSIA(y_test, np.clip(model.predict(X_test).squeeze(), 0,np.inf), 500)\n",
        "\n",
        "print(SIA_train)\n",
        "print(SIA_val)\n",
        "print(SIA_test)"
      ],
      "metadata": {
        "colab": {
          "base_uri": "https://localhost:8080/"
        },
        "id": "lB0wK3reFDTX",
        "outputId": "b933247b-97b3-42fa-9552-e669f47459cc"
      },
      "execution_count": null,
      "outputs": [
        {
          "output_type": "stream",
          "name": "stdout",
          "text": [
            "0.8749659678736728\n",
            "0.8750680457267284\n",
            "0.876088850174216\n"
          ]
        }
      ]
    },
    {
      "cell_type": "code",
      "source": [
        "SIA_train = Metrics.computeSIA(y_train, np.clip(model.predict(X_train), 0,np.inf).squeeze(), 200)\n",
        "SIA_val = Metrics.computeSIA(y_val, np.clip(model.predict(X_val).squeeze(), 0,np.inf), 200)\n",
        "SIA_test = Metrics.computeSIA(y_test, np.clip(model.predict(X_test).squeeze(), 0,np.inf), 200)\n",
        "\n",
        "print(SIA_train)\n",
        "print(SIA_val)\n",
        "print(SIA_test)"
      ],
      "metadata": {
        "colab": {
          "base_uri": "https://localhost:8080/"
        },
        "id": "tNBRfS_ZFEYY",
        "outputId": "49dca68a-343d-441d-c551-4ae11041feea"
      },
      "execution_count": null,
      "outputs": [
        {
          "output_type": "stream",
          "name": "stdout",
          "text": [
            "0.7632044650149742\n",
            "0.7659227000544366\n",
            "0.7619773519163763\n"
          ]
        }
      ]
    }
  ]
}