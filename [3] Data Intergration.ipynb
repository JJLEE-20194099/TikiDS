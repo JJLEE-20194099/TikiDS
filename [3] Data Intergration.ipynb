{
 "cells": [
  {
   "cell_type": "code",
   "execution_count": 1,
   "metadata": {},
   "outputs": [],
   "source": [
    "import pandas as pd\n",
    "import os\n",
    "import numpy"
   ]
  },
  {
   "cell_type": "code",
   "execution_count": 2,
   "metadata": {},
   "outputs": [],
   "source": [
    "raw_data_input_path = './data/crawl_data/categories'"
   ]
  },
  {
   "cell_type": "code",
   "execution_count": 3,
   "metadata": {},
   "outputs": [],
   "source": [
    "if not os.path.exists('./data/intergrated_data'):\n",
    "    os.makedirs('./data/intergrated_data')"
   ]
  },
  {
   "cell_type": "code",
   "execution_count": 4,
   "metadata": {},
   "outputs": [],
   "source": [
    "if not os.path.exists('./data/intergrated_data/item'):\n",
    "    os.makedirs('./data/intergrated_data/item')\n",
    "\n",
    "if not os.path.exists('./data/intergrated_data/rating'):\n",
    "    os.makedirs('./data/intergrated_data/rating')"
   ]
  },
  {
   "cell_type": "code",
   "execution_count": 5,
   "metadata": {},
   "outputs": [],
   "source": [
    "item_detail_list_out_path = './data/intergrated_data/item/detail_list.csv'\n",
    "item_id_list_out_path = './data/intergrated_data/item/id_list.csv'\n",
    "item_overall_list_out_path = './data/intergrated_data/item/overall_list.csv'"
   ]
  },
  {
   "cell_type": "code",
   "execution_count": 6,
   "metadata": {},
   "outputs": [],
   "source": [
    "item_rating_list_out_path = './data/intergrated_data/rating/rating_list.csv'"
   ]
  },
  {
   "cell_type": "code",
   "execution_count": 7,
   "metadata": {},
   "outputs": [],
   "source": [
    "detail_dfs = []\n",
    "id_dfs = []\n",
    "overall_dfs = []\n",
    "rating_dfs = []\n",
    "for category in os.listdir(raw_data_input_path):\n",
    "    item_detail_path = raw_data_input_path + '/' + category + '/item_detail.csv'\n",
    "    item_id_path = raw_data_input_path + '/' + category + '/item_ids.txt'\n",
    "    item_overall_path = raw_data_input_path + '/' + category + '/item_overall.csv'\n",
    "    item_rating_path = raw_data_input_path + '/' + category + '/item_rating.csv'\n",
    "\n",
    "    detail_df = pd.read_csv(item_detail_path, sep=',', encoding='utf-8')\n",
    "    detail_df['main_category'] = [category for i in range(len(detail_df))]\n",
    "    detail_dfs.append(detail_df)\n",
    "\n",
    "    id_df = [id.strip() for id in open(item_id_path, 'r').readlines()]\n",
    "    id_dfs = id_dfs + id_df\n",
    "\n",
    "    overall_df = pd.read_csv(item_overall_path, sep=',', encoding='utf-8')\n",
    "    overall_dfs.append(overall_df)\n",
    "\n",
    "    rating_df = pd.read_csv(item_rating_path, sep=',', encoding='utf-8')\n",
    "    rating_dfs.append(rating_df)\n",
    "\n",
    "    "
   ]
  },
  {
   "cell_type": "code",
   "execution_count": 8,
   "metadata": {},
   "outputs": [],
   "source": [
    "intergrated_detail_dfs = pd.concat(detail_dfs)\n",
    "intergrated_id_dfs = pd.DataFrame(columns=['id'])\n",
    "intergrated_id_dfs['id'] = id_dfs\n",
    "intergrated_overall_dfs = pd.concat(overall_dfs)\n",
    "intergrated_rating_dfs = pd.concat(rating_dfs)"
   ]
  },
  {
   "cell_type": "code",
   "execution_count": 9,
   "metadata": {},
   "outputs": [],
   "source": [
    "intergrated_detail_dfs.to_csv(item_detail_list_out_path, sep=',', encoding='utf-8', index=False)\n",
    "intergrated_id_dfs.to_csv(item_id_list_out_path, sep=',', encoding='utf-8', index=False)\n",
    "intergrated_overall_dfs.to_csv(item_overall_list_out_path, sep=',', encoding='utf-8', index=False)\n",
    "intergrated_rating_dfs.to_csv(item_rating_list_out_path, sep=',', encoding='utf-8', index=False)"
   ]
  }
 ],
 "metadata": {
  "interpreter": {
   "hash": "ac59ebe37160ed0dfa835113d9b8498d9f09ceb179beaac4002f036b9467c963"
  },
  "kernelspec": {
   "display_name": "Python 3.9.7 64-bit",
   "language": "python",
   "name": "python3"
  },
  "language_info": {
   "codemirror_mode": {
    "name": "ipython",
    "version": 3
   },
   "file_extension": ".py",
   "mimetype": "text/x-python",
   "name": "python",
   "nbconvert_exporter": "python",
   "pygments_lexer": "ipython3",
   "version": "3.9.7"
  },
  "orig_nbformat": 4
 },
 "nbformat": 4,
 "nbformat_minor": 2
}
