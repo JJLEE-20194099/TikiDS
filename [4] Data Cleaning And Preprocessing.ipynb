{
 "cells": [
  {
   "cell_type": "code",
   "execution_count": 55,
   "metadata": {},
   "outputs": [],
   "source": [
    "import pandas as pd\n",
    "import os\n",
    "import numpy as np\n",
    "from tqdm import tqdm\n",
    "import string"
   ]
  },
  {
   "cell_type": "code",
   "execution_count": 56,
   "metadata": {},
   "outputs": [],
   "source": [
    "item_detail_list_input_path = './data/intergrated_data/item/detail_list.csv'\n",
    "item_id_list_input_path = './data/intergrated_data/item/id_list.csv'\n",
    "item_overall_list_input_path = './data/intergrated_data/item/overall_list.csv'\n",
    "item_rating_list_input_path = './data/intergrated_data/rating/rating_list.csv'"
   ]
  },
  {
   "cell_type": "code",
   "execution_count": 57,
   "metadata": {},
   "outputs": [],
   "source": [
    "if not os.path.exists('./data/datasets'):\n",
    "    os.makedirs('./data/datasets')\n"
   ]
  },
  {
   "cell_type": "code",
   "execution_count": 58,
   "metadata": {},
   "outputs": [],
   "source": [
    "item_detail_list_out_path = \"./data/datasets/item_{}/detail_list.csv\"\n",
    "item_id_list_out_path = \"./data/datasets/item_{}/id_list.csv\"\n",
    "item_overall_list_out_path = \"./data/datasets/item_{}/overall_list.csv\"\n",
    "item_rating_list_out_path = \"./data/datasets/rating_{}/rating_list.csv\""
   ]
  },
  {
   "cell_type": "code",
   "execution_count": 59,
   "metadata": {},
   "outputs": [],
   "source": [
    "details = pd.read_csv(item_detail_list_input_path, sep=',', encoding='utf-8')\n",
    "ids = pd.read_csv(item_id_list_input_path, sep=',', encoding='utf-8')\n",
    "overalls = pd.read_csv(item_overall_list_input_path, sep=',', encoding='utf-8')\n",
    "ratings = pd.read_csv(item_rating_list_input_path, sep=',', encoding='utf-8')"
   ]
  },
  {
   "cell_type": "code",
   "execution_count": 60,
   "metadata": {},
   "outputs": [],
   "source": [
    "details.drop_duplicates(keep='first', inplace=True)"
   ]
  },
  {
   "cell_type": "code",
   "execution_count": 61,
   "metadata": {},
   "outputs": [],
   "source": [
    "details = details[details['price'] >= 0]"
   ]
  },
  {
   "cell_type": "code",
   "execution_count": 62,
   "metadata": {},
   "outputs": [],
   "source": [
    "details = details[details['image_url'] != -1]"
   ]
  },
  {
   "cell_type": "code",
   "execution_count": 63,
   "metadata": {},
   "outputs": [],
   "source": [
    "def format_cate(str):\n",
    "    str = str.lower()\n",
    "    str = str.strip()\n",
    "    return str"
   ]
  },
  {
   "cell_type": "code",
   "execution_count": 64,
   "metadata": {},
   "outputs": [],
   "source": [
    "details['category'] = details['category'].apply(format_cate)"
   ]
  },
  {
   "cell_type": "code",
   "execution_count": 65,
   "metadata": {},
   "outputs": [],
   "source": [
    "genres = set()\n",
    "for i in details['category']:\n",
    "    genre_group = i.split(\"/\")\n",
    "    for genre in genre_group:\n",
    "        genres.add(genre)"
   ]
  },
  {
   "cell_type": "code",
   "execution_count": 66,
   "metadata": {},
   "outputs": [],
   "source": [
    "cates = pd.DataFrame(columns=['id', 'category'])\n",
    "cates['id'] = np.arange(len(genres)).tolist()\n",
    "cates['category'] = list(genres)\n",
    "cates.to_csv('./data/datasets/categories.csv', sep=',', encoding='utf-8', index=False)"
   ]
  },
  {
   "cell_type": "code",
   "execution_count": 67,
   "metadata": {},
   "outputs": [
    {
     "name": "stderr",
     "output_type": "stream",
     "text": [
      "C:\\Users\\Pc\\AppData\\Local\\Temp/ipykernel_13316/1343345615.py:3: PerformanceWarning: DataFrame is highly fragmented.  This is usually the result of calling `frame.insert` many times, which has poor performance.  Consider joining all columns at once using pd.concat(axis=1) instead.  To get a de-fragmented frame, use `newframe = frame.copy()`\n",
      "  details[genre] = np.zeros(len(details))\n"
     ]
    }
   ],
   "source": [
    "genres = list(genres)\n",
    "for genre in genres:\n",
    "    details[genre] = np.zeros(len(details))\n",
    "\n",
    "for i in range(len(details)):\n",
    "    genre_group = details.iloc[i]['category']\n",
    "    for genre in genre_group.split(\"/\"):\n",
    "        details.at[i, genre] = 1"
   ]
  },
  {
   "cell_type": "code",
   "execution_count": 68,
   "metadata": {},
   "outputs": [],
   "source": [
    "ids.drop_duplicates(keep='first', inplace=True)"
   ]
  },
  {
   "cell_type": "code",
   "execution_count": 69,
   "metadata": {},
   "outputs": [],
   "source": [
    "overalls.dropna(inplace=True)"
   ]
  },
  {
   "cell_type": "code",
   "execution_count": 70,
   "metadata": {},
   "outputs": [],
   "source": [
    "overalls.drop_duplicates(keep='first', inplace=True)"
   ]
  },
  {
   "cell_type": "code",
   "execution_count": 71,
   "metadata": {},
   "outputs": [],
   "source": [
    "overalls = overalls[overalls['avg_rating'] >= 0]\n",
    "overalls = overalls[overalls['n_reviews'] >= 0]"
   ]
  },
  {
   "cell_type": "code",
   "execution_count": 72,
   "metadata": {},
   "outputs": [
    {
     "name": "stdout",
     "output_type": "stream",
     "text": [
      "<class 'pandas.core.frame.DataFrame'>\n",
      "RangeIndex: 875864 entries, 0 to 875863\n",
      "Data columns (total 5 columns):\n",
      " #   Column     Non-Null Count   Dtype \n",
      "---  ------     --------------   ----- \n",
      " 0   user_id    875864 non-null  int64 \n",
      " 1   item_id    875864 non-null  int64 \n",
      " 2   rating     875864 non-null  int64 \n",
      " 3   timestamp  875864 non-null  int64 \n",
      " 4   comment    564395 non-null  object\n",
      "dtypes: int64(4), object(1)\n",
      "memory usage: 33.4+ MB\n"
     ]
    }
   ],
   "source": [
    "ratings.info()"
   ]
  },
  {
   "cell_type": "code",
   "execution_count": 73,
   "metadata": {},
   "outputs": [],
   "source": [
    "ratings.drop_duplicates(subset=['user_id', 'item_id'], keep='first', inplace=True)"
   ]
  },
  {
   "cell_type": "code",
   "execution_count": 74,
   "metadata": {},
   "outputs": [],
   "source": [
    "def scale_rating(x):\n",
    "    if (x <= 2):\n",
    "        return 1\n",
    "    if (x == 3):\n",
    "        return 2\n",
    "    elif (x == 4):\n",
    "        return 3\n",
    "    else:\n",
    "        return 4"
   ]
  },
  {
   "cell_type": "code",
   "execution_count": 75,
   "metadata": {},
   "outputs": [],
   "source": [
    "ratings['rating'] = ratings['rating'].apply(scale_rating)"
   ]
  },
  {
   "cell_type": "code",
   "execution_count": 76,
   "metadata": {},
   "outputs": [
    {
     "name": "stdout",
     "output_type": "stream",
     "text": [
      "79916\n",
      "46795\n",
      "125445\n",
      "605035\n"
     ]
    }
   ],
   "source": [
    "print(len(ratings[ratings['rating'] == 1]))\n",
    "print(len(ratings[ratings['rating'] == 2]))\n",
    "print(len(ratings[ratings['rating'] == 3]))\n",
    "print(len(ratings[ratings['rating'] == 4]))"
   ]
  },
  {
   "cell_type": "code",
   "execution_count": 77,
   "metadata": {},
   "outputs": [],
   "source": [
    "ratings = pd.concat([ratings[ratings['rating'] == 1], ratings[ratings['rating'] == 2], ratings[ratings['rating'] == 3], ratings[ratings['rating'] == 4][:125000]])"
   ]
  },
  {
   "cell_type": "code",
   "execution_count": 78,
   "metadata": {},
   "outputs": [],
   "source": [
    "user_id_arr = np.array(ratings['user_id'].value_counts().tolist()) "
   ]
  },
  {
   "cell_type": "code",
   "execution_count": 79,
   "metadata": {},
   "outputs": [
    {
     "data": {
      "text/plain": [
       "922"
      ]
     },
     "execution_count": 79,
     "metadata": {},
     "output_type": "execute_result"
    }
   ],
   "source": [
    "len(np.where(user_id_arr >= 10)[0])"
   ]
  },
  {
   "cell_type": "code",
   "execution_count": 80,
   "metadata": {},
   "outputs": [
    {
     "name": "stderr",
     "output_type": "stream",
     "text": [
      "  0%|          | 0/2 [00:00<?, ?it/s]"
     ]
    },
    {
     "name": "stdout",
     "output_type": "stream",
     "text": [
      "266782\n",
      "16928\n"
     ]
    },
    {
     "name": "stderr",
     "output_type": "stream",
     "text": [
      " 50%|█████     | 1/2 [00:50<00:50, 50.61s/it]"
     ]
    },
    {
     "name": "stdout",
     "output_type": "stream",
     "text": [
      "922\n",
      "4940\n"
     ]
    },
    {
     "name": "stderr",
     "output_type": "stream",
     "text": [
      "100%|██████████| 2/2 [01:01<00:00, 30.59s/it]\n"
     ]
    }
   ],
   "source": [
    "for threshold in tqdm([0, 10]):\n",
    "    user_id_arr_ = np.array(ratings['user_id'].value_counts().index.tolist())[np.where(user_id_arr >= threshold)[0]]\n",
    "    user_id_df = pd.DataFrame(columns=['user_id'])\n",
    "    user_id_df['user_id'] = user_id_arr_.tolist()\n",
    "    print(len(user_id_df))\n",
    "    ratings_eliminate_user = pd.merge(ratings, user_id_df, how='inner', on='user_id')\n",
    "    item_ids_in_detail_set = set(details['id'].unique())\n",
    "    item_ids_in_overall_set = set(overalls['id'].unique())\n",
    "    item_ids_in_id_set = set(ids['id'].unique())\n",
    "    item_ids_in_rating_set = set(ratings_eliminate_user['item_id'].unique())\n",
    "    intersec_item_ids = item_ids_in_detail_set.intersection(item_ids_in_overall_set).intersection(item_ids_in_id_set).intersection(item_ids_in_rating_set)\n",
    "    item_index_df = pd.DataFrame(columns=['item_id', 'item index'])\n",
    "    item_index_df['item_id'] = list(intersec_item_ids)\n",
    "    item_index_df['item index'] = np.arange(len(intersec_item_ids)).tolist()\n",
    "    print(len(item_index_df))\n",
    "    details_convert_item_id = pd.merge(details, item_index_df, how='inner', left_on='id', right_on='item_id')\n",
    "    details_convert_item_id = details_convert_item_id.drop(columns=['item_id'])\n",
    "\n",
    "    overalls_convert_item_id = pd.merge(overalls, item_index_df, how='inner', left_on='id', right_on='item_id')\n",
    "    overalls_convert_item_id = overalls_convert_item_id.drop(columns=['item_id'])\n",
    "\n",
    "    ratings_convert_item_id = pd.merge(ratings_eliminate_user, item_index_df, how='inner', left_on='item_id', right_on='item_id')\n",
    "\n",
    "    ids_convert_item_id = pd.merge(ids, item_index_df, how='inner', left_on='id', right_on='item_id')\n",
    "    ids_convert_item_id = ids_convert_item_id.drop(columns=['item_id'])\n",
    "    \n",
    "    user_index_df = pd.DataFrame(columns=['user_id', 'user index'])\n",
    "    user_index_df['user_id'] = ratings_convert_item_id['user_id'].value_counts().index.tolist()\n",
    "    user_index_df['user index'] = np.arange(len(ratings_convert_item_id['user_id'].value_counts().tolist())).tolist()\n",
    "\n",
    "    ratings_convert_user_id = pd.merge(ratings_convert_item_id, user_index_df, how='inner', on='user_id')\n",
    "\n",
    "    if not os.path.exists('./data/datasets/item_{}'.format(threshold)):\n",
    "        os.makedirs('./data/datasets/item_{}'.format(threshold))\n",
    "    \n",
    "    if not os.path.exists('./data/datasets/rating_{}'.format(threshold)):\n",
    "        os.makedirs('./data/datasets/rating_{}'.format(threshold))\n",
    "    \n",
    "    ratings_convert_user_id.to_csv(item_rating_list_out_path.format(threshold), sep=',', encoding='utf-8', index=False)\n",
    "    details_convert_item_id.to_csv(item_detail_list_out_path.format(threshold), sep=',', encoding='utf-8', index=False)\n",
    "    ids_convert_item_id.to_csv(item_id_list_out_path.format(threshold), sep=',', encoding='utf-8', index=False)\n",
    "    overalls_convert_item_id.to_csv(item_overall_list_out_path.format(threshold), sep=',', encoding='utf-8', index=False)\n"
   ]
  }
 ],
 "metadata": {
  "interpreter": {
   "hash": "ac59ebe37160ed0dfa835113d9b8498d9f09ceb179beaac4002f036b9467c963"
  },
  "kernelspec": {
   "display_name": "Python 3.9.7 64-bit",
   "language": "python",
   "name": "python3"
  },
  "language_info": {
   "codemirror_mode": {
    "name": "ipython",
    "version": 3
   },
   "file_extension": ".py",
   "mimetype": "text/x-python",
   "name": "python",
   "nbconvert_exporter": "python",
   "pygments_lexer": "ipython3",
   "version": "3.9.7"
  },
  "orig_nbformat": 4
 },
 "nbformat": 4,
 "nbformat_minor": 2
}
